{
 "cells": [
  {
   "cell_type": "markdown",
   "metadata": {
    "id": "C5N8uXaLdary"
   },
   "source": [
    "# Tutorial 7 - Linear Regression using scikit-learn\n",
    "\n",
    "*Written and revised by Jozsef Arato, Mengfan Zhang, Dominik Pegler*  \n",
    "Computational Cognition Course, University of Vienna  \n",
    "https://github.com/univiemops/tewa1-computational-cognition\n",
    "\n",
    "---\n",
    "**This tutorial will cover:**\n",
    "\n",
    "- fitting linear regression models\n",
    "\n",
    "- checking coefficients of fitted models\n",
    "\n",
    "- checking quality of model fit  \n",
    "\n",
    "---"
   ]
  },
  {
   "cell_type": "markdown",
   "metadata": {
    "id": "orxKXnQAKV27"
   },
   "source": [
    "## Import libraries"
   ]
  },
  {
   "cell_type": "code",
   "execution_count": null,
   "metadata": {
    "id": "7RCNIZnvLStX"
   },
   "outputs": [],
   "source": [
    "import numpy as np\n",
    "import pandas as pd\n",
    "from matplotlib import pyplot as plt\n",
    "from scipy import linalg, stats"
   ]
  },
  {
   "cell_type": "raw",
   "metadata": {
    "colab": {
     "base_uri": "https://localhost:8080/",
     "height": 73
    },
    "id": "gm4YJjs7Hlia",
    "outputId": "907f3e94-2d34-4072-9216-26f01253c7eb"
   },
   "source": [
    "from google.colab import files\n",
    "\n",
    "uploaded = files.upload()"
   ]
  },
  {
   "cell_type": "markdown",
   "metadata": {
    "id": "nuOmPYdBYz86"
   },
   "source": [
    "## Import data"
   ]
  },
  {
   "cell_type": "code",
   "execution_count": null,
   "metadata": {
    "id": "2M6ep27rLk-z"
   },
   "outputs": [],
   "source": [
    "data = pd.read_csv(\"Real estate.csv\")"
   ]
  },
  {
   "cell_type": "markdown",
   "metadata": {
    "id": "yduEsLFnTcP8"
   },
   "source": [
    "Data Set Information:\n",
    "\n",
    "The market historical data set of real estate valuation are collected from Sindian Dist., New Taipei City, Taiwan.\n",
    "\n",
    "Attribute Information:\n",
    "\n",
    "The inputs are as follows\n",
    "\n",
    "X1=the transaction date (for example, 2013.250=2013 March, 2013.500=2013 June, etc.)\n",
    "\n",
    "X2=the house age (unit: year)\n",
    "\n",
    "X3=the distance to the nearest MRT station (unit: meter)\n",
    "\n",
    "X4=the number of convenience stores in the living circle on foot (integer)\n",
    "\n",
    "X5=the geographic coordinate, latitude. (unit: degree)\n",
    "\n",
    "X6=the geographic coordinate, longitude. (unit: degree)\n",
    "\n",
    "The output is as follow\n",
    "\n",
    "Y= house price of unit area (10000 New Taiwan Dollar/Ping, where Ping is a local unit, 1 Ping = 3.3 meter squared)\n",
    "\n"
   ]
  },
  {
   "cell_type": "code",
   "execution_count": null,
   "metadata": {
    "colab": {
     "base_uri": "https://localhost:8080/",
     "height": 485
    },
    "id": "i1yfiukgKhjY",
    "outputId": "339a7bcd-a84b-4553-94d6-060e8d5a792f"
   },
   "outputs": [],
   "source": [
    "data"
   ]
  },
  {
   "cell_type": "markdown",
   "metadata": {
    "id": "uj8QJ96FKdnN"
   },
   "source": [
    "data-set size"
   ]
  },
  {
   "cell_type": "code",
   "execution_count": null,
   "metadata": {
    "colab": {
     "base_uri": "https://localhost:8080/"
    },
    "id": "kB8gD1tlLqzh",
    "outputId": "d52a9318-f023-4f79-875f-47009f3399d0"
   },
   "outputs": [],
   "source": [
    "np.shape(data)"
   ]
  },
  {
   "cell_type": "code",
   "execution_count": null,
   "metadata": {
    "colab": {
     "base_uri": "https://localhost:8080/"
    },
    "id": "jWWgiJQgjBal",
    "outputId": "e9ec4caf-f350-45c5-b0a7-3876701f6db5"
   },
   "outputs": [],
   "source": [
    "data[\"Y house price of unit area\"]"
   ]
  },
  {
   "cell_type": "code",
   "execution_count": null,
   "metadata": {
    "colab": {
     "base_uri": "https://localhost:8080/"
    },
    "id": "BhVCKgYdW-e8",
    "outputId": "12e1e6e8-f64f-49ae-e409-3c42a54cda00"
   },
   "outputs": [],
   "source": [
    "data[\"Y house price of unit area\"].to_numpy()"
   ]
  },
  {
   "cell_type": "code",
   "execution_count": null,
   "metadata": {
    "colab": {
     "base_uri": "https://localhost:8080/"
    },
    "id": "qTSCQGFaW1dS",
    "outputId": "6af22ac8-d721-44cb-e4c2-eb870387c32d"
   },
   "outputs": [],
   "source": [
    "data[\"Y house price of unit area\"][3:]"
   ]
  },
  {
   "cell_type": "code",
   "execution_count": null,
   "metadata": {
    "colab": {
     "base_uri": "https://localhost:8080/"
    },
    "id": "j7rx5JmWNCh9",
    "outputId": "2378f5e5-d6ca-436c-e569-57962f68b971"
   },
   "outputs": [],
   "source": [
    "list(data)"
   ]
  },
  {
   "cell_type": "code",
   "execution_count": null,
   "metadata": {
    "colab": {
     "base_uri": "https://localhost:8080/"
    },
    "id": "uyZ6Jv09NYo-",
    "outputId": "7808fec1-82dd-4925-e801-b8e5d4d828e4"
   },
   "outputs": [],
   "source": [
    "vars = list(data)\n",
    "print(vars)"
   ]
  },
  {
   "cell_type": "code",
   "execution_count": null,
   "metadata": {
    "colab": {
     "base_uri": "https://localhost:8080/"
    },
    "id": "TsuCbhUuXp7N",
    "outputId": "3c168234-c9e3-4c91-f124-308ae7fa81a7"
   },
   "outputs": [],
   "source": [
    "print(data.iloc[0:3, 5:7])"
   ]
  },
  {
   "cell_type": "markdown",
   "metadata": {
    "id": "cV8tCrMMox_3"
   },
   "source": [
    "different ways of accessing a column from a dataframe"
   ]
  },
  {
   "cell_type": "code",
   "execution_count": null,
   "metadata": {
    "colab": {
     "base_uri": "https://localhost:8080/"
    },
    "id": "ei5QSh46SLWv",
    "outputId": "61a9ae7f-6e95-4212-986d-d287fd59978b"
   },
   "outputs": [],
   "source": [
    "print(data.iloc[0:3, 7])\n",
    "print(data[vars[7]][0:3])\n",
    "print(data[\"Y house price of unit area\"][0:3])"
   ]
  },
  {
   "cell_type": "markdown",
   "metadata": {
    "id": "h1XjInu5KzUh"
   },
   "source": [
    "## Explorative data visualization\n",
    "visualize the data with scatter plots (for the X1-X6 predictors separately)"
   ]
  },
  {
   "cell_type": "code",
   "execution_count": null,
   "metadata": {
    "colab": {
     "base_uri": "https://localhost:8080/",
     "height": 410
    },
    "id": "NK0BxAJCSWGM",
    "outputId": "d4ed48bf-ee45-4728-f95c-3352352d22e3"
   },
   "outputs": [],
   "source": [
    "plt.figure(figsize=(9, 4))\n",
    "for c, v in enumerate(vars[1:7]):\n",
    "    plt.subplot(2, 3, c + 1)\n",
    "    plt.scatter(data[v], data[vars[7]])\n",
    "    plt.xlabel(v)\n",
    "    plt.ylabel(vars[7])\n",
    "plt.tight_layout()"
   ]
  },
  {
   "cell_type": "markdown",
   "metadata": {
    "id": "S0nDPDZDpQeS"
   },
   "source": [
    "## Correlation between predictors\n",
    "stats.pearsonr\n",
    "\n",
    "to calculate pearsonr correlation between each pair of predictors\n",
    "\n"
   ]
  },
  {
   "cell_type": "code",
   "execution_count": null,
   "metadata": {
    "id": "iRFEY8I0pThq"
   },
   "outputs": [],
   "source": [
    "n = len(vars) - 1\n",
    "corrs = np.zeros((n, n))\n",
    "for cv1, v1 in enumerate(vars[1:]):\n",
    "    for cv2, v2 in enumerate(vars[1:]):\n",
    "        corrs[cv1, cv2] = stats.pearsonr(data[v1], data[v2])[0]"
   ]
  },
  {
   "cell_type": "code",
   "execution_count": null,
   "metadata": {
    "colab": {
     "base_uri": "https://localhost:8080/",
     "height": 462
    },
    "id": "ktpq12NGaxIi",
    "outputId": "ad5ab6f6-200b-49d7-d008-d0b37e95254b"
   },
   "outputs": [],
   "source": [
    "plt.pcolor(corrs)\n",
    "plt.xticks(np.arange(n) + 0.5, vars[1:], rotation=70)\n",
    "plt.yticks(np.arange(n) + 0.5, vars[1:])\n",
    "plt.colorbar()"
   ]
  },
  {
   "cell_type": "code",
   "execution_count": null,
   "metadata": {
    "colab": {
     "base_uri": "https://localhost:8080/",
     "height": 400
    },
    "id": "rJmVuDgpcdpj",
    "outputId": "5851b400-7495-4b82-d15e-03c3634a91b3"
   },
   "outputs": [],
   "source": [
    "data.iloc[:, 1:].corr()"
   ]
  },
  {
   "cell_type": "code",
   "execution_count": null,
   "metadata": {
    "colab": {
     "base_uri": "https://localhost:8080/",
     "height": 483
    },
    "id": "NSdg0ZKKdvbS",
    "outputId": "635aa57f-2618-401c-ec2b-e6f14544ae7a"
   },
   "outputs": [],
   "source": [
    "data.corr()"
   ]
  },
  {
   "cell_type": "code",
   "execution_count": null,
   "metadata": {
    "colab": {
     "base_uri": "https://localhost:8080/",
     "height": 714
    },
    "id": "uKab3s7ocn5Q",
    "outputId": "d96e8e5a-908f-440b-8a2c-517eac3231d1"
   },
   "outputs": [],
   "source": [
    "plt.pcolor(data.iloc[:, 1:].corr())\n",
    "plt.figure()\n",
    "plt.pcolor(corrs)\n",
    "plt.xticks(np.arange(n) + 0.5, vars[1:], rotation=70)\n",
    "plt.yticks(np.arange(n) + 0.5, vars[1:])\n",
    "plt.colorbar()"
   ]
  },
  {
   "cell_type": "markdown",
   "metadata": {
    "id": "KuK97ytCp_cG"
   },
   "source": [
    "## Linear regression with a single predictor\n",
    "using the sklearn library\n",
    "\n",
    "now we use only one predictor, that is house age, to predict aparment price\n"
   ]
  },
  {
   "cell_type": "code",
   "execution_count": null,
   "metadata": {
    "id": "TCqv6RRGqGAq"
   },
   "outputs": [],
   "source": [
    "from sklearn.linear_model import LinearRegression"
   ]
  },
  {
   "cell_type": "markdown",
   "metadata": {
    "id": "GxsIZSinqK-j"
   },
   "source": [
    "sklearn uses an \"object oriented\" programming style\n",
    "\n",
    "that is a slightly different syntax form numpy,matplotlib\n",
    "\n",
    "(but somewhat similar to pandas, a pandas dataframe is an object)"
   ]
  },
  {
   "cell_type": "code",
   "execution_count": null,
   "metadata": {
    "colab": {
     "base_uri": "https://localhost:8080/"
    },
    "id": "oIsUvmIYqKfD",
    "outputId": "1e870c46-02a3-475e-b6de-4ebe71ca238d"
   },
   "outputs": [],
   "source": [
    "lr = linear_regression()  # we create a linear regression object"
   ]
  },
  {
   "cell_type": "code",
   "execution_count": null,
   "metadata": {
    "colab": {
     "base_uri": "https://localhost:8080/"
    },
    "id": "AGgJ-Kl6jMZZ",
    "outputId": "3a26d3e8-490c-42d5-cc82-eba1aedb61a9"
   },
   "outputs": [],
   "source": [
    "lr.fit(x, y)"
   ]
  },
  {
   "cell_type": "code",
   "execution_count": null,
   "metadata": {
    "colab": {
     "base_uri": "https://localhost:8080/"
    },
    "id": "ku2SGuxpi6FC",
    "outputId": "4515942a-829c-4e49-d7f2-ee34e5895baa"
   },
   "outputs": [],
   "source": [
    "type(lr)"
   ]
  },
  {
   "cell_type": "code",
   "execution_count": null,
   "metadata": {
    "colab": {
     "base_uri": "https://localhost:8080/"
    },
    "id": "auQXYYSqjjYo",
    "outputId": "c458c772-e138-4e47-ccb0-fd195b85f267"
   },
   "outputs": [],
   "source": [
    "lr.fit(data[vars[2:4]], data[vars[7]])"
   ]
  },
  {
   "cell_type": "code",
   "execution_count": null,
   "metadata": {
    "colab": {
     "base_uri": "https://localhost:8080/"
    },
    "id": "lTbniWXIjxdA",
    "outputId": "9b078576-1b47-4c1f-da1b-9634bac08b50"
   },
   "outputs": [],
   "source": [
    "vars[2:4]"
   ]
  },
  {
   "cell_type": "markdown",
   "metadata": {
    "id": "tMnfA_5bq4xs"
   },
   "source": [
    "fitting the regression model"
   ]
  },
  {
   "cell_type": "code",
   "execution_count": null,
   "metadata": {
    "colab": {
     "base_uri": "https://localhost:8080/"
    },
    "id": "P51mDA_oq6rF",
    "outputId": "eedec6af-1b7b-4f4d-81c9-e150d498eb9e"
   },
   "outputs": [],
   "source": [
    "x = data[vars[2]].to_numpy()\n",
    "print(np.shape(x))\n",
    "x = x.reshape(-1, 1)\n",
    "print(np.shape(x))\n",
    "y = data[vars[7]]\n",
    "lr.fit(x, y)"
   ]
  },
  {
   "cell_type": "markdown",
   "metadata": {
    "id": "TlMFt_w4q7Dv"
   },
   "source": [
    "check fitted parameters intercept and coefs"
   ]
  },
  {
   "cell_type": "code",
   "execution_count": null,
   "metadata": {
    "colab": {
     "base_uri": "https://localhost:8080/"
    },
    "id": "9JfYr31Aq9Xv",
    "outputId": "3805ae37-e00d-40ea-cad7-a571a40677de"
   },
   "outputs": [],
   "source": [
    "lr.intercept_"
   ]
  },
  {
   "cell_type": "code",
   "execution_count": null,
   "metadata": {
    "colab": {
     "base_uri": "https://localhost:8080/"
    },
    "id": "6C-m3_3Up01o",
    "outputId": "c4eeeea7-852c-4e5d-db6d-b9499e9e5435"
   },
   "outputs": [],
   "source": [
    "lr.coef_"
   ]
  },
  {
   "cell_type": "code",
   "execution_count": null,
   "metadata": {
    "colab": {
     "base_uri": "https://localhost:8080/"
    },
    "id": "OXWFIrZZwGmU",
    "outputId": "92bcfbbe-0ae1-44e9-b570-665163d092ae"
   },
   "outputs": [],
   "source": [
    "-2.54477973e-01"
   ]
  },
  {
   "cell_type": "markdown",
   "metadata": {
    "id": "HoYJeBe9rKjC"
   },
   "source": [
    "score-- coefficient of determination\n"
   ]
  },
  {
   "cell_type": "code",
   "execution_count": null,
   "metadata": {
    "colab": {
     "base_uri": "https://localhost:8080/"
    },
    "id": "RQUnPWyyrOtG",
    "outputId": "acda671a-30a8-448b-beaf-a87bb954eca9"
   },
   "outputs": [],
   "source": [
    "lr.score(data[vars[2:4]], data[vars[7]])"
   ]
  },
  {
   "cell_type": "code",
   "execution_count": null,
   "metadata": {
    "id": "p87cDeoakWfK"
   },
   "outputs": [],
   "source": [
    "# lr.predict(Data[Vars[2:4]])"
   ]
  },
  {
   "cell_type": "markdown",
   "metadata": {
    "id": "eEoPYCTOsWJN"
   },
   "source": [
    "prediction of the regression model:\n",
    "1. use the built in LinearRegression.predict() method\n",
    "2. calculate the prediction, using the intercept and the slope(coef_)\n",
    "3. compare the predictions achieved the two ways"
   ]
  },
  {
   "cell_type": "code",
   "execution_count": null,
   "metadata": {
    "colab": {
     "base_uri": "https://localhost:8080/"
    },
    "id": "8qWE0Rr_sYXE",
    "outputId": "dcb1e4b3-d30f-4257-c452-74b9a99fca4a"
   },
   "outputs": [],
   "source": [
    "preds = lr.predict(x)\n",
    "print(preds[0:5])\n",
    "preds2 = lr.intercept_ + lr.coef_ * x\n",
    "print(preds2[0:5])"
   ]
  },
  {
   "cell_type": "markdown",
   "metadata": {
    "id": "xFT9eswOrwLU"
   },
   "source": [
    "visualize prediction using matplotlib"
   ]
  },
  {
   "cell_type": "code",
   "execution_count": null,
   "metadata": {
    "colab": {
     "base_uri": "https://localhost:8080/",
     "height": 296
    },
    "id": "1oZPxAGXr1n4",
    "outputId": "f2d240e3-f769-4826-a6e0-1db100f84f69"
   },
   "outputs": [],
   "source": [
    "plt.scatter(x, y)\n",
    "plt.plot(x, preds2, color=\"r\")\n",
    "plt.xlabel(vars[2])\n",
    "plt.ylabel(vars[7])"
   ]
  },
  {
   "cell_type": "markdown",
   "metadata": {
    "id": "V6SXo619Nn-N"
   },
   "source": [
    "## Multiple linear regression\n",
    "\n",
    "now let's use the four measurements X1-X4 in a combined model\n",
    "\n",
    "for this we make a combined predictor matrix from our original dataframe, containig only the predictors we want to use:"
   ]
  },
  {
   "cell_type": "code",
   "execution_count": null,
   "metadata": {
    "colab": {
     "base_uri": "https://localhost:8080/"
    },
    "id": "jQ_av7DzT_xp",
    "outputId": "5d3eaef8-cd4d-48c0-da9f-0ff68eb6725b"
   },
   "outputs": [],
   "source": [
    "print(vars[1:5])\n",
    "x = data[vars[1:5]]\n",
    "print(type(x))\n",
    "\n",
    "y = data[vars[7]]"
   ]
  },
  {
   "cell_type": "markdown",
   "metadata": {
    "id": "S5eVbOpl86KP"
   },
   "source": [
    "fit multiple linear regression"
   ]
  },
  {
   "cell_type": "code",
   "execution_count": null,
   "metadata": {
    "id": "oiN1djZe85WF"
   },
   "outputs": [],
   "source": [
    "lr2 = linear_regression()"
   ]
  },
  {
   "cell_type": "code",
   "execution_count": null,
   "metadata": {
    "colab": {
     "base_uri": "https://localhost:8080/"
    },
    "id": "-7hNoiy2u9oV",
    "outputId": "53aca782-36ad-488f-ebcd-b48ee1ee9226"
   },
   "outputs": [],
   "source": [
    "lr2.fit(x, y)"
   ]
  },
  {
   "cell_type": "code",
   "execution_count": null,
   "metadata": {
    "colab": {
     "base_uri": "https://localhost:8080/"
    },
    "id": "1Uo-01_8vc0N",
    "outputId": "27a141bf-c2e7-48ae-b036-f62f75ac812e"
   },
   "outputs": [],
   "source": [
    "lr2.coef_"
   ]
  },
  {
   "cell_type": "markdown",
   "metadata": {
    "id": "zrqtLgDM8-6I"
   },
   "source": [
    "observe fitted parameters and goodness of fit\n",
    "\n",
    "compare to invidual model above"
   ]
  },
  {
   "cell_type": "code",
   "execution_count": null,
   "metadata": {
    "colab": {
     "base_uri": "https://localhost:8080/"
    },
    "id": "QBU6wPID9CPs",
    "outputId": "55a0323c-36de-4e04-f147-d72de9f8415a"
   },
   "outputs": [],
   "source": [
    "lr2.score(x, y)"
   ]
  },
  {
   "cell_type": "markdown",
   "metadata": {
    "id": "wTj0bTfi9UJ3"
   },
   "source": []
  },
  {
   "cell_type": "markdown",
   "metadata": {
    "id": "V4ioj8gpq9sL"
   },
   "source": [
    "# comparison to scipy.linalg.lstsq\n",
    "\n",
    "fit intercept parameter vs column of ones in design matrix"
   ]
  },
  {
   "cell_type": "markdown",
   "metadata": {
    "id": "wPR3uTbHSRh0"
   },
   "source": [
    "and use lstsq to fit a regression model"
   ]
  },
  {
   "cell_type": "code",
   "execution_count": null,
   "metadata": {
    "colab": {
     "base_uri": "https://localhost:8080/"
    },
    "id": "nZxjD0qnTCHW",
    "outputId": "86e2c852-dd73-4bd0-f990-23ec7f40d53c"
   },
   "outputs": [],
   "source": [
    "x = data[vars[1:5]].to_numpy()\n",
    "y = data[vars[7]].to_numpy()\n",
    "xx = np.column_stack((np.ones(len(y)), x))\n",
    "print(xx)"
   ]
  },
  {
   "cell_type": "code",
   "execution_count": null,
   "metadata": {
    "colab": {
     "base_uri": "https://localhost:8080/"
    },
    "id": "XrL2tse9w5Mw",
    "outputId": "86b60ad4-66a4-4afe-d898-23dc6e9aa980"
   },
   "outputs": [],
   "source": [
    "lr_int_1 = linear_regression(fit_intercept=False)\n",
    "lr_int_1.fit(xx, y)\n",
    "print(lr_int_1.coef_)\n",
    "print(lr_int_1.intercept_)"
   ]
  },
  {
   "cell_type": "code",
   "execution_count": null,
   "metadata": {
    "colab": {
     "base_uri": "https://localhost:8080/"
    },
    "id": "E0fjq_tivJaX",
    "outputId": "161239d4-4c63-4ae7-df0d-69638802d531"
   },
   "outputs": [],
   "source": [
    "-1.15887478e04"
   ]
  },
  {
   "cell_type": "code",
   "execution_count": null,
   "metadata": {
    "colab": {
     "base_uri": "https://localhost:8080/"
    },
    "id": "B8-mYmGxy7sZ",
    "outputId": "c78ff70e-54a4-43c3-fdc8-ca51ce78bbde"
   },
   "outputs": [],
   "source": [
    "lr_int_1 = linear_regression(fit_intercept=True)\n",
    "lr_int_1.fit(x, y)\n",
    "print(lr_int_1.coef_)\n",
    "print(lr_int_1.intercept_)"
   ]
  },
  {
   "cell_type": "code",
   "execution_count": null,
   "metadata": {
    "colab": {
     "base_uri": "https://localhost:8080/"
    },
    "id": "i4q6zMwqaF0E",
    "outputId": "a2e7a34d-312a-46ab-f957-1c99d358ea30"
   },
   "outputs": [],
   "source": [
    "linalg.lstsq(xx, y)[0]"
   ]
  },
  {
   "cell_type": "markdown",
   "metadata": {
    "id": "tAiw-W0i-SQj"
   },
   "source": [
    "##  feature selection\n",
    " 1. add predictors (features) one by one, use X1 only first, and add all predictors sequentially until X6, and plot the obtained score for each model (as a function of the number of predictors)\n",
    " 2. add predictors in a random order one-by-one, and plot the obtained score for each model\n",
    " 3. add predictors in the order of the absolute pearson correlation with the outcome variable Y (starting with the largest), and plot the obtained score"
   ]
  },
  {
   "cell_type": "code",
   "execution_count": null,
   "metadata": {
    "id": "ztpk1dOl1sKs"
   },
   "outputs": [],
   "source": []
  },
  {
   "cell_type": "code",
   "execution_count": null,
   "metadata": {
    "colab": {
     "base_uri": "https://localhost:8080/",
     "height": 688
    },
    "id": "OVSGSP51-fuV",
    "outputId": "d8c7836d-1989-450b-be96-3fa66494d5a3"
   },
   "outputs": [],
   "source": [
    "n_features = 6\n",
    "lr = linear_regression()\n",
    "y = data[vars[7]]\n",
    "for f in np.arange(1, n_features + 1):\n",
    "    print(vars[1 : 1 + f])\n",
    "    x = data[vars[1 : 1 + f]]\n",
    "    lr.fit(x, y)\n",
    "    score = lr.score(x, y)\n",
    "\n",
    "    print(score)\n",
    "    print(lr.coef_)\n",
    "    plt.scatter(f, score)\n",
    "plt.xlabel(\"num of features\", fontsize=16)\n",
    "plt.ylabel(\"score\", fontsize=16)\n",
    "plt.yticks(fontsize=13)"
   ]
  },
  {
   "cell_type": "markdown",
   "metadata": {
    "id": "rFTFbyrPYrD5"
   },
   "source": [
    "### homework\n",
    "## training and test set\n",
    "1. split that the X and Y data into 80% training and 20% test set\n",
    "\n",
    "Option 1: take the first 80% of data as training, rest as test), you can use indexing for this: eg: Data[0:int(len(Data)*.8)]selects the first 80% percent of a numpy array\n",
    "\n",
    "Option 2: randomly select 80% of the data as training, rest as test  (this is the better approach)\n",
    "\n",
    "!!! Try not to use the built in Train-Test Split function!\n",
    "\n",
    "2. fit the model to the training set, and calcualte the score both for the training and the test set\n",
    "\n",
    "3. combine with the previous excercize--try to find the best combination of parameters that best explain the test data..  (try different combinations of predictors, fit on the training data, calculate the score for both training and test).\n",
    "\n",
    "4. try to visualize, with a similar figure to Slide 7 of Lecture 4 (just with the score on the y-axis, instead of the error)\n",
    "\n"
   ]
  },
  {
   "cell_type": "code",
   "execution_count": null,
   "metadata": {
    "id": "jgq8yoCbY7h2"
   },
   "outputs": [],
   "source": []
  }
 ],
 "metadata": {
  "colab": {
   "provenance": []
  },
  "kernelspec": {
   "display_name": "Python 3 (ipykernel)",
   "language": "python",
   "name": "python3"
  },
  "language_info": {
   "codemirror_mode": {
    "name": "ipython",
    "version": 3
   },
   "file_extension": ".py",
   "mimetype": "text/x-python",
   "name": "python",
   "nbconvert_exporter": "python",
   "pygments_lexer": "ipython3",
   "version": "3.11.0"
  }
 },
 "nbformat": 4,
 "nbformat_minor": 4
}
