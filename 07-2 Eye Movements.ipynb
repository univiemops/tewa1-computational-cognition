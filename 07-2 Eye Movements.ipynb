{
 "cells": [
  {
   "cell_type": "markdown",
   "metadata": {
    "id": "C5N8uXaLdary"
   },
   "source": [
    "# Tutorial 07 - Working with eye tracking data\n",
    "\n",
    "*Written and revised by Jozsef Arato, Mengfan Zhang, Dominik Pegler*  \n",
    "Computational Cognition Course, University of Vienna  \n",
    "https://github.com/univiemops/tewa1-computational-cognition\n",
    "\n",
    "---\n",
    "**This tutorial will cover:**\n",
    "\n",
    "1. visualizing fixations.\n",
    "2. heatmap calculation and visualization\n",
    "3. scanpath visualization and descripitive statistics \n",
    "\n",
    "**Data and images from:**\n",
    "\n",
    "* _Wilming, N., Onat, S., Ossandón, J. P., Açık, A., Kietzmann, T. C., Kaspar, K., ... & König, P. (2017). An extensive dataset of eye movements during viewing of complex images. Scientific data, 4(1), 1-11._\n",
    "https://doi.org/10.1038/sdata.2016.126\n",
    "\n",
    "---"
   ]
  },
  {
   "cell_type": "markdown",
   "metadata": {},
   "source": [
    "<div class=\"alert alert-info\">Download the two images and the fixation data from moodle</div>"
   ]
  },
  {
   "cell_type": "code",
   "execution_count": null,
   "metadata": {
    "id": "2suKEDADe1OB"
   },
   "outputs": [],
   "source": [
    "import numpy as np\n",
    "import pandas as pd\n",
    "from google.colab import files\n",
    "from matplotlib import pyplot as plt\n",
    "from scipy import ndimage, special, stats"
   ]
  },
  {
   "cell_type": "markdown",
   "metadata": {
    "id": "pmQ-VvHPjSr7"
   },
   "source": [
    "upload the image files"
   ]
  },
  {
   "cell_type": "code",
   "execution_count": null,
   "metadata": {
    "colab": {
     "base_uri": "https://localhost:8080/",
     "height": 142
    },
    "id": "hjjzW8OpfApp",
    "outputId": "66c6c358-3126-403f-e251-0d920325a913"
   },
   "outputs": [],
   "source": [
    "uploaded = files.upload()"
   ]
  },
  {
   "cell_type": "markdown",
   "metadata": {
    "id": "Ehe4GjvMjXIo"
   },
   "source": [
    "upload fixation data"
   ]
  },
  {
   "cell_type": "code",
   "execution_count": null,
   "metadata": {
    "colab": {
     "base_uri": "https://localhost:8080/",
     "height": 73,
     "resources": {
      "http://localhost:8080/nbextensions/google.colab/files.js": {
       "data": "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",
       "headers": [
        [
         "content-type",
         "application/javascript"
        ]
       ],
       "ok": true,
       "status": 200,
       "status_text": ""
      }
     }
    },
    "id": "cUfxS57qhZNC",
    "outputId": "d50f4d1d-3404-4fdc-ae83-65ee7b574e23"
   },
   "outputs": [],
   "source": [
    "uploaded = files.upload()"
   ]
  },
  {
   "cell_type": "code",
   "execution_count": null,
   "metadata": {
    "id": "VPmW3ZUihn8H"
   },
   "outputs": [],
   "source": [
    "fix_dat_urban = pd.read_csv(\"fix_dat_urban.csv\")  # load data\n",
    "stim9 = plt.imread(\"9.png\")\n",
    "stim29 = plt.imread(\"29.png\")  # comment out the one that you are not using,"
   ]
  },
  {
   "cell_type": "code",
   "execution_count": null,
   "metadata": {
    "colab": {
     "base_uri": "https://localhost:8080/"
    },
    "id": "Pmeex0-kqFL8",
    "outputId": "6c4f93a5-1c1c-49f0-979f-95e8957bab02"
   },
   "outputs": [],
   "source": [
    "print(np.shape(fix_dat_urban))\n",
    "print(np.shape(stim9))"
   ]
  },
  {
   "cell_type": "markdown",
   "metadata": {
    "id": "KsCzFlcsplH6"
   },
   "source": [
    "\"observe\" the fixation data table...   \n",
    "\n",
    "the variables that we will need:\n",
    "\n",
    "\n",
    "*   mean_x and mean_y: location of fixations (pixel)\n",
    "\n",
    "*   SUBJECTINDEX:   different participants\n",
    "\n",
    "*   filenumber: stimuli\n",
    "\n",
    "\n",
    "\n"
   ]
  },
  {
   "cell_type": "code",
   "execution_count": null,
   "metadata": {
    "colab": {
     "base_uri": "https://localhost:8080/",
     "height": 505
    },
    "id": "7ZjW0fKtinzJ",
    "outputId": "1d538405-5299-4b55-9e37-3c3e99237a67"
   },
   "outputs": [],
   "source": [
    "fix_dat_urban"
   ]
  },
  {
   "cell_type": "markdown",
   "metadata": {
    "id": "XbPewKa9kHYg"
   },
   "source": [
    "## Age variable\n",
    "\n",
    "School children- students- elderly"
   ]
  },
  {
   "cell_type": "markdown",
   "metadata": {
    "colab": {
     "base_uri": "https://localhost:8080/"
    },
    "id": "jZJ75OHvj7hC",
    "outputId": "7de19040-dbc1-43b9-c6f9-17e099e99f2e",
    "tags": []
   },
   "source": [
    "# np.unique(fix_dat_urban[\"age\"])"
   ]
  },
  {
   "cell_type": "markdown",
   "metadata": {
    "id": "W-jB5cbALOXS"
   },
   "source": [
    "## Visualize images"
   ]
  },
  {
   "cell_type": "code",
   "execution_count": null,
   "metadata": {
    "colab": {
     "base_uri": "https://localhost:8080/",
     "height": 183
    },
    "id": "Ua0Is2vCh6hQ",
    "outputId": "6bd2326a-bdb0-4c3a-e7ce-43e60ebaaf89"
   },
   "outputs": [],
   "source": [
    "plt.figure()\n",
    "plt.subplot(1, 2, 1)\n",
    "plt.imshow(stim9)\n",
    "plt.subplot(1, 2, 2)\n",
    "plt.imshow(stim29)"
   ]
  },
  {
   "cell_type": "code",
   "execution_count": null,
   "metadata": {
    "colab": {
     "base_uri": "https://localhost:8080/"
    },
    "id": "G0a7M-KOAEid",
    "outputId": "6239a682-296e-4ccc-9884-60b249942951"
   },
   "outputs": [],
   "source": [
    "np.unique(fix_dat_urban[\"filenumber\"])"
   ]
  },
  {
   "cell_type": "code",
   "execution_count": null,
   "metadata": {
    "colab": {
     "base_uri": "https://localhost:8080/"
    },
    "id": "1HQ4dL9nw0H7",
    "outputId": "a5546f29-ee0e-432f-9121-9ed1edfbceb1"
   },
   "outputs": [],
   "source": [
    "len(np.unique(fix_dat_urban[\"filenumber\"]))"
   ]
  },
  {
   "cell_type": "markdown",
   "metadata": {
    "id": "1HNmR4-Yirxg"
   },
   "source": [
    "select fixation data corresponding to your image using the image number - that is the filenumber column"
   ]
  },
  {
   "cell_type": "code",
   "execution_count": null,
   "metadata": {
    "id": "GCiY4gTSivcv"
   },
   "outputs": [],
   "source": [
    "data9 = fix_dat_urban[fix_dat_urban[\"filenumber\"] == 9]\n",
    "data29 = fix_dat_urban[fix_dat_urban[\"filenumber\"] == 29]"
   ]
  },
  {
   "cell_type": "markdown",
   "metadata": {
    "id": "Ifo9m1Ovl5zv"
   },
   "source": [
    "Make 2 numpy arrays, containing the mean_x and mean_y\n",
    "values of the fixations (for one of the images)"
   ]
  },
  {
   "cell_type": "code",
   "execution_count": null,
   "metadata": {
    "colab": {
     "base_uri": "https://localhost:8080/"
    },
    "id": "2ZUSTnsTl8F1",
    "outputId": "34f6fea0-881d-4d36-e9c8-85048acdef96"
   },
   "outputs": [],
   "source": [
    "fix_x = np.array(data9[\"mean_x\"])\n",
    "fix_y = np.array(data9[\"mean_y\"])\n",
    "print(len(fix_x), len(fix_y))"
   ]
  },
  {
   "cell_type": "markdown",
   "metadata": {
    "id": "CpfvaPqo80ox"
   },
   "source": [
    "## Visualize\n",
    "\n",
    "\n",
    "Make a scatter plot of the fixations locations."
   ]
  },
  {
   "cell_type": "code",
   "execution_count": null,
   "metadata": {
    "colab": {
     "base_uri": "https://localhost:8080/",
     "height": 282
    },
    "id": "eroX8m13LoJV",
    "outputId": "946b8466-81f6-4df7-fe0c-b87cc62a1f00"
   },
   "outputs": [],
   "source": [
    "plt.scatter(fix_x, fix_y)"
   ]
  },
  {
   "cell_type": "markdown",
   "metadata": {
    "id": "lAb_vW4ILrzz"
   },
   "source": [
    "Use a imshow and a scatter plot to show the image and the fixations together.\n",
    "\n",
    "Change the color and transparency (alpha) for a nicer visualization of the fixations."
   ]
  },
  {
   "cell_type": "code",
   "execution_count": null,
   "metadata": {
    "colab": {
     "base_uri": "https://localhost:8080/",
     "height": 282
    },
    "id": "Oc4XyT7y9IWB",
    "outputId": "5ff9be17-529b-4a56-85b7-7c1f017a3279"
   },
   "outputs": [],
   "source": [
    "# plt.scatter(FixX,FixY)\n",
    "plt.figure()\n",
    "plt.imshow(stim9)\n",
    "# plt.scatter(FixX,FixY)\n",
    "plt.scatter(data9[\"mean_x\"], data9[\"mean_y\"], color=\"salmon\", alpha=0.4)"
   ]
  },
  {
   "cell_type": "markdown",
   "metadata": {
    "id": "qLvQi3sEqJrM"
   },
   "source": [
    "## Saliency map - Heatmap\n",
    "\n",
    "To calcualte a saliency map, we need a matrix, same size as the image to store the number of fixations for each pixel.\n",
    "\n",
    "### Saliency map raw"
   ]
  },
  {
   "cell_type": "code",
   "execution_count": null,
   "metadata": {
    "colab": {
     "base_uri": "https://localhost:8080/"
    },
    "id": "GiDfBG7qpi0m",
    "outputId": "d556bbd7-fd59-44a9-f1d6-991aa46f570a"
   },
   "outputs": [],
   "source": [
    "dims = np.shape(stim9)\n",
    "print(dims)\n",
    "\n",
    "n_fix = len(fix_x)"
   ]
  },
  {
   "cell_type": "code",
   "execution_count": null,
   "metadata": {
    "id": "sPDqnThYHB0j"
   },
   "outputs": [],
   "source": [
    "fix_x = np.intp(np.round(fix_x))\n",
    "fix_y = np.intp(np.round(fix_y))"
   ]
  },
  {
   "cell_type": "markdown",
   "metadata": {
    "id": "ZfQ4x0walsNX"
   },
   "source": [
    "the next step is to \"mark\" each fixation on the above created matrix\n",
    "\n",
    "you can think about it, as adding 1 to each pixel  for each fixation that falls there..\n",
    "\n"
   ]
  },
  {
   "cell_type": "code",
   "execution_count": null,
   "metadata": {
    "colab": {
     "base_uri": "https://localhost:8080/"
    },
    "id": "ceQ2Rp7jqgZY",
    "outputId": "199c3e79-2cab-4976-8a3f-473642550afc"
   },
   "outputs": [],
   "source": [
    "sal_map_raw = np.zeros((dims[0], dims[1]))\n",
    "\n",
    "print(np.shape(sal_map_raw))\n",
    "outside = 0\n",
    "for i in range(n_fix):\n",
    "    try:\n",
    "        sal_map_raw[fix_y[i], fix_x[i]] += 1  # y,x '\n",
    "    except:\n",
    "        outside += 1\n",
    "print(outside)\n",
    "np.sum(sal_map_raw)"
   ]
  },
  {
   "cell_type": "code",
   "execution_count": null,
   "metadata": {
    "colab": {
     "base_uri": "https://localhost:8080/",
     "height": 183
    },
    "id": "DmXw39ywFVcD",
    "outputId": "a610445e-e6c2-4537-a923-6d70ee804f77"
   },
   "outputs": [],
   "source": [
    "sal_map_raw = np.zeros((dims[0], dims[1]))\n",
    "sal_map_raw[fix_y, fix_x] = 1"
   ]
  },
  {
   "cell_type": "code",
   "execution_count": null,
   "metadata": {
    "colab": {
     "base_uri": "https://localhost:8080/"
    },
    "id": "BgS5f8cwDOtu",
    "outputId": "6e775806-a8b5-467e-ff19-1826fffd2dad"
   },
   "outputs": [],
   "source": [
    "sal_map_raw = np.zeros((dims[0], dims[1]))\n",
    "for i in range(n_fix):\n",
    "    if fix_x[i] >= 0 and fix_x[i] < dims[1] and fix_y[i] >= 0 and fix_y[i] < dims[0]:\n",
    "        sal_map_raw[fix_y[i], fix_x[i]] += 1  # YOUR CODE    # y,x '\n",
    "    else:\n",
    "        print(fix_y[i], fix_x[i])\n",
    "print(dims)"
   ]
  },
  {
   "cell_type": "code",
   "execution_count": null,
   "metadata": {
    "colab": {
     "base_uri": "https://localhost:8080/"
    },
    "id": "qo7u69-yDBlP",
    "outputId": "e45f3198-4746-402d-ebae-a2247ec10489"
   },
   "outputs": [],
   "source": [
    "print(n_fix)\n",
    "np.sum(sal_map_raw)"
   ]
  },
  {
   "cell_type": "markdown",
   "metadata": {
    "id": "nc234xP_q2nt"
   },
   "source": [
    "visualize the result of this calculation"
   ]
  },
  {
   "cell_type": "code",
   "execution_count": null,
   "metadata": {
    "colab": {
     "base_uri": "https://localhost:8080/"
    },
    "id": "2pudVhWaq5yN",
    "outputId": "52bcca28-1dcc-4635-918f-1cee8d5bba54"
   },
   "outputs": [],
   "source": [
    "np.unique(sal_map_raw)  # .flatten())"
   ]
  },
  {
   "cell_type": "code",
   "execution_count": null,
   "metadata": {
    "colab": {
     "base_uri": "https://localhost:8080/",
     "height": 487
    },
    "id": "g01Rfq4KDtm_",
    "outputId": "a52e3dc1-9b24-477a-b252-dc32d48e7d79"
   },
   "outputs": [],
   "source": [
    "plt.figure(figsize=(10, 8))\n",
    "plt.imshow(sal_map_raw)"
   ]
  },
  {
   "cell_type": "code",
   "execution_count": null,
   "metadata": {
    "colab": {
     "base_uri": "https://localhost:8080/",
     "height": 363
    },
    "id": "yIamxcJK4Jbg",
    "outputId": "34a31630-dbc2-4292-f164-e3c05a0c6b16"
   },
   "outputs": [],
   "source": [
    "plt.hist(sal_map_raw.flatten())\n",
    "# plt.hist(SalMap.flatten())"
   ]
  },
  {
   "cell_type": "markdown",
   "metadata": {
    "id": "4qgqw82HDD9i"
   },
   "source": [
    "we can use the function from scipy, to smooth the above calculation to creat a saliency map with:\n",
    "\n",
    "ndimage.filters.gaussian_filter()\n",
    "\n",
    "visualize the result, on top of the image\n",
    "\n"
   ]
  },
  {
   "cell_type": "code",
   "execution_count": null,
   "metadata": {
    "colab": {
     "base_uri": "https://localhost:8080/",
     "height": 286
    },
    "id": "CZQYb52PJkag",
    "outputId": "9a695baa-0311-4224-89b4-7e4a45f70252"
   },
   "outputs": [],
   "source": [
    "sal_map = ndimage.filters.gaussian_filter(sal_mapRaw, 25)\n",
    "plt.imshow(stim9)\n",
    "plt.imshow(sal_map, alpha=0.5, cmap=\"plasma\")"
   ]
  },
  {
   "cell_type": "markdown",
   "metadata": {
    "id": "rZTw_jzmMj8_"
   },
   "source": [
    "try different values for the standard deviation and visualize the result"
   ]
  },
  {
   "cell_type": "code",
   "execution_count": null,
   "metadata": {
    "colab": {
     "base_uri": "https://localhost:8080/",
     "height": 191
    },
    "id": "xCMimxferCnT",
    "outputId": "5346a4c5-7064-4a1e-b135-6ce9a28a7fd5"
   },
   "outputs": [],
   "source": [
    "s_ds = [5, 10, 25, 50]\n",
    "# plt.figure(figsize=(8,6))\n",
    "fig, ax = plt.subplots(ncols=4, figsize=(14, 6), sharey=True)\n",
    "for cs, sd in enumerate(s_ds):\n",
    "    sal_map = ndimage.filters.gaussian_filter(sal_mapRaw, sd)\n",
    "    ax[cs].imshow(stim9)\n",
    "    ax[cs].imshow(sal_map, alpha=0.5, cmap=\"plasma\")\n",
    "    ax[cs].set_title(\"SD=\" + str(sd))"
   ]
  },
  {
   "cell_type": "markdown",
   "metadata": {
    "id": "Q4JdvqjfrHu-"
   },
   "source": [
    "## scanpath\n",
    "\n",
    "visualize the overall scanpath on the image\n",
    "\n",
    "\n",
    "with a line plot-- this is suprisingly easy, since the fixations are ordered by default"
   ]
  },
  {
   "cell_type": "code",
   "execution_count": null,
   "metadata": {
    "colab": {
     "base_uri": "https://localhost:8080/",
     "height": 282
    },
    "id": "dbzPA9kSrCkL",
    "outputId": "b779f08b-28e5-4b66-8f72-73bc6e91a20b"
   },
   "outputs": [],
   "source": [
    "plt.imshow(stim9)\n",
    "plt.plot(data9[\"mean_x\"], data9[\"mean_y\"], color=\"r\")"
   ]
  },
  {
   "cell_type": "code",
   "execution_count": null,
   "metadata": {
    "colab": {
     "base_uri": "https://localhost:8080/",
     "height": 286
    },
    "id": "tC4DM0Dr7fNB",
    "outputId": "298badc9-3d20-4744-ef9d-824744931fbc"
   },
   "outputs": [],
   "source": [
    "plt.imshow(stim9)\n",
    "plt.plot(\n",
    "    data9[\"mean_x\"][data9[\"SUBJECTINDEX\"] == 1],\n",
    "    data9[\"mean_y\"][data9[\"SUBJECTINDEX\"] == 1],\n",
    "    color=\"r\",\n",
    ")"
   ]
  },
  {
   "cell_type": "markdown",
   "metadata": {
    "id": "jhp0dcSFryTP"
   },
   "source": [
    "what could be the caveat of the above?\n",
    "\n",
    "\n",
    "\n",
    "visualize scanpath for 2 participants on the same figure\n",
    "\n",
    "to select participants use = 'SUBJECTINDEX'"
   ]
  },
  {
   "cell_type": "code",
   "execution_count": null,
   "metadata": {
    "colab": {
     "base_uri": "https://localhost:8080/"
    },
    "id": "BO777LvzqwTV",
    "outputId": "c6a8265e-3037-4198-f8ee-5996eb082558"
   },
   "outputs": [],
   "source": [
    "subjects = np.unique(data9[\"SUBJECTINDEX\"])\n",
    "print(subjects)"
   ]
  },
  {
   "cell_type": "code",
   "execution_count": null,
   "metadata": {
    "id": "Gb2t2o3u7CIg"
   },
   "outputs": [],
   "source": []
  },
  {
   "cell_type": "markdown",
   "metadata": {
    "id": "EW2NrBRaOQby"
   },
   "source": [
    "visualize scanpath of all participant, but with different color"
   ]
  },
  {
   "cell_type": "code",
   "execution_count": null,
   "metadata": {
    "colab": {
     "base_uri": "https://localhost:8080/",
     "height": 260
    },
    "id": "3ckKYIYZOPGL",
    "outputId": "e8fff28c-89cc-4956-cc5f-956e22d47e62"
   },
   "outputs": [],
   "source": [
    "plt.figure(figsize=(10, 5))\n",
    "plt.subplot(1, 2, 1)\n",
    "plt.imshow(stim9)\n",
    "plt.plot(fix_x, fix_y, color=\"k\", alpha=0.5)\n",
    "plt.xlim([0, dims[1]])\n",
    "plt.ylim([dims[0], 0])\n",
    "plt.subplot(1, 2, 2)\n",
    "plt.imshow(stim9)\n",
    "for cs, s in enumerate(subjects):\n",
    "    idx = data9[\"SUBJECTINDEX\"] == s\n",
    "    # print(s,np.sum(idx))\n",
    "    plt.plot(fix_x[idx], fix_y[idx], color=\"k\", alpha=0.5)\n",
    "plt.xlim([0, dims[1]])\n",
    "plt.ylim([dims[0], 0])"
   ]
  },
  {
   "cell_type": "markdown",
   "metadata": {
    "id": "zqyajyrTOXiz"
   },
   "source": [
    "how could we include direction in the scanpath visuals?"
   ]
  },
  {
   "cell_type": "code",
   "execution_count": null,
   "metadata": {
    "colab": {
     "base_uri": "https://localhost:8080/",
     "height": 274
    },
    "id": "7w08j4uzOcvf",
    "outputId": "47f87036-b956-45ef-e76a-6e0adc57f0ec"
   },
   "outputs": [],
   "source": [
    "subj = 11\n",
    "idx = data9[\"SUBJECTINDEX\"] == subj\n",
    "plt.imshow(np.mean(stim9, 2), cmap=\"gray\")\n",
    "plt.plot(fix_x[idx], fix_y[idx], color=\"k\")\n",
    "plt.scatter(fix_x[idx], fix_y[idx], c=np.arange(np.sum(idx)))\n",
    "plt.colorbar()"
   ]
  },
  {
   "cell_type": "markdown",
   "metadata": {
    "id": "VJs8vHf9v0dt"
   },
   "source": [
    "### scanpath length- saccade length\n",
    "\n",
    "use the Pythegorian theorem, to calculate the scanpath length, for each participant, that is just the distance of subsequent fixations, added together\n",
    "\n",
    "to calculate the average saccade length, simply divide the total scanpath by the number of saccades\n",
    "\n"
   ]
  },
  {
   "cell_type": "code",
   "execution_count": null,
   "metadata": {
    "colab": {
     "base_uri": "https://localhost:8080/"
    },
    "id": "nGz6V96awTv-",
    "outputId": "14d5f420-3900-4a5b-8ed5-af9eb03278f2"
   },
   "outputs": [],
   "source": [
    "dist = np.sqrt(np.diff(fix_x[idx]) ** 2 + np.diff(fix_y[idx]) ** 2)\n",
    "np.mean(dist)\n",
    "np.sum(dist)\n",
    "dist"
   ]
  },
  {
   "cell_type": "code",
   "execution_count": null,
   "metadata": {
    "colab": {
     "base_uri": "https://localhost:8080/"
    },
    "id": "6qC_K_t-BN7U",
    "outputId": "1cb8c12a-ab8a-4d65-95dd-c53f7229c70e"
   },
   "outputs": [],
   "source": [
    "fix_x[idx]"
   ]
  },
  {
   "cell_type": "code",
   "execution_count": null,
   "metadata": {
    "colab": {
     "base_uri": "https://localhost:8080/"
    },
    "id": "ka1xn__nB-Vt",
    "outputId": "35bb87ff-ffa4-491c-b627-f446859a01e6"
   },
   "outputs": [],
   "source": [
    "for cs, s in enumerate(subjects[0:n_subj_show]):\n",
    "    print(cs, s)"
   ]
  },
  {
   "cell_type": "markdown",
   "metadata": {
    "id": "BBYMjYCuwUUp"
   },
   "source": [
    "\n",
    "make a figure with 3*3 subplots\n",
    "showing the scanpath of 9 different observers.\n",
    "\n",
    "add a title for each, that shows the  number of fixations and length of the scanpath vs average length of saccades (amplitude)\n",
    "\n"
   ]
  },
  {
   "cell_type": "code",
   "execution_count": null,
   "metadata": {
    "colab": {
     "base_uri": "https://localhost:8080/",
     "height": 458
    },
    "id": "gg3aimPGwqIv",
    "outputId": "145b8a43-d138-43e0-9432-7bedea3256ae"
   },
   "outputs": [],
   "source": [
    "plt.figure(figsize=(10, 7.5))\n",
    "n_subj_show = 9\n",
    "subjects = np.unique(data9[\"SUBJECTINDEX\"])\n",
    "for cs, s in enumerate(subjects[0:n_subj_show]):\n",
    "    plt.subplot(3, 3, cs + 1)\n",
    "    idx = data9[\"SUBJECTINDEX\"] == s\n",
    "    plt.imshow(stim9)\n",
    "    plt.plot(fix_x[idx], fix_y[idx], color=\"salmon\")\n",
    "    dist = np.sqrt(np.diff(fix_x[idx]) ** 2 + np.diff(fix_y[idx]) ** 2)\n",
    "    plt.scatter(fix_x[idx], fix_y[idx], c=np.arange(np.sum(idx)))\n",
    "    plt.title(\n",
    "        \"num fix: \" + str(np.sum(idx)) + \" scanp len: \" + str(np.round(np.sum(dist)))\n",
    "    )\n",
    "    plt.xticks([])\n",
    "    plt.yticks([])"
   ]
  },
  {
   "cell_type": "code",
   "execution_count": null,
   "metadata": {
    "colab": {
     "base_uri": "https://localhost:8080/",
     "height": 166
    },
    "id": "lVINzVn96wsu",
    "outputId": "3d1da0de-d68c-4e97-9686-648b26d668f3"
   },
   "outputs": [],
   "source": [
    "subjects"
   ]
  },
  {
   "cell_type": "code",
   "execution_count": null,
   "metadata": {
    "id": "tVkIBRPNMw2C"
   },
   "outputs": [],
   "source": []
  },
  {
   "cell_type": "markdown",
   "metadata": {
    "id": "6kNqRpN2MyMw"
   },
   "source": [
    "### calculate eye-movement statistics for all stimuli and subjects\n",
    " tasks\n",
    " 1. compare stimuli in terms of scanpath length\n",
    " 2. compare groups of participants, are they different for some stimuli? are they different averaged across stimuli?"
   ]
  },
  {
   "cell_type": "code",
   "execution_count": null,
   "metadata": {
    "colab": {
     "base_uri": "https://localhost:8080/"
    },
    "id": "pQnGMGqT6tTN",
    "outputId": "25c74b95-7568-4076-a6cf-3464bae49dfc"
   },
   "outputs": [],
   "source": [
    "groups = np.unique(fix_dat_urban[\"age\"])\n",
    "group_names = [\"young\", \"student\", \"elderly\"]\n",
    "subjects = np.unique(fix_dat_urban[\"SUBJECTINDEX\"])\n",
    "stimuli = np.unique(fix_dat_urban[\"filenumber\"])\n",
    "print(\"subjects: \", subjects)\n",
    "print(\"stimuli: \", stimuli)"
   ]
  },
  {
   "cell_type": "code",
   "execution_count": null,
   "metadata": {
    "colab": {
     "base_uri": "https://localhost:8080/"
    },
    "id": "pKeOx9VtF8IJ",
    "outputId": "10a26bd4-0a49-4407-d6cd-5cff16f9bedf"
   },
   "outputs": [],
   "source": [
    "(fix_dat_urban[\"filenumber\"] == s) & (fix_dat_urban[\"SUBJECTINDEX\"] == subj)"
   ]
  },
  {
   "cell_type": "markdown",
   "metadata": {
    "id": "r1bYILFvMs0R"
   },
   "source": [
    "##"
   ]
  }
 ],
 "metadata": {
  "colab": {
   "provenance": []
  },
  "kernelspec": {
   "display_name": "Python 3 (ipykernel)",
   "language": "python",
   "name": "python3"
  },
  "language_info": {
   "codemirror_mode": {
    "name": "ipython",
    "version": 3
   },
   "file_extension": ".py",
   "mimetype": "text/x-python",
   "name": "python",
   "nbconvert_exporter": "python",
   "pygments_lexer": "ipython3",
   "version": "3.11.0"
  }
 },
 "nbformat": 4,
 "nbformat_minor": 4
}
