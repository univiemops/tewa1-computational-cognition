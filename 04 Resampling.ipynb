{
 "cells": [
  {
   "cell_type": "markdown",
   "metadata": {
    "id": "C5N8uXaLdary"
   },
   "source": [
    "# Tutorial 3 - Resampling methods and Data Visualization\n",
    "\n",
    "*Written and revised by Jozsef Arato, Mengfan Zhang, Dominik Pegler*  \n",
    "Computational Cognition Course, University of Vienna  \n",
    "https://github.com/univiemops/tewa1-computational-cognition\n",
    "\n",
    "---"
   ]
  },
  {
   "cell_type": "markdown",
   "metadata": {
    "id": "pVRiO-appks7"
   },
   "source": [
    "## This week's lab:\n",
    "\n",
    "We will introduce you to three common resampling methods: **Bootstrapping**, **Permutation test**, and **Cross validation**, with data visualization of them. Resampling techniques are powerful tools for estimating the sampling distribution of a statistic, making inferences about population parameters, validating models, and other situations where traditional parametric assumptions are not met or when exact analytical solutions are impractical. \n",
    "\n",
    "**Learning goals:** \\\n",
    "When finishing this tutorial, you should ...\n",
    "* perform a bootstrap and estimate the variance \n",
    "* perform a permutation test and determine the statistical significance of models\n",
    "* split data into training and test sets and perform cross-validation\n",
    "\n",
    "**Estimated time to complete:** 2 hours \\\n",
    "**Deadline:** Next Monday, 23:59\n"
   ]
  },
  {
   "cell_type": "markdown",
   "metadata": {},
   "source": [
    "# 1. Sampling\n",
    "\n",
    "Sampling is the process of selecting a subset of values or items from a larger population. Python has various libraries to do sampling, a commonly used one is `numpy.random` module. Let's import the libraries first and have a look at some useful functions."
   ]
  },
  {
   "cell_type": "code",
   "execution_count": 2,
   "metadata": {
    "id": "l-D3BwIshN_C"
   },
   "outputs": [],
   "source": [
    "# Import libraries\n",
    "import numpy as np\n",
    "import matplotlib.pyplot as plt"
   ]
  },
  {
   "cell_type": "code",
   "execution_count": 3,
   "metadata": {},
   "outputs": [
    {
     "name": "stdout",
     "output_type": "stream",
     "text": [
      "5\n"
     ]
    }
   ],
   "source": [
    "my_array = np.arange(20)\n",
    "sample = np.random.choice(my_array)\n",
    "print(sample)"
   ]
  },
  {
   "cell_type": "code",
   "execution_count": null,
   "metadata": {},
   "outputs": [],
   "source": []
  },
  {
   "cell_type": "markdown",
   "metadata": {},
   "source": [
    "# 2.1 Bootstrapping\n",
    "\n",
    "Imagine you conducted an experiment in which you collected reaction time data from two small groups of participants under different manipulations. You compare the means of these two groups and find a difference, and you think the difference is due to the manipulation. However, it is also possible that one or two participants in one group didn't sleep well last night, weren't in good health, weren't paying attention, or some other random thing that you can't control. One thing you can do is repeat the experiment (maybe over and over again) to try to rule out the effect of random things. Fortunately, you have another much easier and less expensive option, which is to bootstrap. \n",
    "\n",
    "Bootstrapping is a resampling technique used to estimate the sampling distribution of almost any statistic by repeatedly sampling with replacement from the observed data. It gives you a sense of what might happen if you repeated an experiment many times, and allows you to assess the variability and uncertainty associated with the statistic. Now let's perform a bootstrapping procedure step by step:"
   ]
  },
  {
   "cell_type": "code",
   "execution_count": 4,
   "metadata": {},
   "outputs": [
    {
     "name": "stdout",
     "output_type": "stream",
     "text": [
      "Experimental reaction time data: \n",
      " [449 378 502 151 449 383 509 337 460 388 217 175 239 484 599 298 318 412\n",
      " 298 504]\n",
      "Mean of experimental reaction time \n",
      " 377.5\n"
     ]
    }
   ],
   "source": [
    "# Suppose we have some reaction data from an experiment\n",
    "np.random.seed(213)\n",
    "rt_data = np.random.randint(150, 600, 20)\n",
    "exp_mean = rt_data.mean()\n",
    "print(\"Experimental reaction time data:\", \"\\n\", rt_data)\n",
    "print(\"Mean of experimental reaction time\", \"\\n\", exp_mean)"
   ]
  },
  {
   "cell_type": "code",
   "execution_count": 5,
   "metadata": {},
   "outputs": [
    {
     "name": "stdout",
     "output_type": "stream",
     "text": [
      "Estimated bootstrap mean : 373.4334999999999\n",
      "Standard error of the estimate: 27.008783807309797\n"
     ]
    }
   ],
   "source": [
    "# Perform bootstrapping sampling\n",
    "n_samples = 100  # perform the sampling 100 times, it works like repeating the experiment 100 times\n",
    "bootstrap_means = np.zeros(n_samples)\n",
    "\n",
    "for i in range(n_samples):\n",
    "    # Step 1: Sampling with replacement to create a bootstrap sample\n",
    "    current_bootstrap_sample = np.random.choice(\n",
    "        rt_data, size=rt_data.size, replace=True\n",
    "    )\n",
    "\n",
    "    # Step 2: Calculate the statistic of interest for each sample\n",
    "    current_mean = np.mean(current_bootstrap_sample)\n",
    "\n",
    "    # Step 3: Store each sample statistic for estimating the sampling distribution\n",
    "    bootstrap_means[i] = current_mean\n",
    "\n",
    "# Step 4: Drawing Inferences\n",
    "estimated_mean = np.mean(bootstrap_means)\n",
    "estimated_std = np.std(bootstrap_means)\n",
    "\n",
    "print(\"Estimated bootstrap mean :\", estimated_mean)\n",
    "print(\"Standard error of the estimate:\", estimated_std)"
   ]
  },
  {
   "cell_type": "code",
   "execution_count": 6,
   "metadata": {},
   "outputs": [
    {
     "data": {
      "image/png": "[encoded data removed]",
      "text/plain": [
       "<Figure size 432x288 with 1 Axes>"
      ]
     },
     "metadata": {
      "needs_background": "light"
     },
     "output_type": "display_data"
    }
   ],
   "source": [
    "# Plot the sampling distribution of the statisitc\n",
    "plt.hist(bootstrap_means)\n",
    "plt.axvline(x=exp_mean, color=\"r\", label=\"exp_mean\")\n",
    "plt.ylim((0, 30))\n",
    "plt.xlabel(\"Means\")\n",
    "plt.ylabel(\"Frequency\")\n",
    "plt.title(\"Distributions\", fontsize=15)\n",
    "plt.legend([\"exp_mean\", \"bootstrap_mean\"])\n",
    "plt.show()"
   ]
  },
  {
   "cell_type": "markdown",
   "metadata": {},
   "source": [
    "Great! We just did our first bootstrap! In real practice, instead of writing a loop, Python `scipy` library provides the `bootstrap` function to do it easily:"
   ]
  },
  {
   "cell_type": "code",
   "execution_count": 22,
   "metadata": {},
   "outputs": [
    {
     "name": "stdout",
     "output_type": "stream",
     "text": [
      "BootstrapResult(confidence_interval=ConfidenceInterval(low=317.90633648541245, high=424.13581305585086), bootstrap_distribution=array([378.8 , 383.  , 397.8 , 361.4 , 401.45, 367.9 , 373.85, 366.25,\n",
      "       376.85, 410.1 , 386.8 , 375.65, 381.8 , 317.95, 412.5 , 341.3 ,\n",
      "       356.15, 379.9 , 399.55, 388.55, 362.7 , 363.5 , 387.85, 352.9 ,\n",
      "       420.15, 338.15, 357.9 , 432.8 , 406.  , 394.05, 399.9 , 391.65,\n",
      "       361.  , 423.85, 364.4 , 379.85, 399.7 , 364.15, 370.6 , 317.85,\n",
      "       417.1 , 338.1 , 381.8 , 372.6 , 382.8 , 380.05, 413.95, 389.25,\n",
      "       381.  , 381.6 , 405.  , 368.5 , 344.45, 365.25, 359.8 , 356.8 ,\n",
      "       380.35, 352.9 , 357.85, 386.6 , 352.65, 377.75, 411.  , 424.95,\n",
      "       396.6 , 325.85, 380.7 , 311.2 , 365.3 , 331.15, 358.8 , 354.25,\n",
      "       354.95, 373.85, 326.55, 384.8 , 369.15, 406.2 , 381.2 , 335.8 ,\n",
      "       377.4 , 382.1 , 355.15, 367.2 , 390.6 , 389.4 , 425.1 , 425.75,\n",
      "       385.8 , 379.35, 403.9 , 390.55, 407.3 , 347.85, 365.05, 413.2 ,\n",
      "       377.6 , 347.9 , 393.8 , 358.95]), standard_error=25.927847222940855)\n"
     ]
    }
   ],
   "source": [
    "from scipy.stats import bootstrap\n",
    "\n",
    "bootstrap_out = bootstrap(data=(rt_data,), statistic=np.mean, n_resamples=100, axis=0)\n",
    "print(bootstrap_out)"
   ]
  },
  {
   "cell_type": "code",
   "execution_count": 20,
   "metadata": {},
   "outputs": [
    {
     "data": {
      "image/png": "[encoded data removed]",
      "text/plain": [
       "<Figure size 432x288 with 1 Axes>"
      ]
     },
     "metadata": {
      "needs_background": "light"
     },
     "output_type": "display_data"
    }
   ],
   "source": [
    "# Plot the sampling distribution of the statisitc\n",
    "plt.hist(bootstrap_out.bootstrap_distribution)\n",
    "plt.axvline(x=exp_mean, color=\"r\", label=\"exp_mean\")\n",
    "plt.ylim((0, 30))\n",
    "plt.xlabel(\"Means\")\n",
    "plt.ylabel(\"Frequency\")\n",
    "plt.title(\"Distributions\", fontsize=15)\n",
    "plt.legend([\"exp_mean\", \"bootstrap_mean\"])\n",
    "plt.show()"
   ]
  },
  {
   "cell_type": "markdown",
   "metadata": {},
   "source": [
    "Could you do a bootstrap with 50 samples, calculate the standard deviation and store it in the variable \"bootstrap_std\"? It doesn't matter if you use the loop or the function."
   ]
  },
  {
   "cell_type": "markdown",
   "metadata": {
    "id": "UmTylXlnp_ID"
   },
   "source": [
    "this tutorial is working on permutation test(also called randomization test), to compare data from 2 independent groups (as the independent samples t-test)\n",
    "\n",
    "\n",
    "as discussed on Monday, permutation test is a way of randomly resampling the data, to create a distibution that would be expected based on chance (or under the null hypothesis)\n",
    "\n",
    "\n",
    "we compare set of data sets of average reaction times (as treatment and control group)\n",
    "\n",
    "## The two datasets\n",
    "- Below are the reaction time data for the treatment (data1) and control (data2) groups.\n",
    "- between subject design"
   ]
  },
  {
   "cell_type": "code",
   "execution_count": null,
   "metadata": {
    "id": "tQZdWFChr2y3"
   },
   "outputs": [],
   "source": [
    "data1 = np.array(\n",
    "    [\n",
    "        444.48703626,\n",
    "        420.71413104,\n",
    "        482.04432447,\n",
    "        380.46896668,\n",
    "        420.56864234,\n",
    "        474.09130417,\n",
    "        414.9748433,\n",
    "        450.15423802,\n",
    "        436.53977461,\n",
    "        500.12705411,\n",
    "        405.00705696,\n",
    "        419.3141794,\n",
    "        460.46096974,\n",
    "        450.54358948,\n",
    "        420.93431563,\n",
    "        467.40481135,\n",
    "        510.84094939,\n",
    "        482.61924772,\n",
    "        480.32638462,\n",
    "        510.76756724,\n",
    "    ]\n",
    ")\n",
    "\n",
    "data2 = np.array(\n",
    "    [\n",
    "        420.1243685,\n",
    "        501.25211241,\n",
    "        454.37132587,\n",
    "        600.39850065,\n",
    "        501.79657108,\n",
    "        481.94197109,\n",
    "        469.51703441,\n",
    "        449.82747137,\n",
    "        450.98838458,\n",
    "        477.15878941,\n",
    "        570.00039675,\n",
    "        460.18766471,\n",
    "        432.70480616,\n",
    "        480.38394358,\n",
    "        478.46070285,\n",
    "        485.71067427,\n",
    "        487.91937261,\n",
    "        505.86604195,\n",
    "        495.8480102,\n",
    "        480.9547509,\n",
    "    ]\n",
    ")"
   ]
  },
  {
   "cell_type": "markdown",
   "metadata": {
    "id": "TUeihHxwsPwW"
   },
   "source": [
    "## Data exploration\n",
    "first step is to explore the two data sets:\n",
    "\n",
    "1. print the mean for both groups\n",
    "2. print the SD for both group\n",
    "3. make a plot with two subplots, with a histogram for both groups\n",
    "4. calculat the difference of means between the groups, and store it, called TrudeDiff\n"
   ]
  },
  {
   "cell_type": "code",
   "execution_count": null,
   "metadata": {
    "colab": {
     "base_uri": "https://localhost:8080/",
     "height": 382
    },
    "id": "U0izrtq3soQu",
    "outputId": "e6335bb8-61ea-4aa1-f191-5560c1cb964c"
   },
   "outputs": [],
   "source": [
    "print(\"number of participants\", len(data1 + data2))\n",
    "print(\"average treatment reaction time\", data1.mean())\n",
    "print(\"average control reaction time\", data2.mean())\n",
    "print(\"standard deviations\", np.round(np.std(data1), 2), np.round(np.std(data2), 2))\n",
    "\n",
    "plt.figure(figsize=(12, 5))\n",
    "plt.subplot(1, 2, 1)\n",
    "plt.hist(data1)\n",
    "plt.xlabel(\"reaction time (ms)\")\n",
    "plt.title(\"Treatment\")\n",
    "plt.subplot(1, 2, 2)\n",
    "plt.hist(data2)\n",
    "plt.xlabel(\"reaction time (ms)\")\n",
    "plt.title(\"Control\")\n",
    "\n",
    "true_diff = data1.mean() - data2.mean()"
   ]
  },
  {
   "cell_type": "markdown",
   "metadata": {
    "id": "4PMS-S8_U9To"
   },
   "source": [
    "## Visualize the means with errorbars showing the standard deviaton"
   ]
  },
  {
   "cell_type": "code",
   "execution_count": null,
   "metadata": {
    "colab": {
     "base_uri": "https://localhost:8080/",
     "height": 317
    },
    "id": "eyb8irbNTcU4",
    "outputId": "cfb90453-cdda-42e6-b998-1eae1f4fc2c0"
   },
   "outputs": [],
   "source": [
    "plt.figure()\n",
    "plt.errorbar(0, np.mean(data1), np.std(data1), marker=\"o\", markersize=10)\n",
    "plt.errorbar(1, np.mean(data2), np.std(data2), marker=\"o\", markersize=10)\n",
    "plt.ylabel(\"reaction time (ms)\")\n",
    "plt.xlim([-1, 2])\n",
    "plt.xticks(np.arange(2), [\"Treatment\", \"Control\"])"
   ]
  },
  {
   "cell_type": "markdown",
   "metadata": {
    "id": "8sUdvtaKaqCY"
   },
   "source": [
    "it is easy to do some more advanced visualization with matplotlib"
   ]
  },
  {
   "cell_type": "code",
   "execution_count": null,
   "metadata": {
    "colab": {
     "base_uri": "https://localhost:8080/",
     "height": 317
    },
    "id": "LICfG1_yZ3Xe",
    "outputId": "617eab8c-71d8-4009-9b2e-e15e1483abce"
   },
   "outputs": [],
   "source": [
    "plt.boxplot([data1, data2])\n",
    "plt.ylabel(\"reaction time (ms)\")\n",
    "plt.xticks(np.arange(1, 3), [\"Treatment\", \"Control\"])"
   ]
  },
  {
   "cell_type": "markdown",
   "metadata": {
    "id": "5UPtmZeUuJSz"
   },
   "source": [
    "## The core of the permutation test\n",
    "\n",
    "now lets try to implement the permutations test\n",
    "\n",
    "for these the main steps are:\n",
    " 1. create a combined array containing the 2 data sets.\n",
    " 2. randomly permute the combined array\n",
    " 3. from the permuted array, select 2  groups (same size as the original groups)  \n",
    " 4. calculate the mean difference between the 2 permuted groups\n",
    " 5. store the permuted mean difference in a 1d array or a list\n",
    " 6. repeat steps 2-5 2000 times\n"
   ]
  },
  {
   "cell_type": "code",
   "execution_count": null,
   "metadata": {
    "colab": {
     "base_uri": "https://localhost:8080/"
    },
    "id": "5ZiOYTGuvYgu",
    "outputId": "791a10c7-99c9-4831-f068-500cd1a4f151"
   },
   "outputs": [],
   "source": [
    "def perm_test(arr_1, arr_2, n_repetitions):\n",
    "    res = []\n",
    "\n",
    "    for i in range(n_repetitions):\n",
    "        # 1\n",
    "        arr_comb = np.concatenate((arr_1, arr_2))\n",
    "        # 2\n",
    "        arr_perm = np.random.permutation(arr_comb)\n",
    "        # 3\n",
    "        arr_split_1 = arr_perm[0 : int(len(arr_comb) / 2)]\n",
    "        arr_split_2 = arr_perm[int(len(arr_comb) / 2) :]\n",
    "        # 4\n",
    "        mean_delta_perm = arr_split_1.mean() - arr_split_2.mean()\n",
    "        # 5\n",
    "        res.append(mean_delta_perm)\n",
    "\n",
    "    return res\n",
    "\n",
    "\n",
    "# 6 run function with 2000 repetitions\n",
    "\n",
    "n_repetitions = 1_000_000\n",
    "\n",
    "res = perm_test(data1, data2, n_repetitions=n_repetitions)"
   ]
  },
  {
   "cell_type": "markdown",
   "metadata": {
    "id": "BQm0_q9jnWkh"
   },
   "source": [
    "try to make your solution general -- that could work with data of any size and any permutations"
   ]
  },
  {
   "cell_type": "markdown",
   "metadata": {
    "id": "Uje6SCSipkBV"
   },
   "source": [
    "## Evaluation of results\n",
    "Once this is done, calculate the p value of the true difference based on the permutation  \n",
    "(using np.abs and np.sum)\n",
    "\n",
    "\n",
    "hint: calculate how often chance produced a greater difference than the true difference\n"
   ]
  },
  {
   "cell_type": "code",
   "execution_count": null,
   "metadata": {
    "colab": {
     "base_uri": "https://localhost:8080/"
    },
    "id": "sT9fXPv9wh3F",
    "outputId": "0a7c0c4a-27fb-46b4-8495-af7208dca56a"
   },
   "outputs": [],
   "source": [
    "permuted_p = np.sum(np.abs(res > np.abs(true_diff))) / n_repetitions\n",
    "print(permuted_p)"
   ]
  },
  {
   "cell_type": "markdown",
   "metadata": {
    "id": "iVH4WnnnvbfD"
   },
   "source": [
    "## Visualization\n",
    "Once this is done we can evaluate of the result of the permutations visually\n",
    "\n",
    "1. make a histogram, of the permuted differences.\n",
    "2. mark it on the histogram with a vertical line, where the true difference falls.  with plt.plot \n",
    "in this case, you use plt.plot([xstart,xend],[ystart,yend],color='k')  -\n",
    "if you add the same value for xstart and xend, we get a vertical line\n",
    "\n",
    "3. using np.percentile, calculte thresholds for p<.05, and mark it with a vertical dashed lines (as in 3)\n",
    "\n",
    "\n",
    "\n"
   ]
  },
  {
   "cell_type": "code",
   "execution_count": null,
   "metadata": {
    "colab": {
     "base_uri": "https://localhost:8080/",
     "height": 300
    },
    "id": "J-ibZHs4vnsr",
    "outputId": "67b43496-596a-4a67-969b-6fcc60e2ca22"
   },
   "outputs": [],
   "source": [
    "plt.hist(res, bins=10000)\n",
    "plt.axvline(true_diff, color=\"red\")\n",
    "plt.axvline(np.percentile(res, 5), color=\"black\", linestyle=\"dashed\")\n",
    "plt.axvline(np.percentile(res, 95), color=\"black\", linestyle=\"dashed\");"
   ]
  },
  {
   "cell_type": "markdown",
   "metadata": {
    "id": "TacZP1wWwjV7"
   },
   "source": [
    "## Compare to *t*-test\n",
    "compare the result above with an independen sample t-test\n",
    "for this, we import scipy.stats below, so it can be accessed as stats.ttest_ind"
   ]
  },
  {
   "cell_type": "code",
   "execution_count": null,
   "metadata": {
    "colab": {
     "base_uri": "https://localhost:8080/"
    },
    "id": "HHWCoXUFwuyu",
    "outputId": "81abd552-8908-4cfa-879b-21f9e1c74e61"
   },
   "outputs": [],
   "source": [
    "from scipy import stats\n",
    "\n",
    "stats.ttest_ind(data1, data2)"
   ]
  },
  {
   "cell_type": "markdown",
   "metadata": {
    "id": "kUSTkGbFR_cj"
   },
   "source": [
    "## Alternative for *t*-test \n",
    "pingouin library\n",
    "\n",
    "since this is not part of colab by default, we have to install it with !pip"
   ]
  },
  {
   "cell_type": "code",
   "execution_count": null,
   "metadata": {
    "colab": {
     "base_uri": "https://localhost:8080/"
    },
    "id": "cE1Nc19iRy0Y",
    "outputId": "21547e85-acf0-4c5b-eca7-5d9ec49f694d"
   },
   "outputs": [],
   "source": [
    "#!pip install pingouin\n",
    "import pingouin as pg"
   ]
  },
  {
   "cell_type": "code",
   "execution_count": null,
   "metadata": {
    "colab": {
     "base_uri": "https://localhost:8080/",
     "height": 81
    },
    "id": "p15BDh-qSEao",
    "outputId": "384a1bc9-4648-44c3-ee07-35a570f0cc10"
   },
   "outputs": [],
   "source": [
    "pg.ttest(data1, data2, paired=False)"
   ]
  },
  {
   "cell_type": "markdown",
   "metadata": {
    "id": "RY2zbNRszYAS"
   },
   "source": [
    "## Homework 1\n",
    "\n",
    "### Functions\n",
    "now we are ready with the permutation test, now \"re-cycle\" your code from above, to make it into a function below.\n",
    "\n",
    "This function should take 2 inputs (the 2 data-sets),\n",
    "do the permuations as above, and return the permuted p-value.\n",
    "\n",
    "Remember you can choose whatever variable names within the function, but best practice is not to use the same ones as for the code outside the function!\n",
    "\n",
    "the function shoud not rely on any of the variables that are defined outside of the function: you can verify this by copy-pasting it into a new notebook and test it with some new data.\n",
    "\n",
    "\n"
   ]
  },
  {
   "cell_type": "code",
   "execution_count": null,
   "metadata": {
    "id": "y0ChERI-zjlN"
   },
   "outputs": [],
   "source": [
    "def my_perm_test(#your code):\n",
    "  #your code \n",
    "  #your code \n",
    "  return #your code "
   ]
  },
  {
   "cell_type": "markdown",
   "metadata": {
    "id": "M9dgh9cn0ucA"
   },
   "source": [
    " verify that your function works, with comparing it with your previous code\n",
    " "
   ]
  },
  {
   "cell_type": "code",
   "execution_count": null,
   "metadata": {
    "id": "FDBq2nCE0zYC"
   },
   "outputs": [],
   "source": [
    "# YOUR CODE"
   ]
  },
  {
   "cell_type": "markdown",
   "metadata": {
    "id": "geymltps8iHY"
   },
   "source": [
    "## now lets try the permutation test on some new data"
   ]
  },
  {
   "cell_type": "code",
   "execution_count": null,
   "metadata": {
    "id": "6ZAUXv0Ez5dc"
   },
   "outputs": [],
   "source": [
    "x1 = np.array(\n",
    "    [\n",
    "        200.48703626,\n",
    "        420.71413104,\n",
    "        482.04432447,\n",
    "        380.46896668,\n",
    "        420.56864234,\n",
    "        474.09130417,\n",
    "        414.9748433,\n",
    "        450.15423802,\n",
    "        436.53977461,\n",
    "        500.12705411,\n",
    "        405.00705696,\n",
    "        419.3141794,\n",
    "        460.46096974,\n",
    "        450.54358948,\n",
    "        420.93431563,\n",
    "        467.40481135,\n",
    "        510.84094939,\n",
    "        482.61924772,\n",
    "        480.32638462,\n",
    "        860.56161,\n",
    "    ]\n",
    ")\n",
    "\n",
    "x2 = np.array(\n",
    "    [\n",
    "        420.1243685,\n",
    "        501.25211241,\n",
    "        454.37132587,\n",
    "        900.39850065,\n",
    "        501.79657108,\n",
    "        481.94197109,\n",
    "        469.51703441,\n",
    "        449.82747137,\n",
    "        450.98838458,\n",
    "        477.15878941,\n",
    "        570.00039675,\n",
    "        460.18766471,\n",
    "        432.70480616,\n",
    "        480.38394358,\n",
    "        478.46070285,\n",
    "        485.71067427,\n",
    "        487.91937261,\n",
    "        505.86604195,\n",
    "        495.8480102,\n",
    "        1500.5446,\n",
    "    ]\n",
    ")"
   ]
  },
  {
   "cell_type": "markdown",
   "metadata": {
    "id": "p42DGidL8lVc"
   },
   "source": [
    "explore these data-sets with histograms"
   ]
  },
  {
   "cell_type": "code",
   "execution_count": null,
   "metadata": {
    "id": "c9mNDGFT8qam"
   },
   "outputs": [],
   "source": []
  },
  {
   "cell_type": "markdown",
   "metadata": {
    "id": "M7yhmPvI0mpp"
   },
   "source": [
    "now, we can easily use the function to compare other data-sets\n",
    "\n",
    "for example X1 and X2 above\n",
    "compare the result with the t-test"
   ]
  },
  {
   "cell_type": "code",
   "execution_count": null,
   "metadata": {
    "id": "KHXTt_Ec05DK"
   },
   "outputs": [],
   "source": [
    "my_perm_test(x1, x2)"
   ]
  },
  {
   "cell_type": "markdown",
   "metadata": {
    "id": "Mm3iwopJtYhB"
   },
   "source": [
    "log transform data before running the statistics\n",
    "\n",
    "a common way to deal with data with large variability (eg: free viewing looking times) is to do a log transform.\n",
    "\n",
    "1. make a scatter plot with the original data on the X and the raw data on the Y axis \n",
    "add both datasets to the same figure (using different colors)\n",
    "\n",
    "\n",
    "2. run the permutation test and the t-test for the log-transformed datasets\n",
    "\n",
    "\n"
   ]
  },
  {
   "cell_type": "code",
   "execution_count": null,
   "metadata": {
    "id": "SD_J9m3-t8A9"
   },
   "outputs": [],
   "source": []
  },
  {
   "cell_type": "markdown",
   "metadata": {
    "id": "zRXtaYSht65d"
   },
   "source": []
  },
  {
   "cell_type": "markdown",
   "metadata": {
    "id": "05KI0LFp2UVW"
   },
   "source": [
    "\n",
    "### optional function parameters\n",
    "\n",
    "until now we fixed the number of permutations in MyPermTest\n",
    "\n",
    "make a new function, MyPermTestv2, with the only difference that there is a 3rd input variable, that controls the number of permutations\n"
   ]
  },
  {
   "cell_type": "code",
   "execution_count": null,
   "metadata": {
    "id": "LrZDrIWz2T_y"
   },
   "outputs": [],
   "source": [
    "def my_perm_test_v2(#your code):\n",
    "    #your code\n",
    "#your code"
   ]
  },
  {
   "cell_type": "markdown",
   "metadata": {
    "id": "gdPy2IRL25Q4"
   },
   "source": [
    "once this is done, make a visualization of how the permuted p value changes as you change the number of permutations\n",
    "\n",
    "\n",
    "1. use `my_perm_test_v2`, to compare data1 and data2, with the number of permutations changing from 50 to 3000 in steps of 200  (use np.arange and a for cycle), at each step you only need to calcualte the permuted p-value\n",
    "2. make a scatter plot, to visualize what you have calculate in 1.: the number of permutations on the x axis and the permuted p-value on the y-axis\n",
    "3. add a horizontal line, that crosses the whole figure and shows the p-value obtained by  t-test"
   ]
  },
  {
   "cell_type": "code",
   "execution_count": null,
   "metadata": {
    "id": "FMDYjSMz3iB5"
   },
   "outputs": [],
   "source": [
    "# your code\n",
    "# your code\n",
    "# your code"
   ]
  },
  {
   "cell_type": "markdown",
   "metadata": {
    "id": "IcIB9ZrZw5sZ"
   },
   "source": [
    "### Bootstrapped confidence interval \n",
    "\n",
    "calculate the bootstrapped confidence interval for the mean of Data 1 and Data 2 with 2000 bootstraps. \n",
    "You can use np.random.choice ot perform sampling with replacemen- check the slided for more info.\n",
    "\n",
    "after you have the 2000 sample means, you can use np.percentile to find the 95,99% confidence intervals\n",
    "\n",
    "visualize what you found: if you use errobar, not that you can define positive and negative error differently (as a boostrapped confidence interval is not symmetric)"
   ]
  },
  {
   "cell_type": "code",
   "execution_count": null,
   "metadata": {
    "id": "4w32b1g89Jbh"
   },
   "outputs": [],
   "source": []
  },
  {
   "cell_type": "markdown",
   "metadata": {
    "id": "io0To_kloJ1a"
   },
   "source": [
    "## Homework 2 (advanced)\n"
   ]
  },
  {
   "cell_type": "markdown",
   "metadata": {
    "id": "fkQbwJ7K8tua"
   },
   "source": [
    "### Data simulation and analysis"
   ]
  },
  {
   "cell_type": "markdown",
   "metadata": {
    "id": "6a5aYWHU4RIq"
   },
   "source": [
    "test permutation test and compare with the t-test with largely unequal sample sizes \n",
    "\n",
    "imagine a scenario where you research reaction times in a rare patient group\n",
    ",so that you only have 5 patients.. obviously it is easier to get a large number of control participants, lets say 50\n",
    "\n",
    "set mean=600 for patiens with SD of 100 (normal distribution)\n",
    "set mean=550 for control with SD of 100 (uniform distribution)\n",
    "\n",
    "1. make 2 data sets, patient group with N=5, the control group with N=50, \n",
    "2. compare them with the t-test\n",
    "3. compare them using the permutation test\n",
    "4. repeat this process multiple times, and systematically compare (with for cycle and visualization) the similarity between permuation and t-test result\n",
    "\n",
    "\n"
   ]
  },
  {
   "cell_type": "code",
   "execution_count": null,
   "metadata": {
    "id": "VRLYPopyxbHf"
   },
   "outputs": [],
   "source": []
  }
 ],
 "metadata": {
  "colab": {
   "collapsed_sections": [],
   "name": "Copy of TEWA- 1 Resampling_tutorial.ipynb",
   "provenance": []
  },
  "kernelspec": {
   "display_name": "Python 3",
   "language": "python",
   "name": "python3"
  },
  "language_info": {
   "codemirror_mode": {
    "name": "ipython",
    "version": 3
   },
   "file_extension": ".py",
   "mimetype": "text/x-python",
   "name": "python",
   "nbconvert_exporter": "python",
   "pygments_lexer": "ipython3",
   "version": "3.8.5"
  }
 },
 "nbformat": 4,
 "nbformat_minor": 4
}
