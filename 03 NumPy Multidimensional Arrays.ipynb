{
 "cells": [
  {
   "attachments": {},
   "cell_type": "markdown",
   "metadata": {
    "id": "k6m76m7IoTFv"
   },
   "source": [
    "# Tutorial 3 - Multidimensional arrays in NumPy\n",
    "\n",
    "\n",
    "*Written and revised by Jozsef Arato, Mengfan Zhang, Dominik Pegler*  \n",
    "Computational Cognition Course, University of Vienna  \n",
    "https://github.com/univiemops/tewa1-computational-cognition\n",
    "\n",
    "---\n",
    "\n",
    "What this tutorial will cover:\n",
    "\n",
    "- 2D arrays\n",
    "- Random number generation\n",
    "- Matplotlib data visualizations\n",
    "\n",
    "---"
   ]
  },
  {
   "cell_type": "markdown",
   "metadata": {
    "id": "H1inHIzEQ9Cu"
   },
   "source": [
    "## 1. Import libraries"
   ]
  },
  {
   "cell_type": "code",
   "execution_count": null,
   "metadata": {
    "id": "Qe0qiwMkQ8OT"
   },
   "outputs": [],
   "source": [
    "import numpy as np\n",
    "from matplotlib import pyplot as plt"
   ]
  },
  {
   "cell_type": "markdown",
   "metadata": {
    "id": "rudIj7h8o81m"
   },
   "source": [
    "## 2. 2-dimensional arrays\n",
    "A NumPy array can be multidimensional, and 2D arrays are really common. We can think of a 2D array as a table of numbers (matrix). NumPy can also easily handle 3D, 4D etc. arrays. Why would someone need to use arrays that have more than 2 dimensions (think of examples)?"
   ]
  },
  {
   "cell_type": "markdown",
   "metadata": {
    "id": "-PpLQdG6pVq5"
   },
   "source": [
    "Here we create a 2D array \"manually\"."
   ]
  },
  {
   "cell_type": "code",
   "execution_count": null,
   "metadata": {
    "colab": {
     "base_uri": "https://localhost:8080/"
    },
    "id": "31T5UpDtpWTR",
    "outputId": "279eb43c-0563-495b-e7de-a5f7a7015bc5"
   },
   "outputs": [],
   "source": [
    "first2_d = np.array([[1, 20, 6], [40, 5, 70], [55, 23, 12], [78, 11, 22]], dtype=float)\n",
    "first2_d2 = np.array(\n",
    "    [[1, 20, 6], [40, 5, 70], [55, 23, 12], [78, 11, 22], [354, 351, 22]], dtype=float\n",
    ")\n",
    "\n",
    "print(first2_d)\n",
    "print(\"Shape: \", np.shape(first2_d))"
   ]
  },
  {
   "cell_type": "markdown",
   "metadata": {
    "id": "gBllIeyBpiCh"
   },
   "source": [
    " 1. print the middle element of the seconds row of this 2d array\n",
    "\n",
    "for this you will need to use 2d indexing [rowid,columnid]\n",
    "\n",
    " 2. print the last element of the first row"
   ]
  },
  {
   "cell_type": "code",
   "execution_count": null,
   "metadata": {
    "colab": {
     "base_uri": "https://localhost:8080/"
    },
    "id": "UjvxwFrjpns_",
    "outputId": "f0aae6cb-8a3f-4159-d5fa-7df30d06f77b"
   },
   "outputs": [],
   "source": [
    "print(first2_d)\n",
    "\n",
    "print(\"mid element 2nd row \", first2_d[1, 1])\n",
    "print(\"last element of first row  \", first2_d[0, -1])\n",
    "print(\"last element of first row  \", first2_d[0, 2])\n",
    "print(\"first element of the last row  \", first2_d[-1, 0])"
   ]
  },
  {
   "cell_type": "markdown",
   "metadata": {
    "id": "9ye23Bc0sRbt"
   },
   "source": [
    "similarly, we can modify elements of a 2d array\n",
    "1. change the 23 in First2D to the square root of it"
   ]
  },
  {
   "cell_type": "code",
   "execution_count": null,
   "metadata": {
    "colab": {
     "base_uri": "https://localhost:8080/"
    },
    "id": "D2UOJlhIsXO3",
    "outputId": "cdad7585-9f88-445d-cf15-ccffbad0111a"
   },
   "outputs": [],
   "source": [
    "first2_d[2, 1] = np.sqrt(23)\n",
    "print(first2_d)"
   ]
  },
  {
   "cell_type": "markdown",
   "metadata": {
    "id": "26tx1hbKkVfQ"
   },
   "source": [
    "find where  23 is using np.where , and change it to 23 *23"
   ]
  },
  {
   "cell_type": "code",
   "execution_count": null,
   "metadata": {
    "id": "zfd_nMKHdog3"
   },
   "outputs": [],
   "source": [
    "first2_d[np.where(first2_d == 23)] = 23 * 23"
   ]
  },
  {
   "cell_type": "markdown",
   "metadata": {
    "id": "kLRkIZvd3mE6"
   },
   "source": [
    "square the value, where First2D smaller than 10,\n"
   ]
  },
  {
   "cell_type": "code",
   "execution_count": null,
   "metadata": {
    "colab": {
     "base_uri": "https://localhost:8080/"
    },
    "id": "A_V6ukgc3321",
    "outputId": "0dd4c48f-49cd-4526-ff09-40ce2f0b3c91"
   },
   "outputs": [],
   "source": [
    "print(first2_d)\n",
    "first2_d[np.where(first2_d < 10)] = first2_d[np.where(first2_d < 10)] ** 2\n",
    "print(first2_d)"
   ]
  },
  {
   "cell_type": "code",
   "execution_count": null,
   "metadata": {
    "colab": {
     "base_uri": "https://localhost:8080/"
    },
    "id": "Yc230gkW5EAY",
    "outputId": "64da6097-0b3f-4f3e-f48b-c16795a575ac"
   },
   "outputs": [],
   "source": [
    "print(first2_d)\n",
    "idx = np.where(first2_d < 10)\n",
    "first2_d[idx] = first2_d[idx] ** 2\n",
    "print(first2_d)"
   ]
  },
  {
   "cell_type": "markdown",
   "metadata": {
    "id": "bZjqsACHkmFJ"
   },
   "source": [
    "What does `.T` do with our 2D array?"
   ]
  },
  {
   "cell_type": "code",
   "execution_count": null,
   "metadata": {
    "colab": {
     "base_uri": "https://localhost:8080/"
    },
    "id": "3WXO0jx0fLmS",
    "outputId": "370dc7cf-d224-40cf-85c0-4e1a338c8d47"
   },
   "outputs": [],
   "source": [
    "first2_d.T"
   ]
  },
  {
   "cell_type": "code",
   "execution_count": null,
   "metadata": {
    "colab": {
     "base_uri": "https://localhost:8080/"
    },
    "id": "3ScT5UpG8AKB",
    "outputId": "8f682612-b0fb-4632-84e4-850f95dbe15d"
   },
   "outputs": [],
   "source": [
    "first2_d"
   ]
  },
  {
   "cell_type": "code",
   "execution_count": null,
   "metadata": {
    "id": "MsJ23A3n-KTS"
   },
   "outputs": [],
   "source": [
    "def my_printer(input_arr):\n",
    "    dims = np.shape(input_arr)\n",
    "    for i in np.arange(dims[0]):  # index for rows\n",
    "        for j in np.arange(dims[1]):  # index for columns\n",
    "            print(\"i= \", i, \"j=\", j, \" value=\", input_arr[i, j])"
   ]
  },
  {
   "cell_type": "code",
   "execution_count": null,
   "metadata": {
    "colab": {
     "base_uri": "https://localhost:8080/"
    },
    "id": "Yd3sVN30-cC7",
    "outputId": "d040abf9-95cd-4677-c81c-2ab4eed8a07f"
   },
   "outputs": [],
   "source": [
    "my_printer(first2_d2)"
   ]
  },
  {
   "cell_type": "code",
   "execution_count": null,
   "metadata": {
    "colab": {
     "base_uri": "https://localhost:8080/"
    },
    "id": "7vwaoQf69b-S",
    "outputId": "e69610d6-ae70-40f7-ce61-86c7d8afd082"
   },
   "outputs": [],
   "source": [
    "nrow, ncol = np.shape(first2_d)\n",
    "print(nrow, ncol)"
   ]
  },
  {
   "cell_type": "code",
   "execution_count": null,
   "metadata": {
    "id": "Q35aFIE291xR"
   },
   "outputs": [],
   "source": [
    "dims = np.shape(first2_d)"
   ]
  },
  {
   "cell_type": "code",
   "execution_count": null,
   "metadata": {
    "colab": {
     "base_uri": "https://localhost:8080/"
    },
    "id": "ZRJamfu095e6",
    "outputId": "61ba92a3-bafe-466f-e1e1-a2868db642ee"
   },
   "outputs": [],
   "source": [
    "dims"
   ]
  },
  {
   "cell_type": "markdown",
   "metadata": {
    "id": "CpRDRtFjsxrJ"
   },
   "source": [
    "We can use two nested/embedded `for` loops to 'iterate through' the elements of the matrix one-by-one:"
   ]
  },
  {
   "cell_type": "code",
   "execution_count": null,
   "metadata": {
    "colab": {
     "base_uri": "https://localhost:8080/"
    },
    "id": "lcCc9e0ssekm",
    "outputId": "d2e4dc40-5294-47a1-9971-267bbfa39dc8"
   },
   "outputs": [],
   "source": [
    "for i in np.arange(nrow):  # index for rows\n",
    "    for j in np.arange(ncol):  # index for columns\n",
    "        print(\"i= \", i, \"j=\", j, \" value=\", first2_d[i, j])"
   ]
  },
  {
   "cell_type": "markdown",
   "metadata": {
    "id": "X1Y-kozfkvHI"
   },
   "source": [
    "Change the above code, so that it adapts to the size of the 2D array. It should `print` all elements from a 2D array of any size. Use `np.shape()` to check the size of an array."
   ]
  },
  {
   "cell_type": "markdown",
   "metadata": {
    "id": "PAyMAMQLqMe7"
   },
   "source": [
    "Whole rows and columns can be printed easily with the use of the index and the colon (`:`) operator.\n",
    "\n",
    "1. print the last row\n",
    "2. print the first column"
   ]
  },
  {
   "cell_type": "code",
   "execution_count": null,
   "metadata": {
    "colab": {
     "base_uri": "https://localhost:8080/"
    },
    "id": "XvCmnFlGqWrK",
    "outputId": "2236038d-1a3c-474d-836b-72e809a65142"
   },
   "outputs": [],
   "source": [
    "print(first2_d)\n",
    "print(\"first row\", first2_d[0, :])\n",
    "print(\"last row\", first2_d[-1, :])\n",
    "print(\"first column\", first2_d[:, 0])\n",
    "print(\"last column\", first2_d[:, -1])"
   ]
  },
  {
   "cell_type": "markdown",
   "metadata": {
    "id": "4fdEBlGfoq5Y"
   },
   "source": [
    "Create a 2D array of ones: 10 row and 8 columns. To make a 2D array of ones/zeros, you need double parentheses."
   ]
  },
  {
   "cell_type": "code",
   "execution_count": null,
   "metadata": {
    "id": "APqic8OXnBfZ"
   },
   "outputs": [],
   "source": [
    "xx = np.ones((10, 8))"
   ]
  },
  {
   "cell_type": "code",
   "execution_count": null,
   "metadata": {
    "colab": {
     "base_uri": "https://localhost:8080/"
    },
    "id": "dy_2P0xl_LUU",
    "outputId": "9f02d81b-bdf8-4f43-8f8e-7c6bb68cbbd6"
   },
   "outputs": [],
   "source": [
    "xx"
   ]
  },
  {
   "cell_type": "code",
   "execution_count": null,
   "metadata": {
    "colab": {
     "base_uri": "https://localhost:8080/"
    },
    "id": "bGmNNAjCiJay",
    "outputId": "4fd1f805-1229-4e18-94d9-0e52c9601ccb"
   },
   "outputs": [],
   "source": [
    "np.ones(19)"
   ]
  },
  {
   "cell_type": "code",
   "execution_count": null,
   "metadata": {
    "colab": {
     "base_uri": "https://localhost:8080/"
    },
    "id": "PrXv3zqPAbr0",
    "outputId": "f0085247-0a78-47b0-8913-fcf23d4d5e72"
   },
   "outputs": [],
   "source": []
  },
  {
   "cell_type": "markdown",
   "metadata": {
    "id": "CEHd6mF1k9oA"
   },
   "source": [
    "Create a 3D array of zeros."
   ]
  },
  {
   "cell_type": "code",
   "execution_count": null,
   "metadata": {
    "id": "rDgwyGCnh23D"
   },
   "outputs": [],
   "source": [
    "three_d = np.zeros((5, 2, 3))"
   ]
  },
  {
   "cell_type": "code",
   "execution_count": null,
   "metadata": {
    "colab": {
     "base_uri": "https://localhost:8080/"
    },
    "id": "TFIYY3BbFMmx",
    "outputId": "fa82ac6d-15b5-40a3-f73b-b6fc4e2e38d7"
   },
   "outputs": [],
   "source": [
    "three_d"
   ]
  },
  {
   "cell_type": "code",
   "execution_count": null,
   "metadata": {
    "colab": {
     "base_uri": "https://localhost:8080/"
    },
    "id": "aXq-q1NlFNt5",
    "outputId": "8bec09a9-30dc-4df8-a386-744771f6125a"
   },
   "outputs": [],
   "source": [
    "three_d[0, :, :]"
   ]
  },
  {
   "cell_type": "code",
   "execution_count": null,
   "metadata": {
    "colab": {
     "base_uri": "https://localhost:8080/"
    },
    "id": "aLg81f6EFQq5",
    "outputId": "44be3e76-918c-4239-de69-08831c3f384f"
   },
   "outputs": [],
   "source": [
    "three_d[:, 0, :]"
   ]
  },
  {
   "cell_type": "code",
   "execution_count": null,
   "metadata": {
    "colab": {
     "base_uri": "https://localhost:8080/"
    },
    "id": "FLApS-0TFVVU",
    "outputId": "ffdd29b8-7963-4ca4-b493-9042414f0f4c"
   },
   "outputs": [],
   "source": [
    "three_d[:, :, 0]"
   ]
  },
  {
   "cell_type": "markdown",
   "metadata": {
    "id": "gdh1x5I5o4Ta"
   },
   "source": [
    "Use `np.shape` to check the dimensions of what we have created."
   ]
  },
  {
   "cell_type": "code",
   "execution_count": null,
   "metadata": {
    "colab": {
     "base_uri": "https://localhost:8080/"
    },
    "id": "ROslX-OKo3u_",
    "outputId": "33ac9633-ea93-43fe-a5ca-b643a4daa0b3"
   },
   "outputs": [],
   "source": [
    "dims = np.shape(xx)\n",
    "print(dims)"
   ]
  },
  {
   "cell_type": "code",
   "execution_count": null,
   "metadata": {
    "colab": {
     "base_uri": "https://localhost:8080/"
    },
    "id": "dOy6Gwa1F6hJ",
    "outputId": "e2f5107b-16c5-4967-c486-e5fe64e1ba3b"
   },
   "outputs": [],
   "source": [
    "np.shape(three_d)"
   ]
  },
  {
   "cell_type": "markdown",
   "metadata": {
    "id": "h1y17S5uusTQ"
   },
   "source": [
    "Checking the shape of an array is very useful, if you want to see that what is happening is  what was intended."
   ]
  },
  {
   "attachments": {},
   "cell_type": "markdown",
   "metadata": {
    "id": "Jr80dQGUxW48"
   },
   "source": [
    "## 3. Generating arrays of random numbers\n",
    "\n",
    "This is going to be a very important tool in this course, as data simulation is very useful in modern data analysis. Data simulations, based on generated random data are often the best way to justify a data analysis process.\n",
    "\n",
    "Run the cell below should generate a single random number between 0 and 1."
   ]
  },
  {
   "cell_type": "code",
   "execution_count": null,
   "metadata": {
    "colab": {
     "base_uri": "https://localhost:8080/"
    },
    "id": "XyNvRQjnuT5T",
    "outputId": "4cbe3c29-edd9-40bf-ab8e-9f34fe9109df"
   },
   "outputs": [],
   "source": [
    "np.random.rand()"
   ]
  },
  {
   "cell_type": "markdown",
   "metadata": {
    "id": "Xfr20nx2zFHo"
   },
   "source": [
    "By adding an argument we can create a 1D array of 100 random numbers."
   ]
  },
  {
   "cell_type": "code",
   "execution_count": null,
   "metadata": {
    "colab": {
     "base_uri": "https://localhost:8080/"
    },
    "id": "DHaVrXcRoqLY",
    "outputId": "d0e0a364-e627-4aa4-df70-05f91175bd63"
   },
   "outputs": [],
   "source": [
    "my_random = np.random.rand(100)\n",
    "my_random"
   ]
  },
  {
   "cell_type": "markdown",
   "metadata": {},
   "source": [
    "## 4. Basic data visualization"
   ]
  },
  {
   "cell_type": "markdown",
   "metadata": {
    "id": "4__4_jZxHxgv"
   },
   "source": [
    "Use `plt.hist()`, to see what we have created. What does this tell us about `np.random.rand`?"
   ]
  },
  {
   "cell_type": "code",
   "execution_count": null,
   "metadata": {
    "colab": {
     "base_uri": "https://localhost:8080/",
     "height": 354
    },
    "id": "tldKbv1uHwo3",
    "outputId": "6271a075-99e6-4722-ed78-21c303654c54"
   },
   "outputs": [],
   "source": [
    "plt.hist(my_random, bins=10);"
   ]
  },
  {
   "cell_type": "markdown",
   "metadata": {
    "id": "riT_UX5rzM49"
   },
   "source": [
    "Or by adding 2 arguments, we get a 2D array of random values."
   ]
  },
  {
   "cell_type": "code",
   "execution_count": null,
   "metadata": {
    "colab": {
     "base_uri": "https://localhost:8080/"
    },
    "id": "YBiNppK_zRWw",
    "outputId": "592f6f31-4cae-47c0-d807-d626a0013451"
   },
   "outputs": [],
   "source": [
    "np.random.rand(2, 3)"
   ]
  },
  {
   "cell_type": "markdown",
   "metadata": {
    "id": "R-jQS_r0zjyy"
   },
   "source": [
    "If we want random integer numbers we can use the `randint()` function. It takes 3 arguments that define the minimum, the maximum value, and the number of elements to return. Fill the function to make 100 random integers between 0 and 9."
   ]
  },
  {
   "cell_type": "code",
   "execution_count": null,
   "metadata": {
    "colab": {
     "base_uri": "https://localhost:8080/"
    },
    "id": "deQvCQsGzgAo",
    "outputId": "e982f181-051e-489e-f2a3-3bb9dc2a5370"
   },
   "outputs": [],
   "source": [
    "np.random.randint(0, 10, 100)"
   ]
  },
  {
   "cell_type": "code",
   "execution_count": null,
   "metadata": {
    "id": "XJSZ0zDrly0s"
   },
   "outputs": [],
   "source": [
    "?np.random.randint"
   ]
  },
  {
   "cell_type": "markdown",
   "metadata": {
    "id": "H95b-xGu0Tb3"
   },
   "source": [
    "We need a small trick, to a make a 2D array of random integers. Fill the function to make a 5*5 array of integers between -3 and 3."
   ]
  },
  {
   "cell_type": "code",
   "execution_count": null,
   "metadata": {
    "colab": {
     "base_uri": "https://localhost:8080/"
    },
    "id": "NqIEQ_J-llcW",
    "outputId": "7f796b4d-6c80-4b53-ed22-450fbaa8330b"
   },
   "outputs": [],
   "source": [
    "np.random.randint(-3, 4, (5, 5))"
   ]
  },
  {
   "cell_type": "markdown",
   "metadata": {
    "id": "qp3Nc1s_0qJd"
   },
   "source": [
    "Another important function is to make **normally distributed** random numbers. `random.normal()` has 3 arguments, that define the mean, the standard deviation and the shape of the array to return. The standard normal distribution has mean=0 and SD=1. Make and array of 100 standard normal distributed random numbers."
   ]
  },
  {
   "cell_type": "code",
   "execution_count": null,
   "metadata": {
    "id": "F4MDfzFb16-K"
   },
   "outputs": [],
   "source": [
    "my_normal = np.random.normal(0, 1, 1000)"
   ]
  },
  {
   "cell_type": "code",
   "execution_count": null,
   "metadata": {
    "colab": {
     "base_uri": "https://localhost:8080/"
    },
    "id": "DLgI34B5mtHH",
    "outputId": "bdbbe46b-fd3d-417c-97b4-f71b86dd21f5"
   },
   "outputs": [],
   "source": [
    "np.random.normal(100, 25, 3)"
   ]
  },
  {
   "cell_type": "code",
   "execution_count": null,
   "metadata": {
    "id": "Sj-VK6l3mpBv"
   },
   "outputs": [],
   "source": [
    "?np.random.normal"
   ]
  },
  {
   "cell_type": "markdown",
   "metadata": {
    "id": "fmcEZcon2f3_"
   },
   "source": [
    "Now lets visualize what we have created using Matplotlib:"
   ]
  },
  {
   "cell_type": "code",
   "execution_count": null,
   "metadata": {
    "colab": {
     "base_uri": "https://localhost:8080/",
     "height": 283
    },
    "id": "G9VQsmVA2sCF",
    "outputId": "8d37fb9a-3672-4ca4-b69f-fed8a45f98fa"
   },
   "outputs": [],
   "source": [
    "plt.plot(my_normal);"
   ]
  },
  {
   "attachments": {},
   "cell_type": "markdown",
   "metadata": {
    "id": "IoXocZOk3FKY"
   },
   "source": [
    "A simple line plot in this case is not very meaningful, make a histogram instead, with `plt.hist()`. Hopefully you can see that it is approximately normally distributed. Now make a histogram for the `my_random` variable, that we created above."
   ]
  },
  {
   "cell_type": "code",
   "execution_count": null,
   "metadata": {
    "colab": {
     "base_uri": "https://localhost:8080/",
     "height": 391
    },
    "id": "rrWk1DQ62-nz",
    "outputId": "13d49b83-9736-4e97-c237-a3cabfacd8c2"
   },
   "outputs": [],
   "source": [
    "plt.hist(my_normal, bins=15);"
   ]
  },
  {
   "cell_type": "markdown",
   "metadata": {
    "id": "7REkjntnoGGY"
   },
   "source": [
    "As we saw, we can use `np.random.rand()`, to create 2D arrays of random numbers. No create a 7 row by 3 column array of random numbers."
   ]
  },
  {
   "cell_type": "code",
   "execution_count": null,
   "metadata": {
    "colab": {
     "base_uri": "https://localhost:8080/"
    },
    "id": "4WQqK6WqoA8A",
    "outputId": "7ef66f6f-0904-435c-e5be-71c39d3004fa"
   },
   "outputs": [],
   "source": [
    "my_rand2d = np.random.rand(7, 3)\n",
    "print(my_rand2d)"
   ]
  },
  {
   "cell_type": "markdown",
   "metadata": {
    "id": "truDcj25pGhd"
   },
   "source": [
    " use a `for` cycle to calculate the mean and standard deviation of each row, and `print` the result (also `print` the row number)."
   ]
  },
  {
   "cell_type": "code",
   "execution_count": null,
   "metadata": {
    "colab": {
     "base_uri": "https://localhost:8080/"
    },
    "id": "Slh-WqqppGy_",
    "outputId": "6d217f78-ac0b-4563-c0ff-4fb1ce3d84da"
   },
   "outputs": [],
   "source": [
    "dims = np.shape(my_rand2d)\n",
    "print(dims)\n",
    "for i in range(dims[0]):\n",
    "    print(i, \"mean\", np.mean(my_rand2d[i, :]), \"SD=\", np.std(my_rand2d[i, :]))\n",
    "\n",
    "for i in range(np.shape(my_rand2d)[0]):\n",
    "    print(i, \"mean\", np.mean(my_rand2d[i, :]), \"SD=\", np.std(my_rand2d[i, :]))"
   ]
  },
  {
   "cell_type": "markdown",
   "metadata": {
    "id": "3RjS3QENNR7s"
   },
   "source": [
    "Cycle by column."
   ]
  },
  {
   "cell_type": "code",
   "execution_count": null,
   "metadata": {
    "colab": {
     "base_uri": "https://localhost:8080/"
    },
    "id": "dm7nmKAvMH8L",
    "outputId": "7cc4ab8e-2c01-4e40-a72e-2417fb8bf43c"
   },
   "outputs": [],
   "source": [
    "dims = np.shape(my_rand2d)\n",
    "for i in range(dims[1]):\n",
    "    print(i, \"mean\", np.mean(my_rand2d[:, i]), \"SD=\", np.std(my_rand2d[:, i]))"
   ]
  },
  {
   "cell_type": "code",
   "execution_count": null,
   "metadata": {
    "colab": {
     "base_uri": "https://localhost:8080/"
    },
    "id": "V6wxgDmkL02i",
    "outputId": "fe493918-11ca-4451-a4aa-1024dad14eb5"
   },
   "outputs": [],
   "source": [
    "len(my_rand2d)"
   ]
  },
  {
   "cell_type": "markdown",
   "metadata": {
    "id": "LTZuYZS4pLA2"
   },
   "source": [
    "Instead of using a `for` cycle, in fact we can use `np.mean()`, and `np.std()` to calculate the mean and standard deviation for each row directly, using an optional argument. Calculate the mean and SD for each row and each column without a `for` cycle."
   ]
  },
  {
   "cell_type": "code",
   "execution_count": null,
   "metadata": {
    "colab": {
     "base_uri": "https://localhost:8080/"
    },
    "id": "N3p53Rw8poM8",
    "outputId": "00ec8096-ca47-4ca8-df88-d129f17769fa"
   },
   "outputs": [],
   "source": [
    "# print(my_rand2d)\n",
    "print(np.shape(my_rand2d))\n",
    "print(\"grand average\", np.mean(my_rand2d))\n",
    "print(\"average of rows\", np.mean(my_rand2d, 1))\n",
    "print(\"average of colunmns\", np.mean(my_rand2d, 0))\n",
    "print(np.shape(np.mean(my_rand2d, 1)))\n",
    "print(np.shape(np.mean(my_rand2d, 0)))"
   ]
  },
  {
   "cell_type": "markdown",
   "metadata": {
    "id": "kT6xNfAevTRO"
   },
   "source": [
    "1. make a random 1d-array of 40 normally distributed numbers\n",
    "2. make a 2nd 1d-array of 40 random integers that are 0 or 1\n",
    "3. join these two array into a 1d array of length 80\n",
    "4. join these array into a 2d array of 40 rows and 2 columns\n"
   ]
  },
  {
   "cell_type": "code",
   "execution_count": null,
   "metadata": {
    "colab": {
     "base_uri": "https://localhost:8080/"
    },
    "id": "ilVM2-PMqCEr",
    "outputId": "810f315d-65f7-4836-c1e2-9bfe071ff4bf"
   },
   "outputs": [],
   "source": [
    "n = 40\n",
    "# n2=50\n",
    "arr1 = np.random.normal(0, 1, n)\n",
    "arr2 = np.random.randint(0, 2, n)\n",
    "print(np.shape(np.concatenate((arr1, arr2))))\n",
    "print(np.shape(np.column_stack((arr1, arr2))))\n",
    "print(np.shape(np.row_stack((arr1, arr2))))"
   ]
  },
  {
   "cell_type": "markdown",
   "metadata": {
    "id": "hU-Qch3HwskU"
   },
   "source": [
    "Below we define a relatively long array:"
   ]
  },
  {
   "cell_type": "code",
   "execution_count": null,
   "metadata": {
    "id": "DUfJTXbpxDxy"
   },
   "outputs": [],
   "source": [
    "my_rand_l = np.array(\n",
    "    [\n",
    "        892,\n",
    "        209,\n",
    "        233,\n",
    "        736,\n",
    "        652,\n",
    "        899,\n",
    "        735,\n",
    "        754,\n",
    "        821,\n",
    "        37,\n",
    "        885,\n",
    "        881,\n",
    "        219,\n",
    "        3,\n",
    "        113,\n",
    "        731,\n",
    "        699,\n",
    "        390,\n",
    "        17,\n",
    "        720,\n",
    "        164,\n",
    "        61,\n",
    "        95,\n",
    "        473,\n",
    "        467,\n",
    "        285,\n",
    "        669,\n",
    "        364,\n",
    "        623,\n",
    "        552,\n",
    "        116,\n",
    "        404,\n",
    "        270,\n",
    "        415,\n",
    "        919,\n",
    "        160,\n",
    "        206,\n",
    "        544,\n",
    "        122,\n",
    "        291,\n",
    "        811,\n",
    "        674,\n",
    "        441,\n",
    "        74,\n",
    "        898,\n",
    "        520,\n",
    "        358,\n",
    "        238,\n",
    "        219,\n",
    "        152,\n",
    "        974,\n",
    "        578,\n",
    "        360,\n",
    "        479,\n",
    "        135,\n",
    "        950,\n",
    "        37,\n",
    "        26,\n",
    "        449,\n",
    "        51,\n",
    "        60,\n",
    "        425,\n",
    "        941,\n",
    "        83,\n",
    "        999,\n",
    "        619,\n",
    "        150,\n",
    "        223,\n",
    "        614,\n",
    "        918,\n",
    "        164,\n",
    "        222,\n",
    "        788,\n",
    "        429,\n",
    "        223,\n",
    "        922,\n",
    "        936,\n",
    "        815,\n",
    "        876,\n",
    "        180,\n",
    "        539,\n",
    "        338,\n",
    "        104,\n",
    "        725,\n",
    "        946,\n",
    "        294,\n",
    "        116,\n",
    "        930,\n",
    "        555,\n",
    "        46,\n",
    "        951,\n",
    "        803,\n",
    "        50,\n",
    "        181,\n",
    "        120,\n",
    "        39,\n",
    "        593,\n",
    "        119,\n",
    "        691,\n",
    "        473,\n",
    "        637,\n",
    "        956,\n",
    "        247,\n",
    "        955,\n",
    "        229,\n",
    "        400,\n",
    "        120,\n",
    "        201,\n",
    "        116,\n",
    "        392,\n",
    "        716,\n",
    "        174,\n",
    "        949,\n",
    "        654,\n",
    "        359,\n",
    "        884,\n",
    "        536,\n",
    "        790,\n",
    "        69,\n",
    "        460,\n",
    "        938,\n",
    "        999,\n",
    "        494,\n",
    "        199,\n",
    "        186,\n",
    "        899,\n",
    "        431,\n",
    "        210,\n",
    "        205,\n",
    "        853,\n",
    "        96,\n",
    "        222,\n",
    "        659,\n",
    "        648,\n",
    "        616,\n",
    "        852,\n",
    "        717,\n",
    "        520,\n",
    "        783,\n",
    "        435,\n",
    "        586,\n",
    "        75,\n",
    "        217,\n",
    "        261,\n",
    "        852,\n",
    "        493,\n",
    "        747,\n",
    "        468,\n",
    "        505,\n",
    "        68,\n",
    "        798,\n",
    "        585,\n",
    "        652,\n",
    "        888,\n",
    "        681,\n",
    "        859,\n",
    "        307,\n",
    "        947,\n",
    "        63,\n",
    "        31,\n",
    "        195,\n",
    "        152,\n",
    "        330,\n",
    "        159,\n",
    "        735,\n",
    "        453,\n",
    "        515,\n",
    "        813,\n",
    "        721,\n",
    "        511,\n",
    "        933,\n",
    "        236,\n",
    "        889,\n",
    "        432,\n",
    "        493,\n",
    "        913,\n",
    "        905,\n",
    "        183,\n",
    "        740,\n",
    "        37,\n",
    "        881,\n",
    "        887,\n",
    "        519,\n",
    "        315,\n",
    "        318,\n",
    "        70,\n",
    "        114,\n",
    "        682,\n",
    "        107,\n",
    "        708,\n",
    "        209,\n",
    "        887,\n",
    "        24,\n",
    "        320,\n",
    "        451,\n",
    "        800,\n",
    "        525,\n",
    "        432,\n",
    "        87,\n",
    "        115,\n",
    "        129,\n",
    "        395,\n",
    "        509,\n",
    "        453,\n",
    "        641,\n",
    "        429,\n",
    "        186,\n",
    "        437,\n",
    "        511,\n",
    "        234,\n",
    "        909,\n",
    "        146,\n",
    "        533,\n",
    "        210,\n",
    "        946,\n",
    "        182,\n",
    "        652,\n",
    "        611,\n",
    "        427,\n",
    "        379,\n",
    "        310,\n",
    "        880,\n",
    "        48,\n",
    "        793,\n",
    "        834,\n",
    "        631,\n",
    "        589,\n",
    "        366,\n",
    "        685,\n",
    "        814,\n",
    "        512,\n",
    "        578,\n",
    "        111,\n",
    "        930,\n",
    "        967,\n",
    "        150,\n",
    "        25,\n",
    "        812,\n",
    "        149,\n",
    "        871,\n",
    "        688,\n",
    "        950,\n",
    "        642,\n",
    "        512,\n",
    "        773,\n",
    "        475,\n",
    "        890,\n",
    "        318,\n",
    "        335,\n",
    "        459,\n",
    "        345,\n",
    "        332,\n",
    "        246,\n",
    "        498,\n",
    "        51,\n",
    "        698,\n",
    "        799,\n",
    "        745,\n",
    "        875,\n",
    "        286,\n",
    "        834,\n",
    "        27,\n",
    "        882,\n",
    "        339,\n",
    "        918,\n",
    "        419,\n",
    "        716,\n",
    "        110,\n",
    "        296,\n",
    "        596,\n",
    "        462,\n",
    "        638,\n",
    "        709,\n",
    "        861,\n",
    "        55,\n",
    "        122,\n",
    "        302,\n",
    "        553,\n",
    "        466,\n",
    "        26,\n",
    "        956,\n",
    "        388,\n",
    "        481,\n",
    "        941,\n",
    "        931,\n",
    "        915,\n",
    "        705,\n",
    "        340,\n",
    "        552,\n",
    "        150,\n",
    "        152,\n",
    "        934,\n",
    "        722,\n",
    "        351,\n",
    "        893,\n",
    "        203,\n",
    "        224,\n",
    "        494,\n",
    "        28,\n",
    "        630,\n",
    "    ]\n",
    ")"
   ]
  },
  {
   "cell_type": "markdown",
   "metadata": {
    "id": "1v3ustt5xaV8"
   },
   "source": [
    "Calculate:\n",
    "1. L=length of my_rand_l\n",
    "2. proportion of values below 100\n",
    "3. make a histogram MyRandL\n",
    "4. what is the maximum value and where is the maximum value of MyRandL ? find the index of the maximum!"
   ]
  },
  {
   "cell_type": "code",
   "execution_count": null,
   "metadata": {
    "colab": {
     "base_uri": "https://localhost:8080/"
    },
    "id": "7nkPCMX7x3Wp",
    "outputId": "5ba77881-8168-4819-8884-96308bf3af50"
   },
   "outputs": [],
   "source": [
    "l = len(MyRandl)\n",
    "print(type(l))\n",
    "l = np.shape(MyRandl)\n",
    "print(type(l))\n",
    "\n",
    "prop = np.sum(MyRandl < 100) / l\n",
    "print(prop)"
   ]
  },
  {
   "cell_type": "markdown",
   "metadata": {
    "id": "NrkdB1DyFfdb"
   },
   "source": [
    "Make a copy of `my_rand_2d`, using `np.copy()`, then modifiy some values."
   ]
  },
  {
   "cell_type": "code",
   "execution_count": null,
   "metadata": {
    "colab": {
     "base_uri": "https://localhost:8080/"
    },
    "id": "_EUFLuT7TYGL",
    "outputId": "1947e56f-2678-4cfb-a4c2-c7150276d528"
   },
   "outputs": [],
   "source": [
    "my_rand2d_mod = np.copy(my_rand2d)"
   ]
  },
  {
   "cell_type": "markdown",
   "metadata": {
    "id": "3ywy1ZfOzFzB"
   },
   "source": [
    "1. Make a 2D array of 5 row by 10 column of zeros called `xx1`\n",
    "2. use a for cycle to change the values of each row, to the values 0:9 using `np.arange()`\n",
    "3. use `plt.pcolor` to visualize what we have created\n",
    "\n",
    "\n"
   ]
  },
  {
   "cell_type": "code",
   "execution_count": null,
   "metadata": {
    "colab": {
     "base_uri": "https://localhost:8080/",
     "height": 460
    },
    "id": "_h45RuqAzW3f",
    "outputId": "8a7f1ddb-c94a-46ff-fa80-41ec27043102"
   },
   "outputs": [],
   "source": [
    "xx1 = np.zeros((5, 10))\n",
    "print(xx1)\n",
    "for row in np.arange(np.shape(xx1)[0]):\n",
    "    xx1[row, :] = np.arange(10)\n",
    "print(xx1)\n",
    "plt.pcolor(xx1);"
   ]
  },
  {
   "cell_type": "markdown",
   "metadata": {
    "id": "EENy-YpQs1G2"
   },
   "source": [
    "## Homework 1\n",
    "\n",
    "Let's write a function that takes as input a 1D numpy array and calculate the number of elements that are bigger than 0 but smaller than 10. Furthermore, the function should have 2 outputs:\n",
    "1. The number of elements fulfilling above critera.\n",
    "2. The proportion of elements fulfilling above criteria."
   ]
  },
  {
   "cell_type": "code",
   "execution_count": null,
   "metadata": {},
   "outputs": [],
   "source": [
    "#\n",
    "#\n",
    "#"
   ]
  },
  {
   "cell_type": "markdown",
   "metadata": {
    "id": "eLMr4UMEqE3z"
   },
   "source": [
    "## Homework 2\n",
    "1. Create a 1D array (e.g., let's call it `my_rand_norm`) of 50 normally distributed random values with mean=10 and SD=4.\n",
    "2. Calculate the proportion of numbers, that are smaller than 7.\n",
    "3. Calculate the proportion of numbers, that are smaller 5 or bigger than 14.\n",
    "4. Repeat steps 1-3 with a `for` cycle, but change the standard deviation in 10 steps from 1 to 15, and for each step calculate and print the result of the same calculations of 2-3.  "
   ]
  },
  {
   "cell_type": "code",
   "execution_count": null,
   "metadata": {},
   "outputs": [],
   "source": [
    "#\n",
    "#\n",
    "#"
   ]
  },
  {
   "cell_type": "markdown",
   "metadata": {
    "id": "n3Y6OUzjuxcC"
   },
   "source": [
    "## Homework 3\n",
    "\n",
    "write a function (e.g., you can name it `my_up_10`) that takes as an input a 2D numpy array (matrix), and calculates the number of elements that are bigger than 10 for each row. This function should return an array (e.g., let's call it `num_10_up`) that has the same length as the number of rows in the input.\n",
    "\n",
    "\n",
    "1. First write a solution with a `for` cycle, where you initialize `num_10_up` with an array of zeros (equaling the number of rows).\n",
    "2. Solve the task without a `for` cycle in a single line of code.\n",
    "\n",
    "\n",
    "*Note:* The function should work for a 2D input arrays of any size."
   ]
  },
  {
   "cell_type": "code",
   "execution_count": null,
   "metadata": {},
   "outputs": [],
   "source": [
    "#\n",
    "#\n",
    "#"
   ]
  },
  {
   "cell_type": "markdown",
   "metadata": {
    "id": "WZwuQZp3mdD3"
   },
   "source": [
    "## Homework 4: Simulation and 3D array\n",
    "\n",
    "We want to simulate an experiment with normally distributed reaction times for 80-80 trials, with 2 conditions (control and manipulation), for N participants.\n",
    "\n",
    "1. Simulate a random array of N normally distributed reaction times -- the mean reaction time for each participant in the control condition is M = 1000ms with SD = 200ms.\n",
    "2. Simulate an array of manipulation strength for each participant, average reaction time difference in manipulation condition, uniformly distributed between (-100 and +300ms).\n",
    "3. Create 3D array of zeros (subjects * conditions * trials).\n",
    "4. Using this new 3D array to simulate 80 normally distributed trials for both conditions and store the results in the above created 3D array (the mean of the normal distribution should be a combination of the participant mean reaction time in control condition, and effect manipulation strength). Let SD be 250ms for everyone.\n",
    "5. Visualize the results of the simulation for all conditions (for each subject and averages as well).\n",
    "6. Change some parameters of the simulation, and repeat the above."
   ]
  },
  {
   "cell_type": "code",
   "execution_count": null,
   "metadata": {
    "colab": {
     "base_uri": "https://localhost:8080/"
    },
    "id": "5rEeb61afm1u",
    "outputId": "8e278c6d-456f-4c36-c8bc-20b724da7b0c"
   },
   "outputs": [],
   "source": [
    "n_part = 15  # num of participant\n",
    "ncond = 2  # number of conditions\n",
    "ntr = 80  # num of trials"
   ]
  },
  {
   "cell_type": "markdown",
   "metadata": {
    "id": "FMm7ymBpTNy5"
   },
   "source": [
    "Storing example 1. Storing values 1 by 1 in a 2D array"
   ]
  },
  {
   "cell_type": "code",
   "execution_count": null,
   "metadata": {
    "colab": {
     "base_uri": "https://localhost:8080/"
    },
    "id": "mUq-as0ITNJQ",
    "outputId": "3b67f2bf-edae-4a73-c534-1ecb1eb62b13"
   },
   "outputs": [],
   "source": [
    "import numpy as np\n",
    "\n",
    "n = 5\n",
    "a = np.random.rand(n)\n",
    "b = np.arange(n)\n",
    "print(\"a: \", a)\n",
    "print(\"b: \", b)\n",
    "\n",
    "combinations = np.zeros((n, n))\n",
    "for ca, a in enumerate(a):\n",
    "    for cb, b in enumerate(b):\n",
    "        combinations[ca, cb] = (\n",
    "            a + b\n",
    "        ) / 2.0  # I store the average of all elements of a and b in a table\n",
    "\n",
    "print(combinations)"
   ]
  },
  {
   "cell_type": "markdown",
   "metadata": {
    "id": "wCrgq-ruU4zm"
   },
   "source": [
    "Storing example 2. Storing 1D numpy array of values in a 2D array:"
   ]
  },
  {
   "cell_type": "code",
   "execution_count": null,
   "metadata": {
    "colab": {
     "base_uri": "https://localhost:8080/"
    },
    "id": "JIG_fpXlUmwc",
    "outputId": "35fb0dd4-dcd8-4743-d8ff-68cc1860094a"
   },
   "outputs": [],
   "source": [
    "b = np.arange(n)\n",
    "combinations = np.zeros((n, n))\n",
    "for cb, b in enumerate(b):\n",
    "    combinations[:, cb] = (np.random.rand(n) * b) / 2\n",
    "print(combinations)"
   ]
  }
 ],
 "metadata": {
  "colab": {
   "provenance": []
  },
  "kernelspec": {
   "display_name": "Python 3 (ipykernel)",
   "language": "python",
   "name": "python3"
  },
  "language_info": {
   "codemirror_mode": {
    "name": "ipython",
    "version": 3
   },
   "file_extension": ".py",
   "mimetype": "text/x-python",
   "name": "python",
   "nbconvert_exporter": "python",
   "pygments_lexer": "ipython3",
   "version": "3.11.0"
  }
 },
 "nbformat": 4,
 "nbformat_minor": 4
}
