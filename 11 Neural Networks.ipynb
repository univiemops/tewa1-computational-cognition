{
 "cells": [
  {
   "cell_type": "markdown",
   "metadata": {
    "id": "C5N8uXaLdary"
   },
   "source": [
    "# Tutorial 9 - Part 2 - Neural Networks\n",
    "\n",
    "*Written and revised by Jozsef Arato, Mengfan Zhang, Dominik Pegler*  \n",
    "Computational Cognition Course, University of Vienna  \n",
    "https://github.com/univiemops/tewa1-computational-cognition\n",
    "\n",
    "---\n",
    "**This tutorial will cover:**\n",
    "\n",
    "*   compare supervised machine learning methods: logistic regression vs multilayer perceptron using scikit-learn\n",
    "*   keras libarary: \"regular\" neural network vs convolutional neural network\n",
    "\n",
    "---"
   ]
  },
  {
   "cell_type": "markdown",
   "metadata": {
    "id": "hA8cn7q7HYhK"
   },
   "source": [
    "## Import libraries"
   ]
  },
  {
   "cell_type": "code",
   "execution_count": null,
   "metadata": {
    "id": "PO4zPA7VS3WX"
   },
   "outputs": [],
   "source": [
    "import matplotlib.pyplot as plt\n",
    "import numpy as np"
   ]
  },
  {
   "cell_type": "markdown",
   "metadata": {
    "id": "Mx16npwLHUk6"
   },
   "source": [
    "## Import datasets, classifiers and performance metrics\n"
   ]
  },
  {
   "cell_type": "code",
   "execution_count": null,
   "metadata": {
    "id": "40zm9FkFHT2m"
   },
   "outputs": [],
   "source": [
    "from sklearn import datasets, metrics\n",
    "from sklearn.model_selection import train_test_split"
   ]
  },
  {
   "cell_type": "markdown",
   "metadata": {
    "id": "UlLXYsTnHcdh"
   },
   "source": [
    "### Load digits dataset from scikit-learn"
   ]
  },
  {
   "cell_type": "code",
   "execution_count": null,
   "metadata": {
    "id": "WwiE105JS5ix"
   },
   "outputs": [],
   "source": [
    "digits = datasets.load_digits()"
   ]
  },
  {
   "cell_type": "code",
   "execution_count": null,
   "metadata": {
    "colab": {
     "base_uri": "https://localhost:8080/"
    },
    "id": "qoMGvYUyTHnS",
    "outputId": "336e10b9-902b-4f9a-c392-4e97a80c2c7d"
   },
   "outputs": [],
   "source": [
    "np.shape(digits[\"images\"])"
   ]
  },
  {
   "cell_type": "code",
   "execution_count": null,
   "metadata": {
    "colab": {
     "base_uri": "https://localhost:8080/",
     "height": 287
    },
    "id": "YROo_yrgTROw",
    "outputId": "2ba24afc-6c7a-43ff-8f2f-90459a91402e"
   },
   "outputs": [],
   "source": [
    "plt.pcolor(digits[\"images\"][66], cmap=\"Greys\")"
   ]
  },
  {
   "cell_type": "code",
   "execution_count": null,
   "metadata": {
    "colab": {
     "base_uri": "https://localhost:8080/",
     "height": 485
    },
    "id": "kywVTyZLoYn6",
    "outputId": "97d3b560-b28e-4d72-bdfa-9c34e90bc91d"
   },
   "outputs": [],
   "source": [
    "plt.figure(figsize=(8, 8))\n",
    "for ci, i in enumerate(np.arange(0, 1000, 100)):\n",
    "    plt.subplot(4, 3, ci + 1)\n",
    "    plt.imshow(digits[\"images\"][i], cmap=\"Greys\")\n",
    "    plt.title(digits.target[i])\n",
    "    plt.xticks([])\n",
    "    plt.yticks([])"
   ]
  },
  {
   "cell_type": "code",
   "execution_count": null,
   "metadata": {
    "id": "Jr27c_ReTspM"
   },
   "outputs": [],
   "source": [
    "n_samples = len(digits.images)\n",
    "data = digits.images.reshape((n_samples, -1))"
   ]
  },
  {
   "cell_type": "code",
   "execution_count": null,
   "metadata": {
    "colab": {
     "base_uri": "https://localhost:8080/"
    },
    "id": "FUOGhBdQqBkj",
    "outputId": "134bb074-08c9-4fbc-99e4-a92fdd7d64dc"
   },
   "outputs": [],
   "source": [
    "print(\"number of samples\", n_samples)  #\n",
    "print(\"original shape\", np.shape(digits.images))  # 8*8 pixels\n",
    "print(\"input for LogReg/MLP shape\", np.shape(data))  # vec"
   ]
  },
  {
   "cell_type": "markdown",
   "metadata": {
    "id": "PoNkOuGAHm4k"
   },
   "source": [
    "### training-test split"
   ]
  },
  {
   "cell_type": "code",
   "execution_count": null,
   "metadata": {
    "id": "XM2Yh-W3Hnak"
   },
   "outputs": [],
   "source": [
    "# Split data into 50% train and 50% test subsets\n",
    "x_train, x_test, y_train, y_test = train_test_split(\n",
    "    data, digits.target, test_size=0.2, shuffle=False\n",
    ")"
   ]
  },
  {
   "cell_type": "markdown",
   "metadata": {
    "id": "MhTleGRAIQp4"
   },
   "source": [
    "## fit logisitic regression"
   ]
  },
  {
   "cell_type": "code",
   "execution_count": null,
   "metadata": {
    "id": "gk14EWc7S91a"
   },
   "outputs": [],
   "source": [
    "from sklearn.linear_model import LogisticRegression"
   ]
  },
  {
   "cell_type": "code",
   "execution_count": null,
   "metadata": {
    "colab": {
     "base_uri": "https://localhost:8080/"
    },
    "id": "mQrd5Fx1ImRY",
    "outputId": "43bb136c-72b0-4bc1-de36-22c0bca61105"
   },
   "outputs": [],
   "source": [
    "log_r = logistic_regression(solver=\"saga\", max_iter=30)\n",
    "log_r.fit(x_train, y_train)"
   ]
  },
  {
   "cell_type": "code",
   "execution_count": null,
   "metadata": {
    "colab": {
     "base_uri": "https://localhost:8080/"
    },
    "id": "FwmEqHxcIBTO",
    "outputId": "650bce1e-ddce-4c19-eb0c-d759965f5939"
   },
   "outputs": [],
   "source": [
    "log_r.score(x_train, y_train)"
   ]
  },
  {
   "cell_type": "code",
   "execution_count": null,
   "metadata": {
    "colab": {
     "base_uri": "https://localhost:8080/"
    },
    "id": "Q7Aa2cAuTfZT",
    "outputId": "655a1e69-92ee-49bb-85cf-6e3aa3ffb2af"
   },
   "outputs": [],
   "source": [
    "log_r.score(x_test, y_test)"
   ]
  },
  {
   "cell_type": "code",
   "execution_count": null,
   "metadata": {
    "colab": {
     "base_uri": "https://localhost:8080/"
    },
    "id": "eu-BZBbrrSMM",
    "outputId": "46ce171a-b6ee-43db-b795-d6d3459392d9"
   },
   "outputs": [],
   "source": [
    "np.shape(log_r.coef_)"
   ]
  },
  {
   "cell_type": "code",
   "execution_count": null,
   "metadata": {
    "colab": {
     "base_uri": "https://localhost:8080/",
     "height": 287
    },
    "id": "XnvobvG7us6V",
    "outputId": "58c280d5-89a4-45f1-9ffd-82df6c249aa5"
   },
   "outputs": [],
   "source": [
    "plt.pcolor(logR.coef_)\n",
    "plt.colorbar()\n",
    "plt."
   ]
  },
  {
   "cell_type": "code",
   "execution_count": null,
   "metadata": {
    "colab": {
     "base_uri": "https://localhost:8080/"
    },
    "id": "SnzElIqTvxYX",
    "outputId": "0a84d382-588c-4e5e-8861-dd9639eacca5"
   },
   "outputs": [],
   "source": [
    "np.shape(log_r.predict(x_train))"
   ]
  },
  {
   "cell_type": "code",
   "execution_count": null,
   "metadata": {
    "colab": {
     "base_uri": "https://localhost:8080/"
    },
    "id": "cfaMDKDcv4ue",
    "outputId": "0481ff14-094d-4dee-9a3b-4b595a4a025e"
   },
   "outputs": [],
   "source": [
    "np.shape(log_r.predict_proba(x_train))"
   ]
  },
  {
   "cell_type": "code",
   "execution_count": null,
   "metadata": {
    "colab": {
     "base_uri": "https://localhost:8080/"
    },
    "id": "PPfwQis3wWGy",
    "outputId": "2377ba4d-2bba-4e04-fe9b-94c2cc6edab3"
   },
   "outputs": [],
   "source": [
    "log_r.predict_proba(x_test)[15, :]"
   ]
  },
  {
   "cell_type": "markdown",
   "metadata": {
    "id": "Jj6oahpxIefQ"
   },
   "source": [
    "### fit multilayer perceptron"
   ]
  },
  {
   "cell_type": "code",
   "execution_count": null,
   "metadata": {
    "id": "WOET1AXIULpb"
   },
   "outputs": [],
   "source": [
    "from sklearn.neural_network import MLPClassifier"
   ]
  },
  {
   "cell_type": "code",
   "execution_count": null,
   "metadata": {
    "colab": {
     "base_uri": "https://localhost:8080/"
    },
    "id": "YgXcQJyvVL0n",
    "outputId": "0f26e809-537a-458d-ad53-51fdfd016832"
   },
   "outputs": [],
   "source": [
    "mlp = mlpClassifier(max_iter=50, hidden_layer_sizes=200)\n",
    "mlp.fit(x_train, y_train)"
   ]
  },
  {
   "cell_type": "code",
   "execution_count": null,
   "metadata": {
    "colab": {
     "base_uri": "https://localhost:8080/"
    },
    "id": "rueIEaCuVOem",
    "outputId": "636c12d0-fa75-44f1-acb7-9fbb8cc5f91c"
   },
   "outputs": [],
   "source": [
    "mlp.score(x_train, y_train)"
   ]
  },
  {
   "cell_type": "code",
   "execution_count": null,
   "metadata": {
    "colab": {
     "base_uri": "https://localhost:8080/"
    },
    "id": "8PUSEEO4VR6N",
    "outputId": "315bed3e-390e-412d-8fb1-6a2940f73bca"
   },
   "outputs": [],
   "source": [
    "mlp.score(x_test, y_test)"
   ]
  },
  {
   "cell_type": "code",
   "execution_count": null,
   "metadata": {
    "colab": {
     "base_uri": "https://localhost:8080/"
    },
    "id": "YqMPYKeZw2wK",
    "outputId": "c511f1fd-ecb1-400d-bd7c-4e6fa15374b0"
   },
   "outputs": [],
   "source": [
    "np.shape(mlp.predict_proba(x_test))"
   ]
  },
  {
   "cell_type": "markdown",
   "metadata": {
    "id": "eetGg_F5I3YB"
   },
   "source": [
    "### import a more interesting dataset\n",
    "from the keras libarary we can import cifar10\n",
    "\n",
    "\n",
    "https://www.cs.toronto.edu/~kriz/cifar.html\n"
   ]
  },
  {
   "cell_type": "code",
   "execution_count": null,
   "metadata": {
    "id": "LK9PyjYWVcZb"
   },
   "outputs": [],
   "source": [
    "from tensorflow import keras"
   ]
  },
  {
   "cell_type": "code",
   "execution_count": null,
   "metadata": {
    "colab": {
     "base_uri": "https://localhost:8080/"
    },
    "id": "7R5aNC69Ve5O",
    "outputId": "1172e436-9c81-4551-9132-d0d50de3d414"
   },
   "outputs": [],
   "source": [
    "(x_train, y_train), (x_test, y_test) = keras.datasets.cifar10.load_data()"
   ]
  },
  {
   "cell_type": "code",
   "execution_count": null,
   "metadata": {
    "id": "leYXzARWKn0i"
   },
   "outputs": [],
   "source": [
    "### preprocessing"
   ]
  },
  {
   "cell_type": "code",
   "execution_count": null,
   "metadata": {
    "id": "cKWbnkvhV0Ne"
   },
   "outputs": [],
   "source": [
    "x_train = x_train / 255.0\n",
    "x_train_arr = x_train.reshape(x_train.shape[0], -1)\n",
    "\n",
    "x_test = x_test / 255.0\n",
    "x_test_arr = x_test.reshape(x_test.shape[0], -1)"
   ]
  },
  {
   "cell_type": "code",
   "execution_count": null,
   "metadata": {
    "colab": {
     "base_uri": "https://localhost:8080/"
    },
    "id": "bEFYo2WnV6qX",
    "outputId": "65e9e662-dca7-492a-999d-3e8712f660d2"
   },
   "outputs": [],
   "source": [
    "np.shape(x_train)"
   ]
  },
  {
   "cell_type": "code",
   "execution_count": null,
   "metadata": {
    "id": "nNBiRB7QrsjE"
   },
   "outputs": [],
   "source": [
    "labels = {\n",
    "    0: \"plane\",\n",
    "    1: \"car\",\n",
    "    2: \"bird\",\n",
    "    3: \"cat\",\n",
    "    4: \"deer\",\n",
    "    5: \"dog\",\n",
    "    6: \"frog\",\n",
    "    7: \"horse\",\n",
    "    8: \"ship\",\n",
    "    9: \"truck\",\n",
    "}"
   ]
  },
  {
   "cell_type": "markdown",
   "metadata": {
    "id": "M8PCX9MtK8A0"
   },
   "source": [
    "### visualize 16 examples"
   ]
  },
  {
   "cell_type": "code",
   "execution_count": null,
   "metadata": {
    "colab": {
     "base_uri": "https://localhost:8080/",
     "height": 487
    },
    "id": "Jz7soEy6LEsP",
    "outputId": "760b6082-6b35-41c0-ad8a-20cc41c9ca9c"
   },
   "outputs": [],
   "source": [
    "plt.figure(figsize=(8, 8))\n",
    "for i in range(16):\n",
    "    plt.subplot(4, 4, i + 1)\n",
    "    plt.imshow(x_train[i, :, :, :])\n",
    "    plt.title(labels[int(y_train[i])], fontsize=16)\n",
    "    plt.xticks([])\n",
    "    plt.yticks([])"
   ]
  },
  {
   "cell_type": "markdown",
   "metadata": {
    "id": "E15nudjTeaCm"
   },
   "source": [
    "### visualize 6 examples from 5 categries"
   ]
  },
  {
   "cell_type": "code",
   "execution_count": null,
   "metadata": {
    "colab": {
     "base_uri": "https://localhost:8080/",
     "height": 593
    },
    "id": "xGjQUU9v1biO",
    "outputId": "9d51d2ae-7f02-4f22-efb6-456c4e41d9ee"
   },
   "outputs": [],
   "source": [
    "n_cat = 5\n",
    "n_ex = 6\n",
    "fig, ax = plt.subplots(nrows=n_cat, ncols=n_ex, figsize=(10, 10))\n",
    "for i in range(n_cat):\n",
    "    idx = np.nonzero(y_train == i)[0]\n",
    "    for e in range(n_ex):\n",
    "        ax[i, e].imshow(x_train[idx[e], :, :, :])\n",
    "        ax[i, e].set_title(labels[i])"
   ]
  },
  {
   "cell_type": "markdown",
   "metadata": {
    "id": "23KWnZKNLFbD"
   },
   "source": [
    "## fit multilayer perceptron to the data and evaluate the fit\n",
    "\n",
    "optional here: confusion matrix"
   ]
  },
  {
   "cell_type": "code",
   "execution_count": null,
   "metadata": {
    "colab": {
     "base_uri": "https://localhost:8080/"
    },
    "id": "Lg6fDcxrLE__",
    "outputId": "b1e2261b-0514-4f0a-df26-991e309df05d"
   },
   "outputs": [],
   "source": [
    "mlp = mlpClassifier(max_iter=30, hidden_layer_sizes=40)\n",
    "mlp.fit(x_train_arr, y_train.ravel())"
   ]
  },
  {
   "cell_type": "code",
   "execution_count": null,
   "metadata": {
    "colab": {
     "base_uri": "https://localhost:8080/"
    },
    "id": "aHJxlsXo3jVn",
    "outputId": "3779a143-ef6a-468c-807b-4ecf998b8bc6"
   },
   "outputs": [],
   "source": [
    "mlp.score(x_train_arr, y_train.ravel())"
   ]
  },
  {
   "cell_type": "code",
   "execution_count": null,
   "metadata": {
    "colab": {
     "base_uri": "https://localhost:8080/"
    },
    "id": "4wTCwwNA4kPw",
    "outputId": "728f29ee-a67a-43ee-e2fd-5e822b3d391f"
   },
   "outputs": [],
   "source": [
    "mlp.score(x_test_arr, y_test.ravel())"
   ]
  },
  {
   "cell_type": "code",
   "execution_count": null,
   "metadata": {
    "id": "R3QTRU6p35Jo"
   },
   "outputs": [],
   "source": [
    "preds = mlp.predict(x_test_arr)"
   ]
  },
  {
   "cell_type": "code",
   "execution_count": null,
   "metadata": {
    "id": "eDQG4k_r4Ln_"
   },
   "outputs": [],
   "source": [
    "ncat = 10\n",
    "confmat = np.zeros((ncat, ncat))\n",
    "for i in range(ncat):\n",
    "    for j in range(ncat):\n",
    "        confmat[i, j] = np.sum((y_test.ravel() == i) & (preds == j))"
   ]
  },
  {
   "cell_type": "code",
   "execution_count": null,
   "metadata": {
    "colab": {
     "base_uri": "https://localhost:8080/",
     "height": 313
    },
    "id": "hyn77mJx5SK8",
    "outputId": "3fa598c5-9f63-49e5-f08d-f27ba9520e53"
   },
   "outputs": [],
   "source": [
    "plt.pcolor(confmat)\n",
    "plt.colorbar()\n",
    "xx = plt.xticks(np.arange(ncat), list(labels.values()))\n",
    "yy = plt.yticks(np.arange(ncat), list(labels.values()))\n",
    "plt.xlabel(\"true category\")\n",
    "plt.ylabel(\"predicted category\")\n",
    "\n",
    "plt.title(\"test confusion matrix\")"
   ]
  },
  {
   "cell_type": "markdown",
   "metadata": {
    "id": "W1Ke7G-FLNZ_"
   },
   "source": [
    "## fit neural network with keras"
   ]
  },
  {
   "cell_type": "code",
   "execution_count": null,
   "metadata": {
    "id": "2YUyHmX2LtSp"
   },
   "outputs": [],
   "source": [
    "from tensorflow.keras.layers import Dense\n",
    "from tensorflow.keras.models import Sequential"
   ]
  },
  {
   "cell_type": "markdown",
   "metadata": {
    "id": "GY9IBZkFL8Rj"
   },
   "source": [
    "### set up network"
   ]
  },
  {
   "cell_type": "code",
   "execution_count": null,
   "metadata": {
    "id": "jb-q-J8JLXtn"
   },
   "outputs": [],
   "source": [
    "nn_model = sequential()\n",
    "nn_model.add(dense(30, input_dim=np.shape(x_train_arr)[1], activation=\"relu\"))\n",
    "nn_model.add(dense(10, activation=\"softmax\"))"
   ]
  },
  {
   "cell_type": "code",
   "execution_count": null,
   "metadata": {
    "colab": {
     "base_uri": "https://localhost:8080/"
    },
    "id": "V0MJ_l8w7pya",
    "outputId": "7f3ef97c-e9cc-48dc-c636-034d1104c742"
   },
   "outputs": [],
   "source": [
    "np.shape(x_train_arr)"
   ]
  },
  {
   "cell_type": "markdown",
   "metadata": {
    "id": "V6JyK9ZzL-xR"
   },
   "source": [
    "### compile"
   ]
  },
  {
   "cell_type": "code",
   "execution_count": null,
   "metadata": {
    "id": "l7eD2pVLLhwA"
   },
   "outputs": [],
   "source": [
    "nn_model.compile(\n",
    "    loss=\"categorical_crossentropy\", optimizer=\"adam\", metrics=[\"accuracy\"]\n",
    ")"
   ]
  },
  {
   "cell_type": "markdown",
   "metadata": {
    "id": "VEjkfPM9dcFS"
   },
   "source": [
    "\n",
    "### one-hot encoding\n",
    "to fit the model, we need to shift the Y to one-hot encoding (at least with this version of Keras)\n",
    "\n",
    "\n",
    "https://datagy.io/sklearn-one-hot-encode/\n",
    "\n"
   ]
  },
  {
   "cell_type": "code",
   "execution_count": null,
   "metadata": {
    "id": "kr6elCA8Sd4b"
   },
   "outputs": [],
   "source": [
    "from sklearn.preprocessing import one_hot_encoder\n",
    "\n",
    "enc = one_hot_encoder()\n",
    "y_train_enc = enc.fit_transform(y_train).toarray()\n",
    "y_test_enc = enc.fit_transform(y_test).toarray()"
   ]
  },
  {
   "cell_type": "code",
   "execution_count": null,
   "metadata": {
    "colab": {
     "base_uri": "https://localhost:8080/"
    },
    "id": "RYSQJpkBSsFa",
    "outputId": "6da05dd3-7c66-4137-fb17-0680dcac4660"
   },
   "outputs": [],
   "source": [
    "y_train_enc"
   ]
  },
  {
   "cell_type": "code",
   "execution_count": null,
   "metadata": {
    "colab": {
     "base_uri": "https://localhost:8080/"
    },
    "id": "eh-kKHqYLjIh",
    "outputId": "eccff472-ca86-43ff-f075-6ea11d827a4c"
   },
   "outputs": [],
   "source": [
    "nn_model.fit(x_train_arr, y_train_enc, epochs=10, validation_split=0.1)"
   ]
  },
  {
   "cell_type": "code",
   "execution_count": null,
   "metadata": {
    "colab": {
     "base_uri": "https://localhost:8080/"
    },
    "id": "jUnW_DvJQ8Dr",
    "outputId": "426a44c7-19b6-4d2b-ab71-33431e102454"
   },
   "outputs": [],
   "source": [
    "np.shape(y_train)  # [0]"
   ]
  },
  {
   "cell_type": "code",
   "execution_count": null,
   "metadata": {
    "colab": {
     "base_uri": "https://localhost:8080/"
    },
    "id": "tZN4LaxMSHRs",
    "outputId": "6c99dd31-4444-43c3-f4ad-71cd86e3790b"
   },
   "outputs": [],
   "source": [
    "np.shape(x_train_arr)  # [0]"
   ]
  },
  {
   "cell_type": "code",
   "execution_count": null,
   "metadata": {
    "colab": {
     "base_uri": "https://localhost:8080/"
    },
    "id": "Bc-ILbMkLozQ",
    "outputId": "e061c2ee-a5c4-4d4c-b84a-7c2b5155b9ed"
   },
   "outputs": [],
   "source": [
    "_, accuracy = nn_model.evaluate(x_test_arr, y_test_enc)"
   ]
  },
  {
   "cell_type": "code",
   "execution_count": null,
   "metadata": {
    "colab": {
     "base_uri": "https://localhost:8080/"
    },
    "id": "LVaImKjYLqIC",
    "outputId": "e5b8985b-d549-4689-c1c6-70a67643d241"
   },
   "outputs": [],
   "source": [
    "nn_model.summary()"
   ]
  },
  {
   "cell_type": "markdown",
   "metadata": {
    "id": "1gJPuR_MLT3u"
   },
   "source": [
    "### fit Convolutional neural network with keras"
   ]
  },
  {
   "cell_type": "code",
   "execution_count": null,
   "metadata": {
    "id": "saHbDV_ALupo"
   },
   "outputs": [],
   "source": [
    "from keras.layers import Conv2D, Flatten, MaxPooling2D"
   ]
  },
  {
   "cell_type": "code",
   "execution_count": null,
   "metadata": {
    "id": "e5ihEZZWUN6b"
   },
   "outputs": [],
   "source": [
    "dims = x_train.shape"
   ]
  },
  {
   "cell_type": "markdown",
   "metadata": {
    "id": "jwYW-za1d7nU"
   },
   "source": [
    "## set up CNN\n",
    "for this we need\n",
    "1. convolutional layers (consisting of 64 filters in this case)\n",
    "2. MaxPooling layers\n",
    "3. flatten the input (among regions and colors)\n",
    "4. Densely connected layers (that use softmax and peform the actual catagorization into 10 categories)"
   ]
  },
  {
   "cell_type": "code",
   "execution_count": null,
   "metadata": {
    "id": "gSvwVP_6MKSW"
   },
   "outputs": [],
   "source": [
    "model_cnn = sequential()\n",
    "\n",
    "model_cnn.add(\n",
    "    conv2_d(\n",
    "        filters=64,\n",
    "        kernel_size=2,\n",
    "        padding=\"same\",\n",
    "        activation=\"relu\",\n",
    "        input_shape=(dims[1], dims[2], dims[3]),\n",
    "    )\n",
    ")\n",
    "model_cnn.add(max_pooling2_d(pool_size=2))\n",
    "model_cnn.add(flatten())\n",
    "model_cnn.add(dense(10, activation=\"softmax\"))"
   ]
  },
  {
   "cell_type": "markdown",
   "metadata": {
    "id": "ETvQbpiIMXGo"
   },
   "source": [
    "### compile model"
   ]
  },
  {
   "cell_type": "code",
   "execution_count": null,
   "metadata": {
    "id": "SZtt-f-yMU_Q"
   },
   "outputs": [],
   "source": [
    "model_cnn.compile(\n",
    "    loss=\"categorical_crossentropy\", optimizer=\"adam\", metrics=[\"accuracy\"]\n",
    ")"
   ]
  },
  {
   "cell_type": "markdown",
   "metadata": {
    "id": "v9Lp-ZDhMZU_"
   },
   "source": [
    "### fit model\n",
    "\n",
    "#### fit 5 epochs"
   ]
  },
  {
   "cell_type": "code",
   "execution_count": null,
   "metadata": {
    "colab": {
     "base_uri": "https://localhost:8080/"
    },
    "id": "kMti5Vu1MbMT",
    "outputId": "7c7d4419-6ecd-4941-8489-fd278023e04d"
   },
   "outputs": [],
   "source": [
    "model_cnn.fit(x_train, y_train_enc, epochs=5, validation_split=0.1)"
   ]
  },
  {
   "cell_type": "markdown",
   "metadata": {
    "id": "H0q2tkIQaOQO"
   },
   "source": [
    "#### fit 2 more epochs"
   ]
  },
  {
   "cell_type": "code",
   "execution_count": null,
   "metadata": {
    "colab": {
     "base_uri": "https://localhost:8080/"
    },
    "id": "s1yGB7GXZpIz",
    "outputId": "576ec1c7-5383-4d3c-f4a2-b91c9e48bdf3"
   },
   "outputs": [],
   "source": [
    "model_cnn.fit(x_train, y_train_enc, epochs=2, validation_split=0.1)"
   ]
  },
  {
   "cell_type": "code",
   "execution_count": null,
   "metadata": {
    "colab": {
     "base_uri": "https://localhost:8080/"
    },
    "id": "WVpP_RC9MiFX",
    "outputId": "d3bec419-d389-4502-e5a3-35862a106118"
   },
   "outputs": [],
   "source": [
    "_, accuracy = model_cnn.evaluate(x_test, y_test_enc)\n",
    "print(accuracy)"
   ]
  },
  {
   "cell_type": "code",
   "execution_count": null,
   "metadata": {
    "colab": {
     "base_uri": "https://localhost:8080/"
    },
    "id": "KJuBOw1rdx2k",
    "outputId": "f0d09f9c-7ffa-4fc6-face-5bf88f6c80a7"
   },
   "outputs": [],
   "source": [
    "model_cnn.summary()"
   ]
  },
  {
   "cell_type": "code",
   "execution_count": null,
   "metadata": {
    "colab": {
     "base_uri": "https://localhost:8080/"
    },
    "id": "L6Fqs2S9Mlct",
    "outputId": "0020db65-5938-4ad0-9733-533902bf8030"
   },
   "outputs": [],
   "source": [
    "preds = model_cnn.predict(x_test)\n",
    "print(preds[0:5, :])\n",
    "print(np.shape(preds))\n",
    "preds = np.argmax(preds, 1)\n",
    "print(np.shape(preds))"
   ]
  },
  {
   "cell_type": "markdown",
   "metadata": {
    "id": "UZ5PtlKkMsEr"
   },
   "source": [
    "### confusion matrix on test set\n",
    "include stimulus names"
   ]
  },
  {
   "cell_type": "code",
   "execution_count": null,
   "metadata": {
    "id": "H0GYYctVMqg7"
   },
   "outputs": [],
   "source": [
    "confmat = np.zeros((ncat, ncat))\n",
    "for i in range(ncat):\n",
    "    for j in range(ncat):\n",
    "        confmat[i, j] = np.sum((y_test.ravel() == i) & (preds == j))"
   ]
  },
  {
   "cell_type": "code",
   "execution_count": null,
   "metadata": {
    "colab": {
     "base_uri": "https://localhost:8080/",
     "height": 313
    },
    "id": "qIfyxO0WcELI",
    "outputId": "ade1d6e4-02b6-4463-8fde-4cb14b6d1b95"
   },
   "outputs": [],
   "source": [
    "plt.pcolor(confmat)\n",
    "plt.colorbar()\n",
    "xx = plt.xticks(np.arange(ncat) + 0.5, list(labels.values()))\n",
    "plt.xlabel(\"true category\")\n",
    "yy = plt.yticks(np.arange(ncat) + 0.5, list(labels.values()))\n",
    "plt.title(\"test CNN confusion matrix\")\n",
    "plt.ylabel(\"predicted category\")"
   ]
  },
  {
   "cell_type": "markdown",
   "metadata": {
    "id": "q3Bq97hHT-Ab"
   },
   "source": [
    "explore CNN parameters, and how changing them might improve classification on test set\n",
    "\n",
    "options include:\n",
    "- changing the size of the convolutonal kernels\n",
    "- adding more convolutional and pooling layers"
   ]
  },
  {
   "cell_type": "code",
   "execution_count": null,
   "metadata": {
    "id": "kFM0L9N7UC4_"
   },
   "outputs": [],
   "source": []
  }
 ],
 "metadata": {
  "colab": {
   "provenance": []
  },
  "kernelspec": {
   "display_name": "Python 3 (ipykernel)",
   "language": "python",
   "name": "python3"
  },
  "language_info": {
   "codemirror_mode": {
    "name": "ipython",
    "version": 3
   },
   "file_extension": ".py",
   "mimetype": "text/x-python",
   "name": "python",
   "nbconvert_exporter": "python",
   "pygments_lexer": "ipython3",
   "version": "3.11.0"
  }
 },
 "nbformat": 4,
 "nbformat_minor": 4
}
