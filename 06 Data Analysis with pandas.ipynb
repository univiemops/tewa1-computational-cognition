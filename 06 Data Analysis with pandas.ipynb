{
 "cells": [
  {
   "cell_type": "markdown",
   "metadata": {
    "id": "C5N8uXaLdary"
   },
   "source": [
    "# Tutorial 6 - Data Analysis with pandas (and dogs)\n",
    "\n",
    "\n",
    "*Written and revised by Jozsef Arato, Mengfan Zhang, Dominik Pegler*  \n",
    "Computational Cognition Course, University of Vienna  \n",
    "https://github.com/univiemops/tewa1-computational-cognition\n",
    "\n",
    "## This week's lab:\n",
    "\n",
    "In this tutorial, we will introduce you to one of the most important Python libraries for data analysis: **pandas**. What NumPy is for arrays and matrices, SciPy for various mathematical and statistical functions, and Matplotlib for data visualization, pandas is for analyzing tabular data. The central object in pandas is the **DataFrame** (pandas.DataFrame). Pandas is based on NumPy, but extends its functionality. For example, dataframes have column names, and unlike NumPy's arrays, dataframes can contain different data types (strings, integers, timestamps, etc.). This makes Pandas an ideal tool for analyzing data from psychological questionnaires, for example. Pandas is also highly valued by those transitioning from R because it offers a similar data manipulation experience. Its DataFrame object, along with methods like `groupby`, `merge`, and `pivot_table`, mirror the functionality of R's dplyr and tidyr, making familiar data tasks easier.\n",
    "\n",
    "In this notebook, we have included many explanations as comments in the code cell. Please read them carefully instead of just pressing the run button.  \n",
    "\n",
    "**Learning goals:** \\\n",
    "When finishing this tutorial, you should be able to ...\n",
    "* analyze tabular data using filtering, indexing, grouping\n",
    "* visualize data in a pandas DataFrame\n",
    "* combine pandas and NumPy\n",
    "\n",
    "**Resources:**\n",
    "\n",
    "https://pandas.pydata.org/docs/getting_started/intro_tutorials/index.html\n",
    "\n",
    "\n",
    "**Deadline:** Day of next lab, 10:00"
   ]
  },
  {
   "cell_type": "markdown",
   "metadata": {},
   "source": [
    "## Imports and data download\n",
    "\n",
    "Pandas is usually imported as `pd`."
   ]
  },
  {
   "cell_type": "code",
   "execution_count": null,
   "metadata": {
    "id": "pCvIKupuDdWJ"
   },
   "outputs": [],
   "source": [
    "import os\n",
    "\n",
    "import matplotlib.pyplot as plt\n",
    "import numpy as np\n",
    "import pandas as pd\n",
    "import requests\n",
    "\n",
    "\n",
    "def download_file(filename, url):\n",
    "    if not os.path.isfile(filename):\n",
    "        with requests.get(url) as fo:\n",
    "            open(filename, \"wb\").write(fo.content)\n",
    "        print(f\"{filename} downloaded.\")\n",
    "    else:\n",
    "        print(f\"{filename} already available.\")\n",
    "\n",
    "\n",
    "download_file(\n",
    "    \"world_cities.csv\",\n",
    "    \"https://ucloud.univie.ac.at/index.php/s/2MX4K4dca47ztGr/download\",\n",
    ")  # original source of dataset https://www.kaggle.com/datasets/juanmah/world-cities"
   ]
  },
  {
   "cell_type": "markdown",
   "metadata": {
    "id": "lfpUSdgRL3l2"
   },
   "source": [
    "## 1. Create a dataframe and explore the data\n",
    "\n",
    "A common convention for dataframe names is to use `df` or `df_something`. The `.head()` method shows you the first `n` rows of the dataframe, `.tail()` the last `n` (default for `n` is 5). You can access the column names by `list(df)` or `df.columns`."
   ]
  },
  {
   "cell_type": "code",
   "execution_count": null,
   "metadata": {
    "colab": {
     "base_uri": "https://localhost:8080/",
     "height": 485
    },
    "id": "42dyWDRNG8CW",
    "outputId": "315b64ac-a82b-41f8-de6c-6be23eecbec7"
   },
   "outputs": [],
   "source": [
    "df = pd.read_csv(\"world_cities.csv\")\n",
    "\n",
    "type(df)"
   ]
  },
  {
   "cell_type": "markdown",
   "metadata": {},
   "source": [
    "### 1.1. Basic views"
   ]
  },
  {
   "cell_type": "code",
   "execution_count": null,
   "metadata": {},
   "outputs": [],
   "source": [
    "df.head()"
   ]
  },
  {
   "cell_type": "code",
   "execution_count": null,
   "metadata": {},
   "outputs": [],
   "source": [
    "df.tail(8)"
   ]
  },
  {
   "cell_type": "markdown",
   "metadata": {},
   "source": [
    "If you simply type `df` or `print(df)` it will do a combination of `head()` and `tail()`."
   ]
  },
  {
   "cell_type": "code",
   "execution_count": null,
   "metadata": {
    "colab": {
     "base_uri": "https://localhost:8080/"
    },
    "id": "JMA05aTpL0v-",
    "outputId": "7d79188a-b080-4a79-adcc-39b626cc25a7"
   },
   "outputs": [],
   "source": [
    "list(df)"
   ]
  },
  {
   "cell_type": "code",
   "execution_count": null,
   "metadata": {},
   "outputs": [],
   "source": [
    "df.columns"
   ]
  },
  {
   "cell_type": "markdown",
   "metadata": {},
   "source": [
    "### 1.2. Accessing columns and rows"
   ]
  },
  {
   "cell_type": "markdown",
   "metadata": {
    "id": "TF8dtqW6MKR8"
   },
   "source": [
    "Columns can be accessed in at least 3 ways:\n",
    "\n",
    "1) By it's number,\n",
    "2) by it's name as a string, and\n",
    "3) by it's name as an attribute.\n",
    "\n",
    "Although it's often convenient to use the attribute approach, we recommend that you stick to the string approach. You'll see later that this will save you some headaches, especially if you have column names with spaces (which don't work in attributes)."
   ]
  },
  {
   "cell_type": "code",
   "execution_count": null,
   "metadata": {},
   "outputs": [],
   "source": [
    "# 1) Access by column number. This way of indexing is analog to NumPy's indexing\n",
    "\n",
    "df.iloc[:, 0]  # first column, all rows"
   ]
  },
  {
   "cell_type": "code",
   "execution_count": null,
   "metadata": {},
   "outputs": [],
   "source": [
    "# 2) Access by it's name as an attribute.\n",
    "\n",
    "df.city"
   ]
  },
  {
   "cell_type": "code",
   "execution_count": null,
   "metadata": {},
   "outputs": [],
   "source": [
    "# 3 a) Access by it's name as a string.\n",
    "\n",
    "df[\"city\"]"
   ]
  },
  {
   "cell_type": "code",
   "execution_count": null,
   "metadata": {},
   "outputs": [],
   "source": [
    "# 3 b) Access by it's name as a string (loc attribute)\n",
    "\n",
    "df.loc[:, \"city\"]  # city column, all rows"
   ]
  },
  {
   "cell_type": "markdown",
   "metadata": {},
   "source": [
    "As you might have guessed from the comments, (1) and (3) also give you the option to access rows. Oh, and boolean indexing for filtering rows works just as nicely in pandas as it does in NumPy. "
   ]
  },
  {
   "cell_type": "code",
   "execution_count": null,
   "metadata": {},
   "outputs": [],
   "source": [
    "# e.g. we can use some condition as our boolean index ...\n",
    "\n",
    "df[\"capital\"] == \"primary\""
   ]
  },
  {
   "cell_type": "code",
   "execution_count": null,
   "metadata": {},
   "outputs": [],
   "source": [
    "# ... and place it here as the row index instead of \":\"\n",
    "\n",
    "df.loc[df[\"capital\"] == \"primary\", \"city\"]"
   ]
  },
  {
   "cell_type": "code",
   "execution_count": null,
   "metadata": {},
   "outputs": [],
   "source": [
    "# ... the same, but with 2 columns\n",
    "\n",
    "df.loc[df[\"capital\"] == \"primary\", [\"country\", \"city\"]]"
   ]
  },
  {
   "cell_type": "markdown",
   "metadata": {},
   "source": [
    "### 1.3. Unique values"
   ]
  },
  {
   "cell_type": "markdown",
   "metadata": {},
   "source": [
    "To see what the unique values in a column are, you can use the `unique()` method."
   ]
  },
  {
   "cell_type": "code",
   "execution_count": null,
   "metadata": {
    "colab": {
     "base_uri": "https://localhost:8080/"
    },
    "id": "JWk_vb-pMH1P",
    "outputId": "2a2d439d-7aa6-4137-83a9-7271030b075c"
   },
   "outputs": [],
   "source": [
    "df[\"capital\"].unique()"
   ]
  },
  {
   "cell_type": "markdown",
   "metadata": {
    "id": "M-Uj1sXfWbIY"
   },
   "source": [
    "With `len()` you can see how many countries are included in the dataset."
   ]
  },
  {
   "cell_type": "code",
   "execution_count": null,
   "metadata": {
    "colab": {
     "base_uri": "https://localhost:8080/"
    },
    "id": "01cJxLl-MYZE",
    "outputId": "e4356e75-e634-4795-a10b-77e9c46be0e0"
   },
   "outputs": [],
   "source": [
    "len(df[\"country\"].unique())"
   ]
  },
  {
   "cell_type": "markdown",
   "metadata": {},
   "source": [
    "What else might you be interested in and want to explore?"
   ]
  },
  {
   "cell_type": "code",
   "execution_count": null,
   "metadata": {},
   "outputs": [],
   "source": [
    "#\n",
    "#\n",
    "#"
   ]
  },
  {
   "cell_type": "markdown",
   "metadata": {
    "id": "GDDn9wdFH9Ol"
   },
   "source": [
    "### 1.4. Descriptive statistics\n",
    "\n",
    "Explore dataset properties using pandas' summary features."
   ]
  },
  {
   "cell_type": "code",
   "execution_count": null,
   "metadata": {
    "colab": {
     "base_uri": "https://localhost:8080/",
     "height": 300
    },
    "id": "GA7J2XUpG9zz",
    "outputId": "e5e74d64-fe44-4e3a-864d-b903cd1239d2"
   },
   "outputs": [],
   "source": [
    "df.describe()"
   ]
  },
  {
   "cell_type": "code",
   "execution_count": null,
   "metadata": {
    "colab": {
     "base_uri": "https://localhost:8080/"
    },
    "id": "TS2-e1BkgOdp",
    "outputId": "8211190d-0ce8-4236-d7d1-451d512b1e29"
   },
   "outputs": [],
   "source": [
    "df.shape"
   ]
  },
  {
   "cell_type": "code",
   "execution_count": null,
   "metadata": {
    "colab": {
     "base_uri": "https://localhost:8080/"
    },
    "id": "oZLwyxcHgvvZ",
    "outputId": "1fad880c-695b-4c00-a98f-95c2c133b21e"
   },
   "outputs": [],
   "source": [
    "df.count()"
   ]
  },
  {
   "cell_type": "code",
   "execution_count": null,
   "metadata": {},
   "outputs": [],
   "source": [
    "df.population.max()"
   ]
  },
  {
   "cell_type": "markdown",
   "metadata": {
    "id": "nLkRf5c3LMFP"
   },
   "source": [
    "### 1.5. Visualize ...\n",
    "\n",
    "... all cities by latitude and longitude with a scatter plot"
   ]
  },
  {
   "cell_type": "code",
   "execution_count": null,
   "metadata": {
    "colab": {
     "base_uri": "https://localhost:8080/",
     "height": 282
    },
    "id": "qE4YY-ONiGqZ",
    "outputId": "f93ff150-4c08-4518-fad8-b967b9ca7e64"
   },
   "outputs": [],
   "source": [
    "plt.figure(figsize=(10, 6))\n",
    "plt.scatter(df[\"lng\"], df[\"lat\"], alpha=0.3, s=1)"
   ]
  },
  {
   "cell_type": "markdown",
   "metadata": {
    "id": "1rDHi0cYIMpn"
   },
   "source": [
    "### 1.6. Use `.sort_values()` method to sort ...\n",
    "\n",
    "... the values to see which are the southernmost and northernmost cities.\n"
   ]
  },
  {
   "cell_type": "code",
   "execution_count": null,
   "metadata": {
    "colab": {
     "base_uri": "https://localhost:8080/",
     "height": 554
    },
    "id": "kDFZh7wpIrCC",
    "outputId": "5857d2fb-236c-45e1-95eb-ef32146d4cd7"
   },
   "outputs": [],
   "source": [
    "df.sort_values(\"lat\")"
   ]
  },
  {
   "cell_type": "markdown",
   "metadata": {},
   "source": [
    "Sort by population in descending order and write the result back to out DataFrame."
   ]
  },
  {
   "cell_type": "code",
   "execution_count": null,
   "metadata": {
    "id": "p1KcPROUi6pq"
   },
   "outputs": [],
   "source": [
    "df = df.sort_values(\"population\", ascending=False)\n",
    "\n",
    "df"
   ]
  },
  {
   "cell_type": "markdown",
   "metadata": {
    "id": "-yfVtYPxJ0q9"
   },
   "source": [
    "## 2. Filtering and indexing the data set\n",
    "\n",
    "With filtering in pandas, we can identify specific subsets of data, extract rows based on conditions, and focus on specific areas of data. This capability streamlines targeted analysis and data cleaning, helping us effectively isolate outliers and missing values and make informed decisions.\n",
    "\n",
    "About our data set, we can ask the following questions:\n",
    "\n",
    "1. How many cities are there in Austria in this dataset?\n",
    "2. What is the average population of cities in Austria?\n",
    "3. What is the number of cities in southern vs. northern hemisphere?"
   ]
  },
  {
   "cell_type": "code",
   "execution_count": null,
   "metadata": {
    "colab": {
     "base_uri": "https://localhost:8080/"
    },
    "id": "VGhSWMamJ_hK",
    "outputId": "6bbab65f-58f0-45b2-ef4c-ae2a963133e9"
   },
   "outputs": [],
   "source": [
    "(df[\"country\"] == \"Austria\").sum()"
   ]
  },
  {
   "cell_type": "markdown",
   "metadata": {},
   "source": [
    "It is one of the most useful things to memorize how to filter in pandas, although it may not be the most intuitive at first."
   ]
  },
  {
   "cell_type": "code",
   "execution_count": null,
   "metadata": {
    "colab": {
     "base_uri": "https://localhost:8080/",
     "height": 282
    },
    "id": "6Qr0G8sjkfQk",
    "outputId": "3c4b1f16-68b5-4df1-d48d-b48534b2c999"
   },
   "outputs": [],
   "source": [
    "plt.scatter(\n",
    "    df.loc[df[\"country\"] == \"Austria\", \"lng\"],\n",
    "    df.loc[df[\"country\"] == \"Austria\", \"lat\"],\n",
    "    alpha=0.8,\n",
    ")"
   ]
  },
  {
   "cell_type": "code",
   "execution_count": null,
   "metadata": {
    "colab": {
     "base_uri": "https://localhost:8080/"
    },
    "id": "egEQG__-lt3C",
    "outputId": "d83a5dca-41e9-4e4e-b558-8c0f84fce06e"
   },
   "outputs": [],
   "source": [
    "df.loc[df[\"country\"] == \"Austria\", \"population\"].mean()"
   ]
  },
  {
   "cell_type": "code",
   "execution_count": null,
   "metadata": {
    "colab": {
     "base_uri": "https://localhost:8080/"
    },
    "id": "UBb6sopAl8k4",
    "outputId": "f7f67acd-543c-4307-fe39-2bf3c6dddfa0"
   },
   "outputs": [],
   "source": [
    "df.loc[df[\"country\"] == \"Austria\", \"population\"].median()"
   ]
  },
  {
   "cell_type": "code",
   "execution_count": null,
   "metadata": {
    "colab": {
     "base_uri": "https://localhost:8080/"
    },
    "id": "gDxX8nWymZAL",
    "outputId": "f7f364b3-bb90-4e97-a614-bba0d0bc81ec"
   },
   "outputs": [],
   "source": [
    "# Note that you need to put parentheses around your filtered object, otherwise we would mess up our 0\n",
    "\n",
    "(df[\"lat\"] > 0).sum()"
   ]
  },
  {
   "cell_type": "code",
   "execution_count": null,
   "metadata": {
    "colab": {
     "base_uri": "https://localhost:8080/"
    },
    "id": "3uSXNwtumjSK",
    "outputId": "820f503b-7ff7-47e6-80a1-54f47d358821"
   },
   "outputs": [],
   "source": [
    "(df[\"lat\"] < 0).sum()"
   ]
  },
  {
   "cell_type": "code",
   "execution_count": null,
   "metadata": {
    "colab": {
     "base_uri": "https://localhost:8080/"
    },
    "id": "-mSdfVbFmo2K",
    "outputId": "b6162c83-a5d2-4583-c2bd-05c0e2d18d27"
   },
   "outputs": [],
   "source": [
    "(df[\"lng\"] < 0).sum()"
   ]
  },
  {
   "cell_type": "code",
   "execution_count": null,
   "metadata": {
    "colab": {
     "base_uri": "https://localhost:8080/"
    },
    "id": "6uoZA6TgmrHi",
    "outputId": "fbb2071b-6535-4247-f4f2-dba8acdd1ede"
   },
   "outputs": [],
   "source": [
    "(df[\"lng\"] > 0).sum()"
   ]
  },
  {
   "cell_type": "markdown",
   "metadata": {},
   "source": [
    "If you already miss NumPy, you can also do it like this:"
   ]
  },
  {
   "cell_type": "code",
   "execution_count": null,
   "metadata": {},
   "outputs": [],
   "source": [
    "np.sum(df[\"lng\"] > 0)"
   ]
  },
  {
   "cell_type": "markdown",
   "metadata": {},
   "source": [
    "We can extend our filter statement and add some logic.\n",
    "\n",
    "(You don't really need to define a separate variable for your filter statement and the criterions - you can just paste everything in directly (just make then sure you put parentheses around each logical entity) - but for clarity, we've defined them as variables here)."
   ]
  },
  {
   "cell_type": "code",
   "execution_count": null,
   "metadata": {
    "colab": {
     "base_uri": "https://localhost:8080/",
     "height": 238
    },
    "id": "XbjqzEdSm8GL",
    "outputId": "5b36f5b5-7d82-492b-cb3d-80f8b5a70390"
   },
   "outputs": [],
   "source": [
    "criterion_1 = df[\"country\"] == \"Austria\"\n",
    "criterion_2 = df[\"population\"] > 100000\n",
    "filter_statement = criterion_1 & criterion_2\n",
    "\n",
    "df.loc[filter_statement]"
   ]
  },
  {
   "cell_type": "markdown",
   "metadata": {},
   "source": [
    "Same as above, but this time we only want to see the column `city`."
   ]
  },
  {
   "cell_type": "code",
   "execution_count": null,
   "metadata": {
    "colab": {
     "base_uri": "https://localhost:8080/"
    },
    "id": "8P72XcSJnxNd",
    "outputId": "aba19bda-99da-4b24-c8d1-83a7e2cbf969"
   },
   "outputs": [],
   "source": [
    "df.loc[(df[\"country\"] == \"Austria\") & (df[\"population\"] > 100000), \"city\"]"
   ]
  },
  {
   "cell_type": "markdown",
   "metadata": {},
   "source": [
    "Again, if you feel very attached to NumPy, you can also convert your data to NumPy arrays using the `to_numpy()` method or the `values` attribute. Pandas is actually built on top of NumPy, adding a few bells and whistles. And this way we just get the underlying NumPy data."
   ]
  },
  {
   "cell_type": "code",
   "execution_count": null,
   "metadata": {
    "colab": {
     "base_uri": "https://localhost:8080/"
    },
    "id": "j03KmDv_s3s5",
    "outputId": "353d8deb-153d-4be2-ce7e-5aa25c64d49c"
   },
   "outputs": [],
   "source": [
    "df[\"city\"][df[\"country\"] == \"Austria\"].values"
   ]
  },
  {
   "cell_type": "markdown",
   "metadata": {
    "id": "kJ-Ua4ZAJcGS"
   },
   "source": [
    "## 3. Data cleaning\n",
    "\n",
    "With pandas, we can also perform data cleaning with its built-in functions (`.isna()`, `.notna()`, `.fillna()`) for handling missing values, duplicates, and data type conversion, along with the familiar tools for filtering, sorting, and transforming data. `NaN` indicates missing values.\n",
    "\n",
    "What we can do here:\n",
    "\n",
    "1. Listing all cities that have no population listed \n",
    "2. Drop all cities from the dataframe without population and store them in a new DataFrame\n",
    "3. Drop small cities (because we only care about big)\n",
    "4. Replace missing values in the city column with an empty string\n",
    "5. Check for duplicates"
   ]
  },
  {
   "cell_type": "code",
   "execution_count": null,
   "metadata": {},
   "outputs": [],
   "source": [
    "df[\"population\"].isna()"
   ]
  },
  {
   "cell_type": "markdown",
   "metadata": {},
   "source": [
    "As you can see, with this method we get a series of boolean values that we can use as a filter. Or we can just do the sum over them to see how many missing values we are dealing with."
   ]
  },
  {
   "cell_type": "code",
   "execution_count": null,
   "metadata": {
    "colab": {
     "base_uri": "https://localhost:8080/"
    },
    "id": "i5bvKhaiJr25",
    "outputId": "668ede59-7df6-40c5-fad0-f3e16146e932"
   },
   "outputs": [],
   "source": [
    "df[\"population\"].isna().sum()"
   ]
  },
  {
   "cell_type": "markdown",
   "metadata": {},
   "source": [
    "We can also do the opposite and ask how many actual entries we have."
   ]
  },
  {
   "cell_type": "code",
   "execution_count": null,
   "metadata": {
    "colab": {
     "base_uri": "https://localhost:8080/",
     "height": 424
    },
    "id": "XGX2zKMWqhHw",
    "outputId": "84514c6e-107b-4655-de7e-80962331e0ca"
   },
   "outputs": [],
   "source": [
    "df[\"population\"].notna().sum()"
   ]
  },
  {
   "cell_type": "markdown",
   "metadata": {},
   "source": [
    "And we can store this filtered DataFrame in a new DataFrame."
   ]
  },
  {
   "cell_type": "code",
   "execution_count": null,
   "metadata": {
    "colab": {
     "base_uri": "https://localhost:8080/"
    },
    "id": "qTMcHTUEowfd",
    "outputId": "178ffdf3-8b91-452d-ef3f-2cc8f0a6d6fd"
   },
   "outputs": [],
   "source": [
    "df_cleaned = df.loc[df[\"population\"].notna()]\n",
    "\n",
    "df_cleaned"
   ]
  },
  {
   "cell_type": "markdown",
   "metadata": {
    "id": "5ql4XVysKpnb"
   },
   "source": [
    "Drop small cities that have a really small population (e.g., under 1,000)."
   ]
  },
  {
   "cell_type": "code",
   "execution_count": null,
   "metadata": {
    "id": "AVU-chzaLvR-"
   },
   "outputs": [],
   "source": [
    "df_cleaned = df_cleaned.loc[df_cleaned[\"population\"] > 1000]\n",
    "\n",
    "# After creating a dataframe from a subset of another dataframe, you may want to reindex your rows.\n",
    "\n",
    "df_cleaned = df_cleaned.reset_index(\n",
    "    drop=True\n",
    ")  # we will also drop the old index at the same time"
   ]
  },
  {
   "cell_type": "code",
   "execution_count": null,
   "metadata": {
    "colab": {
     "base_uri": "https://localhost:8080/"
    },
    "id": "FOy3spLerEVo",
    "outputId": "0e7298c8-f2bc-4497-d131-179fdb75bf09"
   },
   "outputs": [],
   "source": [
    "print(len(df_cleaned), \"cities remain.\")"
   ]
  },
  {
   "cell_type": "markdown",
   "metadata": {},
   "source": [
    "The `fillna()` method in Pandas is used to fill missing or NaN values in a DataFrame or Series with a specified value or method. For example, we could fill all city names containing NaN with an empty string."
   ]
  },
  {
   "cell_type": "code",
   "execution_count": null,
   "metadata": {},
   "outputs": [],
   "source": [
    "# this gives us the number of missing values in the column city\n",
    "\n",
    "df_cleaned[\"city\"].isna().sum()"
   ]
  },
  {
   "cell_type": "code",
   "execution_count": null,
   "metadata": {},
   "outputs": [],
   "source": [
    "# We replace missing values with an empty string \"\"\n",
    "\n",
    "df_cleaned[\"city\"] = df_cleaned[\"city\"].fillna(\"\")\n",
    "\n",
    "# Quick check\n",
    "\n",
    "df_cleaned[\"city\"].isna().sum()"
   ]
  },
  {
   "cell_type": "markdown",
   "metadata": {},
   "source": [
    "Now we want to check whether there are any duplicate entries (all columns identical)."
   ]
  },
  {
   "cell_type": "code",
   "execution_count": null,
   "metadata": {},
   "outputs": [],
   "source": [
    "df_cleaned.duplicated().sum()"
   ]
  },
  {
   "cell_type": "markdown",
   "metadata": {},
   "source": [
    "Now we want to check whether there are any duplicate entries for the column `city`."
   ]
  },
  {
   "cell_type": "code",
   "execution_count": null,
   "metadata": {},
   "outputs": [],
   "source": [
    "df_cleaned.duplicated(subset=[\"city\"]).sum()"
   ]
  },
  {
   "cell_type": "markdown",
   "metadata": {},
   "source": [
    "Let's list them."
   ]
  },
  {
   "cell_type": "code",
   "execution_count": null,
   "metadata": {},
   "outputs": [],
   "source": [
    "df_cleaned.loc[df_cleaned.duplicated(subset=[\"city\"])].sort_values(\"city\")"
   ]
  },
  {
   "cell_type": "markdown",
   "metadata": {},
   "source": [
    "Okay, as we can see, the `city` field contains not only unique values, but cities with the same name exist multiple times in other regions. This is good to know. This means that if we want to uniquely identify a city, we need more than just the `city` field.\n",
    "\n",
    "This is only a part of what pandas has to offer. Now take a look at the pandas documentation and see what the `dropna()` method can do for us and write a short example using our DataFrame."
   ]
  },
  {
   "cell_type": "code",
   "execution_count": null,
   "metadata": {},
   "outputs": [],
   "source": [
    "#\n",
    "#\n",
    "#"
   ]
  },
  {
   "cell_type": "markdown",
   "metadata": {
    "tags": []
   },
   "source": [
    "## 4. Partial content filtering using `str.contains()` method\n",
    "\n",
    "We've learned to filter for exact matches using the `==` operator in pandas, but we can also filter for partial content using the `str.contains()` method. This method checks whether each string in a column contains a specified substring. To filter for strings that do **not** contain the specified substring, you can use the `~` (tilde) operator in combination with `str.contains()`. In general, you can use the tilde operator (`~`) to negate or invert your filter, allowing you to select rows or items in your DataFrame or Series that do **not** match the specified conditions.\n",
    "\n",
    "For example, we want to find all cities that contain the word \"Los\" as in \"Los Angeles\" ..."
   ]
  },
  {
   "cell_type": "code",
   "execution_count": null,
   "metadata": {},
   "outputs": [],
   "source": [
    "df_cleaned.loc[df_cleaned[\"city\"].str.contains(\"Los\")]"
   ]
  },
  {
   "cell_type": "markdown",
   "metadata": {},
   "source": [
    "... or do **not** contain it."
   ]
  },
  {
   "cell_type": "code",
   "execution_count": null,
   "metadata": {},
   "outputs": [],
   "source": [
    "df_cleaned.loc[~df_cleaned[\"city\"].str.contains(\"Los\")]"
   ]
  },
  {
   "cell_type": "markdown",
   "metadata": {
    "id": "8F818hWzLIJQ"
   },
   "source": [
    "## 5. Visualize the primary capitals by location\n",
    "\n",
    "We will first visualize the positions of the capitals and then do the same, but this time we want the dots to be proportional to the population of the city. Dividing the population by 100,000 seems like a good choice."
   ]
  },
  {
   "cell_type": "code",
   "execution_count": null,
   "metadata": {
    "colab": {
     "base_uri": "https://localhost:8080/",
     "height": 283
    },
    "id": "QmaK7Ha7LzG_",
    "outputId": "766bbb30-b0e2-43e9-9779-8efaec1a9b11"
   },
   "outputs": [],
   "source": [
    "filter_capital = (\n",
    "    df[\"capital\"] == \"primary\"\n",
    ")  # I use a variable here, because it's nicer to define the filter only once\n",
    "\n",
    "plt.scatter(df.loc[filter_capital, \"lng\"], df.loc[filter_capital, \"lat\"])"
   ]
  },
  {
   "cell_type": "code",
   "execution_count": null,
   "metadata": {
    "colab": {
     "base_uri": "https://localhost:8080/",
     "height": 265
    },
    "id": "oXNxAPN5sbDv",
    "outputId": "9e2ca830-8b91-4ab3-f4a2-2154370b0892"
   },
   "outputs": [],
   "source": [
    "plt.scatter(\n",
    "    df.loc[filter_capital, \"lng\"],\n",
    "    df.loc[filter_capital, \"lat\"],\n",
    "    s=df.loc[filter_capital, \"population\"] / 100_000,\n",
    ")"
   ]
  },
  {
   "cell_type": "markdown",
   "metadata": {},
   "source": [
    "To take this a bit further, we can also add the names of very large cities (over 10,000,000)."
   ]
  },
  {
   "cell_type": "code",
   "execution_count": null,
   "metadata": {
    "colab": {
     "base_uri": "https://localhost:8080/",
     "height": 265
    },
    "id": "oXNxAPN5sbDv",
    "outputId": "9e2ca830-8b91-4ab3-f4a2-2154370b0892"
   },
   "outputs": [],
   "source": [
    "plt.scatter(\n",
    "    df.loc[filter_capital, \"lng\"],\n",
    "    df.loc[filter_capital, \"lat\"],\n",
    "    s=df.loc[filter_capital, \"population\"] / 100_000,\n",
    ")\n",
    "\n",
    "# get the indices of all values that are True in our filter\n",
    "indices = np.where(filter_capital)[0]\n",
    "\n",
    "for i in indices:\n",
    "    if df[\"population\"][i] > 10_000_000:\n",
    "        plt.text(df[\"lng\"][i], df[\"lat\"][i], df[\"city\"][i])"
   ]
  },
  {
   "cell_type": "markdown",
   "metadata": {},
   "source": [
    "Of course, it would be nicer to have a world map as a background in this plot, but you get the idea. \n",
    "\n",
    "\n",
    "If you enjoy working with geospatial data, you might also want to take a look at the Python package geopandas (https://geopandas.org)."
   ]
  },
  {
   "cell_type": "markdown",
   "metadata": {},
   "source": [
    "## 6. `groupby` and `merge`\n",
    "\n",
    "The `groupby()` method in pandas is a fundamental data analysis tool, primarily used for aggregation and transformation tasks. It allows you to efficiently summarize data using functions such as sum, mean, and count across groups. It also supports data transformation by applying custom functions or creating new functions based on group-level statistics.\n",
    "\n",
    "The `merge()` method in Pandas is essential for combining different DataFrames based on common columns or indexes. It allows you to perform inner, outer, left, and right joins to merge data from multiple sources. This method is critical for data integration and consolidation, allowing you to combine and align datasets based on specified keys or indexes.\n",
    "\n",
    "Once you get to know them, you won't want to miss them.\n",
    "\n",
    "Let's see some examples."
   ]
  },
  {
   "cell_type": "markdown",
   "metadata": {},
   "source": [
    "### 6.1. Get the mean population of the listed cities per country"
   ]
  },
  {
   "cell_type": "code",
   "execution_count": null,
   "metadata": {},
   "outputs": [],
   "source": [
    "df.groupby(\"country\", as_index=False)[\"population\"].mean()"
   ]
  },
  {
   "cell_type": "markdown",
   "metadata": {},
   "source": [
    "### 6.2. You have a second DataFrame ...\n",
    "\n",
    "... with some new information and want to add this information to your main DataFrame. Let's quickly create such a simple new DataFrame (it holds the new and very important information about continent) ..."
   ]
  },
  {
   "cell_type": "code",
   "execution_count": null,
   "metadata": {},
   "outputs": [],
   "source": [
    "data_dict = {\n",
    "    \"iso_code_2\": [\n",
    "        \"US\",\n",
    "        \"CA\",\n",
    "        \"MX\",\n",
    "        \"GB\",\n",
    "        \"DE\",\n",
    "        \"FR\",\n",
    "        \"IT\",\n",
    "        \"ES\",\n",
    "        \"PT\",\n",
    "        \"NL\",\n",
    "        \"CH\",\n",
    "        \"AT\",\n",
    "        \"BE\",\n",
    "        \"SE\",\n",
    "        \"NO\",\n",
    "        \"DK\",\n",
    "        \"FI\",\n",
    "        \"IE\",\n",
    "        \"AU\",\n",
    "        \"NZ\",\n",
    "        \"JP\",\n",
    "        \"KR\",\n",
    "        \"CN\",\n",
    "        \"IN\",\n",
    "        \"BR\",\n",
    "        \"AR\",\n",
    "        \"CL\",\n",
    "        \"CO\",\n",
    "        \"PE\",\n",
    "        \"ZA\",\n",
    "        \"RU\",\n",
    "        \"TR\",\n",
    "        \"EG\",\n",
    "        \"SA\",\n",
    "        \"AE\",\n",
    "        \"IL\",\n",
    "        \"TH\",\n",
    "        \"SG\",\n",
    "        \"MY\",\n",
    "        \"PH\",\n",
    "        \"ID\",\n",
    "        \"VN\",\n",
    "        \"PL\",\n",
    "        \"CZ\",\n",
    "        \"HU\",\n",
    "        \"GR\",\n",
    "        \"RO\",\n",
    "        \"UA\",\n",
    "        \"RS\",\n",
    "    ],\n",
    "    \"continent\": [\n",
    "        \"North America\",\n",
    "        \"North America\",\n",
    "        \"North America\",\n",
    "        \"Europe\",\n",
    "        \"Europe\",\n",
    "        \"Europe\",\n",
    "        \"Europe\",\n",
    "        \"Europe\",\n",
    "        \"Europe\",\n",
    "        \"Europe\",\n",
    "        \"Europe\",\n",
    "        \"Europe\",\n",
    "        \"Europe\",\n",
    "        \"Europe\",\n",
    "        \"Europe\",\n",
    "        \"Europe\",\n",
    "        \"Europe\",\n",
    "        \"Europe\",\n",
    "        \"Oceania\",\n",
    "        \"Oceania\",\n",
    "        \"Asia\",\n",
    "        \"Asia\",\n",
    "        \"Asia\",\n",
    "        \"Asia\",\n",
    "        \"South America\",\n",
    "        \"South America\",\n",
    "        \"South America\",\n",
    "        \"South America\",\n",
    "        \"South America\",\n",
    "        \"Africa\",\n",
    "        \"Europe\",\n",
    "        \"Asia\",\n",
    "        \"Africa\",\n",
    "        \"Asia\",\n",
    "        \"Asia\",\n",
    "        \"Asia\",\n",
    "        \"Asia\",\n",
    "        \"Asia\",\n",
    "        \"Asia\",\n",
    "        \"Asia\",\n",
    "        \"Asia\",\n",
    "        \"Asia\",\n",
    "        \"Europe\",\n",
    "        \"Europe\",\n",
    "        \"Europe\",\n",
    "        \"Europe\",\n",
    "        \"Europe\",\n",
    "        \"Europe\",\n",
    "        \"Europe\",\n",
    "    ],\n",
    "}\n",
    "\n",
    "df_2 = pd.DataFrame(data_dict)\n",
    "df_2.head()"
   ]
  },
  {
   "cell_type": "markdown",
   "metadata": {},
   "source": [
    "... and merge it with our main DataFrame. We will merge the two DataFrames along the `iso2` column since this is the mutual information in both DataFrames.\n",
    "\n",
    "In Pandas, an inner merge combines rows with matching values in both DataFrames, an outer merge combines all rows and fills in missing values with `NaN`s, a left merge includes all rows from the left DataFrame, and a right merge includes all rows from the right DataFrame, each filling in missing values with `NaN`s where there's no match.\n",
    "\n",
    "Here we decided for a left merge."
   ]
  },
  {
   "cell_type": "code",
   "execution_count": null,
   "metadata": {},
   "outputs": [],
   "source": [
    "df.merge(df_2, left_on=\"iso2\", right_on=\"iso_code_2\", how=\"left\")"
   ]
  },
  {
   "cell_type": "markdown",
   "metadata": {},
   "source": [
    "You can try out an inner merge and see how that changes the size of our DataFrame."
   ]
  },
  {
   "cell_type": "code",
   "execution_count": null,
   "metadata": {},
   "outputs": [],
   "source": [
    "#"
   ]
  },
  {
   "attachments": {
    "a3aea5b5-8fdc-47b5-bc6a-fb7d2103c2f4.png": {
     "image/png": "[encoded data removed]"
    }
   },
   "cell_type": "markdown",
   "metadata": {},
   "source": [
    "## Exercise: Dogs in Vienna\n",
    "\n",
    "![image.png](attachment:a3aea5b5-8fdc-47b5-bc6a-fb7d2103c2f4.png)\n",
    "\n",
    "We are in Vienna in the year 2017. Choose a dog breed or a group of dogs and define filter criteria (the `str.contains()` will be of help here, but also the `isin()` method that we haven't discussed so far could be helpful) for your breed/group (inspect the data to get a feeling for it). Then answer the following questions:\n",
    "\n",
    "1) In which Viennese district (Postal_CODE) are the highest chances that a random person owns a dog of your specific breed/group?\n",
    "2) In which Viennese district (Postal_CODE) are the highest chances that a random dog is of your specific breed/group?\n",
    "3) Can you think of a way to visualize it?\n",
    "\n",
    "**Note: These are two distinct questions and in both datasets you need to filter to the year 2017. If you're not from Vienna, each of Vienna's 23 districts has a name, but also a number. This number is also in the postal code (digits 2 and 3).**\n",
    "\n",
    "Hint: For 1) and 2) you need to compute proportions. In the first case, the number of your breed divided by the human population (for each district), and in the second case, the number of your breed divided by the total number of all dogs (for each district). "
   ]
  },
  {
   "cell_type": "code",
   "execution_count": null,
   "metadata": {},
   "outputs": [],
   "source": [
    "vie_dog_url = \"https://www.wien.gv.at/gogv/l9ogdhundevie\"\n",
    "vie_population_url = \"https://www.wien.gv.at/statistik/ogd/jahrbuch/bevoelkerung/tab_5.1.2_bevoelkerungsstandund-veraenderung_.csv\"\n",
    "\n",
    "df_dogs = pd.read_csv(vie_dog_url, sep=\";\", encoding=\"latin1\", header=1)\n",
    "df_pop = pd.read_csv(vie_population_url, sep=\";\", header=2, index_col=0)\n",
    "\n",
    "# drop all columns that contain only NaN\n",
    "df_dogs = df_dogs.dropna(axis=1, how=\"all\")\n",
    "\n",
    "# drop all rows that contain only NaN\n",
    "df_pop = df_pop.dropna(axis=0, how=\"all\")"
   ]
  },
  {
   "cell_type": "code",
   "execution_count": null,
   "metadata": {},
   "outputs": [],
   "source": [
    "df_dogs.loc[df_dogs.Ref_Date.astype(str).str[:4] == \"2017\", \"Ref_Date\"].unique()"
   ]
  },
  {
   "cell_type": "code",
   "execution_count": null,
   "metadata": {},
   "outputs": [],
   "source": [
    "#\n",
    "#\n",
    "#"
   ]
  },
  {
   "cell_type": "markdown",
   "metadata": {},
   "source": [
    "## Bonus Exercise: Similarities Between Districts\n",
    "\n",
    "<div class=\"alert alert-info\">No need to complete this one. Just for the interested.</div>\n",
    "\n",
    "As a social scientist with limited data access (e.g., no election data), use the available dog data to identify which districts share similarities and which are distinct from each other.\n",
    "\n",
    "1. Define variables based on the dog data; for instance, each dog breed or broader breed category can represent a unique variable with a specific value (either amount or percentage). I.e., a district can score high or low on Poodle.\n",
    "\n",
    "2. Calculate a similarity measure of your choice for each pair of districts based on all the variables.\n",
    "\n",
    "3. Compile all pairwise similarity measures into a matrix.\n",
    "\n",
    "4. Visualize the matrix as a heatmap using `plt.pcolor()` and identify which districts exhibit the most similarities.\n",
    "\n",
    "**Remember, this is an exploratory exercise with no definitive right or wrong approach, and we haven't done it yet; you would be the first.**\n",
    "\n",
    "---\n",
    "\n",
    "If we change our perspective, the data on the distribution of dog breeds across neighborhoods can serve as an analogy in cognitive science and psychology. Just as you analyzed patterns to identify similarities and differences between neighborhoods, you can apply similar methods to behavioral data, examining similarities between concepts such as visual stimuli (and categorizing them or calculating distances between them). This approach, similar to understanding the socioeconomic composition of a neighborhood, provides insight into how people perceive and categorize concepts."
   ]
  },
  {
   "cell_type": "code",
   "execution_count": null,
   "metadata": {},
   "outputs": [],
   "source": [
    "#\n",
    "#\n",
    "#"
   ]
  }
 ],
 "metadata": {
  "kernelspec": {
   "display_name": "Python 3 (ipykernel)",
   "language": "python",
   "name": "python3"
  },
  "language_info": {
   "codemirror_mode": {
    "name": "ipython",
    "version": 3
   },
   "file_extension": ".py",
   "mimetype": "text/x-python",
   "name": "python",
   "nbconvert_exporter": "python",
   "pygments_lexer": "ipython3",
   "version": "3.9.20"
  }
 },
 "nbformat": 4,
 "nbformat_minor": 4
}
