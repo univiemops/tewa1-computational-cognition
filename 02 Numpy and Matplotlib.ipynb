{
 "cells": [
  {
   "cell_type": "markdown",
   "metadata": {
    "id": "C5N8uXaLdary"
   },
   "source": [
    "# Tutorial 2 - Python libraries NumPy and Matplotlib \n",
    "\n",
    "\n",
    "*written and revised by Jozsef Arato, Mengfan Zhang, Dominik Pegler*  \n",
    "Computational Cognition Course, University of Vienna  \n",
    "https://github.com/univiemops/tewa1-computational-cognition\n",
    "\n",
    "---"
   ]
  },
  {
   "cell_type": "markdown",
   "metadata": {},
   "source": [
    "## This week's lab:\n",
    "\n",
    "We will briefly introduce the Python library NumPy and Matplotlib this week. Comprehensive documentation can be found at https://numpy.org/doc/stable/user/index.html and https://matplotlib.org/stable/users/index.html. \n",
    "\n",
    "NumPy is one of the most important libraries for scientific computing in Python. Foundational libraries such as Matplotlib and Pandas, as well as machine learning libraries such as TensorFlow and scikit-learn, which we will discuss in future weeks, often use NumPy arrays as input. In this tutorial, we will cover array creation, indexing, slicing, mathematical operations, and commonly used functions of NumPy. \n",
    "\n",
    "Matplotlib is a popular 2D plotting library for Python. It provides a flexible and powerful interface for creating a wide variety of plots, charts, and visualizations. In this tutorial, we will show you how to create simple plots, customize plots, and work with multiple subplots.\n",
    "\n",
    "**Learning goals:** \\\n",
    "When finishing this tutorial, you should...\n",
    "*   know how to import libraries and functions  \n",
    "*   perform basic array operations, calculations, and functions with NumPy \n",
    "*   understand the structure of a plot and create custom plots using Matplotlib  \n",
    "\n",
    "**Estimated time to complete:** 2 hours (depends on your previous knowledge) \\\n",
    "**Deadline:** Next Monday, 23:59"
   ]
  },
  {
   "cell_type": "markdown",
   "metadata": {},
   "source": [
    "## 1. Import library \n",
    "\n",
    "Last week, you already used several built-in Python functions such as `print()`,`len()`, and `type()`. However, there are not so many of them and these functions are limited. If we want to do more complicated things, we can make use of Python libraries. \n",
    "\n",
    "To get access to functionality of the non-built-in libraries, you need to first explicitly import them by:\\\n",
    "`import library` \\\n",
    "and usually abbreviate the library name by two or three letters: \\\n",
    "`import library as abbreviation` \n",
    "\n",
    "Then the functions can be called by: \\\n",
    "`library.function` or `abbreviation.function` \n",
    "\n",
    "If you don't need the whole library, but just the specific functions, you can import by: \\\n",
    "`from library import function 1, function 2, etc` \\\n",
    "or you can customize the import \\\n",
    "`from library import someFunction as newName`"
   ]
  },
  {
   "cell_type": "markdown",
   "metadata": {
    "id": "lMGYaj6937hv"
   },
   "source": [
    "## 2. NumPy \n",
    "\n",
    "NumPy provides functions to create and work with arrays, a data format that makes numerical computation easier. NumPy arrays can have any number of dimensions. A one-dimensional array is similar to a simple list, a two-dimensional array is similar to a matrix, and arrays with more than two dimensions are also commonly used. For example, fMRI data can typically be represented as 4D arrays (3 dimensions represent x,y,z axis of the brain volume + 1 dimension of time points).\n",
    "\n",
    "Now, let's import the library and start from creating an array. "
   ]
  },
  {
   "cell_type": "code",
   "execution_count": null,
   "metadata": {
    "id": "MidoquBU3_lS"
   },
   "outputs": [],
   "source": [
    "import numpy as np\n",
    "\n",
    "# it just makes our lives easier if we all use the same abbreviation"
   ]
  },
  {
   "cell_type": "markdown",
   "metadata": {
    "id": "U9rYKV6m4G2T"
   },
   "source": [
    "To see how a function works, just type it after a ? mark:"
   ]
  },
  {
   "cell_type": "code",
   "execution_count": null,
   "metadata": {
    "id": "p3cj2yJB4RbQ"
   },
   "outputs": [],
   "source": [
    "?np.zeros "
   ]
  },
  {
   "cell_type": "markdown",
   "metadata": {
    "id": "WGfA86t7M4dz"
   },
   "source": [
    "There are many arbitrary conventions in how Python's built-in functions work, you can sometimes figure these out by trial and error, but it is often easier to use the built-in help by typing the ? in front and running the cell, or you can always Google it. "
   ]
  },
  {
   "cell_type": "markdown",
   "metadata": {},
   "source": [
    "### 2.1 Creation of numpy array \n",
    "\n",
    "In the below cell, we create a 1D numpy array of five zeros using the function np.zeros."
   ]
  },
  {
   "cell_type": "code",
   "execution_count": null,
   "metadata": {
    "colab": {
     "base_uri": "https://localhost:8080/"
    },
    "id": "pG7CJtZr4DjH",
    "outputId": "e0038dd2-23e2-4772-a84d-dc930d05061a"
   },
   "outputs": [],
   "source": [
    "my_zeros = np.zeros(5)\n",
    "print(my_zeros)"
   ]
  },
  {
   "cell_type": "markdown",
   "metadata": {
    "id": "QcNGQclwisuY"
   },
   "source": [
    "Try to make an 1D array called \"ar_of_ones\" of 200 ones using the np.ones in the cell below."
   ]
  },
  {
   "cell_type": "code",
   "execution_count": null,
   "metadata": {
    "colab": {
     "base_uri": "https://localhost:8080/"
    },
    "id": "DJU19jj34nw0",
    "outputId": "57dcc99f-d5bf-4e1a-dbb2-bab6b420201b"
   },
   "outputs": [],
   "source": [
    "# YOUR CODE HERE"
   ]
  },
  {
   "cell_type": "markdown",
   "metadata": {},
   "source": [
    "<div class=\"alert alert-info\">The cell below tests if your code is correct or not. Just run the cell, and it will give you an error message or a compliment. We insert a test cell after every cell that requires you to write code. </div>"
   ]
  },
  {
   "cell_type": "code",
   "execution_count": null,
   "metadata": {},
   "outputs": [],
   "source": [
    "# Test cell\n",
    "try:\n",
    "    assert all(ar_of_ones) == 1 and sum(ar_of_ones) == 200\n",
    "except AssertionError as msg:\n",
    "    print(\"'ar_of_ones' is not correctly defined.\")\n",
    "    raise (msg)\n",
    "else:\n",
    "    print(\"Good!\")"
   ]
  },
  {
   "cell_type": "markdown",
   "metadata": {
    "id": "Astf9BHNi2ie"
   },
   "source": [
    "This allows us to easily create an array with the same values in it. If we want to make an array of 200 lengths with only 55, we can multiply an array of ones by 55 (or plus 54). "
   ]
  },
  {
   "cell_type": "code",
   "execution_count": null,
   "metadata": {
    "colab": {
     "base_uri": "https://localhost:8080/"
    },
    "id": "4VZcKhCBi13c",
    "outputId": "35ca19d9-9181-4129-cd2d-eff892ba58b5"
   },
   "outputs": [],
   "source": [
    "ar_of_fiftyfives = ar_of_ones * 55\n",
    "ar_of_fiftyfives"
   ]
  },
  {
   "cell_type": "markdown",
   "metadata": {
    "id": "95DePETZ59zQ"
   },
   "source": [
    "Alternatively, we can use `np.full`."
   ]
  },
  {
   "cell_type": "code",
   "execution_count": null,
   "metadata": {
    "colab": {
     "base_uri": "https://localhost:8080/"
    },
    "id": "L19oBhl1fRPe",
    "outputId": "0b816f5f-cc23-4238-90b3-6829af6a7b4f"
   },
   "outputs": [],
   "source": [
    "alt_to_previous = np.full(200, 55)\n",
    "alt_to_previous"
   ]
  },
  {
   "cell_type": "markdown",
   "metadata": {
    "id": "E6FuxAJf4_uy"
   },
   "source": [
    "Another way to create a numpy array is to first define a list, and then you can convert this list to a numpy array using `np.array` function. Or you can combine these two steps to manually create a numpy array from a list of numbers."
   ]
  },
  {
   "cell_type": "code",
   "execution_count": null,
   "metadata": {
    "colab": {
     "base_uri": "https://localhost:8080/"
    },
    "id": "HcQgfLc-49v9",
    "outputId": "4cb80e2e-0943-4922-a7ad-eab311cd93f1"
   },
   "outputs": [],
   "source": [
    "my_list = [\n",
    "    10,\n",
    "    -43,\n",
    "    45,\n",
    "    2,\n",
    "    56,\n",
    "    67,\n",
    "    76,\n",
    "    12,\n",
    "    -1,\n",
    "    2,\n",
    "    55,\n",
    "    2345,\n",
    "    4,\n",
    "    345,\n",
    "    4,\n",
    "    5,\n",
    "    67,\n",
    "    7,\n",
    "    545,\n",
    "    3,\n",
    "    5,\n",
    "    3564,\n",
    "    24,\n",
    "]\n",
    "my_array = np.array(my_list)\n",
    "\n",
    "# alternatively:\n",
    "my_array = np.array(\n",
    "    [\n",
    "        10,\n",
    "        -43,\n",
    "        45,\n",
    "        2,\n",
    "        56,\n",
    "        67,\n",
    "        76,\n",
    "        12,\n",
    "        -1,\n",
    "        2,\n",
    "        55,\n",
    "        2345,\n",
    "        4,\n",
    "        345,\n",
    "        4,\n",
    "        5,\n",
    "        67,\n",
    "        7,\n",
    "        545,\n",
    "        3,\n",
    "        5,\n",
    "        3564,\n",
    "        24,\n",
    "    ]\n",
    ")\n",
    "\n",
    "print(my_array)"
   ]
  },
  {
   "cell_type": "markdown",
   "metadata": {},
   "source": [
    "A simple list is converted to 1D array, but a nested list (a list within a list) is converted to 2D or higher dimensions based on the list structure:"
   ]
  },
  {
   "cell_type": "code",
   "execution_count": null,
   "metadata": {},
   "outputs": [],
   "source": [
    "my_2D_list = [[1, 2, 3], [4, 5, 6]]\n",
    "my_2D_array = np.array(my_2D_list)\n",
    "\n",
    "my_3D_list = [\n",
    "    [[1, 2, 3], [4, 5, 6]],\n",
    "    [[7, 8, 9], [10, 11, 12]],\n",
    "    [[13, 14, 15], [16, 17, 18]],\n",
    "]\n",
    "my_3D_array = np.array(my_3D_list)\n",
    "\n",
    "print(\"A 2D array:\", \"\\n\", my_2D_array, \"\\n\")\n",
    "print(\"A 3D array:\", \"\\n\", my_3D_array)"
   ]
  },
  {
   "cell_type": "markdown",
   "metadata": {},
   "source": [
    "Apart from numbers, a numeric numpy array can handle missing values using np.NAN:"
   ]
  },
  {
   "cell_type": "code",
   "execution_count": null,
   "metadata": {},
   "outputs": [],
   "source": [
    "array_missing = np.array([10, 21, 33, 4, np.NaN, 7])\n",
    "print(\"Array with a missing value\", array_missing, \"\\n\")\n",
    "\n",
    "array_without_missing = array_missing[~np.isnan(array_missing)]  # ~ is bitwise NOT\n",
    "print(\"Array without a missing value\", array_without_missing)"
   ]
  },
  {
   "cell_type": "markdown",
   "metadata": {},
   "source": [
    "As you might expect, creating nested lists and converting them to numpy arrays can quickly become troublesome as the number of dimensions or elements increases. Fortunately, Numpy provides various functions to efficiently initialize high-dimensional arrays, such as `np.zeros`, `np.ones`, and `np.empty`. Once you have initialized an array with zeros or ones of your desired dimensionality, you can fill in the array using loops or other operations."
   ]
  },
  {
   "cell_type": "code",
   "execution_count": null,
   "metadata": {},
   "outputs": [],
   "source": [
    "my_dimension = (\n",
    "    3,\n",
    "    2,\n",
    "    5,\n",
    ")  # use () for defining dimensionality, here I want a 3D array with shape of 3*2*5\n",
    "my_3d_zeros = np.zeros(my_dimension)\n",
    "\n",
    "my_3d_ones = np.ones((2, 4, 3))\n",
    "\n",
    "print(\"A 3d array with zeros:\", \"\\n\", my_3d_zeros, \"\\n\")\n",
    "print(\"A 3d array with ones:\", \"\\n\", my_3d_ones)"
   ]
  },
  {
   "cell_type": "markdown",
   "metadata": {},
   "source": [
    "You may wonder why we don't do operations on the list directly? Why do we need the numpy array instead? Recall that we mentioned last week that Python's list allows different types of data as its elements. However, the numpy array contains only a single data type. This makes the numpy array memory more efficient compared to the list, and Python doesn't need to check the data type of the elements when performing the operation. Also, NumPy supports broadcasting and vectorized operations (we will mention them later), which can apply operations to the entire array without looping over individual elements. As a result, operations on NumPy arrays can be much faster, and this is really important when you do complex operations. See an example below:"
   ]
  },
  {
   "cell_type": "code",
   "execution_count": null,
   "metadata": {},
   "outputs": [],
   "source": [
    "time_list = %timeit -n 10000 [x + 1 for x in range(1000)] # for loop using list\n",
    "time_nparray = %timeit -n 10000 np.arange(1000) + 1 # vectorized operation using numpy array"
   ]
  },
  {
   "cell_type": "markdown",
   "metadata": {},
   "source": [
    "### 2.2 Indexing and slicing\n",
    "\n",
    "Indexing and slicing a 1D numpy array is very similar to indexing and slicing a simple Python list as we discussed last week. \n",
    "\n",
    "In the cell below, try to extract the fifth element of the variable \"my_array\", and store it in \"five_ele\". Also store the second to the ninth elements of \"my_array\" in the new variable \"two_to_nine_ele\"."
   ]
  },
  {
   "cell_type": "code",
   "execution_count": null,
   "metadata": {},
   "outputs": [],
   "source": [
    "my_array = np.array(\n",
    "    [\n",
    "        10,\n",
    "        -43,\n",
    "        45,\n",
    "        2,\n",
    "        56,\n",
    "        67,\n",
    "        76,\n",
    "        12,\n",
    "        -1,\n",
    "        2,\n",
    "        55,\n",
    "        2345,\n",
    "        4,\n",
    "        345,\n",
    "        4,\n",
    "        5,\n",
    "        67,\n",
    "        7,\n",
    "        545,\n",
    "        3,\n",
    "        5,\n",
    "        3564,\n",
    "        24,\n",
    "    ]\n",
    ")\n",
    "\n",
    "# YOUR CODE HERE"
   ]
  },
  {
   "cell_type": "code",
   "execution_count": null,
   "metadata": {},
   "outputs": [],
   "source": [
    "# Test cell\n",
    "try:\n",
    "    assert \"five_ele\" in dir() and \"two_to_nine_ele\" in dir()\n",
    "except AssertionError as msg:\n",
    "    print(\"Variable 'five_ele' or 'two_to_nine_ele' is not defined.\")\n",
    "    raise (msg)\n",
    "\n",
    "try:\n",
    "    assert five_ele == 56\n",
    "except AssertionError as msg:\n",
    "    print(\"The value of 'five_ele' is wrong. Remember Python indexing is zero based!\")\n",
    "    raise (msg)\n",
    "else:\n",
    "    print(\"Great!\")\n",
    "\n",
    "try:\n",
    "    assert (two_to_nine_ele == np.array([-43, 45, 2, 56, 67, 76, 12, -1])).all()\n",
    "except AssertionError as msg:\n",
    "    print(\n",
    "        \"The values of 'two_to_nine_ele' are wrong. Remember Python slicing is 'begin inclusive, end exclusive'!\"\n",
    "    )\n",
    "    raise (msg)\n",
    "else:\n",
    "    print(\"Great!\")"
   ]
  },
  {
   "cell_type": "markdown",
   "metadata": {},
   "source": [
    "To index a multidimensional array, you can index using an operation similar to a 1D array on each dimension, and separate each dimension indexing operation by comma. Let's look at some examples below and make sure that you understand the codes and outputs:"
   ]
  },
  {
   "cell_type": "code",
   "execution_count": null,
   "metadata": {},
   "outputs": [],
   "source": [
    "# 2D array\n",
    "some_2D_array = np.arange(25, 45).reshape((4, 5))\n",
    "print(\n",
    "    \"Full 2D array:\",\n",
    "    \"\\n\",\n",
    "    some_2D_array,\n",
    "    \"\\n\",\n",
    ")\n",
    "\n",
    "print(\"Index the first row\")\n",
    "print(some_2D_array[0, :], \"\\n\")\n",
    "\n",
    "print(\"Index the second column\")\n",
    "print(some_2D_array[:, 1], \"\\n\")\n",
    "\n",
    "print(\"Index the odd values of the third row\")\n",
    "print(some_2D_array[2, 0::2], \"\\n\")\n",
    "\n",
    "print(\"Index the value in the lower right corner and set it to 1\")\n",
    "some_2D_array[-1, -1] = 1\n",
    "print(some_2D_array, \"\\n\")"
   ]
  },
  {
   "cell_type": "code",
   "execution_count": null,
   "metadata": {},
   "outputs": [],
   "source": [
    "# 3D array\n",
    "some_3D_array = np.arange(40).reshape((2, 5, 4))\n",
    "print(\"Full 3D array:\", \"\\n\", some_3D_array, \"\\n\")\n",
    "\n",
    "print(\n",
    "    \"dim1: index the second element, dim2: index the third element, dim3: index the third element\"\n",
    ")\n",
    "print(some_3D_array[1, 2, 2], \"\\n\")\n",
    "\n",
    "print(\"dim1: the first element, dim2: 1-4 elements, dim3: 2-3 elements\")\n",
    "print(some_3D_array[0, 0:4, 1:3], \"\\n\")\n",
    "\n",
    "print(\"Comparision operators >,<,==,!= can also be used for indexing\")\n",
    "print(some_3D_array[some_3D_array > 5])"
   ]
  },
  {
   "cell_type": "markdown",
   "metadata": {},
   "source": [
    "An important operation above is that you can use `:` to select all the elements from a certain dimension. Also, it is important to know that in real practice, each dimension of a multidimensional array represents one attribute of your data (participant, trial, condition, time, etc)."
   ]
  },
  {
   "cell_type": "markdown",
   "metadata": {},
   "source": [
    "Another common indexing way we'd like to introduce is called Boolean masking. Basically, you create a \"boolean_array\" (*mask*) to check whether a condition is true or not for each element in \"your_array\", then you apply the \"boolean_array\" to \"your_array\" so that all values that meet the condition can be indexed. See the example below:"
   ]
  },
  {
   "cell_type": "code",
   "execution_count": null,
   "metadata": {},
   "outputs": [],
   "source": [
    "three_times = some_2D_array % 3 == 0\n",
    "print(\"The boolean_array\")\n",
    "print(three_times, \"\\n\")\n",
    "\n",
    "print(\"Result of indexing 'some_2D_array' with the boolean array\")\n",
    "print(some_2D_array[three_times])"
   ]
  },
  {
   "cell_type": "markdown",
   "metadata": {},
   "source": [
    "Boolean masking is very useful with brain data. Suppose we have a 3D array of the whole brain, but we only need the amygdala area for further analysis. We can create a boolean array where only locations within the amygdala area have \"True\" values, and apply this array to the whole brain. "
   ]
  },
  {
   "cell_type": "markdown",
   "metadata": {},
   "source": [
    "Now try it yourself! Suppose I ran an experiment with 4 blocks, and each block has 30 trials. The reaction time data of 20 subjects were recorded in 5 days, and I stored the data in a 4D array with the shape 20 * 4 * 30 * 5 (subject * blocks * trials * days):\n",
    "1. select all the data from subject 2 on the third day, and stored it as \"sub2_day3\". \n",
    "2. for \"sub2_day3\", select all the data where the reaction time is larger then 500 ms, and save the results as \"sub2_day3_ex500\".\n",
    "2. select data from all the trials in the last block for subject 10 on all five days, and save it as \"sub10_blolast_5day\".\n",
    "\n"
   ]
  },
  {
   "cell_type": "code",
   "execution_count": null,
   "metadata": {},
   "outputs": [],
   "source": [
    "np.random.seed(10)  # ignore this for now\n",
    "exp_data = np.random.randint(150, 600, size=(20, 4, 30, 5))\n",
    "\n",
    "# YOUR CODE HERE"
   ]
  },
  {
   "cell_type": "code",
   "execution_count": null,
   "metadata": {},
   "outputs": [],
   "source": [
    "# Test cell\n",
    "tests = np.load(\"Answers/week2.npy\", allow_pickle=True)\n",
    "\n",
    "try:\n",
    "    assert \"sub2_day3\" in dir() and \"sub2_day3_ex500\" and \"sub10_blolast_5day\" in dir()\n",
    "except AssertionError as msg:\n",
    "    print(\"Could not find all the variables. Did you name them correctly?\")\n",
    "    raise (msg)\n",
    "\n",
    "try:\n",
    "    assert (sub2_day3 == tests[0]).all()\n",
    "except AssertionError as msg:\n",
    "    print(\"Your 'sub2_day3' is not the array I expect...\")\n",
    "    raise (msg)\n",
    "else:\n",
    "    print(\"Good!\")\n",
    "\n",
    "try:\n",
    "    assert (sub2_day3_ex500 == tests[1]).all()\n",
    "except AssertionError as msg:\n",
    "    print(\"Your 'sub2_day3_ex500' is not the array I expect...\")\n",
    "    raise (msg)\n",
    "else:\n",
    "    print(\"Great!\")\n",
    "\n",
    "try:\n",
    "    assert (sub10_blolast_5day == tests[2]).all()\n",
    "except AssertionError as msg:\n",
    "    print(\"Your 'sub10_blolast_5day' is not the array I expect...\")\n",
    "    raise (msg)\n",
    "else:\n",
    "    print(\"Amazing!\")"
   ]
  },
  {
   "cell_type": "markdown",
   "metadata": {},
   "source": [
    "### 2.3 Numpy functions, methods, and attributes \n",
    "\n",
    "#### Function vs. method\n",
    "NumPy has both convenient functions and methods to summarize array information (as we mentioned last week, methods are just functions applied to the object). Take a look at the example below:"
   ]
  },
  {
   "cell_type": "code",
   "execution_count": null,
   "metadata": {},
   "outputs": [],
   "source": [
    "func_std = np.std(some_2D_array)\n",
    "print(\"Standard deviation calculator by numpy function:\", func_std)\n",
    "\n",
    "meth_std = some_2D_array.std()\n",
    "print(\"Standard deviation calculator by array method:\", meth_std)\n",
    "\n",
    "print(\"Is func_std identical to meth_std? Answer:\", func_std == meth_std)"
   ]
  },
  {
   "cell_type": "markdown",
   "metadata": {},
   "source": [
    "You can also perform the operation along the specified dimension using the `axis` argument. The value should be set to the axis to be collapsed."
   ]
  },
  {
   "cell_type": "code",
   "execution_count": null,
   "metadata": {},
   "outputs": [],
   "source": [
    "print(\"Full 2D array:\", \"\\n\", some_2D_array, \"\\n\")\n",
    "\n",
    "some_2D_mean = some_2D_array.mean(axis=1)  # same as np.mean(some_2D_array, axis = 1)\n",
    "print(\"Mean of each row:\", \"\\n\", some_2D_mean)\n",
    "print(\"The row mean is calculated across each column, so the axis is set to 1\", \"\\n\")\n",
    "\n",
    "some_2D_max = some_2D_array.max(axis=0)  # same as np.max(some_2D_array, axis = 0)\n",
    "print(\"Maximum of each column:\", \"\\n\", some_2D_max, \"\\n\")\n",
    "\n",
    "some_2D_sum = some_2D_array.sum()  # same as np.sum()\n",
    "print(\"Sum of the array:\", \"\\n\", some_2D_sum)"
   ]
  },
  {
   "cell_type": "markdown",
   "metadata": {},
   "source": [
    "Tips: np.sum() is also often used to count how many elements satisfy certain conditions:"
   ]
  },
  {
   "cell_type": "code",
   "execution_count": null,
   "metadata": {},
   "outputs": [],
   "source": [
    "print(\"Number of elements larger than 33 in some_2D_array: \")\n",
    "print(np.sum(some_2D_array > 33))"
   ]
  },
  {
   "cell_type": "markdown",
   "metadata": {},
   "source": [
    "Could you calculate the range (maximum - minimum) across the third dimension of \"some_3D_array\" and name it as \"some_3D_range\" in the cell below? "
   ]
  },
  {
   "cell_type": "code",
   "execution_count": null,
   "metadata": {},
   "outputs": [],
   "source": [
    "# YOUR CODE HERE"
   ]
  },
  {
   "cell_type": "code",
   "execution_count": null,
   "metadata": {},
   "outputs": [],
   "source": [
    "# Test cell\n",
    "try:\n",
    "    assert (some_3D_range == 3).all()\n",
    "except AssertionError as msg:\n",
    "    print(\"Did you index the dimension correctly?\")\n",
    "    raise (msg)\n",
    "else:\n",
    "    print(\"Great!\")"
   ]
  },
  {
   "cell_type": "markdown",
   "metadata": {},
   "source": [
    "**Method vs. attritube**\n",
    "\n",
    "By now, you probably have a sense of whether something is a method or a function. Basically, if you see an object inside the brackets of a word, you would know it is a function. A function is called with `function(object, arguments)`. If you see an object followed by a word with brackets, you would know it is a method. Method is called by `object.method(arguments)`(arguments are optional). The main difference is that method is bound to an object, but function is not. \n",
    "\n",
    "Sometimes you will also see an object followed by a word *without brackets*, which is actually **attribute**, and called by  `object.attribute`. Similar to method, attribute is also associated with object and different types of objects in Python have their own attributes. The main difference between attribute and function/method is: attribute represents some **characteristic or property** of the object, it doesn't do anything on the object but only **tells something** about the object. In contrast, function/method **does something** or **performs a task** on the object. For example, *object.sum()* method calculates the sum of the object, whereas *object.shape* attribute tells me the shape of the object, which is a property belonging to the object itself. \n",
    "\n",
    "Check out some common numpy attribute below:"
   ]
  },
  {
   "cell_type": "code",
   "execution_count": null,
   "metadata": {},
   "outputs": [],
   "source": [
    "print(\"The size of the array in each dimension:\")\n",
    "print(some_3D_array.shape, \"\\n\")\n",
    "\n",
    "print(\"Number of elements:\")\n",
    "print(some_3D_array.size, \"\\n\")\n",
    "\n",
    "print(\"Number of dimension:\")\n",
    "print(some_3D_array.ndim, \"\\n\")\n",
    "\n",
    "print(\"Data type of elements:\")\n",
    "print(some_3D_array.dtype)"
   ]
  },
  {
   "cell_type": "markdown",
   "metadata": {},
   "source": [
    "**Common NumPy functions**\n",
    "\n",
    "Here are some Numpy functions that you'll use a lot in this course. Make sure you understand the code below. You can also Google them or ask chatGPT for more detailed usage. \n"
   ]
  },
  {
   "cell_type": "markdown",
   "metadata": {},
   "source": [
    "`np.arange(start, stop, step)` gives evenly spaced values within a given interval. The start and the step values are optional."
   ]
  },
  {
   "cell_type": "code",
   "execution_count": null,
   "metadata": {},
   "outputs": [],
   "source": [
    "print(\"Numbers 0 to 6:\")\n",
    "print(np.arange(7), \"\\n\")  # start inclusive, stop exclusive\n",
    "\n",
    "print(\"Numbers 5 to 12:\")\n",
    "print(np.arange(5, 12), \"\\n\")\n",
    "\n",
    "print(\"All numbers between 200 and 300 in steps of 10:\")\n",
    "print(np.arange(200, 300, 10))"
   ]
  },
  {
   "cell_type": "markdown",
   "metadata": {},
   "source": [
    "Check out the `np.linspace()` function. How is it diferent from arange? \\\n",
    "Create an array with linspace, and call it as \"ls_array\" that goes between 0 and 100 (include) with intervals  of 10."
   ]
  },
  {
   "cell_type": "code",
   "execution_count": null,
   "metadata": {},
   "outputs": [],
   "source": [
    "# YOUR CODE HERE"
   ]
  },
  {
   "cell_type": "code",
   "execution_count": null,
   "metadata": {},
   "outputs": [],
   "source": [
    "# Test cell\n",
    "try:\n",
    "    assert (ls_array == np.array([0, 10, 20, 30, 40, 50, 60, 70, 80, 90, 100])).all()\n",
    "except AssertionError as msg:\n",
    "    print(\"Did you create the array with correct intervals?\")\n",
    "    raise (msg)\n",
    "else:\n",
    "    print(\"Good!\")"
   ]
  },
  {
   "cell_type": "markdown",
   "metadata": {},
   "source": [
    "We already used `np.reshape()`in previous cells, which allows us change the shape of the array without changing its data."
   ]
  },
  {
   "cell_type": "code",
   "execution_count": null,
   "metadata": {},
   "outputs": [],
   "source": [
    "my_array = np.array(\n",
    "    [\n",
    "        10,\n",
    "        -43,\n",
    "        45,\n",
    "        2,\n",
    "        56,\n",
    "        67,\n",
    "        76,\n",
    "        12,\n",
    "        -1,\n",
    "        2,\n",
    "        55,\n",
    "        1,\n",
    "        2345,\n",
    "        4,\n",
    "        345,\n",
    "        4,\n",
    "        5,\n",
    "        67,\n",
    "        7,\n",
    "        545,\n",
    "        3,\n",
    "        5,\n",
    "        3564,\n",
    "        24,\n",
    "    ]\n",
    ")\n",
    "my_array_reshape = np.reshape(my_array, (6, 4))  # same as my_array.reshape((6, 4))\n",
    "print(my_array_reshape)"
   ]
  },
  {
   "cell_type": "markdown",
   "metadata": {},
   "source": [
    "`np.sort()` returns a sorted copy of the array."
   ]
  },
  {
   "cell_type": "code",
   "execution_count": null,
   "metadata": {},
   "outputs": [],
   "source": [
    "print(\"Sort array along the first dimension:\")\n",
    "print(np.sort(my_array_reshape, axis=0), \"\\n\")\n",
    "\n",
    "print(\"The array is flattened before sorting:\")\n",
    "print(np.sort(my_array_reshape, axis=None))"
   ]
  },
  {
   "cell_type": "markdown",
   "metadata": {},
   "source": [
    "## 2.4 Array Mathematics \n",
    "\n",
    "Thanks to **vectorized operations**, we can do very fast and efficient math with numpy arrays. Vectorized operations refer to performing operations on entire arrays at once, rather than iterating over individual elements. Let's look at some examples below:"
   ]
  },
  {
   "cell_type": "code",
   "execution_count": null,
   "metadata": {},
   "outputs": [],
   "source": [
    "np.random.seed(25)  # ignore this for now\n",
    "x = np.random.randint(1, 9, 6).reshape(2, 3)\n",
    "print(\"The original array:\", \"\\n\", x, \"\\n\")\n",
    "\n",
    "x = x + 1  # a single number is called a scalar, can also be written as x += 1\n",
    "print(\"Plus 1:\", \"\\n\", x, \"\\n\")\n",
    "\n",
    "x *= 2  # same as x = x * 2\n",
    "print(\"Multiply by 2:\", \"\\n\", x, \"\\n\")\n",
    "\n",
    "x **= 3  # same as x = x ** 3\n",
    "print(\"Power 3:\", \"\\n\", x)"
   ]
  },
  {
   "cell_type": "markdown",
   "metadata": {},
   "source": [
    "The same principle applies to calculations between two arrays, where operations are performed between the elements at corresponding locations in each array. See examples below:"
   ]
  },
  {
   "cell_type": "code",
   "execution_count": null,
   "metadata": {},
   "outputs": [],
   "source": [
    "np.random.seed(25)  # ignore this for now\n",
    "x = np.random.randint(1, 9, 6).reshape(2, 3)\n",
    "y = np.random.randint(1, 10, 6).reshape(2, 3)\n",
    "print(\"The original arrays\", \"\\n\", x, \"\\n\", \"\\n\", y, \"\\n\")\n",
    "\n",
    "print(\"Addition\")\n",
    "print(x + y)\n",
    "print(np.add(x, y), \"\\n\")\n",
    "\n",
    "print(\"Subtraction\")\n",
    "print(x - y)\n",
    "print(np.subtract(x, y), \"\\n\")\n",
    "\n",
    "print(\"Elementwise Multiplication\")\n",
    "print(x * y)\n",
    "print(np.multiply(x, y), \"\\n\")\n",
    "\n",
    "print(\"Elementwise Division\")\n",
    "print(x / y)\n",
    "print(np.divide(x, y))"
   ]
  },
  {
   "cell_type": "markdown",
   "metadata": {},
   "source": [
    "Above, we've shown you how to do elementwise operations between two arrays with the same shape. What if the two arrays have different shapes? NumPy has **broadcasting** for this purpose. \\\n",
    "Broadcasting implicitly uses the smaller array several times to match the shape of the larger one, so that  elementwise operations can be realized even if the arrays have different shapes. For example, if I want to add a smaller array of [1 2 3] to the \"y\" array, I can do so:"
   ]
  },
  {
   "cell_type": "code",
   "execution_count": null,
   "metadata": {},
   "outputs": [],
   "source": [
    "z = np.array([1, 2, 3])\n",
    "print(\"Array y:\", \"\\n\", y, \"\\n\")\n",
    "print(\"Array z:\", \"\\n\", z, \"\\n\")\n",
    "print(\"y+z:\", \"\\n\", y + z)"
   ]
  },
  {
   "cell_type": "markdown",
   "metadata": {},
   "source": [
    "It's equivalent to add the array of [[1 2 3], [1 2 3]] to \"y\", or add the \"z\" to each row of the \"y\" with an explicit loop:"
   ]
  },
  {
   "cell_type": "code",
   "execution_count": null,
   "metadata": {},
   "outputs": [],
   "source": [
    "# Add array zz which has the same shape with y\n",
    "zz = np.array([[1, 2, 3], [1, 2, 3]])\n",
    "print(\"Array y:\", \"\\n\", y, \"\\n\")\n",
    "print(\"Array zz:\", \"\\n\", zz, \"\\n\")\n",
    "print(\"y+zz:\", \"\\n\", y + zz, \"\\n\")\n",
    "\n",
    "# Add the vector z to each row of the y with an explicit loop\n",
    "y_plus_z = np.zeros(y.shape)\n",
    "for i in range(2):\n",
    "    y_plus_z[i, :] = y[i, :] + z\n",
    "\n",
    "print(\"y_plus_z:\", \"\\n\", y_plus_z)"
   ]
  },
  {
   "cell_type": "markdown",
   "metadata": {},
   "source": [
    "As you can see, broadcasting works exactly the same as making multiple copies of the smaller array, but without explicitly doing so. It makes your code more concise, readable, and much faster than looping, which is very important when working with large amounts of data. \n",
    "\n",
    "Before using broadcasting, you should check whether arrays are broadcastable. NumPy compares shapes of two arrays elementwise, from the rightmost dimension to the left. Two dimensions are compatible when **they are equal, or one of them is 1**. The two arrays do not have to have the same number of dimnsions, but all existing dimension sets of the two arrays should be compatible to be broadcastable. \n",
    "\n",
    "For example, the \"y\" array above has two dimensions with the shape of (2, 3) and the \"z\" array has one dimension with the shape of (3, ). The rightmost dimensions of these two arrays are 3 and 3, they are compatible because they are equal. These two arrays are broadcastable because all their existing dimension sets are compatible. "
   ]
  },
  {
   "cell_type": "markdown",
   "metadata": {},
   "source": [
    "Check whether the following two arrays are broadcastable or not, and right down your answers as \"True or False\" in the corresponding variables:\n",
    "1. A.shape = (8, 1, 6, 1); B.shape = (7, 1, 5)\n",
    "2. C.shape = (10, 10, 3); D.shape = (3, )\n",
    "3. E.shape = (3, 1); F.shape = (8, 6, 3)\n",
    "4. G.shape = (5,1); H.shape = (1, 6)"
   ]
  },
  {
   "cell_type": "code",
   "execution_count": null,
   "metadata": {},
   "outputs": [],
   "source": [
    "A_B = # True or False?\n",
    "C_D = # True or False?\n",
    "E_F = # True or False?\n",
    "G_H = # True or False?"
   ]
  },
  {
   "cell_type": "code",
   "execution_count": null,
   "metadata": {},
   "outputs": [],
   "source": [
    "# Test cell\n",
    "tests = np.load(\"Answers/week2.npy\", allow_pickle=True)\n",
    "answers = [A_B, C_D, E_F, G_H]\n",
    "\n",
    "try:\n",
    "    assert answers == tests[3]\n",
    "except AssertionError as msg:\n",
    "    print(\"Please compare the dimensions of above arrays again:(\")\n",
    "    raise (msg)\n",
    "else:\n",
    "    print(\"Good ^_^\")"
   ]
  },
  {
   "cell_type": "markdown",
   "metadata": {},
   "source": [
    "Now let's do something more practical with what you've learned today.\n",
    "\n",
    "One of the most popular methods for preparing data in machine learning and neural networks is data **standardization**.  It enables us to alter the values of numerical columns in the dataset to a standard scale with a mean of 0 and a standard deviation of 1. You can standardize each column using the equation: data_standarized = (data - mean) / std(data). Broadcasting helps to standardize data efficiently. Write a function called \"standardizer\" to:\n",
    "1. Accept only a 2D array to be the input, print messages \"Your array is not 2D!\" if the input is incorrect, and return None.\n",
    "2. Standardize each column using the above equation.\n",
    "4. Use vectorized operations and broadcasting, don't use loops."
   ]
  },
  {
   "cell_type": "code",
   "execution_count": null,
   "metadata": {},
   "outputs": [],
   "source": [
    "# YOUR CODE HERE"
   ]
  },
  {
   "cell_type": "code",
   "execution_count": null,
   "metadata": {},
   "outputs": [],
   "source": [
    "# Test cell\n",
    "test_3D = np.random.randint(10, 50, 40).reshape((2, 4, 5))\n",
    "out_3D = standardizer(test_3D)\n",
    "\n",
    "try:\n",
    "    assert out_3D == None\n",
    "except ValueError as msg:\n",
    "    print(\"Your function doesn’t only allow 2D array as input.\")\n",
    "    raise (msg)"
   ]
  },
  {
   "cell_type": "code",
   "execution_count": null,
   "metadata": {},
   "outputs": [],
   "source": [
    "# Test cell\n",
    "test_2D = np.random.randint(10, 50, 60).reshape((10, 6))\n",
    "out_2D = standardizer(test_2D)\n",
    "\n",
    "try:\n",
    "    np.testing.assert_almost_equal(out_2D.mean(axis=0), np.zeros(test_2D.shape[1]))\n",
    "except AssertionError as msg:\n",
    "    print(\"The mean of the column is not 0\")\n",
    "    raise (msg)\n",
    "\n",
    "try:\n",
    "    np.testing.assert_almost_equal(out_2D.std(axis=0), np.ones(test_2D.shape[1]))\n",
    "except AssertionError as msg:\n",
    "    print(\"The standard deviation of the column is not 1\")\n",
    "    raise (msg)\n",
    "else:\n",
    "    print(\"Well Done!\")"
   ]
  },
  {
   "cell_type": "markdown",
   "metadata": {
    "id": "D36gmsip8DOn"
   },
   "source": [
    "## 3. Data visualization with Matplotlib\n",
    "\n",
    "Data visualization is very important for communicating science. It also helps to see what the code does, to avoid coding errors, and to visualize different steps of an analysis with a plot. The standard data visualization library in Python is matplotlib, we usually import it as below: \n"
   ]
  },
  {
   "cell_type": "code",
   "execution_count": null,
   "metadata": {
    "id": "ikpCULI68T2A"
   },
   "outputs": [],
   "source": [
    "from matplotlib import pyplot as plt"
   ]
  },
  {
   "cell_type": "markdown",
   "metadata": {},
   "source": [
    "Matplotlib uses a procedural style for plotting, where you typically create a plot and then add elements to it. For example, you can first create a figure, and then create a plot area within a figure, and then plot some lines within a plot area, and you can decorate the plot with labels, different colors, line styles, and so on. Now, let's begin with a simple **line plot**.\n",
    "\n",
    "The `plot` function is used here. It is one of the most important functions of *pyplot* for plotting \"y\" versus \"x\" as lines and/or markers. "
   ]
  },
  {
   "cell_type": "code",
   "execution_count": null,
   "metadata": {},
   "outputs": [],
   "source": [
    "# Generate some variables\n",
    "x = np.linspace(-10, 10)\n",
    "y = x**2 + 2 * x + 1\n",
    "\n",
    "# Plot a line\n",
    "plt.plot(x, y)  # plot x and y using default line style and color\n",
    "plt.show()  # display figures"
   ]
  },
  {
   "cell_type": "markdown",
   "metadata": {},
   "source": [
    "You can customise the line with the argument of \"[marker][linestyple][color]\" as shown below. You can find all available format strings here: https://matplotlib.org/stable/api/_as_gen/matplotlib.pyplot.plot.html"
   ]
  },
  {
   "cell_type": "code",
   "execution_count": null,
   "metadata": {},
   "outputs": [],
   "source": [
    "plt.plot(\n",
    "    x, y, \"+--r\"\n",
    ")  # same as plt.plot(x, y, marker = \"+\", linestyle = \"--\", color = 'red' )\n",
    "plt.show()"
   ]
  },
  {
   "cell_type": "markdown",
   "metadata": {},
   "source": [
    "Now, let's add the axis labels and a title to the plot:"
   ]
  },
  {
   "cell_type": "code",
   "execution_count": null,
   "metadata": {},
   "outputs": [],
   "source": [
    "plt.plot(x, y, \"+--r\")\n",
    "plt.xlabel(\"x axis\")\n",
    "plt.ylabel(\"y axis\")\n",
    "plt.title(\n",
    "    \"My first plot\", fontsize=15, color=\"pink\"\n",
    ")  # text styles can also be changed with arguments\n",
    "plt.show()"
   ]
  },
  {
   "cell_type": "markdown",
   "metadata": {},
   "source": [
    "In addition to a line plot, we can draw a **scatter plot** using the `scatter()` function. See an example below:"
   ]
  },
  {
   "cell_type": "code",
   "execution_count": null,
   "metadata": {},
   "outputs": [],
   "source": [
    "animals = np.array(\n",
    "    [\"Dog\", \"Cat\", \"Elephant\", \"Horse\", \"Rat\", \"Mouse\"]\n",
    ")  # It's also possible to create a plot using categorical variables\n",
    "life_exp = np.array([12, 16, 70, 25, 2, 0.1])  # years\n",
    "\n",
    "plt.scatter(animals, life_exp, color=\"g\")\n",
    "plt.xlabel(\"Animal Species\", fontsize=15)\n",
    "plt.ylabel(\"Weigth (kg)\", fontsize=15)\n",
    "plt.show()"
   ]
  },
  {
   "cell_type": "markdown",
   "metadata": {},
   "source": [
    "We can also get some **histograms** with the `hist()` function as below:"
   ]
  },
  {
   "cell_type": "code",
   "execution_count": null,
   "metadata": {},
   "outputs": [],
   "source": [
    "beta_dist = np.random.beta(\n",
    "    2, 10, size=1000\n",
    ")  # generate random numbers with a beta distribution\n",
    "normal_dist = np.random.normal(\n",
    "    0.5, 0.2, size=1000\n",
    ")  # generate random numbers with a normal distribution\n",
    "\n",
    "# Plot two distributions\n",
    "plt.hist(\n",
    "    beta_dist, color=\"steelblue\", alpha=0.5\n",
    ")  # alpha argument is used for changing transparency\n",
    "plt.hist(\n",
    "    normal_dist, color=\"salmon\", alpha=0.5\n",
    ")  # you can draw multiple plots on a single figure\n",
    "plt.ylim((0, 300))  # xlim/ylim is used for setting limits of the axes\n",
    "plt.xlabel(\"Values\")\n",
    "plt.ylabel(\"Frequency\")\n",
    "plt.legend([\"beta\", \"normal\"])  # place a legend on the axes\n",
    "plt.title(\"Distributions\", fontsize=15)\n",
    "plt.show()"
   ]
  },
  {
   "cell_type": "markdown",
   "metadata": {},
   "source": [
    "All right, it's time to try it yourself! Create a plot by following these steps:\n",
    "1. Create an array \"x\" with 100 values from 0 to 10.\n",
    "2. Create the variable \"y1\", where y1 = sin(x), and the variable \"y2\", where y2 = cos(x). (Hint: see numpy math functions)\n",
    "3. Plot \"y1\" versus \"x\" with a dashed green line, \"y2\" versus \"x\" with a dotted orange line, and add a legend to differentiate them.\n",
    "4. Add the x and y labels and a title. You can also customize your graph as you like. \n",
    "\n",
    "You can compare your plot to the image we provide as a reference to make sure you are doing everything correctly."
   ]
  },
  {
   "cell_type": "code",
   "execution_count": null,
   "metadata": {},
   "outputs": [],
   "source": [
    "# Run the cell and compare your plot with the plot shown below\n",
    "image = plt.imread(\"Answers/sin_cos_plot.png\")\n",
    "plt.imshow(image)\n",
    "plt.axis(\"off\")\n",
    "plt.show()"
   ]
  },
  {
   "cell_type": "markdown",
   "metadata": {},
   "source": [
    "Very well done! We've covered the basics of NumPy and Matplotlib. Don't worry if you cannot remember everything. You'll see and write more code using these two libraries in the coming weeks, and you'll get better with more practice. "
   ]
  },
  {
   "cell_type": "markdown",
   "metadata": {
    "id": "adT5jsqALZsq"
   },
   "source": [
    "## Exercise 1\n",
    "\n",
    "We import the iris dataset below. It's a dataset contain 150 flowers' sepal length, sepal width, petal length and petal width as columns. Could you perform the following calcultions?\n",
    "1. Compute the mean, median, standard deviation of these four columns.\n",
    "2. Normalize each column so the values range exactly between 0 and 1"
   ]
  },
  {
   "cell_type": "code",
   "execution_count": null,
   "metadata": {},
   "outputs": [],
   "source": [
    "from sklearn import datasets\n",
    "\n",
    "iris = datasets.load_iris()[\"data\"]"
   ]
  },
  {
   "cell_type": "code",
   "execution_count": null,
   "metadata": {},
   "outputs": [],
   "source": []
  }
 ],
 "metadata": {
  "colab": {
   "collapsed_sections": [
    "D36gmsip8DOn",
    "adT5jsqALZsq"
   ],
   "name": "Copy of Tewa1-Tutorial2-Numpy-Visuals-basics.ipynb",
   "provenance": []
  },
  "kernelspec": {
   "display_name": "Python 3 (ipykernel)",
   "language": "python",
   "name": "python3"
  },
  "language_info": {
   "codemirror_mode": {
    "name": "ipython",
    "version": 3
   },
   "file_extension": ".py",
   "mimetype": "text/x-python",
   "name": "python",
   "nbconvert_exporter": "python",
   "pygments_lexer": "ipython3",
   "version": "3.11.0"
  }
 },
 "nbformat": 4,
 "nbformat_minor": 4
}
