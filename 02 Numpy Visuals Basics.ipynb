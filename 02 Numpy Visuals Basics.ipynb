{
 "cells": [
  {
   "cell_type": "markdown",
   "metadata": {
    "id": "C5N8uXaLdary"
   },
   "source": [
    "# Tutorial 2 - Python libraries NumPy and Matplotlib\n",
    "\n",
    "\n",
    "*written and revised by Jozsef Arato, Mengfan Zhang, Dominik Pegler*  \n",
    "Computational Cognition Course, University of Vienna  \n",
    "https://github.com/univiemops/tewa1-computational-cognition\n",
    "---"
   ]
  },
  {
   "cell_type": "markdown",
   "metadata": {},
   "source": [
    "## This week's lab:\n",
    "\n",
    "We will briefly introduce the Python library NumPy and Matplotlib this week. Comprehensive documentation can be found at https://numpy.org/doc/stable/user/index.html and https://matplotlib.org/stable/users/index.html. \n",
    "\n",
    "NumPy is one of the most important libraries for scientific computing in Python. Foundational libraries such as Matplotlib and Pandas, as well as machine learning libraries such as TensorFlow and scikit-learn, which we will discuss in future weeks, often use NumPy arrays as input. In this tutorial, we will cover array creation, indexing, slicing, mathematical operations, and commonly used functions of NumPy. \n",
    "\n",
    "Matplotlib is a popular 2D plotting library for Python. It provides a flexible and powerful interface for creating a wide variety of plots, charts, and visualizations. In this tutorial, we will show you how to create simple plots, customize plots, and work with multiple subplots.\n",
    "\n",
    "**Learning goals:** \\\n",
    "When finishing this tutorial, you should...\n",
    "*   know how to import libraries and functions  \n",
    "*   perform basic array operations, calculations, and functions with NumPy \n",
    "*   understand the structure of a plot and create custom plots using Matplotlib  \n",
    "\n",
    "**Estimated time to complete:** 1.5 hours (depends on your previous knowledge) \\\n",
    "**Deadline:** Next Monday, 23:59"
   ]
  },
  {
   "cell_type": "markdown",
   "metadata": {},
   "source": [
    "## 1. Import library \n",
    "\n",
    "Last week, you already used several built-in Python functions such as `print()`,`len()`, and `type()`. However, there are not so many of them and these functions are limited. If we want to do things more complicated, we can make use of Python libraries. \n",
    "\n",
    "To get access to functionality of the non-built-in libraries, you need to first explicitly import them by:\\\n",
    "`import library` \\\n",
    "and usually abbreviate the library name by two or three letters: \\\n",
    "`import library as abbreviation` \n",
    "\n",
    "Then the functions can be called by: \\\n",
    "`library.function` or `abbreviation.function` \n",
    "\n",
    "If you don't need the whole library, but just the specific functions, you can import by: \\\n",
    "`from library import function 1, function 2, etc` \\\n",
    "or you can customize the import \\\n",
    "`from library import someFunction as newName`"
   ]
  },
  {
   "cell_type": "markdown",
   "metadata": {
    "id": "lMGYaj6937hv"
   },
   "source": [
    "## 2. NumPy \n",
    "\n",
    "NumPy provides arrays, a data format that makes numerical computation easier, and comes with many functions for manipulating these arrays. NumPy arrays can have any number of dimensions. A one-dimensional array is similar to a simple list, a two-dimensional array is similar to a matrix, and arrays with more than two dimensions are also commonly used. For example, fMRI data can typically be represented as 4D arrays (3 dimensions represent x,y,z axis of the brain volume + 1 dimension of time points).\n",
    "\n",
    "Now, let's import the library and start from creating an array. "
   ]
  },
  {
   "cell_type": "code",
   "execution_count": 2,
   "metadata": {
    "id": "MidoquBU3_lS"
   },
   "outputs": [],
   "source": [
    "import numpy as np \n",
    "# it just makes our lives easier if we all use the same abbreviation"
   ]
  },
  {
   "cell_type": "markdown",
   "metadata": {
    "id": "U9rYKV6m4G2T"
   },
   "source": [
    "To see how a function works, just type it after a ? mark:"
   ]
  },
  {
   "cell_type": "code",
   "execution_count": 59,
   "metadata": {
    "id": "p3cj2yJB4RbQ"
   },
   "outputs": [],
   "source": [
    "?np.zeros "
   ]
  },
  {
   "cell_type": "markdown",
   "metadata": {
    "id": "WGfA86t7M4dz"
   },
   "source": [
    "There are many arbitrary conventions in how Python's built-in functions work, you can sometimes figure these out by trial and error, but it is often easier to use the built-in help by typing the ? in front and running the cell, or you can always Google it. "
   ]
  },
  {
   "cell_type": "markdown",
   "metadata": {},
   "source": [
    "### 2.1 Creation of numpy array \n",
    "\n",
    "In the below cell, we create a 1D numpy array of five zeros using the function np.zeros."
   ]
  },
  {
   "cell_type": "code",
   "execution_count": null,
   "metadata": {
    "colab": {
     "base_uri": "https://localhost:8080/"
    },
    "id": "pG7CJtZr4DjH",
    "outputId": "e0038dd2-23e2-4772-a84d-dc930d05061a"
   },
   "outputs": [],
   "source": [
    "my_zeros = np.zeros(5)\n",
    "print(my_zeros)"
   ]
  },
  {
   "cell_type": "markdown",
   "metadata": {
    "id": "QcNGQclwisuY"
   },
   "source": [
    "Try to make an 1D array called \"ar_of_ones\" of 200 ones using the np.ones in the cell below."
   ]
  },
  {
   "cell_type": "code",
   "execution_count": null,
   "metadata": {
    "colab": {
     "base_uri": "https://localhost:8080/"
    },
    "id": "DJU19jj34nw0",
    "outputId": "57dcc99f-d5bf-4e1a-dbb2-bab6b420201b"
   },
   "outputs": [],
   "source": [
    "ar_of_ones = # YOUR CORE HERE\n"
   ]
  },
  {
   "cell_type": "code",
   "execution_count": null,
   "metadata": {},
   "outputs": [],
   "source": [
    "'''Test the above cell ''' \n",
    "try:\n",
    "    assert all(ar_of_ones) == 1 and sum(ar_of_ones) == 200\n",
    "except AssertionError as msg:\n",
    "    print(\"'ar_of_ones' is not correctly defined.\")\n",
    "    raise(msg)\n",
    "else:\n",
    "    print(\"Good!\")"
   ]
  },
  {
   "cell_type": "markdown",
   "metadata": {
    "id": "Astf9BHNi2ie"
   },
   "source": [
    "This allows us to easily create an array with the same values in it. If we want to make an array of 200 lengths with only 55, we can multiply an array of ones by 55 (or plus 54). "
   ]
  },
  {
   "cell_type": "code",
   "execution_count": null,
   "metadata": {
    "colab": {
     "base_uri": "https://localhost:8080/"
    },
    "id": "4VZcKhCBi13c",
    "outputId": "35ca19d9-9181-4129-cd2d-eff892ba58b5"
   },
   "outputs": [],
   "source": [
    "ar_of_fiftyfives = ar_of_ones * 55\n",
    "ar_of_fiftyfives"
   ]
  },
  {
   "cell_type": "markdown",
   "metadata": {
    "id": "95DePETZ59zQ"
   },
   "source": [
    "Alternatively, we can use `np.full`."
   ]
  },
  {
   "cell_type": "code",
   "execution_count": null,
   "metadata": {
    "colab": {
     "base_uri": "https://localhost:8080/"
    },
    "id": "L19oBhl1fRPe",
    "outputId": "0b816f5f-cc23-4238-90b3-6829af6a7b4f",
    "scrolled": true
   },
   "outputs": [],
   "source": [
    "alt_to_previous = np.full(200, 55)\n",
    "alt_to_previous"
   ]
  },
  {
   "cell_type": "markdown",
   "metadata": {
    "id": "E6FuxAJf4_uy"
   },
   "source": [
    "Another way to create a numpy array is to first define a list, and then you can convert this list to a numpy array using `np.array` function. Or you can combine these two steps to manually create a numpy array from a list of numbers."
   ]
  },
  {
   "cell_type": "code",
   "execution_count": null,
   "metadata": {
    "colab": {
     "base_uri": "https://localhost:8080/"
    },
    "id": "HcQgfLc-49v9",
    "outputId": "4cb80e2e-0943-4922-a7ad-eab311cd93f1"
   },
   "outputs": [],
   "source": [
    "my_list = [10, -43, 45, 2, 56, 67, 76, 12, -1, 2, 55, \n",
    "           2345, 4, 345, 4, 5, 67, 7, 545, 3, 5, 3564, 24]\n",
    "my_array = np.array(my_list)\n",
    "\n",
    "# alternatively:\n",
    "my_array = np.array([10, -43, 45, 2, 56, 67, 76, 12, -1, 2, 55, \n",
    "                     2345, 4, 345, 4, 5, 67, 7, 545, 3, 5, 3564, 24]\n",
    "                   )\n",
    "\n",
    "print(my_array)"
   ]
  },
  {
   "cell_type": "markdown",
   "metadata": {},
   "source": [
    "A simple list is converted to 1D array, but a nested list (a list within a list) is converted to 2D or higher dimensions based on the list structure:"
   ]
  },
  {
   "cell_type": "code",
   "execution_count": null,
   "metadata": {},
   "outputs": [],
   "source": [
    "my_2D_list = [[1, 2, 3],[4, 5, 6]]\n",
    "my_2D_array = np.array(my_2D_list)\n",
    "\n",
    "my_3D_list = [[[1, 2, 3],[4, 5, 6]],\n",
    "              [[7, 8, 9],[10, 11, 12]],\n",
    "              [[13, 14, 15],[16, 17, 18]]]\n",
    "my_3D_array = np.array(my_3D_list)\n",
    "\n",
    "print(\"A 2D array:\", '\\n', my_2D_array, '\\n')\n",
    "print(\"A 3D array:\", '\\n', my_3D_array)"
   ]
  },
  {
   "cell_type": "markdown",
   "metadata": {},
   "source": [
    "As you might expecet, creating nested list and then coverting it to numpy array quickly become troublesome as the increasing of dimensions or elements. Fortunately, Numpy provides various functions to initiate high dimension arrays efficiently. The `np.zeros`, `np.ones`, and `np.empty` functions are commonly used for this purpose. Once you initialize an array with only zeros/ones of your desired dimensionality, you can fill in the array using loop or other operations. "
   ]
  },
  {
   "cell_type": "code",
   "execution_count": null,
   "metadata": {},
   "outputs": [],
   "source": [
    "my_dimension = (3, 2, 5) # use () for defining dimensionality, here I want a 3D array with shape of 3*2*5\n",
    "my_3d_zeros = np.zeros(my_dimension)\n",
    "\n",
    "my_3d_ones = np.ones((2, 4, 3))\n",
    "\n",
    "print(\"A 3d array with zeros:\", '\\n', my_3d_zeros, '\\n')\n",
    "print(\"A 3d array with ones:\", '\\n', my_3d_ones)"
   ]
  },
  {
   "cell_type": "markdown",
   "metadata": {},
   "source": [
    "*Tips:* Creating an \"empty\" array with only zeros/ones and filling in \"actual values\" latter is called **pre-allocation** in programming. When adding elements to an array, the memory is dynamically allocated. Pre-allocating an array helps avoid the overhead of dynamic memory allocation and improve efficiency.\n",
    "\n",
    "You may also wonder why we don't do operations on the list directly? Why do we need the numpy array instead? Recall that we mentioned last week that Python's list allows different types of data as its elements. However, the numpy array contains only a single data type. This makes the numpy array memory efficient compared to the list, and Python doesn't need to check the data type of the elements when performing the operation. Also, NumPy supports broadcasting and vectorized operations (we will mention them later), which can apply operations to the entire array without looping over individual elements. As a result, operations on NumPy arrays can be much faster, and this is really important when you do complex operation. See an example below:"
   ]
  },
  {
   "cell_type": "code",
   "execution_count": null,
   "metadata": {},
   "outputs": [],
   "source": [
    "time_list = %timeit -n 10000 [x + 1 for x in range(1000)]\n",
    "time_nparray = %timeit -n 10000 np.arange(1000) + 1"
   ]
  },
  {
   "cell_type": "markdown",
   "metadata": {},
   "source": [
    "### 2.2 Indexing and slicing\n",
    "\n",
    "Indexing and slicing a 1D numpy array is very similar to indexing and slicing a simple Python list as we discussed last week. \n",
    "\n",
    "In the cell below, try to extract the fifth element of the \"my_array\" variable, and stored it in \"fifth_ele\". Also stored the second to the nineth elements of \"my_array\" to the new variable \"two_to_nine_ele\"."
   ]
  },
  {
   "cell_type": "code",
   "execution_count": null,
   "metadata": {},
   "outputs": [],
   "source": [
    "my_array = np.array([10, -43, 45, 2, 56, 67, 76, 12, -1, 2, 55, \n",
    "                     2345, 4, 345, 4, 5, 67, 7, 545, 3, 5, 3564, 24]\n",
    "                   )\n",
    "\n",
    "# YOUR CODE HERE"
   ]
  },
  {
   "cell_type": "markdown",
   "metadata": {},
   "source": [
    "To index a multidimensional array, you can index using an operation similar to a 1D array on each dimension, and separate each dimension indexing operation by comma. Let's see some example below:"
   ]
  },
  {
   "cell_type": "code",
   "execution_count": null,
   "metadata": {},
   "outputs": [],
   "source": [
    "some_3D_array = np.arange(40).reshape((2, 5, 4))\n",
    "print(\"Full array:\", '\\n', some_3D_array, '\\n',)\n",
    "\n",
    "print(\"dim1: index the second element, dim2: index the third element, dim3: index the third element\")\n",
    "print(some_3D_array[1, 2, 2])\n",
    "\n",
    "print(\"dim1: the first element, dim2: 1-4 elements, dim3: 2-3 elements\")\n",
    "print(some_3D_array[0, 0:4, 1:3])"
   ]
  },
  {
   "cell_type": "markdown",
   "metadata": {
    "id": "WN-LQ6Tw5SDQ"
   },
   "source": [
    "1. print the length of this array using shape\n",
    "2. use numpy to print MyArray sorted from smallest to largest, (and print)\n",
    "3. use numpy to print MyArray sorted from largerst to smallest (and print)\n",
    "4. use numpy to find the mean of MyArray (and print)\n",
    "5. use numpy to find the median of MyArray\n",
    "6. use numpy to calculate the standard deviation of MyArray\n",
    "7. use numpy to print the minimum and maximum value of MyArray\n"
   ]
  },
  {
   "cell_type": "code",
   "execution_count": 28,
   "metadata": {
    "colab": {
     "base_uri": "https://localhost:8080/"
    },
    "id": "5jqRCvNH9pe1",
    "outputId": "73912d1f-5475-4c1a-9721-cdca50344a1a"
   },
   "outputs": [
    {
     "name": "stdout",
     "output_type": "stream",
     "text": [
      "1. 23\n",
      "2. [-43, -1, 2, 2, 3, 4, 4, 5, 5, 7, 10, 12, 24, 45, 55, 56, 67, 67, 76, 345, 545, 2345, 3564]\n",
      "3. [3564, 2345, 545, 345, 76, 67, 67, 56, 55, 45, 24, 12, 10, 7, 5, 5, 4, 4, 3, 2, 2, -1, -43]\n",
      "4. 313.0\n",
      "5. 12.0\n",
      "6. 844.1523147126842\n",
      "7. Min:  -43 Max:  3564\n"
     ]
    }
   ],
   "source": [
    "print(\"1.\", len(my_array))\n",
    "print(\n",
    "    \"2.\",\n",
    "    sorted(\n",
    "        my_array,\n",
    "    ),\n",
    ")\n",
    "print(\"3.\", sorted(my_array, reverse=True))\n",
    "print(\"4.\", my_array.mean())\n",
    "print(\"5.\", np.median(my_array))\n",
    "print(\"6.\", np.std(my_array))\n",
    "print(\"7.\", \"Min: \", np.min(my_array), \"Max: \", np.max(my_array))"
   ]
  },
  {
   "cell_type": "markdown",
   "metadata": {
    "id": "zVe2IUwz6hxQ"
   },
   "source": [
    "test the np.arange function\n",
    "\n",
    "1. use arange to print numbers 0 to 6\n",
    "2. use arange to print numbers 5 to 12\n",
    "3. use arange to  print all numbers between 200 and 300 in steps of 10\n",
    "\n"
   ]
  },
  {
   "cell_type": "code",
   "execution_count": 31,
   "metadata": {
    "colab": {
     "base_uri": "https://localhost:8080/"
    },
    "id": "yt91wkOm598E",
    "outputId": "bda11bef-43a5-46f6-c2e3-5368a7eeaa3f"
   },
   "outputs": [
    {
     "name": "stdout",
     "output_type": "stream",
     "text": [
      "[0 1 2 3 4 5 6]\n",
      "[ 5  6  7  8  9 10 11 12]\n",
      "[200 210 220 230 240 250 260 270 280 290 300]\n"
     ]
    }
   ],
   "source": [
    "# YOUR CODE\n",
    "print(np.arange(7))\n",
    "print(np.arange(5, 13))\n",
    "print(np.arange(200, 301, 10))"
   ]
  },
  {
   "cell_type": "markdown",
   "metadata": {
    "id": "7yHrIEhx6-5P"
   },
   "source": [
    "test the numpy linspace function\n",
    "\n",
    "how is it diferent from arange?\n",
    "\n",
    "create an array with linspace, called MyArr2 that goes between 0 and 100 in steps of 10"
   ]
  },
  {
   "cell_type": "code",
   "execution_count": 31,
   "metadata": {
    "colab": {
     "base_uri": "https://localhost:8080/"
    },
    "id": "jl-wLs3D7Fqo",
    "outputId": "3b154c85-044d-458a-cc9a-a0ea765508d8"
   },
   "outputs": [
    {
     "data": {
      "text/plain": [
       "array([  0,  11,  22,  33,  44,  55,  66,  77,  88, 100])"
      ]
     },
     "execution_count": 31,
     "metadata": {},
     "output_type": "execute_result"
    }
   ],
   "source": [
    "# YOUR CODE\n",
    "my_array2 = np.linspace(0, 100, 10, dtype=int)\n",
    "my_array2"
   ]
  },
  {
   "cell_type": "markdown",
   "metadata": {
    "id": "6P7e9qp6CY4a"
   },
   "source": [
    "indexing of  numpy arrays is done with [], similarly to  lists \n",
    "\n",
    "1. print the 2nd, 4th elements of MyArray below\n",
    "\n",
    "2. print all elements from 2nd to last\n",
    "\n",
    "3. print the last five elements"
   ]
  },
  {
   "cell_type": "code",
   "execution_count": 7,
   "metadata": {
    "colab": {
     "base_uri": "https://localhost:8080/"
    },
    "id": "3cxh5eZtCZu6",
    "outputId": "a4479b33-f3c4-48bc-81fd-a592789d60d0"
   },
   "outputs": [
    {
     "name": "stdout",
     "output_type": "stream",
     "text": [
      "0.13687326415064005 0.1352921037428566\n",
      "[0.65984066 0.1352921  0.51158754 0.66762425 0.23340443 0.74156884\n",
      " 0.32094095 0.33802513 0.77601165 0.40428091 0.38305246 0.07595329\n",
      " 0.38796644 0.02363402 0.84262424 0.5320416  0.06968553 0.11848468\n",
      " 0.06448533 0.58135263 0.98725306 0.48235256 0.60040773 0.63852648\n",
      " 0.4192762  0.50840052 0.98377983 0.88159019 0.18420312 0.62912348\n",
      " 0.80184079 0.2099824  0.25708822 0.38337994 0.2204416  0.52308366\n",
      " 0.56385442 0.08768353 0.58848333 0.16410814 0.3667184  0.41257102\n",
      " 0.09665405 0.82235526 0.19821888 0.68158623 0.70595609 0.8001221\n",
      " 0.42411639 0.57696161 0.08541578 0.43888754 0.54815827 0.58539915\n",
      " 0.89861504 0.19040119 0.19159344 0.60713951 0.65366054 0.77363112\n",
      " 0.48131079 0.94045536 0.6051931  0.5164171  0.22386545 0.2214895\n",
      " 0.99870567 0.2953615  0.18481304 0.09053662 0.73672742 0.444672\n",
      " 0.23599599 0.56602885 0.7429699  0.72070843 0.43390175 0.58986818\n",
      " 0.04319582 0.69416451 0.50476246 0.42588445 0.54900295 0.90000025\n",
      " 0.0044082  0.78023182 0.22004975 0.80970264 0.93724383 0.08857412\n",
      " 0.34796184 0.10125429 0.06994184 0.15798566 0.94302358 0.55470318\n",
      " 0.37958124 0.61359302 0.47833485 0.38430117 0.74863326 0.16398796\n",
      " 0.37245538 0.511212   0.62764862 0.73800898 0.81465483 0.14720824\n",
      " 0.837801   0.28927926 0.67261203 0.64344955 0.74738469 0.39099925\n",
      " 0.43129041 0.10264648 0.6439671  0.66209072 0.92879982 0.93108243\n",
      " 0.17372449 0.06504626 0.67916359 0.76195718 0.23842447 0.81618699\n",
      " 0.44434493 0.84675254 0.37998609 0.07432578 0.93867448 0.16509018\n",
      " 0.0593568  0.82863324 0.33020403 0.82079404 0.77108315 0.88445592\n",
      " 0.12280994 0.45584937 0.44893156 0.45879082 0.13245107 0.02801188\n",
      " 0.07872254 0.9876857  0.74465807 0.91342863 0.13742395 0.90215559\n",
      " 0.42846049 0.62523742 0.11483317 0.24307456 0.59298343 0.52563446\n",
      " 0.1923261  0.62508787 0.85896016 0.3178415  0.31396001 0.59944022\n",
      " 0.44673434 0.02680229 0.04589618 0.35648952 0.48031991 0.86452466\n",
      " 0.07571521 0.33077431 0.23005668 0.7393688  0.55535042 0.09177587\n",
      " 0.32868008 0.19624362 0.16044151 0.03081415 0.35838588 0.65615634\n",
      " 0.6580882  0.18036632 0.95079257 0.05538609 0.2685544  0.97036309\n",
      " 0.09737579 0.05727401 0.91457594 0.20810899 0.82251911 0.42531637\n",
      " 0.37050396 0.83581262 0.52691393 0.61570488 0.63730188 0.26437729]\n",
      "[0.83581262 0.52691393 0.61570488 0.63730188 0.26437729]\n"
     ]
    }
   ],
   "source": [
    "my_array = np.random.random_sample(200)\n",
    "\n",
    "print(my_array[1], my_array[3])\n",
    "print(my_array[2:])\n",
    "print(my_array[-5:])"
   ]
  },
  {
   "cell_type": "markdown",
   "metadata": {
    "id": "SBVb2EYiCSmu"
   },
   "source": [
    "apart from numbers, a numerical numpy array can to handle missing values with using np.NAN"
   ]
  },
  {
   "cell_type": "code",
   "execution_count": 28,
   "metadata": {
    "colab": {
     "base_uri": "https://localhost:8080/"
    },
    "id": "TvMQ9UPRCWLc",
    "outputId": "f7a6b8fb-3c09-44ab-a841-eca2418ddec1"
   },
   "outputs": [],
   "source": [
    "a = np.array([10, 21, 33, 4, 0, 7])\n",
    "b = np.array([10, 21, 33, 4, np.NaN, 7])\n",
    "b_without_missing = b[~np.isnan(b)]"
   ]
  },
  {
   "cell_type": "code",
   "execution_count": 28,
   "metadata": {
    "colab": {
     "base_uri": "https://localhost:8080/"
    },
    "id": "TvMQ9UPRCWLc",
    "outputId": "f7a6b8fb-3c09-44ab-a841-eca2418ddec1"
   },
   "outputs": [
    {
     "name": "stdout",
     "output_type": "stream",
     "text": [
      "[10 21 33  4  0  7]\n",
      "[10. 21. 33.  4. nan  7.]\n",
      "15.0\n",
      "15.0\n"
     ]
    }
   ],
   "source": [
    "print(a)\n",
    "print(b)\n",
    "print(np.mean(b_without_missing))\n",
    "print(np.nanmean(b))"
   ]
  },
  {
   "cell_type": "markdown",
   "metadata": {
    "id": "vUt_Lzk062Q9"
   },
   "source": [
    "however, missing values change the calculations on arrays\n",
    "\n",
    "test np.mean, np.nanmean on A and B\n",
    "\n",
    "you can easily see that using zeros for missing values is dangerous!\n",
    "\n",
    "---\n",
    "\n"
   ]
  },
  {
   "cell_type": "code",
   "execution_count": null,
   "metadata": {
    "id": "V2HkF2Fx6qtE"
   },
   "outputs": [],
   "source": [
    "print(# your code here)\n",
    "print(# your code here)\n",
    "print(# your code here)\n",
    "print(# your code here)"
   ]
  },
  {
   "cell_type": "markdown",
   "metadata": {
    "id": "7Xf984IgqltX"
   },
   "source": [
    "numpy array are very useful, as we can make quick calculations on all if its elements"
   ]
  },
  {
   "cell_type": "code",
   "execution_count": null,
   "metadata": {
    "colab": {
     "base_uri": "https://localhost:8080/"
    },
    "id": "aIUiydTXqj2p",
    "outputId": "adffbaad-3506-43fa-b8cb-c6940215729c"
   },
   "outputs": [
    {
     "data": {
      "text/plain": [
       "7199"
      ]
     },
     "execution_count": 69,
     "metadata": {},
     "output_type": "execute_result"
    }
   ],
   "source": [
    "np.sum(my_array)"
   ]
  },
  {
   "cell_type": "markdown",
   "metadata": {
    "id": "6uzJAOtmq1jV"
   },
   "source": [
    "the above simply sums all elements of MyArray.\n",
    "\n",
    "However, if we do:"
   ]
  },
  {
   "cell_type": "code",
   "execution_count": null,
   "metadata": {
    "colab": {
     "base_uri": "https://localhost:8080/"
    },
    "id": "ff9zv8Urq8jx",
    "outputId": "1da7e38f-c4dd-4fec-8f1a-a7b1d5d79f62"
   },
   "outputs": [
    {
     "name": "stdout",
     "output_type": "stream",
     "text": [
      "[  10  -43   45    2   56   67   76   12   -1    2   55 2345    4  345\n",
      "    4    5   67    7  545    3    5 3564   24]\n"
     ]
    },
    {
     "data": {
      "text/plain": [
       "21"
      ]
     },
     "execution_count": 64,
     "metadata": {},
     "output_type": "execute_result"
    }
   ],
   "source": [
    "print(my_array)\n",
    "np.sum(my_array > 0)"
   ]
  },
  {
   "cell_type": "code",
   "execution_count": null,
   "metadata": {
    "colab": {
     "base_uri": "https://localhost:8080/"
    },
    "id": "M0gMv0_xnu7K",
    "outputId": "c7287cb5-5c6f-45cf-d512-1bbc242b689d"
   },
   "outputs": [
    {
     "data": {
      "text/plain": [
       "array([ True, False,  True,  True,  True,  True,  True,  True, False,\n",
       "        True,  True,  True,  True,  True,  True,  True,  True,  True,\n",
       "        True,  True,  True,  True,  True])"
      ]
     },
     "execution_count": 63,
     "metadata": {},
     "output_type": "execute_result"
    }
   ],
   "source": [
    "my_array > 0"
   ]
  },
  {
   "cell_type": "markdown",
   "metadata": {
    "id": "5h45Jb5vq_oP"
   },
   "source": [
    "try to understand what the above code is doing\n",
    "\n",
    "\n",
    "the 4 logicals we use for such calculations\n",
    "are >,<,==,!=  \n",
    "\n",
    "test what these might be doing below\n",
    "\n",
    "1. calculate how many elements of  MyArray equal 2\n",
    "\n",
    "2. calculate how many elements of  MyArray are not equal 2\n",
    "\n"
   ]
  },
  {
   "cell_type": "code",
   "execution_count": null,
   "metadata": {
    "colab": {
     "base_uri": "https://localhost:8080/"
    },
    "id": "dsCkTD7crcSU",
    "outputId": "f4ffe9b2-cd45-44fe-9ca3-be37da50f775"
   },
   "outputs": [
    {
     "name": "stdout",
     "output_type": "stream",
     "text": [
      "Num equal two: 2\n",
      "Num not equal two: 21\n"
     ]
    }
   ],
   "source": [
    "Num2=#YOUR CODE\n",
    "NumNot2=#YOUR CODE\n",
    "\n",
    "print('Num equal two:',Num2)\n",
    "print('Num not equal two:',NumNot2)"
   ]
  },
  {
   "cell_type": "markdown",
   "metadata": {
    "id": "D36gmsip8DOn"
   },
   "source": [
    "## Data visualization with Matplotlib\n",
    "\n",
    "data visualization is really important for science communication\n",
    "\n",
    "it is also very useful to see what the code is doing, to visualize different steps of an analysis with plot, many coding mistakes can be avoided this way\n",
    "\n",
    "the standard data visualization library in python is matplotlib\n",
    "we usually import it as below: \n"
   ]
  },
  {
   "cell_type": "code",
   "execution_count": 32,
   "metadata": {
    "id": "ikpCULI68T2A"
   },
   "outputs": [],
   "source": [
    "from matplotlib import pyplot as plt"
   ]
  },
  {
   "cell_type": "markdown",
   "metadata": {
    "id": "uwTBolMB9Jct"
   },
   "source": [
    "for example we can plot the array we created above"
   ]
  },
  {
   "cell_type": "code",
   "execution_count": 35,
   "metadata": {
    "colab": {
     "base_uri": "https://localhost:8080/",
     "height": 282
    },
    "id": "3KhPK6uH8_zy",
    "outputId": "3248379e-316f-4676-c16e-49c9c69bc02a"
   },
   "outputs": [
    {
     "data": {
      "text/plain": [
       "[<matplotlib.lines.Line2D at 0x7fe9713351f0>]"
      ]
     },
     "execution_count": 35,
     "metadata": {},
     "output_type": "execute_result"
    },
    {
     "data": {
      "image/png": "[encoded data removed]",
      "text/plain": [
       "<Figure size 432x288 with 1 Axes>"
      ]
     },
     "metadata": {
      "needs_background": "light"
     },
     "output_type": "display_data"
    }
   ],
   "source": [
    "plt.plot(a)"
   ]
  },
  {
   "cell_type": "markdown",
   "metadata": {
    "id": "hFpDS4FYLDOA"
   },
   "source": [
    "\n",
    "a different type of plot can be accessed as plt.scatter\n",
    "\n",
    "X is defined a the numbers 0:5 as below.\n",
    "\n",
    "1. create a new array Y that is defined as the values of X squared \n",
    "2. and make a scatter plot of the result\n"
   ]
  },
  {
   "cell_type": "code",
   "execution_count": 37,
   "metadata": {
    "colab": {
     "base_uri": "https://localhost:8080/",
     "height": 282
    },
    "id": "2OI6KbBGLKe2",
    "outputId": "4eaf192e-002b-4bd9-d3d8-f42f413ad5ce"
   },
   "outputs": [
    {
     "data": {
      "text/plain": [
       "<matplotlib.collections.PathCollection at 0x7fe971222700>"
      ]
     },
     "execution_count": 37,
     "metadata": {},
     "output_type": "execute_result"
    },
    {
     "data": {
      "image/png": "[encoded data removed]",
      "text/plain": [
       "<Figure size 432x288 with 1 Axes>"
      ]
     },
     "metadata": {
      "needs_background": "light"
     },
     "output_type": "display_data"
    }
   ],
   "source": [
    "x = np.arange(5)\n",
    "y = x**2\n",
    "plt.scatter(\n",
    "    x,\n",
    "    y,\n",
    ")\n",
    "# yOUR CODE"
   ]
  },
  {
   "cell_type": "code",
   "execution_count": 38,
   "metadata": {},
   "outputs": [
    {
     "data": {
      "text/plain": [
       "[<matplotlib.lines.Line2D at 0x7fe970bb6850>]"
      ]
     },
     "execution_count": 38,
     "metadata": {},
     "output_type": "execute_result"
    },
    {
     "data": {
      "image/png": "[encoded data removed]",
      "text/plain": [
       "<Figure size 432x288 with 1 Axes>"
      ]
     },
     "metadata": {
      "needs_background": "light"
     },
     "output_type": "display_data"
    }
   ],
   "source": [
    "plt.plot(x, y)"
   ]
  },
  {
   "cell_type": "markdown",
   "metadata": {
    "id": "6_0Ky-E-c39z"
   },
   "source": [
    "we return to our list of animals,\n",
    "with defining an additional feature (life expectancy), and we transform these into nupmy arrays"
   ]
  },
  {
   "cell_type": "code",
   "execution_count": null,
   "metadata": {
    "colab": {
     "base_uri": "https://localhost:8080/"
    },
    "id": "0flw6-EkcxFq",
    "outputId": "4fd0b8f8-83e5-437b-8e55-cfbb6e2bc4fd"
   },
   "outputs": [
    {
     "name": "stdout",
     "output_type": "stream",
     "text": [
      "['Dog' 'Cat' 'Elephant' 'Horse' 'Rat' 'Mouse']\n",
      "[12.  16.  70.  25.   2.   0.1]\n"
     ]
    }
   ],
   "source": [
    "animals = np.array([\"Dog\", \"Cat\", \"Elephant\", \"Horse\", \"Rat\", \"Mouse\"])\n",
    "weights = np.array([20, 2, 3e6, 500, 0.3, 0.02])  # kg\n",
    "life_exp = np.array([12, 16, 70, 25, 2, 0.1])  # years\n",
    "print(animals)\n",
    "print(life_exp)"
   ]
  },
  {
   "cell_type": "markdown",
   "metadata": {
    "id": "1XD1uSxvtprz"
   },
   "source": [
    "this is very useful way of indexing:"
   ]
  },
  {
   "cell_type": "code",
   "execution_count": null,
   "metadata": {
    "colab": {
     "base_uri": "https://localhost:8080/"
    },
    "id": "L_NsMXhTtxRh",
    "outputId": "2357d10b-c417-4bb0-81c4-60f5ef15a7ca"
   },
   "outputs": [
    {
     "name": "stdout",
     "output_type": "stream",
     "text": [
      "Animals that live more than 15 years ['Cat' 'Elephant' 'Horse']\n",
      "[False  True  True  True False False]\n"
     ]
    }
   ],
   "source": [
    "print(\"animals that live more than 15 years\", animals[life_exp > 15])\n",
    "# to understand how this works, check\n",
    "print(life_exp > 15)"
   ]
  },
  {
   "cell_type": "markdown",
   "metadata": {
    "id": "zTEgWh48dHTZ"
   },
   "source": [
    "plot the weigth of each animals\n",
    "\n",
    " please see the below code below for some of the basic visualization features of matplotlib"
   ]
  },
  {
   "cell_type": "code",
   "execution_count": null,
   "metadata": {
    "colab": {
     "base_uri": "https://localhost:8080/",
     "height": 312
    },
    "id": "uiYhUjUodUMb",
    "outputId": "e9db8b1a-4826-4a5e-a62e-523cfc2629ef"
   },
   "outputs": [
    {
     "data": {
      "text/plain": [
       "Text(0.5, 0, 'Animal Species')"
      ]
     },
     "execution_count": 84,
     "metadata": {},
     "output_type": "execute_result"
    },
    {
     "data": {
      "image/png": "[encoded data removed]",
      "text/plain": [
       "<Figure size 432x288 with 1 Axes>"
      ]
     },
     "metadata": {
      "needs_background": "light"
     },
     "output_type": "display_data"
    }
   ],
   "source": [
    "plt.figure()  # normally we add this, if we start a new figure\n",
    "plt.plot(weights, color=\"g\")\n",
    "plt.xticks(np.arange(6), animals)\n",
    "plt.ylabel(\"Weigth (kg)\")\n",
    "plt.xlabel(\"Animal Species\", fontsize=15)"
   ]
  },
  {
   "cell_type": "markdown",
   "metadata": {
    "id": "p_07T7YXeaIM"
   },
   "source": [
    "the above figure is not very informative, lets make it more interesting,\n",
    "\n",
    "1. recreate the same plot, but with weigth on the log scale\n",
    "2. increase fontsize\n",
    "3. add markers for each animal, not only a continuous line \n"
   ]
  },
  {
   "cell_type": "code",
   "execution_count": null,
   "metadata": {
    "colab": {
     "base_uri": "https://localhost:8080/",
     "height": 301
    },
    "id": "EOrwUOhefXFV",
    "outputId": "ed44d36c-868e-41d6-e62b-54c4318cd484"
   },
   "outputs": [
    {
     "data": {
      "text/plain": [
       "Text(0.5, 0, 'Animal Species')"
      ]
     },
     "execution_count": 91,
     "metadata": {},
     "output_type": "execute_result"
    },
    {
     "data": {
      "image/png": "[encoded data removed]",
      "text/plain": [
       "<Figure size 432x288 with 1 Axes>"
      ]
     },
     "metadata": {
      "needs_background": "light"
     },
     "output_type": "display_data"
    }
   ],
   "source": [
    "plt.figure()  # normally we add this, if we start a new figure\n",
    "plt.plot(np.log(weights), color=\"b\", marker=\"o\", markersize=10)\n",
    "plt.xticks(np.arange(6), animals)\n",
    "plt.ylabel(\"Weight log(kg)\")\n",
    "plt.xlabel(\"Animal Species\", fontsize=15)"
   ]
  },
  {
   "cell_type": "markdown",
   "metadata": {
    "id": "677Qo2uZfWmK"
   },
   "source": [
    "\n",
    "1. make a scatter plot, where you plot the weight on the X and the life expectany on the Y  (plt.scatter)\n",
    "2. add animal names using plt.text for each dot, so that we can see which animal is which dot.  (hint: a for cycle will make this easier )\n",
    "3. make the plot nicer, by adding x & y labels, increasing fontsize, markersize, changing colors.\n",
    "4. add a dot on the same figure, that shows the average weigth vs the average life expectancy (this dot should be bigger than the rest).\n",
    "5. redo the same figure, with weight on the log scale\n",
    "\n",
    "\n",
    "\n"
   ]
  },
  {
   "cell_type": "code",
   "execution_count": null,
   "metadata": {
    "colab": {
     "base_uri": "https://localhost:8080/",
     "height": 386
    },
    "id": "27tZTX21r8qS",
    "outputId": "abf718a8-e870-4f9c-a1e0-f400d1fca036"
   },
   "outputs": [
    {
     "name": "stdout",
     "output_type": "stream",
     "text": [
      "i=  0\n",
      "i=  1\n",
      "i=  2\n",
      "i=  3\n",
      "i=  4\n",
      "i=  5\n"
     ]
    },
    {
     "data": {
      "image/png": "[encoded data removed]",
      "text/plain": [
       "<Figure size 432x288 with 1 Axes>"
      ]
     },
     "metadata": {
      "needs_background": "light"
     },
     "output_type": "display_data"
    }
   ],
   "source": [
    "plt.figure()\n",
    "# YOUR CODE\n",
    "# YOUR CODE\n",
    "# YOUR CODE\n",
    "# YOUR CODE"
   ]
  },
  {
   "cell_type": "code",
   "execution_count": null,
   "metadata": {
    "id": "UnRNxpu5vYAK"
   },
   "outputs": [],
   "source": [
    "?plt.text"
   ]
  },
  {
   "cell_type": "markdown",
   "metadata": {
    "id": "adT5jsqALZsq"
   },
   "source": [
    "## Multidimensional arrays"
   ]
  },
  {
   "cell_type": "markdown",
   "metadata": {
    "id": "n4prSfKeLdWg"
   },
   "source": [
    "until now, we looked at 1 dimensional numpy arrays, however numpy arrays can have any number of dimensions\n",
    "\n",
    "2d arrays (with rows and columns) is also called a matrix\n",
    "\n",
    "we can easily create a matrix of zeros with the zeros function as below"
   ]
  },
  {
   "cell_type": "code",
   "execution_count": null,
   "metadata": {
    "colab": {
     "base_uri": "https://localhost:8080/"
    },
    "id": "nNh9g7y5L3kZ",
    "outputId": "33e6c9fc-f2ed-46d1-d4e4-799b4394d2f9"
   },
   "outputs": [
    {
     "name": "stdout",
     "output_type": "stream",
     "text": [
      "[[0. 0. 0.]\n",
      " [0. 0. 0.]\n",
      " [0. 0. 0.]\n",
      " [0. 0. 0.]\n",
      " [0. 0. 0.]]\n"
     ]
    }
   ],
   "source": [
    "xx = np.zeros((5, 3))\n",
    "print(xx)"
   ]
  },
  {
   "cell_type": "markdown",
   "metadata": {
    "id": "qYJ5JQ25MKh7"
   },
   "source": [
    "**we** can also create a 2d array \"manually\""
   ]
  },
  {
   "cell_type": "code",
   "execution_count": null,
   "metadata": {
    "colab": {
     "base_uri": "https://localhost:8080/"
    },
    "id": "ESMLitOqMPWh",
    "outputId": "ea3efd67-2dd1-4f4f-b9b2-a310857af074"
   },
   "outputs": [
    {
     "name": "stdout",
     "output_type": "stream",
     "text": [
      "[[ 1 20  6]\n",
      " [40  5 70]\n",
      " [55 23 12]]\n"
     ]
    }
   ],
   "source": [
    "xx2 = np.array([[1, 20, 6], [40, 5, 70], [55, 23, 12]])\n",
    "print(xx2)"
   ]
  },
  {
   "cell_type": "markdown",
   "metadata": {
    "id": "M_eXJZj6MfB0"
   },
   "source": [
    "one of the most important things for us , is to learn how to select parts of such a 2d matrix\n",
    "\n",
    "1. modify XX matrix, such that the first row is only 2-s. (call the result XXmod)\n",
    "\n",
    "2. modifiy XX matrix such that the first column is only 2-s.\n",
    "\n",
    "3. modify  XX matrix such that elements along the diagonal are equal to 5\n",
    "\n",
    "4. modify XX matrix that elements on the diagonal such that  (1row 1st column = 1 , 2nd row, 2nd column=2, 3rd row, 3rd column = 3 etc). \n",
    "Don't set this manually one by one, but try to find other solutions, that would scale to much bigger matrices.\n",
    "\n"
   ]
  },
  {
   "cell_type": "code",
   "execution_count": null,
   "metadata": {
    "colab": {
     "base_uri": "https://localhost:8080/",
     "height": 130
    },
    "id": "TXcbvY5rjKt6",
    "outputId": "40752471-f5e1-4530-8d91-79b3ddc520ab"
   },
   "outputs": [],
   "source": [
    "XXmod=XX[:] #YOUR CODE\n",
    "XXmod[0,:]=2\n",
    "print('First Row 2-s',XXmod)\n",
    "# YOUR CODE\n",
    "XXmod=# YOUR CODE\n",
    "print('First Column 2-s',# YOUR CODE)\n",
    "# YOUR CODE\n",
    "# YOUR CODE\n",
    "# YOUR CODE"
   ]
  },
  {
   "cell_type": "markdown",
   "metadata": {
    "id": "5za4610Ehn7K"
   },
   "source": [
    "explore what np.shape is doing with a 2d array (matrix),\n",
    "\n",
    "this will be useful for working with matrcies where we do not know the dimensions in advance (which is almost always the case, if we try to write general code)."
   ]
  },
  {
   "cell_type": "code",
   "execution_count": null,
   "metadata": {
    "id": "BfvOtYImjLXP"
   },
   "outputs": [],
   "source": [
    "# YOUR CODE\n",
    "# YOUR CODE"
   ]
  },
  {
   "cell_type": "markdown",
   "metadata": {
    "id": "oRU0-jaN60A3"
   },
   "source": [
    "make a 2d array (10 by 10), that contains all numbers 1-100 in ascending order"
   ]
  },
  {
   "cell_type": "code",
   "execution_count": null,
   "metadata": {
    "id": "PHmm6RgW6zVj"
   },
   "outputs": [],
   "source": [
    "# YOUR CODE\n",
    "# YOUR CODE"
   ]
  },
  {
   "cell_type": "markdown",
   "metadata": {
    "id": "2yVm4ciW_1wZ"
   },
   "source": [
    "From the matrix above you created above , calculate the average of each row and each columun using np.mean \n"
   ]
  },
  {
   "cell_type": "code",
   "execution_count": null,
   "metadata": {
    "id": "QiveyFEvARJD"
   },
   "outputs": [],
   "source": [
    "# YOUR CODE"
   ]
  },
  {
   "cell_type": "markdown",
   "metadata": {
    "id": "zJ0Ju8EqAa6F"
   },
   "source": [
    "it is good practive to do it with a for cycle, but in fact we do not need it!"
   ]
  },
  {
   "cell_type": "code",
   "execution_count": null,
   "metadata": {
    "id": "hiVwop46Am-g"
   },
   "outputs": [],
   "source": []
  }
 ],
 "metadata": {
  "colab": {
   "collapsed_sections": [
    "D36gmsip8DOn",
    "adT5jsqALZsq"
   ],
   "name": "Copy of Tewa1-Tutorial2-Numpy-Visuals-basics.ipynb",
   "provenance": []
  },
  "kernelspec": {
   "display_name": "Python 3",
   "language": "python",
   "name": "python3"
  },
  "language_info": {
   "codemirror_mode": {
    "name": "ipython",
    "version": 3
   },
   "file_extension": ".py",
   "mimetype": "text/x-python",
   "name": "python",
   "nbconvert_exporter": "python",
   "pygments_lexer": "ipython3",
   "version": "3.8.5"
  }
 },
 "nbformat": 4,
 "nbformat_minor": 4
}
