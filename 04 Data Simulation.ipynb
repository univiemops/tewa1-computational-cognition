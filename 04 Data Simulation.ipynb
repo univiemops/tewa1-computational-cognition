{
 "cells": [
  {
   "cell_type": "markdown",
   "metadata": {
    "id": "C5N8uXaLdary"
   },
   "source": [
    "# Tutorial 4 - Data Simulation, *t*-Test Power Analysis and Introduction to Regression\n",
    "\n",
    "\n",
    "*Written and revised by Jozsef Arato, Mengfan Zhang, Dominik Pegler*  \n",
    "Computational Cognition Course, University of Vienna  \n",
    "https://github.com/univiemops/tewa1-computational-cognition\n",
    "\n",
    "---"
   ]
  },
  {
   "cell_type": "markdown",
   "metadata": {
    "id": "oh19atU-ravk"
   },
   "source": [
    "## 1. Import libraries"
   ]
  },
  {
   "cell_type": "code",
   "execution_count": null,
   "metadata": {
    "id": "aJQyfMtXq1_u"
   },
   "outputs": [],
   "source": [
    "import numpy as np\n",
    "from matplotlib import pyplot as plt\n",
    "from scipy import linalg, stats"
   ]
  },
  {
   "cell_type": "markdown",
   "metadata": {
    "id": "hxeQBbrUrnod"
   },
   "source": [
    "## 2. Data simulation for a *t*-test\n",
    "\n",
    "in the first task, we simulate a scenario when comparing the effect of new drug on reaction time performance to a placebo.\n",
    "We will also assume that the drug is  better than the placebo, so reaction time will be sampled from the population mean of 500 ms, and SD of 100 for the target group, and 520 for the control group"
   ]
  },
  {
   "cell_type": "markdown",
   "metadata": {
    "id": "UpO4XAlmsWD8"
   },
   "source": [
    "first task is to simulate 2 groups of 20 participants, based on the above information (we are assuming normal distribution here)\n",
    "\n",
    "---\n",
    "\n"
   ]
  },
  {
   "cell_type": "code",
   "execution_count": null,
   "metadata": {
    "colab": {
     "base_uri": "https://localhost:8080/"
    },
    "id": "5q1n9SR7slJ6",
    "outputId": "e9ca78a9-96fc-4d0e-920d-7e997c756b99"
   },
   "outputs": [],
   "source": [
    "data1 = np.random.normal(500, 100, 20)\n",
    "data2 = np.random.normal(520, 100, 20)\n",
    "print(stats.ttest_ind(data1, data2))\n",
    "print(stats.ttest_ind(data1, data2)[1])"
   ]
  },
  {
   "cell_type": "code",
   "execution_count": null,
   "metadata": {
    "colab": {
     "base_uri": "https://localhost:8080/",
     "height": 296
    },
    "id": "fkEqJlsHHW_B",
    "outputId": "7d138055-9bb6-4db0-ffc1-c8270a097728"
   },
   "outputs": [],
   "source": [
    "plt.hist(data1, alpha=0.5, label=\"group 1\")\n",
    "plt.hist(data2, alpha=0.5, label=\"group 2\")\n",
    "plt.xlabel(\"reaction time\")\n",
    "plt.ylabel(\"number of participants\")\n",
    "plt.legend()"
   ]
  },
  {
   "cell_type": "markdown",
   "metadata": {
    "id": "sJCflthxrsBV"
   },
   "source": [
    "once this is done, we can compare the two groups with the independent samples t-test"
   ]
  },
  {
   "cell_type": "markdown",
   "metadata": {
    "id": "tLAx7BQ8s8md"
   },
   "source": [
    "based on the above, repeat the process 1000 times,\n",
    "and store the p-value of each iteration's t-test in a numpy array\n"
   ]
  },
  {
   "cell_type": "code",
   "execution_count": null,
   "metadata": {
    "id": "XZuRipbntfCl"
   },
   "outputs": [],
   "source": [
    "nsim = 1000\n",
    "pvalues = np.zeros(nsim)\n",
    "for i in range(nsim):\n",
    "    data1 = np.random.normal(500, 100, 100)\n",
    "    data2 = np.random.normal(520, 100, 100)\n",
    "    pvalues[i] = stats.ttest_ind(data1, data2)[1]\n",
    "# if i<5:\n",
    "#  print(i, pvalues[0:10])"
   ]
  },
  {
   "cell_type": "markdown",
   "metadata": {
    "id": "RKIBGzqxtnZq"
   },
   "source": [
    "1. visualize the obtained p values with a histrogam\n",
    "2. calculate how many times you obtained significant difference (p value below 0.05)\n",
    "3. add vertical line, for the significance threshold on the histrogram"
   ]
  },
  {
   "cell_type": "code",
   "execution_count": null,
   "metadata": {
    "colab": {
     "base_uri": "https://localhost:8080/",
     "height": 317
    },
    "id": "oWBcxXDltjUq",
    "outputId": "09d89bcc-84f5-4936-dd51-ed2ceb6ad472"
   },
   "outputs": [],
   "source": [
    "plt.hist(pvalues, bins=20)\n",
    "\n",
    "print(\"significance, p<  .05: \", np.sum(pvalues < 0.05))\n",
    "print(\"power of design \", np.sum(pvalues < 0.05) / nsim)\n",
    "\n",
    "plt.plot([0.05, 0.05], [0, nsim / 4], color=\"k\")  # vertical line"
   ]
  },
  {
   "cell_type": "markdown",
   "metadata": {
    "id": "R4MH6bTmttyB"
   },
   "source": [
    "write a function SimulateT, using the code above, that takes 4 input variables:\n",
    "1. mean of group 1,\n",
    "2. mean of group 2\n",
    "3. the SD for both groups\n",
    "4. and the number of particpants, (equal for both groups)\n",
    "\n",
    "the function should simulate data 1000 times, performs the above analysis and returns only the proportion of significant tests\n"
   ]
  },
  {
   "cell_type": "code",
   "execution_count": null,
   "metadata": {
    "id": "30fQ3MaPuJR8"
   },
   "outputs": [],
   "source": [
    "def simulate_t(mean1, mean2, sd, npart):\n",
    "    ns = 1000\n",
    "    pvalues = np.zeros(nsim)\n",
    "    for i in range(nsim):\n",
    "        data1 = np.random.normal(mean1, sd, npart)\n",
    "        data2 = np.random.normal(mean2, sd, npart)\n",
    "        pvalues[i] = stats.ttest_ind(data1, data2)[1]\n",
    "    return np.sum(pvalues < 0.05) / ns"
   ]
  },
  {
   "cell_type": "code",
   "execution_count": null,
   "metadata": {
    "colab": {
     "base_uri": "https://localhost:8080/"
    },
    "id": "z2MQ8OOmOUQM",
    "outputId": "4bf1d847-30c4-4aaf-b69b-6f5a0b7b71e3"
   },
   "outputs": [],
   "source": [
    "simulate_t(500, 520, 100, 20)"
   ]
  },
  {
   "cell_type": "markdown",
   "metadata": {
    "id": "7e8caO7iugQ7"
   },
   "source": [
    "### 2.1. Systematic simulation\n",
    "once this is done, we will keep the mean fixed at 500 & 520, but systematically change the SD in 10 steps: from 20 to 200 ms\n",
    "\n",
    "1. using your function above, calculate the proportion of significant tests for all of these combinations.\n",
    "2.  store the results it in a  numpy array\n",
    "3. visualize the result with  plt.plot\n",
    "4. make the figure nice (ticks, labels, fontsize)"
   ]
  },
  {
   "cell_type": "code",
   "execution_count": null,
   "metadata": {
    "colab": {
     "base_uri": "https://localhost:8080/"
    },
    "id": "pJBTxPiDcx4W",
    "outputId": "25cf1bee-d5b9-40b0-9ace-8e4bf5a5a988"
   },
   "outputs": [],
   "source": [
    "n_steps = 10\n",
    "s_ds = np.linspace(20, 200, n_steps)\n",
    "\n",
    "print(s_ds, len(s_ds))\n",
    "powers = np.zeros(n_steps)\n",
    "for i in range(n_steps):\n",
    "    powers[i] = simulate_t(500, 520, s_ds[i], 20)"
   ]
  },
  {
   "cell_type": "code",
   "execution_count": null,
   "metadata": {
    "id": "HowbqP3oRtXB"
   },
   "outputs": [],
   "source": [
    "powers = np.zeros(n_steps)\n",
    "for i, sd in enumerate(s_ds):\n",
    "    powers[i] = simulate_t(500, 520, sd, 20)"
   ]
  },
  {
   "cell_type": "code",
   "execution_count": null,
   "metadata": {
    "colab": {
     "base_uri": "https://localhost:8080/",
     "height": 301
    },
    "id": "H2ON8ruEehZL",
    "outputId": "619533a7-226b-4688-89cc-7984acf31143"
   },
   "outputs": [],
   "source": [
    "plt.plot(s_ds, powers)\n",
    "plt.xlabel(\"Standard deviation (ms)\", fontsize=15)\n",
    "plt.ylabel(\"Power\", fontsize=15)"
   ]
  },
  {
   "cell_type": "markdown",
   "metadata": {
    "id": "xBp3JFuuc1Ur"
   },
   "source": [
    "\n",
    "using the same function, change systematically the  number of participants in 8 steps: from 8 to 64 participants\n",
    "store the results in a numpy array\n",
    "\n",
    "\n",
    "\n"
   ]
  },
  {
   "cell_type": "code",
   "execution_count": null,
   "metadata": {
    "id": "Hh6Gyjt9vrD4"
   },
   "outputs": [],
   "source": [
    "n_steps = 8\n",
    "numparts = np.linspace(8, 64, n_steps)\n",
    "powers = np.zeros(n_steps)\n",
    "for i in range(n_steps):\n",
    "    powers[i] = simulate_t(500, 520, 50, int(numparts[i]))\n",
    "# your code\n",
    "# your code\n",
    "# your code"
   ]
  },
  {
   "cell_type": "code",
   "execution_count": null,
   "metadata": {
    "colab": {
     "base_uri": "https://localhost:8080/"
    },
    "id": "L0sCW9ecT_f-",
    "outputId": "881dddbe-68f5-40d0-8d61-b1d9205b04f5"
   },
   "outputs": [],
   "source": [
    "np.intp(np.linspace(8, 64, 8))"
   ]
  },
  {
   "cell_type": "code",
   "execution_count": null,
   "metadata": {
    "id": "bDg_8WYSTd5J"
   },
   "outputs": [],
   "source": [
    "?np.random.normal"
   ]
  },
  {
   "cell_type": "code",
   "execution_count": null,
   "metadata": {
    "colab": {
     "base_uri": "https://localhost:8080/",
     "height": 301
    },
    "id": "h9HJPnMeiWRk",
    "outputId": "51df83bd-52ec-4fc0-eb29-92157ac08164"
   },
   "outputs": [],
   "source": [
    "plt.plot(numparts, powers)\n",
    "plt.xlabel(\"Num of participants\", fontsize=15)\n",
    "plt.ylabel(\"Power\", fontsize=15)"
   ]
  },
  {
   "cell_type": "markdown",
   "metadata": {
    "id": "51AtiXlo3Nmg"
   },
   "source": [
    "lecture continues here!"
   ]
  },
  {
   "cell_type": "markdown",
   "metadata": {
    "id": "wT-Qc4VdCgKJ"
   },
   "source": [
    "## 3. Demo of three options for counting and accesssing elements of list/array with nested `for` cycles ...\n",
    "\n",
    "... and using a 2D numpy array to store calculation results with indexing"
   ]
  },
  {
   "cell_type": "code",
   "execution_count": null,
   "metadata": {
    "id": "FXHr1dGpDwGk"
   },
   "outputs": [],
   "source": [
    "list1 = [\"dog\", \"cat\", \"mouse\"]\n",
    "list2 = [\"vienna\", \"graz\"]"
   ]
  },
  {
   "cell_type": "markdown",
   "metadata": {
    "id": "f2KtLuY5EB47"
   },
   "source": [
    "### 3.1. Option 1: Iterate over list + counters"
   ]
  },
  {
   "cell_type": "code",
   "execution_count": null,
   "metadata": {
    "colab": {
     "base_uri": "https://localhost:8080/"
    },
    "id": "ggf__Q10Duj0",
    "outputId": "9f519525-b510-46c3-ac7e-d32a5daaca7a"
   },
   "outputs": [],
   "source": [
    "num_combined_char = np.zeros((len(list1), len(list2)))\n",
    "c1 = 0\n",
    "for l1 in list1:\n",
    "    c2 = 0\n",
    "    for l2 in list2:\n",
    "        print(c1, c2, l1, l2)\n",
    "        num_combined_char[c1, c2] = len(l1) + len(\n",
    "            l2\n",
    "        )  # calcualte and store combined word length\n",
    "        c2 += 1\n",
    "    c1 += 1\n",
    "print(num_combined_char)"
   ]
  },
  {
   "cell_type": "markdown",
   "metadata": {
    "id": "VPrNCZaGDyOy"
   },
   "source": [
    "### 3.2. Option 2: `range()` + indexing\n",
    "\n"
   ]
  },
  {
   "cell_type": "code",
   "execution_count": null,
   "metadata": {
    "colab": {
     "base_uri": "https://localhost:8080/"
    },
    "id": "xdOm9mnZDiSr",
    "outputId": "04ab41be-b371-404b-8b9f-5d820aa2ab05"
   },
   "outputs": [],
   "source": [
    "num_combined_char = np.zeros((len(list1), len(list2)))\n",
    "for c1 in range(len(list1)):\n",
    "    for c2 in range(len(list2)):\n",
    "        print(c1, c2, list1[c1], list1[c2])\n",
    "        num_combined_char[c1, c2] = len(list1[c1]) + len(\n",
    "            list2[c2]\n",
    "        )  # calcualte and store combined word length\n",
    "print(num_combined_char)"
   ]
  },
  {
   "cell_type": "markdown",
   "metadata": {
    "id": "A4CFWeaYD6LX"
   },
   "source": [
    "### 3.3. Option 3: `enumerate`\n"
   ]
  },
  {
   "cell_type": "code",
   "execution_count": null,
   "metadata": {
    "colab": {
     "base_uri": "https://localhost:8080/"
    },
    "id": "vC7ok165QRci",
    "outputId": "31a68e9f-44df-4b8d-d942-a3cb2075668f"
   },
   "outputs": [],
   "source": [
    "num_combined_char = np.zeros((len(list1), len(list2)))\n",
    "\n",
    "for c1, l1 in enumerate(list1):\n",
    "    for c2, l2 in enumerate(list2):\n",
    "        print(c1, c2, l1, l2)\n",
    "        num_combined_char[c1, c2] = len(l1) + len(\n",
    "            l2\n",
    "        )  # calcualte and store combined word length\n",
    "print(num_combined_char)"
   ]
  },
  {
   "cell_type": "markdown",
   "metadata": {
    "id": "80ycIgsBH5PH"
   },
   "source": [
    "## 4. Simulating data with a linear regression model"
   ]
  },
  {
   "cell_type": "markdown",
   "metadata": {
    "id": "iMh3fxPaH-77"
   },
   "source": [
    "growth of infant .5 cm/month  (B1)\n",
    "\n",
    "starting heigth 50 cm  (B0)\n",
    "\n",
    "error 8 cm  \n",
    "\n",
    "n=40\n",
    "\n",
    "simulate for ages 0 to 36 months\n",
    "\n",
    "write the linear equation with normal error, to simualte data for your first simulation with a regression model for Y"
   ]
  },
  {
   "cell_type": "code",
   "execution_count": null,
   "metadata": {
    "id": "tV7OcGDRIL2k"
   },
   "outputs": [],
   "source": [
    "n = 40\n",
    "b0 = 50\n",
    "b1 = 0.5\n",
    "x = np.linspace(0, 36, n)\n",
    "y = b0 + b1 * x + np.random.normal(0, 8, n)"
   ]
  },
  {
   "cell_type": "code",
   "execution_count": null,
   "metadata": {
    "colab": {
     "base_uri": "https://localhost:8080/",
     "height": 300
    },
    "id": "iPuqawxHIxgv",
    "outputId": "aa4841cc-8eb0-42d5-cf17-1902ce6e46b0"
   },
   "outputs": [],
   "source": [
    "plt.scatter(x, y)\n",
    "plt.xlabel(\"Age (months)\", fontsize=14)\n",
    "plt.ylabel(\"Heigth (cm)\")"
   ]
  },
  {
   "cell_type": "markdown",
   "metadata": {
    "id": "A6PgYZ1H3rYh"
   },
   "source": [
    "we will use the least squares method, to fit a linear regression\n",
    "\n",
    "\n",
    "to fit the intercept, we will need a column of ones, that is added to the predictors.\n",
    "\n",
    "predictor matrix-- design matrix"
   ]
  },
  {
   "cell_type": "code",
   "execution_count": null,
   "metadata": {
    "id": "JTSBGBvVJIqI"
   },
   "outputs": [],
   "source": [
    "from scipy import linalg"
   ]
  },
  {
   "cell_type": "code",
   "execution_count": null,
   "metadata": {
    "colab": {
     "base_uri": "https://localhost:8080/"
    },
    "id": "tbVgnus7KjkT",
    "outputId": "5bf016b0-4120-4253-dcde-7f84266533fb"
   },
   "outputs": [],
   "source": [
    "print(x)\n",
    "xx = np.column_stack((np.ones(n), x))\n",
    "print(xx)\n",
    "pars = linalg.lstsq(xx, y)[0]"
   ]
  },
  {
   "cell_type": "code",
   "execution_count": null,
   "metadata": {
    "colab": {
     "base_uri": "https://localhost:8080/"
    },
    "id": "0GGLbaQfJRrp",
    "outputId": "f41a4e79-1377-4ef6-dbd0-286e33be3861"
   },
   "outputs": [],
   "source": [
    "pars"
   ]
  },
  {
   "cell_type": "code",
   "execution_count": null,
   "metadata": {
    "colab": {
     "base_uri": "https://localhost:8080/"
    },
    "id": "d3UK37Gur3YZ",
    "outputId": "66c613a1-ed25-4ea8-9f25-7dafd92812ff"
   },
   "outputs": [],
   "source": [
    "np.sum((x - np.mean(x)) * (y - np.mean(y))) / np.sum((x - np.mean(x)) ** 2)"
   ]
  },
  {
   "cell_type": "markdown",
   "metadata": {
    "id": "6Hs4OmMU8-w6"
   },
   "source": [
    "plot the obtained regression line, together with the data"
   ]
  },
  {
   "cell_type": "code",
   "execution_count": null,
   "metadata": {
    "colab": {
     "base_uri": "https://localhost:8080/",
     "height": 300
    },
    "id": "pqWxp7weMOu2",
    "outputId": "2475aa05-7926-482c-8fa5-ea7202385dbf"
   },
   "outputs": [],
   "source": [
    "plt.scatter(x, y)\n",
    "plt.plot(x, b0 + x * b1, color=\"k\", alpha=0.2, label=\"data generating model\")\n",
    "plt.plot(x, pars[0] + x * pars[1], color=\"k\", label=\"fitted model prediction\")\n",
    "plt.legend()\n",
    "plt.xlabel(\"Age (months)\", fontsize=14)\n",
    "plt.ylabel(\"Heigth (cm)\")"
   ]
  },
  {
   "attachments": {},
   "cell_type": "markdown",
   "metadata": {
    "id": "0LHvv--YoY62"
   },
   "source": [
    "## 5. Polynomial regression\n",
    "\n",
    "regression prediction as matrix  multiplication:\n",
    "\n",
    "linear algebra series by 3blue1brown: https://www.youtube.com/watch?v=kjBOesZCoqc&list=PL0-GT3co4r2y2YErbmuJw2L5tW4Ew2O5B\n",
    "\n",
    "matrix mulitiplication of design matrix with predictor weights results in predicted Y values."
   ]
  },
  {
   "cell_type": "code",
   "execution_count": null,
   "metadata": {
    "colab": {
     "base_uri": "https://localhost:8080/"
    },
    "id": "Hhea2MzMnk24",
    "outputId": "ac061c5a-8c90-494a-cd64-ac05e41df459"
   },
   "outputs": [],
   "source": [
    "xx = np.column_stack((np.ones(n), x, x**2))\n",
    "pars = linalg.lstsq(xx, y)[0]\n",
    "print(pars)"
   ]
  },
  {
   "cell_type": "code",
   "execution_count": null,
   "metadata": {
    "colab": {
     "base_uri": "https://localhost:8080/",
     "height": 282
    },
    "id": "lRAwt7lsn_jc",
    "outputId": "3a7366a4-2c12-4492-c5ba-fe36e9238928"
   },
   "outputs": [],
   "source": [
    "plt.scatter(x, y)\n",
    "plt.plot(x, pars[0] + pars[1] * x + pars[2] * x**2, color=\"k\")"
   ]
  },
  {
   "cell_type": "code",
   "execution_count": null,
   "metadata": {
    "colab": {
     "base_uri": "https://localhost:8080/",
     "height": 282
    },
    "id": "q-rVxrProMVM",
    "outputId": "a71a2339-04fe-4f0d-e296-56a5781a8cb4"
   },
   "outputs": [],
   "source": [
    "plt.scatter(x, y)\n",
    "plt.plot(x, np.matmul(xx, pars))"
   ]
  },
  {
   "cell_type": "code",
   "execution_count": null,
   "metadata": {
    "colab": {
     "base_uri": "https://localhost:8080/",
     "height": 282
    },
    "id": "apxR-7COphtT",
    "outputId": "1b44a583-c887-4e67-cadc-c7c4253069b7"
   },
   "outputs": [],
   "source": [
    "xx = np.column_stack((np.ones(n), x, x**2, x**3))\n",
    "pars = linalg.lstsq(xx, y)[0]\n",
    "plt.scatter(x, y)\n",
    "plt.plot(x, np.matmul(xx, pars), linestyle=\"-\", marker=\"o\")\n",
    "# plt.plot(x,np.matmul(xx,pars))"
   ]
  },
  {
   "cell_type": "markdown",
   "metadata": {
    "id": "RFrqPx1R41dl"
   },
   "source": [
    "## Homework 1\n",
    "\n",
    "simulating t-test for combinations of group size and standard deviation:\n",
    "use all combinations of SD-s and groups sizes above, to simulate 80 scenarios, and store the significant t-test in a 2d numpy array\n",
    "\n",
    "use the pcolor function of pyplot, to visualize the result\n",
    " adding x and y labels (for the parameters)\n",
    "\n",
    "\n",
    "what do you observe and why? Write a few sentences"
   ]
  },
  {
   "cell_type": "code",
   "execution_count": null,
   "metadata": {
    "id": "orwbHmJk5JFP"
   },
   "outputs": [],
   "source": []
  },
  {
   "cell_type": "markdown",
   "metadata": {
    "id": "WiXHb-Sr47K8"
   },
   "source": [
    "## Homework 2\n",
    "simulation with no mean difference, make a similar systematic simulation,\n",
    "but with no mean difference (eg: ineffective drug) and calculate the propotion of significant test as you maniupate the SD and the sample size.\n",
    "what do you observe and why could that be the case?\n"
   ]
  },
  {
   "cell_type": "code",
   "execution_count": null,
   "metadata": {
    "id": "7mCa1umx8Nn8"
   },
   "outputs": [],
   "source": []
  },
  {
   "cell_type": "markdown",
   "metadata": {
    "id": "y0CJYyC58_Xm"
   },
   "source": [
    "\n",
    "once you are ready with the figure, compare it to the previous figure, from the the true difference simulation..\n",
    "\n",
    "what do you observe? Why?\n",
    "\n",
    "write a short answer (max 5 sentences), and submit to the \"texteingabe\" in moodle\n",
    "\n",
    "now you do not need to submit the code, only the figure you have created!\n",
    "so save the figure and upload it to the moodle homework submission form\n",
    "\n",
    "\n"
   ]
  }
 ],
 "metadata": {
  "colab": {
   "provenance": []
  },
  "kernelspec": {
   "display_name": "Python 3 (ipykernel)",
   "language": "python",
   "name": "python3"
  },
  "language_info": {
   "codemirror_mode": {
    "name": "ipython",
    "version": 3
   },
   "file_extension": ".py",
   "mimetype": "text/x-python",
   "name": "python",
   "nbconvert_exporter": "python",
   "pygments_lexer": "ipython3",
   "version": "3.11.0"
  }
 },
 "nbformat": 4,
 "nbformat_minor": 4
}
