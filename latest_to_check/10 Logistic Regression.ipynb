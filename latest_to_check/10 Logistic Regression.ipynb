{
 "cells": [
  {
   "cell_type": "markdown",
   "metadata": {
    "id": "aAmuxCstDaa3"
   },
   "source": [
    "# TEWA TUTORIAL - Logistic regression\n",
    "May-2022\n",
    "\n",
    "@ Jozsef Arato\n",
    "\n",
    "1. sigmoid curve,\n",
    "How to make predictions with a logistic regression model- and visualize prediciton  \n",
    "2.  understand the intercept and slope in their effect on the sigmoid\n",
    "3. simulating binary data, based on the predicted sigmoid probabilities\n",
    "4. fitting a logistic regression model to the simulated data\n",
    "5. check similarity of parameters of fitted model, to the parameters that were used to \"make\" the data\n",
    "6. understanding logistic regression likelihood and  score"
   ]
  },
  {
   "cell_type": "markdown",
   "metadata": {
    "id": "eEAWkGohVyBq"
   },
   "source": [
    "import libraries"
   ]
  },
  {
   "cell_type": "code",
   "execution_count": null,
   "metadata": {
    "id": "lRmXIuAQDZ_c"
   },
   "outputs": [],
   "source": [
    "import numpy as np\n",
    "from matplotlib import pyplot as plt"
   ]
  },
  {
   "cell_type": "markdown",
   "metadata": {
    "id": "Yj1O6uPhDxq3"
   },
   "source": [
    "## Simulating data with a logistic regression model\n",
    "\n",
    "Scenario: time spent studying predicting success on a pass or fail exam:\n",
    "p(Success)  🕔 🧑"
   ]
  },
  {
   "cell_type": "markdown",
   "metadata": {
    "id": "mbxFlbY2EkAW"
   },
   "source": [
    "### sigmoid\n",
    "first step for this simulation is to implement the sigmoid function:\n",
    "the function should take as input x and return:\n",
    "\n",
    "1/(1+e<sup>-x</sup>)    \n",
    "\n",
    "use np.exp\n",
    "\n",
    "\n"
   ]
  },
  {
   "cell_type": "code",
   "execution_count": null,
   "metadata": {
    "id": "Cips-2nsEzxw"
   },
   "outputs": [],
   "source": [
    "def my_sigmoid(x):\n",
    "    return 1 / (1 + np.exp(-x))"
   ]
  },
  {
   "cell_type": "markdown",
   "metadata": {
    "id": "jOoH_3VhFU3-"
   },
   "source": [
    "Test this function with the X= numbers -5 to 5\n",
    "and plot the result"
   ]
  },
  {
   "cell_type": "code",
   "execution_count": null,
   "metadata": {
    "colab": {
     "base_uri": "https://localhost:8080/",
     "height": 301
    },
    "id": "u83s95j8F7R8",
    "outputId": "7c097c22-7878-4b06-c32d-0e91697453d8"
   },
   "outputs": [
    {
     "data": {
      "text/plain": [
       "Text(0, 0.5, 'Sigmoid(X)')"
      ]
     },
     "execution_count": 7,
     "metadata": {},
     "output_type": "execute_result"
    },
    {
     "data": {
      "image/png": "[encoded data removed]",
      "text/plain": [
       "<Figure size 432x288 with 1 Axes>"
      ]
     },
     "metadata": {
      "needs_background": "light"
     },
     "output_type": "display_data"
    }
   ],
   "source": [
    "x = np.linspace(-5, 5, 20)\n",
    "plt.plot(x, my_sigmoid(x))\n",
    "plt.xlabel(\"x\", fontsize=15)\n",
    "plt.ylabel(\"Sigmoid(x)\", fontsize=15)"
   ]
  },
  {
   "cell_type": "markdown",
   "metadata": {
    "id": "-2v4jOH_GXue"
   },
   "source": [
    "to implement the exam scenario, we examine a scenario, where the students  study something between 0 to 50 hours for the exam\n",
    "\n",
    "however, lets make data that is centered at zero, that is students study -25 to +25 hours relative to the average"
   ]
  },
  {
   "cell_type": "code",
   "execution_count": null,
   "metadata": {
    "colab": {
     "base_uri": "https://localhost:8080/"
    },
    "id": "uVRj33GDFFNo",
    "outputId": "90d0d165-b351-48ba-f96c-95c6042603c4"
   },
   "outputs": [
    {
     "name": "stdout",
     "output_type": "stream",
     "text": [
      "[-25.         -24.49494949 -23.98989899 -23.48484848 -22.97979798\n",
      " -22.47474747 -21.96969697 -21.46464646 -20.95959596 -20.45454545\n",
      " -19.94949495 -19.44444444 -18.93939394 -18.43434343 -17.92929293\n",
      " -17.42424242 -16.91919192 -16.41414141 -15.90909091 -15.4040404\n",
      " -14.8989899  -14.39393939 -13.88888889 -13.38383838 -12.87878788\n",
      " -12.37373737 -11.86868687 -11.36363636 -10.85858586 -10.35353535\n",
      "  -9.84848485  -9.34343434  -8.83838384  -8.33333333  -7.82828283\n",
      "  -7.32323232  -6.81818182  -6.31313131  -5.80808081  -5.3030303\n",
      "  -4.7979798   -4.29292929  -3.78787879  -3.28282828  -2.77777778\n",
      "  -2.27272727  -1.76767677  -1.26262626  -0.75757576  -0.25252525\n",
      "   0.25252525   0.75757576   1.26262626   1.76767677   2.27272727\n",
      "   2.77777778   3.28282828   3.78787879   4.29292929   4.7979798\n",
      "   5.3030303    5.80808081   6.31313131   6.81818182   7.32323232\n",
      "   7.82828283   8.33333333   8.83838384   9.34343434   9.84848485\n",
      "  10.35353535  10.85858586  11.36363636  11.86868687  12.37373737\n",
      "  12.87878788  13.38383838  13.88888889  14.39393939  14.8989899\n",
      "  15.4040404   15.90909091  16.41414141  16.91919192  17.42424242\n",
      "  17.92929293  18.43434343  18.93939394  19.44444444  19.94949495\n",
      "  20.45454545  20.95959596  21.46464646  21.96969697  22.47474747\n",
      "  22.97979798  23.48484848  23.98989899  24.49494949  25.        ]\n"
     ]
    }
   ],
   "source": [
    "n = 100  # nUM OF DATA points\n",
    "x = np.linspace(-25, 25, n)\n",
    "print(x)"
   ]
  },
  {
   "cell_type": "markdown",
   "metadata": {
    "id": "0r3GKy7IG5wQ"
   },
   "source": [
    "next step is too see, what the sigmoid predicts for these hours of studying"
   ]
  },
  {
   "cell_type": "code",
   "execution_count": null,
   "metadata": {
    "colab": {
     "base_uri": "https://localhost:8080/",
     "height": 300
    },
    "id": "m-bbIXvvG6SW",
    "outputId": "b0680f66-4120-41da-cd28-0e0c1e9c9cb6"
   },
   "outputs": [
    {
     "data": {
      "text/plain": [
       "Text(0, 0.5, 'P(Success)')"
      ]
     },
     "execution_count": 8,
     "metadata": {},
     "output_type": "execute_result"
    },
    {
     "data": {
      "image/png": "[encoded data removed]",
      "text/plain": [
       "<Figure size 432x288 with 1 Axes>"
      ]
     },
     "metadata": {
      "needs_background": "light"
     },
     "output_type": "display_data"
    }
   ],
   "source": [
    "plt.plot(x, my_sigmoid(x))\n",
    "\n",
    "plt.xlabel(\"Relative hours studied\", fontsize=14)\n",
    "plt.ylabel(\"P(Success)\", fontsize=14)"
   ]
  },
  {
   "cell_type": "markdown",
   "metadata": {
    "id": "NcpUhg7aJDuR"
   },
   "source": [
    "\n",
    "clearly the above is not sufficient\n",
    "\n",
    "we did not yet implement the logistic regression model:"
   ]
  },
  {
   "cell_type": "markdown",
   "metadata": {
    "id": "x7BjYEW3JiXs"
   },
   "source": [
    "### linear equation inside sigmoid\n",
    "\n",
    "\n",
    "p(Y)=sigmoid(b<sub>0</sub>+b<sub>1</sub>*X)\n",
    "\n",
    "define two parameters for the intercept and the slope,\n",
    "and use them with mysigmoid, to test how it changes the model predictions\n",
    "\n",
    "visualize the result as above\n"
   ]
  },
  {
   "cell_type": "code",
   "execution_count": null,
   "metadata": {
    "colab": {
     "base_uri": "https://localhost:8080/",
     "height": 304
    },
    "id": "jffHijESFqyO",
    "outputId": "90b2c6ee-be85-4409-991c-4329ab73a7c9"
   },
   "outputs": [
    {
     "data": {
      "text/plain": [
       "(0.0, 1.0)"
      ]
     },
     "execution_count": 20,
     "metadata": {},
     "output_type": "execute_result"
    },
    {
     "data": {
      "image/png": "[encoded data removed]",
      "text/plain": [
       "<Figure size 432x288 with 1 Axes>"
      ]
     },
     "metadata": {
      "needs_background": "light"
     },
     "output_type": "display_data"
    }
   ],
   "source": [
    "# sigmoid prediction for a single combination\n",
    "b0 = -0.1  # intercept\n",
    "b1 = 1.5  # slope\n",
    "lin_pred = b0 + b1 * x\n",
    "p_y = my_sigmoid(lin_pred)\n",
    "plt.plot(x, p_y)\n",
    "plt.xlabel(\"Relative hours studied\", fontsize=14)\n",
    "plt.ylabel(\"P(Success)\", fontsize=14)\n",
    "plt.ylim([0, 1])"
   ]
  },
  {
   "cell_type": "code",
   "execution_count": null,
   "metadata": {
    "colab": {
     "base_uri": "https://localhost:8080/",
     "height": 304
    },
    "id": "xod-roogc9Bv",
    "outputId": "2d95b41a-8cca-4462-a33b-a1b9f4548678"
   },
   "outputs": [
    {
     "data": {
      "text/plain": [
       "(0.0, 1.0)"
      ]
     },
     "execution_count": 21,
     "metadata": {},
     "output_type": "execute_result"
    },
    {
     "data": {
      "image/png": "[encoded data removed]",
      "text/plain": [
       "<Figure size 432x288 with 1 Axes>"
      ]
     },
     "metadata": {
      "needs_background": "light"
     },
     "output_type": "display_data"
    }
   ],
   "source": [
    "plt.plot(x, my_sigmoid(b0 + b1 * x))\n",
    "plt.xlabel(\"Relative hours studied\", fontsize=14)\n",
    "plt.ylabel(\"P(Success)\", fontsize=14)\n",
    "plt.ylim([0, 1])"
   ]
  },
  {
   "cell_type": "markdown",
   "metadata": {
    "id": "K0nLnCt2MhMd"
   },
   "source": [
    "Check \"divide by 4 rule\" and compare to difference of 1 prediction\n",
    "\n",
    "slope/4 roughly = change in Y for unit change in X"
   ]
  },
  {
   "cell_type": "code",
   "execution_count": null,
   "metadata": {
    "colab": {
     "base_uri": "https://localhost:8080/"
    },
    "id": "FGS2iIKbJ_iT",
    "outputId": "c3f60bd5-fc2a-4558-c268-a4d2571ff5d8"
   },
   "outputs": [
    {
     "name": "stdout",
     "output_type": "stream",
     "text": [
      "0.3\n",
      "0.075\n",
      "0.07485969068749915\n",
      "0.04904969269462611\n",
      "0.0037870890626798825\n"
     ]
    }
   ],
   "source": [
    "print(b1)\n",
    "print(b1 / 4)\n",
    "print(my_sigmoid(b1 * 0.5) - my_sigmoid(b1 * -0.5))\n",
    "print(my_sigmoid(b1 * 5) - my_sigmoid(b1 * 4))\n",
    "print(my_sigmoid(b1 * 15) - my_sigmoid(b1 * 14))"
   ]
  },
  {
   "cell_type": "markdown",
   "metadata": {
    "id": "La-fH69JZYui"
   },
   "source": [
    "##  testing prediciton of  different intercepts\n",
    "(plotted on the same figure)\n",
    "\n",
    "use a for cycle"
   ]
  },
  {
   "cell_type": "code",
   "execution_count": null,
   "metadata": {
    "colab": {
     "base_uri": "https://localhost:8080/",
     "height": 296
    },
    "id": "LQY03GPPNwxk",
    "outputId": "9b07783a-28c9-4efb-ddf1-dfed3492ad86"
   },
   "outputs": [
    {
     "data": {
      "text/plain": [
       "Text(0, 0.5, 'P(Success)')"
      ]
     },
     "execution_count": 22,
     "metadata": {},
     "output_type": "execute_result"
    },
    {
     "data": {
      "image/png": "[encoded data removed]",
      "text/plain": [
       "<Figure size 432x288 with 1 Axes>"
      ]
     },
     "metadata": {
      "needs_background": "light"
     },
     "output_type": "display_data"
    }
   ],
   "source": [
    "# test for multiple values of b0 and b1\n",
    "plt.figure()\n",
    "b1 = 1\n",
    "b0s = np.linspace(-3, 3, 10)\n",
    "for b0 in b0s:\n",
    "    p_y = my_sigmoid(b0 + x * b1)\n",
    "    plt.plot(x, p_y, label=np.round(b0, 1))\n",
    "plt.legend()\n",
    "plt.xlabel(\"hours studied\")\n",
    "plt.grid(\"ON\")\n",
    "plt.ylabel(\"P(Success)\", fontsize=14)"
   ]
  },
  {
   "cell_type": "code",
   "execution_count": null,
   "metadata": {
    "colab": {
     "base_uri": "https://localhost:8080/"
    },
    "id": "42z3EOsptq0i",
    "outputId": "7d77dcbf-918e-4376-fe99-ff45ff063a6e"
   },
   "outputs": [
    {
     "data": {
      "text/plain": [
       "0.9525741268224334"
      ]
     },
     "execution_count": 57,
     "metadata": {},
     "output_type": "execute_result"
    }
   ],
   "source": [
    "my_sigmoid(3)"
   ]
  },
  {
   "cell_type": "markdown",
   "metadata": {
    "id": "ySzSn93MufV5"
   },
   "source": [
    "### inverse of sigmoid\n",
    "logit function"
   ]
  },
  {
   "cell_type": "code",
   "execution_count": null,
   "metadata": {
    "colab": {
     "base_uri": "https://localhost:8080/"
    },
    "id": "wEz0h2BQuVFp",
    "outputId": "1b366f07-4586-476f-a40b-5a691c997d2b"
   },
   "outputs": [
    {
     "data": {
      "text/plain": [
       "3.000000000000003"
      ]
     },
     "execution_count": 15,
     "metadata": {},
     "output_type": "execute_result"
    }
   ],
   "source": [
    "from scipy import special\n",
    "\n",
    "special.logit(0.9525741268224334)"
   ]
  },
  {
   "cell_type": "code",
   "execution_count": null,
   "metadata": {
    "colab": {
     "base_uri": "https://localhost:8080/"
    },
    "id": "ygBJZ8DdbFgF",
    "outputId": "9ab1088f-4d74-45a7-d424-88ebef1cffc8"
   },
   "outputs": [
    {
     "data": {
      "text/plain": [
       "0.9525741268224334"
      ]
     },
     "execution_count": 16,
     "metadata": {},
     "output_type": "execute_result"
    }
   ],
   "source": [
    "my_sigmoid(3)"
   ]
  },
  {
   "cell_type": "code",
   "execution_count": null,
   "metadata": {
    "colab": {
     "base_uri": "https://localhost:8080/"
    },
    "id": "tf8eu48IuKex",
    "outputId": "e606d558-daca-4d5b-8353-d501312a3641"
   },
   "outputs": [
    {
     "data": {
      "text/plain": [
       "0.09112296101485616"
      ]
     },
     "execution_count": 47,
     "metadata": {},
     "output_type": "execute_result"
    }
   ],
   "source": [
    "my_sigmoid(-2.3)"
   ]
  },
  {
   "cell_type": "code",
   "execution_count": null,
   "metadata": {
    "colab": {
     "base_uri": "https://localhost:8080/"
    },
    "id": "xMkanIjct7e4",
    "outputId": "97dd52a3-7dd5-4203-abe1-a23a8a9b6a4e"
   },
   "outputs": [
    {
     "data": {
      "text/plain": [
       "0.5"
      ]
     },
     "execution_count": 45,
     "metadata": {},
     "output_type": "execute_result"
    }
   ],
   "source": [
    "my_sigmoid(0)"
   ]
  },
  {
   "cell_type": "code",
   "execution_count": null,
   "metadata": {
    "colab": {
     "base_uri": "https://localhost:8080/"
    },
    "id": "UGKw0bp3t2rY",
    "outputId": "59853343-b963-4074-dc9e-eb165359a79b"
   },
   "outputs": [
    {
     "data": {
      "text/plain": [
       "0.9525741268224334"
      ]
     },
     "execution_count": 44,
     "metadata": {},
     "output_type": "execute_result"
    }
   ],
   "source": [
    "my_sigmoid(3)"
   ]
  },
  {
   "cell_type": "markdown",
   "metadata": {
    "id": "ujJ-YjvXZf1r"
   },
   "source": [
    "##  testing prediciton of  different slopes\n",
    "(plotted on the same figure)\n",
    "\n",
    "use a for cycle"
   ]
  },
  {
   "cell_type": "code",
   "execution_count": null,
   "metadata": {
    "colab": {
     "base_uri": "https://localhost:8080/",
     "height": 279
    },
    "id": "KN0gN08ZZWwp",
    "outputId": "099fdbbc-cc78-4e90-936c-ca86a4a275c8"
   },
   "outputs": [
    {
     "data": {
      "image/png": "[encoded data removed]",
      "text/plain": [
       "<Figure size 432x288 with 1 Axes>"
      ]
     },
     "metadata": {
      "needs_background": "light"
     },
     "output_type": "display_data"
    }
   ],
   "source": [
    "b1s = np.linspace(0.1, 3, 10)\n",
    "b0 = 0\n",
    "plt.figure()\n",
    "for b1 in b1s:\n",
    "    plt.plot(x, my_sigmoid(b0 + x * b1), label=np.round(b1, 1))\n",
    "plt.legend()\n",
    "plt.xlabel(\"hours studied\")\n",
    "plt.ylabel(\"p(Success)\")\n",
    "plt.grid(\"ON\")"
   ]
  },
  {
   "cell_type": "markdown",
   "metadata": {
    "id": "9G-vFqxELicL"
   },
   "source": [
    "try to find good values for b<sub>0</sub> and b<sub>1</sub> for an exam, where almost everyone who studies less than -10 hours fails, but almost everyone who studies more then +20 hours succeeds\n",
    "\n",
    "\n"
   ]
  },
  {
   "cell_type": "code",
   "execution_count": null,
   "metadata": {
    "colab": {
     "base_uri": "https://localhost:8080/",
     "height": 300
    },
    "id": "LbSZYnRzL1br",
    "outputId": "bb702785-83d1-4ddf-9353-657961f81bf7"
   },
   "outputs": [
    {
     "data": {
      "text/plain": [
       "Text(0, 0.5, 'P(Success)')"
      ]
     },
     "execution_count": 8,
     "metadata": {},
     "output_type": "execute_result"
    },
    {
     "data": {
      "image/png": "[encoded data removed]",
      "text/plain": [
       "<Figure size 432x288 with 1 Axes>"
      ]
     },
     "metadata": {
      "needs_background": "light"
     },
     "output_type": "display_data"
    }
   ],
   "source": [
    "b0 = 0\n",
    "b1 = 1  # your code\n",
    "lin_pred = b0 + b1 * x\n",
    "p_y = my_sigmoid(lin_pred)\n",
    "plt.plot(x, p_y)\n",
    "plt.xlabel(\"Hours Studied\", fontsize=14)\n",
    "plt.ylabel(\"P(Success)\", fontsize=14)"
   ]
  },
  {
   "cell_type": "markdown",
   "metadata": {
    "id": "f7athpGwL46j"
   },
   "source": [
    "find values for b0 and b1, for an exam, where there is a smooth transition, and people who study more are more likely to succeed, but almost everyone passes, who studied more than 30 hours (approximately)"
   ]
  },
  {
   "cell_type": "code",
   "execution_count": null,
   "metadata": {
    "colab": {
     "base_uri": "https://localhost:8080/",
     "height": 282
    },
    "id": "MthFIJopMXnj",
    "outputId": "00daa4b8-c039-43f8-8613-938a2998ecf6"
   },
   "outputs": [
    {
     "data": {
      "text/plain": [
       "[<matplotlib.lines.Line2D at 0x7f6d7758fa90>]"
      ]
     },
     "execution_count": 53,
     "metadata": {},
     "output_type": "execute_result"
    },
    {
     "data": {
      "image/png": "[encoded data removed]",
      "text/plain": [
       "<Figure size 432x288 with 1 Axes>"
      ]
     },
     "metadata": {
      "needs_background": "light"
     },
     "output_type": "display_data"
    }
   ],
   "source": [
    "# YOUR CODE\n",
    "# YOUR CODE"
   ]
  },
  {
   "cell_type": "markdown",
   "metadata": {
    "id": "NYsOIaSvOAPh"
   },
   "source": [
    "now that we set up the model, we are almost ready to simulate some data\n",
    "\n",
    "for this we need the numpy random.binomial generator\n",
    "\n",
    "test this function, and try to understand what it is doing  (manipulate the probability of getting 0 and 1)\n",
    "\n",
    "the goal here is to use probabilities, to simulate random binary outcomes\n",
    "\n"
   ]
  },
  {
   "cell_type": "code",
   "execution_count": null,
   "metadata": {
    "colab": {
     "base_uri": "https://localhost:8080/"
    },
    "id": "jbzDmeKDOMge",
    "outputId": "883ac25f-cc89-4671-b371-7d491cb1c9ff"
   },
   "outputs": [
    {
     "name": "stdout",
     "output_type": "stream",
     "text": [
      "1\n",
      "1\n",
      "0\n",
      "1\n",
      "1\n",
      "1\n",
      "1\n",
      "0\n",
      "1\n",
      "1\n"
     ]
    }
   ],
   "source": [
    "for i in range(10):\n",
    "    print(np.random.binomial(1, 0.5))"
   ]
  },
  {
   "cell_type": "code",
   "execution_count": null,
   "metadata": {
    "colab": {
     "base_uri": "https://localhost:8080/"
    },
    "id": "L7FjgElUfyXB",
    "outputId": "c457eb30-f5fe-4191-f706-ff87f3648bb7"
   },
   "outputs": [
    {
     "data": {
      "text/plain": [
       "9"
      ]
     },
     "execution_count": 42,
     "metadata": {},
     "output_type": "execute_result"
    }
   ],
   "source": [
    "np.random.binomial(1, 0.1)"
   ]
  },
  {
   "cell_type": "code",
   "execution_count": null,
   "metadata": {
    "colab": {
     "base_uri": "https://localhost:8080/"
    },
    "id": "aKZEQoeDqoqD",
    "outputId": "7fcfacc6-7959-4e64-ebf4-100b0e9cc596"
   },
   "outputs": [
    {
     "data": {
      "text/plain": [
       "array([1, 0, 0, 0, 0, 1, 0, 1, 1, 1])"
      ]
     },
     "execution_count": 35,
     "metadata": {},
     "output_type": "execute_result"
    }
   ],
   "source": [
    "np.random.binomial(1, 0.5, 10)"
   ]
  },
  {
   "cell_type": "code",
   "execution_count": null,
   "metadata": {
    "id": "_DEfnHV10BKo"
   },
   "outputs": [],
   "source": []
  },
  {
   "cell_type": "markdown",
   "metadata": {
    "id": "va_T9FGWOMAG"
   },
   "source": [
    "## Now we are ready to start the simulation\n",
    "### simulate X\n",
    "I. simulate 50 students, who uniformly studies someting between 0 and 100 hours ( np.random.uniform).  (visualize-histogram)\n",
    "\n",
    "or between -50 and 50!\n"
   ]
  },
  {
   "cell_type": "code",
   "execution_count": null,
   "metadata": {
    "colab": {
     "base_uri": "https://localhost:8080/",
     "height": 296
    },
    "id": "Dud8pbwTPzQQ",
    "outputId": "d54787a0-cff0-4848-c20e-9bb4d33fea29"
   },
   "outputs": [
    {
     "data": {
      "text/plain": [
       "Text(0.5, 0, 'relative hours studied')"
      ]
     },
     "execution_count": 45,
     "metadata": {},
     "output_type": "execute_result"
    },
    {
     "data": {
      "image/png": "[encoded data removed]",
      "text/plain": [
       "<Figure size 432x288 with 1 Axes>"
      ]
     },
     "metadata": {
      "needs_background": "light"
     },
     "output_type": "display_data"
    }
   ],
   "source": [
    "n = 70\n",
    "x = np.random.uniform(-50, 50, n)\n",
    "\n",
    "plt.hist(x)\n",
    "plt.xlabel(\"relative hours studied\")"
   ]
  },
  {
   "cell_type": "markdown",
   "metadata": {
    "id": "iaFPlJYAP0V1"
   },
   "source": [
    "### calculate p(succes)\n",
    "II. make predictions for the probability of passing the exam for each student using the linear equation and the sigmoid function\n",
    "\n",
    " visualize the prediction.  use np.sort or scatter, as a simple line plot will be messy"
   ]
  },
  {
   "cell_type": "code",
   "execution_count": null,
   "metadata": {
    "colab": {
     "base_uri": "https://localhost:8080/",
     "height": 300
    },
    "id": "U5zIPduTP6am",
    "outputId": "de475629-b34f-4062-81a3-828a5039b4d2"
   },
   "outputs": [
    {
     "data": {
      "text/plain": [
       "Text(0, 0.5, 'P(Success)')"
      ]
     },
     "execution_count": 46,
     "metadata": {},
     "output_type": "execute_result"
    },
    {
     "data": {
      "image/png": "[encoded data removed]",
      "text/plain": [
       "<Figure size 432x288 with 1 Axes>"
      ]
     },
     "metadata": {
      "needs_background": "light"
     },
     "output_type": "display_data"
    }
   ],
   "source": [
    "b0gen = 1.5\n",
    "b1gen = 0.12\n",
    "y_pred = my_sigmoid(b0gen + b1gen * x)\n",
    "plt.plot(np.sort(x), np.sort(y_pred))\n",
    "# plt.scatter(x,y_pred)\n",
    "\n",
    "plt.xlabel(\"Relative hours studied\", fontsize=14)\n",
    "plt.ylabel(\"P(Success)\", fontsize=14)"
   ]
  },
  {
   "cell_type": "code",
   "execution_count": null,
   "metadata": {
    "colab": {
     "base_uri": "https://localhost:8080/"
    },
    "id": "GxxWAUdqi_Bk",
    "outputId": "2479d955-6033-471f-d0ef-c623adefefce"
   },
   "outputs": [
    {
     "data": {
      "text/plain": [
       "array([0.4361531 , 0.96912195, 0.98520587, 0.11650901, 0.97643985,\n",
       "       0.17594352, 0.74942761, 0.18115793, 0.92613291, 0.89258766,\n",
       "       0.20927685, 0.99920805, 0.4168022 , 0.98551244, 0.99745291,\n",
       "       0.03824186, 0.99584075, 0.9981362 , 0.98699077, 0.98057954,\n",
       "       0.04263162, 0.87308923, 0.43352708, 0.30391627, 0.32999947,\n",
       "       0.20638125, 0.03862881, 0.86313102, 0.970694  , 0.85878697,\n",
       "       0.05274552, 0.99132759, 0.06220915, 0.97396635, 0.88581044,\n",
       "       0.72752451, 0.08059833, 0.37090693, 0.72151279, 0.33846773,\n",
       "       0.02522865, 0.99803207, 0.99901292, 0.42889492, 0.3473155 ,\n",
       "       0.8901251 , 0.83773924, 0.38162561, 0.13636522, 0.23813908,\n",
       "       0.9294174 , 0.03186466, 0.03629964, 0.92999932, 0.98365218,\n",
       "       0.93376204, 0.94336153, 0.98317389, 0.05499027, 0.99350519,\n",
       "       0.93476597, 0.02050987, 0.99885827, 0.47088885, 0.14907907,\n",
       "       0.75836848, 0.50954777, 0.90471124, 0.99904522, 0.82378157])"
      ]
     },
     "execution_count": 47,
     "metadata": {},
     "output_type": "execute_result"
    }
   ],
   "source": []
  },
  {
   "cell_type": "markdown",
   "metadata": {
    "id": "iYb0sf6FP621"
   },
   "source": [
    "### simulate Y\n",
    "Now we can use the predicted probabilties from above, so simulate, whether the student passed the exam or not, using the np.random.binomial\n",
    "\n",
    "1. make Y equal to the simulated success (=1) or fail (=0), and make a single random prediciton based on each value in Ypred\n",
    "\n",
    "\n",
    "2. visualize the result with a scatter plot, and also with the predicted curve"
   ]
  },
  {
   "cell_type": "code",
   "execution_count": null,
   "metadata": {
    "colab": {
     "base_uri": "https://localhost:8080/",
     "height": 509
    },
    "id": "iWZfp16tQeiL",
    "outputId": "806783a0-3145-4eb7-9701-65b3a4cd9b25"
   },
   "outputs": [
    {
     "name": "stdout",
     "output_type": "stream",
     "text": [
      "[0.4361531  0.96912195 0.98520587 0.11650901 0.97643985 0.17594352\n",
      " 0.74942761 0.18115793 0.92613291 0.89258766 0.20927685 0.99920805\n",
      " 0.4168022  0.98551244 0.99745291 0.03824186 0.99584075 0.9981362\n",
      " 0.98699077 0.98057954 0.04263162 0.87308923 0.43352708 0.30391627\n",
      " 0.32999947 0.20638125 0.03862881 0.86313102 0.970694   0.85878697\n",
      " 0.05274552 0.99132759 0.06220915 0.97396635 0.88581044 0.72752451\n",
      " 0.08059833 0.37090693 0.72151279 0.33846773 0.02522865 0.99803207\n",
      " 0.99901292 0.42889492 0.3473155  0.8901251  0.83773924 0.38162561\n",
      " 0.13636522 0.23813908 0.9294174  0.03186466 0.03629964 0.92999932\n",
      " 0.98365218 0.93376204 0.94336153 0.98317389 0.05499027 0.99350519\n",
      " 0.93476597 0.02050987 0.99885827 0.47088885 0.14907907 0.75836848\n",
      " 0.50954777 0.90471124 0.99904522 0.82378157]\n"
     ]
    },
    {
     "data": {
      "text/plain": [
       "Text(0, 0.5, 'Exame outcome')"
      ]
     },
     "execution_count": 50,
     "metadata": {},
     "output_type": "execute_result"
    },
    {
     "data": {
      "image/png": "[encoded data removed]",
      "text/plain": [
       "<Figure size 432x288 with 1 Axes>"
      ]
     },
     "metadata": {
      "needs_background": "light"
     },
     "output_type": "display_data"
    }
   ],
   "source": [
    "print(y_pred)\n",
    "y = np.zeros(n)\n",
    "for i in range(n):\n",
    "    y[i] = np.random.binomial(1, y_pred[i])\n",
    "\n",
    "plt.scatter(x, y)\n",
    "plt.plot(np.sort(x), np.sort(y_pred))\n",
    "\n",
    "plt.xlabel(\"Relative hours studied\", fontsize=14)\n",
    "plt.ylabel(\"Exame outcome\", fontsize=14)"
   ]
  },
  {
   "cell_type": "markdown",
   "metadata": {
    "id": "q2NXt5l-QiMJ"
   },
   "source": [
    "\n",
    "now we are ready with a data-set simulated with a logistic model! ✌\n",
    "\n",
    "next step is to actually fit a logistic regression to this data! 👼\n",
    "## Fitting logistic regression\n"
   ]
  },
  {
   "cell_type": "code",
   "execution_count": null,
   "metadata": {
    "id": "rAz_nC9SRFzN"
   },
   "outputs": [],
   "source": [
    "from sklearn.linear_model import LogisticRegression"
   ]
  },
  {
   "cell_type": "markdown",
   "metadata": {
    "id": "9Cauf5h3RKc6"
   },
   "source": [
    "try to fit the logistic regression model to the X,Y data, that we created above\n",
    "\n",
    "for X we will need .reshape(-1, 1)  for dimensionality issues"
   ]
  },
  {
   "cell_type": "code",
   "execution_count": null,
   "metadata": {
    "colab": {
     "base_uri": "https://localhost:8080/"
    },
    "id": "36OjSlMkRQJq",
    "outputId": "0f6e8dcb-cd60-4453-8e65-b1ed9c271679"
   },
   "outputs": [
    {
     "data": {
      "text/plain": [
       "LogisticRegression()"
      ]
     },
     "execution_count": 52,
     "metadata": {},
     "output_type": "execute_result"
    }
   ],
   "source": [
    "log_reg = logistic_regression()\n",
    "log_reg.fit(x.reshape(-1, 1), y)"
   ]
  },
  {
   "cell_type": "markdown",
   "metadata": {
    "id": "OQYJYCspRV1r"
   },
   "source": [
    "print the fitted parameters\n",
    "intercept_ and slope:  coef_\n",
    "\n"
   ]
  },
  {
   "cell_type": "code",
   "execution_count": null,
   "metadata": {
    "colab": {
     "base_uri": "https://localhost:8080/"
    },
    "id": "po9ziOIVRkwp",
    "outputId": "89022945-80f1-4f0b-8ce0-eefc27692091"
   },
   "outputs": [
    {
     "name": "stdout",
     "output_type": "stream",
     "text": [
      "fitted slope [[0.09934867]]\n",
      "generating slope 0.12\n",
      "fitted intercept [1.27926736]\n",
      "generating intercept 1.5\n"
     ]
    }
   ],
   "source": [
    "print(\"fitted slope\", log_reg.coef_)\n",
    "print(\"generating slope\", b1gen)\n",
    "\n",
    "print(\"fitted intercept\", log_reg.intercept_)\n",
    "print(\"generating intercept\", b0gen)"
   ]
  },
  {
   "cell_type": "markdown",
   "metadata": {
    "id": "zdg_eI-Bt7-2"
   },
   "source": [
    "## predicted probabilty (likelihood of each data point)\n",
    "\n",
    "### using built in method from scikit-learn"
   ]
  },
  {
   "cell_type": "code",
   "execution_count": null,
   "metadata": {
    "colab": {
     "base_uri": "https://localhost:8080/"
    },
    "id": "vvX_so-ySDPT",
    "outputId": "6b8465e6-b6a2-4929-96ee-f4f3fb912022"
   },
   "outputs": [
    {
     "name": "stdout",
     "output_type": "stream",
     "text": [
      "[0.99351041 0.99485718 0.94956047 0.95789853 0.07230498 0.62231527\n",
      " 0.94926027 0.95077518 0.93373666 0.72503206 0.98788902 0.9871462\n",
      " 0.99237707 0.93256879 0.95651711 0.06537948 0.95592022 0.76274683\n",
      " 0.95730624 0.89567198 0.8528617  0.17188396 0.98374733 0.68916023\n",
      " 0.89932155 0.94236967 0.6574557  0.91762942 0.96716801 0.93881501\n",
      " 0.97483855 0.95018454 0.81797333 0.83229952 0.99374743 0.91147172\n",
      " 0.99117922 0.95564514 0.08675114 0.98995337 0.78697062 0.95400553\n",
      " 0.79572654 0.83932782 0.88558622 0.8596983  0.89084999 0.34014064\n",
      " 0.96577341 0.46894544 0.59660528 0.98688166 0.97516139 0.99504418\n",
      " 0.93575263 0.56730903 0.8333506  0.8763094  0.19792815 0.98874483\n",
      " 0.79079691 0.95847368 0.68692248 0.57420644 0.94315463 0.99590048\n",
      " 0.85917523 0.51874065 0.99052912 0.80375263]\n"
     ]
    }
   ],
   "source": [
    "ll = log_reg.predict_proba(x.reshape(-1, 1))\n",
    "lls = np.zeros(n)\n",
    "lls[y == 0] = ll[y == 0, 0]  # where true y is 0, use first column\n",
    "lls[y == 1] = ll[y == 1, 1]  # where true y is 1, use 2nd column\n",
    "print(lls)"
   ]
  },
  {
   "cell_type": "markdown",
   "metadata": {
    "id": "Sb22Ml71wJ70"
   },
   "source": [
    "## predicted probabilty (likelihood of each data point)\n",
    "\n",
    "### using costum code"
   ]
  },
  {
   "cell_type": "code",
   "execution_count": null,
   "metadata": {
    "colab": {
     "base_uri": "https://localhost:8080/"
    },
    "id": "Asl_u-m5u7SQ",
    "outputId": "c85003d3-8068-4b86-d15f-4f71a47e2953"
   },
   "outputs": [
    {
     "data": {
      "text/plain": [
       "array([0.99351041, 0.99485718, 0.94956047, 0.95789853, 0.07230498,\n",
       "       0.62231527, 0.94926027, 0.95077518, 0.93373666, 0.72503206,\n",
       "       0.98788902, 0.9871462 , 0.99237707, 0.93256879, 0.95651711,\n",
       "       0.06537948, 0.95592022, 0.76274683, 0.95730624, 0.89567198,\n",
       "       0.8528617 , 0.17188396, 0.98374733, 0.68916023, 0.89932155,\n",
       "       0.94236967, 0.6574557 , 0.91762942, 0.96716801, 0.93881501,\n",
       "       0.97483855, 0.95018454, 0.81797333, 0.83229952, 0.99374743,\n",
       "       0.91147172, 0.99117922, 0.95564514, 0.08675114, 0.98995337,\n",
       "       0.78697062, 0.95400553, 0.79572654, 0.83932782, 0.88558622,\n",
       "       0.8596983 , 0.89084999, 0.34014064, 0.96577341, 0.46894544,\n",
       "       0.59660528, 0.98688166, 0.97516139, 0.99504418, 0.93575263,\n",
       "       0.56730903, 0.8333506 , 0.8763094 , 0.19792815, 0.98874483,\n",
       "       0.79079691, 0.95847368, 0.68692248, 0.57420644, 0.94315463,\n",
       "       0.99590048, 0.85917523, 0.51874065, 0.99052912, 0.80375263])"
      ]
     },
     "execution_count": 36,
     "metadata": {},
     "output_type": "execute_result"
    }
   ],
   "source": [
    "def sigm_ll(x, y, b1, b0):\n",
    "    predp = my_sigmoid(x * b1 + b0)\n",
    "    ll = np.zeros_like(predp)\n",
    "    ll[y == 0] = 1 - predp[y == 0]\n",
    "    ll[y == 1] = predp[y == 1]\n",
    "    return ll\n",
    "\n",
    "\n",
    "sigm_ll(x, y, log_reg.coef_[0], log_reg.intercept_)"
   ]
  },
  {
   "cell_type": "markdown",
   "metadata": {
    "id": "eEk2_NBIuKke"
   },
   "source": [
    "## color data by likelihood"
   ]
  },
  {
   "cell_type": "code",
   "execution_count": null,
   "metadata": {
    "colab": {
     "base_uri": "https://localhost:8080/",
     "height": 300
    },
    "id": "Bk4wt4jrtGo8",
    "outputId": "cd1fc7eb-3e36-4557-8e46-ddb88667fda6"
   },
   "outputs": [
    {
     "data": {
      "text/plain": [
       "Text(0, 0.5, 'Exam passed')"
      ]
     },
     "execution_count": 38,
     "metadata": {},
     "output_type": "execute_result"
    },
    {
     "data": {
      "image/png": "[encoded data removed]",
      "text/plain": [
       "<Figure size 432x288 with 2 Axes>"
      ]
     },
     "metadata": {
      "needs_background": "light"
     },
     "output_type": "display_data"
    }
   ],
   "source": [
    "plt.scatter(x, y, c=lls)  # color data by model likelihood\n",
    "plt.xlabel(\"Hours studied\", fontsize=14)\n",
    "plt.plot(\n",
    "    np.sort(x),\n",
    "    my_sigmoid(np.sort(x) * log_reg.coef_[0] + log_reg.intercept_),\n",
    "    label=\"fitted\",\n",
    ")\n",
    "# plt.plot(np.sort(x),my_sigmoid(np.sort(x)*b1gen+b0gen),label='data gen')\n",
    "# plt.legend()\n",
    "plt.colorbar()\n",
    "plt.ylabel(\"Exam passed\", fontsize=14)"
   ]
  },
  {
   "cell_type": "markdown",
   "metadata": {
    "id": "WHEDgzlJRlyS"
   },
   "source": [
    "try to visualize the fitted model, together with the data"
   ]
  },
  {
   "cell_type": "markdown",
   "metadata": {
    "id": "ztFCcoNqRwJ-"
   },
   "source": [
    "## Compare data generating and fitted model\n",
    "compare the generating model from the simulation, and the fitted model, that we got with scikit-learn\n",
    "compare both the numbers and visulize the curves"
   ]
  },
  {
   "cell_type": "code",
   "execution_count": null,
   "metadata": {
    "colab": {
     "base_uri": "https://localhost:8080/",
     "height": 300
    },
    "id": "onDotUrLRu6y",
    "outputId": "ba2c0c8f-99bf-480d-d4de-a459f3acbd0c"
   },
   "outputs": [
    {
     "data": {
      "text/plain": [
       "<matplotlib.legend.Legend at 0x7f6d72112190>"
      ]
     },
     "execution_count": 210,
     "metadata": {},
     "output_type": "execute_result"
    },
    {
     "data": {
      "image/png": "[encoded data removed]",
      "text/plain": [
       "<Figure size 432x288 with 1 Axes>"
      ]
     },
     "metadata": {
      "needs_background": "light"
     },
     "output_type": "display_data"
    }
   ],
   "source": [
    "y_pred_fitted = my_sigmoid(log_reg.intercept_ + log_reg.coef_ * xcentered)\n",
    "\n",
    "plt.figure()\n",
    "# your code\n",
    "# your code\n",
    "\n",
    "plt.xlabel(\"Relative hours studied\", fontsize=14)\n",
    "plt.ylabel(\"Exame outcome\", fontsize=14)\n",
    "plt.legend()"
   ]
  },
  {
   "cell_type": "code",
   "execution_count": null,
   "metadata": {
    "id": "cwqgc09ez9pw"
   },
   "outputs": [],
   "source": []
  },
  {
   "cell_type": "markdown",
   "metadata": {
    "id": "CjYTLT2BKIXS"
   },
   "source": [
    "## homework\n",
    "use the relevant parts of the code above, to make 2 functions: one for generating binary outcome data based on the logistic model and one for fitting the logistic regression with scikit learn\n",
    "\n",
    "### Function 1.: MakeLogisticDat\n",
    "\n",
    "Three inputs, 1: intercept, 2: slope, 3: array X, that is used to make the predictions.\n",
    "\n",
    "the function should take the 3rd input X, and use the intercept and the slope, to calculate P(Y) for each value of X. P(Y) means: predicted probabilities outcome=1 (as above).\n",
    "\n",
    "Next the function shuold simulate a binary outcomes for array Y, for each p(Y) (as above).\n",
    "\n",
    "One output: numpy.array Y (same length as input X), that contains the simulated binary outcomes\n",
    "\n",
    "\n",
    "### Function 2.: FitLogistic\n",
    "Inputs (2): an X and a Y array\n",
    "fit the scikit learn logistic regression (pay attention that you have to reshape X, so that it is a 2d array).\n",
    "Output (2): intercept and slope of fitted logistic regression\n",
    "\n",
    "!! pay attention to the order of the inputs and the outputs (should be the same order - and same number as above)\n",
    "!! the function names should also be exactly as defined above!\n",
    "\n",
    "\n",
    "###  Difference between data generating and fitted model\n",
    "\n",
    "once you have these functions ready,\n",
    " change the number of students for the exam (from 10 to 1010 in steps of 50), and generate a different Xdataset for each, fit the logisitic regression to the generated data, and observe how it affects the difference between the data generating and the fitted model.\n",
    "** Visualize this findings**-- x axis, number of data points, Y-axis fitted value and true data generating value for the slope\n",
    "\n",
    "Test this with at least 3 different values for data generating slope- make seprate figures!\n",
    "\n"
   ]
  },
  {
   "cell_type": "code",
   "execution_count": null,
   "metadata": {
    "id": "ysV-mnzhR9Ts"
   },
   "outputs": [],
   "source": [
    "# your code\n",
    "# your code"
   ]
  },
  {
   "cell_type": "code",
   "execution_count": null,
   "metadata": {
    "id": "1WlUfHKzSG7n"
   },
   "outputs": [],
   "source": [
    "# your code\n",
    "# your code\n",
    "# your code\n",
    "# your code"
   ]
  }
 ],
 "metadata": {
  "colab": {
   "provenance": []
  },
  "kernelspec": {
   "display_name": "Python 3 (ipykernel)",
   "language": "python",
   "name": "python3"
  },
  "language_info": {
   "codemirror_mode": {
    "name": "ipython",
    "version": 3
   },
   "file_extension": ".py",
   "mimetype": "text/x-python",
   "name": "python",
   "nbconvert_exporter": "python",
   "pygments_lexer": "ipython3",
   "version": "3.11.0"
  }
 },
 "nbformat": 4,
 "nbformat_minor": 4
}
