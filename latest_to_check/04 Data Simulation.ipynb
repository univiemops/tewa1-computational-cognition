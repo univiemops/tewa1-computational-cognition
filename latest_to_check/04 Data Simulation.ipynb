{
 "cells": [
  {
   "cell_type": "markdown",
   "metadata": {
    "id": "Y_Pt0oq_rBcL"
   },
   "source": [
    "# This is a tutorial for data simulation for t-test power analysis and regression intro\n",
    "\n",
    "TEWA 1 Tutorial 4\n",
    "\n",
    "3 Nov, 2022\n",
    "\n",
    "written by Jozsef Arato, Vienna Cognitive Science Hub, University of Vienna"
   ]
  },
  {
   "cell_type": "markdown",
   "metadata": {
    "id": "oh19atU-ravk"
   },
   "source": [
    "import libraries"
   ]
  },
  {
   "cell_type": "code",
   "execution_count": null,
   "metadata": {
    "id": "aJQyfMtXq1_u"
   },
   "outputs": [],
   "source": [
    "import numpy as np\n",
    "from matplotlib import pyplot as plt\n",
    "from scipy import stats, linalg"
   ]
  },
  {
   "cell_type": "markdown",
   "metadata": {
    "id": "hxeQBbrUrnod"
   },
   "source": [
    "## Data simulation for a t-test\n",
    "\n",
    "in the first task, we simulate a scenario when comparing the effect of new drug on reaction time performance to a placebo.\n",
    "We will also assume that the drug is  better than the placebo, so reaction time will be sampled from the population mean of 500 ms, and SD of 100 for the target group, and 520 for the control group"
   ]
  },
  {
   "cell_type": "markdown",
   "metadata": {
    "id": "UpO4XAlmsWD8"
   },
   "source": [
    "first task is to simulate 2 groups of 20 participants, based on the above information (we are assuming normal distribution here)\n",
    "\n",
    "---\n",
    "\n"
   ]
  },
  {
   "cell_type": "code",
   "execution_count": null,
   "metadata": {
    "colab": {
     "base_uri": "https://localhost:8080/"
    },
    "id": "5q1n9SR7slJ6",
    "outputId": "e9ca78a9-96fc-4d0e-920d-7e997c756b99"
   },
   "outputs": [
    {
     "name": "stdout",
     "output_type": "stream",
     "text": [
      "Ttest_indResult(statistic=2.506952891250026, pvalue=0.016572678912262127)\n",
      "0.016572678912262127\n"
     ]
    }
   ],
   "source": [
    "Data1 = np.random.normal(500, 100, 20)\n",
    "Data2 = np.random.normal(520, 100, 20)\n",
    "print(stats.ttest_ind(Data1, Data2))\n",
    "print(stats.ttest_ind(Data1, Data2)[1])"
   ]
  },
  {
   "cell_type": "code",
   "execution_count": null,
   "metadata": {
    "colab": {
     "base_uri": "https://localhost:8080/",
     "height": 296
    },
    "id": "fkEqJlsHHW_B",
    "outputId": "7d138055-9bb6-4db0-ffc1-c8270a097728"
   },
   "outputs": [
    {
     "data": {
      "text/plain": [
       "<matplotlib.legend.Legend at 0x7fb5fef7b590>"
      ]
     },
     "execution_count": 13,
     "metadata": {},
     "output_type": "execute_result"
    },
    {
     "data": {
      "image/png": "[encoded data removed]",
      "text/plain": [
       "<Figure size 432x288 with 1 Axes>"
      ]
     },
     "metadata": {
      "needs_background": "light"
     },
     "output_type": "display_data"
    }
   ],
   "source": [
    "plt.hist(Data1, alpha=0.5, label=\"group 1\")\n",
    "plt.hist(Data2, alpha=0.5, label=\"group 2\")\n",
    "plt.xlabel(\"reaction time\")\n",
    "plt.ylabel(\"number of participants\")\n",
    "plt.legend()"
   ]
  },
  {
   "cell_type": "markdown",
   "metadata": {
    "id": "sJCflthxrsBV"
   },
   "source": [
    "once this is done, we can compare the two groups with the independent samples t-test"
   ]
  },
  {
   "cell_type": "markdown",
   "metadata": {
    "id": "tLAx7BQ8s8md"
   },
   "source": [
    "based on the above, repeat the process 1000 times,\n",
    "and store the p-value of each iteration's t-test in a numpy array\n"
   ]
  },
  {
   "cell_type": "code",
   "execution_count": null,
   "metadata": {
    "id": "XZuRipbntfCl"
   },
   "outputs": [],
   "source": [
    "Nsim = 1000\n",
    "pvalues = np.zeros(Nsim)\n",
    "for i in range(Nsim):\n",
    "    Data1 = np.random.normal(500, 100, 100)\n",
    "    Data2 = np.random.normal(520, 100, 100)\n",
    "    pvalues[i] = stats.ttest_ind(Data1, Data2)[1]\n",
    "# if i<5:\n",
    "#  print(i, pvalues[0:10])"
   ]
  },
  {
   "cell_type": "markdown",
   "metadata": {
    "id": "RKIBGzqxtnZq"
   },
   "source": [
    "1. visualize the obtained p values with a histrogam\n",
    "2. calculate how many times you obtained significant difference (p value below 0.05)\n",
    "3. add vertical line, for the significance threshold on the histrogram"
   ]
  },
  {
   "cell_type": "code",
   "execution_count": null,
   "metadata": {
    "colab": {
     "base_uri": "https://localhost:8080/",
     "height": 317
    },
    "id": "oWBcxXDltjUq",
    "outputId": "09d89bcc-84f5-4936-dd51-ed2ceb6ad472"
   },
   "outputs": [
    {
     "name": "stdout",
     "output_type": "stream",
     "text": [
      "significance, p<  .05:  273\n",
      "power of design  0.273\n"
     ]
    },
    {
     "data": {
      "text/plain": [
       "[<matplotlib.lines.Line2D at 0x7fb5fd196e50>]"
      ]
     },
     "execution_count": 27,
     "metadata": {},
     "output_type": "execute_result"
    },
    {
     "data": {
      "image/png": "[encoded data removed]",
      "text/plain": [
       "<Figure size 432x288 with 1 Axes>"
      ]
     },
     "metadata": {
      "needs_background": "light"
     },
     "output_type": "display_data"
    }
   ],
   "source": [
    "plt.hist(pvalues, bins=20)\n",
    "\n",
    "print(\"significance, p<  .05: \", np.sum(pvalues < 0.05))\n",
    "print(\"power of design \", np.sum(pvalues < 0.05) / Nsim)\n",
    "\n",
    "plt.plot([0.05, 0.05], [0, Nsim / 4], color=\"k\")  # vertical line"
   ]
  },
  {
   "cell_type": "markdown",
   "metadata": {
    "id": "R4MH6bTmttyB"
   },
   "source": [
    "write a function SimulateT, using the code above, that takes 4 input variables:\n",
    "1. mean of group 1,\n",
    "2. mean of group 2\n",
    "3. the SD for both groups\n",
    "4. and the number of particpants, (equal for both groups)\n",
    "\n",
    "the function should simulate data 1000 times, performs the above analysis and returns only the proportion of significant tests\n"
   ]
  },
  {
   "cell_type": "code",
   "execution_count": null,
   "metadata": {
    "id": "30fQ3MaPuJR8"
   },
   "outputs": [],
   "source": [
    "def SimulateT(mean1, mean2, sd, Npart):\n",
    "    Ns = 1000\n",
    "    pvalues = np.zeros(Nsim)\n",
    "    for i in range(Nsim):\n",
    "        Data1 = np.random.normal(mean1, sd, Npart)\n",
    "        Data2 = np.random.normal(mean2, sd, Npart)\n",
    "        pvalues[i] = stats.ttest_ind(Data1, Data2)[1]\n",
    "    return np.sum(pvalues < 0.05) / Ns"
   ]
  },
  {
   "cell_type": "code",
   "execution_count": null,
   "metadata": {
    "colab": {
     "base_uri": "https://localhost:8080/"
    },
    "id": "z2MQ8OOmOUQM",
    "outputId": "4bf1d847-30c4-4aaf-b69b-6f5a0b7b71e3"
   },
   "outputs": [
    {
     "data": {
      "text/plain": [
       "0.097"
      ]
     },
     "execution_count": 44,
     "metadata": {},
     "output_type": "execute_result"
    }
   ],
   "source": [
    "SimulateT(500, 520, 100, 20)"
   ]
  },
  {
   "cell_type": "markdown",
   "metadata": {
    "id": "7e8caO7iugQ7"
   },
   "source": [
    "### systematic simulation\n",
    "once this is done, we will keep the mean fixed at 500 & 520, but systematically change the SD in 10 steps: from 20 to 200 ms\n",
    "\n",
    "1. using your function above, calculate the proportion of significant tests for all of these combinations.\n",
    "2.  store the results it in a  numpy array\n",
    "3. visualize the result with  plt.plot\n",
    "4. make the figure nice (ticks, labels, fontsize)"
   ]
  },
  {
   "cell_type": "code",
   "execution_count": null,
   "metadata": {
    "colab": {
     "base_uri": "https://localhost:8080/"
    },
    "id": "pJBTxPiDcx4W",
    "outputId": "25cf1bee-d5b9-40b0-9ace-8e4bf5a5a988"
   },
   "outputs": [
    {
     "name": "stdout",
     "output_type": "stream",
     "text": [
      "[ 20.  40.  60.  80. 100. 120. 140. 160. 180. 200.] 10\n"
     ]
    }
   ],
   "source": [
    "NSteps = 10\n",
    "SDs = np.linspace(20, 200, NSteps)\n",
    "\n",
    "print(SDs, len(SDs))\n",
    "Powers = np.zeros(NSteps)\n",
    "for i in range(NSteps):\n",
    "    Powers[i] = SimulateT(500, 520, SDs[i], 20)"
   ]
  },
  {
   "cell_type": "code",
   "execution_count": null,
   "metadata": {
    "id": "HowbqP3oRtXB"
   },
   "outputs": [],
   "source": [
    "Powers = np.zeros(NSteps)\n",
    "for i, sd in enumerate(SDs):\n",
    "    Powers[i] = SimulateT(500, 520, sd, 20)"
   ]
  },
  {
   "cell_type": "code",
   "execution_count": null,
   "metadata": {
    "colab": {
     "base_uri": "https://localhost:8080/",
     "height": 301
    },
    "id": "H2ON8ruEehZL",
    "outputId": "619533a7-226b-4688-89cc-7984acf31143"
   },
   "outputs": [
    {
     "data": {
      "text/plain": [
       "Text(0, 0.5, 'Power')"
      ]
     },
     "execution_count": 50,
     "metadata": {},
     "output_type": "execute_result"
    },
    {
     "data": {
      "image/png": "[encoded data removed]",
      "text/plain": [
       "<Figure size 432x288 with 1 Axes>"
      ]
     },
     "metadata": {
      "needs_background": "light"
     },
     "output_type": "display_data"
    }
   ],
   "source": [
    "plt.plot(SDs, Powers)\n",
    "plt.xlabel(\"Standard deviation (ms)\", fontsize=15)\n",
    "plt.ylabel(\"Power\", fontsize=15)"
   ]
  },
  {
   "cell_type": "markdown",
   "metadata": {
    "id": "xBp3JFuuc1Ur"
   },
   "source": [
    "\n",
    "using the same function, change systematically the  number of participants in 8 steps: from 8 to 64 participants\n",
    "store the results in a numpy array\n",
    "\n",
    "\n",
    "\n"
   ]
  },
  {
   "cell_type": "code",
   "execution_count": null,
   "metadata": {
    "id": "Hh6Gyjt9vrD4"
   },
   "outputs": [],
   "source": [
    "NSteps = 8\n",
    "Numparts = np.linspace(8, 64, NSteps)\n",
    "Powers = np.zeros(NSteps)\n",
    "for i in range(NSteps):\n",
    "    Powers[i] = SimulateT(500, 520, 50, int(Numparts[i]))\n",
    "# your code\n",
    "# your code\n",
    "# your code"
   ]
  },
  {
   "cell_type": "code",
   "execution_count": null,
   "metadata": {
    "colab": {
     "base_uri": "https://localhost:8080/"
    },
    "id": "L0sCW9ecT_f-",
    "outputId": "881dddbe-68f5-40d0-8d61-b1d9205b04f5"
   },
   "outputs": [
    {
     "data": {
      "text/plain": [
       "array([ 8, 16, 24, 32, 40, 48, 56, 64])"
      ]
     },
     "execution_count": 58,
     "metadata": {},
     "output_type": "execute_result"
    }
   ],
   "source": [
    "np.intp(np.linspace(8, 64, 8))"
   ]
  },
  {
   "cell_type": "code",
   "execution_count": null,
   "metadata": {
    "id": "bDg_8WYSTd5J"
   },
   "outputs": [],
   "source": [
    "?np.random.normal"
   ]
  },
  {
   "cell_type": "code",
   "execution_count": null,
   "metadata": {
    "colab": {
     "base_uri": "https://localhost:8080/",
     "height": 301
    },
    "id": "h9HJPnMeiWRk",
    "outputId": "51df83bd-52ec-4fc0-eb29-92157ac08164"
   },
   "outputs": [
    {
     "data": {
      "text/plain": [
       "Text(0, 0.5, 'Power')"
      ]
     },
     "execution_count": 59,
     "metadata": {},
     "output_type": "execute_result"
    },
    {
     "data": {
      "image/png": "[encoded data removed]",
      "text/plain": [
       "<Figure size 432x288 with 1 Axes>"
      ]
     },
     "metadata": {
      "needs_background": "light"
     },
     "output_type": "display_data"
    }
   ],
   "source": [
    "plt.plot(Numparts, Powers)\n",
    "plt.xlabel(\"Num of participants\", fontsize=15)\n",
    "plt.ylabel(\"Power\", fontsize=15)"
   ]
  },
  {
   "cell_type": "markdown",
   "metadata": {
    "id": "51AtiXlo3Nmg"
   },
   "source": [
    "lecture continues here!"
   ]
  },
  {
   "cell_type": "markdown",
   "metadata": {
    "id": "wT-Qc4VdCgKJ"
   },
   "source": [
    "## demo of 3 options for counting and accesssing elements of list/array with  embedded for cycles\n",
    "and using 2d numpy array to store calculation results with indexing\n",
    "\n"
   ]
  },
  {
   "cell_type": "code",
   "execution_count": null,
   "metadata": {
    "id": "FXHr1dGpDwGk"
   },
   "outputs": [],
   "source": [
    "List1 = [\"dog\", \"cat\", \"mouse\"]\n",
    "List2 = [\"vienna\", \"graz\"]"
   ]
  },
  {
   "cell_type": "markdown",
   "metadata": {
    "id": "f2KtLuY5EB47"
   },
   "source": [
    "### option 1 -  iterate list + counters"
   ]
  },
  {
   "cell_type": "code",
   "execution_count": null,
   "metadata": {
    "colab": {
     "base_uri": "https://localhost:8080/"
    },
    "id": "ggf__Q10Duj0",
    "outputId": "9f519525-b510-46c3-ac7e-d32a5daaca7a"
   },
   "outputs": [
    {
     "name": "stdout",
     "output_type": "stream",
     "text": [
      "0 0 dog vienna\n",
      "0 1 dog graz\n",
      "1 0 cat vienna\n",
      "1 1 cat graz\n",
      "2 0 mouse vienna\n",
      "2 1 mouse graz\n",
      "[[ 9.  7.]\n",
      " [ 9.  7.]\n",
      " [11.  9.]]\n"
     ]
    }
   ],
   "source": [
    "NumCombinedChar = np.zeros((len(List1), len(List2)))\n",
    "c1 = 0\n",
    "for l1 in List1:\n",
    "    c2 = 0\n",
    "    for l2 in List2:\n",
    "        print(c1, c2, l1, l2)\n",
    "        NumCombinedChar[c1, c2] = len(l1) + len(\n",
    "            l2\n",
    "        )  # calcualte and store combined word length\n",
    "        c2 += 1\n",
    "    c1 += 1\n",
    "print(NumCombinedChar)"
   ]
  },
  {
   "cell_type": "markdown",
   "metadata": {
    "id": "VPrNCZaGDyOy"
   },
   "source": [
    "### option 2 -  range  + indexing\n",
    "\n"
   ]
  },
  {
   "cell_type": "code",
   "execution_count": null,
   "metadata": {
    "colab": {
     "base_uri": "https://localhost:8080/"
    },
    "id": "xdOm9mnZDiSr",
    "outputId": "04ab41be-b371-404b-8b9f-5d820aa2ab05"
   },
   "outputs": [
    {
     "name": "stdout",
     "output_type": "stream",
     "text": [
      "0 0 dog dog\n",
      "0 1 dog cat\n",
      "1 0 cat dog\n",
      "1 1 cat cat\n",
      "2 0 mouse dog\n",
      "2 1 mouse cat\n",
      "[[ 9.  7.]\n",
      " [ 9.  7.]\n",
      " [11.  9.]]\n"
     ]
    }
   ],
   "source": [
    "NumCombinedChar = np.zeros((len(List1), len(List2)))\n",
    "for c1 in range(len(List1)):\n",
    "    for c2 in range(len(List2)):\n",
    "        print(c1, c2, List1[c1], List1[c2])\n",
    "        NumCombinedChar[c1, c2] = len(List1[c1]) + len(\n",
    "            List2[c2]\n",
    "        )  # calcualte and store combined word length\n",
    "print(NumCombinedChar)"
   ]
  },
  {
   "cell_type": "markdown",
   "metadata": {
    "id": "A4CFWeaYD6LX"
   },
   "source": [
    "### option 3 -  enumerate\n"
   ]
  },
  {
   "cell_type": "code",
   "execution_count": null,
   "metadata": {
    "colab": {
     "base_uri": "https://localhost:8080/"
    },
    "id": "vC7ok165QRci",
    "outputId": "31a68e9f-44df-4b8d-d942-a3cb2075668f"
   },
   "outputs": [
    {
     "name": "stdout",
     "output_type": "stream",
     "text": [
      "0 0 dog vienna\n",
      "0 1 dog graz\n",
      "1 0 cat vienna\n",
      "1 1 cat graz\n",
      "2 0 mouse vienna\n",
      "2 1 mouse graz\n",
      "[[ 9.  7.]\n",
      " [ 9.  7.]\n",
      " [11.  9.]]\n"
     ]
    }
   ],
   "source": [
    "NumCombinedChar = np.zeros((len(List1), len(List2)))\n",
    "\n",
    "for c1, l1 in enumerate(List1):\n",
    "    for c2, l2 in enumerate(List2):\n",
    "        print(c1, c2, l1, l2)\n",
    "        NumCombinedChar[c1, c2] = len(l1) + len(\n",
    "            l2\n",
    "        )  # calcualte and store combined word length\n",
    "print(NumCombinedChar)"
   ]
  },
  {
   "cell_type": "markdown",
   "metadata": {
    "id": "80ycIgsBH5PH"
   },
   "source": [
    "### simulating data with a linear regression model"
   ]
  },
  {
   "cell_type": "markdown",
   "metadata": {
    "id": "iMh3fxPaH-77"
   },
   "source": [
    "growth of infant .5 cm/month  (B1)\n",
    "\n",
    "starting heigth 50 cm  (B0)\n",
    "\n",
    "error 8 cm  \n",
    "\n",
    "n=40\n",
    "\n",
    "simulate for ages 0 to 36 months\n",
    "\n",
    "write the linear equation with normal error, to simualte data for your first simulation with a regression model for Y"
   ]
  },
  {
   "cell_type": "code",
   "execution_count": null,
   "metadata": {
    "id": "tV7OcGDRIL2k"
   },
   "outputs": [],
   "source": [
    "N = 40\n",
    "B0 = 50\n",
    "B1 = 0.5\n",
    "X = np.linspace(0, 36, N)\n",
    "Y = B0 + B1 * X + np.random.normal(0, 8, N)"
   ]
  },
  {
   "cell_type": "code",
   "execution_count": null,
   "metadata": {
    "colab": {
     "base_uri": "https://localhost:8080/",
     "height": 300
    },
    "id": "iPuqawxHIxgv",
    "outputId": "aa4841cc-8eb0-42d5-cf17-1902ce6e46b0"
   },
   "outputs": [
    {
     "data": {
      "text/plain": [
       "Text(0, 0.5, 'Heigth (cm)')"
      ]
     },
     "execution_count": 96,
     "metadata": {},
     "output_type": "execute_result"
    },
    {
     "data": {
      "image/png": "[encoded data removed]",
      "text/plain": [
       "<Figure size 432x288 with 1 Axes>"
      ]
     },
     "metadata": {
      "needs_background": "light"
     },
     "output_type": "display_data"
    }
   ],
   "source": [
    "plt.scatter(X, Y)\n",
    "plt.xlabel(\"Age (months)\", fontsize=14)\n",
    "plt.ylabel(\"Heigth (cm)\")"
   ]
  },
  {
   "cell_type": "markdown",
   "metadata": {
    "id": "A6PgYZ1H3rYh"
   },
   "source": [
    "we will use the least squares method, to fit a linear regression\n",
    "\n",
    "\n",
    "to fit the intercept, we will need a column of ones, that is added to the predictors.\n",
    "\n",
    "predictor matrix-- design matrix"
   ]
  },
  {
   "cell_type": "code",
   "execution_count": null,
   "metadata": {
    "id": "JTSBGBvVJIqI"
   },
   "outputs": [],
   "source": [
    "from scipy import linalg"
   ]
  },
  {
   "cell_type": "code",
   "execution_count": null,
   "metadata": {
    "colab": {
     "base_uri": "https://localhost:8080/"
    },
    "id": "tbVgnus7KjkT",
    "outputId": "5bf016b0-4120-4253-dcde-7f84266533fb"
   },
   "outputs": [
    {
     "name": "stdout",
     "output_type": "stream",
     "text": [
      "[ 0.          0.92307692  1.84615385  2.76923077  3.69230769  4.61538462\n",
      "  5.53846154  6.46153846  7.38461538  8.30769231  9.23076923 10.15384615\n",
      " 11.07692308 12.         12.92307692 13.84615385 14.76923077 15.69230769\n",
      " 16.61538462 17.53846154 18.46153846 19.38461538 20.30769231 21.23076923\n",
      " 22.15384615 23.07692308 24.         24.92307692 25.84615385 26.76923077\n",
      " 27.69230769 28.61538462 29.53846154 30.46153846 31.38461538 32.30769231\n",
      " 33.23076923 34.15384615 35.07692308 36.        ]\n",
      "[[ 1.          0.        ]\n",
      " [ 1.          0.92307692]\n",
      " [ 1.          1.84615385]\n",
      " [ 1.          2.76923077]\n",
      " [ 1.          3.69230769]\n",
      " [ 1.          4.61538462]\n",
      " [ 1.          5.53846154]\n",
      " [ 1.          6.46153846]\n",
      " [ 1.          7.38461538]\n",
      " [ 1.          8.30769231]\n",
      " [ 1.          9.23076923]\n",
      " [ 1.         10.15384615]\n",
      " [ 1.         11.07692308]\n",
      " [ 1.         12.        ]\n",
      " [ 1.         12.92307692]\n",
      " [ 1.         13.84615385]\n",
      " [ 1.         14.76923077]\n",
      " [ 1.         15.69230769]\n",
      " [ 1.         16.61538462]\n",
      " [ 1.         17.53846154]\n",
      " [ 1.         18.46153846]\n",
      " [ 1.         19.38461538]\n",
      " [ 1.         20.30769231]\n",
      " [ 1.         21.23076923]\n",
      " [ 1.         22.15384615]\n",
      " [ 1.         23.07692308]\n",
      " [ 1.         24.        ]\n",
      " [ 1.         24.92307692]\n",
      " [ 1.         25.84615385]\n",
      " [ 1.         26.76923077]\n",
      " [ 1.         27.69230769]\n",
      " [ 1.         28.61538462]\n",
      " [ 1.         29.53846154]\n",
      " [ 1.         30.46153846]\n",
      " [ 1.         31.38461538]\n",
      " [ 1.         32.30769231]\n",
      " [ 1.         33.23076923]\n",
      " [ 1.         34.15384615]\n",
      " [ 1.         35.07692308]\n",
      " [ 1.         36.        ]]\n"
     ]
    }
   ],
   "source": [
    "print(X)\n",
    "XX = np.column_stack((np.ones(N), X))\n",
    "print(XX)\n",
    "pars = linalg.lstsq(XX, Y)[0]"
   ]
  },
  {
   "cell_type": "code",
   "execution_count": null,
   "metadata": {
    "colab": {
     "base_uri": "https://localhost:8080/"
    },
    "id": "0GGLbaQfJRrp",
    "outputId": "f41a4e79-1377-4ef6-dbd0-286e33be3861"
   },
   "outputs": [
    {
     "data": {
      "text/plain": [
       "array([47.53873634,  0.67946127])"
      ]
     },
     "execution_count": 99,
     "metadata": {},
     "output_type": "execute_result"
    }
   ],
   "source": [
    "pars"
   ]
  },
  {
   "cell_type": "code",
   "execution_count": null,
   "metadata": {
    "colab": {
     "base_uri": "https://localhost:8080/"
    },
    "id": "d3UK37Gur3YZ",
    "outputId": "66c613a1-ed25-4ea8-9f25-7dafd92812ff"
   },
   "outputs": [
    {
     "data": {
      "text/plain": [
       "0.488303201589606"
      ]
     },
     "execution_count": 93,
     "metadata": {},
     "output_type": "execute_result"
    }
   ],
   "source": [
    "np.sum((X - np.mean(X)) * (Y - np.mean(Y))) / np.sum((X - np.mean(X)) ** 2)"
   ]
  },
  {
   "cell_type": "markdown",
   "metadata": {
    "id": "6Hs4OmMU8-w6"
   },
   "source": [
    "plot the obtained regression line, together with the data"
   ]
  },
  {
   "cell_type": "code",
   "execution_count": null,
   "metadata": {
    "colab": {
     "base_uri": "https://localhost:8080/",
     "height": 300
    },
    "id": "pqWxp7weMOu2",
    "outputId": "2475aa05-7926-482c-8fa5-ea7202385dbf"
   },
   "outputs": [
    {
     "data": {
      "text/plain": [
       "Text(0, 0.5, 'Heigth (cm)')"
      ]
     },
     "execution_count": 102,
     "metadata": {},
     "output_type": "execute_result"
    },
    {
     "data": {
      "image/png": "[encoded data removed]",
      "text/plain": [
       "<Figure size 432x288 with 1 Axes>"
      ]
     },
     "metadata": {
      "needs_background": "light"
     },
     "output_type": "display_data"
    }
   ],
   "source": [
    "plt.scatter(X, Y)\n",
    "plt.plot(X, B0 + X * B1, color=\"k\", alpha=0.2, label=\"data generating model\")\n",
    "plt.plot(X, pars[0] + X * pars[1], color=\"k\", label=\"fitted model prediction\")\n",
    "plt.legend()\n",
    "plt.xlabel(\"Age (months)\", fontsize=14)\n",
    "plt.ylabel(\"Heigth (cm)\")"
   ]
  },
  {
   "cell_type": "markdown",
   "metadata": {
    "id": "z4V0YntdnuZz"
   },
   "source": [
    "## polynomial regression"
   ]
  },
  {
   "cell_type": "code",
   "execution_count": null,
   "metadata": {
    "colab": {
     "base_uri": "https://localhost:8080/"
    },
    "id": "Hhea2MzMnk24",
    "outputId": "ac061c5a-8c90-494a-cd64-ac05e41df459"
   },
   "outputs": [
    {
     "name": "stdout",
     "output_type": "stream",
     "text": [
      "[4.75837426e+01 6.71762827e-01 2.13845660e-04]\n"
     ]
    }
   ],
   "source": [
    "XX = np.column_stack((np.ones(N), X, X**2))\n",
    "pars = linalg.lstsq(XX, Y)[0]\n",
    "print(pars)"
   ]
  },
  {
   "cell_type": "code",
   "execution_count": null,
   "metadata": {
    "colab": {
     "base_uri": "https://localhost:8080/",
     "height": 282
    },
    "id": "lRAwt7lsn_jc",
    "outputId": "3a7366a4-2c12-4492-c5ba-fe36e9238928"
   },
   "outputs": [
    {
     "data": {
      "text/plain": [
       "[<matplotlib.lines.Line2D at 0x7fb5fcb5c610>]"
      ]
     },
     "execution_count": 105,
     "metadata": {},
     "output_type": "execute_result"
    },
    {
     "data": {
      "image/png": "[encoded data removed]",
      "text/plain": [
       "<Figure size 432x288 with 1 Axes>"
      ]
     },
     "metadata": {
      "needs_background": "light"
     },
     "output_type": "display_data"
    }
   ],
   "source": [
    "plt.scatter(X, Y)\n",
    "plt.plot(X, pars[0] + pars[1] * X + pars[2] * X**2, color=\"k\")"
   ]
  },
  {
   "cell_type": "code",
   "execution_count": null,
   "metadata": {
    "colab": {
     "base_uri": "https://localhost:8080/"
    },
    "id": "zFYR85jRpdZc",
    "outputId": "458c5f5b-7121-4b09-fc33-710dd5933b49"
   },
   "outputs": [
    {
     "name": "stdout",
     "output_type": "stream",
     "text": [
      "[ 4.72152339e+01  1.33181130e+00 -7.37687930e-02  1.52775894e-03]\n"
     ]
    }
   ],
   "source": []
  },
  {
   "cell_type": "markdown",
   "metadata": {
    "id": "0LHvv--YoY62"
   },
   "source": [
    "regression prediction as matrix  multiplication:\n",
    "\n",
    "linear algebra series by 3blue1brown: https://www.youtube.com/watch?v=kjBOesZCoqc&list=PL0-GT3co4r2y2YErbmuJw2L5tW4Ew2O5B\n",
    "\n",
    "matrix mulitiplication of design matrix with predictor weights results in predicted Y values."
   ]
  },
  {
   "cell_type": "code",
   "execution_count": null,
   "metadata": {
    "colab": {
     "base_uri": "https://localhost:8080/",
     "height": 282
    },
    "id": "q-rVxrProMVM",
    "outputId": "a71a2339-04fe-4f0d-e296-56a5781a8cb4"
   },
   "outputs": [
    {
     "data": {
      "text/plain": [
       "[<matplotlib.lines.Line2D at 0x7fb3bff21290>]"
      ]
     },
     "execution_count": 8,
     "metadata": {},
     "output_type": "execute_result"
    },
    {
     "data": {
      "image/png": "[encoded data removed]",
      "text/plain": [
       "<Figure size 432x288 with 1 Axes>"
      ]
     },
     "metadata": {
      "needs_background": "light"
     },
     "output_type": "display_data"
    }
   ],
   "source": [
    "plt.scatter(X, Y)\n",
    "plt.plot(X, np.matmul(XX, pars))"
   ]
  },
  {
   "cell_type": "code",
   "execution_count": null,
   "metadata": {
    "colab": {
     "base_uri": "https://localhost:8080/",
     "height": 282
    },
    "id": "apxR-7COphtT",
    "outputId": "1b44a583-c887-4e67-cadc-c7c4253069b7"
   },
   "outputs": [
    {
     "data": {
      "text/plain": [
       "[<matplotlib.lines.Line2D at 0x7fb3bfdebf90>]"
      ]
     },
     "execution_count": 10,
     "metadata": {},
     "output_type": "execute_result"
    },
    {
     "data": {
      "image/png": "[encoded data removed]",
      "text/plain": [
       "<Figure size 432x288 with 1 Axes>"
      ]
     },
     "metadata": {
      "needs_background": "light"
     },
     "output_type": "display_data"
    }
   ],
   "source": [
    "XX = np.column_stack((np.ones(N), X, X**2, X**3))\n",
    "pars = linalg.lstsq(XX, Y)[0]\n",
    "plt.scatter(X, Y)\n",
    "plt.plot(X, np.matmul(XX, pars), linestyle=\"-\", marker=\"o\")\n",
    "# plt.plot(X,np.matmul(XX,pars))"
   ]
  },
  {
   "cell_type": "markdown",
   "metadata": {
    "id": "RFrqPx1R41dl"
   },
   "source": [
    "\n",
    "## homework 1\n",
    "\n",
    "simulating t-test for combinations of group size and standard deviation:\n",
    "use all combinations of SD-s and groups sizes above, to simulate 80 scenarios, and store the significant t-test in a 2d numpy array\n",
    "\n",
    "use the pcolor function of pyplot, to visualize the result\n",
    " adding x and y labels (for the parameters)\n",
    "\n",
    "\n",
    "what do you observe and why? Write a few sentences"
   ]
  },
  {
   "cell_type": "code",
   "execution_count": null,
   "metadata": {
    "id": "orwbHmJk5JFP"
   },
   "outputs": [],
   "source": []
  },
  {
   "cell_type": "markdown",
   "metadata": {
    "id": "WiXHb-Sr47K8"
   },
   "source": [
    "## homework 2\n",
    "simulation with no mean difference, make a similar systematic simulation,\n",
    "but with no mean difference (eg: ineffective drug) and calculate the propotion of significant test as you maniupate the SD and the sample size.\n",
    "what do you observe and why could that be the case?\n"
   ]
  },
  {
   "cell_type": "code",
   "execution_count": null,
   "metadata": {
    "id": "7mCa1umx8Nn8"
   },
   "outputs": [],
   "source": []
  },
  {
   "cell_type": "markdown",
   "metadata": {
    "id": "y0CJYyC58_Xm"
   },
   "source": [
    "\n",
    "once you are ready with the figure, compare it to the previous figure, from the the true difference simulation..\n",
    "\n",
    "what do you observe? Why?\n",
    "\n",
    "write a short answer (max 5 sentences), and submit to the \"texteingabe\" in moodle\n",
    "\n",
    "now you do not need to submit the code, only the figure you have created!\n",
    "so save the figure and upload it to the moodle homework submission form\n",
    "\n",
    "\n"
   ]
  }
 ],
 "metadata": {
  "colab": {
   "provenance": []
  },
  "kernelspec": {
   "display_name": "Python 3",
   "name": "python3"
  },
  "language_info": {
   "name": "python"
  }
 },
 "nbformat": 4,
 "nbformat_minor": 0
}
