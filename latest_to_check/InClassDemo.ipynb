{
  "nbformat": 4,
  "nbformat_minor": 0,
  "metadata": {
    "colab": {
      "provenance": []
    },
    "kernelspec": {
      "name": "python3",
      "display_name": "Python 3"
    },
    "language_info": {
      "name": "python"
    }
  },
  "cells": [
    {
      "cell_type": "code",
      "execution_count": null,
      "metadata": {
        "id": "pdaDzoaLt8aA"
      },
      "outputs": [],
      "source": [
        "import numpy as np\n",
        "from matplotlib import pyplot as plt"
      ]
    },
    {
      "cell_type": "markdown",
      "source": [
        "First code cell below-- first tewa class"
      ],
      "metadata": {
        "id": "0aiMlKPluAM6"
      }
    },
    {
      "cell_type": "code",
      "source": [
        "\n",
        "Countries=np.array(['Austria','Austria','Germany','Germany','Austria','Germany','Germany','Austria','Austria','Austria','Austria','Austria','Austria','Germany','Germany'])\n",
        "Programming=np.array([1,3,4.5,3.5,1,1,3,.5,0,2,1,3,.5,0,2])\n",
        "Vienna=np.array([8,0,5,12,25,5,5,4,9,5,5,3,8,5,3])\n"
      ],
      "metadata": {
        "id": "1OvgpsE8uIuh"
      },
      "execution_count": null,
      "outputs": []
    },
    {
      "cell_type": "code",
      "source": [
        "Countries,Programming,Vienna"
      ],
      "metadata": {
        "colab": {
          "base_uri": "https://localhost:8080/"
        },
        "id": "lkcKhMtSwMtT",
        "outputId": "ce0c832c-93df-4187-b83d-b5a2f55787dc"
      },
      "execution_count": null,
      "outputs": [
        {
          "output_type": "execute_result",
          "data": {
            "text/plain": [
              "(array(['Austria', 'Austria', 'Germany', 'Germany', 'Austria', 'Germany',\n",
              "        'Germany', 'Austria', 'Austria', 'Austria', 'Austria', 'Austria',\n",
              "        'Austria', 'Germany', 'Germany'], dtype='<U7'),\n",
              " array([1. , 3. , 4.5, 3.5, 1. , 1. , 3. , 0.5, 0. , 2. , 1. , 3. , 0.5,\n",
              "        0. , 2. ]),\n",
              " array([ 8,  0,  5, 12, 25,  5,  5,  4,  9,  5,  5,  3,  8,  5,  3]))"
            ]
          },
          "metadata": {},
          "execution_count": 10
        }
      ]
    },
    {
      "cell_type": "code",
      "source": [
        "len(Countries),len(Programming),len(Vienna)"
      ],
      "metadata": {
        "colab": {
          "base_uri": "https://localhost:8080/"
        },
        "id": "SKv15YJuwaoj",
        "outputId": "05223bcc-1aeb-49d2-e0ef-db5f46919626"
      },
      "execution_count": null,
      "outputs": [
        {
          "output_type": "execute_result",
          "data": {
            "text/plain": [
              "(15, 15, 15)"
            ]
          },
          "metadata": {},
          "execution_count": 6
        }
      ]
    },
    {
      "cell_type": "code",
      "source": [
        "np.sum(Countries=='Austria')"
      ],
      "metadata": {
        "colab": {
          "base_uri": "https://localhost:8080/"
        },
        "id": "V907LdVZwnjE",
        "outputId": "279b42f5-5b78-4658-ed20-0ddf0e51128e"
      },
      "execution_count": null,
      "outputs": [
        {
          "output_type": "execute_result",
          "data": {
            "text/plain": [
              "9"
            ]
          },
          "metadata": {},
          "execution_count": 15
        }
      ]
    },
    {
      "cell_type": "code",
      "source": [
        "np.sum(Countries=='Germany')"
      ],
      "metadata": {
        "colab": {
          "base_uri": "https://localhost:8080/"
        },
        "id": "XL2blwaixUdM",
        "outputId": "2f0d7caa-b4d5-4a05-be93-bdcc7cb07353"
      },
      "execution_count": null,
      "outputs": [
        {
          "output_type": "execute_result",
          "data": {
            "text/plain": [
              "6"
            ]
          },
          "metadata": {},
          "execution_count": 16
        }
      ]
    },
    {
      "cell_type": "code",
      "source": [
        "np.mean(Programming)"
      ],
      "metadata": {
        "colab": {
          "base_uri": "https://localhost:8080/"
        },
        "id": "1XROnTa3xmKp",
        "outputId": "c0755ad1-2264-4176-a870-07e6c7ab6228"
      },
      "execution_count": null,
      "outputs": [
        {
          "output_type": "execute_result",
          "data": {
            "text/plain": [
              "1.7333333333333334"
            ]
          },
          "metadata": {},
          "execution_count": 17
        }
      ]
    },
    {
      "cell_type": "code",
      "source": [
        "np.mean(Vienna)"
      ],
      "metadata": {
        "colab": {
          "base_uri": "https://localhost:8080/"
        },
        "id": "EH8TxWIUxr8g",
        "outputId": "a4b295c5-5a9e-401d-c780-c67684fbc8ad"
      },
      "execution_count": null,
      "outputs": [
        {
          "output_type": "execute_result",
          "data": {
            "text/plain": [
              "6.8"
            ]
          },
          "metadata": {},
          "execution_count": 18
        }
      ]
    },
    {
      "cell_type": "code",
      "source": [
        "Programming[Countries=='Germany']"
      ],
      "metadata": {
        "colab": {
          "base_uri": "https://localhost:8080/"
        },
        "id": "HFEg6G2GySms",
        "outputId": "8442e7b0-2e52-4492-fc38-5d45bd4466a5"
      },
      "execution_count": null,
      "outputs": [
        {
          "output_type": "execute_result",
          "data": {
            "text/plain": [
              "array([4.5, 3.5, 1. , 3. , 0. , 2. ])"
            ]
          },
          "metadata": {},
          "execution_count": 24
        }
      ]
    },
    {
      "cell_type": "code",
      "source": [
        "np.mean(Programming[Countries=='Germany'])"
      ],
      "metadata": {
        "colab": {
          "base_uri": "https://localhost:8080/"
        },
        "id": "1E9zIoLGxv9g",
        "outputId": "11cb98b0-ad5c-4038-8575-0685769c7b6a"
      },
      "execution_count": null,
      "outputs": [
        {
          "output_type": "execute_result",
          "data": {
            "text/plain": [
              "2.3333333333333335"
            ]
          },
          "metadata": {},
          "execution_count": 19
        }
      ]
    },
    {
      "cell_type": "code",
      "source": [
        "np.mean(Programming[Countries=='Austria'])"
      ],
      "metadata": {
        "colab": {
          "base_uri": "https://localhost:8080/"
        },
        "id": "i72DxCWtx6kb",
        "outputId": "827c789e-f776-4ac5-b631-986dcb1dac57"
      },
      "execution_count": null,
      "outputs": [
        {
          "output_type": "execute_result",
          "data": {
            "text/plain": [
              "1.3333333333333333"
            ]
          },
          "metadata": {},
          "execution_count": 20
        }
      ]
    },
    {
      "cell_type": "code",
      "source": [
        "np.mean(Vienna[Countries=='Austria']),np.mean(Vienna[Countries=='Germany'])"
      ],
      "metadata": {
        "colab": {
          "base_uri": "https://localhost:8080/"
        },
        "id": "w0ArkIbzyJIL",
        "outputId": "19e8b5b0-19f3-4aa0-d598-89148ba2995b"
      },
      "execution_count": null,
      "outputs": [
        {
          "output_type": "execute_result",
          "data": {
            "text/plain": [
              "(7.444444444444445, 5.833333333333333)"
            ]
          },
          "metadata": {},
          "execution_count": 22
        }
      ]
    },
    {
      "cell_type": "code",
      "source": [
        "plt.scatter(Programming,Vienna,c=Countries=='Austria',s=60,alpha=.5)\n",
        "plt.xlabel('Programming expertize',fontsize=15)\n",
        "plt.ylabel('years in Vienna',fontsize=15)\n"
      ],
      "metadata": {
        "colab": {
          "base_uri": "https://localhost:8080/",
          "height": 301
        },
        "id": "6S2fGqj1yvyE",
        "outputId": "ef9c3021-eff0-4f45-d2e3-32ddfa96a6f5"
      },
      "execution_count": null,
      "outputs": [
        {
          "output_type": "execute_result",
          "data": {
            "text/plain": [
              "Text(0, 0.5, 'years in Vienna')"
            ]
          },
          "metadata": {},
          "execution_count": 38
        },
        {
          "output_type": "display_data",
          "data": {
            "text/plain": [
              "<Figure size 432x288 with 1 Axes>"
            ],
            "image/png": "[encoded data removed]"
          },
          "metadata": {
            "needs_background": "light"
          }
        }
      ]
    },
    {
      "cell_type": "code",
      "source": [
        "plt.scatter(np.arange(len(Vienna)),Vienna,c=Programming,s=60)\n",
        "plt.xlabel('Student number',fontsize=15)\n",
        "plt.ylabel('years in Vienna',fontsize=15)\n",
        "plt.colorbar()\n"
      ],
      "metadata": {
        "colab": {
          "base_uri": "https://localhost:8080/",
          "height": 305
        },
        "id": "xp6RN_p_9Jfg",
        "outputId": "39bd8fb6-ed99-4f9b-bbdb-7bf167bb7c31"
      },
      "execution_count": null,
      "outputs": [
        {
          "output_type": "execute_result",
          "data": {
            "text/plain": [
              "<matplotlib.colorbar.Colorbar at 0x7f39d8822410>"
            ]
          },
          "metadata": {},
          "execution_count": 6
        },
        {
          "output_type": "display_data",
          "data": {
            "text/plain": [
              "<Figure size 432x288 with 2 Axes>"
            ],
            "image/png": "[encoded data removed]"
          },
          "metadata": {
            "needs_background": "light"
          }
        }
      ]
    }
  ]
}