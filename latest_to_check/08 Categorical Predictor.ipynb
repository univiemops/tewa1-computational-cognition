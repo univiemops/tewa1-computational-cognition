{
 "cells": [
  {
   "cell_type": "markdown",
   "metadata": {
    "id": "J-1n3wXvRkNj"
   },
   "source": [
    "## TEWA 1 tutorial\n",
    "\n",
    "regression modelling\n",
    "\n",
    "*   Categorical predictors\n",
    "*   Interactions\n",
    "*   Training and test set\n",
    "*   Reguralized regression: Ridge and lasso\n",
    "\n",
    "\n",
    "\n",
    "### import libraries\n"
   ]
  },
  {
   "cell_type": "code",
   "execution_count": null,
   "metadata": {
    "id": "xYKPgkYizkzq"
   },
   "outputs": [],
   "source": [
    "import numpy as np\n",
    "import matplotlib.pyplot as plt\n",
    "from scipy import io, stats, linalg\n",
    "import pandas as pd\n",
    "from sklearn.linear_model import LinearRegression, Lasso, Ridge"
   ]
  },
  {
   "cell_type": "markdown",
   "metadata": {
    "id": "PV0G57XlR-fu"
   },
   "source": [
    "### upload data -  kidiq.csv\n",
    "\n",
    "source: Gelman et al (2021). Regression and other stories"
   ]
  },
  {
   "cell_type": "code",
   "execution_count": null,
   "metadata": {
    "colab": {
     "base_uri": "https://localhost:8080/",
     "height": 73
    },
    "id": "66IvUridA6rm",
    "outputId": "b1be2daf-22a2-4599-e0d4-4e6cf2eb6dee"
   },
   "outputs": [
    {
     "data": {
      "text/html": [
       "\n",
       "     <input type=\"file\" id=\"files-52498012-2f3b-4321-b10d-17a5ddc8cd17\" name=\"files[]\" multiple disabled\n",
       "        style=\"border:none\" />\n",
       "     <output id=\"result-52498012-2f3b-4321-b10d-17a5ddc8cd17\">\n",
       "      Upload widget is only available when the cell has been executed in the\n",
       "      current browser session. Please rerun this cell to enable.\n",
       "      </output>\n",
       "      <script>// Copyright 2017 Google LLC\n",
       "//\n",
       "// Licensed under the Apache License, Version 2.0 (the \"License\");\n",
       "// you may not use this file except in compliance with the License.\n",
       "// You may obtain a copy of the License at\n",
       "//\n",
       "//      http://www.apache.org/licenses/LICENSE-2.0\n",
       "//\n",
       "// Unless required by applicable law or agreed to in writing, software\n",
       "// distributed under the License is distributed on an \"AS IS\" BASIS,\n",
       "// WITHOUT WARRANTIES OR CONDITIONS OF ANY KIND, either express or implied.\n",
       "// See the License for the specific language governing permissions and\n",
       "// limitations under the License.\n",
       "\n",
       "/**\n",
       " * @fileoverview Helpers for google.colab Python module.\n",
       " */\n",
       "(function(scope) {\n",
       "function span(text, styleAttributes = {}) {\n",
       "  const element = document.createElement('span');\n",
       "  element.textContent = text;\n",
       "  for (const key of Object.keys(styleAttributes)) {\n",
       "    element.style[key] = styleAttributes[key];\n",
       "  }\n",
       "  return element;\n",
       "}\n",
       "\n",
       "// Max number of bytes which will be uploaded at a time.\n",
       "const MAX_PAYLOAD_SIZE = 100 * 1024;\n",
       "\n",
       "function _uploadFiles(inputId, outputId) {\n",
       "  const steps = uploadFilesStep(inputId, outputId);\n",
       "  const outputElement = document.getElementById(outputId);\n",
       "  // Cache steps on the outputElement to make it available for the next call\n",
       "  // to uploadFilesContinue from Python.\n",
       "  outputElement.steps = steps;\n",
       "\n",
       "  return _uploadFilesContinue(outputId);\n",
       "}\n",
       "\n",
       "// This is roughly an async generator (not supported in the browser yet),\n",
       "// where there are multiple asynchronous steps and the Python side is going\n",
       "// to poll for completion of each step.\n",
       "// This uses a Promise to block the python side on completion of each step,\n",
       "// then passes the result of the previous step as the input to the next step.\n",
       "function _uploadFilesContinue(outputId) {\n",
       "  const outputElement = document.getElementById(outputId);\n",
       "  const steps = outputElement.steps;\n",
       "\n",
       "  const next = steps.next(outputElement.lastPromiseValue);\n",
       "  return Promise.resolve(next.value.promise).then((value) => {\n",
       "    // Cache the last promise value to make it available to the next\n",
       "    // step of the generator.\n",
       "    outputElement.lastPromiseValue = value;\n",
       "    return next.value.response;\n",
       "  });\n",
       "}\n",
       "\n",
       "/**\n",
       " * Generator function which is called between each async step of the upload\n",
       " * process.\n",
       " * @param {string} inputId Element ID of the input file picker element.\n",
       " * @param {string} outputId Element ID of the output display.\n",
       " * @return {!Iterable<!Object>} Iterable of next steps.\n",
       " */\n",
       "function* uploadFilesStep(inputId, outputId) {\n",
       "  const inputElement = document.getElementById(inputId);\n",
       "  inputElement.disabled = false;\n",
       "\n",
       "  const outputElement = document.getElementById(outputId);\n",
       "  outputElement.innerHTML = '';\n",
       "\n",
       "  const pickedPromise = new Promise((resolve) => {\n",
       "    inputElement.addEventListener('change', (e) => {\n",
       "      resolve(e.target.files);\n",
       "    });\n",
       "  });\n",
       "\n",
       "  const cancel = document.createElement('button');\n",
       "  inputElement.parentElement.appendChild(cancel);\n",
       "  cancel.textContent = 'Cancel upload';\n",
       "  const cancelPromise = new Promise((resolve) => {\n",
       "    cancel.onclick = () => {\n",
       "      resolve(null);\n",
       "    };\n",
       "  });\n",
       "\n",
       "  // Wait for the user to pick the files.\n",
       "  const files = yield {\n",
       "    promise: Promise.race([pickedPromise, cancelPromise]),\n",
       "    response: {\n",
       "      action: 'starting',\n",
       "    }\n",
       "  };\n",
       "\n",
       "  cancel.remove();\n",
       "\n",
       "  // Disable the input element since further picks are not allowed.\n",
       "  inputElement.disabled = true;\n",
       "\n",
       "  if (!files) {\n",
       "    return {\n",
       "      response: {\n",
       "        action: 'complete',\n",
       "      }\n",
       "    };\n",
       "  }\n",
       "\n",
       "  for (const file of files) {\n",
       "    const li = document.createElement('li');\n",
       "    li.append(span(file.name, {fontWeight: 'bold'}));\n",
       "    li.append(span(\n",
       "        `(${file.type || 'n/a'}) - ${file.size} bytes, ` +\n",
       "        `last modified: ${\n",
       "            file.lastModifiedDate ? file.lastModifiedDate.toLocaleDateString() :\n",
       "                                    'n/a'} - `));\n",
       "    const percent = span('0% done');\n",
       "    li.appendChild(percent);\n",
       "\n",
       "    outputElement.appendChild(li);\n",
       "\n",
       "    const fileDataPromise = new Promise((resolve) => {\n",
       "      const reader = new FileReader();\n",
       "      reader.onload = (e) => {\n",
       "        resolve(e.target.result);\n",
       "      };\n",
       "      reader.readAsArrayBuffer(file);\n",
       "    });\n",
       "    // Wait for the data to be ready.\n",
       "    let fileData = yield {\n",
       "      promise: fileDataPromise,\n",
       "      response: {\n",
       "        action: 'continue',\n",
       "      }\n",
       "    };\n",
       "\n",
       "    // Use a chunked sending to avoid message size limits. See b/62115660.\n",
       "    let position = 0;\n",
       "    do {\n",
       "      const length = Math.min(fileData.byteLength - position, MAX_PAYLOAD_SIZE);\n",
       "      const chunk = new Uint8Array(fileData, position, length);\n",
       "      position += length;\n",
       "\n",
       "      const base64 = btoa(String.fromCharCode.apply(null, chunk));\n",
       "      yield {\n",
       "        response: {\n",
       "          action: 'append',\n",
       "          file: file.name,\n",
       "          data: base64,\n",
       "        },\n",
       "      };\n",
       "\n",
       "      let percentDone = fileData.byteLength === 0 ?\n",
       "          100 :\n",
       "          Math.round((position / fileData.byteLength) * 100);\n",
       "      percent.textContent = `${percentDone}% done`;\n",
       "\n",
       "    } while (position < fileData.byteLength);\n",
       "  }\n",
       "\n",
       "  // All done.\n",
       "  yield {\n",
       "    response: {\n",
       "      action: 'complete',\n",
       "    }\n",
       "  };\n",
       "}\n",
       "\n",
       "scope.google = scope.google || {};\n",
       "scope.google.colab = scope.google.colab || {};\n",
       "scope.google.colab._files = {\n",
       "  _uploadFiles,\n",
       "  _uploadFilesContinue,\n",
       "};\n",
       "})(self);\n",
       "</script> "
      ],
      "text/plain": [
       "<IPython.core.display.HTML object>"
      ]
     },
     "metadata": {},
     "output_type": "display_data"
    },
    {
     "name": "stdout",
     "output_type": "stream",
     "text": [
      "Saving kidiq.csv to kidiq.csv\n"
     ]
    }
   ],
   "source": [
    "from google.colab import files\n",
    "\n",
    "uploaded = files.upload()"
   ]
  },
  {
   "cell_type": "markdown",
   "metadata": {
    "id": "qkytrLJXSbPL"
   },
   "source": [
    "### load data to workspace"
   ]
  },
  {
   "cell_type": "code",
   "execution_count": null,
   "metadata": {
    "id": "_MXOsMdkSYGM"
   },
   "outputs": [],
   "source": [
    "data = pd.read_csv(\"kidiq.csv\")"
   ]
  },
  {
   "cell_type": "markdown",
   "metadata": {
    "id": "mE1ADoFYSggc"
   },
   "source": [
    "## print data table, explore number of potential predictors, data-set size"
   ]
  },
  {
   "cell_type": "code",
   "execution_count": null,
   "metadata": {
    "colab": {
     "base_uri": "https://localhost:8080/",
     "height": 441
    },
    "id": "egmqytVLSqHc",
    "outputId": "6a144e40-5ac7-4926-c474-a0764b9a3920"
   },
   "outputs": [
    {
     "name": "stdout",
     "output_type": "stream",
     "text": [
      "(434, 5)\n"
     ]
    },
    {
     "data": {
      "text/html": [
       "\n",
       "  <div id=\"df-fd20990d-316f-4fe7-a20f-2e51db47e66f\">\n",
       "    <div class=\"colab-df-container\">\n",
       "      <div>\n",
       "<style scoped>\n",
       "    .dataframe tbody tr th:only-of-type {\n",
       "        vertical-align: middle;\n",
       "    }\n",
       "\n",
       "    .dataframe tbody tr th {\n",
       "        vertical-align: top;\n",
       "    }\n",
       "\n",
       "    .dataframe thead th {\n",
       "        text-align: right;\n",
       "    }\n",
       "</style>\n",
       "<table border=\"1\" class=\"dataframe\">\n",
       "  <thead>\n",
       "    <tr style=\"text-align: right;\">\n",
       "      <th></th>\n",
       "      <th>kid_score</th>\n",
       "      <th>mom_hs</th>\n",
       "      <th>mom_iq</th>\n",
       "      <th>mom_work</th>\n",
       "      <th>mom_age</th>\n",
       "    </tr>\n",
       "  </thead>\n",
       "  <tbody>\n",
       "    <tr>\n",
       "      <th>0</th>\n",
       "      <td>65</td>\n",
       "      <td>1</td>\n",
       "      <td>121.117529</td>\n",
       "      <td>4</td>\n",
       "      <td>27</td>\n",
       "    </tr>\n",
       "    <tr>\n",
       "      <th>1</th>\n",
       "      <td>98</td>\n",
       "      <td>1</td>\n",
       "      <td>89.361882</td>\n",
       "      <td>4</td>\n",
       "      <td>25</td>\n",
       "    </tr>\n",
       "    <tr>\n",
       "      <th>2</th>\n",
       "      <td>85</td>\n",
       "      <td>1</td>\n",
       "      <td>115.443165</td>\n",
       "      <td>4</td>\n",
       "      <td>27</td>\n",
       "    </tr>\n",
       "    <tr>\n",
       "      <th>3</th>\n",
       "      <td>83</td>\n",
       "      <td>1</td>\n",
       "      <td>99.449639</td>\n",
       "      <td>3</td>\n",
       "      <td>25</td>\n",
       "    </tr>\n",
       "    <tr>\n",
       "      <th>4</th>\n",
       "      <td>115</td>\n",
       "      <td>1</td>\n",
       "      <td>92.745710</td>\n",
       "      <td>4</td>\n",
       "      <td>27</td>\n",
       "    </tr>\n",
       "    <tr>\n",
       "      <th>...</th>\n",
       "      <td>...</td>\n",
       "      <td>...</td>\n",
       "      <td>...</td>\n",
       "      <td>...</td>\n",
       "      <td>...</td>\n",
       "    </tr>\n",
       "    <tr>\n",
       "      <th>429</th>\n",
       "      <td>94</td>\n",
       "      <td>0</td>\n",
       "      <td>84.877412</td>\n",
       "      <td>4</td>\n",
       "      <td>21</td>\n",
       "    </tr>\n",
       "    <tr>\n",
       "      <th>430</th>\n",
       "      <td>76</td>\n",
       "      <td>1</td>\n",
       "      <td>92.990392</td>\n",
       "      <td>4</td>\n",
       "      <td>23</td>\n",
       "    </tr>\n",
       "    <tr>\n",
       "      <th>431</th>\n",
       "      <td>50</td>\n",
       "      <td>0</td>\n",
       "      <td>94.859708</td>\n",
       "      <td>2</td>\n",
       "      <td>24</td>\n",
       "    </tr>\n",
       "    <tr>\n",
       "      <th>432</th>\n",
       "      <td>88</td>\n",
       "      <td>1</td>\n",
       "      <td>96.856624</td>\n",
       "      <td>2</td>\n",
       "      <td>21</td>\n",
       "    </tr>\n",
       "    <tr>\n",
       "      <th>433</th>\n",
       "      <td>70</td>\n",
       "      <td>1</td>\n",
       "      <td>91.253336</td>\n",
       "      <td>2</td>\n",
       "      <td>25</td>\n",
       "    </tr>\n",
       "  </tbody>\n",
       "</table>\n",
       "<p>434 rows × 5 columns</p>\n",
       "</div>\n",
       "      <button class=\"colab-df-convert\" onclick=\"convertToInteractive('df-fd20990d-316f-4fe7-a20f-2e51db47e66f')\"\n",
       "              title=\"Convert this dataframe to an interactive table.\"\n",
       "              style=\"display:none;\">\n",
       "        \n",
       "  <svg xmlns=\"http://www.w3.org/2000/svg\" height=\"24px\"viewBox=\"0 0 24 24\"\n",
       "       width=\"24px\">\n",
       "    <path d=\"M0 0h24v24H0V0z\" fill=\"none\"/>\n",
       "    <path d=\"M18.56 5.44l.94 2.06.94-2.06 2.06-.94-2.06-.94-.94-2.06-.94 2.06-2.06.94zm-11 1L8.5 8.5l.94-2.06 2.06-.94-2.06-.94L8.5 2.5l-.94 2.06-2.06.94zm10 10l.94 2.06.94-2.06 2.06-.94-2.06-.94-.94-2.06-.94 2.06-2.06.94z\"/><path d=\"M17.41 7.96l-1.37-1.37c-.4-.4-.92-.59-1.43-.59-.52 0-1.04.2-1.43.59L10.3 9.45l-7.72 7.72c-.78.78-.78 2.05 0 2.83L4 21.41c.39.39.9.59 1.41.59.51 0 1.02-.2 1.41-.59l7.78-7.78 2.81-2.81c.8-.78.8-2.07 0-2.86zM5.41 20L4 18.59l7.72-7.72 1.47 1.35L5.41 20z\"/>\n",
       "  </svg>\n",
       "      </button>\n",
       "      \n",
       "  <style>\n",
       "    .colab-df-container {\n",
       "      display:flex;\n",
       "      flex-wrap:wrap;\n",
       "      gap: 12px;\n",
       "    }\n",
       "\n",
       "    .colab-df-convert {\n",
       "      background-color: #E8F0FE;\n",
       "      border: none;\n",
       "      border-radius: 50%;\n",
       "      cursor: pointer;\n",
       "      display: none;\n",
       "      fill: #1967D2;\n",
       "      height: 32px;\n",
       "      padding: 0 0 0 0;\n",
       "      width: 32px;\n",
       "    }\n",
       "\n",
       "    .colab-df-convert:hover {\n",
       "      background-color: #E2EBFA;\n",
       "      box-shadow: 0px 1px 2px rgba(60, 64, 67, 0.3), 0px 1px 3px 1px rgba(60, 64, 67, 0.15);\n",
       "      fill: #174EA6;\n",
       "    }\n",
       "\n",
       "    [theme=dark] .colab-df-convert {\n",
       "      background-color: #3B4455;\n",
       "      fill: #D2E3FC;\n",
       "    }\n",
       "\n",
       "    [theme=dark] .colab-df-convert:hover {\n",
       "      background-color: #434B5C;\n",
       "      box-shadow: 0px 1px 3px 1px rgba(0, 0, 0, 0.15);\n",
       "      filter: drop-shadow(0px 1px 2px rgba(0, 0, 0, 0.3));\n",
       "      fill: #FFFFFF;\n",
       "    }\n",
       "  </style>\n",
       "\n",
       "      <script>\n",
       "        const buttonEl =\n",
       "          document.querySelector('#df-fd20990d-316f-4fe7-a20f-2e51db47e66f button.colab-df-convert');\n",
       "        buttonEl.style.display =\n",
       "          google.colab.kernel.accessAllowed ? 'block' : 'none';\n",
       "\n",
       "        async function convertToInteractive(key) {\n",
       "          const element = document.querySelector('#df-fd20990d-316f-4fe7-a20f-2e51db47e66f');\n",
       "          const dataTable =\n",
       "            await google.colab.kernel.invokeFunction('convertToInteractive',\n",
       "                                                     [key], {});\n",
       "          if (!dataTable) return;\n",
       "\n",
       "          const docLinkHtml = 'Like what you see? Visit the ' +\n",
       "            '<a target=\"_blank\" href=https://colab.research.google.com/notebooks/data_table.ipynb>data table notebook</a>'\n",
       "            + ' to learn more about interactive tables.';\n",
       "          element.innerHTML = '';\n",
       "          dataTable['output_type'] = 'display_data';\n",
       "          await google.colab.output.renderOutput(dataTable, element);\n",
       "          const docLink = document.createElement('div');\n",
       "          docLink.innerHTML = docLinkHtml;\n",
       "          element.appendChild(docLink);\n",
       "        }\n",
       "      </script>\n",
       "    </div>\n",
       "  </div>\n",
       "  "
      ],
      "text/plain": [
       "     kid_score  mom_hs      mom_iq  mom_work  mom_age\n",
       "0           65       1  121.117529         4       27\n",
       "1           98       1   89.361882         4       25\n",
       "2           85       1  115.443165         4       27\n",
       "3           83       1   99.449639         3       25\n",
       "4          115       1   92.745710         4       27\n",
       "..         ...     ...         ...       ...      ...\n",
       "429         94       0   84.877412         4       21\n",
       "430         76       1   92.990392         4       23\n",
       "431         50       0   94.859708         2       24\n",
       "432         88       1   96.856624         2       21\n",
       "433         70       1   91.253336         2       25\n",
       "\n",
       "[434 rows x 5 columns]"
      ]
     },
     "execution_count": 6,
     "metadata": {},
     "output_type": "execute_result"
    }
   ],
   "source": [
    "print(np.shape(data))\n",
    "data"
   ]
  },
  {
   "cell_type": "code",
   "execution_count": null,
   "metadata": {
    "colab": {
     "base_uri": "https://localhost:8080/",
     "height": 206
    },
    "id": "ZFb3azYAjiPt",
    "outputId": "086c0e5a-dd53-4ace-8e6b-2d99c98b2cec"
   },
   "outputs": [
    {
     "data": {
      "text/html": [
       "\n",
       "  <div id=\"df-95103cb3-44cd-495d-9cca-937a6a174a88\">\n",
       "    <div class=\"colab-df-container\">\n",
       "      <div>\n",
       "<style scoped>\n",
       "    .dataframe tbody tr th:only-of-type {\n",
       "        vertical-align: middle;\n",
       "    }\n",
       "\n",
       "    .dataframe tbody tr th {\n",
       "        vertical-align: top;\n",
       "    }\n",
       "\n",
       "    .dataframe thead th {\n",
       "        text-align: right;\n",
       "    }\n",
       "</style>\n",
       "<table border=\"1\" class=\"dataframe\">\n",
       "  <thead>\n",
       "    <tr style=\"text-align: right;\">\n",
       "      <th></th>\n",
       "      <th>kid_score</th>\n",
       "      <th>mom_hs</th>\n",
       "      <th>mom_iq</th>\n",
       "      <th>mom_work</th>\n",
       "      <th>mom_age</th>\n",
       "    </tr>\n",
       "  </thead>\n",
       "  <tbody>\n",
       "    <tr>\n",
       "      <th>kid_score</th>\n",
       "      <td>1.000000</td>\n",
       "      <td>0.236916</td>\n",
       "      <td>0.448276</td>\n",
       "      <td>0.087528</td>\n",
       "      <td>0.091998</td>\n",
       "    </tr>\n",
       "    <tr>\n",
       "      <th>mom_hs</th>\n",
       "      <td>0.236916</td>\n",
       "      <td>1.000000</td>\n",
       "      <td>0.282709</td>\n",
       "      <td>0.253910</td>\n",
       "      <td>0.214528</td>\n",
       "    </tr>\n",
       "    <tr>\n",
       "      <th>mom_iq</th>\n",
       "      <td>0.448276</td>\n",
       "      <td>0.282709</td>\n",
       "      <td>1.000000</td>\n",
       "      <td>0.114803</td>\n",
       "      <td>0.091608</td>\n",
       "    </tr>\n",
       "    <tr>\n",
       "      <th>mom_work</th>\n",
       "      <td>0.087528</td>\n",
       "      <td>0.253910</td>\n",
       "      <td>0.114803</td>\n",
       "      <td>1.000000</td>\n",
       "      <td>0.135598</td>\n",
       "    </tr>\n",
       "    <tr>\n",
       "      <th>mom_age</th>\n",
       "      <td>0.091998</td>\n",
       "      <td>0.214528</td>\n",
       "      <td>0.091608</td>\n",
       "      <td>0.135598</td>\n",
       "      <td>1.000000</td>\n",
       "    </tr>\n",
       "  </tbody>\n",
       "</table>\n",
       "</div>\n",
       "      <button class=\"colab-df-convert\" onclick=\"convertToInteractive('df-95103cb3-44cd-495d-9cca-937a6a174a88')\"\n",
       "              title=\"Convert this dataframe to an interactive table.\"\n",
       "              style=\"display:none;\">\n",
       "        \n",
       "  <svg xmlns=\"http://www.w3.org/2000/svg\" height=\"24px\"viewBox=\"0 0 24 24\"\n",
       "       width=\"24px\">\n",
       "    <path d=\"M0 0h24v24H0V0z\" fill=\"none\"/>\n",
       "    <path d=\"M18.56 5.44l.94 2.06.94-2.06 2.06-.94-2.06-.94-.94-2.06-.94 2.06-2.06.94zm-11 1L8.5 8.5l.94-2.06 2.06-.94-2.06-.94L8.5 2.5l-.94 2.06-2.06.94zm10 10l.94 2.06.94-2.06 2.06-.94-2.06-.94-.94-2.06-.94 2.06-2.06.94z\"/><path d=\"M17.41 7.96l-1.37-1.37c-.4-.4-.92-.59-1.43-.59-.52 0-1.04.2-1.43.59L10.3 9.45l-7.72 7.72c-.78.78-.78 2.05 0 2.83L4 21.41c.39.39.9.59 1.41.59.51 0 1.02-.2 1.41-.59l7.78-7.78 2.81-2.81c.8-.78.8-2.07 0-2.86zM5.41 20L4 18.59l7.72-7.72 1.47 1.35L5.41 20z\"/>\n",
       "  </svg>\n",
       "      </button>\n",
       "      \n",
       "  <style>\n",
       "    .colab-df-container {\n",
       "      display:flex;\n",
       "      flex-wrap:wrap;\n",
       "      gap: 12px;\n",
       "    }\n",
       "\n",
       "    .colab-df-convert {\n",
       "      background-color: #E8F0FE;\n",
       "      border: none;\n",
       "      border-radius: 50%;\n",
       "      cursor: pointer;\n",
       "      display: none;\n",
       "      fill: #1967D2;\n",
       "      height: 32px;\n",
       "      padding: 0 0 0 0;\n",
       "      width: 32px;\n",
       "    }\n",
       "\n",
       "    .colab-df-convert:hover {\n",
       "      background-color: #E2EBFA;\n",
       "      box-shadow: 0px 1px 2px rgba(60, 64, 67, 0.3), 0px 1px 3px 1px rgba(60, 64, 67, 0.15);\n",
       "      fill: #174EA6;\n",
       "    }\n",
       "\n",
       "    [theme=dark] .colab-df-convert {\n",
       "      background-color: #3B4455;\n",
       "      fill: #D2E3FC;\n",
       "    }\n",
       "\n",
       "    [theme=dark] .colab-df-convert:hover {\n",
       "      background-color: #434B5C;\n",
       "      box-shadow: 0px 1px 3px 1px rgba(0, 0, 0, 0.15);\n",
       "      filter: drop-shadow(0px 1px 2px rgba(0, 0, 0, 0.3));\n",
       "      fill: #FFFFFF;\n",
       "    }\n",
       "  </style>\n",
       "\n",
       "      <script>\n",
       "        const buttonEl =\n",
       "          document.querySelector('#df-95103cb3-44cd-495d-9cca-937a6a174a88 button.colab-df-convert');\n",
       "        buttonEl.style.display =\n",
       "          google.colab.kernel.accessAllowed ? 'block' : 'none';\n",
       "\n",
       "        async function convertToInteractive(key) {\n",
       "          const element = document.querySelector('#df-95103cb3-44cd-495d-9cca-937a6a174a88');\n",
       "          const dataTable =\n",
       "            await google.colab.kernel.invokeFunction('convertToInteractive',\n",
       "                                                     [key], {});\n",
       "          if (!dataTable) return;\n",
       "\n",
       "          const docLinkHtml = 'Like what you see? Visit the ' +\n",
       "            '<a target=\"_blank\" href=https://colab.research.google.com/notebooks/data_table.ipynb>data table notebook</a>'\n",
       "            + ' to learn more about interactive tables.';\n",
       "          element.innerHTML = '';\n",
       "          dataTable['output_type'] = 'display_data';\n",
       "          await google.colab.output.renderOutput(dataTable, element);\n",
       "          const docLink = document.createElement('div');\n",
       "          docLink.innerHTML = docLinkHtml;\n",
       "          element.appendChild(docLink);\n",
       "        }\n",
       "      </script>\n",
       "    </div>\n",
       "  </div>\n",
       "  "
      ],
      "text/plain": [
       "           kid_score    mom_hs    mom_iq  mom_work   mom_age\n",
       "kid_score   1.000000  0.236916  0.448276  0.087528  0.091998\n",
       "mom_hs      0.236916  1.000000  0.282709  0.253910  0.214528\n",
       "mom_iq      0.448276  0.282709  1.000000  0.114803  0.091608\n",
       "mom_work    0.087528  0.253910  0.114803  1.000000  0.135598\n",
       "mom_age     0.091998  0.214528  0.091608  0.135598  1.000000"
      ]
     },
     "execution_count": 7,
     "metadata": {},
     "output_type": "execute_result"
    }
   ],
   "source": [
    "data.corr()"
   ]
  },
  {
   "cell_type": "markdown",
   "metadata": {
    "id": "nZTrIyQ3Sq6b"
   },
   "source": [
    "### Visualize some of the data"
   ]
  },
  {
   "cell_type": "code",
   "execution_count": null,
   "metadata": {
    "colab": {
     "base_uri": "https://localhost:8080/",
     "height": 297
    },
    "id": "BG5Wg7trSsWz",
    "outputId": "b665c9b9-ea33-46ef-bd70-bd978520adaf"
   },
   "outputs": [
    {
     "data": {
      "image/png": "[encoded data removed]",
      "text/plain": [
       "<Figure size 432x288 with 2 Axes>"
      ]
     },
     "metadata": {
      "needs_background": "light"
     },
     "output_type": "display_data"
    }
   ],
   "source": [
    "fig, ax = plt.subplots(ncols=2)\n",
    "ax[0].scatter(data[\"mom_iq\"], data[\"kid_score\"], color=\"salmon\", alpha=0.4)\n",
    "ax[0].set_xlabel(\"mom_iq\")\n",
    "ax[0].set_ylabel(\"kid_score\")\n",
    "\n",
    "ax[1].scatter(data[\"mom_hs\"], data[\"kid_score\"], alpha=0.2, color=\"salmon\")\n",
    "ax[1].set_xlabel(\"mom high school\")\n",
    "ax[1].set_ylabel(\"kid_score\")\n",
    "ax[1].set_xticks([0, 1])\n",
    "\n",
    "ax[1].set_xlim([-0.5, 1.5])\n",
    "plt.tight_layout()"
   ]
  },
  {
   "cell_type": "markdown",
   "metadata": {
    "id": "roegl4j1TM1H"
   },
   "source": [
    "## fit a linear regression, using two predictors 'mom_hs' and 'mom_iq'"
   ]
  },
  {
   "cell_type": "code",
   "execution_count": null,
   "metadata": {
    "id": "qlRXXvomnj1M"
   },
   "outputs": [],
   "source": [
    "x = np.column_stack((data[\"mom_iq\"], data[\"mom_hs\"]))"
   ]
  },
  {
   "cell_type": "code",
   "execution_count": null,
   "metadata": {
    "colab": {
     "base_uri": "https://localhost:8080/"
    },
    "id": "ATVlziw5Th7-",
    "outputId": "ab9eba42-6049-4469-c8e6-cd38b3eb7011"
   },
   "outputs": [
    {
     "data": {
      "text/plain": [
       "LinearRegression()"
      ]
     },
     "execution_count": 14,
     "metadata": {},
     "output_type": "execute_result"
    }
   ],
   "source": [
    "lr = linear_regression()\n",
    "lr.fit(x, data[\"kid_score\"])"
   ]
  },
  {
   "cell_type": "markdown",
   "metadata": {
    "id": "gbU0L5TUTizM"
   },
   "source": [
    " ### check the predictor weigths, and the score of the model\n"
   ]
  },
  {
   "cell_type": "code",
   "execution_count": null,
   "metadata": {
    "colab": {
     "base_uri": "https://localhost:8080/"
    },
    "id": "v1f69NrCTrS-",
    "outputId": "7f5ae23b-a8a3-46a9-a7d2-a47e396c2680"
   },
   "outputs": [
    {
     "name": "stdout",
     "output_type": "stream",
     "text": [
      "intercept 25.731538175096077\n",
      "weights/slopes [0.56390605 5.95011691]\n",
      "score:  0.21414651708983612\n"
     ]
    }
   ],
   "source": [
    "print(\"intercept\", lr.intercept_)\n",
    "print(\"weights/slopes\", lr.coef_)\n",
    "print(\"score: \", lr.score(x, data[\"kid_score\"]))"
   ]
  },
  {
   "cell_type": "markdown",
   "metadata": {
    "id": "ZVCEx_OSTvMj"
   },
   "source": [
    "### visualize predictions and true data\n",
    "\n"
   ]
  },
  {
   "cell_type": "code",
   "execution_count": null,
   "metadata": {
    "colab": {
     "base_uri": "https://localhost:8080/",
     "height": 282
    },
    "id": "CWIi6lriT5st",
    "outputId": "264266d1-b5a4-4da1-9452-c7a692cf8b98"
   },
   "outputs": [
    {
     "data": {
      "text/plain": [
       "[<matplotlib.lines.Line2D at 0x7f42dff8e850>]"
      ]
     },
     "execution_count": 19,
     "metadata": {},
     "output_type": "execute_result"
    },
    {
     "data": {
      "image/png": "[encoded data removed]",
      "text/plain": [
       "<Figure size 432x288 with 1 Axes>"
      ]
     },
     "metadata": {
      "needs_background": "light"
     },
     "output_type": "display_data"
    }
   ],
   "source": [
    "plt.scatter(data[\"mom_iq\"], data[\"kid_score\"])\n",
    "\n",
    "ypred = lr.predict(x)\n",
    "plt.plot(data[\"mom_iq\"], ypred, color=\"r\")"
   ]
  },
  {
   "cell_type": "code",
   "execution_count": null,
   "metadata": {
    "colab": {
     "base_uri": "https://localhost:8080/"
    },
    "id": "Sa3Ui38CbML_",
    "outputId": "b6797ccf-aa36-4e70-aa7d-a85cfbed9aab"
   },
   "outputs": [
    {
     "data": {
      "text/plain": [
       "array([[121.1175286 ,   1.        ],\n",
       "       [ 89.36188171,   1.        ],\n",
       "       [115.44316488,   1.        ],\n",
       "       [ 99.44963944,   1.        ],\n",
       "       [ 92.74571   ,   1.        ],\n",
       "       [107.90183776,   0.        ],\n",
       "       [138.89310607,   1.        ],\n",
       "       [125.14511948,   1.        ],\n",
       "       [ 81.61952618,   1.        ],\n",
       "       [ 95.07306862,   1.        ],\n",
       "       [ 88.57699772,   1.        ],\n",
       "       [ 94.85970819,   1.        ],\n",
       "       [ 88.96280085,   1.        ],\n",
       "       [114.11429701,   1.        ],\n",
       "       [100.53407192,   0.        ],\n",
       "       [120.41914559,   1.        ],\n",
       "       [114.42687689,   1.        ],\n",
       "       [111.59235758,   1.        ],\n",
       "       [133.84922721,   1.        ],\n",
       "       [ 97.26480106,   0.        ],\n",
       "       [110.09680614,   1.        ],\n",
       "       [126.72399417,   1.        ],\n",
       "       [ 97.91159031,   1.        ],\n",
       "       [ 99.92572516,   1.        ],\n",
       "       [ 97.59500805,   0.        ],\n",
       "       [121.74801346,   1.        ],\n",
       "       [ 98.7480787 ,   1.        ],\n",
       "       [ 97.91525433,   1.        ],\n",
       "       [ 80.35855646,   1.        ],\n",
       "       [114.30786063,   1.        ],\n",
       "       [109.1383163 ,   1.        ],\n",
       "       [101.81717973,   1.        ],\n",
       "       [117.96510431,   1.        ],\n",
       "       [108.63349691,   0.        ],\n",
       "       [ 96.52861915,   1.        ],\n",
       "       [ 92.87137547,   1.        ],\n",
       "       [ 95.89813429,   1.        ],\n",
       "       [107.01545773,   1.        ],\n",
       "       [ 87.19701175,   1.        ],\n",
       "       [ 89.36188171,   1.        ],\n",
       "       [102.53098785,   1.        ],\n",
       "       [130.16686024,   1.        ],\n",
       "       [ 83.4141026 ,   1.        ],\n",
       "       [125.75346623,   1.        ],\n",
       "       [ 85.81037656,   0.        ],\n",
       "       [126.52007263,   1.        ],\n",
       "       [ 79.2030481 ,   1.        ],\n",
       "       [113.16590718,   1.        ],\n",
       "       [110.33138787,   1.        ],\n",
       "       [ 99.40922374,   1.        ],\n",
       "       [102.42552649,   1.        ],\n",
       "       [124.90043775,   1.        ],\n",
       "       [ 94.85970819,   1.        ],\n",
       "       [ 92.36856455,   1.        ],\n",
       "       [101.81717973,   1.        ],\n",
       "       [ 79.83353296,   0.        ],\n",
       "       [ 96.22613927,   1.        ],\n",
       "       [ 82.35547239,   0.        ],\n",
       "       [ 76.57564732,   0.        ],\n",
       "       [110.01348289,   1.        ],\n",
       "       [111.59235758,   1.        ],\n",
       "       [113.65740737,   1.        ],\n",
       "       [101.16455677,   0.        ],\n",
       "       [101.34109401,   1.        ],\n",
       "       [101.69816348,   1.        ],\n",
       "       [ 98.81915458,   1.        ],\n",
       "       [ 93.4981963 ,   1.        ],\n",
       "       [ 87.2938899 ,   1.        ],\n",
       "       [ 87.316028  ,   1.        ],\n",
       "       [ 86.20945742,   1.        ],\n",
       "       [ 89.83796743,   1.        ],\n",
       "       [121.87001491,   0.        ],\n",
       "       [127.54437863,   0.        ],\n",
       "       [109.99134478,   1.        ],\n",
       "       [ 90.44631419,   1.        ],\n",
       "       [ 88.8949027 ,   1.        ],\n",
       "       [113.04689092,   1.        ],\n",
       "       [ 78.01315427,   0.        ],\n",
       "       [ 95.38965088,   1.        ],\n",
       "       [ 83.61644211,   0.        ],\n",
       "       [ 86.24628061,   0.        ],\n",
       "       [ 95.38965088,   1.        ],\n",
       "       [111.2523145 ,   1.        ],\n",
       "       [127.01443595,   1.        ],\n",
       "       [ 89.95195087,   1.        ],\n",
       "       [ 99.2731022 ,   1.        ],\n",
       "       [ 81.16557856,   1.        ],\n",
       "       [110.52128747,   1.        ],\n",
       "       [136.49384692,   1.        ],\n",
       "       [123.86201166,   1.        ],\n",
       "       [134.60239234,   1.        ],\n",
       "       [ 91.09893715,   1.        ],\n",
       "       [103.26937177,   1.        ],\n",
       "       [126.28707293,   1.        ],\n",
       "       [127.54437863,   1.        ],\n",
       "       [ 92.4738903 ,   0.        ],\n",
       "       [ 84.79408857,   1.        ],\n",
       "       [100.53407192,   0.        ],\n",
       "       [108.00301206,   0.        ],\n",
       "       [ 78.80714497,   0.        ],\n",
       "       [121.1175286 ,   1.        ],\n",
       "       [103.05601135,   1.        ],\n",
       "       [100.43719376,   1.        ],\n",
       "       [ 88.55485962,   1.        ],\n",
       "       [ 85.30555717,   1.        ],\n",
       "       [119.44861765,   1.        ],\n",
       "       [ 90.55177555,   1.        ],\n",
       "       [ 96.33403834,   1.        ],\n",
       "       [127.6449208 ,   1.        ],\n",
       "       [119.85655889,   1.        ],\n",
       "       [112.0189209 ,   0.        ],\n",
       "       [ 92.514306  ,   1.        ],\n",
       "       [ 96.02379976,   1.        ],\n",
       "       [ 91.41684213,   1.        ],\n",
       "       [103.07814945,   1.        ],\n",
       "       [100.24363014,   1.        ],\n",
       "       [ 89.81582933,   1.        ],\n",
       "       [115.05736175,   1.        ],\n",
       "       [ 96.65062059,   0.        ],\n",
       "       [105.57795078,   1.        ],\n",
       "       [ 97.72169071,   1.        ],\n",
       "       [131.83577119,   1.        ],\n",
       "       [101.81717973,   1.        ],\n",
       "       [ 93.4981963 ,   1.        ],\n",
       "       [104.02653929,   1.        ],\n",
       "       [103.70863431,   1.        ],\n",
       "       [107.36886318,   0.        ],\n",
       "       [ 92.55112919,   1.        ],\n",
       "       [ 94.44258376,   1.        ],\n",
       "       [ 93.14479086,   1.        ],\n",
       "       [ 83.4141026 ,   1.        ],\n",
       "       [ 71.03740514,   1.        ],\n",
       "       [127.66705891,   1.        ],\n",
       "       [115.68784661,   1.        ],\n",
       "       [ 90.97625687,   0.        ],\n",
       "       [132.8653369 ,   1.        ],\n",
       "       [ 72.50229639,   1.        ],\n",
       "       [100.71060915,   1.        ],\n",
       "       [132.68879967,   1.        ],\n",
       "       [ 98.54573919,   1.        ],\n",
       "       [115.6657085 ,   1.        ],\n",
       "       [117.06279976,   1.        ],\n",
       "       [136.49384692,   1.        ],\n",
       "       [106.54847872,   1.        ],\n",
       "       [134.12630662,   1.        ],\n",
       "       [104.65702414,   1.        ],\n",
       "       [ 99.37856356,   1.        ],\n",
       "       [100.43719376,   1.        ],\n",
       "       [ 89.52538756,   1.        ],\n",
       "       [120.92294779,   1.        ],\n",
       "       [113.14376907,   1.        ],\n",
       "       [126.41474688,   1.        ],\n",
       "       [122.73716348,   1.        ],\n",
       "       [115.37526673,   1.        ],\n",
       "       [ 91.60674173,   1.        ],\n",
       "       [ 88.66032097,   1.        ],\n",
       "       [107.17896358,   1.        ],\n",
       "       [104.96960402,   1.        ],\n",
       "       [103.86303344,   1.        ],\n",
       "       [110.09680614,   1.        ],\n",
       "       [ 88.45431744,   0.        ],\n",
       "       [117.03213958,   0.        ],\n",
       "       [125.65658808,   1.        ],\n",
       "       [122.60104194,   1.        ],\n",
       "       [121.04963045,   1.        ],\n",
       "       [ 93.14479086,   1.        ],\n",
       "       [ 99.37856356,   1.        ],\n",
       "       [123.89280744,   1.        ],\n",
       "       [113.0432269 ,   0.        ],\n",
       "       [115.77116986,   1.        ],\n",
       "       [114.93834549,   1.        ],\n",
       "       [ 93.62087658,   1.        ],\n",
       "       [121.74801346,   1.        ],\n",
       "       [ 90.34943603,   1.        ],\n",
       "       [ 83.41043858,   0.        ],\n",
       "       [ 99.48646263,   1.        ],\n",
       "       [113.91037547,   1.        ],\n",
       "       [ 97.59500805,   1.        ],\n",
       "       [ 89.81582933,   1.        ],\n",
       "       [119.58473919,   1.        ],\n",
       "       [ 97.38164763,   0.        ],\n",
       "       [ 84.87741183,   1.        ],\n",
       "       [102.32864833,   1.        ],\n",
       "       [ 99.2731022 ,   1.        ],\n",
       "       [ 99.07504975,   0.        ],\n",
       "       [ 96.9277    ,   1.        ],\n",
       "       [108.31325064,   1.        ],\n",
       "       [100.53407192,   1.        ],\n",
       "       [ 99.48646263,   1.        ],\n",
       "       [113.98761436,   1.        ],\n",
       "       [ 92.77020117,   0.        ],\n",
       "       [ 88.02983612,   0.        ],\n",
       "       [106.11155748,   0.        ],\n",
       "       [103.23254858,   0.        ],\n",
       "       [ 99.2952403 ,   1.        ],\n",
       "       [106.74204234,   0.        ],\n",
       "       [ 99.17256003,   1.        ],\n",
       "       [102.44766459,   1.        ],\n",
       "       [ 92.86771145,   1.        ],\n",
       "       [116.82613605,   1.        ],\n",
       "       [ 85.42457343,   1.        ],\n",
       "       [115.56516633,   0.        ],\n",
       "       [113.17456486,   1.        ],\n",
       "       [106.8610586 ,   1.        ],\n",
       "       [ 95.83023613,   1.        ],\n",
       "       [ 77.10925402,   0.        ],\n",
       "       [ 89.29080583,   1.        ],\n",
       "       [112.41274204,   1.        ],\n",
       "       [110.64396774,   1.        ],\n",
       "       [109.53739716,   1.        ],\n",
       "       [107.90183776,   0.        ],\n",
       "       [104.96960402,   1.        ],\n",
       "       [107.68276578,   0.        ],\n",
       "       [109.46632128,   1.        ],\n",
       "       [133.53264495,   1.        ],\n",
       "       [128.80901237,   1.        ],\n",
       "       [101.27001813,   1.        ],\n",
       "       [ 87.316028  ,   1.        ],\n",
       "       [118.09076978,   1.        ],\n",
       "       [120.25563975,   1.        ],\n",
       "       [ 90.34577201,   1.        ],\n",
       "       [ 79.90460884,   1.        ],\n",
       "       [136.57717017,   1.        ],\n",
       "       [102.42552649,   1.        ],\n",
       "       [132.68879967,   1.        ],\n",
       "       [ 96.29721515,   1.        ],\n",
       "       [118.20978604,   1.        ],\n",
       "       [118.09076978,   1.        ],\n",
       "       [101.50459985,   1.        ],\n",
       "       [ 94.33468469,   0.        ],\n",
       "       [ 84.67140829,   1.        ],\n",
       "       [ 86.7688664 ,   1.        ],\n",
       "       [129.2459336 ,   1.        ],\n",
       "       [127.78104234,   1.        ],\n",
       "       [106.8610586 ,   1.        ],\n",
       "       [105.75448801,   1.        ],\n",
       "       [117.03213958,   1.        ],\n",
       "       [119.3517395 ,   1.        ],\n",
       "       [102.76556957,   1.        ],\n",
       "       [108.20535157,   0.        ],\n",
       "       [126.41474688,   1.        ],\n",
       "       [101.90050299,   1.        ],\n",
       "       [ 99.15625564,   0.        ],\n",
       "       [ 91.81274526,   1.        ],\n",
       "       [ 84.14146561,   1.        ],\n",
       "       [ 84.35482604,   1.        ],\n",
       "       [ 79.11972485,   1.        ],\n",
       "       [ 91.41684213,   1.        ],\n",
       "       [ 90.44631419,   1.        ],\n",
       "       [ 79.00070859,   1.        ],\n",
       "       [109.26398177,   1.        ],\n",
       "       [ 76.75218455,   1.        ],\n",
       "       [ 97.59500805,   1.        ],\n",
       "       [128.80901237,   1.        ],\n",
       "       [113.65740737,   0.        ],\n",
       "       [114.20668634,   0.        ],\n",
       "       [112.51328421,   1.        ],\n",
       "       [ 75.3368157 ,   0.        ],\n",
       "       [ 81.52264802,   0.        ],\n",
       "       [102.63888692,   1.        ],\n",
       "       [101.18669488,   1.        ],\n",
       "       [112.22284244,   1.        ],\n",
       "       [123.40806404,   0.        ],\n",
       "       [ 86.56652689,   1.        ],\n",
       "       [100.11694748,   1.        ],\n",
       "       [102.32864833,   1.        ],\n",
       "       [ 87.94651286,   1.        ],\n",
       "       [ 80.25801429,   0.        ],\n",
       "       [ 80.25801429,   0.        ],\n",
       "       [ 91.07679905,   1.        ],\n",
       "       [ 85.57897256,   1.        ],\n",
       "       [113.16590718,   1.        ],\n",
       "       [112.05933659,   1.        ],\n",
       "       [101.27001813,   1.        ],\n",
       "       [ 81.83288661,   0.        ],\n",
       "       [ 81.09450268,   0.        ],\n",
       "       [ 81.3290844 ,   1.        ],\n",
       "       [120.60904519,   1.        ],\n",
       "       [102.44766459,   1.        ],\n",
       "       [ 90.97625687,   1.        ],\n",
       "       [103.70863431,   1.        ],\n",
       "       [102.32864833,   1.        ],\n",
       "       [121.87001491,   1.        ],\n",
       "       [ 88.66032097,   0.        ],\n",
       "       [ 90.02918976,   0.        ],\n",
       "       [ 83.53311886,   0.        ],\n",
       "       [ 91.92064433,   1.        ],\n",
       "       [ 87.19334773,   1.        ],\n",
       "       [ 80.46401782,   0.        ],\n",
       "       [ 84.31800285,   0.        ],\n",
       "       [ 77.73973888,   0.        ],\n",
       "       [ 82.27214914,   0.        ],\n",
       "       [ 77.38266941,   1.        ],\n",
       "       [ 89.71528716,   1.        ],\n",
       "       [ 79.90460884,   0.        ],\n",
       "       [ 82.15313288,   1.        ],\n",
       "       [ 80.26167831,   0.        ],\n",
       "       [ 77.38266941,   0.        ],\n",
       "       [ 82.78361774,   0.        ],\n",
       "       [ 89.20748258,   1.        ],\n",
       "       [ 89.08846632,   1.        ],\n",
       "       [ 88.98729202,   0.        ],\n",
       "       [118.92359415,   1.        ],\n",
       "       [ 83.85102383,   1.        ],\n",
       "       [ 84.04458746,   1.        ],\n",
       "       [105.05292728,   1.        ],\n",
       "       [107.99934804,   1.        ],\n",
       "       [ 97.38164763,   1.        ],\n",
       "       [103.79195756,   1.        ],\n",
       "       [ 97.59500805,   0.        ],\n",
       "       [ 88.66032097,   1.        ],\n",
       "       [107.24686173,   1.        ],\n",
       "       [ 89.83796743,   1.        ],\n",
       "       [108.9069123 ,   1.        ],\n",
       "       [100.63953327,   1.        ],\n",
       "       [118.8402709 ,   1.        ],\n",
       "       [ 95.51233116,   1.        ],\n",
       "       [ 84.77195047,   1.        ],\n",
       "       [100.74743234,   1.        ],\n",
       "       [ 87.00344812,   1.        ],\n",
       "       [ 77.85875513,   0.        ],\n",
       "       [ 85.30189315,   1.        ],\n",
       "       [ 92.77020117,   1.        ],\n",
       "       [ 74.86072998,   1.        ],\n",
       "       [115.24858407,   1.        ],\n",
       "       [107.3725272 ,   1.        ],\n",
       "       [102.20298287,   1.        ],\n",
       "       [ 97.91159031,   1.        ],\n",
       "       [ 96.85662413,   1.        ],\n",
       "       [111.46567493,   1.        ],\n",
       "       [109.46632128,   1.        ],\n",
       "       [ 82.25001104,   1.        ],\n",
       "       [ 92.77020117,   1.        ],\n",
       "       [115.56883035,   1.        ],\n",
       "       [ 84.04458746,   0.        ],\n",
       "       [116.19931521,   1.        ],\n",
       "       [ 99.2952403 ,   1.        ],\n",
       "       [ 87.19334773,   1.        ],\n",
       "       [ 76.71176886,   1.        ],\n",
       "       [ 80.69859954,   1.        ],\n",
       "       [ 82.46337146,   0.        ],\n",
       "       [ 85.1798917 ,   1.        ],\n",
       "       [ 93.07371498,   1.        ],\n",
       "       [ 88.57699772,   1.        ],\n",
       "       [103.05601135,   1.        ],\n",
       "       [ 86.87676547,   0.        ],\n",
       "       [ 97.91525433,   0.        ],\n",
       "       [120.92294779,   1.        ],\n",
       "       [ 91.72942201,   1.        ],\n",
       "       [ 87.50725033,   1.        ],\n",
       "       [ 90.44631419,   1.        ],\n",
       "       [ 84.16360371,   1.        ],\n",
       "       [ 96.65428461,   1.        ],\n",
       "       [ 95.70355348,   1.        ],\n",
       "       [ 88.76822004,   1.        ],\n",
       "       [ 92.13971631,   0.        ],\n",
       "       [108.00301206,   1.        ],\n",
       "       [ 80.38935225,   1.        ],\n",
       "       [ 99.80304488,   0.        ],\n",
       "       [ 90.02918976,   1.        ],\n",
       "       [ 93.93878156,   1.        ],\n",
       "       [103.70863431,   1.        ],\n",
       "       [ 77.10925402,   1.        ],\n",
       "       [117.55716308,   1.        ],\n",
       "       [ 79.83353296,   1.        ],\n",
       "       [ 83.61644211,   1.        ],\n",
       "       [ 88.73139685,   1.        ],\n",
       "       [ 82.78361774,   1.        ],\n",
       "       [ 86.87676547,   1.        ],\n",
       "       [ 88.73139685,   1.        ],\n",
       "       [ 92.24089061,   1.        ],\n",
       "       [ 90.55177555,   1.        ],\n",
       "       [ 84.14146561,   1.        ],\n",
       "       [ 93.07371498,   1.        ],\n",
       "       [ 85.83486773,   0.        ],\n",
       "       [ 98.85597777,   1.        ],\n",
       "       [ 95.51233116,   1.        ],\n",
       "       [101.06767862,   1.        ],\n",
       "       [ 85.93237801,   1.        ],\n",
       "       [ 82.78361774,   1.        ],\n",
       "       [ 98.66475544,   1.        ],\n",
       "       [ 82.14946886,   0.        ],\n",
       "       [ 85.61579575,   0.        ],\n",
       "       [ 79.43762983,   0.        ],\n",
       "       [ 75.3368157 ,   0.        ],\n",
       "       [ 80.89216317,   1.        ],\n",
       "       [115.77116986,   1.        ],\n",
       "       [ 97.159104  ,   1.        ],\n",
       "       [ 80.89216317,   0.        ],\n",
       "       [ 79.50552798,   1.        ],\n",
       "       [ 98.01213248,   1.        ],\n",
       "       [108.86649661,   1.        ],\n",
       "       [ 80.69859954,   0.        ],\n",
       "       [100.74743234,   1.        ],\n",
       "       [ 91.09893715,   1.        ],\n",
       "       [ 82.98595725,   1.        ],\n",
       "       [ 89.71528716,   1.        ],\n",
       "       [131.01070552,   1.        ],\n",
       "       [124.51463462,   1.        ],\n",
       "       [ 91.61040575,   1.        ],\n",
       "       [ 92.99039172,   0.        ],\n",
       "       [ 91.88382114,   0.        ],\n",
       "       [ 88.69098116,   0.        ],\n",
       "       [126.09350931,   1.        ],\n",
       "       [ 84.98531089,   0.        ],\n",
       "       [ 82.98595725,   0.        ],\n",
       "       [101.79504163,   1.        ],\n",
       "       [100.24363014,   1.        ],\n",
       "       [110.01348289,   1.        ],\n",
       "       [ 88.57699772,   0.        ],\n",
       "       [106.74204234,   1.        ],\n",
       "       [ 95.2921406 ,   1.        ],\n",
       "       [108.31325064,   1.        ],\n",
       "       [110.33138787,   1.        ],\n",
       "       [116.82980007,   1.        ],\n",
       "       [ 86.68554314,   0.        ],\n",
       "       [ 96.85662413,   1.        ],\n",
       "       [ 90.24826174,   0.        ],\n",
       "       [ 89.29080583,   1.        ],\n",
       "       [ 74.23024512,   0.        ],\n",
       "       [ 91.88382114,   0.        ],\n",
       "       [ 96.46072099,   0.        ],\n",
       "       [ 97.40378573,   0.        ],\n",
       "       [131.53329131,   1.        ],\n",
       "       [ 78.24455827,   1.        ],\n",
       "       [127.67571659,   1.        ],\n",
       "       [124.51463462,   1.        ],\n",
       "       [ 80.46401782,   0.        ],\n",
       "       [ 74.86072998,   0.        ],\n",
       "       [ 84.87741183,   0.        ],\n",
       "       [ 92.99039172,   1.        ],\n",
       "       [ 94.85970819,   0.        ],\n",
       "       [ 96.85662413,   1.        ],\n",
       "       [ 91.25333628,   1.        ]])"
      ]
     },
     "execution_count": 35,
     "metadata": {},
     "output_type": "execute_result"
    }
   ],
   "source": [
    "x"
   ]
  },
  {
   "cell_type": "markdown",
   "metadata": {
    "id": "mdVTBZn9eMAn"
   },
   "source": [
    "### solution 1--indexing"
   ]
  },
  {
   "cell_type": "code",
   "execution_count": null,
   "metadata": {
    "colab": {
     "base_uri": "https://localhost:8080/",
     "height": 297
    },
    "id": "8ot8rtWBqnFG",
    "outputId": "844897b3-1d72-42d6-dd47-1527ff2d33a8"
   },
   "outputs": [
    {
     "data": {
      "text/plain": [
       "Text(0, 0.5, 'kid_score')"
      ]
     },
     "execution_count": 36,
     "metadata": {},
     "output_type": "execute_result"
    },
    {
     "data": {
      "image/png": "[encoded data removed]",
      "text/plain": [
       "<Figure size 432x288 with 1 Axes>"
      ]
     },
     "metadata": {
      "needs_background": "light"
     },
     "output_type": "display_data"
    }
   ],
   "source": [
    "pred_no_high_school = lr.predict(x[x[:, 1] == 0, :])\n",
    "pred_high_school = lr.predict(x[x[:, 1] == 1, :])\n",
    "plt.scatter(data[\"mom_iq\"], data[\"kid_score\"], c=data[\"mom_hs\"])\n",
    "plt.plot(x[x[:, 1] == 0, 0], pred_no_high_school, label=\"no hs\", color=\"blue\")\n",
    "plt.plot(x[x[:, 1] == 1, 0], pred_high_school, label=\"hs\", color=\"orange\")\n",
    "plt.legend()\n",
    "plt.xlabel(\"mom_iq\")\n",
    "plt.ylabel(\"kid_score\")"
   ]
  },
  {
   "cell_type": "markdown",
   "metadata": {
    "id": "hzlAC65ReQjv"
   },
   "source": [
    "#### solution 2--  set up design matrix for prediciton"
   ]
  },
  {
   "cell_type": "code",
   "execution_count": null,
   "metadata": {
    "colab": {
     "base_uri": "https://localhost:8080/",
     "height": 367
    },
    "id": "k_LU-iKYcdA3",
    "outputId": "ae3ff165-2889-4cb0-f3ad-14c4a368de21"
   },
   "outputs": [
    {
     "name": "stdout",
     "output_type": "stream",
     "text": [
      "[[ 66.   0.]\n",
      " [140.   0.]]\n",
      "[[ 66.   1.]\n",
      " [140.   1.]]\n"
     ]
    },
    {
     "data": {
      "text/plain": [
       "Text(0, 0.5, 'kid_score')"
      ]
     },
     "execution_count": 37,
     "metadata": {},
     "output_type": "execute_result"
    },
    {
     "data": {
      "image/png": "[encoded data removed]",
      "text/plain": [
       "<Figure size 432x288 with 1 Axes>"
      ]
     },
     "metadata": {
      "needs_background": "light"
     },
     "output_type": "display_data"
    }
   ],
   "source": [
    "xs = np.array([66, 140])\n",
    "x_no_hs = np.column_stack((xs, np.zeros(2)))\n",
    "print(x_no_hs)\n",
    "xhs = np.column_stack((xs, np.ones(2)))\n",
    "print(xhs)\n",
    "\n",
    "pred_no_high_school = lr.predict(x_no_hs)\n",
    "pred_high_school = lr.predict(xhs)\n",
    "\n",
    "plt.scatter(data[\"mom_iq\"], data[\"kid_score\"], c=data[\"mom_hs\"])\n",
    "plt.plot(xs, pred_no_high_school, label=\"no hs\", color=\"blue\")\n",
    "plt.plot(xs, pred_high_school, label=\"hs\", color=\"orange\")\n",
    "plt.legend()\n",
    "plt.xlabel(\"mom_iq\")\n",
    "plt.ylabel(\"kid_score\")"
   ]
  },
  {
   "cell_type": "markdown",
   "metadata": {
    "id": "rvT4FduueW7W"
   },
   "source": [
    "### solution 3--indexing + for loop for groups"
   ]
  },
  {
   "cell_type": "code",
   "execution_count": null,
   "metadata": {
    "colab": {
     "base_uri": "https://localhost:8080/",
     "height": 297
    },
    "id": "5HwNhnImdnT-",
    "outputId": "72585213-0080-49e3-e093-dd8046821d18"
   },
   "outputs": [
    {
     "data": {
      "text/plain": [
       "Text(0, 0.5, 'kid_score')"
      ]
     },
     "execution_count": 34,
     "metadata": {},
     "output_type": "execute_result"
    },
    {
     "data": {
      "image/png": "[encoded data removed]",
      "text/plain": [
       "<Figure size 432x288 with 1 Axes>"
      ]
     },
     "metadata": {
      "needs_background": "light"
     },
     "output_type": "display_data"
    }
   ],
   "source": [
    "education = [\"no_hs\", \"hs\"]\n",
    "colors = [\"blue\", \"orange\"]\n",
    "plt.scatter(data[\"mom_iq\"], data[\"kid_score\"], c=data[\"mom_hs\"])\n",
    "for ce, e in enumerate(education):\n",
    "    prediciton = lr.predict(x[x[:, 1] == ce, :])\n",
    "    plt.plot(x[x[:, 1] == ce, 0], prediciton, label=e, color=colors[ce])\n",
    "plt.legend()\n",
    "plt.xlabel(\"mom_iq\")\n",
    "plt.ylabel(\"kid_score\")"
   ]
  },
  {
   "cell_type": "markdown",
   "metadata": {
    "id": "APYGuiZPTi4V"
   },
   "source": [
    "## model with interaction\n",
    "\n",
    "make a new design matrix, that included a column for the interaction between momhs and mom_iq\n",
    "\n",
    "fit the model and visualize the model prediciton"
   ]
  },
  {
   "cell_type": "code",
   "execution_count": null,
   "metadata": {
    "colab": {
     "base_uri": "https://localhost:8080/"
    },
    "id": "pYW2RFEFT_Zm",
    "outputId": "31192d1e-4303-4cf6-e621-a060cc6e442e"
   },
   "outputs": [
    {
     "name": "stdout",
     "output_type": "stream",
     "text": [
      "design matrix with interaction\n",
      "[[121.1175286    1.         121.1175286 ]\n",
      " [ 89.36188171   1.          89.36188171]\n",
      " [115.44316488   1.         115.44316488]\n",
      " [ 99.44963944   1.          99.44963944]\n",
      " [ 92.74571      1.          92.74571   ]\n",
      " [107.90183776   0.           0.        ]\n",
      " [138.89310607   1.         138.89310607]\n",
      " [125.14511948   1.         125.14511948]\n",
      " [ 81.61952618   1.          81.61952618]\n",
      " [ 95.07306862   1.          95.07306862]]\n"
     ]
    }
   ],
   "source": [
    "x2 = np.column_stack((data[\"mom_iq\"], data[\"mom_hs\"], data[\"mom_iq\"] * data[\"mom_hs\"]))\n",
    "print(\"design matrix with interaction\")\n",
    "print(x2[:10, :])"
   ]
  },
  {
   "cell_type": "code",
   "execution_count": null,
   "metadata": {
    "colab": {
     "base_uri": "https://localhost:8080/"
    },
    "id": "LNUsRWuMx1Wl",
    "outputId": "1eb14c49-64dc-4034-a3ec-413f81815334"
   },
   "outputs": [
    {
     "name": "stdout",
     "output_type": "stream",
     "text": [
      "[ 0.96888921 51.26822343 -0.48427467]\n",
      "-11.482021142024365\n",
      "0.23010362792143824\n"
     ]
    }
   ],
   "source": [
    "lr.fit(x2, data[\"kid_score\"])\n",
    "print(lr.coef_)\n",
    "print(lr.intercept_)\n",
    "print(lr.score(x2, data[\"kid_score\"]))"
   ]
  },
  {
   "cell_type": "code",
   "execution_count": null,
   "metadata": {
    "colab": {
     "base_uri": "https://localhost:8080/",
     "height": 297
    },
    "id": "C4tWoZOcyV7V",
    "outputId": "37c1c7df-e6b2-4969-bb43-0b977740b508"
   },
   "outputs": [
    {
     "data": {
      "text/plain": [
       "Text(0, 0.5, 'kid_score')"
      ]
     },
     "execution_count": 43,
     "metadata": {},
     "output_type": "execute_result"
    },
    {
     "data": {
      "image/png": "[encoded data removed]",
      "text/plain": [
       "<Figure size 432x288 with 1 Axes>"
      ]
     },
     "metadata": {
      "needs_background": "light"
     },
     "output_type": "display_data"
    }
   ],
   "source": [
    "education = [\"no_hs\", \"hs\"]\n",
    "colors = [\"blue\", \"orange\"]\n",
    "plt.scatter(data[\"mom_iq\"], data[\"kid_score\"], c=data[\"mom_hs\"])\n",
    "for ce, e in enumerate(education):\n",
    "    prediciton = lr.predict(x2[x2[:, 1] == ce, :])\n",
    "    plt.plot(x2[x2[:, 1] == ce, 0], prediciton, label=e, color=colors[ce])\n",
    "plt.legend()\n",
    "plt.xlabel(\"mom_iq\")\n",
    "plt.ylabel(\"kid_score\")"
   ]
  },
  {
   "cell_type": "markdown",
   "metadata": {
    "id": "8YqIk--BUKJe"
   },
   "source": [
    " ## Training and test set\n",
    "\n",
    "seprate the X and Y data, into an 80% training and 20% test set using indexing\n",
    "for now, it is okay, just to take the first 80% of data as training and the last 20% as test data  \n",
    "(this is clearly a wrong approach if the data is ordered)\n",
    "\n",
    "\n"
   ]
  },
  {
   "cell_type": "code",
   "execution_count": null,
   "metadata": {
    "colab": {
     "base_uri": "https://localhost:8080/"
    },
    "id": "-3r88-QPUc4j",
    "outputId": "9d92dd2e-1282-4395-e0fb-024879224077"
   },
   "outputs": [
    {
     "name": "stdout",
     "output_type": "stream",
     "text": [
      "434\n"
     ]
    }
   ],
   "source": [
    "n = len(data[\"kid_score\"])\n",
    "print(n)\n",
    "np.shape(x2[: int(n * 0.8), :])\n",
    "train_x = x2[0 : int(n * 0.8), :]\n",
    "train_y = data[\"kid_score\"][0 : int(n * 0.8)]\n",
    "\n",
    "test_x = x2[int(n * 0.8) :, :]\n",
    "test_y = data[\"kid_score\"][int(n * 0.8) :]"
   ]
  },
  {
   "cell_type": "code",
   "execution_count": null,
   "metadata": {
    "colab": {
     "base_uri": "https://localhost:8080/"
    },
    "id": "8OzEUJjd2GGw",
    "outputId": "2076dfff-4465-4c61-eb75-e09836543ee1"
   },
   "outputs": [
    {
     "data": {
      "text/plain": [
       "LinearRegression()"
      ]
     },
     "execution_count": 41,
     "metadata": {},
     "output_type": "execute_result"
    }
   ],
   "source": [
    "lr.fit(train_x, train_y)"
   ]
  },
  {
   "cell_type": "code",
   "execution_count": null,
   "metadata": {
    "colab": {
     "base_uri": "https://localhost:8080/"
    },
    "id": "L60F1T8x2LfP",
    "outputId": "2c5672bd-a42e-4dc2-f001-29f764845ae2"
   },
   "outputs": [
    {
     "name": "stdout",
     "output_type": "stream",
     "text": [
      "0.23910704839196617\n",
      "0.1119777051694123\n"
     ]
    }
   ],
   "source": [
    "print(lr.score(train_x, train_y))\n",
    "print(lr.score(test_x, test_y))"
   ]
  },
  {
   "cell_type": "markdown",
   "metadata": {
    "id": "M9L2vxJMUd-P"
   },
   "source": [
    "## fit the regression model (with interaction term) on the training set, and calculate the score for both the training and the test sets\n",
    "\n",
    "(randomly selected 80% and 20% test set)"
   ]
  },
  {
   "cell_type": "code",
   "execution_count": null,
   "metadata": {
    "id": "wuFFTidEUuPg"
   },
   "outputs": [],
   "source": []
  },
  {
   "cell_type": "markdown",
   "metadata": {
    "id": "o7AzqaiPV82w"
   },
   "source": [
    "## Mean Centering and standardization\n",
    "\n",
    "1. Mean center your data (make a new design matrix for this), and fit and score the model again.\n",
    "\n",
    "2. Standardize your data, and fit again the model with interaction.\n",
    "see how the obtained coefficients and score change\n",
    "\n"
   ]
  },
  {
   "cell_type": "code",
   "execution_count": null,
   "metadata": {
    "id": "oXssivUJWIpA"
   },
   "outputs": [],
   "source": []
  },
  {
   "cell_type": "markdown",
   "metadata": {
    "id": "CY8PX5S4U4AP"
   },
   "source": [
    "## Regularized regression\n",
    "\n",
    "\n",
    "test Lasso and Ridge regression on the test and training data from above\n",
    "\n",
    "see how the score changes, but also how the regression weights (Betas) are influenced.\n",
    "\n",
    "note: ridge and lasso work well with standardized data.\n"
   ]
  },
  {
   "cell_type": "code",
   "execution_count": null,
   "metadata": {
    "id": "RDjLZt72VDZ_"
   },
   "outputs": [],
   "source": []
  },
  {
   "cell_type": "markdown",
   "metadata": {
    "id": "6WPZQabKVD5R"
   },
   "source": [
    "## Systematic exploration of Lasso and Ridge\n",
    "\n",
    "change the Regularization strength alpha systematically for different values.\n",
    "see how this influnces the obtained scores and weigths (both for Lasso and Ridge)\n",
    "\n",
    "\n",
    "Visualize the result of this investigation\n",
    "\n",
    "\n",
    "\n"
   ]
  },
  {
   "cell_type": "code",
   "execution_count": null,
   "metadata": {
    "id": "jqarv_F9VWv_"
   },
   "outputs": [],
   "source": []
  },
  {
   "cell_type": "markdown",
   "metadata": {
    "id": "xQrUvXV8Z-5u"
   },
   "source": [
    "to make more general conclusions, we would need to repeat the training - test serpation mulitple times randomly, and integrate the behavior of lasso and ridge across these mulitple divisions"
   ]
  },
  {
   "cell_type": "code",
   "execution_count": null,
   "metadata": {
    "id": "W1G6R4H8VXGT"
   },
   "outputs": [],
   "source": []
  },
  {
   "cell_type": "markdown",
   "metadata": {
    "id": "4MdnzBjRVh0_"
   },
   "source": []
  }
 ],
 "metadata": {
  "colab": {
   "provenance": []
  },
  "kernelspec": {
   "display_name": "Python 3",
   "name": "python3"
  },
  "language_info": {
   "name": "python"
  }
 },
 "nbformat": 4,
 "nbformat_minor": 0
}
