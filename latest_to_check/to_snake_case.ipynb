{
 "cells": [
  {
   "cell_type": "markdown",
   "id": "3cba987c-8154-4dab-beb9-69f9ded4021a",
   "metadata": {},
   "source": [
    "Rename notebook content to snake_case\n",
    "==="
   ]
  },
  {
   "cell_type": "code",
   "execution_count": 17,
   "id": "277d5c35-bd4e-4fd7-b194-f90117d52120",
   "metadata": {},
   "outputs": [],
   "source": [
    "import json\n",
    "import nbformat\n",
    "import re\n",
    "from glob import glob\n",
    "import ast\n",
    "\n",
    "\n",
    "def snake_case(name):\n",
    "    \"\"\"\n",
    "    Convert CamelCase to snake_case\n",
    "    \"\"\"\n",
    "    s1 = re.sub(\"(.)([A-Z][a-z]+)\", r\"\\1_\\2\", name)\n",
    "    return re.sub(\"([a-z0-9])([A-Z])\", r\"\\1_\\2\", s1).lower()\n",
    "\n",
    "\n",
    "def rename_identifiers(code):\n",
    "    try:\n",
    "        tree = ast.parse(code)\n",
    "        for node in ast.walk(tree):\n",
    "            if isinstance(node, ast.Name):\n",
    "                if not node.id.startswith(\"_\"):\n",
    "                    new_name = snake_case(node.id)\n",
    "                    code = code.replace(node.id, new_name)\n",
    "            elif isinstance(node, ast.FunctionDef):\n",
    "                if not node.name.startswith(\"_\"):\n",
    "                    new_name = snake_case(node.name)\n",
    "                    code = code.replace(node.name, new_name)\n",
    "    except SyntaxError:\n",
    "        pass  # Skip if there's a SyntaxError (non-Python code)\n",
    "\n",
    "    return code\n",
    "\n",
    "\n",
    "notebooks = glob(\"./*.ipynb\")\n",
    "notebooks = [nb for nb in notebooks if nb != \"./to_snake_case.ipynb\"]\n",
    "\n",
    "for notebook_file in notebooks:\n",
    "    # Read your Jupyter notebook\n",
    "    with open(notebook_file, \"r\") as f:\n",
    "        notebook_content = nbformat.read(f, as_version=4)\n",
    "\n",
    "    # Iterate through the cells in the notebook\n",
    "    for cell in notebook_content.cells:\n",
    "        if cell.cell_type == \"code\":\n",
    "            cell.source = rename_identifiers(cell.source)\n",
    "\n",
    "    # Write back to the notebook\n",
    "    with open(notebook_file, \"w\") as f:\n",
    "        nbformat.write(notebook_content, f)"
   ]
  },
  {
   "cell_type": "markdown",
   "id": "b4bb4816-6649-423c-8179-2df02dde9873",
   "metadata": {},
   "source": [
    "After this run `black-nb .` to format all notebooks in the directory"
   ]
  }
 ],
 "metadata": {
  "kernelspec": {
   "display_name": "Python 3 (ipykernel)",
   "language": "python",
   "name": "python3"
  },
  "language_info": {
   "codemirror_mode": {
    "name": "ipython",
    "version": 3
   },
   "file_extension": ".py",
   "mimetype": "text/x-python",
   "name": "python",
   "nbconvert_exporter": "python",
   "pygments_lexer": "ipython3",
   "version": "3.11.0"
  }
 },
 "nbformat": 4,
 "nbformat_minor": 5
}
