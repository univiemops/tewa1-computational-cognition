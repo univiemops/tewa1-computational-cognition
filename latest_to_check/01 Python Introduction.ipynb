{
 "cells": [
  {
   "cell_type": "markdown",
   "metadata": {
    "id": "C5N8uXaLdary"
   },
   "source": [
    "# Welcome to the first tutorial of Tewa 1\n",
    "\n",
    "**This is a text cell**\n",
    "\n",
    "The goal of this tutorial is to practice the basics of python, without any libraries.\n",
    "\n",
    "Learning goals:\n",
    "   \n",
    "*   boolean and conditional statements  \n",
    "*   iterations: for \n",
    "*   indexing\n",
    "*   functions\n",
    "*   Python list as a data format\n",
    "\n",
    "Below is the first **code cell** where we can practice basic arithmetic. Just read the code, and run the cell.\n",
    "\n",
    "---\n",
    "*written by Jozsef Arato, Vienna Cognitive Science Hub, March/2022*"
   ]
  },
  {
   "cell_type": "code",
   "execution_count": null,
   "metadata": {
    "id": "ak5ZH8I0dX9X"
   },
   "outputs": [],
   "source": [
    "a = 3  # these are comments\n",
    "b = a + 1  # comments are useful to make code more understandable\n",
    "c = a * 2  # addition and multiplication are not very suprising in python\n",
    "print(\"b\", b)  # comma separation allows printing together stuff\n",
    "print(\"c =\", c)"
   ]
  },
  {
   "cell_type": "markdown",
   "metadata": {
    "id": "Ohtsa2U5d1es"
   },
   "source": [
    "in python to raise a number to a degree as in $x^{n}$, you have to use `**n`   \n",
    "define `d` below as $a^{2}$  and print the result\n",
    "\n",
    "define `e` as the result of `b` divided by `c` and print the result"
   ]
  },
  {
   "cell_type": "code",
   "execution_count": null,
   "metadata": {
    "id": "H6cCY1XJeO00"
   },
   "outputs": [],
   "source": [
    "d = a**2\n",
    "print(\"d: \", d)\n",
    "\n",
    "e = b / c\n",
    "print(\"e: \", e)"
   ]
  },
  {
   "cell_type": "markdown",
   "metadata": {
    "id": "ZGjqGNo6nats"
   },
   "source": [
    "check what the `%` sign is doing as an operation, by inserting it between some numbers\n",
    "\n",
    "if you only have a single operation in a cell, you do not need to add print to see the result"
   ]
  },
  {
   "cell_type": "code",
   "execution_count": null,
   "metadata": {
    "id": "EcdpRxAvnUIO"
   },
   "outputs": [],
   "source": [
    "10 % 5"
   ]
  },
  {
   "cell_type": "markdown",
   "metadata": {
    "id": "zdy0Ae5ZgadT"
   },
   "source": [
    "use the `type()` function to check the types of `a`,`e` below\n",
    "this will be important later, as many functions require int type input"
   ]
  },
  {
   "cell_type": "code",
   "execution_count": null,
   "metadata": {
    "id": "z4gKif-egdAf"
   },
   "outputs": [],
   "source": [
    "type(d)"
   ]
  },
  {
   "cell_type": "markdown",
   "metadata": {
    "id": "zIKzg3xTNntE"
   },
   "source": [
    "## boolean statements\n",
    "check what `==`, `!=` , `>`,`<`,`<=`\n",
    "by comparing `3`,`4` to `a`"
   ]
  },
  {
   "cell_type": "code",
   "execution_count": null,
   "metadata": {
    "id": "TxQAb0MzNlIE"
   },
   "outputs": [],
   "source": [
    "a != 19"
   ]
  },
  {
   "cell_type": "markdown",
   "metadata": {
    "id": "Oex2LsaigoTP"
   },
   "source": [
    "## make a list containting all of the values `a` to `e`\n",
    "\n",
    "list are defined with `[]`, as opposed to `()`, which are usually operations (use of a function)"
   ]
  },
  {
   "cell_type": "code",
   "execution_count": null,
   "metadata": {
    "id": "cMhFxEmAgltH"
   },
   "outputs": [],
   "source": [
    "my_list = [a, b, c, d]\n",
    "print(my_list)"
   ]
  },
  {
   "cell_type": "markdown",
   "metadata": {
    "id": "cnnQ1lsyhLyb"
   },
   "source": [
    "##  for cycle\n",
    " use a `for` cycle to loop through all elements of `my_list`, print each value and also the double of each\n",
    "\n",
    " indenting is obligatory in python, greatly improving the readability of the code"
   ]
  },
  {
   "cell_type": "code",
   "execution_count": null,
   "metadata": {
    "id": "2MpQ58_IgySf"
   },
   "outputs": [],
   "source": [
    "for i in my_list:\n",
    "    print(i)\n",
    "    print(i * 2)"
   ]
  },
  {
   "cell_type": "markdown",
   "metadata": {
    "id": "kNWEtVtztdZs"
   },
   "source": [
    " use a `for` cycle to add up the elements of `my_list`\n",
    "\n"
   ]
  },
  {
   "cell_type": "code",
   "execution_count": null,
   "metadata": {
    "id": "Gjr1ovvgtcPj"
   },
   "outputs": [],
   "source": [
    "sum = 0  #  what you should do is to change the value of Sum with each iteration\n",
    "\n",
    "for i in my_list:\n",
    "    sum = sum + i  # alternatively, you can write it like this: sum += i\n",
    "    print(i, sum)\n",
    "    # YOUR CODE\n",
    "    # YOUR CODE\n",
    "sum"
   ]
  },
  {
   "cell_type": "code",
   "execution_count": null,
   "metadata": {
    "id": "wav5zjPfe1GI"
   },
   "outputs": [],
   "source": [
    "for number in my_list:\n",
    "    print(number)"
   ]
  },
  {
   "cell_type": "code",
   "execution_count": null,
   "metadata": {
    "id": "M3QbjvA5fZ0A"
   },
   "outputs": [],
   "source": []
  },
  {
   "cell_type": "markdown",
   "metadata": {
    "id": "_g4rhh3rMrfe"
   },
   "source": [
    "## `for` cycle with range\n",
    "test how to use `range(n)` to count with a `for` cycle\n",
    "\n",
    "`print` numbers `0` to `8` "
   ]
  },
  {
   "cell_type": "code",
   "execution_count": null,
   "metadata": {
    "id": "HQvPkJhQMqd2"
   },
   "outputs": [],
   "source": [
    "for i in range(8):\n",
    "    print(i)"
   ]
  },
  {
   "cell_type": "markdown",
   "metadata": {
    "id": "IKU2f9fLwA8-"
   },
   "source": [
    "Below we define a `list` of animals, and another `list` that shows their corresponding weigths"
   ]
  },
  {
   "cell_type": "code",
   "execution_count": null,
   "metadata": {
    "id": "-6CpCClmwVqq"
   },
   "outputs": [],
   "source": [
    "animals = [\"Dog\", \"Cat\", \"Elephant\", \"Horse\", \"Rat\", \"Mouse\"]\n",
    "weights = [20, 2, 3000, 500, 0.3, 0.02]  # kg\n",
    "print(animals, weights)\n",
    "print(\"number of animals\", len(animals))"
   ]
  },
  {
   "cell_type": "markdown",
   "metadata": {
    "id": "4VAoOf8DLN8q"
   },
   "source": [
    "Add an animal of your choice to the `list`, also add the corresponding weight\n",
    "\n",
    "use `append`"
   ]
  },
  {
   "cell_type": "code",
   "execution_count": null,
   "metadata": {
    "id": "3P3G7uEJLMpZ"
   },
   "outputs": [],
   "source": [
    "animals.append(\"Racoon\")  # YOUR CODE\n",
    "weights.append(5)\n",
    "\n",
    "print(animals)"
   ]
  },
  {
   "cell_type": "markdown",
   "metadata": {
    "id": "WHY0zWVcOpuI"
   },
   "source": [
    "## indexing\n",
    "in python we use `[]` for indexing  \n",
    "and as you will see, indexing is zero based!\n",
    "\n",
    "1. `print` the name of the first animal\n",
    "\n",
    "2. `print` the name of the 2nd animal\n",
    "\n",
    "3. `print` the name of the last animal\n",
    "\n",
    "4. `print` all animals, but not the first.. "
   ]
  },
  {
   "cell_type": "code",
   "execution_count": null,
   "metadata": {
    "id": "jZ2S5-eyDPtN"
   },
   "outputs": [],
   "source": [
    "print(animals[0])\n",
    "print(animals[1])\n",
    "print(animals[-2])\n",
    "print(animals[1:])\n",
    "print(animals[1:5])\n",
    "print(animals[:5])"
   ]
  },
  {
   "cell_type": "markdown",
   "metadata": {
    "id": "jdTzvLDTwg-b"
   },
   "source": [
    "## `for` cycle continued\n",
    "Loop through the animals with a `for` loop,\n",
    "1. `print` the name of each animal \n",
    "2. and the length of their names"
   ]
  },
  {
   "cell_type": "code",
   "execution_count": null,
   "metadata": {
    "id": "up0BhX--wl55"
   },
   "outputs": [],
   "source": [
    "for animal in animals:\n",
    "    print(animal, len(an))"
   ]
  },
  {
   "cell_type": "markdown",
   "metadata": {
    "id": "NpJphQeQw5IB"
   },
   "source": [
    "## `for` cycle with indexing\n",
    "Loop throuh animals, and print the names and the corresponding weights, add \"kg\" \n",
    "\n",
    "eg:  Dog : 20 kg\n"
   ]
  },
  {
   "cell_type": "code",
   "execution_count": null,
   "metadata": {
    "id": "hyoqKD85w5Z2"
   },
   "outputs": [],
   "source": [
    "num = len(animals)  # YOUR CODE\n",
    "for i in range(num):\n",
    "    print(animals[i], weights[i])"
   ]
  },
  {
   "cell_type": "markdown",
   "metadata": {
    "id": "xIkdVCV7xJ__"
   },
   "source": [
    "## `if` conditional\n",
    "Loop through animals   \n",
    "1. `print` their name only if they are heavier than 5kg\n",
    "2. if they are smaller than 1kg print the \"species name\" \"is a very small animal\" \n",
    "\n",
    "you will have to use the `if` and `else` logical statements"
   ]
  },
  {
   "cell_type": "code",
   "execution_count": null,
   "metadata": {
    "id": "qXln296ixIfh"
   },
   "outputs": [],
   "source": [
    "for i in range(num):\n",
    "    if weights[i] > 5:\n",
    "        print(animals[i])\n",
    "    elif weights[i] < 1:\n",
    "        print(animals[i], \"is a very small animal\")\n",
    "    else:\n",
    "        print(animals[i], \"neither small or big\")"
   ]
  },
  {
   "cell_type": "markdown",
   "metadata": {
    "id": "1sFxo64LCl2F"
   },
   "source": [
    " combining conditionals\n",
    " \n",
    " loop through animals, and print their names only if the weigth is bigger than 10 kg **and** their name is shorter than 6 characters\n"
   ]
  },
  {
   "cell_type": "code",
   "execution_count": null,
   "metadata": {
    "id": "8_f6hfaOC-Db"
   },
   "outputs": [],
   "source": [
    "for i in range(num):\n",
    "    if weights[i] > 10 and len(animals[i]) < 6:  # YOUR CODE\n",
    "        print(animals[i])"
   ]
  },
  {
   "cell_type": "markdown",
   "metadata": {
    "id": "COYYvnIiNiS7"
   },
   "source": [
    "\n",
    "*more advanced:*\n",
    "\n",
    "but we will use it later!\n",
    "\n",
    "try using `enumerate` with a `for` cycle to solve the task above\n",
    "`enumerate` enables writing cleaner code\n"
   ]
  },
  {
   "cell_type": "code",
   "execution_count": null,
   "metadata": {
    "id": "AmdDqbvnNjny"
   },
   "outputs": [],
   "source": []
  },
  {
   "cell_type": "markdown",
   "metadata": {
    "id": "u_PgTe3BybCP"
   },
   "source": [
    "### nested `for` cycles:\n",
    "what is the weight difference between each pair of species:\n",
    "\n",
    "1. write two nested `for` cycles, and calculate the squared difference in weigth \n",
    "`print` the two species names, and the calculcated difference.\n",
    "\n",
    "2. do not `print` comparison of the species to itself"
   ]
  },
  {
   "cell_type": "code",
   "execution_count": null,
   "metadata": {
    "id": "d1203-DoHSk7"
   },
   "outputs": [],
   "source": []
  },
  {
   "cell_type": "markdown",
   "metadata": {
    "id": "O8gb7kGCzDy8"
   },
   "source": [
    "## functions\n",
    "functions are essentialy tools for computation, that enable re-using the same computations in different scenarios, thereby allowing us to write much cleaner code. Usually a function takes some input(s), performs some computation on the input(s), and returns the output(s). A function is defined with the `def` statement.\n",
    "\n",
    "1. complete the function below, so that it return the first element of  the input\n",
    "\n",
    "2. change the function that it returns the first and last element of the input"
   ]
  },
  {
   "cell_type": "code",
   "execution_count": null,
   "metadata": {
    "id": "cNA93ZFNzCAJ"
   },
   "outputs": [],
   "source": [
    "def first_function(my_input):\n",
    "    return my_input[0], my_input[-1]"
   ]
  },
  {
   "cell_type": "code",
   "execution_count": null,
   "metadata": {
    "id": "voz7wOWMu411"
   },
   "outputs": [],
   "source": [
    "first_function(animals)"
   ]
  },
  {
   "cell_type": "code",
   "execution_count": null,
   "metadata": {
    "id": "q7AwmGgPq-CK"
   },
   "outputs": [],
   "source": [
    "my_input = # YOUR CODE "
   ]
  },
  {
   "cell_type": "markdown",
   "metadata": {
    "id": "i2IgTxkSzTaU"
   },
   "source": [
    "## functions 2\n",
    "\n",
    "write a function that is called `max_of_two` that takes 2 numbers as input, a returns the bigger"
   ]
  },
  {
   "cell_type": "code",
   "execution_count": null,
   "metadata": {
    "id": "3pUqvl911Rt3"
   },
   "outputs": [],
   "source": [
    "def max_of_two(# YOUR CODE):\n",
    "  # YOUR CODE\n",
    "  # YOUR CODE\n",
    "  return # YOUR CODE\n"
   ]
  },
  {
   "cell_type": "markdown",
   "metadata": {
    "id": "BynSrCjc124h"
   },
   "source": [
    " if you completed the code above, \n",
    " the below should run and return `3` and `4`"
   ]
  },
  {
   "cell_type": "code",
   "execution_count": null,
   "metadata": {
    "id": "dIkWqKtx11S2"
   },
   "outputs": [],
   "source": [
    "print(max_of_two(1, 3))\n",
    "\n",
    "print(max_of_two(4, 3))"
   ]
  },
  {
   "cell_type": "markdown",
   "metadata": {
    "id": "aa8b_ryHmqFe"
   },
   "source": [
    "## homework 1\n",
    "python general\n",
    "create a function, that for an input list of integer numbers, calculates the number of odd and even numbers, returns both numbers\n",
    "\n",
    "the code should work regardless of the length of the list\n",
    "\n",
    "\n",
    "\n"
   ]
  },
  {
   "cell_type": "code",
   "execution_count": null,
   "metadata": {
    "id": "bjGGnvdlmuI4"
   },
   "outputs": [],
   "source": [
    "def count_int(any_list):\n",
    "    # YOUR CODE\n",
    "    # YOUR CODE\n",
    "    # YOUR CODE\n",
    "    # YOUR CODE\n",
    "    return num_even, num_odd"
   ]
  },
  {
   "cell_type": "markdown",
   "metadata": {
    "id": "uHoPro_Qr0Sl"
   },
   "source": [
    "## homework  2\n",
    "\n",
    "common elements\n",
    "\n",
    "write code that makes a new list, that contains the numbers only that occur in both lists\n",
    "\n"
   ]
  },
  {
   "cell_type": "code",
   "execution_count": null,
   "metadata": {
    "id": "IGTykq-Ir2eM"
   },
   "outputs": [],
   "source": [
    "list_1 = [\n",
    "    5,\n",
    "    7,\n",
    "    3,\n",
    "    23,\n",
    "    43,\n",
    "    532,\n",
    "    45,\n",
    "    5,\n",
    "    4,\n",
    "    4,\n",
    "    3,\n",
    "    32,\n",
    "    234,\n",
    "    35,\n",
    "    355,\n",
    "    3,\n",
    "    545,\n",
    "    45,\n",
    "    11,\n",
    "    2,\n",
    "    4,\n",
    "    6,\n",
    "    98,\n",
    "    2,\n",
    "    3,\n",
    "    5,\n",
    "    6,\n",
    "    2,\n",
    "    3,\n",
    "    45,\n",
    "    7,\n",
    "    4,\n",
    "    56,\n",
    "    54,\n",
    "    43,\n",
    "    3,\n",
    "]\n",
    "list_2 = [151, 1, 66, 44, 33, 22, 45, 23, 35]"
   ]
  },
  {
   "cell_type": "code",
   "execution_count": null,
   "metadata": {
    "id": "E6onw5mhJARq"
   },
   "outputs": [],
   "source": []
  }
 ],
 "metadata": {
  "colab": {
   "collapsed_sections": [],
   "name": " tewa1_tutorial_01_python_general.ipynb",
   "provenance": []
  },
  "kernelspec": {
   "display_name": "Python 3 (ipykernel)",
   "language": "python",
   "name": "python3"
  },
  "language_info": {
   "codemirror_mode": {
    "name": "ipython",
    "version": 3
   },
   "file_extension": ".py",
   "mimetype": "text/x-python",
   "name": "python",
   "nbconvert_exporter": "python",
   "pygments_lexer": "ipython3",
   "version": "3.11.0"
  }
 },
 "nbformat": 4,
 "nbformat_minor": 4
}
