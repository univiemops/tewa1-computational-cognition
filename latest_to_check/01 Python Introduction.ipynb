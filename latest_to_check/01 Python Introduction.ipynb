{
  "nbformat": 4,
  "nbformat_minor": 0,
  "metadata": {
    "colab": {
      "provenance": []
    },
    "kernelspec": {
      "name": "python3",
      "display_name": "Python 3"
    },
    "language_info": {
      "name": "python"
    }
  },
  "cells": [
    {
      "cell_type": "markdown",
      "metadata": {
        "id": "C5N8uXaLdary"
      },
      "source": [
        "# Welcome to the first tutorial of Tewa 1  - this is a text cell\n",
        "\n",
        "the goal of this tutorial is to practice the basics of python, without any libraries\n",
        "\n",
        "learning goals:\n",
        "  \n",
        "  \n",
        "\n",
        "*   boolean and conditional statements  \n",
        "*   iterations: for\n",
        "*   indexing\n",
        "*   functions\n",
        "*   Python list as a data format\n",
        "\n",
        "\n",
        "\n",
        "@ Jozsef Arato  October/2022\n"
      ]
    },
    {
      "cell_type": "markdown",
      "metadata": {
        "id": "uSVNpfednPBS"
      },
      "source": [
        "below is the first code cell where we can practice basic arithmetic\n",
        "\n",
        "just read the code, and run the cell"
      ]
    },
    {
      "cell_type": "code",
      "metadata": {
        "colab": {
          "base_uri": "https://localhost:8080/"
        },
        "id": "ak5ZH8I0dX9X",
        "outputId": "feebff68-88dd-4054-c44e-0c44fd6d131f"
      },
      "source": [
        "A=3   # these are comments\n",
        "B=A+1    # comments are useful to make code more understandable\n",
        "C=A*2   # addition and multiplication are not very suprising in python\n",
        "print('B',B)  # comma separation allows printing together stuff\n",
        "print('C =',C)\n"
      ],
      "execution_count": null,
      "outputs": [
        {
          "output_type": "stream",
          "name": "stdout",
          "text": [
            "B 4\n",
            "C = 6\n"
          ]
        }
      ]
    },
    {
      "cell_type": "markdown",
      "metadata": {
        "id": "Ohtsa2U5d1es"
      },
      "source": [
        "in python to raise a number to a degree as in $x^{n}$, you have to use **n   \n",
        "define D below as $A^{2}$  and print the result\n",
        "\n",
        "define E as the result of  B divided by C and print the result"
      ]
    },
    {
      "cell_type": "code",
      "metadata": {
        "id": "H6cCY1XJeO00",
        "colab": {
          "base_uri": "https://localhost:8080/"
        },
        "outputId": "5ced539e-5fbe-4907-ab11-84d0094dbbcb"
      },
      "source": [
        "D = A**2\n",
        "print('D: ',D)\n",
        "\n",
        "E =B/C\n",
        "print('E',E)\n"
      ],
      "execution_count": null,
      "outputs": [
        {
          "output_type": "stream",
          "name": "stdout",
          "text": [
            "D:  9\n",
            "E 0.6666666666666666\n"
          ]
        }
      ]
    },
    {
      "cell_type": "markdown",
      "metadata": {
        "id": "ZGjqGNo6nats"
      },
      "source": [
        "check what the % sign is doing as an operation, by inserting it between some numbers\n",
        "\n",
        "if you only have a single operation in a cell, you do not need to add print to see the result"
      ]
    },
    {
      "cell_type": "code",
      "metadata": {
        "colab": {
          "base_uri": "https://localhost:8080/"
        },
        "id": "EcdpRxAvnUIO",
        "outputId": "e20f475a-b8bb-43d5-efb3-998a6fedfa38"
      },
      "source": [
        "10%3"
      ],
      "execution_count": null,
      "outputs": [
        {
          "output_type": "execute_result",
          "data": {
            "text/plain": [
              "1"
            ]
          },
          "metadata": {},
          "execution_count": 12
        }
      ]
    },
    {
      "cell_type": "markdown",
      "metadata": {
        "id": "zdy0Ae5ZgadT"
      },
      "source": [
        "use the type() function to check the types of A,E below\n",
        "this will be important later, as many functions require int type input"
      ]
    },
    {
      "cell_type": "code",
      "metadata": {
        "colab": {
          "base_uri": "https://localhost:8080/"
        },
        "id": "z4gKif-egdAf",
        "outputId": "c0076630-1408-463e-fc25-d87054af4fdd"
      },
      "source": [
        "type(D),type(E)"
      ],
      "execution_count": null,
      "outputs": [
        {
          "output_type": "execute_result",
          "data": {
            "text/plain": [
              "(int, float)"
            ]
          },
          "metadata": {},
          "execution_count": 3
        }
      ]
    },
    {
      "cell_type": "code",
      "source": [
        "E"
      ],
      "metadata": {
        "colab": {
          "base_uri": "https://localhost:8080/"
        },
        "id": "QIKKTGB8HILX",
        "outputId": "897e25f2-ee1d-4ef0-d19d-c749e2670ea0"
      },
      "execution_count": null,
      "outputs": [
        {
          "output_type": "execute_result",
          "data": {
            "text/plain": [
              "0.6666666666666666"
            ]
          },
          "metadata": {},
          "execution_count": 14
        }
      ]
    },
    {
      "cell_type": "code",
      "source": [
        "float(D)\n",
        "type(6/2)"
      ],
      "metadata": {
        "colab": {
          "base_uri": "https://localhost:8080/"
        },
        "id": "-MD2F7x6HLCN",
        "outputId": "04a080d5-d3e5-4194-8363-44a57ac74f48"
      },
      "execution_count": null,
      "outputs": [
        {
          "output_type": "execute_result",
          "data": {
            "text/plain": [
              "float"
            ]
          },
          "metadata": {},
          "execution_count": 15
        }
      ]
    },
    {
      "cell_type": "markdown",
      "source": [
        "## boolean statements\n",
        "check what ==, != , >,<,<=\n",
        "by comparing 3,4 to A"
      ],
      "metadata": {
        "id": "zIKzg3xTNntE"
      }
    },
    {
      "cell_type": "code",
      "source": [
        "A==3,A!=3,A!=4,A>3,A>=3"
      ],
      "metadata": {
        "colab": {
          "base_uri": "https://localhost:8080/"
        },
        "id": "TxQAb0MzNlIE",
        "outputId": "9a9dd397-440e-4cbc-eb17-7957cd85382e"
      },
      "execution_count": null,
      "outputs": [
        {
          "output_type": "execute_result",
          "data": {
            "text/plain": [
              "(True, False, True, False, True)"
            ]
          },
          "metadata": {},
          "execution_count": 4
        }
      ]
    },
    {
      "cell_type": "markdown",
      "metadata": {
        "id": "Oex2LsaigoTP"
      },
      "source": [
        "## make a list containting all of the values A-E\n",
        "\n",
        "list are defined with [], as opposed to (), which are usually operations (use of a function)"
      ]
    },
    {
      "cell_type": "code",
      "metadata": {
        "id": "cMhFxEmAgltH",
        "colab": {
          "base_uri": "https://localhost:8080/"
        },
        "outputId": "206e39eb-35e1-4cb3-bdc7-8b44a81345c4"
      },
      "source": [
        "MyList= [A,B,C,D,E]\n",
        "print(MyList)"
      ],
      "execution_count": null,
      "outputs": [
        {
          "output_type": "stream",
          "name": "stdout",
          "text": [
            "[3, 4, 6, 9, 0.6666666666666666]\n"
          ]
        }
      ]
    },
    {
      "cell_type": "markdown",
      "metadata": {
        "id": "cnnQ1lsyhLyb"
      },
      "source": [
        "##  for cycle\n",
        " use a for cycle to loop through all elements of MyList, print each value and also the double of each\n",
        "\n",
        " indenting is obligatory in python, greatly improving the readability of the code"
      ]
    },
    {
      "cell_type": "code",
      "metadata": {
        "colab": {
          "base_uri": "https://localhost:8080/"
        },
        "id": "2MpQ58_IgySf",
        "outputId": "50c1718d-6252-432e-eda5-4f887e3205d1"
      },
      "source": [
        "for listelement in MyList:\n",
        "  print(1)\n",
        "print(listelement)  #,listelement*3)\n",
        "\n",
        "#YOUR CODE\n",
        "#YOUR CODE\n"
      ],
      "execution_count": null,
      "outputs": [
        {
          "output_type": "stream",
          "name": "stdout",
          "text": [
            "1\n",
            "1\n",
            "1\n",
            "1\n",
            "1\n",
            "0.6666666666666666\n"
          ]
        }
      ]
    },
    {
      "cell_type": "code",
      "source": [
        "MyList"
      ],
      "metadata": {
        "colab": {
          "base_uri": "https://localhost:8080/"
        },
        "id": "N3Saj3z8JpdI",
        "outputId": "79283aa8-4493-4044-c4ab-517c206dd09b"
      },
      "execution_count": null,
      "outputs": [
        {
          "output_type": "execute_result",
          "data": {
            "text/plain": [
              "[3, 4, 6, 9, 0.6666666666666666]"
            ]
          },
          "metadata": {},
          "execution_count": 19
        }
      ]
    },
    {
      "cell_type": "markdown",
      "metadata": {
        "id": "kNWEtVtztdZs"
      },
      "source": [
        " use a for cycle to add up the elements of MyList\n",
        "\n"
      ]
    },
    {
      "cell_type": "code",
      "metadata": {
        "id": "Gjr1ovvgtcPj",
        "colab": {
          "base_uri": "https://localhost:8080/"
        },
        "outputId": "15a3648c-53c0-4bea-9f6a-b06c5146b6bf"
      },
      "source": [
        "Sum=0 #  what you should do is to change the value of Sum with each iteration\n",
        "for i in MyList:\n",
        "  Sum=Sum+i\n",
        "  print(i,Sum)\n",
        "print(Sum)\n"
      ],
      "execution_count": null,
      "outputs": [
        {
          "output_type": "stream",
          "name": "stdout",
          "text": [
            "3 3\n",
            "4 7\n",
            "6 13\n",
            "9 22\n",
            "0.6666666666666666 22.666666666666668\n",
            "22.666666666666668\n"
          ]
        }
      ]
    },
    {
      "cell_type": "code",
      "source": [
        "sum(MyList)"
      ],
      "metadata": {
        "colab": {
          "base_uri": "https://localhost:8080/"
        },
        "id": "73o_5k1qM7dL",
        "outputId": "7bc58c5e-7d6b-4ba1-d21b-bf416da748e1"
      },
      "execution_count": null,
      "outputs": [
        {
          "output_type": "execute_result",
          "data": {
            "text/plain": [
              "22.666666666666668"
            ]
          },
          "metadata": {},
          "execution_count": 27
        }
      ]
    },
    {
      "cell_type": "code",
      "source": [
        "for number in MyList:\n",
        "  print(number)"
      ],
      "metadata": {
        "colab": {
          "base_uri": "https://localhost:8080/"
        },
        "id": "wav5zjPfe1GI",
        "outputId": "9b1284ab-52cf-4d68-f364-b833bbca8fff"
      },
      "execution_count": null,
      "outputs": [
        {
          "output_type": "stream",
          "name": "stdout",
          "text": [
            "3\n",
            "4\n",
            "6\n",
            "9\n",
            "0.6666666666666666\n"
          ]
        }
      ]
    },
    {
      "cell_type": "code",
      "source": [],
      "metadata": {
        "id": "M3QbjvA5fZ0A"
      },
      "execution_count": null,
      "outputs": []
    },
    {
      "cell_type": "markdown",
      "source": [
        "## for cycle with range\n",
        "test how to use range(N) to count with a for cycle\n",
        "\n",
        "print numbers 0 to 8"
      ],
      "metadata": {
        "id": "_g4rhh3rMrfe"
      }
    },
    {
      "cell_type": "code",
      "source": [
        "for i in range(4):\n",
        "  print(i)"
      ],
      "metadata": {
        "id": "HQvPkJhQMqd2",
        "colab": {
          "base_uri": "https://localhost:8080/"
        },
        "outputId": "f4918530-5449-4160-b762-aeda3a54af6d"
      },
      "execution_count": null,
      "outputs": [
        {
          "output_type": "stream",
          "name": "stdout",
          "text": [
            "0\n",
            "1\n",
            "2\n",
            "3\n"
          ]
        }
      ]
    },
    {
      "cell_type": "markdown",
      "metadata": {
        "id": "IKU2f9fLwA8-"
      },
      "source": [
        "Below we define a list of animals, and another list that shows their corresponding weigths"
      ]
    },
    {
      "cell_type": "code",
      "metadata": {
        "colab": {
          "base_uri": "https://localhost:8080/"
        },
        "id": "-6CpCClmwVqq",
        "outputId": "514759b3-59ef-4446-c611-8e2276b7fbf5"
      },
      "source": [
        "Animals=['Dog','Cat','Elephant','Horse','Rat','Mouse']\n",
        "Weights=[20,2,6e3,500,.3,.02] #kg\n",
        "print(Animals,Weights)\n",
        "print('Number of animals',len(Animals))"
      ],
      "execution_count": null,
      "outputs": [
        {
          "output_type": "stream",
          "name": "stdout",
          "text": [
            "['Dog', 'Cat', 'Elephant', 'Horse', 'Rat', 'Mouse'] [20, 2, 6000.0, 500, 0.3, 0.02]\n",
            "Number of animals 6\n"
          ]
        }
      ]
    },
    {
      "cell_type": "markdown",
      "source": [
        "Add an animal of your choice to the list, also add the corresponding weight\n",
        "\n",
        "use .append()"
      ],
      "metadata": {
        "id": "4VAoOf8DLN8q"
      }
    },
    {
      "cell_type": "code",
      "source": [
        "Animals.append('racoon')\n",
        "Weights.append(2)\n",
        "\n",
        "print(Animals)"
      ],
      "metadata": {
        "id": "3P3G7uEJLMpZ",
        "colab": {
          "base_uri": "https://localhost:8080/"
        },
        "outputId": "a1c5e19e-1946-4989-fc91-e1dbc264ed15"
      },
      "execution_count": null,
      "outputs": [
        {
          "output_type": "stream",
          "name": "stdout",
          "text": [
            "['Dog', 'Cat', 'Elephant', 'Horse', 'Rat', 'Mouse', 'racoon']\n"
          ]
        }
      ]
    },
    {
      "cell_type": "markdown",
      "source": [
        "## INDEXING\n",
        "in python we use [] for indexing  \n",
        "and as you will see, indexing is zero based!\n",
        "\n",
        "1. print the name of the first animal\n",
        "\n",
        "2. print the name of the 2nd animal\n",
        "\n",
        "3. print the name of the last animal\n",
        "\n",
        "4. print all animals, but not the first.."
      ],
      "metadata": {
        "id": "WHY0zWVcOpuI"
      }
    },
    {
      "cell_type": "code",
      "metadata": {
        "colab": {
          "base_uri": "https://localhost:8080/"
        },
        "id": "jZ2S5-eyDPtN",
        "outputId": "df4399af-326b-4c4d-f583-f39f78901c48"
      },
      "source": [
        "print(Animals)\n",
        "print(Animals[0])\n",
        "print(Animals[1])\n",
        "print(Animals[-2])\n",
        "print(Animals[:3])\n",
        "print(Animals[1:])\n",
        "print(Animals[0:-1])\n"
      ],
      "execution_count": null,
      "outputs": [
        {
          "output_type": "stream",
          "name": "stdout",
          "text": [
            "['Dog', 'Cat', 'Elephant', 'Horse', 'Rat', 'Mouse', 'racoon']\n",
            "Dog\n",
            "Cat\n",
            "Mouse\n",
            "['Dog', 'Cat', 'Elephant']\n",
            "['Cat', 'Elephant', 'Horse', 'Rat', 'Mouse', 'racoon']\n",
            "['Dog', 'Cat', 'Elephant', 'Horse', 'Rat', 'Mouse']\n"
          ]
        }
      ]
    },
    {
      "cell_type": "markdown",
      "metadata": {
        "id": "jdTzvLDTwg-b"
      },
      "source": [
        "## for cycle continued\n",
        "Loop through the animals with a for loop,\n",
        "1. print the name of each animal\n",
        "2. and the length of their names"
      ]
    },
    {
      "cell_type": "code",
      "metadata": {
        "id": "up0BhX--wl55",
        "colab": {
          "base_uri": "https://localhost:8080/"
        },
        "outputId": "bba44430-5f40-42eb-a0e9-6105f5bd7b6b"
      },
      "source": [
        "for i in range(6):\n",
        "  print(Animals[i])\n"
      ],
      "execution_count": null,
      "outputs": [
        {
          "output_type": "stream",
          "name": "stdout",
          "text": [
            "Dog\n",
            "Cat\n",
            "Elephant\n",
            "Horse\n",
            "Rat\n",
            "Mouse\n"
          ]
        }
      ]
    },
    {
      "cell_type": "code",
      "source": [
        "for i in Animals:\n",
        "  print(i,len(i))\n"
      ],
      "metadata": {
        "colab": {
          "base_uri": "https://localhost:8080/"
        },
        "id": "KNpapSNNSOl-",
        "outputId": "86ac1e70-8d30-4ed6-bb80-9fe1519e884d"
      },
      "execution_count": null,
      "outputs": [
        {
          "output_type": "stream",
          "name": "stdout",
          "text": [
            "Dog 3\n",
            "Cat 3\n",
            "Elephant 8\n",
            "Horse 5\n",
            "Rat 3\n",
            "Mouse 5\n"
          ]
        }
      ]
    },
    {
      "cell_type": "markdown",
      "metadata": {
        "id": "NpJphQeQw5IB"
      },
      "source": [
        "## for cycle with indexing\n",
        "Loop throuh Animals, and print the names and the corresponding weights, add \"kg\"\n",
        "\n",
        "eg:  Dog : 20 kg\n"
      ]
    },
    {
      "cell_type": "code",
      "metadata": {
        "id": "hyoqKD85w5Z2",
        "colab": {
          "base_uri": "https://localhost:8080/"
        },
        "outputId": "018293a3-4b98-47ac-93d3-f87f04c3649c"
      },
      "source": [
        "for i in range(6):\n",
        "  print(Animals[i],Weights[i],'kg')\n",
        "\n"
      ],
      "execution_count": null,
      "outputs": [
        {
          "output_type": "stream",
          "name": "stdout",
          "text": [
            "Dog 20 kg\n",
            "Cat 2 kg\n",
            "Elephant 6000.0 kg\n",
            "Horse 500 kg\n",
            "Rat 0.3 kg\n",
            "Mouse 0.02 kg\n"
          ]
        }
      ]
    },
    {
      "cell_type": "markdown",
      "metadata": {
        "id": "xIkdVCV7xJ__"
      },
      "source": [
        "# if conditional\n",
        "Loop through Animals   \n",
        "1. print their name only if they are heavier than 5kg\n",
        "2. if they are smaller than 1kg print the \"species name\" \"is a very small animal\"\n",
        "\n",
        "you will have to use the if and else logical statements"
      ]
    },
    {
      "cell_type": "code",
      "metadata": {
        "id": "qXln296ixIfh",
        "colab": {
          "base_uri": "https://localhost:8080/"
        },
        "outputId": "7c92b561-995a-4512-ddc8-7bfce31b5086"
      },
      "source": [
        "\n",
        "Nanimals=len(Animals)\n",
        "for i in range(Nanimals):\n",
        "  print(i)\n",
        "  if Weights[i]>5:\n",
        "    print(Animals[i])\n",
        "  elif Weights[i]<1:\n",
        "    print(Animals[i],' is a very small animal')"
      ],
      "execution_count": null,
      "outputs": [
        {
          "output_type": "stream",
          "name": "stdout",
          "text": [
            "0\n",
            "Dog\n",
            "1\n",
            "2\n",
            "Elephant\n",
            "3\n",
            "Horse\n",
            "4\n",
            "Rat  is a very small animal\n",
            "5\n",
            "Mouse  is a very small animal\n",
            "6\n"
          ]
        }
      ]
    },
    {
      "cell_type": "code",
      "source": [
        "c=0\n",
        "for i in Animals:\n",
        "  print(c)\n",
        "  if Weights[c]>5:\n",
        "    print(i)\n",
        "  elif Weights[c]<1:\n",
        "    print(i,' is a very small animal')\n",
        "  c=c+1\n",
        "\n"
      ],
      "metadata": {
        "colab": {
          "base_uri": "https://localhost:8080/"
        },
        "id": "7vShMSg1uzaW",
        "outputId": "33e26cb8-7c26-40ee-d19a-d74721145e2d"
      },
      "execution_count": null,
      "outputs": [
        {
          "output_type": "stream",
          "name": "stdout",
          "text": [
            "0\n",
            "Dog\n",
            "1\n",
            "2\n",
            "Elephant\n",
            "3\n",
            "Horse\n",
            "4\n",
            "Rat  is a very small animal\n",
            "5\n",
            "Mouse  is a very small animal\n",
            "6\n"
          ]
        }
      ]
    },
    {
      "cell_type": "code",
      "source": [],
      "metadata": {
        "colab": {
          "base_uri": "https://localhost:8080/"
        },
        "id": "LbKKDrpCvVKM",
        "outputId": "93365140-365f-4d1f-a081-a8692a1c7870"
      },
      "execution_count": null,
      "outputs": [
        {
          "output_type": "execute_result",
          "data": {
            "text/plain": [
              "7"
            ]
          },
          "metadata": {},
          "execution_count": 29
        }
      ]
    },
    {
      "cell_type": "markdown",
      "metadata": {
        "id": "1sFxo64LCl2F"
      },
      "source": [
        " combining conditionals\n",
        "\n",
        " loop through animals, and print their names only if the weigth is bigger than 10 kg AND their name is shorter than 6 characters\n"
      ]
    },
    {
      "cell_type": "code",
      "metadata": {
        "id": "8_f6hfaOC-Db",
        "colab": {
          "base_uri": "https://localhost:8080/"
        },
        "outputId": "03bd6264-f171-4ab5-bcfe-0c457e185b08"
      },
      "source": [
        "Nanimals=len(Animals)\n",
        "for i in range(Nanimals):\n",
        "  print(i)\n",
        "  if Weights[i]>10 and len(Animals[i])<6:  #\n",
        "    print(Animals[i])\n"
      ],
      "execution_count": null,
      "outputs": [
        {
          "output_type": "stream",
          "name": "stdout",
          "text": [
            "0\n",
            "Dog\n",
            "1\n",
            "2\n",
            "3\n",
            "Horse\n",
            "4\n",
            "5\n",
            "6\n"
          ]
        }
      ]
    },
    {
      "cell_type": "markdown",
      "source": [
        "\n",
        "**more advanced: **\n",
        "\n",
        "but we will use it later!\n",
        "\n",
        "try using enumerate with a for cycle to solve the task above\n",
        "enumerate enables writing cleaner code\n"
      ],
      "metadata": {
        "id": "COYYvnIiNiS7"
      }
    },
    {
      "cell_type": "code",
      "source": [],
      "metadata": {
        "id": "AmdDqbvnNjny"
      },
      "execution_count": null,
      "outputs": []
    },
    {
      "cell_type": "markdown",
      "metadata": {
        "id": "u_PgTe3BybCP"
      },
      "source": [
        "### embedded for cycles:\n",
        "what is the weight difference between each pair of species:\n",
        "\n",
        "1. write two embedded for cycles, and calculate the squared difference in weigth ,\n",
        "print the two species names, and the calculcated difference.\n",
        "\n",
        "2. do not print comparison of the species to itself"
      ]
    },
    {
      "cell_type": "code",
      "source": [
        "for i in range(Nanimals):\n",
        "  for j in range(Nanimals):\n",
        "    Difference=(Weights[i]-Weights[j])**2\n",
        "    if i!=j:\n",
        "      print(Animals[i],Animals[j],Difference)\n",
        "    #print('i: ',i,'j: ',j)"
      ],
      "metadata": {
        "id": "d1203-DoHSk7",
        "colab": {
          "base_uri": "https://localhost:8080/"
        },
        "outputId": "c38a5934-8a5b-4edb-998e-b4745f375452"
      },
      "execution_count": null,
      "outputs": [
        {
          "output_type": "stream",
          "name": "stdout",
          "text": [
            "Dog Cat 324\n",
            "Dog Elephant 35760400.0\n",
            "Dog Horse 230400\n",
            "Dog Rat 388.09\n",
            "Dog Mouse 399.2004\n",
            "Dog racoon 324\n",
            "Cat Dog 324\n",
            "Cat Elephant 35976004.0\n",
            "Cat Horse 248004\n",
            "Cat Rat 2.8899999999999997\n",
            "Cat Mouse 3.9204\n",
            "Cat racoon 0\n",
            "Elephant Dog 35760400.0\n",
            "Elephant Cat 35976004.0\n",
            "Elephant Horse 30250000.0\n",
            "Elephant Rat 35996400.089999996\n",
            "Elephant Mouse 35999760.00039999\n",
            "Elephant racoon 35976004.0\n",
            "Horse Dog 230400\n",
            "Horse Cat 248004\n",
            "Horse Elephant 30250000.0\n",
            "Horse Rat 249700.09\n",
            "Horse Mouse 249980.00040000002\n",
            "Horse racoon 248004\n",
            "Rat Dog 388.09\n",
            "Rat Cat 2.8899999999999997\n",
            "Rat Elephant 35996400.089999996\n",
            "Rat Horse 249700.09\n",
            "Rat Mouse 0.07839999999999998\n",
            "Rat racoon 2.8899999999999997\n",
            "Mouse Dog 399.2004\n",
            "Mouse Cat 3.9204\n",
            "Mouse Elephant 35999760.00039999\n",
            "Mouse Horse 249980.00040000002\n",
            "Mouse Rat 0.07839999999999998\n",
            "Mouse racoon 3.9204\n",
            "racoon Dog 324\n",
            "racoon Cat 0\n",
            "racoon Elephant 35976004.0\n",
            "racoon Horse 248004\n",
            "racoon Rat 2.8899999999999997\n",
            "racoon Mouse 3.9204\n"
          ]
        }
      ]
    },
    {
      "cell_type": "code",
      "source": [
        "\n",
        "\n",
        "\n",
        "for i in range(Nanimals):\n",
        "  for j in range(Nanimals):\n",
        "    Difference=(Weights[i]-Weights[j])**2\n",
        "    if Animals[i]!=Animals[j]:\n",
        "        print(Animals[i],Animals[j],Difference)\n"
      ],
      "metadata": {
        "colab": {
          "base_uri": "https://localhost:8080/"
        },
        "id": "XTOc-r70yKL1",
        "outputId": "14e8f9cb-e46b-45f7-b557-839d6cc9778e"
      },
      "execution_count": null,
      "outputs": [
        {
          "output_type": "stream",
          "name": "stdout",
          "text": [
            "Dog Cat 324\n",
            "Dog Elephant 35760400.0\n",
            "Dog Horse 230400\n",
            "Dog Rat 388.09\n",
            "Dog Mouse 399.2004\n",
            "Dog racoon 324\n",
            "Cat Dog 324\n",
            "Cat Elephant 35976004.0\n",
            "Cat Horse 248004\n",
            "Cat Rat 2.8899999999999997\n",
            "Cat Mouse 3.9204\n",
            "Cat racoon 0\n",
            "Elephant Dog 35760400.0\n",
            "Elephant Cat 35976004.0\n",
            "Elephant Horse 30250000.0\n",
            "Elephant Rat 35996400.089999996\n",
            "Elephant Mouse 35999760.00039999\n",
            "Elephant racoon 35976004.0\n",
            "Horse Dog 230400\n",
            "Horse Cat 248004\n",
            "Horse Elephant 30250000.0\n",
            "Horse Rat 249700.09\n",
            "Horse Mouse 249980.00040000002\n",
            "Horse racoon 248004\n",
            "Rat Dog 388.09\n",
            "Rat Cat 2.8899999999999997\n",
            "Rat Elephant 35996400.089999996\n",
            "Rat Horse 249700.09\n",
            "Rat Mouse 0.07839999999999998\n",
            "Rat racoon 2.8899999999999997\n",
            "Mouse Dog 399.2004\n",
            "Mouse Cat 3.9204\n",
            "Mouse Elephant 35999760.00039999\n",
            "Mouse Horse 249980.00040000002\n",
            "Mouse Rat 0.07839999999999998\n",
            "Mouse racoon 3.9204\n",
            "racoon Dog 324\n",
            "racoon Cat 0\n",
            "racoon Elephant 35976004.0\n",
            "racoon Horse 248004\n",
            "racoon Rat 2.8899999999999997\n",
            "racoon Mouse 3.9204\n"
          ]
        }
      ]
    },
    {
      "cell_type": "markdown",
      "metadata": {
        "id": "O8gb7kGCzDy8"
      },
      "source": [
        "# FUNCTIONS\n",
        "functions are essentialy tools for computation, that enable re-using the same computations in different scenarios, thereby allowing us to write much cleaner code.\n",
        "usually a function takes some input(s), performs some computation on the input(s), and returns the output(s).\n",
        "\n",
        "1.  the function below is already completed, so that it return the first element of  the input\n",
        "\n",
        "2. change the function that it returns the first and last element of the input"
      ]
    },
    {
      "cell_type": "code",
      "metadata": {
        "id": "cNA93ZFNzCAJ"
      },
      "source": [
        "def FirstFunc(myinput):\n",
        "  print(Weights)\n",
        "  return myinput[0]\n",
        ""
      ],
      "execution_count": null,
      "outputs": []
    },
    {
      "cell_type": "code",
      "metadata": {
        "id": "voz7wOWMu411"
      },
      "source": [
        "ani1=FirstFunc(Animals)"
      ],
      "execution_count": null,
      "outputs": []
    },
    {
      "cell_type": "code",
      "source": [
        "ani1"
      ],
      "metadata": {
        "colab": {
          "base_uri": "https://localhost:8080/",
          "height": 35
        },
        "id": "QhC92iQq0InM",
        "outputId": "66aea211-4bf1-4776-a340-9c65e4ec68aa"
      },
      "execution_count": null,
      "outputs": [
        {
          "output_type": "execute_result",
          "data": {
            "text/plain": [
              "'Dog'"
            ],
            "application/vnd.google.colaboratory.intrinsic+json": {
              "type": "string"
            }
          },
          "metadata": {},
          "execution_count": 60
        }
      ]
    },
    {
      "cell_type": "code",
      "source": [
        "def FirstFunc(myinput):\n",
        "  return myinput[0]"
      ],
      "metadata": {
        "id": "q7AwmGgPq-CK"
      },
      "execution_count": null,
      "outputs": []
    },
    {
      "cell_type": "code",
      "source": [
        "def FirstandLast(myinput):\n",
        "  return myinput[0],myinput[-1]\n"
      ],
      "metadata": {
        "id": "Haetz8hCzacE"
      },
      "execution_count": null,
      "outputs": []
    },
    {
      "cell_type": "code",
      "source": [
        "ani1,ani2=FirstandLast(Animals)"
      ],
      "metadata": {
        "id": "1UvU0qrkz0MX"
      },
      "execution_count": null,
      "outputs": []
    },
    {
      "cell_type": "code",
      "source": [
        "ani1"
      ],
      "metadata": {
        "colab": {
          "base_uri": "https://localhost:8080/",
          "height": 35
        },
        "id": "WEVhB5jP0Qfb",
        "outputId": "1cf905ef-fb98-4a77-d6eb-fa9b7be94742"
      },
      "execution_count": null,
      "outputs": [
        {
          "output_type": "execute_result",
          "data": {
            "text/plain": [
              "'Dog'"
            ],
            "application/vnd.google.colaboratory.intrinsic+json": {
              "type": "string"
            }
          },
          "metadata": {},
          "execution_count": 65
        }
      ]
    },
    {
      "cell_type": "markdown",
      "metadata": {
        "id": "i2IgTxkSzTaU"
      },
      "source": [
        "FUNCTIONS 2\n",
        "\n",
        "write a function that is called MaxOfTwo that takes 2 numbers as input, a returns the bigger"
      ]
    },
    {
      "cell_type": "code",
      "metadata": {
        "id": "3pUqvl911Rt3"
      },
      "source": [
        "def MaxOfTwo(x,y):\n",
        "  if x>y:\n",
        "    return x # YOUD CODE\n",
        "  if y>x:\n",
        "    return y\n",
        "  if y==x:\n",
        "    return 'equal'\n"
      ],
      "execution_count": null,
      "outputs": []
    },
    {
      "cell_type": "markdown",
      "metadata": {
        "id": "BynSrCjc124h"
      },
      "source": [
        " if you completed the code above,\n",
        " the below should run and return 3 and 4"
      ]
    },
    {
      "cell_type": "code",
      "metadata": {
        "id": "dIkWqKtx11S2",
        "colab": {
          "base_uri": "https://localhost:8080/"
        },
        "outputId": "d77bbdc7-4537-414a-f95e-0296495a1538"
      },
      "source": [
        "print(MaxOfTwo(1,3))\n",
        "\n",
        "print(MaxOfTwo(4,3))"
      ],
      "execution_count": null,
      "outputs": [
        {
          "output_type": "stream",
          "name": "stdout",
          "text": [
            "3\n",
            "4\n"
          ]
        }
      ]
    },
    {
      "cell_type": "code",
      "source": [
        "print(MaxOfTwo(3,3))"
      ],
      "metadata": {
        "colab": {
          "base_uri": "https://localhost:8080/"
        },
        "id": "vmxplbCq1Bw-",
        "outputId": "fb3187a2-871e-430c-b6eb-79d0a317ba9a"
      },
      "execution_count": null,
      "outputs": [
        {
          "output_type": "stream",
          "name": "stdout",
          "text": [
            "equal\n"
          ]
        }
      ]
    },
    {
      "cell_type": "markdown",
      "metadata": {
        "id": "aa8b_ryHmqFe"
      },
      "source": [
        "## Homework  1\n",
        "python general\n",
        "create a function, that for an input list of interger numbers, calculates the number of odd and even numbers, returns both numbers\n",
        "\n",
        "the code should work regardless of the length of the list\n",
        "\n",
        "\n",
        "\n"
      ]
    },
    {
      "cell_type": "code",
      "metadata": {
        "id": "bjGGnvdlmuI4"
      },
      "source": [
        "def CountInt(AnyList):\n",
        "  # YOUR CODE\n",
        "  # YOUR CODE\n",
        "  # YOUR CODE\n",
        "  # YOUR CODE\n",
        "  return NumEven,NumOdd"
      ],
      "execution_count": null,
      "outputs": []
    },
    {
      "cell_type": "markdown",
      "metadata": {
        "id": "uHoPro_Qr0Sl"
      },
      "source": [
        "## Homework  2\n",
        "\n",
        "common elements\n",
        "\n",
        "write a function\n",
        "that takes 2 lists as input,\n",
        "and makes a new list, that contains the numbers only that occur in both lists\n",
        "the output of the function should be this new list\n",
        "\n"
      ]
    },
    {
      "cell_type": "code",
      "metadata": {
        "id": "IGTykq-Ir2eM"
      },
      "source": [
        "List1=[5,7,3,23,43,532,45,5,4,4,3,32,234,35,355,3,545,45,11,2,4,6,98,2,3,5,6,2,3,45,7,4,56,54,43,3]\n",
        "List2=[151,1,66,44,33,22,45,23,35]"
      ],
      "execution_count": null,
      "outputs": []
    },
    {
      "cell_type": "code",
      "source": [],
      "metadata": {
        "id": "E6onw5mhJARq"
      },
      "execution_count": null,
      "outputs": []
    }
  ]
}