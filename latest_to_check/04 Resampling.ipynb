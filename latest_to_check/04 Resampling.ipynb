{
 "cells": [
  {
   "cell_type": "markdown",
   "metadata": {
    "id": "dW3BvorG4SCX"
   },
   "source": [
    "# TEWA 1 - Tutorial 4\n",
    "## Permutation test and data visualization tutorial\n",
    "23/March/2022\n",
    "\n",
    "\n",
    " Jozsef Arato"
   ]
  },
  {
   "cell_type": "markdown",
   "metadata": {
    "id": "pVRiO-appks7"
   },
   "source": [
    "\n",
    "\n",
    "this tutorial is working on permutation test(also called randomization test), to compare data from 2 independent groups (as the independent samples t-test)\n",
    "\n",
    "\n",
    "as discussed on Monday, permutation test is a way of randomly resampling the data, to create a distibution that would be expected based on chance (or under the null hypothesis)\n",
    "\n",
    "\n",
    "we compare set of data sets of average reaction times (as treatment and control group)"
   ]
  },
  {
   "cell_type": "markdown",
   "metadata": {
    "id": "nDq7RQSap9Cb"
   },
   "source": [
    "### import libraries"
   ]
  },
  {
   "cell_type": "code",
   "execution_count": 1,
   "metadata": {
    "id": "l-D3BwIshN_C"
   },
   "outputs": [],
   "source": [
    "import numpy as np\n",
    "from matplotlib import pyplot as plt\n",
    "from scipy import stats"
   ]
  },
  {
   "cell_type": "markdown",
   "metadata": {
    "id": "UmTylXlnp_ID"
   },
   "source": [
    "## the two datasets\n",
    "- Below are the reaction time data for the treatment (data1) and control (data2) groups.\n",
    "- between subject design"
   ]
  },
  {
   "cell_type": "code",
   "execution_count": 2,
   "metadata": {
    "id": "tQZdWFChr2y3"
   },
   "outputs": [],
   "source": [
    "Data1=np.array([444.48703626, 420.71413104, 482.04432447, 380.46896668,\n",
    "       420.56864234, 474.09130417, 414.9748433 , 450.15423802,\n",
    "       436.53977461, 500.12705411, 405.00705696, 419.3141794 ,\n",
    "       460.46096974, 450.54358948, 420.93431563, 467.40481135,\n",
    "       510.84094939, 482.61924772, 480.32638462, 510.76756724])\n",
    "\n",
    "Data2=np.array([420.1243685 , 501.25211241, 454.37132587, 600.39850065,\n",
    "       501.79657108, 481.94197109, 469.51703441, 449.82747137,\n",
    "       450.98838458, 477.15878941, 570.00039675, 460.18766471,\n",
    "       432.70480616, 480.38394358, 478.46070285, 485.71067427,\n",
    "       487.91937261, 505.86604195, 495.8480102 , 480.9547509 ])"
   ]
  },
  {
   "cell_type": "markdown",
   "metadata": {
    "id": "TUeihHxwsPwW"
   },
   "source": [
    "## data exploration\n",
    "first step is to explore the two data sets:\n",
    "1. print number of participants\n",
    "2. print the mean for both groups\n",
    "3. print the SD for both group\n",
    "4. make a plot with two subplots, with a histogram for both groups\n"
   ]
  },
  {
   "cell_type": "code",
   "execution_count": 3,
   "metadata": {
    "colab": {
     "base_uri": "https://localhost:8080/"
    },
    "id": "U0izrtq3soQu",
    "outputId": "adf20bc9-1243-45f1-84a1-f3d9001734d8"
   },
   "outputs": [
    {
     "name": "stdout",
     "output_type": "stream",
     "text": [
      "number of participants 20 20\n",
      "average treatment reaction time 451.62\n",
      "average control reaction time 484.2706446675\n",
      "standard deviations 40.5720895744291 40.5720895744291\n"
     ]
    }
   ],
   "source": [
    "print('number of participants',len(Data1),len(Data2))\n",
    "print('average treatment reaction time',np.round(np.mean(Data1),2))\n",
    "print('average control reaction time',np.mean(Data2))\n",
    "print('standard deviations',np.std(Data2),np.std(Data2))\n"
   ]
  },
  {
   "cell_type": "code",
   "execution_count": 4,
   "metadata": {
    "colab": {
     "base_uri": "https://localhost:8080/",
     "height": 313
    },
    "id": "9NWq0HR4A7XR",
    "outputId": "761e503a-617d-4742-ea20-74050d211209"
   },
   "outputs": [
    {
     "data": {
      "text/plain": [
       "Text(0.5, 1.0, 'Control')"
      ]
     },
     "execution_count": 4,
     "metadata": {},
     "output_type": "execute_result"
    },
    {
     "data": {
      "image/png": "[encoded data removed]",
      "text/plain": [
       "<Figure size 640x480 with 2 Axes>"
      ]
     },
     "metadata": {},
     "output_type": "display_data"
    }
   ],
   "source": [
    "\n",
    "fig,ax= plt.subplots(ncols=2)  #nrows\n",
    "ax[0].hist(Data1)\n",
    "ax[0].set_xlabel('reaction time (ms)')\n",
    "ax[0].set_title('Treatment')\n",
    "ax[1].hist(Data2)\n",
    "ax[1].set_xlabel('reaction time (ms)')\n",
    "ax[1].set_title('Control')\n"
   ]
  },
  {
   "cell_type": "markdown",
   "metadata": {
    "id": "TQC7IXdLm4Bt"
   },
   "source": [
    "Calculate the difference of means between the groups, and store it, called TrueDiff\n"
   ]
  },
  {
   "cell_type": "code",
   "execution_count": null,
   "metadata": {
    "colab": {
     "base_uri": "https://localhost:8080/"
    },
    "id": "rPHOmrP8m6KG",
    "outputId": "b052151e-f9b6-4db9-828f-2ef08da1f001"
   },
   "outputs": [
    {
     "name": "stdout",
     "output_type": "stream",
     "text": [
      "-32.651175341\n"
     ]
    }
   ],
   "source": [
    "TrueDiff=np.mean(Data1)-np.mean(Data2)\n",
    "print(TrueDiff)\n"
   ]
  },
  {
   "cell_type": "markdown",
   "metadata": {
    "id": "4PMS-S8_U9To"
   },
   "source": [
    "## visualize the means with errorbars showing the standard deviaton\n",
    "\n",
    "the non-optional arguments of errorbar are:\n",
    "\n",
    "1. x location\n",
    "2. y location\n",
    "3. errorbar (std)\n",
    "\n",
    "in this case, lets use 0 and 1 for x, for the two lines"
   ]
  },
  {
   "cell_type": "code",
   "execution_count": null,
   "metadata": {
    "colab": {
     "base_uri": "https://localhost:8080/",
     "height": 319
    },
    "id": "eyb8irbNTcU4",
    "outputId": "ebaa3bbe-0efe-412d-d3a6-29276cc17681"
   },
   "outputs": [
    {
     "data": {
      "text/plain": [
       "([<matplotlib.axis.XTick at 0x7fa40fcbf590>,\n",
       "  <matplotlib.axis.XTick at 0x7fa40fc19290>],\n",
       " [Text(0, 0, 'Treatment'), Text(0, 0, 'Control')])"
      ]
     },
     "execution_count": 7,
     "metadata": {},
     "output_type": "execute_result"
    },
    {
     "data": {
      "image/png": "[encoded data removed]",
      "text/plain": [
       "<Figure size 432x288 with 1 Axes>"
      ]
     },
     "metadata": {
      "needs_background": "light"
     },
     "output_type": "display_data"
    }
   ],
   "source": [
    "plt.figure()\n",
    "plt.errorbar(0,np.mean(Data1),np.std(Data1),marker='o',markersize=10)\n",
    "plt.errorbar(1,np.mean(Data2),np.std(Data2),marker='o',markersize=10)\n",
    "plt.ylabel('reaction time (ms)')\n",
    "plt.xlim([-1,2])\n",
    "plt.xticks(np.arange(2),['Treatment','Control'])"
   ]
  },
  {
   "cell_type": "markdown",
   "metadata": {
    "id": "8sUdvtaKaqCY"
   },
   "source": [
    "it is easy to do some more advanced visualization with matplotlib"
   ]
  },
  {
   "cell_type": "code",
   "execution_count": null,
   "metadata": {
    "colab": {
     "base_uri": "https://localhost:8080/",
     "height": 317
    },
    "id": "LICfG1_yZ3Xe",
    "outputId": "27bdee9c-67e8-4270-d613-c0cc1034065f"
   },
   "outputs": [
    {
     "data": {
      "text/plain": [
       "([<matplotlib.axis.XTick at 0x7ff32b754650>,\n",
       "  <matplotlib.axis.XTick at 0x7ff32b75fed0>],\n",
       " [Text(0, 0, 'Treatment'), Text(0, 0, 'Control')])"
      ]
     },
     "execution_count": 46,
     "metadata": {},
     "output_type": "execute_result"
    },
    {
     "data": {
      "image/png": "[encoded data removed]",
      "text/plain": [
       "<Figure size 432x288 with 1 Axes>"
      ]
     },
     "metadata": {
      "needs_background": "light"
     },
     "output_type": "display_data"
    }
   ],
   "source": [
    "plt.boxplot([Data1,Data2])\n",
    "plt.ylabel('reaction time (ms)')\n",
    "plt.xticks(np.arange(1,3),['Treatment','Control'])"
   ]
  },
  {
   "cell_type": "markdown",
   "metadata": {
    "id": "5UPtmZeUuJSz"
   },
   "source": [
    "## the core of the permutation test\n",
    "\n",
    "now lets try to implement the permutations test\n",
    "\n",
    "for these the main steps are:\n",
    " 1. create a combined numpy array containing the 2 data sets.\n",
    " 2. randomly permute the combined array\n",
    " 3. from the permuted array, select 2 groups (same size as the original groups)  \n",
    " 4. calculate the mean difference between the 2 permuted groups\n",
    " 5. store the permuted mean difference in a 1d array or a list\n",
    " 6. repeat steps 2-5 5000 times\n"
   ]
  },
  {
   "cell_type": "code",
   "execution_count": null,
   "metadata": {
    "colab": {
     "base_uri": "https://localhost:8080/"
    },
    "id": "5ZiOYTGuvYgu",
    "outputId": "223eed9f-6424-47ae-f654-261da6a7496e"
   },
   "outputs": [
    {
     "name": "stdout",
     "output_type": "stream",
     "text": [
      "(40,)\n"
     ]
    },
    {
     "data": {
      "text/plain": [
       "array([380.46896668, 495.8480102 , 480.32638462, 467.40481135,\n",
       "       414.9748433 , 482.04432447, 450.98838458, 478.46070285,\n",
       "       485.71067427, 469.51703441, 481.94197109, 487.91937261,\n",
       "       460.18766471, 460.46096974, 510.84094939, 432.70480616,\n",
       "       480.38394358, 444.48703626, 420.56864234, 454.37132587,\n",
       "       420.93431563, 501.79657108, 450.15423802, 510.76756724,\n",
       "       450.54358948, 419.3141794 , 449.82747137, 436.53977461,\n",
       "       501.25211241, 405.00705696, 420.71413104, 480.9547509 ,\n",
       "       505.86604195, 474.09130417, 477.15878941, 600.39850065,\n",
       "       500.12705411, 570.00039675, 420.1243685 , 482.61924772])"
      ]
     },
     "execution_count": 4,
     "metadata": {},
     "output_type": "execute_result"
    }
   ],
   "source": [
    "Combined=np.concatenate((Data1,Data2))\n",
    "print(np.shape(Combined))\n",
    "np.random.permutation(Combined)"
   ]
  },
  {
   "cell_type": "code",
   "execution_count": null,
   "metadata": {
    "colab": {
     "base_uri": "https://localhost:8080/"
    },
    "id": "nxwZHZHjLEco",
    "outputId": "e2287665-a13e-4297-abb7-9c580c556061"
   },
   "outputs": [
    {
     "data": {
      "text/plain": [
       "[array([436.53977461, 460.18766471, 501.25211241, 510.76756724,\n",
       "        474.09130417, 450.54358948, 510.84094939, 480.38394358,\n",
       "        482.61924772, 481.94197109, 480.9547509 , 505.86604195,\n",
       "        485.71067427, 477.15878941, 570.00039675, 420.56864234,\n",
       "        405.00705696, 487.91937261, 420.71413104, 414.9748433 ]),\n",
       " array([450.98838458, 480.32638462, 450.15423802, 420.93431563,\n",
       "        380.46896668, 469.51703441, 501.79657108, 467.40481135,\n",
       "        419.3141794 , 444.48703626, 420.1243685 , 449.82747137,\n",
       "        482.04432447, 460.46096974, 478.46070285, 454.37132587,\n",
       "        500.12705411, 432.70480616, 600.39850065, 495.8480102 ])]"
      ]
     },
     "execution_count": 5,
     "metadata": {},
     "output_type": "execute_result"
    }
   ],
   "source": [
    "Permuted=np.random.permutation(Combined)\n",
    "np.split(Permuted,2)\n"
   ]
  },
  {
   "cell_type": "code",
   "execution_count": null,
   "metadata": {
    "colab": {
     "base_uri": "https://localhost:8080/"
    },
    "id": "Rsvnx2VyLf6s",
    "outputId": "978423b0-25e1-4069-9695-5b20731c3b69"
   },
   "outputs": [
    {
     "name": "stdout",
     "output_type": "stream",
     "text": [
      "9.914168399000005\n"
     ]
    }
   ],
   "source": [
    "perm1=Permuted[0:len(Data1)]\n",
    "perm2=Permuted[len(Data1):]\n",
    "permdiff=np.mean(perm1)-np.mean(perm2)\n",
    "print(permdiff)"
   ]
  },
  {
   "cell_type": "markdown",
   "metadata": {
    "id": "BQm0_q9jnWkh"
   },
   "source": [
    "try to make your solution general -- that could work with data of any size and any permutations"
   ]
  },
  {
   "cell_type": "code",
   "execution_count": null,
   "metadata": {
    "id": "7sTHDq98OmoL"
   },
   "outputs": [],
   "source": [
    "Nperm=5000\n",
    "permdiffs=np.zeros(Nperm)\n",
    "for i in range(Nperm):\n",
    "  Permuted=np.random.permutation(Combined)\n",
    "  perm1=Permuted[0:len(Data1)]\n",
    "  perm2=Permuted[len(Data1):]\n",
    "  permdiffs[i]=np.mean(perm1)-np.mean(perm2)\n"
   ]
  },
  {
   "cell_type": "code",
   "execution_count": null,
   "metadata": {
    "colab": {
     "base_uri": "https://localhost:8080/"
    },
    "id": "pl0ENqshSdRN",
    "outputId": "dd46faed-1687-456e-8b95-5de2d1df9f6c"
   },
   "outputs": [
    {
     "data": {
      "text/plain": [
       "(5000,)"
      ]
     },
     "execution_count": 47,
     "metadata": {},
     "output_type": "execute_result"
    }
   ],
   "source": [
    "np.shape(permdiffs)"
   ]
  },
  {
   "cell_type": "code",
   "execution_count": null,
   "metadata": {
    "id": "iadq_2JL9GfG"
   },
   "outputs": [],
   "source": [
    "permdiffs=[]"
   ]
  },
  {
   "cell_type": "code",
   "execution_count": null,
   "metadata": {
    "id": "uyFPD_iQRr5f"
   },
   "outputs": [],
   "source": [
    "Nperm=2000\n",
    "permdiffs=[np.random.permutation(Combine]\n",
    "Combined=np.concatenate((Data1,Data2))\n",
    "for i in range(Nperm):\n",
    "  Permuted=np.random.permutation(Combined)\n",
    "  perm1=Permuted[0:len(Data1)]\n",
    "  perm2=Permuted[len(Data1):]\n",
    "  permdiffs.append(np.mean(perm1)-np.mean(perm2))\n",
    "permdiffs=np.array(permdiffs)\n"
   ]
  },
  {
   "cell_type": "code",
   "execution_count": null,
   "metadata": {
    "id": "-NnFSNDYR07l"
   },
   "outputs": [],
   "source": [
    "Nperm=2000\n",
    "permdiffs=np.zeros(Nperm)\n",
    "for i in range(Nperm):\n",
    "  Permuted=np.random.permutation(Combined)\n",
    "  permdiffs[i]=np.mean(Permuted[0:len(Data1)])-np.mean(Permuted[len(Data1):])\n"
   ]
  },
  {
   "cell_type": "code",
   "execution_count": null,
   "metadata": {
    "colab": {
     "base_uri": "https://localhost:8080/"
    },
    "id": "BaY1oU2DP1AM",
    "outputId": "27eecc2b-f936-47e9-e49e-bbe28f4b7865"
   },
   "outputs": [
    {
     "data": {
      "text/plain": [
       "array([ 24.64558773,   0.77564196, -11.67872173, ...,   9.15003478,\n",
       "       -16.72439742, -14.83502626])"
      ]
     },
     "execution_count": 34,
     "metadata": {},
     "output_type": "execute_result"
    }
   ],
   "source": [
    "permdiffs"
   ]
  },
  {
   "cell_type": "markdown",
   "metadata": {
    "id": "Uje6SCSipkBV"
   },
   "source": [
    "## evaluation of results\n",
    "Once this is done, calculate the p value of the true difference based on the permutation  \n",
    "(using np.abs and np.sum)\n",
    "\n",
    "\n",
    "hint: calculate how often chance produced a greater difference than the true difference\n"
   ]
  },
  {
   "cell_type": "code",
   "execution_count": null,
   "metadata": {
    "colab": {
     "base_uri": "https://localhost:8080/"
    },
    "id": "sT9fXPv9wh3F",
    "outputId": "20c7f2a6-697f-401a-ae7d-90946862c2ae"
   },
   "outputs": [
    {
     "name": "stdout",
     "output_type": "stream",
     "text": [
      "0.0075\n"
     ]
    }
   ],
   "source": [
    "PermutedP=np.sum(np.abs(TrueDiff)<np.abs(permdiffs))/Nperm\n",
    "print(PermutedP)"
   ]
  },
  {
   "cell_type": "code",
   "execution_count": null,
   "metadata": {
    "colab": {
     "base_uri": "https://localhost:8080/"
    },
    "id": "6qZDHf9g69eY",
    "outputId": "def56aff-3bc9-472a-e5a3-0b20058be57d"
   },
   "outputs": [
    {
     "data": {
      "text/plain": [
       "TtestResult(statistic=-2.629587192724802, pvalue=0.012273288618836418, df=38.0)"
      ]
     },
     "execution_count": 18,
     "metadata": {},
     "output_type": "execute_result"
    }
   ],
   "source": [
    "stats.ttest_ind(Data1,Data2)"
   ]
  },
  {
   "cell_type": "code",
   "execution_count": null,
   "metadata": {
    "colab": {
     "base_uri": "https://localhost:8080/"
    },
    "id": "vE0E3rGg8Qsq",
    "outputId": "85313475-777f-4ca9-ccf3-8087dfa8f62a"
   },
   "outputs": [
    {
     "data": {
      "text/plain": [
       "PermutationTestResult(statistic=-32.651175341, pvalue=0.0154, null_distribution=array([ 18.35030224,  -4.81335947,   8.19833176, ..., -10.0334839 ,\n",
       "       -14.61638165,  -7.46890427]))"
      ]
     },
     "execution_count": 22,
     "metadata": {},
     "output_type": "execute_result"
    }
   ],
   "source": [
    "def statistic(x, y, axis):\n",
    "    return np.mean(x, axis=axis) - np.mean(y, axis=axis)\n",
    "stats.permutation_test([Data1,Data2],statistic,permutation_type='independent')\n"
   ]
  },
  {
   "cell_type": "code",
   "execution_count": null,
   "metadata": {
    "colab": {
     "base_uri": "https://localhost:8080/"
    },
    "id": "sr0n16AMUEvM",
    "outputId": "0c7e1935-c1d3-46cc-8ae0-850cfef480cc"
   },
   "outputs": [
    {
     "data": {
      "text/plain": [
       "array([-10.01846379,  -3.84135325,   4.26380314, ...,  18.17551717,\n",
       "       -11.19409658,   0.34323864])"
      ]
     },
     "execution_count": 51,
     "metadata": {},
     "output_type": "execute_result"
    }
   ],
   "source": [
    "permdiffs"
   ]
  },
  {
   "cell_type": "code",
   "execution_count": null,
   "metadata": {
    "colab": {
     "base_uri": "https://localhost:8080/"
    },
    "id": "U_2MPmaaUI4P",
    "outputId": "ad85c655-aec3-475b-d2ef-56e158898491"
   },
   "outputs": [
    {
     "data": {
      "text/plain": [
       "array([10.01846379,  3.84135325,  4.26380314, ..., 18.17551717,\n",
       "       11.19409658,  0.34323864])"
      ]
     },
     "execution_count": 52,
     "metadata": {},
     "output_type": "execute_result"
    }
   ],
   "source": [
    "np.abs(permdiffs)"
   ]
  },
  {
   "cell_type": "markdown",
   "metadata": {
    "id": "iVH4WnnnvbfD"
   },
   "source": [
    "## visualization\n",
    "Once this is done we can evaluate of the result of the permutations visually\n",
    "\n",
    "1. make a histogram, of the permuted differences.\n",
    "2. mark it on the histogram with a vertical line, where the true difference falls.  with plt.plot\n",
    "in this case, you use plt.plot([xstart,xend],[ystart,yend],color='k')  -\n",
    "if you add the same value for xstart and xend, we get a vertical line\n",
    "\n",
    "3. using np.percentile, calculte thresholds for p<.05, and mark it with a vertical dashed lines (as in 3)\n",
    "\n",
    "\n",
    "\n"
   ]
  },
  {
   "cell_type": "code",
   "execution_count": null,
   "metadata": {
    "colab": {
     "base_uri": "https://localhost:8080/",
     "height": 301
    },
    "id": "J-ibZHs4vnsr",
    "outputId": "de1a571a-8d95-4f23-ba96-a959311411b1"
   },
   "outputs": [
    {
     "name": "stdout",
     "output_type": "stream",
     "text": [
      "[-24.94633557  25.2889561 ]\n"
     ]
    },
    {
     "data": {
      "text/plain": [
       "[<matplotlib.lines.Line2D at 0x7fa3fc605d10>]"
      ]
     },
     "execution_count": 54,
     "metadata": {},
     "output_type": "execute_result"
    },
    {
     "data": {
      "image/png": "[encoded data removed]",
      "text/plain": [
       "<Figure size 432x288 with 1 Axes>"
      ]
     },
     "metadata": {
      "needs_background": "light"
     },
     "output_type": "display_data"
    }
   ],
   "source": [
    "\n",
    "\n",
    "plt.hist(permdiffs)\n",
    "plt.plot([TrueDiff,TrueDiff],[0,Nperm/4],linewidth=3,color='darkred')   # in this solution, the heigth of the line is adapted to the number of permutations\n",
    "Thresholds=np.percentile(permdiffs,[2.5,97.5])\n",
    "print(Thresholds)\n",
    "plt.plot([Thresholds[0],Thresholds[0]],[0,Nperm/4],linewidth=3,color='k',linestyle='--')\n",
    "plt.plot([Thresholds[1],Thresholds[1]],[0,Nperm/4],linewidth=3,color='k',linestyle='--')\n"
   ]
  },
  {
   "cell_type": "markdown",
   "metadata": {
    "id": "TacZP1wWwjV7"
   },
   "source": [
    "## compare to t-test\n",
    "compare the result above with an independen sample t-test\n",
    "for this, we import scipy.stats below, so it can be accessed as stats.ttest_ind"
   ]
  },
  {
   "cell_type": "code",
   "execution_count": null,
   "metadata": {
    "colab": {
     "base_uri": "https://localhost:8080/"
    },
    "id": "HHWCoXUFwuyu",
    "outputId": "8e885fb4-2057-4368-8d50-e2b9008d03de"
   },
   "outputs": [
    {
     "data": {
      "text/plain": [
       "Ttest_indResult(statistic=-2.629587192724802, pvalue=0.012273288618836418)"
      ]
     },
     "execution_count": 55,
     "metadata": {},
     "output_type": "execute_result"
    }
   ],
   "source": [
    "from scipy import stats\n",
    "stats.ttest_ind(Data1,Data2)"
   ]
  },
  {
   "cell_type": "markdown",
   "metadata": {
    "id": "kUSTkGbFR_cj"
   },
   "source": [
    "## alternative for t-test\n",
    "pingouin library\n",
    "\n",
    "since this is not part of colab by default, we have to install it with !pip"
   ]
  },
  {
   "cell_type": "code",
   "execution_count": null,
   "metadata": {
    "colab": {
     "base_uri": "https://localhost:8080/"
    },
    "id": "cE1Nc19iRy0Y",
    "outputId": "6f5cc39b-bb6f-4561-e1dc-43522448f3f8"
   },
   "outputs": [
    {
     "name": "stdout",
     "output_type": "stream",
     "text": [
      "Looking in indexes: https://pypi.org/simple, https://us-python.pkg.dev/colab-wheels/public/simple/\n",
      "Collecting pingouin\n",
      "  Downloading pingouin-0.5.2.tar.gz (185 kB)\n",
      "\u001b[K     |████████████████████████████████| 185 kB 15.6 MB/s \n",
      "\u001b[?25hRequirement already satisfied: numpy>=1.19 in /usr/local/lib/python3.7/dist-packages (from pingouin) (1.21.6)\n",
      "Requirement already satisfied: scipy>=1.7 in /usr/local/lib/python3.7/dist-packages (from pingouin) (1.7.3)\n",
      "Requirement already satisfied: pandas>=1.0 in /usr/local/lib/python3.7/dist-packages (from pingouin) (1.3.5)\n",
      "Requirement already satisfied: matplotlib>=3.0.2 in /usr/local/lib/python3.7/dist-packages (from pingouin) (3.2.2)\n",
      "Requirement already satisfied: seaborn>=0.11 in /usr/local/lib/python3.7/dist-packages (from pingouin) (0.11.2)\n",
      "Collecting statsmodels>=0.13\n",
      "  Downloading statsmodels-0.13.2-cp37-cp37m-manylinux_2_17_x86_64.manylinux2014_x86_64.whl (9.8 MB)\n",
      "\u001b[K     |████████████████████████████████| 9.8 MB 25.8 MB/s \n",
      "\u001b[?25hRequirement already satisfied: scikit-learn<1.1.0 in /usr/local/lib/python3.7/dist-packages (from pingouin) (1.0.2)\n",
      "Collecting pandas_flavor>=0.2.0\n",
      "  Downloading pandas_flavor-0.3.0-py3-none-any.whl (6.3 kB)\n",
      "Collecting outdated\n",
      "  Downloading outdated-0.2.1-py3-none-any.whl (7.5 kB)\n",
      "Requirement already satisfied: tabulate in /usr/local/lib/python3.7/dist-packages (from pingouin) (0.8.10)\n",
      "Requirement already satisfied: pyparsing!=2.0.4,!=2.1.2,!=2.1.6,>=2.0.1 in /usr/local/lib/python3.7/dist-packages (from matplotlib>=3.0.2->pingouin) (3.0.9)\n",
      "Requirement already satisfied: cycler>=0.10 in /usr/local/lib/python3.7/dist-packages (from matplotlib>=3.0.2->pingouin) (0.11.0)\n",
      "Requirement already satisfied: kiwisolver>=1.0.1 in /usr/local/lib/python3.7/dist-packages (from matplotlib>=3.0.2->pingouin) (1.4.4)\n",
      "Requirement already satisfied: python-dateutil>=2.1 in /usr/local/lib/python3.7/dist-packages (from matplotlib>=3.0.2->pingouin) (2.8.2)\n",
      "Requirement already satisfied: typing-extensions in /usr/local/lib/python3.7/dist-packages (from kiwisolver>=1.0.1->matplotlib>=3.0.2->pingouin) (4.1.1)\n",
      "Requirement already satisfied: pytz>=2017.3 in /usr/local/lib/python3.7/dist-packages (from pandas>=1.0->pingouin) (2022.5)\n",
      "Collecting pandas_flavor>=0.2.0\n",
      "  Downloading pandas_flavor-0.2.0-py2.py3-none-any.whl (6.6 kB)\n",
      "Requirement already satisfied: xarray in /usr/local/lib/python3.7/dist-packages (from pandas_flavor>=0.2.0->pingouin) (0.20.2)\n",
      "Requirement already satisfied: six>=1.5 in /usr/local/lib/python3.7/dist-packages (from python-dateutil>=2.1->matplotlib>=3.0.2->pingouin) (1.15.0)\n",
      "Requirement already satisfied: threadpoolctl>=2.0.0 in /usr/local/lib/python3.7/dist-packages (from scikit-learn<1.1.0->pingouin) (3.1.0)\n",
      "Requirement already satisfied: joblib>=0.11 in /usr/local/lib/python3.7/dist-packages (from scikit-learn<1.1.0->pingouin) (1.2.0)\n",
      "Requirement already satisfied: packaging>=21.3 in /usr/local/lib/python3.7/dist-packages (from statsmodels>=0.13->pingouin) (21.3)\n",
      "Requirement already satisfied: patsy>=0.5.2 in /usr/local/lib/python3.7/dist-packages (from statsmodels>=0.13->pingouin) (0.5.3)\n",
      "Requirement already satisfied: requests in /usr/local/lib/python3.7/dist-packages (from outdated->pingouin) (2.23.0)\n",
      "Collecting littleutils\n",
      "  Downloading littleutils-0.2.2.tar.gz (6.6 kB)\n",
      "Requirement already satisfied: idna<3,>=2.5 in /usr/local/lib/python3.7/dist-packages (from requests->outdated->pingouin) (2.10)\n",
      "Requirement already satisfied: certifi>=2017.4.17 in /usr/local/lib/python3.7/dist-packages (from requests->outdated->pingouin) (2022.9.24)\n",
      "Requirement already satisfied: chardet<4,>=3.0.2 in /usr/local/lib/python3.7/dist-packages (from requests->outdated->pingouin) (3.0.4)\n",
      "Requirement already satisfied: urllib3!=1.25.0,!=1.25.1,<1.26,>=1.21.1 in /usr/local/lib/python3.7/dist-packages (from requests->outdated->pingouin) (1.24.3)\n",
      "Requirement already satisfied: importlib-metadata in /usr/local/lib/python3.7/dist-packages (from xarray->pandas_flavor>=0.2.0->pingouin) (4.13.0)\n",
      "Requirement already satisfied: zipp>=0.5 in /usr/local/lib/python3.7/dist-packages (from importlib-metadata->xarray->pandas_flavor>=0.2.0->pingouin) (3.9.0)\n",
      "Building wheels for collected packages: pingouin, littleutils\n",
      "  Building wheel for pingouin (setup.py) ... \u001b[?25l\u001b[?25hdone\n",
      "  Created wheel for pingouin: filename=pingouin-0.5.2-py3-none-any.whl size=196206 sha256=90052cf80e434e120a598fe937c29344b209606e796a8894b011edae535cd538\n",
      "  Stored in directory: /root/.cache/pip/wheels/11/5a/63/a6d32fc26fa462c731f65480bfb98ff7bd39b8ebcb4bc6c2fe\n",
      "  Building wheel for littleutils (setup.py) ... \u001b[?25l\u001b[?25hdone\n",
      "  Created wheel for littleutils: filename=littleutils-0.2.2-py3-none-any.whl size=7048 sha256=fbbc39f1bfbfa0f86e7434e9db8a4f259bc84f3d51f415ce8825dea1a9c94a21\n",
      "  Stored in directory: /root/.cache/pip/wheels/d6/64/cd/32819b511a488e4993f2fab909a95330289c3f4e0f6ef4676d\n",
      "Successfully built pingouin littleutils\n",
      "Installing collected packages: littleutils, statsmodels, pandas-flavor, outdated, pingouin\n",
      "  Attempting uninstall: statsmodels\n",
      "    Found existing installation: statsmodels 0.12.2\n",
      "    Uninstalling statsmodels-0.12.2:\n",
      "      Successfully uninstalled statsmodels-0.12.2\n",
      "Successfully installed littleutils-0.2.2 outdated-0.2.1 pandas-flavor-0.2.0 pingouin-0.5.2 statsmodels-0.13.2\n"
     ]
    }
   ],
   "source": [
    "!pip install pingouin\n",
    "import pingouin as pg"
   ]
  },
  {
   "cell_type": "code",
   "execution_count": null,
   "metadata": {
    "colab": {
     "base_uri": "https://localhost:8080/",
     "height": 81
    },
    "id": "p15BDh-qSEao",
    "outputId": "bebb0081-9677-43f7-91cc-62f62d7f431f"
   },
   "outputs": [
    {
     "data": {
      "text/html": [
       "\n",
       "  <div id=\"df-5a1dcd32-7dbb-4b2f-b6c0-1dcc551410d7\">\n",
       "    <div class=\"colab-df-container\">\n",
       "      <div>\n",
       "<style scoped>\n",
       "    .dataframe tbody tr th:only-of-type {\n",
       "        vertical-align: middle;\n",
       "    }\n",
       "\n",
       "    .dataframe tbody tr th {\n",
       "        vertical-align: top;\n",
       "    }\n",
       "\n",
       "    .dataframe thead th {\n",
       "        text-align: right;\n",
       "    }\n",
       "</style>\n",
       "<table border=\"1\" class=\"dataframe\">\n",
       "  <thead>\n",
       "    <tr style=\"text-align: right;\">\n",
       "      <th></th>\n",
       "      <th>T</th>\n",
       "      <th>dof</th>\n",
       "      <th>alternative</th>\n",
       "      <th>p-val</th>\n",
       "      <th>CI95%</th>\n",
       "      <th>cohen-d</th>\n",
       "      <th>BF10</th>\n",
       "      <th>power</th>\n",
       "    </tr>\n",
       "  </thead>\n",
       "  <tbody>\n",
       "    <tr>\n",
       "      <th>T-test</th>\n",
       "      <td>-2.629587</td>\n",
       "      <td>38</td>\n",
       "      <td>two-sided</td>\n",
       "      <td>0.012273</td>\n",
       "      <td>[-57.79, -7.51]</td>\n",
       "      <td>0.831548</td>\n",
       "      <td>4.244</td>\n",
       "      <td>0.726643</td>\n",
       "    </tr>\n",
       "  </tbody>\n",
       "</table>\n",
       "</div>\n",
       "      <button class=\"colab-df-convert\" onclick=\"convertToInteractive('df-5a1dcd32-7dbb-4b2f-b6c0-1dcc551410d7')\"\n",
       "              title=\"Convert this dataframe to an interactive table.\"\n",
       "              style=\"display:none;\">\n",
       "        \n",
       "  <svg xmlns=\"http://www.w3.org/2000/svg\" height=\"24px\"viewBox=\"0 0 24 24\"\n",
       "       width=\"24px\">\n",
       "    <path d=\"M0 0h24v24H0V0z\" fill=\"none\"/>\n",
       "    <path d=\"M18.56 5.44l.94 2.06.94-2.06 2.06-.94-2.06-.94-.94-2.06-.94 2.06-2.06.94zm-11 1L8.5 8.5l.94-2.06 2.06-.94-2.06-.94L8.5 2.5l-.94 2.06-2.06.94zm10 10l.94 2.06.94-2.06 2.06-.94-2.06-.94-.94-2.06-.94 2.06-2.06.94z\"/><path d=\"M17.41 7.96l-1.37-1.37c-.4-.4-.92-.59-1.43-.59-.52 0-1.04.2-1.43.59L10.3 9.45l-7.72 7.72c-.78.78-.78 2.05 0 2.83L4 21.41c.39.39.9.59 1.41.59.51 0 1.02-.2 1.41-.59l7.78-7.78 2.81-2.81c.8-.78.8-2.07 0-2.86zM5.41 20L4 18.59l7.72-7.72 1.47 1.35L5.41 20z\"/>\n",
       "  </svg>\n",
       "      </button>\n",
       "      \n",
       "  <style>\n",
       "    .colab-df-container {\n",
       "      display:flex;\n",
       "      flex-wrap:wrap;\n",
       "      gap: 12px;\n",
       "    }\n",
       "\n",
       "    .colab-df-convert {\n",
       "      background-color: #E8F0FE;\n",
       "      border: none;\n",
       "      border-radius: 50%;\n",
       "      cursor: pointer;\n",
       "      display: none;\n",
       "      fill: #1967D2;\n",
       "      height: 32px;\n",
       "      padding: 0 0 0 0;\n",
       "      width: 32px;\n",
       "    }\n",
       "\n",
       "    .colab-df-convert:hover {\n",
       "      background-color: #E2EBFA;\n",
       "      box-shadow: 0px 1px 2px rgba(60, 64, 67, 0.3), 0px 1px 3px 1px rgba(60, 64, 67, 0.15);\n",
       "      fill: #174EA6;\n",
       "    }\n",
       "\n",
       "    [theme=dark] .colab-df-convert {\n",
       "      background-color: #3B4455;\n",
       "      fill: #D2E3FC;\n",
       "    }\n",
       "\n",
       "    [theme=dark] .colab-df-convert:hover {\n",
       "      background-color: #434B5C;\n",
       "      box-shadow: 0px 1px 3px 1px rgba(0, 0, 0, 0.15);\n",
       "      filter: drop-shadow(0px 1px 2px rgba(0, 0, 0, 0.3));\n",
       "      fill: #FFFFFF;\n",
       "    }\n",
       "  </style>\n",
       "\n",
       "      <script>\n",
       "        const buttonEl =\n",
       "          document.querySelector('#df-5a1dcd32-7dbb-4b2f-b6c0-1dcc551410d7 button.colab-df-convert');\n",
       "        buttonEl.style.display =\n",
       "          google.colab.kernel.accessAllowed ? 'block' : 'none';\n",
       "\n",
       "        async function convertToInteractive(key) {\n",
       "          const element = document.querySelector('#df-5a1dcd32-7dbb-4b2f-b6c0-1dcc551410d7');\n",
       "          const dataTable =\n",
       "            await google.colab.kernel.invokeFunction('convertToInteractive',\n",
       "                                                     [key], {});\n",
       "          if (!dataTable) return;\n",
       "\n",
       "          const docLinkHtml = 'Like what you see? Visit the ' +\n",
       "            '<a target=\"_blank\" href=https://colab.research.google.com/notebooks/data_table.ipynb>data table notebook</a>'\n",
       "            + ' to learn more about interactive tables.';\n",
       "          element.innerHTML = '';\n",
       "          dataTable['output_type'] = 'display_data';\n",
       "          await google.colab.output.renderOutput(dataTable, element);\n",
       "          const docLink = document.createElement('div');\n",
       "          docLink.innerHTML = docLinkHtml;\n",
       "          element.appendChild(docLink);\n",
       "        }\n",
       "      </script>\n",
       "    </div>\n",
       "  </div>\n",
       "  "
      ],
      "text/plain": [
       "               T  dof alternative     p-val            CI95%   cohen-d   BF10  \\\n",
       "T-test -2.629587   38   two-sided  0.012273  [-57.79, -7.51]  0.831548  4.244   \n",
       "\n",
       "           power  \n",
       "T-test  0.726643  "
      ]
     },
     "execution_count": 70,
     "metadata": {},
     "output_type": "execute_result"
    }
   ],
   "source": [
    "pg.ttest(Data1,Data2,paired=False)"
   ]
  },
  {
   "cell_type": "markdown",
   "metadata": {
    "id": "RY2zbNRszYAS"
   },
   "source": [
    "\n",
    "## **homework**\n",
    "## functions\n",
    "now we are ready with the permutation test, now \"re-cycle\" your code from above, to make it into a function below.\n",
    "\n",
    "This function should take 2 inputs (the 2 data-sets),\n",
    "do the permuations as above, and return the permuted p-value.\n",
    "\n",
    "Remember you can choose whatever variable names within the function, but best practice is not to use the same ones as for the code outside the function!\n",
    "\n",
    "the function shoud not rely on any of the variables that are defined outside of the function: you can verify this by copy-pasting it into a new notebook and test it with some new data.\n",
    "\n",
    "\n"
   ]
  },
  {
   "cell_type": "code",
   "execution_count": null,
   "metadata": {
    "id": "y0ChERI-zjlN"
   },
   "outputs": [],
   "source": [
    "def MyPermTest(d1,d2):\n",
    "  Nperm=10000\n",
    "  Combined=np.concatenate((d1,d2))\n",
    "  TrueDiff=np.mean(d1)-np.mean(d2)\n",
    "  permdiffs=np.zeros(Nperm)\n",
    "  for i in range(Nperm):\n",
    "    Permuted=np.random.permutation(Combined)\n",
    "    perm1=Permuted[0:len(d1)]\n",
    "    perm2=Permuted[len(d1):]\n",
    "    permdiffs[i]=np.mean(perm1)-np.mean(perm2)\n",
    "  return np.sum(np.abs(TrueDiff)<np.abs(permdiffs))/Nperm\n"
   ]
  },
  {
   "cell_type": "markdown",
   "metadata": {
    "id": "M9dgh9cn0ucA"
   },
   "source": [
    " verify that your function works, with comparing it with your previous code\n"
   ]
  },
  {
   "cell_type": "code",
   "execution_count": null,
   "metadata": {
    "colab": {
     "base_uri": "https://localhost:8080/"
    },
    "id": "FDBq2nCE0zYC",
    "outputId": "ee5fa103-961c-4289-8610-8366df5ac00f"
   },
   "outputs": [
    {
     "data": {
      "text/plain": [
       "0.0098"
      ]
     },
     "execution_count": 84,
     "metadata": {},
     "output_type": "execute_result"
    }
   ],
   "source": [
    " MyPermTest(Data1,Data2)\n"
   ]
  },
  {
   "cell_type": "markdown",
   "metadata": {
    "id": "geymltps8iHY"
   },
   "source": [
    "## now lets try the permutation test on some new data"
   ]
  },
  {
   "cell_type": "code",
   "execution_count": null,
   "metadata": {
    "id": "6ZAUXv0Ez5dc"
   },
   "outputs": [],
   "source": [
    "X1=np.array([200.48703626, 420.71413104, 482.04432447, 380.46896668,\n",
    "       420.56864234, 474.09130417, 414.9748433 , 450.15423802,\n",
    "       436.53977461, 500.12705411, 405.00705696, 419.3141794 ,\n",
    "       460.46096974, 450.54358948, 420.93431563, 467.40481135,\n",
    "       510.84094939, 482.61924772, 480.32638462,860.56161])\n",
    "\n",
    "X2=np.array([420.1243685 , 501.25211241, 454.37132587, 900.39850065,\n",
    "       501.79657108, 481.94197109, 469.51703441, 449.82747137,\n",
    "       450.98838458, 477.15878941, 570.00039675, 460.18766471,\n",
    "       432.70480616, 480.38394358, 478.46070285, 485.71067427,\n",
    "       487.91937261, 505.86604195, 495.8480102 , 1500.5446 ])"
   ]
  },
  {
   "cell_type": "markdown",
   "metadata": {
    "id": "p42DGidL8lVc"
   },
   "source": [
    "explore these data-sets with histograms"
   ]
  },
  {
   "cell_type": "code",
   "execution_count": null,
   "metadata": {
    "colab": {
     "base_uri": "https://localhost:8080/"
    },
    "id": "c9mNDGFT8qam",
    "outputId": "ff67b98e-48fb-44b0-a8f3-7ebf7a3d2e2f"
   },
   "outputs": [
    {
     "data": {
      "text/plain": [
       "0.1242"
      ]
     },
     "execution_count": 70,
     "metadata": {},
     "output_type": "execute_result"
    }
   ],
   "source": [
    "MyPermTest(X1,X2)\n"
   ]
  },
  {
   "cell_type": "markdown",
   "metadata": {
    "id": "M7yhmPvI0mpp"
   },
   "source": [
    "now, we can easily use the function to compare other data-sets\n",
    "\n",
    "for example X1 and X2 above\n",
    "compare the result with the t-test"
   ]
  },
  {
   "cell_type": "code",
   "execution_count": null,
   "metadata": {
    "id": "KHXTt_Ec05DK"
   },
   "outputs": [],
   "source": [
    "MyPermTest(X1,X2)"
   ]
  },
  {
   "cell_type": "markdown",
   "metadata": {
    "id": "Mm3iwopJtYhB"
   },
   "source": [
    "log transform data before running the statistics\n",
    "\n",
    "a common way to deal with data with large variability (eg: free viewing looking times) is to do a log transform.\n",
    "\n",
    "1. make a scatter plot with the original data on the X and the raw data on the Y axis\n",
    "add both datasets to the same figure (using different colors)\n",
    "\n",
    "\n",
    "2. run the permutation test and the t-test for the log-transformed datasets\n",
    "\n",
    "\n"
   ]
  },
  {
   "cell_type": "code",
   "execution_count": null,
   "metadata": {
    "id": "SD_J9m3-t8A9"
   },
   "outputs": [],
   "source": []
  },
  {
   "cell_type": "markdown",
   "metadata": {
    "id": "zRXtaYSht65d"
   },
   "source": []
  },
  {
   "cell_type": "markdown",
   "metadata": {
    "id": "05KI0LFp2UVW"
   },
   "source": [
    "\n",
    "### optional function parameters\n",
    "\n",
    "until now we fixed the number of permutations in MyPermTest\n",
    "\n",
    "make a new function, MyPermTestv2, with the only difference that there is a 3rd input variable, that controls the number of permutations\n"
   ]
  },
  {
   "cell_type": "code",
   "execution_count": null,
   "metadata": {
    "id": "LrZDrIWz2T_y"
   },
   "outputs": [],
   "source": [
    "def MyPermTestv2(#your code):\n",
    "    #your code\n",
    "#your code"
   ]
  },
  {
   "cell_type": "markdown",
   "metadata": {
    "id": "gdPy2IRL25Q4"
   },
   "source": [
    "once this is done, make a visualization of how the permuted p value changes as you change the number of permutations\n",
    "\n",
    "\n",
    "1. use MyPermTestv2, to compare data1 and data2, with the number of permutations changing from 50 to 3000 in steps of 200  (use np.arange and a for cycle), at each step you only need to calcualte the permuted p-value\n",
    "2. make a scatter plot, to visualize what you have calculate in 1.: the number of permutations on the x axis and the permuted p-value on the y-axis\n",
    "3. add a horizontal line, that crosses the whole figure and shows the p-value obtained by  t-test"
   ]
  },
  {
   "cell_type": "code",
   "execution_count": null,
   "metadata": {
    "id": "FMDYjSMz3iB5"
   },
   "outputs": [],
   "source": [
    " #your code\n",
    "  #your code\n",
    "   #your code"
   ]
  },
  {
   "cell_type": "markdown",
   "metadata": {
    "id": "IcIB9ZrZw5sZ"
   },
   "source": [
    "### Bootstrapped confidence interval\n",
    "\n",
    "calculate the bootstrapped confidence interval for the mean of Data 1 and Data 2 with 2000 bootstraps.\n",
    "You can use np.random.choice to perform sampling with replacement- check the slided for more info.\n",
    "\n",
    "after you have the 2000 sample means, you can use np.percentile to find the 95% and the 99% confidence intervals\n",
    "\n",
    "visualize what you found: if you use errorbar, not that you can define positive and negative error differently (as a boostrapped confidence interval is not symmetric)"
   ]
  },
  {
   "cell_type": "code",
   "execution_count": null,
   "metadata": {
    "id": "4w32b1g89Jbh"
   },
   "outputs": [],
   "source": []
  },
  {
   "cell_type": "markdown",
   "metadata": {
    "id": "io0To_kloJ1a"
   },
   "source": [
    "## homework 2- advanced\n"
   ]
  },
  {
   "cell_type": "markdown",
   "metadata": {
    "id": "fkQbwJ7K8tua"
   },
   "source": [
    "## data simulation and analysis"
   ]
  },
  {
   "cell_type": "markdown",
   "metadata": {
    "id": "6a5aYWHU4RIq"
   },
   "source": [
    "test permutation test and compare with the t-test with largely unequal sample sizes\n",
    "\n",
    "imagine a scenario where you research reaction times in a rare patient group\n",
    ",so that you only have 5 patients.. obviously it is easier to get a large number of control participants, lets say 50\n",
    "\n",
    "set mean=600 for patiens with SD of 100 (normal distribution)\n",
    "set mean=550 for control with SD of 100 (uniform distribution)\n",
    "\n",
    "1. make 2 data sets, patient group with N=5, the control group with N=50,\n",
    "2. compare them with the t-test\n",
    "3. compare them using the permutation test\n",
    "4. repeat this process multiple times, and systematically compare (with for cycle and visualization) the similarity between permuation and t-test result\n",
    "\n",
    "\n"
   ]
  },
  {
   "cell_type": "code",
   "execution_count": null,
   "metadata": {
    "id": "VRLYPopyxbHf"
   },
   "outputs": [],
   "source": []
  }
 ],
 "metadata": {
  "colab": {
   "provenance": []
  },
  "kernelspec": {
   "display_name": "Python 3 (ipykernel)",
   "language": "python",
   "name": "python3"
  },
  "language_info": {
   "codemirror_mode": {
    "name": "ipython",
    "version": 3
   },
   "file_extension": ".py",
   "mimetype": "text/x-python",
   "name": "python",
   "nbconvert_exporter": "python",
   "pygments_lexer": "ipython3",
   "version": "3.11.0"
  }
 },
 "nbformat": 4,
 "nbformat_minor": 4
}
