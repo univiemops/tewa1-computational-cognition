{
 "cells": [
  {
   "cell_type": "markdown",
   "metadata": {
    "id": "dW3BvorG4SCX"
   },
   "source": [
    "# TEWA 1 - Tutorial 4\n",
    "## Permutation test and data visualization tutorial\n",
    "23/March/2022\n",
    "\n",
    "\n",
    " Jozsef Arato"
   ]
  },
  {
   "cell_type": "markdown",
   "metadata": {
    "id": "pVRiO-appks7"
   },
   "source": [
    "\n",
    "\n",
    "this tutorial is working on permutation test(also called randomization test), to compare data from 2 independent groups (as the independent samples t-test)\n",
    "\n",
    "\n",
    "as discussed on Monday, permutation test is a way of randomly resampling the data, to create a distibution that would be expected based on chance (or under the null hypothesis)\n",
    "\n",
    "\n",
    "we compare set of data sets of average reaction times (as treatment and control group)"
   ]
  },
  {
   "cell_type": "markdown",
   "metadata": {
    "id": "nDq7RQSap9Cb"
   },
   "source": [
    "### import libraries"
   ]
  },
  {
   "cell_type": "code",
   "execution_count": 1,
   "metadata": {
    "id": "l-D3BwIshN_C"
   },
   "outputs": [],
   "source": [
    "import numpy as np\n",
    "from matplotlib import pyplot as plt"
   ]
  },
  {
   "cell_type": "markdown",
   "metadata": {
    "id": "UmTylXlnp_ID"
   },
   "source": [
    "## the two datasets\n",
    "- Below are the reaction time data for the treatment (data1) and control (data2) groups.\n",
    "- between subject design"
   ]
  },
  {
   "cell_type": "code",
   "execution_count": 2,
   "metadata": {
    "id": "tQZdWFChr2y3"
   },
   "outputs": [],
   "source": [
    "Data1=np.array([444.48703626, 420.71413104, 482.04432447, 380.46896668,\n",
    "       420.56864234, 474.09130417, 414.9748433 , 450.15423802,\n",
    "       436.53977461, 500.12705411, 405.00705696, 419.3141794 ,\n",
    "       460.46096974, 450.54358948, 420.93431563, 467.40481135,\n",
    "       510.84094939, 482.61924772, 480.32638462, 510.76756724])\n",
    "\n",
    "Data2=np.array([420.1243685 , 501.25211241, 454.37132587, 600.39850065,\n",
    "       501.79657108, 481.94197109, 469.51703441, 449.82747137,\n",
    "       450.98838458, 477.15878941, 570.00039675, 460.18766471,\n",
    "       432.70480616, 480.38394358, 478.46070285, 485.71067427,\n",
    "       487.91937261, 505.86604195, 495.8480102 , 480.9547509 ])"
   ]
  },
  {
   "cell_type": "markdown",
   "metadata": {
    "id": "TUeihHxwsPwW"
   },
   "source": [
    "## data exploration\n",
    "first step is to explore the two data sets:\n",
    "\n",
    "1. print the mean for both groups\n",
    "2. print the SD for both group\n",
    "3. make a plot with two subplots, with a histogram for both groups\n",
    "4. calculat the difference of means between the groups, and store it, called TrudeDiff\n"
   ]
  },
  {
   "cell_type": "code",
   "execution_count": 7,
   "metadata": {
    "colab": {
     "base_uri": "https://localhost:8080/",
     "height": 382
    },
    "id": "U0izrtq3soQu",
    "outputId": "e6335bb8-61ea-4aa1-f191-5560c1cb964c"
   },
   "outputs": [
    {
     "name": "stdout",
     "output_type": "stream",
     "text": [
      "number of participants 20\n",
      "average treatment reaction time 451.6194693265\n",
      "average control reaction time 484.2706446675\n",
      "standard deviations 35.82 40.57\n"
     ]
    },
    {
     "data": {
      "image/png": "[encoded data removed]",
      "text/plain": [
       "<Figure size 864x360 with 2 Axes>"
      ]
     },
     "metadata": {
      "needs_background": "light"
     },
     "output_type": "display_data"
    }
   ],
   "source": [
    "print('number of participants', len(Data1+Data2))\n",
    "print('average treatment reaction time', Data1.mean())\n",
    "print('average control reaction time',Data2.mean() )\n",
    "print('standard deviations',np.round(np.std(Data1),2),np.round(np.std(Data2),2))\n",
    "\n",
    "plt.figure(figsize=(12,5))\n",
    "plt.subplot(1,2,1)\n",
    "plt.hist(Data1)\n",
    "plt.xlabel('reaction time (ms)')\n",
    "plt.title('Treatment')\n",
    "plt.subplot(1,2,2)\n",
    "plt.hist(Data2)\n",
    "plt.xlabel('reaction time (ms)')\n",
    "plt.title('Control')\n",
    "\n",
    "TrueDiff = Data1.mean() - Data2.mean()"
   ]
  },
  {
   "cell_type": "markdown",
   "metadata": {
    "id": "4PMS-S8_U9To"
   },
   "source": [
    "## visualize the means with errorbars showing the standard deviaton"
   ]
  },
  {
   "cell_type": "code",
   "execution_count": 8,
   "metadata": {
    "colab": {
     "base_uri": "https://localhost:8080/",
     "height": 317
    },
    "id": "eyb8irbNTcU4",
    "outputId": "cfb90453-cdda-42e6-b998-1eae1f4fc2c0"
   },
   "outputs": [
    {
     "data": {
      "text/plain": [
       "([<matplotlib.axis.XTick at 0x7ff995e0f2b0>,\n",
       "  <matplotlib.axis.XTick at 0x7ff995e0f280>],\n",
       " [Text(0, 0, 'Treatment'), Text(1, 0, 'Control')])"
      ]
     },
     "execution_count": 8,
     "metadata": {},
     "output_type": "execute_result"
    },
    {
     "data": {
      "image/png": "[encoded data removed]",
      "text/plain": [
       "<Figure size 432x288 with 1 Axes>"
      ]
     },
     "metadata": {
      "needs_background": "light"
     },
     "output_type": "display_data"
    }
   ],
   "source": [
    "plt.figure()\n",
    "plt.errorbar(0,np.mean(Data1),np.std(Data1),marker='o',markersize=10)\n",
    "plt.errorbar(1,np.mean(Data2),np.std(Data2),marker='o',markersize=10)\n",
    "plt.ylabel('reaction time (ms)')\n",
    "plt.xlim([-1,2])\n",
    "plt.xticks(np.arange(2),['Treatment','Control'])"
   ]
  },
  {
   "cell_type": "markdown",
   "metadata": {
    "id": "8sUdvtaKaqCY"
   },
   "source": [
    "it is easy to do some more advanced visualization with matplotlib"
   ]
  },
  {
   "cell_type": "code",
   "execution_count": 9,
   "metadata": {
    "colab": {
     "base_uri": "https://localhost:8080/",
     "height": 317
    },
    "id": "LICfG1_yZ3Xe",
    "outputId": "617eab8c-71d8-4009-9b2e-e15e1483abce"
   },
   "outputs": [
    {
     "data": {
      "text/plain": [
       "([<matplotlib.axis.XTick at 0x7ff99668c700>,\n",
       "  <matplotlib.axis.XTick at 0x7ff99668c6d0>],\n",
       " [Text(1, 0, 'Treatment'), Text(2, 0, 'Control')])"
      ]
     },
     "execution_count": 9,
     "metadata": {},
     "output_type": "execute_result"
    },
    {
     "data": {
      "image/png": "[encoded data removed]",
      "text/plain": [
       "<Figure size 432x288 with 1 Axes>"
      ]
     },
     "metadata": {
      "needs_background": "light"
     },
     "output_type": "display_data"
    }
   ],
   "source": [
    "plt.boxplot([Data1,Data2])\n",
    "plt.ylabel('reaction time (ms)')\n",
    "plt.xticks(np.arange(1,3),['Treatment','Control'])"
   ]
  },
  {
   "cell_type": "markdown",
   "metadata": {
    "id": "5UPtmZeUuJSz"
   },
   "source": [
    "## the core of the permutation test\n",
    "\n",
    "now lets try to implement the permutations test\n",
    "\n",
    "for these the main steps are:\n",
    " 1. create a combined array containing the 2 data sets.\n",
    " 2. randomly permute the combined array\n",
    " 3. from the permuted array, select 2  groups (same size as the original groups)  \n",
    " 4. calculate the mean difference between the 2 permuted groups\n",
    " 5. store the permuted mean difference in a 1d array or a list\n",
    " 6. repeat steps 2-5 2000 times\n"
   ]
  },
  {
   "cell_type": "code",
   "execution_count": 152,
   "metadata": {
    "colab": {
     "base_uri": "https://localhost:8080/"
    },
    "id": "5ZiOYTGuvYgu",
    "outputId": "791a10c7-99c9-4831-f068-500cd1a4f151"
   },
   "outputs": [],
   "source": [
    "def perm_test(arr_1,arr_2,n_repetitions):\n",
    "    res = []\n",
    "    \n",
    "    for i in range(n_repetitions):\n",
    "        #1\n",
    "        arr_comb = np.concatenate((arr_1,arr_2))\n",
    "        #2\n",
    "        arr_perm = np.random.permutation(arr_comb) \n",
    "        #3\n",
    "        arr_split_1 = arr_perm[0:int(len(arr_comb)/2)]\n",
    "        arr_split_2 = arr_perm[int(len(arr_comb)/2):]\n",
    "        # 4 \n",
    "        mean_delta_perm = arr_split_1.mean() - arr_split_2.mean()\n",
    "        # 5 \n",
    "        res.append(mean_delta_perm)\n",
    "        \n",
    "    return res\n",
    "\n",
    "#6 run function with 2000 repetitions\n",
    "\n",
    "n_repetitions = 1_000_000\n",
    "\n",
    "res = perm_test(Data1,Data2,n_repetitions=n_repetitions)"
   ]
  },
  {
   "cell_type": "markdown",
   "metadata": {
    "id": "BQm0_q9jnWkh"
   },
   "source": [
    "try to make your solution general -- that could work with data of any size and any permutations"
   ]
  },
  {
   "cell_type": "markdown",
   "metadata": {
    "id": "Uje6SCSipkBV"
   },
   "source": [
    "## evaluation of results\n",
    "Once this is done, calculate the p value of the true difference based on the permutation  \n",
    "(using np.abs and np.sum)\n",
    "\n",
    "\n",
    "hint: calculate how often chance produced a greater difference than the true difference\n"
   ]
  },
  {
   "cell_type": "code",
   "execution_count": 153,
   "metadata": {
    "colab": {
     "base_uri": "https://localhost:8080/"
    },
    "id": "sT9fXPv9wh3F",
    "outputId": "0a7c0c4a-27fb-46b4-8495-af7208dca56a"
   },
   "outputs": [
    {
     "name": "stdout",
     "output_type": "stream",
     "text": [
      "0.005436\n"
     ]
    }
   ],
   "source": [
    "PermutedP = np.sum(np.abs(res > np.abs(TrueDiff))) / n_repetitions\n",
    "print(PermutedP)"
   ]
  },
  {
   "cell_type": "markdown",
   "metadata": {
    "id": "iVH4WnnnvbfD"
   },
   "source": [
    "## visualization\n",
    "Once this is done we can evaluate of the result of the permutations visually\n",
    "\n",
    "1. make a histogram, of the permuted differences.\n",
    "2. mark it on the histogram with a vertical line, where the true difference falls.  with plt.plot \n",
    "in this case, you use plt.plot([xstart,xend],[ystart,yend],color='k')  -\n",
    "if you add the same value for xstart and xend, we get a vertical line\n",
    "\n",
    "3. using np.percentile, calculte thresholds for p<.05, and mark it with a vertical dashed lines (as in 3)\n",
    "\n",
    "\n",
    "\n"
   ]
  },
  {
   "cell_type": "code",
   "execution_count": 154,
   "metadata": {
    "colab": {
     "base_uri": "https://localhost:8080/",
     "height": 300
    },
    "id": "J-ibZHs4vnsr",
    "outputId": "67b43496-596a-4a67-969b-6fcc60e2ca22"
   },
   "outputs": [
    {
     "data": {
      "image/png": "[encoded data removed]",
      "text/plain": [
       "<Figure size 432x288 with 1 Axes>"
      ]
     },
     "metadata": {
      "needs_background": "light"
     },
     "output_type": "display_data"
    }
   ],
   "source": [
    "plt.hist(res,bins=10000);\n",
    "plt.axvline(TrueDiff, color=\"red\");\n",
    "plt.axvline(np.percentile(res,5), color=\"black\", linestyle='dashed');\n",
    "plt.axvline(np.percentile(res,95), color=\"black\", linestyle='dashed');"
   ]
  },
  {
   "cell_type": "markdown",
   "metadata": {
    "id": "TacZP1wWwjV7"
   },
   "source": [
    "## compare to t-test\n",
    "compare the result above with an independen sample t-test\n",
    "for this, we import scipy.stats below, so it can be accessed as stats.ttest_ind"
   ]
  },
  {
   "cell_type": "code",
   "execution_count": 155,
   "metadata": {
    "colab": {
     "base_uri": "https://localhost:8080/"
    },
    "id": "HHWCoXUFwuyu",
    "outputId": "81abd552-8908-4cfa-879b-21f9e1c74e61"
   },
   "outputs": [
    {
     "data": {
      "text/plain": [
       "Ttest_indResult(statistic=-2.629587192724802, pvalue=0.012273288618836418)"
      ]
     },
     "execution_count": 155,
     "metadata": {},
     "output_type": "execute_result"
    }
   ],
   "source": [
    "from scipy import stats\n",
    "stats.ttest_ind(Data1,Data2)"
   ]
  },
  {
   "cell_type": "markdown",
   "metadata": {
    "id": "kUSTkGbFR_cj"
   },
   "source": [
    "## alternative for t-test \n",
    "pingouin library\n",
    "\n",
    "since this is not part of colab by default, we have to install it with !pip"
   ]
  },
  {
   "cell_type": "code",
   "execution_count": 156,
   "metadata": {
    "colab": {
     "base_uri": "https://localhost:8080/"
    },
    "id": "cE1Nc19iRy0Y",
    "outputId": "21547e85-acf0-4c5b-eca7-5d9ec49f694d"
   },
   "outputs": [],
   "source": [
    "#!pip install pingouin\n",
    "import pingouin as pg"
   ]
  },
  {
   "cell_type": "code",
   "execution_count": 157,
   "metadata": {
    "colab": {
     "base_uri": "https://localhost:8080/",
     "height": 81
    },
    "id": "p15BDh-qSEao",
    "outputId": "384a1bc9-4648-44c3-ee07-35a570f0cc10"
   },
   "outputs": [
    {
     "data": {
      "text/html": [
       "<div>\n",
       "<style scoped>\n",
       "    .dataframe tbody tr th:only-of-type {\n",
       "        vertical-align: middle;\n",
       "    }\n",
       "\n",
       "    .dataframe tbody tr th {\n",
       "        vertical-align: top;\n",
       "    }\n",
       "\n",
       "    .dataframe thead th {\n",
       "        text-align: right;\n",
       "    }\n",
       "</style>\n",
       "<table border=\"1\" class=\"dataframe\">\n",
       "  <thead>\n",
       "    <tr style=\"text-align: right;\">\n",
       "      <th></th>\n",
       "      <th>T</th>\n",
       "      <th>dof</th>\n",
       "      <th>alternative</th>\n",
       "      <th>p-val</th>\n",
       "      <th>CI95%</th>\n",
       "      <th>cohen-d</th>\n",
       "      <th>BF10</th>\n",
       "      <th>power</th>\n",
       "    </tr>\n",
       "  </thead>\n",
       "  <tbody>\n",
       "    <tr>\n",
       "      <th>T-test</th>\n",
       "      <td>-2.629587</td>\n",
       "      <td>38</td>\n",
       "      <td>two-sided</td>\n",
       "      <td>0.012273</td>\n",
       "      <td>[-57.79, -7.51]</td>\n",
       "      <td>0.831548</td>\n",
       "      <td>4.244</td>\n",
       "      <td>0.726643</td>\n",
       "    </tr>\n",
       "  </tbody>\n",
       "</table>\n",
       "</div>"
      ],
      "text/plain": [
       "               T  dof alternative     p-val            CI95%   cohen-d   BF10  \\\n",
       "T-test -2.629587   38   two-sided  0.012273  [-57.79, -7.51]  0.831548  4.244   \n",
       "\n",
       "           power  \n",
       "T-test  0.726643  "
      ]
     },
     "execution_count": 157,
     "metadata": {},
     "output_type": "execute_result"
    }
   ],
   "source": [
    "pg.ttest(Data1,Data2,paired=False)"
   ]
  },
  {
   "cell_type": "markdown",
   "metadata": {
    "id": "RY2zbNRszYAS"
   },
   "source": [
    "\n",
    "## **homework**\n",
    "## functions\n",
    "now we are ready with the permutation test, now \"re-cycle\" your code from above, to make it into a function below.\n",
    "\n",
    "This function should take 2 inputs (the 2 data-sets),\n",
    "do the permuations as above, and return the permuted p-value.\n",
    "\n",
    "Remember you can choose whatever variable names within the function, but best practice is not to use the same ones as for the code outside the function!\n",
    "\n",
    "the function shoud not rely on any of the variables that are defined outside of the function: you can verify this by copy-pasting it into a new notebook and test it with some new data.\n",
    "\n",
    "\n"
   ]
  },
  {
   "cell_type": "code",
   "execution_count": null,
   "metadata": {
    "id": "y0ChERI-zjlN"
   },
   "outputs": [],
   "source": [
    "def MyPermTest(#your code):\n",
    "  #your code \n",
    "  #your code \n",
    "  return #your code "
   ]
  },
  {
   "cell_type": "markdown",
   "metadata": {
    "id": "M9dgh9cn0ucA"
   },
   "source": [
    " verify that your function works, with comparing it with your previous code\n",
    " "
   ]
  },
  {
   "cell_type": "code",
   "execution_count": null,
   "metadata": {
    "id": "FDBq2nCE0zYC"
   },
   "outputs": [],
   "source": [
    " # YOUR CODE"
   ]
  },
  {
   "cell_type": "markdown",
   "metadata": {
    "id": "geymltps8iHY"
   },
   "source": [
    "## now lets try the permutation test on some new data"
   ]
  },
  {
   "cell_type": "code",
   "execution_count": null,
   "metadata": {
    "id": "6ZAUXv0Ez5dc"
   },
   "outputs": [],
   "source": [
    "X1=np.array([200.48703626, 420.71413104, 482.04432447, 380.46896668,\n",
    "       420.56864234, 474.09130417, 414.9748433 , 450.15423802,\n",
    "       436.53977461, 500.12705411, 405.00705696, 419.3141794 ,\n",
    "       460.46096974, 450.54358948, 420.93431563, 467.40481135,\n",
    "       510.84094939, 482.61924772, 480.32638462,860.56161])\n",
    "\n",
    "X2=np.array([420.1243685 , 501.25211241, 454.37132587, 900.39850065,\n",
    "       501.79657108, 481.94197109, 469.51703441, 449.82747137,\n",
    "       450.98838458, 477.15878941, 570.00039675, 460.18766471,\n",
    "       432.70480616, 480.38394358, 478.46070285, 485.71067427,\n",
    "       487.91937261, 505.86604195, 495.8480102 , 1500.5446 ])"
   ]
  },
  {
   "cell_type": "markdown",
   "metadata": {
    "id": "p42DGidL8lVc"
   },
   "source": [
    "explore these data-sets with histograms"
   ]
  },
  {
   "cell_type": "code",
   "execution_count": null,
   "metadata": {
    "id": "c9mNDGFT8qam"
   },
   "outputs": [],
   "source": []
  },
  {
   "cell_type": "markdown",
   "metadata": {
    "id": "M7yhmPvI0mpp"
   },
   "source": [
    "now, we can easily use the function to compare other data-sets\n",
    "\n",
    "for example X1 and X2 above\n",
    "compare the result with the t-test"
   ]
  },
  {
   "cell_type": "code",
   "execution_count": null,
   "metadata": {
    "id": "KHXTt_Ec05DK"
   },
   "outputs": [],
   "source": [
    "MyPermTest(X1,X2)"
   ]
  },
  {
   "cell_type": "markdown",
   "metadata": {
    "id": "Mm3iwopJtYhB"
   },
   "source": [
    "log transform data before running the statistics\n",
    "\n",
    "a common way to deal with data with large variability (eg: free viewing looking times) is to do a log transform.\n",
    "\n",
    "1. make a scatter plot with the original data on the X and the raw data on the Y axis \n",
    "add both datasets to the same figure (using different colors)\n",
    "\n",
    "\n",
    "2. run the permutation test and the t-test for the log-transformed datasets\n",
    "\n",
    "\n"
   ]
  },
  {
   "cell_type": "code",
   "execution_count": null,
   "metadata": {
    "id": "SD_J9m3-t8A9"
   },
   "outputs": [],
   "source": []
  },
  {
   "cell_type": "markdown",
   "metadata": {
    "id": "zRXtaYSht65d"
   },
   "source": []
  },
  {
   "cell_type": "markdown",
   "metadata": {
    "id": "05KI0LFp2UVW"
   },
   "source": [
    "\n",
    "### optional function parameters\n",
    "\n",
    "until now we fixed the number of permutations in MyPermTest\n",
    "\n",
    "make a new function, MyPermTestv2, with the only difference that there is a 3rd input variable, that controls the number of permutations\n"
   ]
  },
  {
   "cell_type": "code",
   "execution_count": null,
   "metadata": {
    "id": "LrZDrIWz2T_y"
   },
   "outputs": [],
   "source": [
    "def MyPermTestv2(#your code):\n",
    "    #your code\n",
    "#your code"
   ]
  },
  {
   "cell_type": "markdown",
   "metadata": {
    "id": "gdPy2IRL25Q4"
   },
   "source": [
    "once this is done, make a visualization of how the permuted p value changes as you change the number of permutations\n",
    "\n",
    "\n",
    "1. use MyPermTestv2, to compare data1 and data2, with the number of permutations changing from 50 to 3000 in steps of 200  (use np.arange and a for cycle), at each step you only need to calcualte the permuted p-value\n",
    "2. make a scatter plot, to visualize what you have calculate in 1.: the number of permutations on the x axis and the permuted p-value on the y-axis\n",
    "3. add a horizontal line, that crosses the whole figure and shows the p-value obtained by  t-test"
   ]
  },
  {
   "cell_type": "code",
   "execution_count": null,
   "metadata": {
    "id": "FMDYjSMz3iB5"
   },
   "outputs": [],
   "source": [
    " #your code\n",
    "  #your code\n",
    "   #your code"
   ]
  },
  {
   "cell_type": "markdown",
   "metadata": {
    "id": "IcIB9ZrZw5sZ"
   },
   "source": [
    "### Bootstrapped confidence interval \n",
    "\n",
    "calculate the bootstrapped confidence interval for the mean of Data 1 and Data 2 with 2000 bootstraps. \n",
    "You can use np.random.choice ot perform sampling with replacemen- check the slided for more info.\n",
    "\n",
    "after you have the 2000 sample means, you can use np.percentile to find the 95,99% confidence intervals\n",
    "\n",
    "visualize what you found: if you use errobar, not that you can define positive and negative error differently (as a boostrapped confidence interval is not symmetric)"
   ]
  },
  {
   "cell_type": "code",
   "execution_count": null,
   "metadata": {
    "id": "4w32b1g89Jbh"
   },
   "outputs": [],
   "source": []
  },
  {
   "cell_type": "markdown",
   "metadata": {
    "id": "io0To_kloJ1a"
   },
   "source": [
    "## homework 2- advanced\n"
   ]
  },
  {
   "cell_type": "markdown",
   "metadata": {
    "id": "fkQbwJ7K8tua"
   },
   "source": [
    "## data simulation and analysis"
   ]
  },
  {
   "cell_type": "markdown",
   "metadata": {
    "id": "6a5aYWHU4RIq"
   },
   "source": [
    "test permutation test and compare with the t-test with largely unequal sample sizes \n",
    "\n",
    "imagine a scenario where you research reaction times in a rare patient group\n",
    ",so that you only have 5 patients.. obviously it is easier to get a large number of control participants, lets say 50\n",
    "\n",
    "set mean=600 for patiens with SD of 100 (normal distribution)\n",
    "set mean=550 for control with SD of 100 (uniform distribution)\n",
    "\n",
    "1. make 2 data sets, patient group with N=5, the control group with N=50, \n",
    "2. compare them with the t-test\n",
    "3. compare them using the permutation test\n",
    "4. repeat this process multiple times, and systematically compare (with for cycle and visualization) the similarity between permuation and t-test result\n",
    "\n",
    "\n"
   ]
  },
  {
   "cell_type": "code",
   "execution_count": null,
   "metadata": {
    "id": "VRLYPopyxbHf"
   },
   "outputs": [],
   "source": []
  }
 ],
 "metadata": {
  "colab": {
   "collapsed_sections": [],
   "name": "Copy of TEWA- 1 Resampling_tutorial.ipynb",
   "provenance": []
  },
  "kernelspec": {
   "display_name": "Python 3 (ipykernel)",
   "language": "python",
   "name": "python3"
  },
  "language_info": {
   "codemirror_mode": {
    "name": "ipython",
    "version": 3
   },
   "file_extension": ".py",
   "mimetype": "text/x-python",
   "name": "python",
   "nbconvert_exporter": "python",
   "pygments_lexer": "ipython3",
   "version": "3.9.0"
  }
 },
 "nbformat": 4,
 "nbformat_minor": 4
}
