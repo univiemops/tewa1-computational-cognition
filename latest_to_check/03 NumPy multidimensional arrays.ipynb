{
 "cells": [
  {
   "cell_type": "markdown",
   "metadata": {
    "id": "C5N8uXaLdary"
   },
   "source": [
    "# Tutorial 3 - Multidimensional arrays in NumPy\n",
    "\n",
    "\n",
    "*written and revised by Jozsef Arato, Mengfan Zhang, Dominik Pegler*  \n",
    "Computational Cognition Course, University of Vienna  \n",
    "https://github.com/univiemops/tewa1-computational-cognition\n",
    "\n",
    "---"
   ]
  },
  {
   "cell_type": "markdown",
   "metadata": {
    "id": "k6m76m7IoTFv"
   },
   "source": [
    "What this tutorial will cover:\n",
    "\n",
    "- 2D arrays\n",
    "- Random number generation\n",
    "- Matplotlib data visualizations\n",
    "\n",
    "---"
   ]
  },
  {
   "cell_type": "markdown",
   "metadata": {
    "id": "H1inHIzEQ9Cu"
   },
   "source": [
    "## Import libraries"
   ]
  },
  {
   "cell_type": "code",
   "execution_count": 2,
   "metadata": {
    "id": "Qe0qiwMkQ8OT"
   },
   "outputs": [],
   "source": [
    "import numpy as np\n",
    "from matplotlib import pyplot as plt"
   ]
  },
  {
   "cell_type": "markdown",
   "metadata": {
    "id": "rudIj7h8o81m"
   },
   "source": [
    "## 2D arrays\n",
    "numpy array can be multidimensional, 2d arrays are really common, we can think of a 2d array as a table of numbers (matrix)\n",
    "\n",
    "Numpy can easily handle 3d,4d etc arrays as well.\n",
    "\n",
    "Why would someone need to use array that have more than 2 dimensions?\n"
   ]
  },
  {
   "cell_type": "markdown",
   "metadata": {
    "id": "-PpLQdG6pVq5"
   },
   "source": [
    "we can create a 2d array \"manually\""
   ]
  },
  {
   "cell_type": "code",
   "execution_count": 3,
   "metadata": {
    "colab": {
     "base_uri": "https://localhost:8080/"
    },
    "id": "31T5UpDtpWTR",
    "outputId": "279eb43c-0563-495b-e7de-a5f7a7015bc5"
   },
   "outputs": [
    {
     "name": "stdout",
     "output_type": "stream",
     "text": [
      "[[ 1. 20.  6.]\n",
      " [40.  5. 70.]\n",
      " [55. 23. 12.]\n",
      " [78. 11. 22.]]\n",
      "Shape:  (4, 3)\n"
     ]
    }
   ],
   "source": [
    "first2_d = np.array([[1, 20, 6], [40, 5, 70], [55, 23, 12], [78, 11, 22]], dtype=float)\n",
    "first2_d2 = np.array(\n",
    "    [[1, 20, 6], [40, 5, 70], [55, 23, 12], [78, 11, 22], [354, 351, 22]], dtype=float\n",
    ")\n",
    "\n",
    "print(first2_d)\n",
    "print(\"Shape: \", np.shape(first2_d))"
   ]
  },
  {
   "cell_type": "markdown",
   "metadata": {
    "id": "gBllIeyBpiCh"
   },
   "source": [
    " 1. print the middle element of the seconds row of this 2d array\n",
    "\n",
    "for this you will need to use 2d indexing [rowid,columnid]\n",
    "\n",
    " 2. print the last element of the first row"
   ]
  },
  {
   "cell_type": "code",
   "execution_count": null,
   "metadata": {
    "colab": {
     "base_uri": "https://localhost:8080/"
    },
    "id": "UjvxwFrjpns_",
    "outputId": "f0aae6cb-8a3f-4159-d5fa-7df30d06f77b"
   },
   "outputs": [
    {
     "name": "stdout",
     "output_type": "stream",
     "text": [
      "[[ 1. 20.  6.]\n",
      " [40.  5. 70.]\n",
      " [55. 23. 12.]\n",
      " [78. 11. 22.]]\n",
      "mid element 2nd row  5.0\n",
      "last element of first row   6.0\n",
      "last element of first row   6.0\n",
      "first element of the last row   78.0\n"
     ]
    }
   ],
   "source": [
    "print(first2_d)\n",
    "\n",
    "print(\"mid element 2nd row \", first2_d[1, 1])\n",
    "print(\"last element of first row  \", first2_d[0, -1])\n",
    "print(\"last element of first row  \", first2_d[0, 2])\n",
    "print(\"first element of the last row  \", first2_d[-1, 0])"
   ]
  },
  {
   "cell_type": "markdown",
   "metadata": {
    "id": "9ye23Bc0sRbt"
   },
   "source": [
    "similarly, we can modify elements of a 2d array\n",
    "1. change the 23 in First2D to the square root of it"
   ]
  },
  {
   "cell_type": "code",
   "execution_count": null,
   "metadata": {
    "colab": {
     "base_uri": "https://localhost:8080/"
    },
    "id": "D2UOJlhIsXO3",
    "outputId": "cdad7585-9f88-445d-cf15-ccffbad0111a"
   },
   "outputs": [
    {
     "name": "stdout",
     "output_type": "stream",
     "text": [
      "[[ 1.         20.          6.        ]\n",
      " [40.          5.         70.        ]\n",
      " [55.          4.79583152 12.        ]\n",
      " [78.         11.         22.        ]]\n"
     ]
    }
   ],
   "source": [
    "first2_d[2, 1] = np.sqrt(23)\n",
    "print(first2_d)"
   ]
  },
  {
   "cell_type": "markdown",
   "metadata": {
    "id": "26tx1hbKkVfQ"
   },
   "source": [
    "find where  23 is using np.where , and change it to 23 *23"
   ]
  },
  {
   "cell_type": "code",
   "execution_count": null,
   "metadata": {
    "id": "zfd_nMKHdog3"
   },
   "outputs": [],
   "source": [
    "first2_d[np.where(first2_d == 23)] = 23 * 23"
   ]
  },
  {
   "cell_type": "markdown",
   "metadata": {
    "id": "kLRkIZvd3mE6"
   },
   "source": [
    "square the value, where First2D smaller than 10,\n"
   ]
  },
  {
   "cell_type": "code",
   "execution_count": null,
   "metadata": {
    "colab": {
     "base_uri": "https://localhost:8080/"
    },
    "id": "A_V6ukgc3321",
    "outputId": "0dd4c48f-49cd-4526-ff09-40ce2f0b3c91"
   },
   "outputs": [
    {
     "name": "stdout",
     "output_type": "stream",
     "text": [
      "[[  1.  20.   6.]\n",
      " [ 40.   5.  70.]\n",
      " [ 55. 529.  12.]\n",
      " [ 78.  11.  22.]]\n",
      "[[  1.  20.  36.]\n",
      " [ 40.  25.  70.]\n",
      " [ 55. 529.  12.]\n",
      " [ 78.  11.  22.]]\n"
     ]
    }
   ],
   "source": [
    "print(first2_d)\n",
    "first2_d[np.where(first2_d < 10)] = first2_d[np.where(first2_d < 10)] ** 2\n",
    "print(first2_d)"
   ]
  },
  {
   "cell_type": "code",
   "execution_count": null,
   "metadata": {
    "colab": {
     "base_uri": "https://localhost:8080/"
    },
    "id": "Yc230gkW5EAY",
    "outputId": "64da6097-0b3f-4f3e-f48b-c16795a575ac"
   },
   "outputs": [
    {
     "name": "stdout",
     "output_type": "stream",
     "text": [
      "[[ 1. 20.  6.]\n",
      " [40.  5. 70.]\n",
      " [55. 23. 12.]\n",
      " [78. 11. 22.]]\n",
      "[[ 1. 20. 36.]\n",
      " [40. 25. 70.]\n",
      " [55. 23. 12.]\n",
      " [78. 11. 22.]]\n"
     ]
    }
   ],
   "source": [
    "print(first2_d)\n",
    "idx = np.where(first2_d < 10)\n",
    "first2_d[idx] = first2_d[idx] ** 2\n",
    "print(first2_d)"
   ]
  },
  {
   "cell_type": "markdown",
   "metadata": {
    "id": "bZjqsACHkmFJ"
   },
   "source": [
    "what does .T do with a 2d array?"
   ]
  },
  {
   "cell_type": "code",
   "execution_count": null,
   "metadata": {
    "colab": {
     "base_uri": "https://localhost:8080/"
    },
    "id": "3WXO0jx0fLmS",
    "outputId": "370dc7cf-d224-40cf-85c0-4e1a338c8d47"
   },
   "outputs": [
    {
     "data": {
      "text/plain": [
       "array([[ 1., 40., 55., 78.],\n",
       "       [20.,  5., 23., 11.],\n",
       "       [ 6., 70., 12., 22.]])"
      ]
     },
     "execution_count": 29,
     "metadata": {},
     "output_type": "execute_result"
    }
   ],
   "source": [
    "first2_d.T"
   ]
  },
  {
   "cell_type": "code",
   "execution_count": null,
   "metadata": {
    "colab": {
     "base_uri": "https://localhost:8080/"
    },
    "id": "3ScT5UpG8AKB",
    "outputId": "8f682612-b0fb-4632-84e4-850f95dbe15d"
   },
   "outputs": [
    {
     "data": {
      "text/plain": [
       "array([[ 1., 20.,  6.],\n",
       "       [40.,  5., 70.],\n",
       "       [55., 23., 12.],\n",
       "       [78., 11., 22.]])"
      ]
     },
     "execution_count": 30,
     "metadata": {},
     "output_type": "execute_result"
    }
   ],
   "source": [
    "first2_d"
   ]
  },
  {
   "cell_type": "code",
   "execution_count": null,
   "metadata": {
    "id": "MsJ23A3n-KTS"
   },
   "outputs": [],
   "source": [
    "def my_printer(input_arr):\n",
    "    dims = np.shape(input_arr)\n",
    "    for i in np.arange(dims[0]):  # index for rows\n",
    "        for j in np.arange(dims[1]):  # index for columns\n",
    "            print(\"i= \", i, \"j=\", j, \" value=\", input_arr[i, j])"
   ]
  },
  {
   "cell_type": "code",
   "execution_count": null,
   "metadata": {
    "colab": {
     "base_uri": "https://localhost:8080/"
    },
    "id": "Yd3sVN30-cC7",
    "outputId": "d040abf9-95cd-4677-c81c-2ab4eed8a07f"
   },
   "outputs": [
    {
     "name": "stdout",
     "output_type": "stream",
     "text": [
      "i=  0 j= 0  value= 1.0\n",
      "i=  0 j= 1  value= 20.0\n",
      "i=  0 j= 2  value= 6.0\n",
      "i=  1 j= 0  value= 40.0\n",
      "i=  1 j= 1  value= 5.0\n",
      "i=  1 j= 2  value= 70.0\n",
      "i=  2 j= 0  value= 55.0\n",
      "i=  2 j= 1  value= 23.0\n",
      "i=  2 j= 2  value= 12.0\n",
      "i=  3 j= 0  value= 78.0\n",
      "i=  3 j= 1  value= 11.0\n",
      "i=  3 j= 2  value= 22.0\n",
      "i=  4 j= 0  value= 354.0\n",
      "i=  4 j= 1  value= 351.0\n",
      "i=  4 j= 2  value= 22.0\n"
     ]
    }
   ],
   "source": [
    "my_printer(first2_d2)"
   ]
  },
  {
   "cell_type": "code",
   "execution_count": null,
   "metadata": {
    "colab": {
     "base_uri": "https://localhost:8080/"
    },
    "id": "7vwaoQf69b-S",
    "outputId": "e69610d6-ae70-40f7-ce61-86c7d8afd082"
   },
   "outputs": [
    {
     "name": "stdout",
     "output_type": "stream",
     "text": [
      "4 3\n"
     ]
    }
   ],
   "source": [
    "nrow, ncol = np.shape(first2_d)\n",
    "print(nrow, ncol)"
   ]
  },
  {
   "cell_type": "code",
   "execution_count": null,
   "metadata": {
    "id": "Q35aFIE291xR"
   },
   "outputs": [],
   "source": [
    "dims = np.shape(first2_d)"
   ]
  },
  {
   "cell_type": "code",
   "execution_count": null,
   "metadata": {
    "colab": {
     "base_uri": "https://localhost:8080/"
    },
    "id": "ZRJamfu095e6",
    "outputId": "61ba92a3-bafe-466f-e1e1-a2868db642ee"
   },
   "outputs": [
    {
     "data": {
      "text/plain": [
       "(4, 3)"
      ]
     },
     "execution_count": 43,
     "metadata": {},
     "output_type": "execute_result"
    }
   ],
   "source": [
    "dims"
   ]
  },
  {
   "cell_type": "markdown",
   "metadata": {
    "id": "CpRDRtFjsxrJ"
   },
   "source": [
    "we can use two embedded for loops to 'iterate through' the elements of the matrix one-by-one, as below"
   ]
  },
  {
   "cell_type": "code",
   "execution_count": null,
   "metadata": {
    "colab": {
     "base_uri": "https://localhost:8080/"
    },
    "id": "lcCc9e0ssekm",
    "outputId": "d2e4dc40-5294-47a1-9971-267bbfa39dc8"
   },
   "outputs": [
    {
     "name": "stdout",
     "output_type": "stream",
     "text": [
      "i=  0 j= 0  value= 1.0\n",
      "i=  0 j= 1  value= 20.0\n",
      "i=  0 j= 2  value= 6.0\n",
      "i=  1 j= 0  value= 40.0\n",
      "i=  1 j= 1  value= 5.0\n",
      "i=  1 j= 2  value= 70.0\n",
      "i=  2 j= 0  value= 55.0\n",
      "i=  2 j= 1  value= 23.0\n",
      "i=  2 j= 2  value= 12.0\n",
      "i=  3 j= 0  value= 78.0\n",
      "i=  3 j= 1  value= 11.0\n",
      "i=  3 j= 2  value= 22.0\n"
     ]
    }
   ],
   "source": [
    "for i in np.arange(nrow):  # index for rows\n",
    "    for j in np.arange(ncol):  # index for columns\n",
    "        print(\"i= \", i, \"j=\", j, \" value=\", first2_d[i, j])"
   ]
  },
  {
   "cell_type": "markdown",
   "metadata": {
    "id": "X1Y-kozfkvHI"
   },
   "source": [
    "change the above code, so that it adapts to the size of the 2d array...\n",
    "\n",
    "it should print all elements , from a 2d array of any size.. use np.shape()!"
   ]
  },
  {
   "cell_type": "markdown",
   "metadata": {
    "id": "PAyMAMQLqMe7"
   },
   "source": [
    "whole rows and columns can be printed easily , with the use of the index and the \":\" sign\n",
    "\n",
    "1. print the last row\n",
    "2. print the first column"
   ]
  },
  {
   "cell_type": "code",
   "execution_count": null,
   "metadata": {
    "colab": {
     "base_uri": "https://localhost:8080/"
    },
    "id": "XvCmnFlGqWrK",
    "outputId": "2236038d-1a3c-474d-836b-72e809a65142"
   },
   "outputs": [
    {
     "name": "stdout",
     "output_type": "stream",
     "text": [
      "[[ 1. 20.  6.]\n",
      " [40.  5. 70.]\n",
      " [55. 23. 12.]\n",
      " [78. 11. 22.]]\n",
      "first row [ 1. 20.  6.]\n",
      "last row [78. 11. 22.]\n",
      "first column [ 1. 40. 55. 78.]\n",
      "last column [ 6. 70. 12. 22.]\n"
     ]
    }
   ],
   "source": [
    "print(first2_d)\n",
    "print(\"first row\", first2_d[0, :])\n",
    "print(\"last row\", first2_d[-1, :])\n",
    "print(\"first column\", first2_d[:, 0])\n",
    "print(\"last column\", first2_d[:, -1])"
   ]
  },
  {
   "cell_type": "markdown",
   "metadata": {
    "id": "4fdEBlGfoq5Y"
   },
   "source": [
    "create a 2d array of ones:  10 row and 8 columns\n",
    "\n",
    "to make a 2d array of ones/zeros, you need a double parenthesis"
   ]
  },
  {
   "cell_type": "code",
   "execution_count": null,
   "metadata": {
    "id": "APqic8OXnBfZ"
   },
   "outputs": [],
   "source": [
    "xx = np.ones((10, 8))"
   ]
  },
  {
   "cell_type": "code",
   "execution_count": null,
   "metadata": {
    "colab": {
     "base_uri": "https://localhost:8080/"
    },
    "id": "dy_2P0xl_LUU",
    "outputId": "9f02d81b-bdf8-4f43-8f8e-7c6bb68cbbd6"
   },
   "outputs": [
    {
     "data": {
      "text/plain": [
       "array([[1., 1., 1., 1., 1., 1., 1., 1.],\n",
       "       [1., 1., 1., 1., 1., 1., 1., 1.],\n",
       "       [1., 1., 1., 1., 1., 1., 1., 1.],\n",
       "       [1., 1., 1., 1., 1., 1., 1., 1.],\n",
       "       [1., 1., 1., 1., 1., 1., 1., 1.],\n",
       "       [1., 1., 1., 1., 1., 1., 1., 1.],\n",
       "       [1., 1., 1., 1., 1., 1., 1., 1.],\n",
       "       [1., 1., 1., 1., 1., 1., 1., 1.],\n",
       "       [1., 1., 1., 1., 1., 1., 1., 1.],\n",
       "       [1., 1., 1., 1., 1., 1., 1., 1.]])"
      ]
     },
     "execution_count": 53,
     "metadata": {},
     "output_type": "execute_result"
    }
   ],
   "source": [
    "xx"
   ]
  },
  {
   "cell_type": "code",
   "execution_count": null,
   "metadata": {
    "colab": {
     "base_uri": "https://localhost:8080/"
    },
    "id": "bGmNNAjCiJay",
    "outputId": "4fd1f805-1229-4e18-94d9-0e52c9601ccb"
   },
   "outputs": [
    {
     "data": {
      "text/plain": [
       "array([1., 1., 1., 1., 1., 1., 1., 1., 1., 1., 1., 1., 1., 1., 1., 1., 1.,\n",
       "       1., 1.])"
      ]
     },
     "execution_count": 54,
     "metadata": {},
     "output_type": "execute_result"
    }
   ],
   "source": [
    "np.ones((19))"
   ]
  },
  {
   "cell_type": "code",
   "execution_count": null,
   "metadata": {
    "colab": {
     "base_uri": "https://localhost:8080/"
    },
    "id": "PrXv3zqPAbr0",
    "outputId": "f0085247-0a78-47b0-8913-fcf23d4d5e72"
   },
   "outputs": [
    {
     "data": {
      "text/plain": [
       "(19,)"
      ]
     },
     "execution_count": 56,
     "metadata": {},
     "output_type": "execute_result"
    }
   ],
   "source": []
  },
  {
   "cell_type": "markdown",
   "metadata": {
    "id": "CEHd6mF1k9oA"
   },
   "source": [
    "make a 3d array of zeros"
   ]
  },
  {
   "cell_type": "code",
   "execution_count": null,
   "metadata": {
    "id": "rDgwyGCnh23D"
   },
   "outputs": [],
   "source": [
    "three_d = np.zeros(((5, 2, 3)))"
   ]
  },
  {
   "cell_type": "code",
   "execution_count": null,
   "metadata": {
    "colab": {
     "base_uri": "https://localhost:8080/"
    },
    "id": "TFIYY3BbFMmx",
    "outputId": "fa82ac6d-15b5-40a3-f73b-b6fc4e2e38d7"
   },
   "outputs": [
    {
     "data": {
      "text/plain": [
       "array([[[0., 0., 0.],\n",
       "        [0., 0., 0.]],\n",
       "\n",
       "       [[0., 0., 0.],\n",
       "        [0., 0., 0.]],\n",
       "\n",
       "       [[0., 0., 0.],\n",
       "        [0., 0., 0.]],\n",
       "\n",
       "       [[0., 0., 0.],\n",
       "        [0., 0., 0.]],\n",
       "\n",
       "       [[0., 0., 0.],\n",
       "        [0., 0., 0.]]])"
      ]
     },
     "execution_count": 64,
     "metadata": {},
     "output_type": "execute_result"
    }
   ],
   "source": [
    "three_d"
   ]
  },
  {
   "cell_type": "code",
   "execution_count": null,
   "metadata": {
    "colab": {
     "base_uri": "https://localhost:8080/"
    },
    "id": "aXq-q1NlFNt5",
    "outputId": "8bec09a9-30dc-4df8-a386-744771f6125a"
   },
   "outputs": [
    {
     "data": {
      "text/plain": [
       "array([[0., 0., 0.],\n",
       "       [0., 0., 0.]])"
      ]
     },
     "execution_count": 65,
     "metadata": {},
     "output_type": "execute_result"
    }
   ],
   "source": [
    "three_d[0, :, :]"
   ]
  },
  {
   "cell_type": "code",
   "execution_count": null,
   "metadata": {
    "colab": {
     "base_uri": "https://localhost:8080/"
    },
    "id": "aLg81f6EFQq5",
    "outputId": "44be3e76-918c-4239-de69-08831c3f384f"
   },
   "outputs": [
    {
     "data": {
      "text/plain": [
       "array([[0., 0., 0.],\n",
       "       [0., 0., 0.],\n",
       "       [0., 0., 0.],\n",
       "       [0., 0., 0.],\n",
       "       [0., 0., 0.]])"
      ]
     },
     "execution_count": 66,
     "metadata": {},
     "output_type": "execute_result"
    }
   ],
   "source": [
    "three_d[:, 0, :]"
   ]
  },
  {
   "cell_type": "code",
   "execution_count": null,
   "metadata": {
    "colab": {
     "base_uri": "https://localhost:8080/"
    },
    "id": "FLApS-0TFVVU",
    "outputId": "ffdd29b8-7963-4ca4-b493-9042414f0f4c"
   },
   "outputs": [
    {
     "data": {
      "text/plain": [
       "array([[0., 0.],\n",
       "       [0., 0.],\n",
       "       [0., 0.],\n",
       "       [0., 0.],\n",
       "       [0., 0.]])"
      ]
     },
     "execution_count": 67,
     "metadata": {},
     "output_type": "execute_result"
    }
   ],
   "source": [
    "three_d[:, :, 0]"
   ]
  },
  {
   "cell_type": "markdown",
   "metadata": {
    "id": "gdh1x5I5o4Ta"
   },
   "source": [
    "use np.shape to check the dimensions of what we have created"
   ]
  },
  {
   "cell_type": "code",
   "execution_count": null,
   "metadata": {
    "colab": {
     "base_uri": "https://localhost:8080/"
    },
    "id": "ROslX-OKo3u_",
    "outputId": "33ac9633-ea93-43fe-a5ca-b643a4daa0b3"
   },
   "outputs": [
    {
     "name": "stdout",
     "output_type": "stream",
     "text": [
      "(10, 8)\n"
     ]
    }
   ],
   "source": [
    "dims = np.shape(xx)\n",
    "print(dims)"
   ]
  },
  {
   "cell_type": "code",
   "execution_count": null,
   "metadata": {
    "colab": {
     "base_uri": "https://localhost:8080/"
    },
    "id": "dOy6Gwa1F6hJ",
    "outputId": "e2f5107b-16c5-4967-c486-e5fe64e1ba3b"
   },
   "outputs": [
    {
     "data": {
      "text/plain": [
       "(5, 2, 3)"
      ]
     },
     "execution_count": 69,
     "metadata": {},
     "output_type": "execute_result"
    }
   ],
   "source": [
    "np.shape(three_d)"
   ]
  },
  {
   "cell_type": "markdown",
   "metadata": {
    "id": "h1y17S5uusTQ"
   },
   "source": [
    "checking the shape of an array is very useful, to see that what is happening is  what was intended"
   ]
  },
  {
   "cell_type": "markdown",
   "metadata": {
    "id": "QACerFrXxBY8"
   },
   "source": [
    "# Generating arrays of random numbers\n",
    "\n",
    "this is going to be a very important tool in this course, as it data simulation is a very useful in modern data analysis\n",
    "\n",
    "data simulations, based on generated random data are often the best way to justify a data analysis process"
   ]
  },
  {
   "cell_type": "markdown",
   "metadata": {
    "id": "Jr80dQGUxW48"
   },
   "source": [
    "run the cell below should generate a single random number between 0-1\n"
   ]
  },
  {
   "cell_type": "code",
   "execution_count": null,
   "metadata": {
    "colab": {
     "base_uri": "https://localhost:8080/"
    },
    "id": "XyNvRQjnuT5T",
    "outputId": "4cbe3c29-edd9-40bf-ab8e-9f34fe9109df"
   },
   "outputs": [
    {
     "data": {
      "text/plain": [
       "0.07165267996563529"
      ]
     },
     "execution_count": 40,
     "metadata": {},
     "output_type": "execute_result"
    }
   ],
   "source": [
    "np.random.rand()"
   ]
  },
  {
   "cell_type": "markdown",
   "metadata": {
    "id": "Xfr20nx2zFHo"
   },
   "source": [
    "by adding an argument we can create a 1d array of 100 random numbers"
   ]
  },
  {
   "cell_type": "code",
   "execution_count": null,
   "metadata": {
    "colab": {
     "base_uri": "https://localhost:8080/"
    },
    "id": "DHaVrXcRoqLY",
    "outputId": "d0e0a364-e627-4aa4-df70-05f91175bd63"
   },
   "outputs": [
    {
     "data": {
      "text/plain": [
       "array([9.61351971e-02, 6.25698813e-01, 3.23458386e-01, 9.28689566e-01,\n",
       "       6.17130449e-01, 9.66438252e-01, 1.67064903e-01, 9.05168724e-01,\n",
       "       3.51854039e-01, 5.17112122e-02, 1.30574057e-01, 5.34576977e-01,\n",
       "       6.17267801e-01, 4.96169328e-01, 2.74246997e-02, 6.99311030e-01,\n",
       "       4.14262522e-01, 4.51679388e-01, 1.26648977e-02, 5.32501557e-01,\n",
       "       9.86447542e-02, 4.88660644e-01, 1.32695149e-01, 6.88302297e-02,\n",
       "       5.72636735e-01, 3.21836809e-01, 8.55928259e-01, 3.93279751e-01,\n",
       "       9.70768114e-01, 9.16892804e-01, 6.25447005e-01, 8.92040058e-01,\n",
       "       9.61822087e-01, 3.24067158e-01, 1.21613271e-01, 3.40061100e-01,\n",
       "       9.54243251e-01, 8.68979671e-01, 1.30126681e-01, 3.49665895e-01,\n",
       "       7.20667946e-01, 9.90030598e-01, 5.78609547e-02, 9.89527251e-01,\n",
       "       9.02716104e-02, 2.35282547e-02, 8.30861380e-01, 8.68724858e-01,\n",
       "       6.98073752e-01, 9.96299324e-01, 2.24821417e-01, 5.44130628e-02,\n",
       "       1.35429957e-01, 6.41070279e-01, 4.57016424e-02, 9.13351544e-01,\n",
       "       2.22010129e-01, 8.99987515e-01, 5.08461932e-01, 7.91959651e-01,\n",
       "       8.04870623e-01, 6.87804379e-01, 9.00323352e-01, 1.23889590e-01,\n",
       "       9.29778956e-01, 3.56762609e-01, 2.28249362e-01, 4.86299020e-01,\n",
       "       3.82120181e-01, 4.17770874e-01, 2.35126052e-01, 6.23369902e-01,\n",
       "       4.64267746e-01, 8.16702859e-01, 2.80091521e-01, 5.22287715e-01,\n",
       "       3.17622162e-02, 2.77394325e-01, 1.17889049e-01, 1.39414644e-01,\n",
       "       5.38966046e-01, 5.83987317e-01, 5.99995031e-02, 4.51977226e-01,\n",
       "       5.94683725e-01, 7.19771943e-01, 3.83094059e-01, 2.21703093e-02,\n",
       "       7.17715185e-01, 4.55463806e-01, 9.89020098e-01, 4.09225608e-01,\n",
       "       2.71099443e-01, 7.82404425e-01, 5.23399825e-01, 9.45407942e-02,\n",
       "       5.85878040e-01, 2.19672302e-01, 7.45740568e-01, 7.06275264e-01,\n",
       "       9.20408671e-01, 7.37780484e-01, 1.09094040e-01, 9.47180714e-02,\n",
       "       4.92748269e-01, 4.71775758e-01, 6.49937180e-01, 7.06170586e-01,\n",
       "       6.94706220e-02, 4.28688002e-02, 8.51159647e-01, 2.35942809e-01,\n",
       "       7.14064033e-01, 3.83428365e-01, 4.25985880e-01, 8.34371215e-01,\n",
       "       1.56911429e-01, 9.36581842e-01, 9.83422721e-01, 1.56952841e-01,\n",
       "       1.85804690e-02, 9.71575750e-01, 1.43792064e-01, 5.64964706e-01,\n",
       "       8.08692317e-01, 7.51842540e-01, 6.57914704e-01, 5.90803505e-01,\n",
       "       1.22836917e-01, 8.22716597e-01, 5.85575119e-01, 7.50524185e-01,\n",
       "       8.85860253e-01, 8.01879729e-01, 2.65550855e-01, 3.12501752e-01,\n",
       "       4.69886864e-01, 9.99176430e-01, 2.36960353e-01, 6.48005597e-01,\n",
       "       6.85904037e-01, 6.02363309e-01, 8.84086401e-01, 2.58485837e-01,\n",
       "       1.47074380e-01, 8.86690757e-01, 6.37634438e-01, 9.47399516e-01,\n",
       "       3.80666669e-01, 9.81878018e-01, 3.91010910e-01, 7.77776701e-01,\n",
       "       4.45959046e-01, 2.06737258e-01, 6.71443409e-01, 7.78092127e-01,\n",
       "       8.46105472e-01, 9.15912201e-02, 2.40984658e-01, 5.92414621e-01,\n",
       "       3.91245897e-01, 2.39010859e-01, 2.65582357e-01, 5.71531839e-01,\n",
       "       4.19687723e-01, 4.95208448e-01, 6.44696036e-01, 1.13757307e-01,\n",
       "       8.24705041e-01, 1.65644462e-01, 3.95435765e-01, 3.67851950e-02,\n",
       "       7.54335670e-01, 4.15630576e-01, 2.26842857e-01, 7.91962318e-01,\n",
       "       6.14194515e-02, 5.44913512e-01, 7.13069266e-02, 1.73136115e-01,\n",
       "       5.72433534e-01, 8.04809826e-01, 8.67116100e-01, 1.04691524e-01,\n",
       "       3.40847490e-01, 1.45318236e-01, 8.25421865e-01, 7.68716642e-01,\n",
       "       3.28379137e-01, 9.08009659e-01, 1.33417017e-01, 9.15296655e-01,\n",
       "       6.27325375e-01, 4.36620051e-01, 2.16051689e-01, 5.74109349e-01,\n",
       "       7.14776794e-01, 9.20332789e-01, 4.10854062e-01, 5.42310343e-01,\n",
       "       6.49139469e-01, 4.94110221e-01, 4.15512953e-01, 1.96311383e-01,\n",
       "       5.54640639e-01, 2.32175974e-01, 9.73953256e-01, 9.40802838e-01,\n",
       "       3.79902393e-01, 6.44374787e-01, 3.77394376e-01, 5.85223497e-01,\n",
       "       1.84202512e-01, 3.65344755e-01, 7.56325709e-01, 8.92387371e-01,\n",
       "       2.81737395e-01, 3.91937676e-01, 8.48651396e-01, 3.71561876e-01,\n",
       "       8.35124585e-01, 8.18206003e-01, 4.58523685e-01, 1.94125453e-01,\n",
       "       6.67586019e-02, 2.30952375e-01, 6.22679540e-01, 1.13657598e-01,\n",
       "       8.10173717e-01, 4.55214836e-01, 7.88291661e-02, 9.04585391e-01,\n",
       "       5.49371829e-01, 1.21987985e-01, 1.02005092e-02, 6.62758461e-01,\n",
       "       1.07543044e-01, 9.64399348e-01, 9.58438901e-01, 9.86416686e-01,\n",
       "       9.88083643e-01, 1.75979737e-01, 9.29316920e-01, 7.95068567e-01,\n",
       "       4.45888096e-01, 9.35717016e-01, 7.87841550e-01, 1.14013178e-01,\n",
       "       6.84629229e-01, 4.25036505e-01, 9.82171303e-02, 8.52557030e-01,\n",
       "       2.41079602e-01, 8.39038490e-01, 1.42506675e-01, 1.31706738e-01,\n",
       "       4.51584270e-02, 4.72643861e-01, 1.73678758e-02, 2.14400882e-02,\n",
       "       4.44361790e-02, 3.80844478e-01, 7.12473818e-01, 1.52768853e-01,\n",
       "       1.13689965e-01, 8.87764846e-01, 9.63687869e-01, 5.21988666e-01,\n",
       "       3.72076977e-01, 6.29270523e-01, 9.90275072e-01, 1.38230925e-01,\n",
       "       4.14132353e-01, 2.34186260e-01, 5.99084466e-01, 5.85314411e-01,\n",
       "       5.10223672e-01, 8.85399658e-02, 5.21816642e-01, 2.85162299e-01,\n",
       "       2.93656738e-01, 5.19949307e-01, 2.38264701e-01, 6.16073642e-02,\n",
       "       3.21365168e-01, 4.90589996e-01, 6.97493412e-01, 1.20672757e-01,\n",
       "       6.13184396e-01, 9.16798579e-01, 5.62268959e-01, 4.84994633e-01,\n",
       "       2.97674899e-01, 9.25235491e-01, 8.77331525e-01, 4.98779814e-01,\n",
       "       1.29064404e-01, 7.10098992e-01, 3.69625927e-01, 4.15612679e-01,\n",
       "       7.54792508e-01, 8.80421229e-01, 2.93151434e-01, 1.38514556e-01,\n",
       "       9.13961075e-01, 9.96460532e-01, 6.22939389e-01, 9.97167940e-01,\n",
       "       2.15570079e-01, 7.16459157e-01, 2.84909035e-01, 3.15271086e-01,\n",
       "       3.44474716e-01, 8.18490041e-01, 9.28283598e-01, 5.67918015e-01,\n",
       "       1.88139490e-01, 7.20976207e-01, 5.13430746e-02, 2.67730719e-01,\n",
       "       2.22625783e-01, 5.46617699e-01, 4.06397960e-02, 2.63795423e-01,\n",
       "       4.71421387e-01, 5.92614740e-01, 1.64020750e-01, 5.46835081e-01,\n",
       "       1.34412091e-01, 9.15051262e-01, 6.80953421e-01, 2.23527855e-01,\n",
       "       2.17877558e-01, 9.17667064e-02, 4.86408167e-01, 6.38398974e-01,\n",
       "       2.96320083e-01, 4.74590350e-01, 9.22001704e-01, 6.56113518e-01,\n",
       "       9.85051725e-01, 6.31605529e-01, 3.44925237e-01, 5.01027886e-01,\n",
       "       7.11269612e-02, 7.74390852e-01, 1.36406974e-01, 6.32345671e-01,\n",
       "       8.73395743e-01, 2.23469670e-01, 2.10862939e-01, 4.83965255e-01,\n",
       "       9.02721203e-01, 8.16037676e-02, 5.21250079e-01, 1.00384868e-01,\n",
       "       5.02980544e-01, 5.54146225e-02, 6.81237285e-01, 3.97049538e-01,\n",
       "       2.10708993e-01, 8.62504316e-01, 3.49713017e-01, 5.27169126e-01,\n",
       "       9.10198195e-01, 2.70323625e-01, 1.92968824e-01, 2.90240822e-01,\n",
       "       2.40378327e-01, 1.19465827e-01, 8.52484389e-01, 6.72675800e-01,\n",
       "       7.96468566e-01, 6.25259721e-01, 8.73060682e-01, 2.30650400e-01,\n",
       "       6.82923885e-01, 7.42725848e-01, 4.55427653e-01, 3.49579947e-01,\n",
       "       2.80037457e-01, 3.06329523e-03, 4.29571850e-01, 3.93031534e-01,\n",
       "       9.74552103e-01, 8.72168502e-01, 4.55082407e-02, 4.73197474e-01,\n",
       "       8.32733567e-01, 4.66252263e-01, 8.53443739e-01, 1.47524941e-01,\n",
       "       6.28382413e-02, 5.20614304e-01, 2.59322545e-01, 9.20842140e-01,\n",
       "       4.78359609e-02, 5.59419734e-02, 5.57976679e-01, 6.61084741e-01,\n",
       "       6.59140108e-01, 3.86637774e-01, 1.32903030e-01, 6.44095730e-01,\n",
       "       7.16026786e-01, 3.08812637e-01, 9.19698558e-01, 2.07352626e-01,\n",
       "       2.34390262e-01, 1.51248936e-01, 6.64117881e-01, 1.35498205e-01,\n",
       "       3.62143335e-01, 4.88415497e-01, 3.59383037e-01, 6.84848994e-01,\n",
       "       4.37771629e-01, 1.47119159e-01, 8.41750509e-02, 4.90784584e-02,\n",
       "       1.84598129e-01, 9.18422923e-01, 4.49154578e-01, 6.67770218e-01,\n",
       "       5.48325133e-01, 9.06393727e-01, 7.35959944e-01, 5.24902327e-01,\n",
       "       2.84662769e-01, 8.83930153e-01, 2.60427970e-01, 4.54211884e-01,\n",
       "       1.79059736e-01, 8.49328341e-01, 9.62890147e-01, 3.22818678e-02,\n",
       "       9.11887813e-01, 3.60199870e-02, 9.98858977e-01, 2.72705528e-01,\n",
       "       5.76546687e-01, 6.46953791e-01, 3.76952672e-01, 3.70963851e-01,\n",
       "       2.63927900e-01, 4.62002264e-01, 4.89560380e-02, 4.02260361e-01,\n",
       "       4.60638703e-01, 3.05614517e-01, 8.86702005e-01, 4.70737538e-01,\n",
       "       2.32832922e-01, 1.05401956e-01, 8.50966809e-01, 2.28810985e-01,\n",
       "       4.76152994e-01, 2.88954785e-01, 7.21208725e-01, 2.30095146e-01,\n",
       "       8.81817082e-01, 5.23742908e-03, 9.56976869e-01, 2.87654705e-01,\n",
       "       4.46018865e-01, 1.22635667e-01, 2.65752518e-01, 5.46042571e-01,\n",
       "       7.17171921e-01, 3.94558852e-01, 3.65078115e-01, 1.32510196e-01,\n",
       "       7.33019003e-01, 3.21842104e-01, 2.55634139e-01, 9.66572626e-01,\n",
       "       2.38685476e-01, 8.17498791e-01, 6.26848314e-01, 6.62449865e-01,\n",
       "       5.64544959e-01, 7.73168458e-01, 4.08829638e-01, 2.04301342e-01,\n",
       "       4.51572758e-01, 1.21462614e-01, 2.82700557e-01, 2.63004961e-01,\n",
       "       9.56260852e-01, 4.97744034e-01, 3.30603919e-01, 2.57937925e-01,\n",
       "       2.11291537e-01, 7.23017829e-01, 7.17400877e-01, 7.52165095e-02,\n",
       "       7.55996440e-02, 9.18677968e-01, 5.71588303e-01, 1.66610515e-01,\n",
       "       7.41195025e-01, 3.08113771e-01, 5.66745832e-01, 5.58184593e-02,\n",
       "       6.64800185e-01, 7.33350840e-01, 8.84628873e-01, 2.04543234e-01,\n",
       "       7.28863784e-01, 2.46310755e-01, 4.86737262e-01, 3.55141146e-01,\n",
       "       6.11038581e-01, 4.68085271e-01, 6.96206292e-01, 1.49018910e-01,\n",
       "       9.19186975e-01, 8.33367537e-01, 9.52747224e-01, 2.73803825e-02,\n",
       "       5.40579999e-01, 2.87453624e-01, 8.73830048e-01, 8.92760016e-01,\n",
       "       1.33038516e-01, 5.08170955e-01, 9.13574497e-01, 6.26853788e-01,\n",
       "       7.81869884e-01, 7.47944749e-02, 4.79679627e-01, 9.63895184e-01,\n",
       "       7.77465416e-01, 7.98490907e-01, 9.72432881e-01, 1.78952933e-01,\n",
       "       7.00739377e-01, 1.25797774e-01, 5.35364559e-01, 7.04650108e-01,\n",
       "       2.14527460e-01, 7.39718276e-01, 3.21591625e-01, 5.60584129e-01,\n",
       "       3.54600380e-01, 8.57386002e-01, 3.40104485e-01, 3.80750547e-01,\n",
       "       1.32282460e-01, 6.57718720e-01, 3.10873149e-01, 8.18728195e-01,\n",
       "       6.55305661e-01, 1.66967692e-01, 4.49925158e-01, 6.48807312e-01,\n",
       "       8.55489799e-01, 4.48157270e-03, 4.37286733e-01, 6.19601392e-02,\n",
       "       1.60127875e-02, 2.16191533e-01, 5.79766869e-02, 6.34411900e-01,\n",
       "       5.79371763e-01, 4.55576354e-01, 7.41904347e-04, 3.42917974e-01,\n",
       "       9.65119225e-01, 6.52640936e-01, 4.83192529e-01, 4.20317719e-02,\n",
       "       4.42763594e-01, 8.16098504e-01, 2.37288927e-01, 7.73481379e-01,\n",
       "       9.13540843e-01, 6.25351306e-01, 9.38669177e-01, 6.17528404e-01,\n",
       "       1.48581005e-01, 8.98631662e-02, 4.23346624e-01, 1.34686290e-01,\n",
       "       1.91474455e-01, 7.96403887e-01, 3.68030027e-01, 9.56684420e-01,\n",
       "       6.30012239e-01, 8.51263416e-01, 9.39673755e-01, 1.98352971e-01,\n",
       "       7.02593415e-01, 2.26682813e-01, 8.27455309e-02, 3.22179092e-01,\n",
       "       1.15053249e-01, 3.43759145e-01, 2.71085845e-01, 4.89335858e-01,\n",
       "       4.83315207e-01, 1.72513997e-01, 9.96900239e-01, 7.51361151e-01,\n",
       "       3.66051624e-01, 3.41268848e-01, 3.09053188e-01, 3.61575078e-01,\n",
       "       8.63770267e-01, 3.59117613e-01, 7.59897954e-01, 1.29992402e-01,\n",
       "       3.12565207e-01, 9.29532415e-01, 6.08751628e-01, 2.45256624e-01,\n",
       "       1.69424348e-01, 5.66243695e-01, 3.71671762e-01, 7.74048053e-01,\n",
       "       4.14997193e-01, 1.89341585e-01, 2.27120692e-01, 5.39810398e-01,\n",
       "       2.13178247e-01, 3.53022917e-01, 5.63558176e-02, 8.04632650e-01,\n",
       "       7.33304414e-01, 5.68663739e-01, 6.15747965e-01, 6.26510631e-01,\n",
       "       2.06828100e-01, 6.42968255e-01, 1.51719489e-01, 7.87123316e-01,\n",
       "       8.21453664e-01, 6.74438292e-01, 8.88746272e-01, 9.67544883e-01,\n",
       "       3.99556597e-02, 7.05439636e-01, 5.22023524e-01, 8.24080522e-02,\n",
       "       5.92186599e-01, 5.77126898e-01, 5.39016656e-01, 6.87960752e-01,\n",
       "       7.57499577e-02, 7.30169974e-01, 5.72590854e-01, 5.96313864e-01,\n",
       "       3.96221362e-01, 2.79566639e-02, 2.69037311e-02, 9.45758173e-01,\n",
       "       2.87579483e-01, 2.63694742e-01, 4.19227323e-01, 6.33601209e-01,\n",
       "       1.19761959e-01, 1.78671517e-01, 2.65948302e-01, 8.98321105e-01,\n",
       "       2.88314310e-01, 2.09200744e-01, 4.04532471e-02, 9.11024242e-02,\n",
       "       6.24706250e-01, 8.73230865e-01, 2.69277400e-01, 4.83824926e-01,\n",
       "       7.58257643e-01, 7.16021347e-01, 8.15905050e-01, 9.49470445e-01,\n",
       "       2.41853532e-01, 2.48238370e-01, 3.64193337e-01, 7.37471827e-01,\n",
       "       3.06739567e-01, 1.12093702e-01, 2.22049098e-01, 9.25042472e-01,\n",
       "       6.17830770e-01, 4.47288070e-01, 5.31272322e-01, 7.83480892e-01,\n",
       "       9.14564593e-01, 3.09515489e-02, 9.53778350e-01, 2.11692350e-01,\n",
       "       6.79469190e-01, 3.32794858e-01, 9.50003916e-01, 9.26598430e-01,\n",
       "       6.97786861e-01, 9.96515837e-01, 4.34021092e-01, 1.89933770e-01,\n",
       "       3.57703535e-01, 5.39744473e-01, 5.33153068e-01, 9.13977276e-01,\n",
       "       4.92633495e-01, 8.43772197e-01, 9.86376084e-01, 2.16850148e-02,\n",
       "       1.16432762e-01, 7.75531725e-01, 8.80409628e-01, 3.46566642e-01,\n",
       "       4.48523377e-01, 4.74328093e-01, 6.41807008e-01, 9.55123298e-01,\n",
       "       9.57004160e-01, 3.39855478e-01, 2.42177752e-01, 1.53651006e-01,\n",
       "       8.93025896e-02, 7.32082212e-01, 1.05651257e-01, 3.03688707e-01,\n",
       "       5.28960828e-01, 4.18168144e-01, 5.89711089e-01, 8.58139093e-02,\n",
       "       8.07432800e-01, 7.87450114e-01, 3.59194241e-01, 1.48160520e-01,\n",
       "       5.22174718e-01, 8.43725301e-01, 9.45717520e-02, 4.32698601e-01,\n",
       "       8.67101468e-01, 4.86997304e-01, 3.41255809e-01, 4.77957447e-01,\n",
       "       7.55927752e-01, 4.00089296e-01, 5.71421110e-02, 9.99220251e-01,\n",
       "       7.37602823e-01, 8.34263079e-01, 7.91282564e-01, 1.12953504e-01,\n",
       "       3.94230087e-02, 7.98364187e-01, 7.06559662e-01, 8.46190072e-01,\n",
       "       5.99721404e-01, 7.48268591e-01, 4.10615191e-02, 6.39708260e-01,\n",
       "       2.94014745e-02, 5.98329940e-01, 2.17967765e-01, 7.05989899e-01,\n",
       "       2.69607957e-01, 2.41880504e-01, 5.01667600e-01, 9.12645536e-02,\n",
       "       2.64568832e-01, 5.19190000e-01, 1.96424441e-02, 5.98290679e-01,\n",
       "       2.97485525e-01, 1.24209096e-02, 1.05880301e-03, 5.21593722e-01,\n",
       "       3.92515064e-01, 7.25040084e-01, 9.22476983e-01, 1.71409112e-02,\n",
       "       3.74431849e-01, 3.33436596e-01, 4.69285683e-01, 4.84836505e-01,\n",
       "       9.45025621e-01, 4.90284900e-01, 4.42326740e-01, 2.90781921e-01,\n",
       "       7.80245847e-01, 8.79569019e-01, 7.91946795e-01, 5.61377652e-01,\n",
       "       8.42397365e-01, 5.64870728e-01, 9.80408258e-01, 4.50087866e-01,\n",
       "       5.11142006e-01, 2.66770362e-01, 9.02995195e-01, 4.82456134e-01,\n",
       "       1.90455526e-01, 3.65463850e-01, 7.90081016e-01, 7.12350594e-01,\n",
       "       2.12943419e-01, 7.31896529e-01, 3.60957842e-01, 9.78348487e-01,\n",
       "       6.80241148e-01, 9.25769977e-01, 9.52835455e-01, 4.41930036e-01,\n",
       "       7.12751331e-01, 1.05983751e-01, 8.78360752e-01, 1.86622725e-02,\n",
       "       5.01220684e-01, 9.19063366e-01, 7.66971576e-01, 5.71723681e-02,\n",
       "       8.13089597e-01, 3.09315150e-01, 5.95108864e-01, 1.97097954e-02,\n",
       "       5.51554920e-01, 7.94983422e-01, 5.84748107e-01, 3.43931352e-01,\n",
       "       1.73236900e-01, 4.01172906e-02, 8.06548625e-01, 6.29087080e-01,\n",
       "       4.22768057e-01, 9.37035192e-01, 3.48057722e-01, 3.72685857e-01,\n",
       "       1.74615811e-01, 1.11884564e-01, 5.96073886e-01, 9.17365672e-01,\n",
       "       1.93282323e-01, 7.02851306e-01, 8.58070527e-01, 2.69549990e-01,\n",
       "       6.06576377e-01, 8.88697605e-01, 7.56816788e-01, 1.42662562e-01,\n",
       "       3.22998056e-01, 7.35769320e-01, 8.12175846e-01, 8.61208486e-01,\n",
       "       3.86304834e-01, 7.88612561e-01, 6.80067293e-01, 2.93472067e-01,\n",
       "       4.57501040e-01, 3.44734648e-01, 8.09266164e-01, 4.33930257e-01,\n",
       "       7.96620657e-01, 6.96659173e-01, 5.32855432e-01, 4.27456977e-01,\n",
       "       5.70529812e-01, 2.46991804e-01, 2.71068143e-01, 5.43461987e-01,\n",
       "       8.36523247e-01, 8.24067797e-01, 3.61568884e-01, 7.18965083e-01,\n",
       "       6.12780737e-01, 4.32092657e-01, 4.11693223e-02, 1.38203927e-01,\n",
       "       6.92433253e-01, 7.32360983e-01, 7.20599099e-02, 5.75080411e-01,\n",
       "       6.56480993e-01, 1.93484749e-01, 1.74122272e-01, 1.35371218e-01,\n",
       "       7.40383345e-01, 4.39616710e-01, 1.18280301e-01, 6.46617105e-01,\n",
       "       8.20268432e-01, 4.49506697e-01, 1.43270893e-01, 4.56959198e-01,\n",
       "       2.00940429e-01, 6.90521368e-01, 1.61632403e-01, 4.66112421e-01,\n",
       "       7.56126077e-01, 9.26997683e-01, 3.72462475e-01, 7.47379406e-01,\n",
       "       8.61293061e-01, 7.97734376e-01, 9.40506671e-01, 6.90223333e-01,\n",
       "       4.31079475e-01, 6.64174730e-01, 1.71014419e-01, 6.90741179e-01,\n",
       "       4.35650240e-01, 3.40243474e-01, 4.18485714e-01, 7.18821052e-01,\n",
       "       4.82623434e-01, 1.06186065e-01, 2.21712878e-01, 3.01340637e-01,\n",
       "       5.69222113e-01, 6.01761008e-01, 5.56360148e-01, 6.68384322e-02,\n",
       "       7.92588853e-01, 1.38584284e-01, 5.44892540e-01, 5.55334238e-01,\n",
       "       7.09041146e-01, 9.82160226e-01, 4.92318347e-01, 4.64891321e-01,\n",
       "       6.03613822e-01, 1.59174492e-01, 9.92618162e-03, 2.27649101e-01,\n",
       "       9.61970914e-01, 7.56086270e-01, 6.22751417e-01, 2.61506238e-01,\n",
       "       8.05603241e-01, 7.18942133e-01, 1.55450138e-01, 9.75649307e-01,\n",
       "       6.62030869e-01, 8.12029262e-01, 4.84253170e-01, 8.86416470e-01,\n",
       "       5.75383007e-01, 6.28468390e-01, 7.71556734e-01, 9.07520070e-01,\n",
       "       9.54726183e-01, 8.39900128e-01, 3.66378610e-01, 1.39866886e-01,\n",
       "       4.17632251e-01, 4.68425605e-01, 5.09387884e-01, 1.79324388e-01,\n",
       "       3.41914627e-01, 7.99304537e-01, 8.36643549e-01, 8.67875790e-01,\n",
       "       4.73101553e-01, 6.95774086e-01, 4.02592690e-01, 1.65400880e-01,\n",
       "       4.99494896e-01, 5.65718386e-01, 7.48468684e-01, 1.86156965e-01,\n",
       "       5.89863817e-01, 7.24829925e-01, 6.49121926e-01, 8.12555901e-01,\n",
       "       1.44584877e-01, 5.36556983e-01, 4.50383054e-01, 3.75181176e-01,\n",
       "       7.06105253e-01, 7.22247899e-01, 1.69893127e-01, 8.16653198e-01,\n",
       "       6.76966568e-02, 6.90604670e-01, 4.31524538e-01, 6.97317796e-02,\n",
       "       7.28731342e-01, 9.58214363e-01, 8.47244081e-01, 6.03060370e-01,\n",
       "       1.95730036e-01, 4.50250077e-01, 7.21321018e-01, 4.28846419e-01,\n",
       "       2.84406143e-01, 9.84547401e-01, 6.73883592e-01, 3.45696903e-01,\n",
       "       8.29710413e-01, 8.17515053e-01, 3.16001212e-01, 3.67399017e-01,\n",
       "       5.09727070e-01, 3.04153989e-01, 5.45071748e-01, 5.43300399e-01])"
      ]
     },
     "execution_count": 77,
     "metadata": {},
     "output_type": "execute_result"
    }
   ],
   "source": [
    "my_random = np.random.rand(1000)\n",
    "my_random"
   ]
  },
  {
   "cell_type": "markdown",
   "metadata": {
    "id": "4__4_jZxHxgv"
   },
   "source": [
    "use plt.hist, to see what we have created\n",
    "\n",
    "what does this tell us about np.random.rand?"
   ]
  },
  {
   "cell_type": "code",
   "execution_count": null,
   "metadata": {
    "colab": {
     "base_uri": "https://localhost:8080/",
     "height": 354
    },
    "id": "tldKbv1uHwo3",
    "outputId": "6271a075-99e6-4722-ed78-21c303654c54"
   },
   "outputs": [
    {
     "data": {
      "text/plain": [
       "(array([ 96., 106., 104.,  98., 108.,  96.,  93., 103.,  92., 104.]),\n",
       " array([7.41904347e-04, 1.00589739e-01, 2.00437574e-01, 3.00285408e-01,\n",
       "        4.00133243e-01, 4.99981078e-01, 5.99828912e-01, 6.99676747e-01,\n",
       "        7.99524582e-01, 8.99372416e-01, 9.99220251e-01]),\n",
       " <a list of 10 Patch objects>)"
      ]
     },
     "execution_count": 78,
     "metadata": {},
     "output_type": "execute_result"
    },
    {
     "data": {
      "image/png": "[encoded data removed]",
      "text/plain": [
       "<Figure size 432x288 with 1 Axes>"
      ]
     },
     "metadata": {
      "needs_background": "light"
     },
     "output_type": "display_data"
    }
   ],
   "source": [
    "plt.hist(my_random, bins=10)"
   ]
  },
  {
   "cell_type": "markdown",
   "metadata": {
    "id": "riT_UX5rzM49"
   },
   "source": [
    "or by adding 2 arguments, we get a 2d array of random values"
   ]
  },
  {
   "cell_type": "code",
   "execution_count": null,
   "metadata": {
    "colab": {
     "base_uri": "https://localhost:8080/"
    },
    "id": "YBiNppK_zRWw",
    "outputId": "592f6f31-4cae-47c0-d807-d626a0013451"
   },
   "outputs": [
    {
     "data": {
      "text/plain": [
       "array([[0.21482485, 0.97006633, 0.72502782],\n",
       "       [0.36013385, 0.60464174, 0.58269727]])"
      ]
     },
     "execution_count": 80,
     "metadata": {},
     "output_type": "execute_result"
    }
   ],
   "source": [
    "np.random.rand(2, 3)"
   ]
  },
  {
   "cell_type": "markdown",
   "metadata": {
    "id": "R-jQS_r0zjyy"
   },
   "source": [
    "if we want random integer numbers we can use the randint function.\n",
    "randint takes 3 arguments\n",
    "that define the minimum, the maximum value, and the number of elements to return\n",
    "1. fill the function to make 100 random integers between 0 and 9"
   ]
  },
  {
   "cell_type": "code",
   "execution_count": null,
   "metadata": {
    "colab": {
     "base_uri": "https://localhost:8080/"
    },
    "id": "deQvCQsGzgAo",
    "outputId": "e982f181-051e-489e-f2a3-3bb9dc2a5370"
   },
   "outputs": [
    {
     "data": {
      "text/plain": [
       "array([5, 1, 8, 8, 8, 3, 8, 4, 1, 5, 8, 0, 3, 6, 2, 3, 1, 3, 3, 1, 6, 8,\n",
       "       9, 5, 4, 6, 5, 0, 5, 2, 7, 4, 4, 0, 4, 3, 0, 6, 0, 6, 1, 7, 5, 1,\n",
       "       1, 5, 1, 9, 2, 5, 8, 7, 6, 1, 4, 2, 2, 7, 2, 4, 5, 2, 2, 1, 9, 3,\n",
       "       4, 4, 0, 5, 7, 1, 4, 2, 4, 1, 9, 2, 3, 5, 3, 8, 9, 8, 9, 4, 2, 2,\n",
       "       8, 5, 2, 1, 6, 2, 2, 1, 3, 9, 2, 0])"
      ]
     },
     "execution_count": 84,
     "metadata": {},
     "output_type": "execute_result"
    }
   ],
   "source": [
    "np.random.randint(0, 10, 100)"
   ]
  },
  {
   "cell_type": "code",
   "execution_count": null,
   "metadata": {
    "id": "XJSZ0zDrly0s"
   },
   "outputs": [],
   "source": [
    "?np.random.randint"
   ]
  },
  {
   "cell_type": "markdown",
   "metadata": {
    "id": "H95b-xGu0Tb3"
   },
   "source": [
    "we need a small trick, to a make a 2d array of random integers\n",
    "\n",
    "1. fill the function to make a 5*5 array of integers between -3 and 3"
   ]
  },
  {
   "cell_type": "code",
   "execution_count": null,
   "metadata": {
    "colab": {
     "base_uri": "https://localhost:8080/"
    },
    "id": "NqIEQ_J-llcW",
    "outputId": "7f796b4d-6c80-4b53-ed22-450fbaa8330b"
   },
   "outputs": [
    {
     "data": {
      "text/plain": [
       "array([[ 1,  2, -3, -2,  0],\n",
       "       [ 2,  2,  0, -2,  0],\n",
       "       [-1, -1,  2, -2, -1],\n",
       "       [ 1, -1,  3, -2,  3],\n",
       "       [-1,  0,  0,  0, -3]])"
      ]
     },
     "execution_count": 87,
     "metadata": {},
     "output_type": "execute_result"
    }
   ],
   "source": [
    "np.random.randint(-3, 4, (5, 5))"
   ]
  },
  {
   "cell_type": "markdown",
   "metadata": {
    "id": "qp3Nc1s_0qJd"
   },
   "source": [
    "another important function is to make *normally distributed* random numbers\n",
    "\n",
    "random.normal has 3 arguments, that define the mean, the standard deviation and the shape of the array to return\n",
    "\n",
    "the standard normal distribution has mean=0 and SD=1,\n",
    "\n",
    "1. make and array of 100 standard normal distributed random numbers"
   ]
  },
  {
   "cell_type": "code",
   "execution_count": null,
   "metadata": {
    "id": "F4MDfzFb16-K"
   },
   "outputs": [],
   "source": [
    "my_normal = np.random.normal(0, 1, 1000)"
   ]
  },
  {
   "cell_type": "code",
   "execution_count": null,
   "metadata": {
    "colab": {
     "base_uri": "https://localhost:8080/"
    },
    "id": "DLgI34B5mtHH",
    "outputId": "bdbbe46b-fd3d-417c-97b4-f71b86dd21f5"
   },
   "outputs": [
    {
     "data": {
      "text/plain": [
       "array([ 62.49907493, 137.6362927 ,  87.61889878])"
      ]
     },
     "execution_count": 93,
     "metadata": {},
     "output_type": "execute_result"
    }
   ],
   "source": [
    "np.random.normal(100, 25, 3)"
   ]
  },
  {
   "cell_type": "code",
   "execution_count": null,
   "metadata": {
    "id": "Sj-VK6l3mpBv"
   },
   "outputs": [],
   "source": [
    "?np.random.normal"
   ]
  },
  {
   "cell_type": "markdown",
   "metadata": {
    "id": "fmcEZcon2f3_"
   },
   "source": [
    "now lets visualize what we have created using matplotlib"
   ]
  },
  {
   "cell_type": "code",
   "execution_count": null,
   "metadata": {
    "colab": {
     "base_uri": "https://localhost:8080/",
     "height": 283
    },
    "id": "G9VQsmVA2sCF",
    "outputId": "8d37fb9a-3672-4ca4-b69f-fed8a45f98fa"
   },
   "outputs": [
    {
     "data": {
      "text/plain": [
       "[<matplotlib.lines.Line2D at 0x7f98116cd590>]"
      ]
     },
     "execution_count": 94,
     "metadata": {},
     "output_type": "execute_result"
    },
    {
     "data": {
      "image/png": "[encoded data removed]",
      "text/plain": [
       "<Figure size 432x288 with 1 Axes>"
      ]
     },
     "metadata": {
      "needs_background": "light"
     },
     "output_type": "display_data"
    }
   ],
   "source": [
    "plt.plot(my_normal)"
   ]
  },
  {
   "cell_type": "markdown",
   "metadata": {
    "id": "a9WZ8iM521_R"
   },
   "source": [
    "a simple line plot in this case is not very meaningful,\n",
    " 1.  make a histogram instead, with plt.hist"
   ]
  },
  {
   "cell_type": "markdown",
   "metadata": {
    "id": "IoXocZOk3FKY"
   },
   "source": [
    "hopefully you can see that it is approximately normally distributed\n",
    "\n",
    "now make a histogram for the MyRandom, that we created above"
   ]
  },
  {
   "cell_type": "code",
   "execution_count": null,
   "metadata": {
    "colab": {
     "base_uri": "https://localhost:8080/",
     "height": 391
    },
    "id": "rrWk1DQ62-nz",
    "outputId": "13d49b83-9736-4e97-c237-a3cabfacd8c2"
   },
   "outputs": [
    {
     "data": {
      "text/plain": [
       "(array([  6.,  21.,  36.,  59., 101., 127., 154., 140., 130.,  97.,  57.,\n",
       "         38.,  24.,   8.,   2.]),\n",
       " array([-2.71027063, -2.32981644, -1.94936224, -1.56890804, -1.18845385,\n",
       "        -0.80799965, -0.42754545, -0.04709125,  0.33336294,  0.71381714,\n",
       "         1.09427134,  1.47472554,  1.85517973,  2.23563393,  2.61608813,\n",
       "         2.99654232]),\n",
       " <a list of 15 Patch objects>)"
      ]
     },
     "execution_count": 98,
     "metadata": {},
     "output_type": "execute_result"
    },
    {
     "data": {
      "image/png": "[encoded data removed]",
      "text/plain": [
       "<Figure size 432x288 with 1 Axes>"
      ]
     },
     "metadata": {
      "needs_background": "light"
     },
     "output_type": "display_data"
    }
   ],
   "source": [
    "plt.hist(my_normal, bins=15)"
   ]
  },
  {
   "cell_type": "markdown",
   "metadata": {
    "id": "7REkjntnoGGY"
   },
   "source": [
    "As we saw, we can use np.random.rand, to make a 2d array of random numbers\n",
    "1. make 7 row by 3 column array of random numbers -MyRand2d\n"
   ]
  },
  {
   "cell_type": "code",
   "execution_count": null,
   "metadata": {
    "colab": {
     "base_uri": "https://localhost:8080/"
    },
    "id": "4WQqK6WqoA8A",
    "outputId": "7ef66f6f-0904-435c-e5be-71c39d3004fa"
   },
   "outputs": [
    {
     "name": "stdout",
     "output_type": "stream",
     "text": [
      "[[0.56175561 0.49361031 0.49791181]\n",
      " [0.16139866 0.63236337 0.7100546 ]\n",
      " [0.2918147  0.84803351 0.59784493]\n",
      " [0.05956985 0.91487961 0.1788834 ]\n",
      " [0.85187634 0.8724221  0.96382307]\n",
      " [0.61749943 0.640468   0.16411723]\n",
      " [0.74772231 0.78514453 0.14196492]]\n"
     ]
    }
   ],
   "source": [
    "my_rand2d = np.random.rand(7, 3)\n",
    "print(my_rand2d)"
   ]
  },
  {
   "cell_type": "markdown",
   "metadata": {
    "id": "truDcj25pGhd"
   },
   "source": [
    " use a *for* cycle, to calculate the mean and standard deviation of each row, and print the result (also print the row number)"
   ]
  },
  {
   "cell_type": "code",
   "execution_count": null,
   "metadata": {
    "colab": {
     "base_uri": "https://localhost:8080/"
    },
    "id": "Slh-WqqppGy_",
    "outputId": "6d217f78-ac0b-4563-c0ff-4fb1ce3d84da"
   },
   "outputs": [
    {
     "name": "stdout",
     "output_type": "stream",
     "text": [
      "(7, 3)\n",
      "0 mean 0.5177592431434805 SD= 0.031159652164759202\n",
      "1 mean 0.5012722086073601 SD= 0.24241081423401822\n",
      "2 mean 0.5792310492786495 SD= 0.22745651369030967\n",
      "3 mean 0.3844442846748813 SD= 0.3782240581436725\n",
      "4 mean 0.8960404998521088 SD= 0.0486579170977176\n",
      "5 mean 0.47402822020178775 SD= 0.21934068615100272\n",
      "6 mean 0.5582772552591647 SD= 0.29477344725861987\n",
      "0 mean 0.5177592431434805 SD= 0.031159652164759202\n",
      "1 mean 0.5012722086073601 SD= 0.24241081423401822\n",
      "2 mean 0.5792310492786495 SD= 0.22745651369030967\n",
      "3 mean 0.3844442846748813 SD= 0.3782240581436725\n",
      "4 mean 0.8960404998521088 SD= 0.0486579170977176\n",
      "5 mean 0.47402822020178775 SD= 0.21934068615100272\n",
      "6 mean 0.5582772552591647 SD= 0.29477344725861987\n"
     ]
    }
   ],
   "source": [
    "dims = np.shape(my_rand2d)\n",
    "print(dims)\n",
    "for i in range(dims[0]):\n",
    "    print(i, \"mean\", np.mean(my_rand2d[i, :]), \"SD=\", np.std(my_rand2d[i, :]))\n",
    "\n",
    "for i in range(np.shape(my_rand2d)[0]):\n",
    "    print(i, \"mean\", np.mean(my_rand2d[i, :]), \"SD=\", np.std(my_rand2d[i, :]))"
   ]
  },
  {
   "cell_type": "markdown",
   "metadata": {
    "id": "3RjS3QENNR7s"
   },
   "source": [
    "### cycle bye column"
   ]
  },
  {
   "cell_type": "code",
   "execution_count": null,
   "metadata": {
    "colab": {
     "base_uri": "https://localhost:8080/"
    },
    "id": "dm7nmKAvMH8L",
    "outputId": "7cc4ab8e-2c01-4e40-a72e-2417fb8bf43c"
   },
   "outputs": [
    {
     "name": "stdout",
     "output_type": "stream",
     "text": [
      "0 mean 0.4702338429859249 SD= 0.27994175701091967\n",
      "1 mean 0.7409887769016272 SD= 0.14343791867355832\n",
      "2 mean 0.464942849119919 SD= 0.29382987366223046\n"
     ]
    }
   ],
   "source": [
    "dims = np.shape(my_rand2d)\n",
    "for i in range(dims[1]):\n",
    "    print(i, \"mean\", np.mean(my_rand2d[:, i]), \"SD=\", np.std(my_rand2d[:, i]))"
   ]
  },
  {
   "cell_type": "code",
   "execution_count": null,
   "metadata": {
    "colab": {
     "base_uri": "https://localhost:8080/"
    },
    "id": "V6wxgDmkL02i",
    "outputId": "fe493918-11ca-4451-a4aa-1024dad14eb5"
   },
   "outputs": [
    {
     "data": {
      "text/plain": [
       "7"
      ]
     },
     "execution_count": 106,
     "metadata": {},
     "output_type": "execute_result"
    }
   ],
   "source": [
    "len(my_rand2d)"
   ]
  },
  {
   "cell_type": "markdown",
   "metadata": {
    "id": "LTZuYZS4pLA2"
   },
   "source": [
    "instead of using a for cycle, in fact we can use np.mean, and np.std to calculate the mean and standard deciation for each row directly, using an optional argument in np.mean/np.\n",
    "\n",
    "1. calculate the mean and SD for each row and each column without a for cycle"
   ]
  },
  {
   "cell_type": "code",
   "execution_count": null,
   "metadata": {
    "colab": {
     "base_uri": "https://localhost:8080/"
    },
    "id": "N3p53Rw8poM8",
    "outputId": "00ec8096-ca47-4ca8-df88-d129f17769fa"
   },
   "outputs": [
    {
     "name": "stdout",
     "output_type": "stream",
     "text": [
      "(7, 3)\n",
      "grand average 0.5587218230024904\n",
      "average of rows [0.51775924 0.50127221 0.57923105 0.38444428 0.8960405  0.47402822\n",
      " 0.55827726]\n",
      "average of colunmns [0.47023384 0.74098878 0.46494285]\n",
      "(7,)\n",
      "(3,)\n"
     ]
    }
   ],
   "source": [
    "# print(my_rand2d)\n",
    "print(np.shape(my_rand2d))\n",
    "print(\"grand average\", np.mean(my_rand2d))\n",
    "print(\"average of rows\", np.mean(my_rand2d, 1))\n",
    "print(\"average of colunmns\", np.mean(my_rand2d, 0))\n",
    "print(np.shape(np.mean(my_rand2d, 1)))\n",
    "print(np.shape(np.mean(my_rand2d, 0)))"
   ]
  },
  {
   "cell_type": "markdown",
   "metadata": {
    "id": "kT6xNfAevTRO"
   },
   "source": [
    "1. make a random 1d-array of 40 normally distributed numbers\n",
    "2. make a 2nd 1d-array of 40 random integers that are 0 or 1\n",
    "3. join these two array into a 1d array of length 80\n",
    "4. join these array into a 2d array of 40 rows and 2 columns\n"
   ]
  },
  {
   "cell_type": "code",
   "execution_count": null,
   "metadata": {
    "colab": {
     "base_uri": "https://localhost:8080/"
    },
    "id": "ilVM2-PMqCEr",
    "outputId": "810f315d-65f7-4836-c1e2-9bfe071ff4bf"
   },
   "outputs": [
    {
     "name": "stdout",
     "output_type": "stream",
     "text": [
      "(80,)\n",
      "(40, 2)\n",
      "(2, 40)\n"
     ]
    }
   ],
   "source": [
    "n = 40\n",
    "# n2=50\n",
    "arr1 = np.random.normal(0, 1, n)\n",
    "arr2 = np.random.randint(0, 2, n)\n",
    "print(np.shape(np.concatenate((arr1, arr2))))\n",
    "print(np.shape(np.column_stack((arr1, arr2))))\n",
    "print(np.shape(np.row_stack((arr1, arr2))))"
   ]
  },
  {
   "cell_type": "markdown",
   "metadata": {
    "id": "hU-Qch3HwskU"
   },
   "source": [
    "Below we define a relatively long array"
   ]
  },
  {
   "cell_type": "code",
   "execution_count": null,
   "metadata": {
    "id": "DUfJTXbpxDxy"
   },
   "outputs": [],
   "source": [
    "my_rand_l = np.array(\n",
    "    [\n",
    "        892,\n",
    "        209,\n",
    "        233,\n",
    "        736,\n",
    "        652,\n",
    "        899,\n",
    "        735,\n",
    "        754,\n",
    "        821,\n",
    "        37,\n",
    "        885,\n",
    "        881,\n",
    "        219,\n",
    "        3,\n",
    "        113,\n",
    "        731,\n",
    "        699,\n",
    "        390,\n",
    "        17,\n",
    "        720,\n",
    "        164,\n",
    "        61,\n",
    "        95,\n",
    "        473,\n",
    "        467,\n",
    "        285,\n",
    "        669,\n",
    "        364,\n",
    "        623,\n",
    "        552,\n",
    "        116,\n",
    "        404,\n",
    "        270,\n",
    "        415,\n",
    "        919,\n",
    "        160,\n",
    "        206,\n",
    "        544,\n",
    "        122,\n",
    "        291,\n",
    "        811,\n",
    "        674,\n",
    "        441,\n",
    "        74,\n",
    "        898,\n",
    "        520,\n",
    "        358,\n",
    "        238,\n",
    "        219,\n",
    "        152,\n",
    "        974,\n",
    "        578,\n",
    "        360,\n",
    "        479,\n",
    "        135,\n",
    "        950,\n",
    "        37,\n",
    "        26,\n",
    "        449,\n",
    "        51,\n",
    "        60,\n",
    "        425,\n",
    "        941,\n",
    "        83,\n",
    "        999,\n",
    "        619,\n",
    "        150,\n",
    "        223,\n",
    "        614,\n",
    "        918,\n",
    "        164,\n",
    "        222,\n",
    "        788,\n",
    "        429,\n",
    "        223,\n",
    "        922,\n",
    "        936,\n",
    "        815,\n",
    "        876,\n",
    "        180,\n",
    "        539,\n",
    "        338,\n",
    "        104,\n",
    "        725,\n",
    "        946,\n",
    "        294,\n",
    "        116,\n",
    "        930,\n",
    "        555,\n",
    "        46,\n",
    "        951,\n",
    "        803,\n",
    "        50,\n",
    "        181,\n",
    "        120,\n",
    "        39,\n",
    "        593,\n",
    "        119,\n",
    "        691,\n",
    "        473,\n",
    "        637,\n",
    "        956,\n",
    "        247,\n",
    "        955,\n",
    "        229,\n",
    "        400,\n",
    "        120,\n",
    "        201,\n",
    "        116,\n",
    "        392,\n",
    "        716,\n",
    "        174,\n",
    "        949,\n",
    "        654,\n",
    "        359,\n",
    "        884,\n",
    "        536,\n",
    "        790,\n",
    "        69,\n",
    "        460,\n",
    "        938,\n",
    "        999,\n",
    "        494,\n",
    "        199,\n",
    "        186,\n",
    "        899,\n",
    "        431,\n",
    "        210,\n",
    "        205,\n",
    "        853,\n",
    "        96,\n",
    "        222,\n",
    "        659,\n",
    "        648,\n",
    "        616,\n",
    "        852,\n",
    "        717,\n",
    "        520,\n",
    "        783,\n",
    "        435,\n",
    "        586,\n",
    "        75,\n",
    "        217,\n",
    "        261,\n",
    "        852,\n",
    "        493,\n",
    "        747,\n",
    "        468,\n",
    "        505,\n",
    "        68,\n",
    "        798,\n",
    "        585,\n",
    "        652,\n",
    "        888,\n",
    "        681,\n",
    "        859,\n",
    "        307,\n",
    "        947,\n",
    "        63,\n",
    "        31,\n",
    "        195,\n",
    "        152,\n",
    "        330,\n",
    "        159,\n",
    "        735,\n",
    "        453,\n",
    "        515,\n",
    "        813,\n",
    "        721,\n",
    "        511,\n",
    "        933,\n",
    "        236,\n",
    "        889,\n",
    "        432,\n",
    "        493,\n",
    "        913,\n",
    "        905,\n",
    "        183,\n",
    "        740,\n",
    "        37,\n",
    "        881,\n",
    "        887,\n",
    "        519,\n",
    "        315,\n",
    "        318,\n",
    "        70,\n",
    "        114,\n",
    "        682,\n",
    "        107,\n",
    "        708,\n",
    "        209,\n",
    "        887,\n",
    "        24,\n",
    "        320,\n",
    "        451,\n",
    "        800,\n",
    "        525,\n",
    "        432,\n",
    "        87,\n",
    "        115,\n",
    "        129,\n",
    "        395,\n",
    "        509,\n",
    "        453,\n",
    "        641,\n",
    "        429,\n",
    "        186,\n",
    "        437,\n",
    "        511,\n",
    "        234,\n",
    "        909,\n",
    "        146,\n",
    "        533,\n",
    "        210,\n",
    "        946,\n",
    "        182,\n",
    "        652,\n",
    "        611,\n",
    "        427,\n",
    "        379,\n",
    "        310,\n",
    "        880,\n",
    "        48,\n",
    "        793,\n",
    "        834,\n",
    "        631,\n",
    "        589,\n",
    "        366,\n",
    "        685,\n",
    "        814,\n",
    "        512,\n",
    "        578,\n",
    "        111,\n",
    "        930,\n",
    "        967,\n",
    "        150,\n",
    "        25,\n",
    "        812,\n",
    "        149,\n",
    "        871,\n",
    "        688,\n",
    "        950,\n",
    "        642,\n",
    "        512,\n",
    "        773,\n",
    "        475,\n",
    "        890,\n",
    "        318,\n",
    "        335,\n",
    "        459,\n",
    "        345,\n",
    "        332,\n",
    "        246,\n",
    "        498,\n",
    "        51,\n",
    "        698,\n",
    "        799,\n",
    "        745,\n",
    "        875,\n",
    "        286,\n",
    "        834,\n",
    "        27,\n",
    "        882,\n",
    "        339,\n",
    "        918,\n",
    "        419,\n",
    "        716,\n",
    "        110,\n",
    "        296,\n",
    "        596,\n",
    "        462,\n",
    "        638,\n",
    "        709,\n",
    "        861,\n",
    "        55,\n",
    "        122,\n",
    "        302,\n",
    "        553,\n",
    "        466,\n",
    "        26,\n",
    "        956,\n",
    "        388,\n",
    "        481,\n",
    "        941,\n",
    "        931,\n",
    "        915,\n",
    "        705,\n",
    "        340,\n",
    "        552,\n",
    "        150,\n",
    "        152,\n",
    "        934,\n",
    "        722,\n",
    "        351,\n",
    "        893,\n",
    "        203,\n",
    "        224,\n",
    "        494,\n",
    "        28,\n",
    "        630,\n",
    "    ]\n",
    ")"
   ]
  },
  {
   "cell_type": "markdown",
   "metadata": {
    "id": "1v3ustt5xaV8"
   },
   "source": [
    "Calculate:\n",
    "1. L=length of MyRandL\n",
    "2. proportion of values below 100\n",
    "3. make a histogram MyRandL\n",
    "4. what is the maximum value and where is the maximum value of MyRandL ? find the index of the maximum!\n",
    "\n"
   ]
  },
  {
   "cell_type": "code",
   "execution_count": null,
   "metadata": {
    "colab": {
     "base_uri": "https://localhost:8080/"
    },
    "id": "7nkPCMX7x3Wp",
    "outputId": "5ba77881-8168-4819-8884-96308bf3af50"
   },
   "outputs": [
    {
     "name": "stdout",
     "output_type": "stream",
     "text": [
      "<class 'int'>\n",
      "<class 'tuple'>\n",
      "[0.10333333]\n"
     ]
    }
   ],
   "source": [
    "l = len(MyRandl)\n",
    "print(type(l))\n",
    "l = np.shape(MyRandl)\n",
    "print(type(l))\n",
    "\n",
    "prop = np.sum(MyRandl < 100) / l\n",
    "print(prop)"
   ]
  },
  {
   "cell_type": "markdown",
   "metadata": {
    "id": "NrkdB1DyFfdb"
   },
   "source": [
    "make a copy of MyRand2d, using numpy copy\n",
    "\n",
    "modifiy some values in MyRand2d"
   ]
  },
  {
   "cell_type": "code",
   "execution_count": null,
   "metadata": {
    "colab": {
     "base_uri": "https://localhost:8080/"
    },
    "id": "_EUFLuT7TYGL",
    "outputId": "1947e56f-2678-4cfb-a4c2-c7150276d528"
   },
   "outputs": [
    {
     "name": "stdout",
     "output_type": "stream",
     "text": [
      "mod\n",
      "[[0.         0.78098724 0.07532841 0.04863244 0.40556455 0.3832097 ]\n",
      " [0.90313225 0.30796361 0.43408215 0.3014296  0.41889261 0.74969651]]\n",
      "[[0.25215281 0.78098724 0.07532841 0.04863244 0.40556455 0.3832097 ]\n",
      " [0.90313225 0.30796361 0.43408215 0.3014296  0.41889261 0.74969651]]\n"
     ]
    }
   ],
   "source": [
    "my_rand2d_mod = np.copy(my_rand2d)"
   ]
  },
  {
   "cell_type": "markdown",
   "metadata": {
    "id": "3ywy1ZfOzFzB"
   },
   "source": [
    "1. Make an 2d array of 5 row*10 column of zeros called XX1\n",
    "2. use a for cycle to change the values of each row, to the values 0:9 using np.arange\n",
    "3. use plt.pcolor to visualize what we have created\n",
    "\n",
    "\n"
   ]
  },
  {
   "cell_type": "code",
   "execution_count": null,
   "metadata": {
    "colab": {
     "base_uri": "https://localhost:8080/",
     "height": 460
    },
    "id": "_h45RuqAzW3f",
    "outputId": "8a7f1ddb-c94a-46ff-fa80-41ec27043102"
   },
   "outputs": [
    {
     "name": "stdout",
     "output_type": "stream",
     "text": [
      "[[0. 0. 0. 0. 0. 0. 0. 0. 0. 0.]\n",
      " [0. 0. 0. 0. 0. 0. 0. 0. 0. 0.]\n",
      " [0. 0. 0. 0. 0. 0. 0. 0. 0. 0.]\n",
      " [0. 0. 0. 0. 0. 0. 0. 0. 0. 0.]\n",
      " [0. 0. 0. 0. 0. 0. 0. 0. 0. 0.]]\n",
      "[[0. 1. 2. 3. 4. 5. 6. 7. 8. 9.]\n",
      " [0. 1. 2. 3. 4. 5. 6. 7. 8. 9.]\n",
      " [0. 1. 2. 3. 4. 5. 6. 7. 8. 9.]\n",
      " [0. 1. 2. 3. 4. 5. 6. 7. 8. 9.]\n",
      " [0. 1. 2. 3. 4. 5. 6. 7. 8. 9.]]\n"
     ]
    },
    {
     "data": {
      "text/plain": [
       "<matplotlib.collections.PolyCollection at 0x7fb6950f4410>"
      ]
     },
     "execution_count": 11,
     "metadata": {},
     "output_type": "execute_result"
    },
    {
     "data": {
      "image/png": "[encoded data removed]",
      "text/plain": [
       "<Figure size 432x288 with 1 Axes>"
      ]
     },
     "metadata": {
      "needs_background": "light"
     },
     "output_type": "display_data"
    }
   ],
   "source": [
    "xx1 = np.zeros((5, 10))\n",
    "print(xx1)\n",
    "for row in np.arange(np.shape(xx1)[0]):\n",
    "    xx1[row, :] = np.arange(10)\n",
    "print(xx1)\n",
    "plt.pcolor(xx1)"
   ]
  },
  {
   "cell_type": "markdown",
   "metadata": {
    "id": "EENy-YpQs1G2"
   },
   "source": [
    "HOMEWORK 1.\n",
    "\n",
    "write a function that takes as input a 1d numpy array.\n",
    "\n",
    "calculates the number of elements that are bigger than 0 but smaller than 10.\n",
    "\n",
    "the function should have 2 outputs:\n",
    "1. the number elements fulfilling the above critera\n",
    "2. the proportion of elements fulfilling the above criteria\n",
    "\n"
   ]
  },
  {
   "cell_type": "code",
   "execution_count": null,
   "metadata": {
    "id": "i67McD5kvK41"
   },
   "outputs": [],
   "source": [
    "\n"
   ]
  },
  {
   "cell_type": "markdown",
   "metadata": {
    "id": "eLMr4UMEqE3z"
   },
   "source": [
    "HOMEWORK 2.\n",
    "1. make a 1d array (MyRandNorm) of 50 normally distributed random values, with mean=10 and SD=4\n",
    "\n",
    "2. calculate the proporiton of these numbers that are smaller than 7\n",
    "\n",
    "3. calculate the proportion of these numbers, that is smaller 5 or bigger than 14\n",
    "\n",
    "4. Repeat steps 1-3 with a for cycle, but change the standard deviation in 10 steps from 1 to 15, and for each step calculate and print the result of the same calculations of 2-3.  "
   ]
  },
  {
   "cell_type": "code",
   "execution_count": null,
   "metadata": {
    "id": "w5-BSIqMvLle"
   },
   "outputs": [],
   "source": [
    "\n",
    "\n"
   ]
  },
  {
   "cell_type": "code",
   "execution_count": null,
   "metadata": {
    "colab": {
     "base_uri": "https://localhost:8080/"
    },
    "id": "QZMKhR43uIZb",
    "outputId": "5d87de10-373d-4d30-f572-f9a8dcde20c8"
   },
   "outputs": [
    {
     "data": {
      "text/plain": [
       "array([2, 1, 0, 3, 4])"
      ]
     },
     "execution_count": 13,
     "metadata": {},
     "output_type": "execute_result"
    }
   ],
   "source": []
  },
  {
   "cell_type": "markdown",
   "metadata": {
    "id": "n3Y6OUzjuxcC"
   },
   "source": [
    " HOMEWORK 3:\n",
    "\n",
    "write a function (My10Up) that takes as an input 2d numpy array (matrix) of numbers, calculates the number of elements that are bigger than 10 for each row.\n",
    "this function should return an array (Num10Up) that is the same length of the number of rows in the input.\n",
    "\n",
    "\n",
    "1. first write a solution with a for cycle, where you initialize Num10Up with an array of zeros (equaling the number of rows).\n",
    "\n",
    "2. in fact the task can be solved without for cycle with a single line of code, find this solution as well.\n",
    "\n",
    "\n",
    "note: the function should work for a 2d array inputs of any size."
   ]
  },
  {
   "cell_type": "code",
   "execution_count": null,
   "metadata": {
    "id": "07-l4onkvL_V"
   },
   "outputs": [],
   "source": []
  },
  {
   "cell_type": "markdown",
   "metadata": {
    "id": "WZwuQZp3mdD3"
   },
   "source": [
    "# Homework 4\n",
    "\n",
    "simulation and 3d array\n",
    "\n",
    "we want to simulate an experiment with normally distributed reaction times for 80-80 trials, with 2 conditions (control and manipulation), for N participants.\n",
    "\n",
    "1. simulate a random array of N normally distributed reaction times- the mean reaction time for each participant in the control condition (mean 1000 ms, SD=200 ms)\n",
    "2. simulate an array of manipulation strength for each participant, average reaction time difference in manipulation  condition, uniformly distributed between (-100 and +300 ms)\n",
    "3. make an empty (zeros) 3d array (subjects * conditions *trials)\n",
    "4. using the above, simulate 80 normally distributed trials for both conditions and store the results in the above created 3d array (the mean of the normal distribution should be a combination of the participant mean reaction time in control condition, and effect manipulation strength. For now, SD of this can be 250 ms for everyone.)\n",
    "5. visualize the results of the simulation for conditions (for each subject and averages as well).\n",
    "6. change some parameters of the simulation, and repeat the above"
   ]
  },
  {
   "cell_type": "code",
   "execution_count": null,
   "metadata": {
    "colab": {
     "base_uri": "https://localhost:8080/"
    },
    "id": "5rEeb61afm1u",
    "outputId": "8e278c6d-456f-4c36-c8bc-20b724da7b0c"
   },
   "outputs": [
    {
     "name": "stdout",
     "output_type": "stream",
     "text": [
      "[[ 1 11 21]\n",
      " [20 40 60]]\n",
      "[2. 3.]\n",
      "[2 3]\n"
     ]
    }
   ],
   "source": [
    "n_part = 15  # num of participant\n",
    "ncond = 2  # number of conditions\n",
    "ntr = 80  # num of trials"
   ]
  },
  {
   "cell_type": "markdown",
   "metadata": {
    "id": "FMm7ymBpTNy5"
   },
   "source": [
    "storing example 1.\n",
    "\n",
    "storing vales 1 by 1 in a 2d array"
   ]
  },
  {
   "cell_type": "code",
   "execution_count": null,
   "metadata": {
    "colab": {
     "base_uri": "https://localhost:8080/"
    },
    "id": "mUq-as0ITNJQ",
    "outputId": "3b67f2bf-edae-4a73-c534-1ecb1eb62b13"
   },
   "outputs": [
    {
     "name": "stdout",
     "output_type": "stream",
     "text": [
      "A:  [0.01530727 0.46024618 0.92101074 0.30046087 0.00603962]\n",
      "B:  [0 1 2 3 4]\n",
      "[[0.00765364 0.50765364 1.00765364 1.50765364 2.00765364]\n",
      " [0.23012309 0.73012309 1.23012309 1.73012309 2.23012309]\n",
      " [0.46050537 0.96050537 1.46050537 1.96050537 2.46050537]\n",
      " [0.15023044 0.65023044 1.15023044 1.65023044 2.15023044]\n",
      " [0.00301981 0.50301981 1.00301981 1.50301981 2.00301981]]\n"
     ]
    }
   ],
   "source": [
    "import numpy as np\n",
    "\n",
    "n = 5\n",
    "a = np.random.rand(n)\n",
    "b = np.arange(n)\n",
    "print(\"a: \", a)\n",
    "print(\"b: \", b)\n",
    "\n",
    "combinations = np.zeros((n, n))\n",
    "for ca, a in enumerate(a):\n",
    "    for cb, b in enumerate(b):\n",
    "        combinations[ca, cb] = (\n",
    "            a + b\n",
    "        ) / 2.0  # I store the average of all elements of a and b in a table\n",
    "\n",
    "print(combinations)"
   ]
  },
  {
   "cell_type": "markdown",
   "metadata": {
    "id": "wCrgq-ruU4zm"
   },
   "source": [
    "storing 2.\n",
    "\n",
    " storing 1d numpy array of values in a 2d array"
   ]
  },
  {
   "cell_type": "code",
   "execution_count": null,
   "metadata": {
    "colab": {
     "base_uri": "https://localhost:8080/"
    },
    "id": "JIG_fpXlUmwc",
    "outputId": "35fb0dd4-dcd8-4743-d8ff-68cc1860094a"
   },
   "outputs": [
    {
     "name": "stdout",
     "output_type": "stream",
     "text": [
      "[[0.         0.         0.         0.         0.        ]\n",
      " [0.19722201 0.08863766 0.21522588 0.11792755 0.46241624]\n",
      " [0.95160468 0.26552624 0.07371804 0.168211   0.65834247]\n",
      " [0.40169588 1.49478932 0.97901112 0.09106449 1.12129415]\n",
      " [0.58581078 0.91645562 1.74112893 1.05504842 1.19919631]]\n"
     ]
    }
   ],
   "source": [
    "b = np.arange(n)\n",
    "combinations = np.zeros((n, n))\n",
    "for cb, b in enumerate(b):\n",
    "    combinations[:, cb] = (np.random.rand(n) * b) / 2\n",
    "print(combinations)"
   ]
  }
 ],
 "metadata": {
  "colab": {
   "provenance": []
  },
  "kernelspec": {
   "display_name": "Python 3 (ipykernel)",
   "language": "python",
   "name": "python3"
  },
  "language_info": {
   "codemirror_mode": {
    "name": "ipython",
    "version": 3
   },
   "file_extension": ".py",
   "mimetype": "text/x-python",
   "name": "python",
   "nbconvert_exporter": "python",
   "pygments_lexer": "ipython3",
   "version": "3.11.0"
  }
 },
 "nbformat": 4,
 "nbformat_minor": 4
}
