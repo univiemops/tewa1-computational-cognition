{
 "cells": [
  {
   "cell_type": "markdown",
   "metadata": {
    "id": "C5N8uXaLdary"
   },
   "source": [
    "# Tutorial 11 - Signal Detection Experiment Simulation + Analysis\n",
    "\n",
    "*Written and revised by Jozsef Arato, Mengfan Zhang, Dominik Pegler*  \n",
    "Computational Cognition Course, University of Vienna  \n",
    "https://github.com/univiemops/tewa1-computational-cognition\n",
    "\n",
    "---\n",
    "**This tutorial will cover:**\n",
    "\n",
    "1.  simulate an experiment, based on the theoretical d-prime measures of signal detection theory.  \n",
    "\n",
    "2.  Calcualte the behavioral responses in this experiment (0 -noise only, 1-signal present)\n",
    "\n",
    "3. Calculate the empirical d' and criterion from the responses and the simulated stimuli  \n",
    "\n",
    "4. compare the theoretical and empirical d-prime, see how it is affected by the number of trials\n",
    "\n",
    "---"
   ]
  },
  {
   "cell_type": "markdown",
   "metadata": {
    "id": "IvhWBRezNRXm"
   },
   "source": [
    "## Import libraries"
   ]
  },
  {
   "cell_type": "code",
   "execution_count": null,
   "metadata": {
    "id": "Z5UcAZKaNLni"
   },
   "outputs": [],
   "source": [
    "import matplotlib.pyplot as plt\n",
    "import numpy as np\n",
    "from scipy import stats"
   ]
  },
  {
   "cell_type": "markdown",
   "metadata": {
    "id": "xja_EAGdH6Mm"
   },
   "source": [
    "Set simulation main parameters"
   ]
  },
  {
   "cell_type": "code",
   "execution_count": null,
   "metadata": {
    "id": "M4YeedYkH1nW"
   },
   "outputs": [],
   "source": [
    "signal_mean = 4\n",
    "noise_mean = 0  # do not change this\n",
    "sd = (\n",
    "    1.5  # the assumption of sdT is that noise and signal have equal Standard Deviation,\n",
    ")\n",
    "crit = 2  # decision criteria, above which response is signal present"
   ]
  },
  {
   "cell_type": "code",
   "execution_count": null,
   "metadata": {
    "colab": {
     "base_uri": "https://localhost:8080/"
    },
    "id": "MekYMO9xyJps",
    "outputId": "0df926a2-0f49-4862-ca3b-3348e8b12680"
   },
   "outputs": [],
   "source": []
  },
  {
   "cell_type": "markdown",
   "metadata": {
    "id": "YyasK9v0H_xG"
   },
   "source": [
    "##\n",
    "1.  Calculate and plot *theoretical* SDT predicitons\n",
    "\n",
    "2. change the parameters above and see how this plot changes\n",
    "\n",
    "stat.norm.pdf :  normal probability density function"
   ]
  },
  {
   "cell_type": "code",
   "execution_count": null,
   "metadata": {
    "colab": {
     "base_uri": "https://localhost:8080/",
     "height": 320
    },
    "id": "MHOwVW2rH_88",
    "outputId": "cb079d3a-633d-48dd-cc8d-54e494fdf2c9"
   },
   "outputs": [],
   "source": [
    "dprime_theory = (signalMean - noiseMean) / sd\n",
    "\n",
    "x = np.linspace(-10, 15, 100)  #  excitation strength (hypothetical neural activity)\n",
    "noise = stats.norm.pdf(x, noiseMean, sd)\n",
    "signal = stats.norm.pdf(x, signalMean, sd)\n",
    "plt.figure()\n",
    "plt.plot(x, noise, label=\"noise Distribution\")\n",
    "plt.plot(x, signal, label=\"signal Distribution\")\n",
    "plt.xlabel(\"Neural Response Strength\", fontsize=18)\n",
    "plt.ylabel(\"Probability\", fontsize=18)\n",
    "\n",
    "plt.plot(\n",
    "    [crit, crit], [0, np.max(signal)], color=\"k\"\n",
    ")  # fill out for vertical criterion line\n",
    "\n",
    "plt.legend()\n",
    "plt.title(\"d-prime: \" + str(np.round(dprime_theory, 2)))"
   ]
  },
  {
   "cell_type": "markdown",
   "metadata": {
    "id": "0clxHw4mNQJL"
   },
   "source": [
    "### Set up experiment\n",
    "\n",
    "0 - noise trial\n",
    "1 - signal trial\n",
    "\n",
    "half of trials is signal, but in random order"
   ]
  },
  {
   "cell_type": "code",
   "execution_count": null,
   "metadata": {
    "id": "ymIs5e-0NPIU"
   },
   "outputs": [],
   "source": [
    "n_trial = 1000  # num of signal trials + num of noise trials\n",
    "# Stimuli=# YOUR CODE\n",
    "# YOUR CODE\n",
    "# print(Stimuli[0:50])"
   ]
  },
  {
   "cell_type": "code",
   "execution_count": null,
   "metadata": {
    "colab": {
     "base_uri": "https://localhost:8080/"
    },
    "id": "iM36yiG3-bwK",
    "outputId": "1dc2df70-41f6-44bb-ad5b-775a3f7964c2"
   },
   "outputs": [],
   "source": [
    "stimuli = np.random.permutation(\n",
    "    np.concatenate((np.ones(int(n_trial / 2)), np.zeros(int(n_trial / 2))))\n",
    ")\n",
    "print(stimuli[0:50])\n",
    "np.sum(stimuli == 1)"
   ]
  },
  {
   "cell_type": "code",
   "execution_count": null,
   "metadata": {
    "colab": {
     "base_uri": "https://localhost:8080/"
    },
    "id": "urQgClm8_8fo",
    "outputId": "574e4464-dedb-4a1c-941d-b2e3044c297d"
   },
   "outputs": [],
   "source": [
    "stimuli = np.zeros(n_trial)\n",
    "stimuli[np.random.choice(np.arange(n_trial), int(n_trial / 2), replace=False)] = 1\n",
    "print(stimuli[0:50])\n",
    "np.sum(stimuli == 1)"
   ]
  },
  {
   "cell_type": "markdown",
   "metadata": {
    "id": "_PYbVTQW3yWD"
   },
   "source": [
    "alternative solution"
   ]
  },
  {
   "cell_type": "code",
   "execution_count": null,
   "metadata": {
    "colab": {
     "base_uri": "https://localhost:8080/"
    },
    "id": "jnxBKLB30zg4",
    "outputId": "c008b7b5-16f1-43b7-d4a1-bac00e7bff46"
   },
   "outputs": [],
   "source": [
    "stimuli = np.random.binomial(1, 0.5, size=n_trial)\n",
    "np.sum(stimuli == 1)"
   ]
  },
  {
   "cell_type": "markdown",
   "metadata": {
    "id": "GIqDTh2d93qf"
   },
   "source": [
    "\n",
    "### Simulate assumed response variable in the participants brain\n",
    "\n",
    "using the same paramters, as defined above\n"
   ]
  },
  {
   "cell_type": "markdown",
   "metadata": {
    "id": "R5JwrIMK3005"
   },
   "source": [
    "vectorized solution"
   ]
  },
  {
   "cell_type": "code",
   "execution_count": null,
   "metadata": {
    "colab": {
     "base_uri": "https://localhost:8080/"
    },
    "id": "jFuZPgBj9uhp",
    "outputId": "d6503c19-3522-440f-f60d-1f8240196c7e"
   },
   "outputs": [],
   "source": [
    "neural_response = np.zeros(n_trial)  # set up empty array\n",
    "\n",
    "neural_response[stimuli == 1] = np.random.normal(\n",
    "    signal_mean, sd, int(n_trial / 2)\n",
    ")  # simulated neural response, when the stimulus is noise\n",
    "neural_response[stimuli == 0] = np.random.normal(\n",
    "    noise_mean, sd, int(n_trial / 2)\n",
    ")  # simulated neural response, when the stimulus is signal\n",
    "\n",
    "print(neural_response[0:50])"
   ]
  },
  {
   "cell_type": "markdown",
   "metadata": {
    "id": "B5bgcb6J33SR"
   },
   "source": [
    "for loop solution"
   ]
  },
  {
   "cell_type": "code",
   "execution_count": null,
   "metadata": {
    "id": "dK2rfKT61d4_"
   },
   "outputs": [],
   "source": [
    "neural_response = np.zeros(n_trial)\n",
    "for tr in range(n_trial):\n",
    "    if stimuli[tr] == 1:\n",
    "        neural_response[tr] = np.random.normal(signal_mean, sd)\n",
    "    else:\n",
    "        neural_response[tr] = np.random.normal(noise_mean, sd)"
   ]
  },
  {
   "cell_type": "code",
   "execution_count": null,
   "metadata": {
    "colab": {
     "base_uri": "https://localhost:8080/",
     "height": 352
    },
    "id": "QdHXh7BJUDvY",
    "outputId": "83efe084-3932-446d-f50d-38dcc9b95a6c"
   },
   "outputs": [],
   "source": [
    "plt.hist(neural_response)"
   ]
  },
  {
   "cell_type": "markdown",
   "metadata": {
    "id": "9A08RI20-WNS"
   },
   "source": [
    "### simualte/calculate behavioral responses, based on neural signal and criteria\n",
    "\n",
    "0 = response is noise\n",
    "1 = response is signal"
   ]
  },
  {
   "cell_type": "markdown",
   "metadata": {
    "id": "CYu3RWOK5zyr"
   },
   "source": [
    "for loop solution"
   ]
  },
  {
   "cell_type": "code",
   "execution_count": null,
   "metadata": {
    "id": "I-IuDGitUvKW"
   },
   "outputs": [],
   "source": [
    "response = np.zeros(n_trial)  # YOUR CODE\n",
    "for tr in range(n_trial):\n",
    "    if Neuralresponse[tr] > crit:\n",
    "        response[tr] = 1\n",
    "    else:\n",
    "        response[tr] = 0"
   ]
  },
  {
   "cell_type": "markdown",
   "metadata": {
    "id": "p4LZf-S252b7"
   },
   "source": [
    "vectorized solution"
   ]
  },
  {
   "cell_type": "code",
   "execution_count": null,
   "metadata": {
    "id": "RNm-0DIV5xeb"
   },
   "outputs": [],
   "source": [
    "response = np.zeros(1000)\n",
    "response[Neuralresponse > crit] = 1"
   ]
  },
  {
   "cell_type": "markdown",
   "metadata": {
    "id": "5UB6gpXpNQvt"
   },
   "source": [
    "## Now the \"experiment\" is ready, we can start to analyze it. :-)"
   ]
  },
  {
   "cell_type": "markdown",
   "metadata": {
    "id": "GgdcN_LI2P_m"
   },
   "source": [
    "##\n",
    "based on the stimulus and response vectors,  calculate the number of:\n",
    "\n",
    "1. misses\n",
    "2. hits\n",
    "3. false alarms\n",
    "4. correct rejections\n",
    "\n",
    "\n",
    "tip: use np.sum"
   ]
  },
  {
   "cell_type": "code",
   "execution_count": null,
   "metadata": {
    "colab": {
     "base_uri": "https://localhost:8080/"
    },
    "id": "CifGsD5-P5Q_",
    "outputId": "716df2e3-0094-41a1-e110-73a7d46522e0"
   },
   "outputs": [],
   "source": [
    "hit = np.sum((stimuli == 1) & (response == 1))\n",
    "miss = np.sum((stimuli == 1) & (response == 0))\n",
    "fa = np.sum((stimuli == 0) & (response == 1))\n",
    "corr_rej = np.sum((stimuli == 0) & (response == 0))\n",
    "\n",
    "print(\"Num hits: \", hit)\n",
    "print(\"misses : \", miss)\n",
    "print(\"Num False Alarms: \", fa)\n",
    "print(\"Num Correct Rejection: \", corr_rej)"
   ]
  },
  {
   "cell_type": "markdown",
   "metadata": {
    "id": "pRuEd3rdqy_B"
   },
   "source": [
    "alternatively, solve with for cycle"
   ]
  },
  {
   "cell_type": "code",
   "execution_count": null,
   "metadata": {
    "colab": {
     "base_uri": "https://localhost:8080/"
    },
    "id": "7wR2eF5Y2Wtr",
    "outputId": "24bee350-1111-4c4f-d3ef-2800f1839b93"
   },
   "outputs": [],
   "source": [
    "hit = 0\n",
    "miss = 0\n",
    "fa = 0\n",
    "corr_rej = 0\n",
    "for tr in range(len(stimuli)):\n",
    "    if stimuli[tr] == 1 and response[tr] == 1:\n",
    "        hit += 1\n",
    "    if stimuli[tr] == 1 and response[tr] == 0:\n",
    "        miss += 1\n",
    "    if stimuli[tr] == 0 and response[tr] == 1:\n",
    "        fa += 1\n",
    "    if stimuli[tr] == 0 and response[tr] == 0:\n",
    "        corr_rej += 1\n",
    "print(\"Num hits: \", hit)\n",
    "print(\"misses : \", miss)\n",
    "print(\"Num False Alarms: \", fa)\n",
    "print(\"Num Correct Rejection: \", corr_rej)"
   ]
  },
  {
   "cell_type": "markdown",
   "metadata": {
    "id": "E8tWy9x72ehw"
   },
   "source": [
    "Calculate the hit-rate and false alarm rate from the above"
   ]
  },
  {
   "cell_type": "code",
   "execution_count": null,
   "metadata": {
    "colab": {
     "base_uri": "https://localhost:8080/"
    },
    "id": "krKoZfDT01B5",
    "outputId": "88194da8-5513-4b45-b719-600a690d96f6"
   },
   "outputs": [],
   "source": [
    "hit_rate = hit / (hit + miss)\n",
    "fa_rate = fa / (fa + corr_rej)\n",
    "print(\"hit_rate\", hit_rate)\n",
    "print(\"False Alarm Rate\", fa_rate)"
   ]
  },
  {
   "cell_type": "markdown",
   "metadata": {
    "id": "RYhnKwDt2zuv"
   },
   "source": [
    "##  Calculate Empirical Signal Detection Theory Measures\n",
    " see the meaning of inverse normal cdf here: [link text](http://gru.stanford.edu/lib/exe/fetch.php/tutorials/zof1.png)\n",
    "\n",
    "\n",
    "Sensitivity\n",
    "d'=  invnorm(H)-invnorm(FA)\n",
    "\n",
    "Bias:\n",
    "c= -(invnorm(H)+invnorm(FA))/2\n",
    "\n",
    "\n",
    "\n",
    "for inverse cumulative normal we can use:\n",
    "\n",
    "stats.norm.ppf\n"
   ]
  },
  {
   "cell_type": "code",
   "execution_count": null,
   "metadata": {
    "colab": {
     "base_uri": "https://localhost:8080/"
    },
    "id": "aF_feVV801uz",
    "outputId": "474edcd9-2682-4bea-c2c0-2836a23170e9"
   },
   "outputs": [],
   "source": [
    "dprime_emp = stats.norm.ppf(hit_rate) - stats.norm.ppf(fa_rate)\n",
    "bias = (stats.norm.ppf(hit_rate) + stats.norm.ppf(fa_rate)) / 2\n",
    "print(\"D-prime from Data: \", np.round(dprime_emp, 2))\n",
    "print(\"bias from Data: \", np.round(bias, 2))"
   ]
  },
  {
   "cell_type": "code",
   "execution_count": null,
   "metadata": {
    "colab": {
     "base_uri": "https://localhost:8080/"
    },
    "id": "My6ARcTRL5Fr",
    "outputId": "8dc8a738-7773-4b05-b96d-75675973a273"
   },
   "outputs": [],
   "source": [
    "stats.norm.ppf(hit_rate)"
   ]
  },
  {
   "cell_type": "markdown",
   "metadata": {
    "id": "c-IgiZamWZF9"
   },
   "source": [
    "## Homework\n",
    "Take all the necessary code from above, re-use it in the function below:\n",
    "The function should take 4 input parameters:\n",
    "1. MeanSignal: mean of signal distribution\n",
    "2. SD (same for signal and noise)\n",
    "3. Crit criterion (above which response is signal)\n",
    "4. NTr : number of trials (half of which is signal, half noise)\n",
    "\n",
    "The function should perform the simulation as above and return the  Hit Rate and False Alarm Rate"
   ]
  },
  {
   "cell_type": "code",
   "execution_count": null,
   "metadata": {
    "id": "bl-iFx723RWh"
   },
   "outputs": [],
   "source": [
    "def sim_exp(MeanSignal, SD, Crit, NTr):\n",
    "    # YOUR CODE\n",
    "    # YOUR CODE\n",
    "    # YOUR CODE\n",
    "    # YOUR CODE\n",
    "    return hit_rate, fa_rate"
   ]
  },
  {
   "cell_type": "markdown",
   "metadata": {
    "id": "ve7uu_hZWvn_"
   },
   "source": [
    " ## Homework 2.:\n",
    "calling the function above, repeatedly, we can make an ROC curve (that shows the relationship of Hit rate and false alarm rate).\n",
    "1. keep MeanSignal fixed and change the criterion in a for loop (for the values defined below)\n",
    "2. visualize  with scatter plot: False alarm Rate on x-axis, Hit rate on y axis\n",
    "3. do not forget to make the plot nice with legends, labels, fontsize, etc\n"
   ]
  },
  {
   "cell_type": "code",
   "execution_count": null,
   "metadata": {
    "colab": {
     "base_uri": "https://localhost:8080/",
     "height": 297
    },
    "id": "iH807QCiSGbX",
    "outputId": "0cbc5e50-d5e9-46d5-97d5-d114789a061b"
   },
   "outputs": [],
   "source": [
    "criteria = np.linspace(1, 3, 8)\n",
    "# YOUR CODE\n",
    "# YOUR CODE\n",
    "# YOUR CODE\n",
    "# YOUR CODE"
   ]
  },
  {
   "cell_type": "markdown",
   "metadata": {
    "id": "QBPa9Sv_XiGu"
   },
   "source": [
    "## Homework 3.:\n",
    "similarly to the task above, but change both the criterion and the SignalMean (2 embedded for loops, to make multiple ROC curves), and make a scatter plot with the result!\n",
    "\n",
    "use at least 8 values for criterion and 4 values for SignalMean.\n",
    "The 4 values for Signal Mean should be above 0 and below 12.\n",
    "\n",
    "\n",
    "dots that have the same signal mean (but different Criteria),should show up in the same color.\n",
    "dots that have different signal mean, should have different colors!    (this will make the figure readable)\n",
    "\n",
    "do not forget to make the plot nice with legends, labels, fontsize, etc\n",
    "\n",
    "\n"
   ]
  },
  {
   "cell_type": "code",
   "execution_count": null,
   "metadata": {
    "colab": {
     "base_uri": "https://localhost:8080/",
     "height": 297
    },
    "id": "rcrpXN-eWGtv",
    "outputId": "b6fdbbe9-0b08-4280-dec7-979912ea700d"
   },
   "outputs": [],
   "source": [
    "# YOUR CODE\n",
    "# YOUR CODE\n",
    "# YOUR CODE\n",
    "# YOUR CODE"
   ]
  },
  {
   "cell_type": "markdown",
   "metadata": {
    "id": "g2LNX5UFXtks"
   },
   "source": [
    "#  Psyhcometric curves"
   ]
  },
  {
   "cell_type": "code",
   "execution_count": null,
   "metadata": {
    "colab": {
     "base_uri": "https://localhost:8080/",
     "height": 287
    },
    "id": "cT51qBqq_Oh9",
    "outputId": "7f772f03-69e7-4ebb-cbc6-e62444ae7a5f"
   },
   "outputs": [],
   "source": [
    "stim = np.random.normal(0, 2, 80)\n",
    "ans = 1 / (1 + np.exp(-stim))\n",
    "plt.scatter(stim, ans)\n",
    "plt.xticks([])\n",
    "plt.yticks(fontsize=16)\n",
    "plt.xlabel(\"Luminance\", fontsize=18)\n",
    "plt.ylabel(\"p(Yes)\", fontsize=18)"
   ]
  },
  {
   "cell_type": "code",
   "execution_count": null,
   "metadata": {
    "colab": {
     "base_uri": "https://localhost:8080/",
     "height": 287
    },
    "id": "meSIHaU5AvHP",
    "outputId": "c1d4826c-5f26-4d2e-d303-6bf4cd835b5f"
   },
   "outputs": [],
   "source": [
    "def sigm_func(x, c1, c2):\n",
    "    return 1 / (1 + np.exp(-c1 * (x - c2)))\n",
    "\n",
    "\n",
    "stim = np.linspace(-4, 4, 80)\n",
    "ans = sigm_func(stim, 1, 0)\n",
    "ans2 = sigm_func(stim, 2, 0)\n",
    "ans3 = sigm_func(stim, 0.5, 0)\n",
    "ans4 = sigm_func(stim, 1, 2)\n",
    "\n",
    "plt.plot(stim, ans, linewidth=3, label=\"Shape(c1)=1\")\n",
    "plt.plot(stim, ans2, linewidth=3, label=\"Shape(c1)=2\")\n",
    "plt.plot(stim, ans3, linewidth=3, label=\"Shape(c1)=0.5\")\n",
    "plt.plot(stim, ans4, linewidth=3, label=\"Shape(c1)=1, c2=1\")\n",
    "\n",
    "plt.xticks([])\n",
    "plt.yticks(fontsize=16)\n",
    "plt.xlabel(\"Luminance\", fontsize=18)\n",
    "plt.ylabel(\"p(Yes)\", fontsize=18)\n",
    "plt.legend()"
   ]
  },
  {
   "cell_type": "markdown",
   "metadata": {
    "id": "in7cp5n8D66_"
   },
   "source": [
    "# let's try to simulate an experiment based on a sigmoid curve\n",
    "\n",
    "the idea is that we used simulate N trials fro each stimulus strength level, where the probabily of 'yes' response is determined by the sigmoid curve"
   ]
  },
  {
   "cell_type": "code",
   "execution_count": null,
   "metadata": {
    "colab": {
     "base_uri": "https://localhost:8080/",
     "height": 309
    },
    "id": "gi8UPXSHPCuP",
    "outputId": "3dec363c-6c79-4cbc-abda-9df41babef3b"
   },
   "outputs": [],
   "source": [
    "xs = np.linspace(-3, 3, 10)  # stimulus range of values\n",
    "# sigm_func(np.linspace(-3,3,20),1,0)\n",
    "ntr = 8  # num of trials at each stimulus strength\n",
    "ans_sim = np.zeros((len(xs), ntr))  #  array for storing responses\n",
    "for cx, x in enumerate(xs):  # loop though and count values of xs\n",
    "    ptr = sigm_func(x, 1.3, 0.02)  # probabilty of response 1\n",
    "    for n in range(ntr):\n",
    "        rand_p = np.random.rand()  # random value (0-1 range)\n",
    "        if rand_p < ptr:  # if random number is smaller than probability, answer is 1\n",
    "            ans_sim[cx, n] = 1\n",
    "        else:  # other wise answer is zero (in fact this part could be cut)\n",
    "            ans_sim[cx, n] = 0\n",
    "\n",
    "plt.scatter(xs, np.mean(ans_sim, 1))\n",
    "\n",
    "# plt.plot(xs,sigm_func(xs,c1,0),linewidth=3,label='Shape(c1)'+str(c1))\n",
    "\n",
    "plt.yticks(fontsize=16)\n",
    "plt.xticks(fontsize=16)\n",
    "plt.xlabel(\"Stimulus Strength\", fontsize=18)\n",
    "plt.ylabel(\"p(Yes)\", fontsize=18)"
   ]
  },
  {
   "cell_type": "markdown",
   "metadata": {
    "id": "fUulPptBZkhM"
   },
   "source": [
    "## Trying values for Psychomteric function shape parameter manually"
   ]
  },
  {
   "cell_type": "code",
   "execution_count": null,
   "metadata": {
    "colab": {
     "base_uri": "https://localhost:8080/",
     "height": 513
    },
    "id": "d-v-gA7QbLJb",
    "outputId": "8377d1d7-45ff-46ad-d755-ccf949487777"
   },
   "outputs": [],
   "source": [
    "plt.figure(figsize=(12, 7))\n",
    "# plt.plot(xs,np.mean(ans_sim,1))##\n",
    "for cc, c1 in enumerate([0.5, 1, 2, 3]):\n",
    "    plt.subplot(2, 2, cc + 1)\n",
    "    plt.scatter(xs, np.mean(ans_sim, 1))\n",
    "\n",
    "    plt.plot(xs, sigm_func(xs, c1, 0), linewidth=3, label=\"Shape(c1)\" + str(c1))\n",
    "\n",
    "    plt.yticks(fontsize=13)\n",
    "    plt.xticks(fontsize=13)\n",
    "    plt.xlabel(\"Stimulus Strength\", fontsize=15)\n",
    "    plt.ylabel(\"p(Yes)\", fontsize=15)\n",
    "\n",
    "    plt.title(\"c1=\" + str(c1) + \" c2=0\", fontsize=17)\n",
    "plt.tight_layout()"
   ]
  },
  {
   "cell_type": "markdown",
   "metadata": {
    "id": "ZSrQRbxpYeQO"
   },
   "source": [
    "## sigmoid likelihood function for answers 0 and 1\n",
    "\n",
    "(log likelihood for computational reasons)"
   ]
  },
  {
   "cell_type": "code",
   "execution_count": null,
   "metadata": {
    "colab": {
     "base_uri": "https://localhost:8080/",
     "height": 235
    },
    "id": "AncOrE3hRDZH",
    "outputId": "94aa0406-08d1-4b29-ef44-529c1f809356"
   },
   "outputs": [],
   "source": [
    "xx = np.repeat(xs, ntr)  # array for X\n",
    "\n",
    "ans_true = ans_sim.flatten()  # 1d array for Y\n",
    "\n",
    "ps = sigm_func(xx, 1, 0)\n",
    "ll = np.sum(np.log(ps[ans_true == 1])) + np.sum(np.log(1 - ps[ans_true == 0]))\n",
    "\n",
    "\n",
    "def sigm_l_lfit(pars):\n",
    "    ps = sigm_func(xx, pars[0], pars[1])\n",
    "    ll = np.sum(np.log(ps[ans_true == 1])) + np.sum(np.log(1 - ps[ans_true == 0]))\n",
    "    return -ll"
   ]
  },
  {
   "cell_type": "markdown",
   "metadata": {
    "id": "5uS0HZQZZx_d"
   },
   "source": [
    "## maximum likelihood model fitting for psychometric curve"
   ]
  },
  {
   "cell_type": "code",
   "execution_count": null,
   "metadata": {
    "colab": {
     "base_uri": "https://localhost:8080/",
     "height": 324
    },
    "id": "BPGjsYoASdw8",
    "outputId": "290716a9-4f92-4e0c-b8d9-446f78880609"
   },
   "outputs": [],
   "source": [
    "from scipy.optimize import minimize\n",
    "\n",
    "mod = minimize(sigm_l_lfit, x0=[0.5, 1])\n",
    "\n",
    "plt.scatter(xs, np.mean(ans_sim, 1))\n",
    "\n",
    "plt.plot(\n",
    "    xs, sigm_func(xs, mod.x[0], mod.x[1]), linewidth=3, label=\"Shape(c1)\" + str(c1)\n",
    ")\n",
    "\n",
    "plt.yticks(fontsize=13)\n",
    "plt.xticks(fontsize=13)\n",
    "plt.xlabel(\"Stimulus Strength\", fontsize=15)\n",
    "plt.ylabel(\"p(Yes)\", fontsize=15)\n",
    "\n",
    "plt.title(\n",
    "    \"c1=\" + str(np.round(mod.x[0], 2)) + \" c2=\" + str(np.round(mod.x[1], 2)),\n",
    "    fontsize=17,\n",
    ")"
   ]
  },
  {
   "cell_type": "markdown",
   "metadata": {
    "id": "S2058E8oaK8n"
   },
   "source": [
    "# logistic regression for the same data"
   ]
  },
  {
   "cell_type": "code",
   "execution_count": null,
   "metadata": {
    "id": "3nUKQM4jdqpt"
   },
   "outputs": [],
   "source": [
    "from sklearn.linear_model import LogisticRegression"
   ]
  },
  {
   "cell_type": "code",
   "execution_count": null,
   "metadata": {
    "id": "h192jcIR0zHz"
   },
   "outputs": [],
   "source": [
    "log_reg = logistic_regression()"
   ]
  },
  {
   "cell_type": "code",
   "execution_count": null,
   "metadata": {
    "colab": {
     "base_uri": "https://localhost:8080/"
    },
    "id": "evkvtBpLY7HV",
    "outputId": "93d52d22-65ed-4620-8ff1-c0d827d31334"
   },
   "outputs": [],
   "source": [
    "log_reg.fit(xx.reshape(-1, 1), ans_sim.reshape(-1, 1))"
   ]
  },
  {
   "cell_type": "code",
   "execution_count": null,
   "metadata": {
    "colab": {
     "base_uri": "https://localhost:8080/"
    },
    "id": "vCQzVVNAZSCD",
    "outputId": "73d338af-e8e3-404e-f827-2120bc512b75"
   },
   "outputs": [],
   "source": [
    "log_reg.coef_"
   ]
  },
  {
   "cell_type": "code",
   "execution_count": null,
   "metadata": {
    "colab": {
     "base_uri": "https://localhost:8080/"
    },
    "id": "VdxB2WOnZUGd",
    "outputId": "c166a2bd-72e5-4fc5-b22f-46d1997c0fa9"
   },
   "outputs": [],
   "source": [
    "log_reg.intercept_"
   ]
  }
 ],
 "metadata": {
  "colab": {
   "provenance": []
  },
  "kernelspec": {
   "display_name": "Python 3 (ipykernel)",
   "language": "python",
   "name": "python3"
  },
  "language_info": {
   "codemirror_mode": {
    "name": "ipython",
    "version": 3
   },
   "file_extension": ".py",
   "mimetype": "text/x-python",
   "name": "python",
   "nbconvert_exporter": "python",
   "pygments_lexer": "ipython3",
   "version": "3.11.0"
  }
 },
 "nbformat": 4,
 "nbformat_minor": 4
}
