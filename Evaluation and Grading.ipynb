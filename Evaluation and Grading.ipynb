{
 "cells": [
  {
   "cell_type": "markdown",
   "id": "be494f5d-fbc0-4b46-b10e-f6d8b18b3f2c",
   "metadata": {
    "id": "C5N8uXaLdary"
   },
   "source": [
    "# Evaluation and Grading in Class\n",
    "\n",
    "*Written and revised by Jozsef Arato, Mengfan Zhang, Dominik Pegler*  \n",
    "Computational Cognition Course, University of Vienna  \n",
    "https://github.com/univiemops/tewa1-computational-cognition\n",
    "\n",
    "## 1. Selecting students for evaluation\n",
    "\n",
    "Each week a few students (usually 3) are selected to explain the exercises they have submitted. This selection process is defined as **random sampling without replacement within a week** (so the same student cannot be selected more than once in a week) and **with replacement across weeks**. This means that if a student has been selected, he or she can be selected again next week, but the selection reduces the probability of being selected by a factor (e.g., 3) relative to the probabilities of the other students."
   ]
  },
  {
   "cell_type": "markdown",
   "id": "62c8c1eb-3dae-434b-b2ef-c8606e084d0e",
   "metadata": {},
   "source": [
    "### Functions"
   ]
  },
  {
   "cell_type": "code",
   "execution_count": null,
   "id": "2fa42383-7934-424d-b33a-fafcefb86594",
   "metadata": {},
   "outputs": [],
   "source": [
    "import matplotlib.pyplot as plt\n",
    "import numpy as np\n",
    "\n",
    "\n",
    "def random_choice_p(items, probabilities=None, size=None, factor=3.33):\n",
    "    \"\"\"Pick item based on probabilities and update probabilities.\"\"\"\n",
    "    if probabilities is None:\n",
    "        probabilities = np.ones(len(items)) / len(items)\n",
    "    items = np.array(items)\n",
    "\n",
    "    chosen_index = np.random.choice(\n",
    "        len(items), size=size, replace=False, p=probabilities\n",
    "    )\n",
    "    if type(chosen_index) == int:\n",
    "        chosen_item = items[chosen_index]\n",
    "        probabilities[chosen_index] /= factor\n",
    "    else:\n",
    "        chosen_item = items[chosen_index]\n",
    "        probabilities[chosen_index] /= factor\n",
    "\n",
    "    probabilities /= probabilities.sum()\n",
    "\n",
    "    return chosen_item, chosen_index, probabilities\n",
    "\n",
    "\n",
    "def plot_probs(probabilities, students):\n",
    "    \"\"\"Plot the probabilities to be chosen for each student.\"\"\"\n",
    "\n",
    "    plt.figure(figsize=(7, 3))\n",
    "    plt.bar(students, probabilities, width=0.95)\n",
    "    plt.ylabel(\"probability\")\n",
    "    plt.xlabel(\"student\")\n",
    "    plt.ylim(0, 0.55)\n",
    "    plt.show()"
   ]
  },
  {
   "cell_type": "markdown",
   "id": "2c0b0773-b51e-40aa-9787-c583db0425a5",
   "metadata": {},
   "source": [
    "### Simulation\n",
    "\n",
    "#### Demonstration of evaluations per week and changing probabilities"
   ]
  },
  {
   "cell_type": "code",
   "execution_count": null,
   "id": "2eb604d4-102d-4009-a574-2d6bd17b1161",
   "metadata": {},
   "outputs": [],
   "source": [
    "weeks = 10\n",
    "\n",
    "students = [\n",
    "    \"Ane\",\n",
    "    \"Bela\",\n",
    "    \"Chi\",\n",
    "    \"Dada\",\n",
    "    \"Eda\",\n",
    "    \"Filo\",\n",
    "    \"Gina\",\n",
    "    \"Hadi\",\n",
    "    \"Iva\",\n",
    "    \"Jag\",\n",
    "    \"Kele\",\n",
    "    \"Lei\",\n",
    "]\n",
    "probabilities = np.ones(len(students)) / len(students)\n",
    "counts = np.zeros(len(students))\n",
    "\n",
    "print(\"Initial probabilities\")\n",
    "plot_probs(probabilities, students)\n",
    "\n",
    "for week in range(1, weeks + 1):\n",
    "    chosen_student, chosen_index, probabilities = random_choice_p(\n",
    "        students, size=3, factor=3.33, probabilities=probabilities\n",
    "    )\n",
    "    for i in chosen_index:\n",
    "        counts[i] += 1\n",
    "    print(f\"Week {week}: Chosen student:\", chosen_student)\n",
    "    plot_probs(probabilities, students)"
   ]
  },
  {
   "cell_type": "markdown",
   "id": "2feadea3-98c6-4639-aa53-738d64b6280c",
   "metadata": {},
   "source": [
    "#### Resulting numbers of selections per student"
   ]
  },
  {
   "cell_type": "code",
   "execution_count": null,
   "id": "fb026256-1c37-48be-a752-1c38d9c3f0ed",
   "metadata": {},
   "outputs": [],
   "source": [
    "plt.figure(figsize=(7, 3))\n",
    "plt.bar(students, counts, width=0.95)\n",
    "plt.ylabel(\"counts\")\n",
    "plt.xlabel(\"student\")\n",
    "plt.show()"
   ]
  },
  {
   "cell_type": "markdown",
   "id": "3989195b-f4f7-40c5-947f-ea529bd75f37",
   "metadata": {},
   "source": [
    "#### Simulation of long-term outcomes and probabilities for numbers of selections\n",
    "\n",
    "We want to avoid extreme results, such as students receiving no, once, or more than 4 times. What is the risk of getting such results with our simulation approach and a given probability reduction factor of, say, 3?"
   ]
  },
  {
   "cell_type": "code",
   "execution_count": null,
   "id": "442f7051-df1a-469f-9bc1-6f295662cdb8",
   "metadata": {},
   "outputs": [],
   "source": [
    "n_sims = 10_000\n",
    "weeks = 12\n",
    "factor = 3.33\n",
    "crit_min = 1\n",
    "crit_max = 5\n",
    "\n",
    "courses = np.zeros((n_sims, weeks))\n",
    "for course in range(n_sims):\n",
    "    probabilities = np.ones(len(students)) / len(students)\n",
    "    counts = np.zeros(len(students))\n",
    "\n",
    "    for week in range(1, weeks + 1):\n",
    "        chosen_student, chosen_index, probabilities = random_choice_p(\n",
    "            students, size=3, factor=factor, probabilities=probabilities\n",
    "        )\n",
    "        for i in chosen_index:\n",
    "            counts[i] += 1\n",
    "    courses[course] = counts\n",
    "\n",
    "print(\n",
    "    f\"The probability of students being selected {crit_min} time(s) or less is {np.sum(courses.min(axis=1)<=crit_min)/n_sims:,.2%}\"\n",
    ")\n",
    "print(\n",
    "    f\"The probability of students being selected {crit_max} time(s) or more is {np.sum(courses.max(axis=1)>=crit_max)/n_sims:,.2%}\"\n",
    ")"
   ]
  },
  {
   "cell_type": "code",
   "execution_count": null,
   "id": "7d517584-3ac1-4694-a8e2-33547656ef73",
   "metadata": {},
   "outputs": [],
   "source": [
    "all_values = np.reshape(courses, -1)\n",
    "\n",
    "plt.figure(figsize=(7, 3))\n",
    "plt.hist(\n",
    "    all_values,\n",
    "    width=0.97,\n",
    "    align=\"left\",\n",
    "    bins=np.unique(all_values),\n",
    "    weights=np.zeros_like(all_values) + 1.0 / all_values.size,\n",
    ")\n",
    "plt.ylabel(\"counts of counts\")\n",
    "plt.xlabel(\"counts\")\n",
    "plt.show()"
   ]
  },
  {
   "cell_type": "markdown",
   "id": "00685456-aedf-42a5-a827-0f2e08f65b71",
   "metadata": {},
   "source": [
    "## 2. Grading\n",
    "### 2.1 u:find\n",
    "\n",
    "\n",
    "---\n",
    "\n",
    "- 50% individual assignments -> homework incl. assessment\n",
    "    - 5% (10 assignments)\n",
    "    - -10% cheating\n",
    "- 15% in-class evaluations -> reading assignments with small quizzes \n",
    "- 35% final project\n",
    "- 5% bonus points -> students give feedback on the course (2x 2.5%)\n",
    "---\n",
    "\n",
    "The overall grade will be a weighted average of the above:\n",
    "\n",
    "1: ≥ 90%  \n",
    "2: ≥ 80%  \n",
    "3: ≥ 70%  \n",
    "4: ≥ 60%  \n",
    "5: < 60%\n"
   ]
  },
  {
   "cell_type": "markdown",
   "id": "36c9e319-e05f-4e19-b5fe-d921fd8215fc",
   "metadata": {},
   "source": [
    "#"
   ]
  }
 ],
 "metadata": {
  "kernelspec": {
   "display_name": "Python 3 (ipykernel)",
   "language": "python",
   "name": "python3"
  },
  "language_info": {
   "codemirror_mode": {
    "name": "ipython",
    "version": 3
   },
   "file_extension": ".py",
   "mimetype": "text/x-python",
   "name": "python",
   "nbconvert_exporter": "python",
   "pygments_lexer": "ipython3",
   "version": "3.10.13"
  }
 },
 "nbformat": 4,
 "nbformat_minor": 5
}
