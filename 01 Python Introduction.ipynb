{
 "cells": [
  {
   "cell_type": "markdown",
   "metadata": {
    "id": "C5N8uXaLdary"
   },
   "source": [
    "# Tutorial 1 - Python Introduction\n",
    "\n",
    "\n",
    "*Written and revised by Jozsef Arato, Mengfan Zhang, Dominik Pegler*  \n",
    "Computational Cognition Course, University of Vienna  \n",
    "https://github.com/univiemops/tewa1-computational-cognition\n",
    "---"
   ]
  },
  {
   "cell_type": "markdown",
   "metadata": {
    "id": "C5N8uXaLdary"
   },
   "source": [
    "## This week's lab:\n",
    "\n",
    "The purpose of this tutorial is to help you practice the basics of Python. We assume you have basic knowledge about Python, or you already went through the *Introduction to Python* course on Datacamp. \n",
    "\n",
    "**Learning goals:** \\\n",
    "When finishing this tutorial, you should...\n",
    "*   understand boolean and conditional statements  \n",
    "*   perform iterations using for-loop\n",
    "*   know how to index in Python\n",
    "*   call Python functions and write your own functions\n",
    "*   manipulate Python list as a data format\n",
    "\n",
    "**Estimated time to complete:** 1.5 hours (depends on your previous knowledge) \\\n",
    "**Deadline:** Next Monday, 23:59"
   ]
  },
  {
   "cell_type": "markdown",
   "metadata": {},
   "source": [
    "Before we get started, we'll introduce you to the Jupyter notebook environment if you're not familiar with it. If you are familiar with Jupyter notebook, you can skip this part. Also, if you want to run the course materials on your own computer, one option is to follow the instructions for installing Anaconda (https://docs.anaconda.com/free/anaconda/install/index.html) and then download materials to your computer. "
   ]
  },
  {
   "cell_type": "markdown",
   "metadata": {},
   "source": [
    "## Jupyter Notebooks\n",
    "\n",
    "Jupyter notebook is an application that allows you to write/edit/run/share Python code in a web browser. We use it for our course tutorials because it is an excellent combination of *text cell*,  which allows to write text to explain things, and *code cell*,  which allows to execute code and see the results immediately. Also, it allows to embed rich inputs and outputs such as plots, images, equations, making it an excellent teaching tool for data visualization and scientific computing. \\\n",
    "Here, we just briefly explain the most important things about how to use jupyter notebooks. If you are interested in the detailed usages, you can check out the user documentation (https://jupyter-notebook.readthedocs.io/en/stable/notebook.html)\n",
    "\n",
    "**Runing and stopping cells** \\\n",
    "To run a cell, select it (it should have a green frame (edit mode) or a blue frame (command mode) around it), and then click on the \"Run\" icon in the toolbar above or press \"Shift + Enter\". \\\n",
    "In some cases, such as when the code cell is taking too long to execute or the loop you created is infinite, you may want to stop the cell from executing. To do this, click the black square icon in the toolbar. \\\n",
    "Even worse, you accidentally crash the notebook (this can happen sometimes when you load too much data), and the notebook stop responding and the stop icon doesn't help. You may need to completely restart the notebook. To do this, click \"Kernel\" --> \"Restart\" in the toolbar.  It's important to note that when you restart the notebook, all the things (data/variables/libraries) you imported before will not be remembered. So you have to re-import everything by running the code cells. \n",
    "\n",
    "**Inserting and deleting cells** \\\n",
    "By clicking on \"Insert\" --> \"Insert Cell Above\"/\"Insert Cell Below\" in the toolbar, you can add a new code cell. To delete a cell, click on \"Edit\" --> \"Delete Cells\". \\\n",
    "If you want to change the code cell into a text cell, select the cell and click \"Cell\" --> \"Cell Type\" --> \"Markdown\". The markdown cells (or the text cells) allow you to write plain text and format your text using special markdown syntax. Check out this cheatsheet to get an idea of the basic markdown syntax (https://github.com/adam-p/markdown-here/wiki/Markdown-Cheatsheet)\n",
    "\n",
    "**Saving and closing notebook** \\\n",
    "When running the notebook in a browser, remember that it is very similar to working on a file on your computer that you need to save things you changed from time to time. Click on the fist icon in the toolbar to save the notebook, especially before closing the notebook! \\\n",
    "If you want to close the notebook, you can simply close the web page in your browser. However, the notebook will still be \"running\" in the background in the terminal. This isn't a big problem for the course, but we recommend that you click \"File\" --> \"Close and Halt\" to shut down the notebook completely if you are running notebooks on your own computer. Otherwise, you may have notebooks keep running in your terminal without awareness about it. \n",
    "\n",
    "Now, let's do some practice (optional)! Insert a text cell below, and try to write the following sentence by yourself: \\\n",
    "\"I am **very excited** to learn the *Computational Cognition Course*!\"\n"
   ]
  },
  {
   "cell_type": "markdown",
   "metadata": {},
   "source": [
    "## 1. Basic arithmetic\n",
    "\n",
    "If you feel comfortable with the Jupyter notebook environment now, let's start with practicing some mathematical operations."
   ]
  },
  {
   "cell_type": "code",
   "execution_count": null,
   "metadata": {
    "id": "ak5ZH8I0dX9X"
   },
   "outputs": [],
   "source": [
    "a = 3  # these are comments\n",
    "b = a + 1  # comments are useful to make code more understandable\n",
    "c = a - 3\n",
    "d = a * 2\n",
    "e = (\n",
    "    b / d\n",
    ")  # addition, subtraction, multiplication and division are not very suprising in python\n",
    "print(\"b\", b)  # comma separation allows printing together stuff\n",
    "print(\"c =\", c)"
   ]
  },
  {
   "cell_type": "markdown",
   "metadata": {
    "id": "Ohtsa2U5d1es"
   },
   "source": [
    "To raise a number to a degree as in $x^{n}$, you can use `**n`. Do you know how to calculate the modulus using an arithmetic operator? If not, remember that Google is your friend! \\\n",
    "Try it out yourself in the cell below:\n",
    "Define the variable \"mod_a_pow\" as the modulus of  $a^{2}$ divided by 2, and print the result.\n"
   ]
  },
  {
   "cell_type": "code",
   "execution_count": null,
   "metadata": {
    "id": "H6cCY1XJeO00"
   },
   "outputs": [],
   "source": [
    "# YOUR CODE HERE"
   ]
  },
  {
   "cell_type": "code",
   "execution_count": null,
   "metadata": {},
   "outputs": [],
   "source": [
    "\"\"\"This cell tests if your code above is correct.\"\"\"\n",
    "\"\"\"Just run the cell. It will give you an error message or a compliment.\"\"\"\n",
    "\"\"\"We insert a test cell after every cell that requires you to write code.\"\"\"\n",
    "try:\n",
    "    assert \"mod_a_pow\" in dir()\n",
    "except AssertionError as msg:\n",
    "    print(\"The variable 'mod_a_pow' is not defined! Did you name it correctly?\")\n",
    "    raise (msg)\n",
    "try:\n",
    "    assert mod_a_pow == 1\n",
    "except AssertionError as msg:\n",
    "    print(\"'mod_a_pow' is not correctly calculated.\")\n",
    "    raise (msg)\n",
    "else:\n",
    "    print(\"Awesome!\")"
   ]
  },
  {
   "cell_type": "markdown",
   "metadata": {
    "id": "zdy0Ae5ZgadT"
   },
   "source": [
    "You can use the `type()` function to check the types of \"a\" and \"e\" below. This will be important later, as many functions require a certain type of the variable as the input. \\\n",
    "If you only have a single operation in a cell, you do not need to add the print function to see the result."
   ]
  },
  {
   "cell_type": "code",
   "execution_count": null,
   "metadata": {
    "id": "z4gKif-egdAf"
   },
   "outputs": [],
   "source": [
    "type(e)"
   ]
  },
  {
   "cell_type": "markdown",
   "metadata": {
    "id": "zIKzg3xTNntE"
   },
   "source": [
    "## 2. Boolean statements\n",
    "\n",
    "Check what **comparision operators** `==`, `!=` , `>`,`<`,`<=` does by comparing \"b\" to \"a\". You can also play around a bit in the cell below."
   ]
  },
  {
   "cell_type": "code",
   "execution_count": null,
   "metadata": {
    "id": "TxQAb0MzNlIE"
   },
   "outputs": [],
   "source": [
    "a <= b"
   ]
  },
  {
   "cell_type": "markdown",
   "metadata": {},
   "source": [
    "In programming, you often need to know whether an expression is correct or not. Boolean statements evaluate this kind of comparison and give you one of two possible answers:`True` or `False`. \\\n",
    "What if you want to evaluate two or more comparisons at the same time? You can combine comparisons using Boolean logic."
   ]
  },
  {
   "cell_type": "code",
   "execution_count": null,
   "metadata": {},
   "outputs": [],
   "source": [
    "print(\n",
    "    a > 3 and b < 5\n",
    ")  # logic AND, both expressions must be true to get the value 'True'\n",
    "print(\n",
    "    a > 3 or b < 5\n",
    ")  # logic OR, one of the expressions must be true to get the value 'True'\n",
    "print(\n",
    "    not a > 3\n",
    ")  # logic NOT, the inverse of the expression must be true to get the value 'True'\n",
    "print(True == 1 and False == 0)  # Guess the result of this one. Do you understand why?"
   ]
  },
  {
   "cell_type": "markdown",
   "metadata": {
    "id": "WHY0zWVcOpuI"
   },
   "source": [
    "## 3. Indexing\n",
    "In python, we use `[]` for indexing. It is important to note that python indexing is zero based!"
   ]
  },
  {
   "cell_type": "code",
   "execution_count": null,
   "metadata": {
    "id": "jZ2S5-eyDPtN"
   },
   "outputs": [],
   "source": [
    "# let's define a list first\n",
    "animals = [\n",
    "    \"Dog\",\n",
    "    \"Cat\",\n",
    "    [\"MaineCoon\", \"Siamese\"],\n",
    "    \"Elephant\",\n",
    "    \"Horse\",\n",
    "    \"Rat\",\n",
    "    \"Mouse\",\n",
    "]  # list can contain elements of different types\n",
    "\n",
    "# check out what the following codes do\n",
    "print(\"The first element in the 'animals' list:\")\n",
    "print(animals[0], \"\\n\")  # '\\n' just create a new line in the output for readability\n",
    "\n",
    "print(\"The second element in the 'animals' list:\")\n",
    "print(animals[1], \"\\n\")\n",
    "\n",
    "print(\"The second to the last element in the 'animals' list:\")\n",
    "print(animals[-2], \"\\n\")  # index value can be negative\n",
    "\n",
    "print(\"The second to the fifth elements in the 'animals' list:\")\n",
    "print(animals[1:5], \"\\n\")  # slicing in python is \"begin inclusive, end exclusive\"\n",
    "\n",
    "print(\"From the second to the end elements in the 'animals' list:\")\n",
    "print(animals[1:], \"\\n\")\n",
    "\n",
    "print(\"From the first to the fifth elements in the 'animals' list:\")\n",
    "print(animals[:5], \"\\n\")\n",
    "\n",
    "print(\"The second element of the third element in the 'animals' list:\")\n",
    "print(animals[2][1])"
   ]
  },
  {
   "cell_type": "markdown",
   "metadata": {
    "id": "cnnQ1lsyhLyb"
   },
   "source": [
    "##  4. Loop\n",
    "\n",
    "Loops in python are very similar to loops in other programming languages such as R or Matlab (if you are familiar with them), with only some minor differeces in the syntax. \\\n",
    "A `for` loop can be used to iterate over a sequence such as a list, a string, a tuple, and a dictionary. For example, the code below iterates over all elements of \"my_list\", printing each value and also the double of each value. "
   ]
  },
  {
   "cell_type": "code",
   "execution_count": null,
   "metadata": {
    "id": "2MpQ58_IgySf"
   },
   "outputs": [],
   "source": [
    "my_list = [a, b, c, d]\n",
    "\n",
    "for i in my_list:\n",
    "    print(i)\n",
    "    print(i * 2)"
   ]
  },
  {
   "cell_type": "markdown",
   "metadata": {},
   "source": [
    "You may notice that there is some whitespace/indentation before the print function. In many programming languages, indentation is used to improve readability and not obligatory. However, indentation in Python is obligatory. If you indent incorrectly, Python will complain and give you an error message. Indentation in Python is always **four spaces or a tab**."
   ]
  },
  {
   "cell_type": "markdown",
   "metadata": {
    "id": "kNWEtVtztdZs"
   },
   "source": [
    " Now, try it out yourself: use a for loop to add up the elements of \"my_list\", and store the result in the variable \"my_list_sum\"."
   ]
  },
  {
   "cell_type": "code",
   "execution_count": null,
   "metadata": {
    "id": "Gjr1ovvgtcPj"
   },
   "outputs": [],
   "source": [
    "# Initiate the varialbe \"my_list_sum\"\n",
    "my_list_sum = 0  #  what you should do is to change the value of \"my_list_sum\" with each iteration\n",
    "\n",
    "for i in my_list:\n",
    "    # YOUR CODE HERE"
   ]
  },
  {
   "cell_type": "code",
   "execution_count": null,
   "metadata": {},
   "outputs": [],
   "source": [
    "\"\"\"Test the above cell\"\"\"\n",
    "try:\n",
    "    assert my_list_sum == 13\n",
    "except AssertionError as msg:\n",
    "    print(\"'my_list_sum' is not correctly calculated.\")\n",
    "    raise (msg)\n",
    "else:\n",
    "    print(\"Amazing!\")"
   ]
  },
  {
   "cell_type": "markdown",
   "metadata": {
    "id": "_g4rhh3rMrfe"
   },
   "source": [
    "### 4.1 For loop with the range function\n",
    "\n",
    "The `range` function creates a sequence of numbers and is commonly used in a loop like the one below:"
   ]
  },
  {
   "cell_type": "code",
   "execution_count": null,
   "metadata": {
    "id": "HQvPkJhQMqd2"
   },
   "outputs": [],
   "source": [
    "for i in range(0, 5):\n",
    "    print(i)"
   ]
  },
  {
   "cell_type": "markdown",
   "metadata": {},
   "source": [
    "In a previous code cell, we iterated over the variable \"my_list\" with its elements. We can also use the index of elements in the variable to iterate. The `range` function and the `len` function (return the length of an object) can be useful for this purpose. The `range` function is also often used when you want to repeat the code a certain number of times. Check out the codes below:"
   ]
  },
  {
   "cell_type": "code",
   "execution_count": null,
   "metadata": {},
   "outputs": [],
   "source": [
    "for i in range(4):\n",
    "    print(my_list)\n",
    "    print(my_list[i])"
   ]
  },
  {
   "cell_type": "code",
   "execution_count": null,
   "metadata": {},
   "outputs": [],
   "source": [
    "for i in range(len(my_list)):\n",
    "    print(my_list[i])"
   ]
  },
  {
   "cell_type": "markdown",
   "metadata": {},
   "source": [
    "As you can see, we have iterated over a variable using either its elements or its index. What if I want to do both at once? The `enumerate` function can help here:"
   ]
  },
  {
   "cell_type": "code",
   "execution_count": null,
   "metadata": {},
   "outputs": [],
   "source": [
    "for idx, ele in enumerate(my_list):\n",
    "    print(\"index of the current iteration: %i\" % idx)\n",
    "    print(\"element of the current iteration: %i\" % ele)"
   ]
  },
  {
   "cell_type": "markdown",
   "metadata": {
    "id": "IKU2f9fLwA8-"
   },
   "source": [
    "Now, let's do some practice! Below we define a list of animals, and another list that shows their corresponding weigths for you. Complete the code as follows: \n",
    "1. Use the `append` method (you should have learned it from the datacamp introductory course) to add the value \"Raccoon\" to the \"animals\" variable, and add the value 5 to the \"weights\" variable.\n",
    "2. Loop through the \"animals\" variable with a `for` loop, and get the length of each animal's name in each iteration.\n",
    "3. Add up the length from each iteration and store the result in the \"sum_letr\" variable."
   ]
  },
  {
   "cell_type": "code",
   "execution_count": null,
   "metadata": {
    "id": "-6CpCClmwVqq"
   },
   "outputs": [],
   "source": [
    "animals = [\"Dog\", \"Cat\", \"Elephant\", \"Horse\", \"Rat\", \"Mouse\"]\n",
    "weights = [20, 2, 3000, 500, 0.3, 0.02]  # kg\n",
    "\n",
    "sum_letr = 0\n",
    "\n",
    "# YOUR CODE HERE"
   ]
  },
  {
   "cell_type": "code",
   "execution_count": null,
   "metadata": {},
   "outputs": [],
   "source": [
    "\"\"\"Test the above cell\"\"\"\n",
    "try:\n",
    "    assert animals == [\"Dog\", \"Cat\", \"Elephant\", \"Horse\", \"Rat\", \"Mouse\", \"Raccoon\"]\n",
    "except AssertionError as msg:\n",
    "    print(\"'animals' is not correctly appended.\")\n",
    "    raise (msg)\n",
    "\n",
    "try:\n",
    "    assert weights == [20, 2, 3000, 500, 0.3, 0.02, 5]\n",
    "except AssertionError as msg:\n",
    "    print(\"'weights' is not correctly appended.\")\n",
    "    raise (msg)\n",
    "else:\n",
    "    print(\"Great that you correctly append the variables.\")\n",
    "\n",
    "try:\n",
    "    assert sum_letr == 34\n",
    "except AssertionError as msg:\n",
    "    print(\"'sum_letr' is not correctly calculated.\")\n",
    "    raise (msg)\n",
    "else:\n",
    "    print(\"Great that you correctly calculate the sum!\")"
   ]
  },
  {
   "cell_type": "markdown",
   "metadata": {
    "id": "u_PgTe3BybCP"
   },
   "source": [
    "### 4.2 Nested for loop\n",
    "\n",
    "A nested for loop is a loop (the inner loop) within another loop (the outer loop). In each iteration of the outer loop, the inner loop will be re-started and finish all of its iterations. Then, the outer loop can continue to its next iteration. For example:"
   ]
  },
  {
   "cell_type": "code",
   "execution_count": null,
   "metadata": {},
   "outputs": [],
   "source": [
    "charcs = [\"Cute\", \"Playful\", \"Fluffy\"]\n",
    "mops_pets = [\"Dog\", \"Cat\", \"Rabbit\"]  # yes, these are the pets our lab members have!\n",
    "\n",
    "\n",
    "for i in charcs:  # outer loop\n",
    "    for j in mops_pets:  # inner loop\n",
    "        print(i, j)  # code to excute of the inner loop\n",
    "    print(\n",
    "        \"End of the current iteration of the outer loop.\"\n",
    "    )  # code to excute of the outer loop"
   ]
  },
  {
   "cell_type": "markdown",
   "metadata": {
    "id": "u_PgTe3BybCP"
   },
   "source": [
    "### 4.3 List comprehension (advanced)\n",
    "\n",
    "Sometimes, using loops can make your code look lengthy and make it difficult to read. Python offers a concise way to create lists. With list comprehension, you can create a new list based on an existing list (or other iterable variables) by applying an expression to each element in the existing list."
   ]
  },
  {
   "cell_type": "code",
   "execution_count": null,
   "metadata": {},
   "outputs": [],
   "source": [
    "# create a list using for loop\n",
    "nums = []\n",
    "\n",
    "for x in range(5):\n",
    "    nums.append(x + 2)\n",
    "\n",
    "print(nums)\n",
    "\n",
    "# create the same list using list comprehension\n",
    "nums = [x + 2 for x in range(5)]\n",
    "print(nums)"
   ]
  },
  {
   "cell_type": "markdown",
   "metadata": {
    "id": "xIkdVCV7xJ__"
   },
   "source": [
    "## 5. If conditional\n",
    "\n",
    "`If-elif-else` statement is very intuitive in Python. Let's have a look at the code below to get an idea. Below, we loop through the variable \"animals\" and we print different messages based on the weight of the animal.  \n"
   ]
  },
  {
   "cell_type": "code",
   "execution_count": null,
   "metadata": {
    "id": "qXln296ixIfh"
   },
   "outputs": [],
   "source": [
    "num = len(animals)\n",
    "\n",
    "for i in range(num):\n",
    "    if weights[i] > 5:  # condition 1\n",
    "        print(animals[i])  # code to execute if condition 1 is true\n",
    "    elif weights[i] < 1:  # condition 2; you can add more condtions with elif\n",
    "        print(\n",
    "            animals[i], \"is a very small animal\"\n",
    "        )  # code to execute if condition 2 is true\n",
    "    else:\n",
    "        print(\n",
    "            animals[i], \"is neither small or big\"\n",
    "        )  # code to execute if all conditions are false"
   ]
  },
  {
   "cell_type": "markdown",
   "metadata": {
    "id": "1sFxo64LCl2F"
   },
   "source": [
    "You can also combine conditionals using logic expressions. \\\n",
    "In the cell, we loop through animals and print their names only if the weight is greater than 10 kg and the name is shorter than 6 letters.\n"
   ]
  },
  {
   "cell_type": "code",
   "execution_count": null,
   "metadata": {
    "id": "8_f6hfaOC-Db"
   },
   "outputs": [],
   "source": [
    "for i in range(num):\n",
    "    if weights[i] > 10 and len(animals[i]) < 6:\n",
    "        print(animals[i])"
   ]
  },
  {
   "cell_type": "markdown",
   "metadata": {},
   "source": [
    "Now, let's try something a little bit difficult:\n",
    "1. Write a nested `for` loop that compares the weight difference between each pair of species in the \"animals\" variable. (Don't compare the species to it self. Also, if you compare the dog weight with the cat weight, don't compare the cat weight with the dog weight again.)\n",
    "2. Store the results in the \"diff_weight\" list. So the first element of \"diff_weight\" should be the weight difference of dog and cat, the second element should be the weight difference of dog and elephant, and so on.\n",
    "3. The `append` method and the `enumerate` function can be useful, but you can also try other ways to do it."
   ]
  },
  {
   "cell_type": "code",
   "execution_count": null,
   "metadata": {},
   "outputs": [],
   "source": [
    "animals = [\"Dog\", \"Cat\", \"Elephant\", \"Horse\", \"Rat\", \"Mouse\"]\n",
    "weights = [20, 2, 3000, 500, 0.3, 0.02]\n",
    "\n",
    "diff_weight = []"
   ]
  },
  {
   "cell_type": "code",
   "execution_count": null,
   "metadata": {},
   "outputs": [],
   "source": [
    "\"\"\"Test the above cell\"\"\"\n",
    "exp_list_1 = [\n",
    "    18,\n",
    "    -2980,\n",
    "    -480,\n",
    "    19.7,\n",
    "    19.98,\n",
    "    -2998,\n",
    "    -498,\n",
    "    1.7,\n",
    "    1.98,\n",
    "    2500,\n",
    "    2999.7,\n",
    "    2999.98,\n",
    "    499.7,\n",
    "    499.98,\n",
    "    0.27999999999999997,\n",
    "]\n",
    "exp_list_2 = [\n",
    "    18,\n",
    "    2980,\n",
    "    480,\n",
    "    19.7,\n",
    "    19.98,\n",
    "    2998,\n",
    "    498,\n",
    "    1.7,\n",
    "    1.98,\n",
    "    2500,\n",
    "    2999.7,\n",
    "    2999.98,\n",
    "    499.7,\n",
    "    499.98,\n",
    "    0.27999999999999997,\n",
    "]\n",
    "\n",
    "try:\n",
    "    assert diff_weight == exp_list_1 or diff_weight == exp_list_2\n",
    "except AssertionError as msg:\n",
    "    print(\n",
    "        f\"I expect the list {exp_list_1}, \\n or {exp_list_2}, but your list is {diff_weight}\"\n",
    "    )\n",
    "    raise (msg)\n",
    "else:\n",
    "    print(\"Very well done!\")"
   ]
  },
  {
   "cell_type": "markdown",
   "metadata": {
    "id": "O8gb7kGCzDy8"
   },
   "source": [
    "## 6. Functions\n",
    "\n",
    "Functions are essential tools that allow us to reuse the same computations in different scenarios and write much cleaner code. Typically, a function takes some input(s), performs some computation on the input(s), and returns the output(s) (optional).  A function is defined with the `def` statement, and followed by the function name, parentheses `()` with arguments to the function, and a colon `:`. The body of the function is indented below the function definition. See an example below:"
   ]
  },
  {
   "cell_type": "code",
   "execution_count": null,
   "metadata": {
    "id": "cNA93ZFNzCAJ"
   },
   "outputs": [],
   "source": [
    "def my_first_function(arg1, arg2):\n",
    "    \"\"\"Optional explaination of the function.\"\"\"\n",
    "\n",
    "    # function body\n",
    "    print(arg1)\n",
    "    print(arg2)\n",
    "\n",
    "    return arg1 + arg2  # optional return statement"
   ]
  },
  {
   "cell_type": "code",
   "execution_count": null,
   "metadata": {
    "id": "voz7wOWMu411"
   },
   "outputs": [],
   "source": [
    "my_first_function(animals, [\"Raccoon\"])"
   ]
  },
  {
   "cell_type": "markdown",
   "metadata": {
    "id": "i2IgTxkSzTaU"
   },
   "source": [
    "Try it out yourself! Write a function called \"max_of_two\" that takes 2 numbers as input, and returns the larger one. "
   ]
  },
  {
   "cell_type": "code",
   "execution_count": null,
   "metadata": {
    "id": "3pUqvl911Rt3"
   },
   "outputs": [],
   "source": [
    "def max_of_two(# YOUR CODE HERE):\n",
    "  # YOUR CODE HERE\n",
    "    \n",
    "    return # YOUR CODE HERE"
   ]
  },
  {
   "cell_type": "code",
   "execution_count": null,
   "metadata": {
    "id": "dIkWqKtx11S2"
   },
   "outputs": [],
   "source": [
    "\"\"\"Test the above cell\"\"\"\n",
    "try:\n",
    "    assert max_of_two(1, 3) == 3 and max_of_two(4, 3) == 4\n",
    "except AssertionError as msg:\n",
    "    print(\"'max_of_two' function is not correctly defined.\")\n",
    "    raise (msg)\n",
    "else:\n",
    "    print(\"Incredible!\")"
   ]
  },
  {
   "cell_type": "markdown",
   "metadata": {},
   "source": [
    "**function vs. method**\n",
    "\n",
    "You may have already seen some expressions with the *.function( )* part such as the `append()` method. In Python, the *.function( )* part is called a method. Function and method are related but not the same, the main difference lies in **the association with an object**. Functions are standalone and are called by `function(arguments)`, while methods are functions that are associated with and operate on objects and are called by `object.method(arguments)`. Different types of objects in Python come with their own distinct set of methods.  \n",
    "\n",
    "How methods work exactly is not very important for now (this is related to object-oriented programming), and don't feel confused when you see different function/method calling expressions. If you are not sure whether something is a function or a method, just call it and learn by trial and error. "
   ]
  },
  {
   "cell_type": "markdown",
   "metadata": {
    "id": "aa8b_ryHmqFe"
   },
   "source": [
    "## homework 1\n",
    "python general\n",
    "create a function, that for an input list of integer numbers, calculates the number of odd and even numbers, returns both numbers\n",
    "\n",
    "the code should work regardless of the length of the list\n",
    "\n",
    "\n",
    "\n"
   ]
  },
  {
   "cell_type": "code",
   "execution_count": null,
   "metadata": {
    "id": "bjGGnvdlmuI4"
   },
   "outputs": [],
   "source": [
    "def count_int(any_list):\n",
    "    # YOUR CODE\n",
    "    # YOUR CODE\n",
    "    # YOUR CODE\n",
    "    # YOUR CODE\n",
    "    return num_even, num_odd"
   ]
  },
  {
   "cell_type": "markdown",
   "metadata": {
    "id": "uHoPro_Qr0Sl"
   },
   "source": [
    "## homework  2\n",
    "\n",
    "common elements\n",
    "\n",
    "write code that makes a new list, that contains the numbers only that occur in both lists\n",
    "\n"
   ]
  },
  {
   "cell_type": "code",
   "execution_count": null,
   "metadata": {
    "id": "IGTykq-Ir2eM"
   },
   "outputs": [],
   "source": [
    "list_1 = [\n",
    "    5,\n",
    "    7,\n",
    "    3,\n",
    "    23,\n",
    "    43,\n",
    "    532,\n",
    "    45,\n",
    "    5,\n",
    "    4,\n",
    "    4,\n",
    "    3,\n",
    "    32,\n",
    "    234,\n",
    "    35,\n",
    "    355,\n",
    "    3,\n",
    "    545,\n",
    "    45,\n",
    "    11,\n",
    "    2,\n",
    "    4,\n",
    "    6,\n",
    "    98,\n",
    "    2,\n",
    "    3,\n",
    "    5,\n",
    "    6,\n",
    "    2,\n",
    "    3,\n",
    "    45,\n",
    "    7,\n",
    "    4,\n",
    "    56,\n",
    "    54,\n",
    "    43,\n",
    "    3,\n",
    "]\n",
    "list_2 = [151, 1, 66, 44, 33, 22, 45, 23, 35]"
   ]
  },
  {
   "cell_type": "code",
   "execution_count": null,
   "metadata": {
    "id": "E6onw5mhJARq"
   },
   "outputs": [],
   "source": []
  }
 ],
 "metadata": {
  "colab": {
   "collapsed_sections": [],
   "name": " tewa1_tutorial_01_python_general.ipynb",
   "provenance": []
  },
  "kernelspec": {
   "display_name": "Python 3 (ipykernel)",
   "language": "python",
   "name": "python3"
  },
  "language_info": {
   "codemirror_mode": {
    "name": "ipython",
    "version": 3
   },
   "file_extension": ".py",
   "mimetype": "text/x-python",
   "name": "python",
   "nbconvert_exporter": "python",
   "pygments_lexer": "ipython3",
   "version": "3.11.0"
  }
 },
 "nbformat": 4,
 "nbformat_minor": 4
}
