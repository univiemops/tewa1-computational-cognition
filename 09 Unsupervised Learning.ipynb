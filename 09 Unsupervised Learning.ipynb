{
 "cells": [
  {
   "cell_type": "markdown",
   "metadata": {
    "id": "C5N8uXaLdary"
   },
   "source": [
    "# Tutorial 9 - Unsupervised Learning\n",
    "\n",
    "*Written and revised by Jozsef Arato, Mengfan Zhang, Dominik Pegler*  \n",
    "Computational Cognition Course, University of Vienna  \n",
    "https://github.com/univiemops/tewa1-computational-cognition\n",
    "\n",
    "---\n",
    "**This tutorial will cover:**\n",
    "\n",
    "1. multivariate gaussian distribution\n",
    "2. gaussian mixture model and k-means\n",
    "3. k-means for image processing\n",
    "4. PCA for image compression\n",
    "5. simualting n-dimensional random gaussian data\n",
    "6. visualize gmm, with probabilties \n",
    "\n",
    "---"
   ]
  },
  {
   "cell_type": "markdown",
   "metadata": {},
   "source": [
    "## 1. Imports"
   ]
  },
  {
   "cell_type": "code",
   "execution_count": null,
   "metadata": {
    "id": "itGsflo6rRrg"
   },
   "outputs": [],
   "source": [
    "import numpy as np\n",
    "from matplotlib import pyplot as plt"
   ]
  },
  {
   "cell_type": "markdown",
   "metadata": {
    "id": "GdnHPN3kO9TB"
   },
   "source": [
    "## 2. Creating 2D gaussian data"
   ]
  },
  {
   "cell_type": "markdown",
   "metadata": {
    "id": "ZzAP8TmcO_uq"
   },
   "source": [
    "### 2.1. Independent 2D gaussian data using a covariance matrix\n",
    "\n",
    "- use the `np.eye()` function to make an identity matrix\n",
    "- use such a covariance matrix to make random 2D gaussian data\n",
    "- for making such data, use  `np.random.multivariate_normal()`"
   ]
  },
  {
   "cell_type": "code",
   "execution_count": null,
   "metadata": {
    "colab": {
     "base_uri": "https://localhost:8080/"
    },
    "id": "15SWDFVWnfSU",
    "outputId": "54e2b529-0bba-45f4-d441-ca8013a16faa"
   },
   "outputs": [],
   "source": [
    "np.eye(3)  # 3by3 Identity matrix"
   ]
  },
  {
   "cell_type": "code",
   "execution_count": null,
   "metadata": {
    "colab": {
     "base_uri": "https://localhost:8080/",
     "height": 354
    },
    "id": "5AoY9jDZPC3C",
    "outputId": "a129ad55-5178-467b-9a36-9d899952ec84"
   },
   "outputs": [],
   "source": [
    "N=100\n",
    "Means=[0,0]  # use zero mean for X1 and X2\n",
    "# YOUR CODE\n",
    "Covar=np.eye(2)\n",
    "print(Covar)\n",
    "XX=np.random.multivariate_normal(# your code)\n",
    "plt.scatter(XX[:,0],XX[:,1])\n",
    "plt.xlabel('X1',fontsize=14)\n",
    "plt.ylabel('X2',fontsize=14)\n",
    "plt.title('Independent data')"
   ]
  },
  {
   "cell_type": "markdown",
   "metadata": {
    "id": "YCps-EKofSRF"
   },
   "source": [
    "### 2.2. Dependency with a covariance matrix\n",
    "\n",
    "Change the covariance matrix, such that the data is dependent, try different values, and make data with positive and negative correlation.\n",
    "\n"
   ]
  },
  {
   "cell_type": "code",
   "execution_count": null,
   "metadata": {
    "colab": {
     "base_uri": "https://localhost:8080/",
     "height": 354
    },
    "id": "AwaGbglQtomo",
    "outputId": "4e83733f-13f4-4459-be46-0c35e149c84f"
   },
   "outputs": [],
   "source": [
    "N=100\n",
    "Means=[0,0]  # use zero mean for X1 and X2\n",
    "# YOUR CODE\n",
    "Covar=np.eye(2)\n",
    "Covar[0,1]=# your code\n",
    "Covar[1,0]=# your code\n",
    "Covar[0,0]=# your code\n",
    "Covar[1,1]=# your code\n",
    "\n",
    "print(Covar)\n",
    "XX=np.random.multivariate_normal(Means,Covar,N)\n",
    "plt.scatter(XX[:,0],XX[:,1])\n",
    "plt.xlabel('X1',fontsize=14)\n",
    "plt.ylabel('X2',fontsize=14)\n",
    "plt.title('Dependent data')"
   ]
  },
  {
   "cell_type": "markdown",
   "metadata": {
    "id": "-R-WlW8KL9f8"
   },
   "source": [
    "## 3. Creating multivariate gaussian mixture data\n",
    "\n",
    "Make 3 datasets D1-D3, with different means for X1 and X2, combine them into a single numpy array, for example using `np.vstack()`."
   ]
  },
  {
   "cell_type": "code",
   "execution_count": null,
   "metadata": {
    "colab": {
     "base_uri": "https://localhost:8080/",
     "height": 301
    },
    "id": "-KUxliATreHP",
    "outputId": "d577c542-ec4f-4ae9-ac9c-fdb9592ef757"
   },
   "outputs": [],
   "source": [
    "Covar=np.eye(2)\n",
    "Covar[0,1]=.5\n",
    "Covar[1,0]=.5\n",
    "\n",
    "D1=np.random.multivariate_normal(# your code)\n",
    "\n",
    "Covar=np.eye(2)\n",
    "Covar[0,1]=-.5\n",
    "Covar[1,0]=-.5\n",
    "\n",
    "\n",
    "D2=np.random.multivariate_normal# your code)\n",
    "D3=np.random.multivariate_normal(# your code)\n",
    "XX=np.vstack((D1,D2,D3))\n",
    "plt.scatter(XX[:,0],XX[:,1])\n",
    "\n",
    "plt.xlabel('X1',fontsize=14)\n",
    "plt.ylabel('X2',fontsize=14)"
   ]
  },
  {
   "cell_type": "markdown",
   "metadata": {
    "id": "XEGp3CdJUQZV"
   },
   "source": [
    "## 4. Fitting gaussian mixture model"
   ]
  },
  {
   "cell_type": "code",
   "execution_count": null,
   "metadata": {
    "id": "TcRpxd3prjCC"
   },
   "outputs": [],
   "source": [
    "from sklearn.cluster import KMeans\n",
    "from sklearn.mixture import GaussianMixture"
   ]
  },
  {
   "cell_type": "markdown",
   "metadata": {
    "id": "q90rUxYMQlsl"
   },
   "source": [
    "set up model"
   ]
  },
  {
   "cell_type": "code",
   "execution_count": null,
   "metadata": {
    "id": "X4OpQmdqrkqF"
   },
   "outputs": [],
   "source": [
    "gm = gaussian_mixture(n_components=3)"
   ]
  },
  {
   "cell_type": "markdown",
   "metadata": {
    "id": "wzw3LdKzQj7f"
   },
   "source": [
    "To fit gaussian mixture  model change the number of components, and see how the model fit measures change observe the fitted score, covariance matrices, and model fit measures (BIC & AIC).\n"
   ]
  },
  {
   "cell_type": "code",
   "execution_count": null,
   "metadata": {
    "colab": {
     "base_uri": "https://localhost:8080/"
    },
    "id": "vS_LHxDarpEu",
    "outputId": "466a0037-145e-48af-c701-cc7b89134f0a"
   },
   "outputs": [],
   "source": [
    "gm.fit(XX)\n",
    "print('mean ',# your code)\n",
    "print('covar ',# your code)\n",
    "print('score ',# your code)   # average log-likelihood\n",
    "print('BIC ',gm.bic(XX))   # Bayesian information criterion\n",
    "print('AIC ',gm.aic(XX))  # Akaike information criterion"
   ]
  },
  {
   "cell_type": "code",
   "execution_count": null,
   "metadata": {
    "colab": {
     "base_uri": "https://localhost:8080/"
    },
    "id": "9Aocl3g8pKDn",
    "outputId": "aab03c6a-483f-44ed-940d-417fee998ab6"
   },
   "outputs": [],
   "source": [
    "gm.covariances_[1]"
   ]
  },
  {
   "cell_type": "code",
   "execution_count": null,
   "metadata": {
    "colab": {
     "base_uri": "https://localhost:8080/"
    },
    "id": "aKDUfqJhy9mv",
    "outputId": "b2e031f8-a21c-4dcb-ea52-9b17342e2b16"
   },
   "outputs": [],
   "source": [
    "gm.covariances_[0]"
   ]
  },
  {
   "cell_type": "code",
   "execution_count": null,
   "metadata": {
    "colab": {
     "base_uri": "https://localhost:8080/"
    },
    "id": "NiItIB4LzZM2",
    "outputId": "0aa938e2-0b75-44f2-b246-f77c463ab9eb"
   },
   "outputs": [],
   "source": [
    "gm.predict(xx)"
   ]
  },
  {
   "cell_type": "markdown",
   "metadata": {
    "id": "IImFIFq7BHZp"
   },
   "source": [
    "### 4.1. test the `predict()` method for the original data"
   ]
  },
  {
   "cell_type": "markdown",
   "metadata": {
    "id": "aqBkzd3SSqqP"
   },
   "source": [
    "Visualize prediction:"
   ]
  },
  {
   "cell_type": "code",
   "execution_count": null,
   "metadata": {
    "colab": {
     "base_uri": "https://localhost:8080/",
     "height": 301
    },
    "id": "_deU0-TCH9c3",
    "outputId": "4edafeb5-db27-424f-c495-432e9417705c"
   },
   "outputs": [],
   "source": [
    "plt.scatter(xx[:, 0], xx[:, 1], c=gm.predict(xx))\n",
    "plt.xlabel(\"X1\", fontsize=14)\n",
    "plt.ylabel(\"X2\", fontsize=14)"
   ]
  },
  {
   "cell_type": "markdown",
   "metadata": {
    "id": "qSua7j3eafPD"
   },
   "source": [
    "---\n",
    "\n",
    "*(Advanced part)*\n",
    "\n",
    "## 5. k-means\n",
    "\n",
    "### Repeat on the same data\n",
    "\n",
    "Try to repeat the above workflow, but with kmeans, instead of gaussian mixture, and visualize the result on the same data, do you get the same division with the 2 methods?"
   ]
  },
  {
   "cell_type": "code",
   "execution_count": null,
   "metadata": {
    "id": "m2segCQaa0F9"
   },
   "outputs": [],
   "source": [
    "#"
   ]
  },
  {
   "cell_type": "markdown",
   "metadata": {
    "id": "JV-m06ZcOHzp"
   },
   "source": [
    "### 5.1. Upload a photo of your choice"
   ]
  },
  {
   "cell_type": "code",
   "execution_count": null,
   "metadata": {
    "colab": {
     "base_uri": "https://localhost:8080/",
     "height": 73,
     "resources": {
      "http://localhost:8080/nbextensions/google.colab/files.js": {
       "data": "Ly8gQ29weXJpZ2h0IDIwMTcgR29vZ2xlIExMQwovLwovLyBMaWNlbnNlZCB1bmRlciB0aGUgQXBhY2hlIExpY2Vuc2UsIFZlcnNpb24gMi4wICh0aGUgIkxpY2Vuc2UiKTsKLy8geW91IG1heSBub3QgdXNlIHRoaXMgZmlsZSBleGNlcHQgaW4gY29tcGxpYW5jZSB3aXRoIHRoZSBMaWNlbnNlLgovLyBZb3UgbWF5IG9idGFpbiBhIGNvcHkgb2YgdGhlIExpY2Vuc2UgYXQKLy8KLy8gICAgICBodHRwOi8vd3d3LmFwYWNoZS5vcmcvbGljZW5zZXMvTElDRU5TRS0yLjAKLy8KLy8gVW5sZXNzIHJlcXVpcmVkIGJ5IGFwcGxpY2FibGUgbGF3IG9yIGFncmVlZCB0byBpbiB3cml0aW5nLCBzb2Z0d2FyZQovLyBkaXN0cmlidXRlZCB1bmRlciB0aGUgTGljZW5zZSBpcyBkaXN0cmlidXRlZCBvbiBhbiAiQVMgSVMiIEJBU0lTLAovLyBXSVRIT1VUIFdBUlJBTlRJRVMgT1IgQ09ORElUSU9OUyBPRiBBTlkgS0lORCwgZWl0aGVyIGV4cHJlc3Mgb3IgaW1wbGllZC4KLy8gU2VlIHRoZSBMaWNlbnNlIGZvciB0aGUgc3BlY2lmaWMgbGFuZ3VhZ2UgZ292ZXJuaW5nIHBlcm1pc3Npb25zIGFuZAovLyBsaW1pdGF0aW9ucyB1bmRlciB0aGUgTGljZW5zZS4KCi8qKgogKiBAZmlsZW92ZXJ2aWV3IEhlbHBlcnMgZm9yIGdvb2dsZS5jb2xhYiBQeXRob24gbW9kdWxlLgogKi8KKGZ1bmN0aW9uKHNjb3BlKSB7CmZ1bmN0aW9uIHNwYW4odGV4dCwgc3R5bGVBdHRyaWJ1dGVzID0ge30pIHsKICBjb25zdCBlbGVtZW50ID0gZG9jdW1lbnQuY3JlYXRlRWxlbWVudCgnc3BhbicpOwogIGVsZW1lbnQudGV4dENvbnRlbnQgPSB0ZXh0OwogIGZvciAoY29uc3Qga2V5IG9mIE9iamVjdC5rZXlzKHN0eWxlQXR0cmlidXRlcykpIHsKICAgIGVsZW1lbnQuc3R5bGVba2V5XSA9IHN0eWxlQXR0cmlidXRlc1trZXldOwogIH0KICByZXR1cm4gZWxlbWVudDsKfQoKLy8gTWF4IG51bWJlciBvZiBieXRlcyB3aGljaCB3aWxsIGJlIHVwbG9hZGVkIGF0IGEgdGltZS4KY29uc3QgTUFYX1BBWUxPQURfU0laRSA9IDEwMCAqIDEwMjQ7CgpmdW5jdGlvbiBfdXBsb2FkRmlsZXMoaW5wdXRJZCwgb3V0cHV0SWQpIHsKICBjb25zdCBzdGVwcyA9IHVwbG9hZEZpbGVzU3RlcChpbnB1dElkLCBvdXRwdXRJZCk7CiAgY29uc3Qgb3V0cHV0RWxlbWVudCA9IGRvY3VtZW50LmdldEVsZW1lbnRCeUlkKG91dHB1dElkKTsKICAvLyBDYWNoZSBzdGVwcyBvbiB0aGUgb3V0cHV0RWxlbWVudCB0byBtYWtlIGl0IGF2YWlsYWJsZSBmb3IgdGhlIG5leHQgY2FsbAogIC8vIHRvIHVwbG9hZEZpbGVzQ29udGludWUgZnJvbSBQeXRob24uCiAgb3V0cHV0RWxlbWVudC5zdGVwcyA9IHN0ZXBzOwoKICByZXR1cm4gX3VwbG9hZEZpbGVzQ29udGludWUob3V0cHV0SWQpOwp9CgovLyBUaGlzIGlzIHJvdWdobHkgYW4gYXN5bmMgZ2VuZXJhdG9yIChub3Qgc3VwcG9ydGVkIGluIHRoZSBicm93c2VyIHlldCksCi8vIHdoZXJlIHRoZXJlIGFyZSBtdWx0aXBsZSBhc3luY2hyb25vdXMgc3RlcHMgYW5kIHRoZSBQeXRob24gc2lkZSBpcyBnb2luZwovLyB0byBwb2xsIGZvciBjb21wbGV0aW9uIG9mIGVhY2ggc3RlcC4KLy8gVGhpcyB1c2VzIGEgUHJvbWlzZSB0byBibG9jayB0aGUgcHl0aG9uIHNpZGUgb24gY29tcGxldGlvbiBvZiBlYWNoIHN0ZXAsCi8vIHRoZW4gcGFzc2VzIHRoZSByZXN1bHQgb2YgdGhlIHByZXZpb3VzIHN0ZXAgYXMgdGhlIGlucHV0IHRvIHRoZSBuZXh0IHN0ZXAuCmZ1bmN0aW9uIF91cGxvYWRGaWxlc0NvbnRpbnVlKG91dHB1dElkKSB7CiAgY29uc3Qgb3V0cHV0RWxlbWVudCA9IGRvY3VtZW50LmdldEVsZW1lbnRCeUlkKG91dHB1dElkKTsKICBjb25zdCBzdGVwcyA9IG91dHB1dEVsZW1lbnQuc3RlcHM7CgogIGNvbnN0IG5leHQgPSBzdGVwcy5uZXh0KG91dHB1dEVsZW1lbnQubGFzdFByb21pc2VWYWx1ZSk7CiAgcmV0dXJuIFByb21pc2UucmVzb2x2ZShuZXh0LnZhbHVlLnByb21pc2UpLnRoZW4oKHZhbHVlKSA9PiB7CiAgICAvLyBDYWNoZSB0aGUgbGFzdCBwcm9taXNlIHZhbHVlIHRvIG1ha2UgaXQgYXZhaWxhYmxlIHRvIHRoZSBuZXh0CiAgICAvLyBzdGVwIG9mIHRoZSBnZW5lcmF0b3IuCiAgICBvdXRwdXRFbGVtZW50Lmxhc3RQcm9taXNlVmFsdWUgPSB2YWx1ZTsKICAgIHJldHVybiBuZXh0LnZhbHVlLnJlc3BvbnNlOwogIH0pOwp9CgovKioKICogR2VuZXJhdG9yIGZ1bmN0aW9uIHdoaWNoIGlzIGNhbGxlZCBiZXR3ZWVuIGVhY2ggYXN5bmMgc3RlcCBvZiB0aGUgdXBsb2FkCiAqIHByb2Nlc3MuCiAqIEBwYXJhbSB7c3RyaW5nfSBpbnB1dElkIEVsZW1lbnQgSUQgb2YgdGhlIGlucHV0IGZpbGUgcGlja2VyIGVsZW1lbnQuCiAqIEBwYXJhbSB7c3RyaW5nfSBvdXRwdXRJZCBFbGVtZW50IElEIG9mIHRoZSBvdXRwdXQgZGlzcGxheS4KICogQHJldHVybiB7IUl0ZXJhYmxlPCFPYmplY3Q+fSBJdGVyYWJsZSBvZiBuZXh0IHN0ZXBzLgogKi8KZnVuY3Rpb24qIHVwbG9hZEZpbGVzU3RlcChpbnB1dElkLCBvdXRwdXRJZCkgewogIGNvbnN0IGlucHV0RWxlbWVudCA9IGRvY3VtZW50LmdldEVsZW1lbnRCeUlkKGlucHV0SWQpOwogIGlucHV0RWxlbWVudC5kaXNhYmxlZCA9IGZhbHNlOwoKICBjb25zdCBvdXRwdXRFbGVtZW50ID0gZG9jdW1lbnQuZ2V0RWxlbWVudEJ5SWQob3V0cHV0SWQpOwogIG91dHB1dEVsZW1lbnQuaW5uZXJIVE1MID0gJyc7CgogIGNvbnN0IHBpY2tlZFByb21pc2UgPSBuZXcgUHJvbWlzZSgocmVzb2x2ZSkgPT4gewogICAgaW5wdXRFbGVtZW50LmFkZEV2ZW50TGlzdGVuZXIoJ2NoYW5nZScsIChlKSA9PiB7CiAgICAgIHJlc29sdmUoZS50YXJnZXQuZmlsZXMpOwogICAgfSk7CiAgfSk7CgogIGNvbnN0IGNhbmNlbCA9IGRvY3VtZW50LmNyZWF0ZUVsZW1lbnQoJ2J1dHRvbicpOwogIGlucHV0RWxlbWVudC5wYXJlbnRFbGVtZW50LmFwcGVuZENoaWxkKGNhbmNlbCk7CiAgY2FuY2VsLnRleHRDb250ZW50ID0gJ0NhbmNlbCB1cGxvYWQnOwogIGNvbnN0IGNhbmNlbFByb21pc2UgPSBuZXcgUHJvbWlzZSgocmVzb2x2ZSkgPT4gewogICAgY2FuY2VsLm9uY2xpY2sgPSAoKSA9PiB7CiAgICAgIHJlc29sdmUobnVsbCk7CiAgICB9OwogIH0pOwoKICAvLyBXYWl0IGZvciB0aGUgdXNlciB0byBwaWNrIHRoZSBmaWxlcy4KICBjb25zdCBmaWxlcyA9IHlpZWxkIHsKICAgIHByb21pc2U6IFByb21pc2UucmFjZShbcGlja2VkUHJvbWlzZSwgY2FuY2VsUHJvbWlzZV0pLAogICAgcmVzcG9uc2U6IHsKICAgICAgYWN0aW9uOiAnc3RhcnRpbmcnLAogICAgfQogIH07CgogIGNhbmNlbC5yZW1vdmUoKTsKCiAgLy8gRGlzYWJsZSB0aGUgaW5wdXQgZWxlbWVudCBzaW5jZSBmdXJ0aGVyIHBpY2tzIGFyZSBub3QgYWxsb3dlZC4KICBpbnB1dEVsZW1lbnQuZGlzYWJsZWQgPSB0cnVlOwoKICBpZiAoIWZpbGVzKSB7CiAgICByZXR1cm4gewogICAgICByZXNwb25zZTogewogICAgICAgIGFjdGlvbjogJ2NvbXBsZXRlJywKICAgICAgfQogICAgfTsKICB9CgogIGZvciAoY29uc3QgZmlsZSBvZiBmaWxlcykgewogICAgY29uc3QgbGkgPSBkb2N1bWVudC5jcmVhdGVFbGVtZW50KCdsaScpOwogICAgbGkuYXBwZW5kKHNwYW4oZmlsZS5uYW1lLCB7Zm9udFdlaWdodDogJ2JvbGQnfSkpOwogICAgbGkuYXBwZW5kKHNwYW4oCiAgICAgICAgYCgke2ZpbGUudHlwZSB8fCAnbi9hJ30pIC0gJHtmaWxlLnNpemV9IGJ5dGVzLCBgICsKICAgICAgICBgbGFzdCBtb2RpZmllZDogJHsKICAgICAgICAgICAgZmlsZS5sYXN0TW9kaWZpZWREYXRlID8gZmlsZS5sYXN0TW9kaWZpZWREYXRlLnRvTG9jYWxlRGF0ZVN0cmluZygpIDoKICAgICAgICAgICAgICAgICAgICAgICAgICAgICAgICAgICAgJ24vYSd9IC0gYCkpOwogICAgY29uc3QgcGVyY2VudCA9IHNwYW4oJzAlIGRvbmUnKTsKICAgIGxpLmFwcGVuZENoaWxkKHBlcmNlbnQpOwoKICAgIG91dHB1dEVsZW1lbnQuYXBwZW5kQ2hpbGQobGkpOwoKICAgIGNvbnN0IGZpbGVEYXRhUHJvbWlzZSA9IG5ldyBQcm9taXNlKChyZXNvbHZlKSA9PiB7CiAgICAgIGNvbnN0IHJlYWRlciA9IG5ldyBGaWxlUmVhZGVyKCk7CiAgICAgIHJlYWRlci5vbmxvYWQgPSAoZSkgPT4gewogICAgICAgIHJlc29sdmUoZS50YXJnZXQucmVzdWx0KTsKICAgICAgfTsKICAgICAgcmVhZGVyLnJlYWRBc0FycmF5QnVmZmVyKGZpbGUpOwogICAgfSk7CiAgICAvLyBXYWl0IGZvciB0aGUgZGF0YSB0byBiZSByZWFkeS4KICAgIGxldCBmaWxlRGF0YSA9IHlpZWxkIHsKICAgICAgcHJvbWlzZTogZmlsZURhdGFQcm9taXNlLAogICAgICByZXNwb25zZTogewogICAgICAgIGFjdGlvbjogJ2NvbnRpbnVlJywKICAgICAgfQogICAgfTsKCiAgICAvLyBVc2UgYSBjaHVua2VkIHNlbmRpbmcgdG8gYXZvaWQgbWVzc2FnZSBzaXplIGxpbWl0cy4gU2VlIGIvNjIxMTU2NjAuCiAgICBsZXQgcG9zaXRpb24gPSAwOwogICAgZG8gewogICAgICBjb25zdCBsZW5ndGggPSBNYXRoLm1pbihmaWxlRGF0YS5ieXRlTGVuZ3RoIC0gcG9zaXRpb24sIE1BWF9QQVlMT0FEX1NJWkUpOwogICAgICBjb25zdCBjaHVuayA9IG5ldyBVaW50OEFycmF5KGZpbGVEYXRhLCBwb3NpdGlvbiwgbGVuZ3RoKTsKICAgICAgcG9zaXRpb24gKz0gbGVuZ3RoOwoKICAgICAgY29uc3QgYmFzZTY0ID0gYnRvYShTdHJpbmcuZnJvbUNoYXJDb2RlLmFwcGx5KG51bGwsIGNodW5rKSk7CiAgICAgIHlpZWxkIHsKICAgICAgICByZXNwb25zZTogewogICAgICAgICAgYWN0aW9uOiAnYXBwZW5kJywKICAgICAgICAgIGZpbGU6IGZpbGUubmFtZSwKICAgICAgICAgIGRhdGE6IGJhc2U2NCwKICAgICAgICB9LAogICAgICB9OwoKICAgICAgbGV0IHBlcmNlbnREb25lID0gZmlsZURhdGEuYnl0ZUxlbmd0aCA9PT0gMCA/CiAgICAgICAgICAxMDAgOgogICAgICAgICAgTWF0aC5yb3VuZCgocG9zaXRpb24gLyBmaWxlRGF0YS5ieXRlTGVuZ3RoKSAqIDEwMCk7CiAgICAgIHBlcmNlbnQudGV4dENvbnRlbnQgPSBgJHtwZXJjZW50RG9uZX0lIGRvbmVgOwoKICAgIH0gd2hpbGUgKHBvc2l0aW9uIDwgZmlsZURhdGEuYnl0ZUxlbmd0aCk7CiAgfQoKICAvLyBBbGwgZG9uZS4KICB5aWVsZCB7CiAgICByZXNwb25zZTogewogICAgICBhY3Rpb246ICdjb21wbGV0ZScsCiAgICB9CiAgfTsKfQoKc2NvcGUuZ29vZ2xlID0gc2NvcGUuZ29vZ2xlIHx8IHt9OwpzY29wZS5nb29nbGUuY29sYWIgPSBzY29wZS5nb29nbGUuY29sYWIgfHwge307CnNjb3BlLmdvb2dsZS5jb2xhYi5fZmlsZXMgPSB7CiAgX3VwbG9hZEZpbGVzLAogIF91cGxvYWRGaWxlc0NvbnRpbnVlLAp9Owp9KShzZWxmKTsK",
       "headers": [
        [
         "content-type",
         "application/javascript"
        ]
       ],
       "ok": true,
       "status": 200,
       "status_text": ""
      }
     }
    },
    "id": "PILxZOE2VxTc",
    "outputId": "402722ff-64a5-43ca-a35d-564ef29d31be"
   },
   "outputs": [],
   "source": [
    "from google.colab import files\n",
    "\n",
    "uploaded = files.upload()"
   ]
  },
  {
   "cell_type": "markdown",
   "metadata": {
    "id": "S5QT7hIABcLF"
   },
   "source": [
    "due to computational issues, import minibatch kmeans"
   ]
  },
  {
   "cell_type": "code",
   "execution_count": null,
   "metadata": {
    "id": "68pWWYVdWk-P"
   },
   "outputs": [],
   "source": [
    "from sklearn.cluster import MiniBatchKMeans"
   ]
  },
  {
   "cell_type": "code",
   "execution_count": null,
   "metadata": {
    "colab": {
     "base_uri": "https://localhost:8080/"
    },
    "id": "DtLstCa4V0No",
    "outputId": "01e9ea07-8943-44a7-abc8-e33106dd754a"
   },
   "outputs": [],
   "source": [
    "from PIL import Image\n",
    "image = np.asarray(Image.open(# your image file))\n",
    "print('resolution',np.shape(# your code))"
   ]
  },
  {
   "cell_type": "code",
   "execution_count": null,
   "metadata": {
    "colab": {
     "base_uri": "https://localhost:8080/",
     "height": 254
    },
    "id": "RqQg3dxm1BQH",
    "outputId": "050d6adc-ff9a-4c5b-9078-ae0b6d804e87"
   },
   "outputs": [],
   "source": [
    "plt.imshow(image)"
   ]
  },
  {
   "cell_type": "code",
   "execution_count": null,
   "metadata": {
    "colab": {
     "base_uri": "https://localhost:8080/",
     "height": 287
    },
    "id": "kAEt_XdYsQ2E",
    "outputId": "dd8de36d-73c9-45f5-c5ca-6fac444e1ee2"
   },
   "outputs": [],
   "source": [
    "plt.imshow(image[:, 400:620, 0], cmap=\"Reds\")"
   ]
  },
  {
   "cell_type": "code",
   "execution_count": null,
   "metadata": {
    "colab": {
     "base_uri": "https://localhost:8080/",
     "height": 161
    },
    "id": "ehaIDO--0wgc",
    "outputId": "b543bab5-2a41-4f64-b2d7-9e73d2ef4b29"
   },
   "outputs": [],
   "source": [
    "plt.imshow(image[200:420, :, :])"
   ]
  },
  {
   "cell_type": "code",
   "execution_count": null,
   "metadata": {
    "colab": {
     "base_uri": "https://localhost:8080/",
     "height": 257
    },
    "id": "OdISH8SzbPjG",
    "outputId": "8a0f4356-25ba-425e-efb4-3b72fef4b929"
   },
   "outputs": [],
   "source": [
    "plt.imshow(image)"
   ]
  },
  {
   "cell_type": "markdown",
   "metadata": {
    "id": "37Qs4mCkOUU-"
   },
   "source": [
    "transform image into grayscale, using numpy"
   ]
  },
  {
   "cell_type": "code",
   "execution_count": null,
   "metadata": {
    "colab": {
     "base_uri": "https://localhost:8080/"
    },
    "id": "_p9Hbn8jOTjb",
    "outputId": "673225d6-6921-44bf-8e81-9398bc43b52b"
   },
   "outputs": [],
   "source": [
    "gray = np.mean(image, 2)\n",
    "res = np.shape(gray)\n",
    "\n",
    "gray_array = gray.reshape(-1, 1)  # 1 dimensional data array for machine learning\n",
    "print(np.shape(gray_array))"
   ]
  },
  {
   "cell_type": "code",
   "execution_count": null,
   "metadata": {
    "colab": {
     "base_uri": "https://localhost:8080/",
     "height": 257
    },
    "id": "l32SNWRPZStR",
    "outputId": "eef7781f-fccf-46c9-fb9f-d9a22144b182"
   },
   "outputs": [],
   "source": [
    "plt.imshow(gray, cmap=plt.get_cmap(\"gray\"))"
   ]
  },
  {
   "cell_type": "code",
   "execution_count": null,
   "metadata": {
    "colab": {
     "base_uri": "https://localhost:8080/",
     "height": 273
    },
    "id": "geknPWG7194Q",
    "outputId": "9c7ba397-1a7c-4df3-b512-89f8ace2d371"
   },
   "outputs": [],
   "source": [
    "gray = np.mean(image, 2)\n",
    "res = np.shape(gray)\n",
    "print(res)\n",
    "plt.imshow(gray, cmap=plt.get_cmap(\"gray\"))"
   ]
  },
  {
   "cell_type": "markdown",
   "metadata": {
    "id": "ErtqK0mvO5ba"
   },
   "source": [
    "### 5.2. Set up k-means algorithm\n",
    "\n",
    "if you have a large image, better to use MiniBatchKMeans"
   ]
  },
  {
   "cell_type": "code",
   "execution_count": null,
   "metadata": {
    "id": "ifyYN9eHWbBH"
   },
   "outputs": [],
   "source": [
    "km = mini_batch_k_means(n_clusters=6)"
   ]
  },
  {
   "cell_type": "markdown",
   "metadata": {
    "id": "5pSMny4CcAjV"
   },
   "source": [
    "use your 1d arrangment of pixel values, to fit the model"
   ]
  },
  {
   "cell_type": "code",
   "execution_count": null,
   "metadata": {
    "colab": {
     "base_uri": "https://localhost:8080/"
    },
    "id": "DJHbwwyEZPBf",
    "outputId": "ebe7910e-c0ed-486d-f03e-14e772079944"
   },
   "outputs": [],
   "source": [
    "km.fit(gray_array)"
   ]
  },
  {
   "cell_type": "code",
   "execution_count": null,
   "metadata": {
    "colab": {
     "base_uri": "https://localhost:8080/",
     "height": 359
    },
    "id": "NXhotkNE3S5Z",
    "outputId": "872da4c9-75fe-4c78-eb92-c281433c4a52"
   },
   "outputs": [],
   "source": [
    "plt.hist(gray_array)"
   ]
  },
  {
   "cell_type": "code",
   "execution_count": null,
   "metadata": {
    "colab": {
     "base_uri": "https://localhost:8080/"
    },
    "id": "sM7McAgSvhla",
    "outputId": "fc02e73a-d5ed-4979-e504-dabc1ffcb4d9"
   },
   "outputs": [],
   "source": [
    "km.cluster_centers_"
   ]
  },
  {
   "cell_type": "code",
   "execution_count": null,
   "metadata": {
    "colab": {
     "base_uri": "https://localhost:8080/"
    },
    "id": "fnWb9j0fxeSa",
    "outputId": "dcbc49c3-d9fc-4b1f-e92c-37e2792a4981"
   },
   "outputs": [],
   "source": [
    "gray_array[0:100].T"
   ]
  },
  {
   "cell_type": "code",
   "execution_count": null,
   "metadata": {
    "colab": {
     "base_uri": "https://localhost:8080/"
    },
    "id": "9uaGN8fjyR-G",
    "outputId": "7bc172e3-e333-4640-8727-05598694c420"
   },
   "outputs": [],
   "source": [
    "len(gray_array)"
   ]
  },
  {
   "cell_type": "code",
   "execution_count": null,
   "metadata": {
    "colab": {
     "base_uri": "https://localhost:8080/"
    },
    "id": "wZM9KVKwwhEA",
    "outputId": "f148fcd5-303c-479a-ce12-ad4797fd590b"
   },
   "outputs": [],
   "source": [
    "km.predict(gray_array)[0:100]  # print prediction for first 100 pixels"
   ]
  },
  {
   "cell_type": "markdown",
   "metadata": {
    "id": "mtHwh5jrO4Mt"
   },
   "source": [
    "### 5.3. Recover clustered image\n",
    "The tricky part is recovering the image, based on the model prediction\n",
    "\n",
    "for this, you will need to combine the predict() and the cluster_centers_\n",
    "\n",
    "finally you have to reshape from 1d to 2d to get back an image, that you can display\n",
    "\n",
    "\n"
   ]
  },
  {
   "cell_type": "code",
   "execution_count": null,
   "metadata": {
    "colab": {
     "base_uri": "https://localhost:8080/"
    },
    "id": "ZfnK03vWWr_-",
    "outputId": "d99f3346-28b7-4b77-d0c0-b238b8cfd055"
   },
   "outputs": [],
   "source": [
    "Preds=Km.predict(# your code)\n",
    "Km.cluster_centers_\n",
    "\n",
    "\n",
    "# your code"
   ]
  },
  {
   "cell_type": "markdown",
   "metadata": {
    "id": "qu0ZBJZlJxOs"
   },
   "source": [
    "#### 5.3.1. Vectorized solution"
   ]
  },
  {
   "cell_type": "code",
   "execution_count": null,
   "metadata": {
    "id": "oNJnvSjL8fPB"
   },
   "outputs": [],
   "source": [
    "prd_pix = km.cluster_centers_[preds]\n",
    "recover = prd_pix.reshape(res)"
   ]
  },
  {
   "cell_type": "markdown",
   "metadata": {
    "id": "AIJJJoGWJ0VT"
   },
   "source": [
    "#### 5.3.2 Iterative solution"
   ]
  },
  {
   "cell_type": "code",
   "execution_count": null,
   "metadata": {
    "id": "ym77JB288-SY"
   },
   "outputs": [],
   "source": [
    "pred_pix = np.zeros(len(preds))\n",
    "for i in range(len(preds)):\n",
    "    pred_pix[i] = km.cluster_centers_[preds[i]]\n",
    "recover = pred_pix.reshape(res)"
   ]
  },
  {
   "cell_type": "code",
   "execution_count": null,
   "metadata": {
    "colab": {
     "base_uri": "https://localhost:8080/",
     "height": 254
    },
    "id": "HhIqpFwU8AzQ",
    "outputId": "d281a7dd-d312-442f-f68d-cf1622be050b"
   },
   "outputs": [],
   "source": [
    "plt.imshow(recover, cmap=plt.get_cmap(\"gray\"))"
   ]
  },
  {
   "cell_type": "code",
   "execution_count": null,
   "metadata": {
    "colab": {
     "base_uri": "https://localhost:8080/",
     "height": 254
    },
    "id": "KGE5Gr1r9ua6",
    "outputId": "e46d0900-d240-4bbc-b054-40ccd0259a58"
   },
   "outputs": [],
   "source": [
    "plt.imshow(recover, cmap=plt.get_cmap(\"gray\"))"
   ]
  },
  {
   "cell_type": "code",
   "execution_count": null,
   "metadata": {
    "colab": {
     "base_uri": "https://localhost:8080/"
    },
    "id": "2c90lk7g7h_A",
    "outputId": "156001f9-fcfa-4802-d3e5-dbb125944341"
   },
   "outputs": [],
   "source": [
    "km.cluster_centers_"
   ]
  },
  {
   "cell_type": "markdown",
   "metadata": {
    "id": "I0UTIjiYcJ_1"
   },
   "source": [
    "visualize what you recovered"
   ]
  },
  {
   "cell_type": "code",
   "execution_count": null,
   "metadata": {
    "colab": {
     "base_uri": "https://localhost:8080/",
     "height": 257
    },
    "id": "kr9lbfdNktRC",
    "outputId": "e3c3de13-cf36-447e-9984-37c3c35dc807"
   },
   "outputs": [],
   "source": [
    "plt.imshow(recover, cmap=plt.get_cmap(\"gray\"))"
   ]
  },
  {
   "cell_type": "markdown",
   "metadata": {
    "id": "7nyEZKguXH4g"
   },
   "source": [
    "## 6. Principal component analysis\n",
    "\n",
    "lets test it on the same image as above.\n",
    "\n",
    "remember pca uses correlation (covariance) between columns for that can be used for a compressed represenation..\n"
   ]
  },
  {
   "cell_type": "code",
   "execution_count": null,
   "metadata": {
    "id": "WdxwO6knun8X"
   },
   "outputs": [],
   "source": [
    "from sklearn.decomposition import PCA"
   ]
  },
  {
   "cell_type": "code",
   "execution_count": null,
   "metadata": {
    "id": "7M0gQcwhCMf9"
   },
   "outputs": [],
   "source": [
    "pc = pca(n_components=2)"
   ]
  },
  {
   "cell_type": "code",
   "execution_count": null,
   "metadata": {
    "colab": {
     "base_uri": "https://localhost:8080/"
    },
    "id": "mL4PIm4OtvG0",
    "outputId": "bf7a33db-c5e5-4846-e748-6204efa3ad44"
   },
   "outputs": [],
   "source": [
    "pc.fit(gray)"
   ]
  },
  {
   "cell_type": "markdown",
   "metadata": {
    "id": "MK-qsF5LMaY8"
   },
   "source": [
    " fit_transform is the same as reducing the data, with the components of the fitted PCA:   gray.dot(pc.components_.T)"
   ]
  },
  {
   "cell_type": "code",
   "execution_count": null,
   "metadata": {
    "id": "c2UEOPkBDFKQ"
   },
   "outputs": [],
   "source": [
    "reduced = pc.fit_transform(gray)"
   ]
  },
  {
   "cell_type": "code",
   "execution_count": null,
   "metadata": {
    "colab": {
     "base_uri": "https://localhost:8080/"
    },
    "id": "QBvnJxH4J4TC",
    "outputId": "fb0914b6-7b97-42b3-bd3a-ab898b37cc17"
   },
   "outputs": [],
   "source": [
    "print(pc.explained_variance_)\n",
    "print(pc.explained_variance_ratio_)"
   ]
  },
  {
   "cell_type": "code",
   "execution_count": null,
   "metadata": {
    "colab": {
     "base_uri": "https://localhost:8080/"
    },
    "id": "nAypD0F8Iz0y",
    "outputId": "a5a01296-8666-427b-b185-ead257805631"
   },
   "outputs": [],
   "source": [
    "print(\"original shape\", np.shape(gray))\n",
    "print(\n",
    "    \"components\", np.shape(pc.components_)\n",
    ")  # components_ contains the \"loadings\", how much each columns contributes to the PCA-s\n",
    "print(\"reduced data\", np.shape(reduced))"
   ]
  },
  {
   "cell_type": "code",
   "execution_count": null,
   "metadata": {
    "id": "GcYNAJ_qAKue"
   },
   "outputs": [],
   "source": [
    "pc.components_"
   ]
  },
  {
   "cell_type": "code",
   "execution_count": null,
   "metadata": {
    "colab": {
     "base_uri": "https://localhost:8080/",
     "height": 257
    },
    "id": "FwVOjdTFLobv",
    "outputId": "962a6c5b-92e5-4f32-fa3a-c30e45663cd1"
   },
   "outputs": [],
   "source": [
    "plt.imshow(pc.inverse_transform(reduced), cmap=\"gray\")\n",
    "\n",
    "# gray.dot(pc.components_.T"
   ]
  },
  {
   "cell_type": "code",
   "execution_count": null,
   "metadata": {
    "colab": {
     "base_uri": "https://localhost:8080/",
     "height": 254
    },
    "id": "wQ-Hz7yo4wvl",
    "outputId": "4236e676-7ec0-4ebf-b2e7-1c19df9c3771"
   },
   "outputs": [],
   "source": [
    "plt.imshow(pc.inverse_transform(reduced), cmap=\"gray\")"
   ]
  },
  {
   "cell_type": "code",
   "execution_count": null,
   "metadata": {
    "colab": {
     "base_uri": "https://localhost:8080/",
     "height": 297
    },
    "id": "-5QykwSv4zHd",
    "outputId": "d66cb5c3-3cb8-4f4b-8bfe-7cc7fc7d3918"
   },
   "outputs": [],
   "source": [
    "plt.plot(pc.components_[0, :], label=\"pca1\")\n",
    "plt.plot(pc.components_[1, :], label=\"pca2\")\n",
    "plt.xlabel(\"pixels\")\n",
    "plt.ylabel(\"pca loadings\")\n",
    "plt.legend()"
   ]
  },
  {
   "cell_type": "code",
   "execution_count": null,
   "metadata": {
    "colab": {
     "base_uri": "https://localhost:8080/",
     "height": 297
    },
    "id": "9rfj5HoN43c8",
    "outputId": "6d0e6621-3b6a-4375-d77d-3c9c8a66b66c"
   },
   "outputs": [],
   "source": [
    "plt.scatter(\n",
    "    pc.components_[0, :], pc.components_[1, :], c=np.arange(np.shape(gray)[1])\n",
    ")  # ,label='pca1')\n",
    "plt.xlabel(\"PCA 1\")\n",
    "plt.ylabel(\"PCA 2\")\n",
    "plt.colorbar()"
   ]
  },
  {
   "cell_type": "code",
   "execution_count": null,
   "metadata": {
    "colab": {
     "base_uri": "https://localhost:8080/",
     "height": 254
    },
    "id": "PbDuhW3G47gj",
    "outputId": "6196624f-e05d-4f1e-91b9-58d61e05c05e"
   },
   "outputs": [],
   "source": [
    "plt.imshow(gray, cmap=\"gray\")"
   ]
  },
  {
   "cell_type": "code",
   "execution_count": null,
   "metadata": {
    "colab": {
     "base_uri": "https://localhost:8080/",
     "height": 296
    },
    "id": "1IdHTRGMKceD",
    "outputId": "f589a3b3-763e-4ec6-a910-aa953b5f5766"
   },
   "outputs": [],
   "source": [
    "plt.plot(pc.components_[0, :], label=\"pca1\")\n",
    "plt.plot(pc.components_[1, :], label=\"pca2\")\n",
    "plt.xlabel(\"pixels\")\n",
    "plt.ylabel(\"pca loadings\")\n",
    "plt.legend()"
   ]
  },
  {
   "cell_type": "markdown",
   "metadata": {
    "id": "m59zs8WdOfIt"
   },
   "source": [
    "PCA 1 vs 2, color coded by column number"
   ]
  },
  {
   "cell_type": "code",
   "execution_count": null,
   "metadata": {
    "colab": {
     "base_uri": "https://localhost:8080/",
     "height": 296
    },
    "id": "LhDUQ_0wN35L",
    "outputId": "3283d96a-dd27-4447-f480-49351f390be2"
   },
   "outputs": [],
   "source": [
    "plt.scatter(\n",
    "    pc.components_[0, :], pc.components_[1, :], c=np.arange(np.shape(gray)[1])\n",
    ")  # ,label='pca1')\n",
    "plt.xlabel(\"PCA 1\")\n",
    "plt.ylabel(\"PCA 2\")\n",
    "plt.colorbar()"
   ]
  },
  {
   "cell_type": "code",
   "execution_count": null,
   "metadata": {
    "colab": {
     "base_uri": "https://localhost:8080/",
     "height": 257
    },
    "id": "mkQvN7tRDvFK",
    "outputId": "3efe4485-6665-4166-a0ab-6736486f6ca1"
   },
   "outputs": [],
   "source": [
    "plt.imshow(gray, cmap=\"gray\")"
   ]
  },
  {
   "cell_type": "markdown",
   "metadata": {
    "id": "ChpajWFWZWDB"
   },
   "source": [
    "### 6.1. Testing multiple decompositions"
   ]
  },
  {
   "cell_type": "code",
   "execution_count": null,
   "metadata": {
    "colab": {
     "base_uri": "https://localhost:8080/",
     "height": 403
    },
    "id": "r5Rl3DzCDcDo",
    "outputId": "193c5c1a-21a9-47fb-8daa-64db339cf620"
   },
   "outputs": [],
   "source": [
    "plt.figure(figsize=(16, 10))\n",
    "for cc, nc in enumerate(np.arange(2, 30, 5)):\n",
    "    plt.subplot(3, 3, cc + 1)\n",
    "    pc = pca(n_components=nc)\n",
    "    reduced = pc.fit_transform(gray)\n",
    "    plt.imshow(pc.inverse_transform(reduced), cmap=\"gray\")\n",
    "    plt.title(\n",
    "        \"Num PC-s: \"\n",
    "        + str(nc)\n",
    "        + \" explained var:\"\n",
    "        + str(np.round(np.sum(pc.explained_variance_ratio_), 2))\n",
    "    )"
   ]
  },
  {
   "cell_type": "code",
   "execution_count": null,
   "metadata": {
    "colab": {
     "base_uri": "https://localhost:8080/"
    },
    "id": "aGDh_t-duDw_",
    "outputId": "06458dbc-fdd8-4880-9ed9-09b014dd7e8f"
   },
   "outputs": [],
   "source": []
  },
  {
   "cell_type": "code",
   "execution_count": null,
   "metadata": {
    "colab": {
     "base_uri": "https://localhost:8080/"
    },
    "id": "UFWc7mO9C09B",
    "outputId": "b1015953-d005-467e-a1cd-4a14159527e5"
   },
   "outputs": [],
   "source": [
    "np.shape(pc.components_)"
   ]
  },
  {
   "cell_type": "markdown",
   "metadata": {
    "id": "zTK1qDPFW832"
   },
   "source": [
    "### 6.2. Simulating multivariate data with many predictors\n"
   ]
  },
  {
   "cell_type": "code",
   "execution_count": null,
   "metadata": {
    "colab": {
     "base_uri": "https://localhost:8080/",
     "height": 281
    },
    "id": "WKKcUyFNaqTF",
    "outputId": "dd6aae6f-049f-4db0-e60f-417a2978e8b0"
   },
   "outputs": [],
   "source": [
    "n_var = 10  # number of variables\n",
    "means = np.zeros(n_var)  #  all with zero mean\n",
    "n_dat = 200  # number of data points\n",
    "a = np.random.normal(0, 1, (n_var, n_var))\n",
    "covar = np.dot(a, a.transpose())\n",
    "plt.pcolor(covar)\n",
    "plt.colorbar()\n",
    "plt.title(\"Random covariance matrix\")\n",
    "xtab = np.random.multivariate_normal(means, covar, n_dat)"
   ]
  },
  {
   "cell_type": "markdown",
   "metadata": {
    "id": "gwHy2wXGYiSm"
   },
   "source": [
    "with the above covariance matrix, we made a random dataset with 10 predictors\n",
    "\n",
    "1. calculate the empirical correlation matrix with numpy corrcoef (beware on row and columns defaults)\n",
    "2. or write your own code, and use scipy.stats.pearsonr\n",
    "3. visualize the empiricial correlation matrix as above"
   ]
  },
  {
   "cell_type": "code",
   "execution_count": null,
   "metadata": {
    "id": "Ja-5CrlNYrZI"
   },
   "outputs": [],
   "source": [
    "#"
   ]
  },
  {
   "cell_type": "markdown",
   "metadata": {
    "id": "_aj2uNhRYoRy"
   },
   "source": [
    "### 6.3. Print the first 20 rows and all columns of Xtab to \"see\" the data"
   ]
  },
  {
   "cell_type": "code",
   "execution_count": null,
   "metadata": {
    "id": "BIZGUgc2ZOJ2"
   },
   "outputs": [],
   "source": [
    "print(Xtab[# your code])"
   ]
  },
  {
   "cell_type": "markdown",
   "metadata": {
    "id": "aL6MMqjpYJZB"
   },
   "source": [
    "### 6.4. PCA on simulated data\n",
    "fitting pca and transforming the data into lower dimensions,"
   ]
  },
  {
   "cell_type": "code",
   "execution_count": null,
   "metadata": {
    "colab": {
     "base_uri": "https://localhost:8080/"
    },
    "id": "TQmcNCecX0NI",
    "outputId": "294fccc8-6a0b-4678-dc49-6c46bf3f226e"
   },
   "outputs": [],
   "source": [
    "pca = pca(n_components=2)\n",
    "dim_reduc_data = pca.fit_transform(xtab)\n",
    "\n",
    "np.shape(dim_reduc_data)"
   ]
  },
  {
   "cell_type": "markdown",
   "metadata": {
    "id": "3dTamDBkX9ca"
   },
   "source": [
    "visualize data, after dimensionality reduction"
   ]
  },
  {
   "cell_type": "code",
   "execution_count": null,
   "metadata": {
    "colab": {
     "base_uri": "https://localhost:8080/",
     "height": 296
    },
    "id": "0fbTiGjYX9tt",
    "outputId": "46a85af9-8963-4673-f4ee-3ebf2b731bfe"
   },
   "outputs": [],
   "source": [
    "plt.scatter(dim_reduc_data[:, 0], dim_reduc_data[:, 1])\n",
    "plt.xlabel(\"PC1\")\n",
    "plt.ylabel(\"PC2\")"
   ]
  },
  {
   "cell_type": "code",
   "execution_count": null,
   "metadata": {
    "colab": {
     "base_uri": "https://localhost:8080/",
     "height": 296
    },
    "id": "-VX3zlegeiZd",
    "outputId": "a789820a-92ba-4d63-f1e6-d82cabbf7668"
   },
   "outputs": [],
   "source": [
    "plt.scatter(pca.components_[0, :], pca.components_[1, :], c=np.arange(n_var))\n",
    "plt.xlabel(\"PC1\")\n",
    "plt.ylabel(\"PC2\")"
   ]
  },
  {
   "cell_type": "markdown",
   "metadata": {
    "id": "EowDOC2DUoQI"
   },
   "source": [
    "## 7. Visualizing gaussian mixture, with predicted probabilities\n",
    "\n",
    "set up params and fit model"
   ]
  },
  {
   "cell_type": "code",
   "execution_count": null,
   "metadata": {
    "colab": {
     "base_uri": "https://localhost:8080/"
    },
    "id": "ABR45M_nuF94",
    "outputId": "cd0f7253-bd4b-427a-d150-437428765bcb"
   },
   "outputs": [],
   "source": [
    "nc = 4\n",
    "gm = gaussian_mixture(n_components=nc)\n",
    "gm.fit(xx)"
   ]
  },
  {
   "cell_type": "markdown",
   "metadata": {
    "id": "_0FfHmMtT2c-"
   },
   "source": [
    "make predictions, and visualize"
   ]
  },
  {
   "cell_type": "code",
   "execution_count": null,
   "metadata": {
    "colab": {
     "base_uri": "https://localhost:8080/",
     "height": 334
    },
    "id": "lSDu0VL1uk6f",
    "outputId": "8a17cd62-f297-4712-c532-3af898885682"
   },
   "outputs": [],
   "source": [
    "cols = [\n",
    "    \"Reds\",\n",
    "    \"Blues\",\n",
    "    \"Greens\",\n",
    "    \"Purples\",\n",
    "    \"Greys\",\n",
    "]  # ,'olive','orange','darkred','marine']\n",
    "preds = gm.predict(xx)\n",
    "pred_p = gm.predict_proba(xx)\n",
    "print(np.shape(pred_p))\n",
    "plt.figure()\n",
    "for c in range(nc):\n",
    "    plt.scatter(\n",
    "        xx[preds == c, 0],\n",
    "        xx[preds == c, 1],\n",
    "        c=np.max(pred_p[preds == c, :], 1),\n",
    "        cmap=cols[c],\n",
    "    )\n",
    "plt.colorbar()\n",
    "plt.xlabel(\"X1\", fontsize=14)\n",
    "plt.ylabel(\"X2\", fontsize=14)\n",
    "plt.title(\"BIC: \" + str(np.round(gm.bic(xx))))"
   ]
  },
  {
   "cell_type": "markdown",
   "metadata": {
    "id": "QC6ZgTl6jIzO"
   },
   "source": [
    "## Homework 1\n",
    "\n",
    "1. use the above code to fit a gaussian mixture model to the same data with the number of clusters/components changing from 2 to 8. (all values from 2 to 8 with for loop).\n",
    "2. for each iteration, calculate the model fit measures BIC and AIC\n",
    "3. graph on a single graph, the number of iterations on the X-axis, and both AIC and BIC on the Y axis (with a line for AIC and another for BIC),\n",
    "4. remember to add axis labels and legends (to see which one is AIC, which is BIC), try to make it look nice, by chaning fontsize, color, linewidth etc.\n",
    "\n",
    "\n",
    "remember AIC and BIC are model fit measures, basedon the log-likelihood, and lower values indicate better model fit\n",
    "\n",
    "\n",
    "\n",
    "## Homework 2\n",
    "\n",
    "Implement k-means with NumPy only.\n",
    "\n",
    "Requirements:\n",
    "\n",
    "- number of centroids optional\n",
    "- intialize the centroids randomly (within the range of the data)\n",
    "- number of steps optional\n",
    "- keep track of distance (distance to closest centroid should descrease)\n",
    "\n",
    "\n",
    "\n",
    "\n",
    "\n"
   ]
  }
 ],
 "metadata": {
  "colab": {
   "provenance": []
  },
  "kernelspec": {
   "display_name": "Python 3 (ipykernel)",
   "language": "python",
   "name": "python3"
  },
  "language_info": {
   "codemirror_mode": {
    "name": "ipython",
    "version": 3
   },
   "file_extension": ".py",
   "mimetype": "text/x-python",
   "name": "python",
   "nbconvert_exporter": "python",
   "pygments_lexer": "ipython3",
   "version": "3.11.0"
  }
 },
 "nbformat": 4,
 "nbformat_minor": 4
}
